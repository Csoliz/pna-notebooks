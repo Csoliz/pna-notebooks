{
 "metadata": {
  "name": "nipype_ants"
 },
 "nbformat": 3,
 "nbformat_minor": 0,
 "worksheets": [
  {
   "cells": [
    {
     "cell_type": "markdown",
     "metadata": {},
     "source": [
      "In which I explore normalization using the [ANTS toolbox](http://www.picsl.upenn.edu/ANTS) running under [nipype](http://nipy.org/nipype)"
     ]
    },
    {
     "cell_type": "code",
     "collapsed": false,
     "input": [
      "%pylab inline"
     ],
     "language": "python",
     "metadata": {},
     "outputs": [
      {
       "output_type": "stream",
       "stream": "stdout",
       "text": [
        "\n",
        "Welcome to pylab, a matplotlib-based Python environment [backend: module://IPython.kernel.zmq.pylab.backend_inline].\n",
        "For more information, type 'help(pylab)'.\n"
       ]
      }
     ],
     "prompt_number": 1
    },
    {
     "cell_type": "code",
     "collapsed": false,
     "input": [
      "import numpy as np\n",
      "import matplotlib.pylab as plt"
     ],
     "language": "python",
     "metadata": {},
     "outputs": [],
     "prompt_number": 2
    },
    {
     "cell_type": "markdown",
     "metadata": {},
     "source": [
      "Do we have ANTS installed?"
     ]
    },
    {
     "cell_type": "code",
     "collapsed": false,
     "input": [
      "!ANTS --help"
     ],
     "language": "python",
     "metadata": {},
     "outputs": [
      {
       "output_type": "stream",
       "stream": "stdout",
       "text": [
        "\r\n",
        "COMMAND: \r\n",
        "       ANTS\r\n",
        "\r\n",
        "OPTIONS: \r\n",
        "       -x, --mask-image maskFileName\r\n",
        "              this mask -- defined in the 'fixed' image space defines the region of interest \r\n",
        "              over which the registration is computed ==> above 0.1 means inside mask ==> \r\n",
        "              continuous values in range [0.1,1.0] effect optimization like a probability. ==> \r\n",
        "              values > 1 are treated as = 1.0 \r\n",
        "\r\n",
        "       -m, --image-metric \r\n",
        "              The metric weights are relative to the weights on the N other metrics passed to \r\n",
        "              ANTS --- N is unlimited. So, the weight, w_i on the i^{th} metric will be \r\n",
        "              w_i=w_i/ ( sum_i w_i ).Intensity-Based Metrics: \r\n",
        "\r\n",
        "\t\tCC/cross-correlation/CrossCorrelation[fixedImage,movingImage,weight,radius/OrForMI-#histogramBins]\r\n",
        "\t\tMI/mutual-information/MutualInformation[fixedImage,movingImage,weight,radius/OrForMI-#histogramBins]\r\n",
        "\t\tSMI/spatial-mutual-information/SpatialMutualInformation[fixedImage,movingImage,weight,radius/OrForMI-#histogramBins]\r\n",
        "\t\tPR/probabilistic/Probabilistic[fixedImage,movingImage,weight,radius/OrForMI-#histogramBins]\r\n",
        "\t\tSSD\r\n",
        "--- standard intensity \r\n",
        "difference.[fixedImage,movingImage,weight,radius/OrForMI-#histogramBins]\r\n",
        "\t\tMSQ/mean-squares/MeanSquares\r\n",
        "-- demons-like, radius > 0 uses moving image gradient in metric \r\n",
        "              deriv.[fixedImage,movingImage,weight,radius/OrForMI-#histogramBins]\r\n",
        "\t \r\n",
        "              Point-Set-Based Metrics: \r\n",
        "\r\n",
        "\t\tPSE/point-set-expectation/PointSetExpectation[fixedImage,movingImage,fixedPoints,movingPoints,weight,pointSetPercentage,pointSetSigma,boundaryPointsOnly,kNeighborhood,\r\n",
        "PartialMatchingIterations=100000] \r\n",
        " the partial matching option assumes the \r\n",
        "              complete labeling is in the first set of label parameters ... more iterations \r\n",
        "              leads to more symmetry in the matching - 0 iterations means full asymmetry \r\n",
        "\r\n",
        "\t\t[fixedImage,movingImage,fixedPoints,movingPoints,weight,pointSetPercentage,pointSetSigma,boundaryPointsOnly,kNeighborhood,alpha,meshResolution,splineOrder,numberOfLevels,useAnisotropicCovariances]\r\n",
        "\r\n",
        "\r\n",
        "       -o, --output-naming \r\n",
        "              The name for the output - a prefix or a name+type : e.g. -o OUT or -o OUT.nii or \r\n",
        "              -o OUT.mha \r\n",
        "\r\n",
        "       --R \r\n",
        "              TODO/FIXME: the --R sets an ROI option -- it passes a vector of parameters that \r\n",
        "              sets the center and bounding box \r\n",
        " of the region of interest for a sub-field \r\n",
        "              registration. e.g. in 3D the option setting \r\n",
        " -r 10x12x15x50x50x25 \r\n",
        " sets up a \r\n",
        "              bounding box of size 50,50,25 with origin at 10,12,15 in voxel (should this be \r\n",
        "              physical?) coordinates. \r\n",
        "              <VALUES>: 0\r\n",
        "\r\n",
        "       -i, --number-of-iterations \r\n",
        "              number of iterations per level -- a 'vector' e.g. : 100x100x20 \r\n",
        "              <VALUES>: 10x10x5\r\n",
        "\r\n",
        "       --Restrict-Deformation \r\n",
        "              restrict the gradient that drives the deformation by scalar factors along \r\n",
        "              specified dimensions -- a TReal 'vector' of length ImageDimension to multiply \r\n",
        "              against the similarity metric's gradient values --- e.g. in 3D : 0.1x1x0 --- \r\n",
        "              will set the z gradient to zero and scale the x gradient by 0.1 and y by 1 (no \r\n",
        "              change). Thus, you get a 2.5-Dimensional registration as there is still 3D \r\n",
        "              continuity in the mapping. \r\n",
        "              <VALUES>: 1x1\r\n",
        "\r\n",
        "       -v, --verbose \r\n",
        "              verbose output \r\n",
        "\r\n",
        "       --use-all-metrics-for-convergence \r\n",
        "              enable to use weighted sum of all metric terms for convergence computation. By \r\n",
        "              default, only the first metric is used \r\n",
        "              <VALUES>: 0\r\n",
        "\r\n",
        "       -h \r\n",
        "              Print the help menu (short version). \r\n",
        "              <VALUES>: 0\r\n",
        "\r\n",
        "       --help \r\n",
        "              Print the help menu. \r\n",
        "              <VALUES>: 1, 0\r\n",
        "       -t, --transformation-model \r\n",
        "              \r\n",
        "TRANSFORMATION[gradient-step-length,number-of-time-steps,DeltaTime,symmetry-type].\r\n",
        "\t\r\n",
        "Choose one of the following TRANSFORMATIONS:\r\n",
        "\t\tDiff = diffeomorphic\r\n",
        "\t\tElast = \r\n",
        "              Elastic\r\n",
        "\t\tExp = exponential diff\r\n",
        "\t\t Greedy Exp = greedy exponential diff, like \r\n",
        "              diffeomorphic demons. same parameters. \r\n",
        "\t\tSyN -- symmetric normalization \r\n",
        " \r\n",
        " \r\n",
        "              DeltaTime is the integration time-discretization step - sub-voxel - n-time steps \r\n",
        "              currently fixed at 2 \r\n",
        "              <VALUES>: SyN[0.5]\r\n",
        "\r\n",
        "       -r, --regularization \r\n",
        "              REGULARIZATION[gradient-field-sigma,def-field-sigma,truncation].\r\n",
        "\t Choose one of \r\n",
        "              the following REGULARIZATIONS:\r\n",
        "\t\tGauss = gaussian\r\n",
        "\t\tDMFFD = directly manipulated \r\n",
        "              free form deformation \r\n",
        "              <VALUES>: Gauss[3,0.5]\r\n",
        "\r\n",
        "       -a, --initial-affine \r\n",
        "              use the input file as the initial affine parameter \r\n",
        "\r\n",
        "       -F, --fixed-image-initial-affine \r\n",
        "              use the input file as the initial affine parameter for the fixed image \r\n",
        "\r\n",
        "       --fixed-image-initial-affine-ref-image \r\n",
        "              reference space for using the input file as the initial affine parameter for the \r\n",
        "              fixed image \r\n",
        "\r\n",
        "       -T, --geodesic \r\n",
        "              = 0 / 1 / 2, 0 = not time-dependent, 1 = asymmetric , 2 = symmetric \r\n",
        "\r\n",
        "       -G, --go-faster \r\n",
        "              true / false -- if true, SyN is faster but loses some accuracy wrt \r\n",
        "              inverse-identity constraint, see Avants MIA 2008. \r\n",
        "              <VALUES>: false\r\n",
        "\r\n",
        "       --continue-affine \r\n",
        "              true (default) | false, do (not) perform affine given the initial affine \r\n",
        "              parameters \r\n",
        "              <VALUES>: true\r\n",
        "\r\n",
        "       --number-of-affine-iterations \r\n",
        "              number of iterations per level -- a 'vector' e.g. : 100x100x20 \r\n",
        "              <VALUES>: 10000x10000x10000\r\n",
        "\r\n",
        "       --use-NN \r\n",
        "              use nearest neighbor interpolation \r\n",
        "              <VALUES>: 0\r\n",
        "\r\n",
        "       --use-Histogram-Matching \r\n",
        "              use histogram matching of moving to fixed image \r\n",
        "              <VALUES>: 0\r\n",
        "\r\n",
        "       --affine-metric-type \r\n",
        "              MI: mutual information (default), MSQ: mean square error, SSD, CC: Normalized \r\n",
        "              correlation, CCH: Histogram-based correlation coefficient (not recommended), GD: \r\n",
        "              gradient difference (not recommended) \r\n",
        "              <VALUES>: MI\r\n",
        "\r\n",
        "       --MI-option \r\n",
        "              option of mutual information: MI_bins x MI_samples (default: 32x32000) \r\n",
        "              <VALUES>: 32x5000\r\n",
        "\r\n",
        "       --rigid-affine \r\n",
        "              use rigid transformation : true / false(default) \r\n",
        "              <VALUES>: false\r\n",
        "\r\n",
        "       --do-rigid \r\n",
        "              use rigid transformation : true / false(default) \r\n",
        "              <VALUES>: false\r\n",
        "\r\n",
        "       --affine-gradient-descent-option \r\n",
        "              option of gradient descent in affine transformation: maximum_step_length x \r\n",
        "              relaxation_factor x minimum_step_length x translation_scales \r\n",
        "              <VALUES>: 0.1x0.5x1.e-4x1.e-4\r\n",
        "\r\n",
        "       --use-rotation-header \r\n",
        "              use rotation matrix in image headers: true (default) / false \r\n",
        "              <VALUES>: false\r\n",
        "\r\n",
        "       --ignore-void-origin \r\n",
        "              ignore the apparently unmatched origins (when use-rotation-header is false and \r\n",
        "              the rotation matrix is identity: true (default) / false \r\n",
        "              <VALUES>: false\r\n",
        "\r\n",
        "       --gaussian-smoothing-sigmas \r\n",
        "              At each resolution level the image is subsampled and smoothed by Gaussian \r\n",
        "              convolution. This option allows the user to override the default smoothing by \r\n",
        "              specifying sigma values (in mm) for smoothing both fixed and moving images for \r\n",
        "              each resolution level. \r\n",
        "              <VALUES>: \r\n",
        "\r\n",
        "       --subsampling-factors \r\n",
        "              At each resolution level the image is subsampled and smoothed by Gaussian \r\n",
        "              convolution. This option allows the user to override the default subsampling by \r\n",
        "              specifying the subsampling factor for both fixed and moving images for each \r\n",
        "              resolution level. \r\n",
        "              <VALUES>: \r\n",
        "\r\n"
       ]
      }
     ],
     "prompt_number": 3
    },
    {
     "cell_type": "markdown",
     "metadata": {},
     "source": [
      "Do we have nipype installed?"
     ]
    },
    {
     "cell_type": "code",
     "collapsed": false,
     "input": [
      "import nipype\n",
      "nipype.__version__"
     ],
     "language": "python",
     "metadata": {},
     "outputs": [
      {
       "metadata": {},
       "output_type": "pyout",
       "prompt_number": 5,
       "text": [
        "'0.9.0.pre'"
       ]
      }
     ],
     "prompt_number": 5
    },
    {
     "cell_type": "code",
     "collapsed": false,
     "input": [
      "import os\n",
      "DATA_PATH = os.path.expanduser(os.path.join('~', 'data', 'ds105'))\n",
      "os.listdir(DATA_PATH)"
     ],
     "language": "python",
     "metadata": {},
     "outputs": [
      {
       "metadata": {},
       "output_type": "pyout",
       "prompt_number": 6,
       "text": [
        "['license.txt',\n",
        " 'models',\n",
        " 'README',\n",
        " 'references.txt',\n",
        " 'release_history.txt',\n",
        " 'scan_key.txt',\n",
        " 'study_key.txt',\n",
        " 'sub001',\n",
        " 'sub002',\n",
        " 'sub003',\n",
        " 'sub004',\n",
        " 'sub005',\n",
        " 'sub006',\n",
        " 'task_key.txt']"
       ]
      }
     ],
     "prompt_number": 6
    },
    {
     "cell_type": "code",
     "collapsed": false,
     "input": [
      "SUB01 = os.path.join(DATA_PATH, 'sub001')\n",
      "anat_fname = os.path.join(SUB01, 'anatomy', 'highres001.nii.gz')"
     ],
     "language": "python",
     "metadata": {},
     "outputs": [],
     "prompt_number": 7
    },
    {
     "cell_type": "code",
     "collapsed": false,
     "input": [
      "MNI_PATH = 'mni_icbm152_nlin_asym_09a'\n",
      "t2_fname = os.path.join(MNI_PATH, 'mni_icbm152_t2_tal_nlin_asym_09a.nii')"
     ],
     "language": "python",
     "metadata": {},
     "outputs": [],
     "prompt_number": 8
    },
    {
     "cell_type": "code",
     "collapsed": false,
     "input": [
      "from nipype.interfaces.ants import Registration"
     ],
     "language": "python",
     "metadata": {},
     "outputs": [],
     "prompt_number": 9
    },
    {
     "cell_type": "code",
     "collapsed": false,
     "input": [
      "reg = Registration()\n",
      "reg.inputs.fixed_image =  anat_fname\n",
      "reg.inputs.moving_image = t2_fname\n",
      "reg.inputs.output_transform_prefix = 'thisTransform'\n",
      "reg.inputs.output_warped_image = 'INTERNAL_WARPED.nii.gz'\n",
      "\n",
      "reg.inputs.transforms = ['Translation', 'Rigid', 'Affine', 'SyN']\n",
      "reg.inputs.transform_parameters = [(0.1,), (0.1,), (0.1,), (0.3, 3.0, 0.0)]\n",
      "reg.inputs.number_of_iterations = [[10000, 0, 0], [10000, 0, 0], [10000, 0, 0], [10, 0, 0]]\n",
      "reg.inputs.dimension = 3\n",
      "reg.inputs.write_composite_transform = True\n",
      "reg.inputs.collapse_output_transforms = True\n",
      "reg.inputs.metric = ['Mattes']*4\n",
      "reg.inputs.metric_weight = [1]*4 # Default (value ignored currently by ANTs)\n",
      "reg.inputs.radius_or_number_of_bins = [32]*4\n",
      "reg.inputs.sampling_strategy = ['Regular']*3 + [None]\n",
      "reg.inputs.sampling_percentage = [0.1]*3 + [None]\n",
      "reg.inputs.convergence_threshold = [1.e-8]*4\n",
      "reg.inputs.convergence_window_size = [20]*4\n",
      "reg.inputs.smoothing_sigmas = [[4,2,1]]*3 + [[2,1,0]]\n",
      "reg.inputs.sigma_units = ['vox']*4\n",
      "reg.inputs.shrink_factors = [[6,4,2]]*3 + [[4,2,1]]\n",
      "reg.inputs.use_estimate_learning_rate_once = [True, True, True, True]\n",
      "reg.inputs.use_histogram_matching = [False]*3 + [True] # This is the default\n",
      "reg.inputs.initial_moving_transform_com = True\n",
      "reg.inputs.output_warped_image = True\n",
      "reg.cmdline"
     ],
     "language": "python",
     "metadata": {},
     "outputs": [
      {
       "metadata": {},
       "output_type": "pyout",
       "prompt_number": 13,
       "text": [
        "'antsRegistration --collapse-linear-transforms-to-fixed-image-header 0 --collapse-output-transforms 1 --dimensionality 3 --initial-moving-transform [ /Users/mb312/data/ds105/sub001/anatomy/highres001.nii.gz, mni_icbm152_nlin_asym_09a/mni_icbm152_t2_tal_nlin_asym_09a.nii, 1 ] --interpolation Linear --output [ thisTransform, thisTransform_Warped.nii.gz ] --transform Translation[ 0.1 ] --metric Mattes[ /Users/mb312/data/ds105/sub001/anatomy/highres001.nii.gz, mni_icbm152_nlin_asym_09a/mni_icbm152_t2_tal_nlin_asym_09a.nii, 1, 32 ,Regular,0.1 ] --convergence [ 10000x0x0, 1e-08, 20 ] --smoothing-sigmas 4x2x1vox --shrink-factors 6x4x2 --use-estimate-learning-rate-once 1 --use-histogram-matching 0 --transform Rigid[ 0.1 ] --metric Mattes[ /Users/mb312/data/ds105/sub001/anatomy/highres001.nii.gz, mni_icbm152_nlin_asym_09a/mni_icbm152_t2_tal_nlin_asym_09a.nii, 1, 32 ,Regular,0.1 ] --convergence [ 10000x0x0, 1e-08, 20 ] --smoothing-sigmas 4x2x1vox --shrink-factors 6x4x2 --use-estimate-learning-rate-once 1 --use-histogram-matching 0 --transform Affine[ 0.1 ] --metric Mattes[ /Users/mb312/data/ds105/sub001/anatomy/highres001.nii.gz, mni_icbm152_nlin_asym_09a/mni_icbm152_t2_tal_nlin_asym_09a.nii, 1, 32 ,Regular,0.1 ] --convergence [ 10000x0x0, 1e-08, 20 ] --smoothing-sigmas 4x2x1vox --shrink-factors 6x4x2 --use-estimate-learning-rate-once 1 --use-histogram-matching 0 --transform SyN[ 0.3, 3.0, 0.0 ] --metric Mattes[ /Users/mb312/data/ds105/sub001/anatomy/highres001.nii.gz, mni_icbm152_nlin_asym_09a/mni_icbm152_t2_tal_nlin_asym_09a.nii, 1, 32  ] --convergence [ 10x0x0, 1e-08, 20 ] --smoothing-sigmas 2x1x0vox --shrink-factors 4x2x1 --use-estimate-learning-rate-once 1 --use-histogram-matching 1 --winsorize-image-intensities [ 0.0, 1.0 ]  --write-composite-transform 1'"
       ]
      }
     ],
     "prompt_number": 13
    },
    {
     "cell_type": "code",
     "collapsed": false,
     "input": [
      "reg.run()"
     ],
     "language": "python",
     "metadata": {},
     "outputs": [
      {
       "output_type": "stream",
       "stream": "stdout",
       "text": [
        "130523-18:33:49,537 interface INFO:\n",
        "\t stdout 2013-05-23T18:33:49.536612:=============================================================================\n"
       ]
      },
      {
       "output_type": "stream",
       "stream": "stdout",
       "text": [
        "130523-18:33:49,541 interface INFO:\n",
        "\t stdout 2013-05-23T18:33:49.536612:The composite transform is comprised of the following transforms (in order): \n"
       ]
      },
      {
       "output_type": "stream",
       "stream": "stdout",
       "text": [
        "130523-18:33:49,542 interface INFO:\n",
        "\t stdout 2013-05-23T18:33:49.536612:  1. Center of mass alignment using fixed image: /Users/mb312/data/ds105/sub001/anatomy/highres001.nii.gz and moving image: mni_icbm152_nlin_asym_09a/mni_icbm152_t2_tal_nlin_asym_09a.nii (type = TranslationTransform)\n"
       ]
      },
      {
       "output_type": "stream",
       "stream": "stdout",
       "text": [
        "130523-18:33:49,542 interface INFO:\n",
        "\t stdout 2013-05-23T18:33:49.536612:=============================================================================\n"
       ]
      },
      {
       "output_type": "stream",
       "stream": "stdout",
       "text": [
        "130523-18:33:49,573 interface INFO:\n",
        "\t stdout 2013-05-23T18:33:49.572786:  number of levels = 3\n"
       ]
      },
      {
       "output_type": "stream",
       "stream": "stdout",
       "text": [
        "130523-18:33:49,574 interface INFO:\n",
        "\t stdout 2013-05-23T18:33:49.572786:  number of levels = 3\n"
       ]
      },
      {
       "output_type": "stream",
       "stream": "stdout",
       "text": [
        "130523-18:33:49,576 interface INFO:\n",
        "\t stdout 2013-05-23T18:33:49.572786:  number of levels = 3\n"
       ]
      },
      {
       "output_type": "stream",
       "stream": "stdout",
       "text": [
        "130523-18:33:49,576 interface INFO:\n",
        "\t stdout 2013-05-23T18:33:49.572786:  number of levels = 3\n"
       ]
      },
      {
       "output_type": "stream",
       "stream": "stdout",
       "text": [
        "130523-18:33:49,579 interface INFO:\n",
        "\t stdout 2013-05-23T18:33:49.579090:  fixed image: /Users/mb312/data/ds105/sub001/anatomy/highres001.nii.gz\n"
       ]
      },
      {
       "output_type": "stream",
       "stream": "stdout",
       "text": [
        "130523-18:33:49,579 interface INFO:\n",
        "\t stdout 2013-05-23T18:33:49.579090:  moving image: mni_icbm152_nlin_asym_09a/mni_icbm152_t2_tal_nlin_asym_09a.nii\n"
       ]
      },
      {
       "output_type": "stream",
       "stream": "stdout",
       "text": [
        "130523-18:33:49,908 interface INFO:\n",
        "\t stdout 2013-05-23T18:33:49.908445:  fixed image: /Users/mb312/data/ds105/sub001/anatomy/highres001.nii.gz\n"
       ]
      },
      {
       "output_type": "stream",
       "stream": "stdout",
       "text": [
        "130523-18:33:49,909 interface INFO:\n",
        "\t stdout 2013-05-23T18:33:49.908445:  moving image: mni_icbm152_nlin_asym_09a/mni_icbm152_t2_tal_nlin_asym_09a.nii\n"
       ]
      },
      {
       "output_type": "stream",
       "stream": "stdout",
       "text": [
        "130523-18:33:50,315 interface INFO:\n",
        "\t stdout 2013-05-23T18:33:50.315211:  fixed image: /Users/mb312/data/ds105/sub001/anatomy/highres001.nii.gz\n"
       ]
      },
      {
       "output_type": "stream",
       "stream": "stdout",
       "text": [
        "130523-18:33:50,316 interface INFO:\n",
        "\t stdout 2013-05-23T18:33:50.315211:  moving image: mni_icbm152_nlin_asym_09a/mni_icbm152_t2_tal_nlin_asym_09a.nii\n"
       ]
      },
      {
       "output_type": "stream",
       "stream": "stdout",
       "text": [
        "130523-18:33:50,728 interface INFO:\n",
        "\t stdout 2013-05-23T18:33:50.728261:  fixed image: /Users/mb312/data/ds105/sub001/anatomy/highres001.nii.gz\n"
       ]
      },
      {
       "output_type": "stream",
       "stream": "stdout",
       "text": [
        "130523-18:33:50,729 interface INFO:\n",
        "\t stdout 2013-05-23T18:33:50.728261:  moving image: mni_icbm152_nlin_asym_09a/mni_icbm152_t2_tal_nlin_asym_09a.nii\n"
       ]
      },
      {
       "output_type": "stream",
       "stream": "stdout",
       "text": [
        "130523-18:33:51,149 interface INFO:\n",
        "\t stdout 2013-05-23T18:33:51.149084:Dimension = 3\n"
       ]
      },
      {
       "output_type": "stream",
       "stream": "stdout",
       "text": [
        "130523-18:33:51,149 interface INFO:\n",
        "\t stdout 2013-05-23T18:33:51.149084:Number of stages = 4\n"
       ]
      },
      {
       "output_type": "stream",
       "stream": "stdout",
       "text": [
        "130523-18:33:51,150 interface INFO:\n",
        "\t stdout 2013-05-23T18:33:51.149084:Use Histogram Matching true\n"
       ]
      },
      {
       "output_type": "stream",
       "stream": "stdout",
       "text": [
        "130523-18:33:51,150 interface INFO:\n",
        "\t stdout 2013-05-23T18:33:51.149084:Winsorize Image Intensities true\n"
       ]
      },
      {
       "output_type": "stream",
       "stream": "stdout",
       "text": [
        "130523-18:33:51,151 interface INFO:\n",
        "\t stdout 2013-05-23T18:33:51.149084:Lower Quantile = 0\n"
       ]
      },
      {
       "output_type": "stream",
       "stream": "stdout",
       "text": [
        "130523-18:33:51,151 interface INFO:\n",
        "\t stdout 2013-05-23T18:33:51.149084:Upper Quantile = 1\n"
       ]
      },
      {
       "output_type": "stream",
       "stream": "stdout",
       "text": [
        "130523-18:33:51,152 interface INFO:\n",
        "\t stdout 2013-05-23T18:33:51.152073:Stage 1 State\n"
       ]
      },
      {
       "output_type": "stream",
       "stream": "stdout",
       "text": [
        "130523-18:33:51,152 interface INFO:\n",
        "\t stdout 2013-05-23T18:33:51.152073:   Metric = Mattes\n"
       ]
      },
      {
       "output_type": "stream",
       "stream": "stdout",
       "text": [
        "130523-18:33:51,153 interface INFO:\n",
        "\t stdout 2013-05-23T18:33:51.152073:     Fixed Image = Image (0x100525660)\n"
       ]
      },
      {
       "output_type": "stream",
       "stream": "stdout",
       "text": [
        "130523-18:33:51,153 interface INFO:\n",
        "\t stdout 2013-05-23T18:33:51.152073:  RTTI typeinfo:   itk::Image<double, 3u>\n"
       ]
      },
      {
       "output_type": "stream",
       "stream": "stdout",
       "text": [
        "130523-18:33:51,154 interface INFO:\n",
        "\t stdout 2013-05-23T18:33:51.152073:  Reference Count: 2\n"
       ]
      },
      {
       "output_type": "stream",
       "stream": "stdout",
       "text": [
        "130523-18:33:51,154 interface INFO:\n",
        "\t stdout 2013-05-23T18:33:51.152073:  Modified Time: 1423\n"
       ]
      },
      {
       "output_type": "stream",
       "stream": "stdout",
       "text": [
        "130523-18:33:51,154 interface INFO:\n",
        "\t stdout 2013-05-23T18:33:51.152073:  Debug: Off\n"
       ]
      },
      {
       "output_type": "stream",
       "stream": "stdout",
       "text": [
        "130523-18:33:51,155 interface INFO:\n",
        "\t stdout 2013-05-23T18:33:51.152073:  Observers: \n"
       ]
      },
      {
       "output_type": "stream",
       "stream": "stdout",
       "text": [
        "130523-18:33:51,155 interface INFO:\n",
        "\t stdout 2013-05-23T18:33:51.152073:    none\n"
       ]
      },
      {
       "output_type": "stream",
       "stream": "stdout",
       "text": [
        "130523-18:33:51,156 interface INFO:\n",
        "\t stdout 2013-05-23T18:33:51.152073:  Source: (none)\n"
       ]
      },
      {
       "output_type": "stream",
       "stream": "stdout",
       "text": [
        "130523-18:33:51,156 interface INFO:\n",
        "\t stdout 2013-05-23T18:33:51.152073:  Source output name: (none)\n"
       ]
      },
      {
       "output_type": "stream",
       "stream": "stdout",
       "text": [
        "130523-18:33:51,156 interface INFO:\n",
        "\t stdout 2013-05-23T18:33:51.152073:  Release Data: Off\n"
       ]
      },
      {
       "output_type": "stream",
       "stream": "stdout",
       "text": [
        "130523-18:33:51,157 interface INFO:\n",
        "\t stdout 2013-05-23T18:33:51.152073:  Data Released: False\n"
       ]
      },
      {
       "output_type": "stream",
       "stream": "stdout",
       "text": [
        "130523-18:33:51,157 interface INFO:\n",
        "\t stdout 2013-05-23T18:33:51.152073:  Global Release Data: Off\n"
       ]
      },
      {
       "output_type": "stream",
       "stream": "stdout",
       "text": [
        "130523-18:33:51,158 interface INFO:\n",
        "\t stdout 2013-05-23T18:33:51.152073:  PipelineMTime: 0\n"
       ]
      },
      {
       "output_type": "stream",
       "stream": "stdout",
       "text": [
        "130523-18:33:51,158 interface INFO:\n",
        "\t stdout 2013-05-23T18:33:51.152073:  UpdateMTime: 1262\n"
       ]
      },
      {
       "output_type": "stream",
       "stream": "stdout",
       "text": [
        "130523-18:33:51,158 interface INFO:\n",
        "\t stdout 2013-05-23T18:33:51.152073:  RealTimeStamp: 0 seconds \n"
       ]
      },
      {
       "output_type": "stream",
       "stream": "stdout",
       "text": [
        "130523-18:33:51,159 interface INFO:\n",
        "\t stdout 2013-05-23T18:33:51.152073:  LargestPossibleRegion: \n"
       ]
      },
      {
       "output_type": "stream",
       "stream": "stdout",
       "text": [
        "130523-18:33:51,159 interface INFO:\n",
        "\t stdout 2013-05-23T18:33:51.152073:    Dimension: 3\n"
       ]
      },
      {
       "output_type": "stream",
       "stream": "stdout",
       "text": [
        "130523-18:33:51,160 interface INFO:\n",
        "\t stdout 2013-05-23T18:33:51.152073:    Index: [0, 0, 0]\n"
       ]
      },
      {
       "output_type": "stream",
       "stream": "stdout",
       "text": [
        "130523-18:33:51,160 interface INFO:\n",
        "\t stdout 2013-05-23T18:33:51.152073:    Size: [124, 256, 256]\n"
       ]
      },
      {
       "output_type": "stream",
       "stream": "stdout",
       "text": [
        "130523-18:33:51,160 interface INFO:\n",
        "\t stdout 2013-05-23T18:33:51.152073:  BufferedRegion: \n"
       ]
      },
      {
       "output_type": "stream",
       "stream": "stdout",
       "text": [
        "130523-18:33:51,161 interface INFO:\n",
        "\t stdout 2013-05-23T18:33:51.152073:    Dimension: 3\n"
       ]
      },
      {
       "output_type": "stream",
       "stream": "stdout",
       "text": [
        "130523-18:33:51,161 interface INFO:\n",
        "\t stdout 2013-05-23T18:33:51.152073:    Index: [0, 0, 0]\n"
       ]
      },
      {
       "output_type": "stream",
       "stream": "stdout",
       "text": [
        "130523-18:33:51,162 interface INFO:\n",
        "\t stdout 2013-05-23T18:33:51.152073:    Size: [124, 256, 256]\n"
       ]
      },
      {
       "output_type": "stream",
       "stream": "stdout",
       "text": [
        "130523-18:33:51,162 interface INFO:\n",
        "\t stdout 2013-05-23T18:33:51.152073:  RequestedRegion: \n"
       ]
      },
      {
       "output_type": "stream",
       "stream": "stdout",
       "text": [
        "130523-18:33:51,162 interface INFO:\n",
        "\t stdout 2013-05-23T18:33:51.152073:    Dimension: 3\n"
       ]
      },
      {
       "output_type": "stream",
       "stream": "stdout",
       "text": [
        "130523-18:33:51,163 interface INFO:\n",
        "\t stdout 2013-05-23T18:33:51.152073:    Index: [0, 0, 0]\n"
       ]
      },
      {
       "output_type": "stream",
       "stream": "stdout",
       "text": [
        "130523-18:33:51,163 interface INFO:\n",
        "\t stdout 2013-05-23T18:33:51.152073:    Size: [124, 256, 256]\n"
       ]
      },
      {
       "output_type": "stream",
       "stream": "stdout",
       "text": [
        "130523-18:33:51,164 interface INFO:\n",
        "\t stdout 2013-05-23T18:33:51.152073:  Spacing: [1.2, 0.9375, 0.9375]\n"
       ]
      },
      {
       "output_type": "stream",
       "stream": "stdout",
       "text": [
        "130523-18:33:51,164 interface INFO:\n",
        "\t stdout 2013-05-23T18:33:51.152073:  Origin: [0, 0, 0]\n"
       ]
      },
      {
       "output_type": "stream",
       "stream": "stdout",
       "text": [
        "130523-18:33:51,165 interface INFO:\n",
        "\t stdout 2013-05-23T18:33:51.152073:  Direction: \n"
       ]
      },
      {
       "output_type": "stream",
       "stream": "stdout",
       "text": [
        "130523-18:33:51,165 interface INFO:\n",
        "\t stdout 2013-05-23T18:33:51.152073:1 0 0\n"
       ]
      },
      {
       "output_type": "stream",
       "stream": "stdout",
       "text": [
        "130523-18:33:51,165 interface INFO:\n",
        "\t stdout 2013-05-23T18:33:51.152073:0 1 0\n"
       ]
      },
      {
       "output_type": "stream",
       "stream": "stdout",
       "text": [
        "130523-18:33:51,166 interface INFO:\n",
        "\t stdout 2013-05-23T18:33:51.152073:0 0 1\n"
       ]
      },
      {
       "output_type": "stream",
       "stream": "stdout",
       "text": [
        "130523-18:33:51,166 interface INFO:\n",
        "\t stdout 2013-05-23T18:33:51.152073:\n"
       ]
      },
      {
       "output_type": "stream",
       "stream": "stdout",
       "text": [
        "130523-18:33:51,167 interface INFO:\n",
        "\t stdout 2013-05-23T18:33:51.152073:  IndexToPointMatrix: \n"
       ]
      },
      {
       "output_type": "stream",
       "stream": "stdout",
       "text": [
        "130523-18:33:51,167 interface INFO:\n",
        "\t stdout 2013-05-23T18:33:51.152073:  1.2 0 0\n"
       ]
      },
      {
       "output_type": "stream",
       "stream": "stdout",
       "text": [
        "130523-18:33:51,168 interface INFO:\n",
        "\t stdout 2013-05-23T18:33:51.152073:0 0.9375 0\n"
       ]
      },
      {
       "output_type": "stream",
       "stream": "stdout",
       "text": [
        "130523-18:33:51,168 interface INFO:\n",
        "\t stdout 2013-05-23T18:33:51.152073:0 0 0.9375\n"
       ]
      },
      {
       "output_type": "stream",
       "stream": "stdout",
       "text": [
        "130523-18:33:51,169 interface INFO:\n",
        "\t stdout 2013-05-23T18:33:51.152073:\n"
       ]
      },
      {
       "output_type": "stream",
       "stream": "stdout",
       "text": [
        "130523-18:33:51,170 interface INFO:\n",
        "\t stdout 2013-05-23T18:33:51.152073:  PointToIndexMatrix: \n"
       ]
      },
      {
       "output_type": "stream",
       "stream": "stdout",
       "text": [
        "130523-18:33:51,170 interface INFO:\n",
        "\t stdout 2013-05-23T18:33:51.152073:  0.833333 0 0\n"
       ]
      },
      {
       "output_type": "stream",
       "stream": "stdout",
       "text": [
        "130523-18:33:51,170 interface INFO:\n",
        "\t stdout 2013-05-23T18:33:51.152073:0 1.06667 0\n"
       ]
      },
      {
       "output_type": "stream",
       "stream": "stdout",
       "text": [
        "130523-18:33:51,171 interface INFO:\n",
        "\t stdout 2013-05-23T18:33:51.152073:0 0 1.06667\n"
       ]
      },
      {
       "output_type": "stream",
       "stream": "stdout",
       "text": [
        "130523-18:33:51,171 interface INFO:\n",
        "\t stdout 2013-05-23T18:33:51.152073:\n"
       ]
      },
      {
       "output_type": "stream",
       "stream": "stdout",
       "text": [
        "130523-18:33:51,172 interface INFO:\n",
        "\t stdout 2013-05-23T18:33:51.152073:  Inverse Direction: \n"
       ]
      },
      {
       "output_type": "stream",
       "stream": "stdout",
       "text": [
        "130523-18:33:51,172 interface INFO:\n",
        "\t stdout 2013-05-23T18:33:51.152073:  1 0 0\n"
       ]
      },
      {
       "output_type": "stream",
       "stream": "stdout",
       "text": [
        "130523-18:33:51,172 interface INFO:\n",
        "\t stdout 2013-05-23T18:33:51.152073:0 1 0\n"
       ]
      },
      {
       "output_type": "stream",
       "stream": "stdout",
       "text": [
        "130523-18:33:51,173 interface INFO:\n",
        "\t stdout 2013-05-23T18:33:51.152073:0 0 1\n"
       ]
      },
      {
       "output_type": "stream",
       "stream": "stdout",
       "text": [
        "130523-18:33:51,173 interface INFO:\n",
        "\t stdout 2013-05-23T18:33:51.152073:\n"
       ]
      },
      {
       "output_type": "stream",
       "stream": "stdout",
       "text": [
        "130523-18:33:51,174 interface INFO:\n",
        "\t stdout 2013-05-23T18:33:51.152073:  PixelContainer: \n"
       ]
      },
      {
       "output_type": "stream",
       "stream": "stdout",
       "text": [
        "130523-18:33:51,174 interface INFO:\n",
        "\t stdout 2013-05-23T18:33:51.152073:    ImportImageContainer (0x100527880)\n"
       ]
      },
      {
       "output_type": "stream",
       "stream": "stdout",
       "text": [
        "130523-18:33:51,174 interface INFO:\n",
        "\t stdout 2013-05-23T18:33:51.152073:      RTTI typeinfo:   itk::ImportImageContainer<unsigned long, double>\n"
       ]
      },
      {
       "output_type": "stream",
       "stream": "stdout",
       "text": [
        "130523-18:33:51,175 interface INFO:\n",
        "\t stdout 2013-05-23T18:33:51.152073:      Reference Count: 1\n"
       ]
      },
      {
       "output_type": "stream",
       "stream": "stdout",
       "text": [
        "130523-18:33:51,175 interface INFO:\n",
        "\t stdout 2013-05-23T18:33:51.152073:      Modified Time: 1259\n"
       ]
      },
      {
       "output_type": "stream",
       "stream": "stdout",
       "text": [
        "130523-18:33:51,176 interface INFO:\n",
        "\t stdout 2013-05-23T18:33:51.152073:      Debug: Off\n"
       ]
      },
      {
       "output_type": "stream",
       "stream": "stdout",
       "text": [
        "130523-18:33:51,176 interface INFO:\n",
        "\t stdout 2013-05-23T18:33:51.152073:      Observers: \n"
       ]
      },
      {
       "output_type": "stream",
       "stream": "stdout",
       "text": [
        "130523-18:33:51,176 interface INFO:\n",
        "\t stdout 2013-05-23T18:33:51.152073:        none\n"
       ]
      },
      {
       "output_type": "stream",
       "stream": "stdout",
       "text": [
        "130523-18:33:51,177 interface INFO:\n",
        "\t stdout 2013-05-23T18:33:51.152073:      Pointer: 0x101000000\n"
       ]
      },
      {
       "output_type": "stream",
       "stream": "stdout",
       "text": [
        "130523-18:33:51,177 interface INFO:\n",
        "\t stdout 2013-05-23T18:33:51.152073:      Container manages memory: true\n"
       ]
      },
      {
       "output_type": "stream",
       "stream": "stdout",
       "text": [
        "130523-18:33:51,177 interface INFO:\n",
        "\t stdout 2013-05-23T18:33:51.152073:      Size: 8126464\n"
       ]
      },
      {
       "output_type": "stream",
       "stream": "stdout",
       "text": [
        "130523-18:33:51,178 interface INFO:\n",
        "\t stdout 2013-05-23T18:33:51.152073:      Capacity: 8126464\n"
       ]
      },
      {
       "output_type": "stream",
       "stream": "stdout",
       "text": [
        "130523-18:33:51,178 interface INFO:\n",
        "\t stdout 2013-05-23T18:33:51.152073:\n"
       ]
      },
      {
       "output_type": "stream",
       "stream": "stdout",
       "text": [
        "130523-18:33:51,180 interface INFO:\n",
        "\t stdout 2013-05-23T18:33:51.152073:     Moving Image = Image (0x100511e00)\n"
       ]
      },
      {
       "output_type": "stream",
       "stream": "stdout",
       "text": [
        "130523-18:33:51,180 interface INFO:\n",
        "\t stdout 2013-05-23T18:33:51.152073:  RTTI typeinfo:   itk::Image<double, 3u>\n"
       ]
      },
      {
       "output_type": "stream",
       "stream": "stdout",
       "text": [
        "130523-18:33:51,181 interface INFO:\n",
        "\t stdout 2013-05-23T18:33:51.152073:  Reference Count: 2\n"
       ]
      },
      {
       "output_type": "stream",
       "stream": "stdout",
       "text": [
        "130523-18:33:51,182 interface INFO:\n",
        "\t stdout 2013-05-23T18:33:51.152073:  Modified Time: 1424\n"
       ]
      },
      {
       "output_type": "stream",
       "stream": "stdout",
       "text": [
        "130523-18:33:51,182 interface INFO:\n",
        "\t stdout 2013-05-23T18:33:51.152073:  Debug: Off\n"
       ]
      },
      {
       "output_type": "stream",
       "stream": "stdout",
       "text": [
        "130523-18:33:51,183 interface INFO:\n",
        "\t stdout 2013-05-23T18:33:51.152073:  Observers: \n"
       ]
      },
      {
       "output_type": "stream",
       "stream": "stdout",
       "text": [
        "130523-18:33:51,183 interface INFO:\n",
        "\t stdout 2013-05-23T18:33:51.152073:    none\n"
       ]
      },
      {
       "output_type": "stream",
       "stream": "stdout",
       "text": [
        "130523-18:33:51,184 interface INFO:\n",
        "\t stdout 2013-05-23T18:33:51.152073:  Source: (none)\n"
       ]
      },
      {
       "output_type": "stream",
       "stream": "stdout",
       "text": [
        "130523-18:33:51,184 interface INFO:\n",
        "\t stdout 2013-05-23T18:33:51.152073:  Source output name: (none)\n"
       ]
      },
      {
       "output_type": "stream",
       "stream": "stdout",
       "text": [
        "130523-18:33:51,185 interface INFO:\n",
        "\t stdout 2013-05-23T18:33:51.152073:  Release Data: Off\n"
       ]
      },
      {
       "output_type": "stream",
       "stream": "stdout",
       "text": [
        "130523-18:33:51,186 interface INFO:\n",
        "\t stdout 2013-05-23T18:33:51.152073:  Data Released: False\n"
       ]
      },
      {
       "output_type": "stream",
       "stream": "stdout",
       "text": [
        "130523-18:33:51,188 interface INFO:\n",
        "\t stdout 2013-05-23T18:33:51.152073:  Global Release Data: Off\n"
       ]
      },
      {
       "output_type": "stream",
       "stream": "stdout",
       "text": [
        "130523-18:33:51,189 interface INFO:\n",
        "\t stdout 2013-05-23T18:33:51.152073:  PipelineMTime: 0\n"
       ]
      },
      {
       "output_type": "stream",
       "stream": "stdout",
       "text": [
        "130523-18:33:51,190 interface INFO:\n",
        "\t stdout 2013-05-23T18:33:51.152073:  UpdateMTime: 1421\n"
       ]
      },
      {
       "output_type": "stream",
       "stream": "stdout",
       "text": [
        "130523-18:33:51,191 interface INFO:\n",
        "\t stdout 2013-05-23T18:33:51.152073:  RealTimeStamp: 0 seconds \n"
       ]
      },
      {
       "output_type": "stream",
       "stream": "stdout",
       "text": [
        "130523-18:33:51,191 interface INFO:\n",
        "\t stdout 2013-05-23T18:33:51.152073:  LargestPossibleRegion: \n"
       ]
      },
      {
       "output_type": "stream",
       "stream": "stdout",
       "text": [
        "130523-18:33:51,193 interface INFO:\n",
        "\t stdout 2013-05-23T18:33:51.152073:    Dimension: 3\n"
       ]
      },
      {
       "output_type": "stream",
       "stream": "stdout",
       "text": [
        "130523-18:33:51,196 interface INFO:\n",
        "\t stdout 2013-05-23T18:33:51.152073:    Index: [0, 0, 0]\n"
       ]
      },
      {
       "output_type": "stream",
       "stream": "stdout",
       "text": [
        "130523-18:33:51,197 interface INFO:\n",
        "\t stdout 2013-05-23T18:33:51.152073:    Size: [197, 233, 189]\n"
       ]
      },
      {
       "output_type": "stream",
       "stream": "stdout",
       "text": [
        "130523-18:33:51,200 interface INFO:\n",
        "\t stdout 2013-05-23T18:33:51.152073:  BufferedRegion: \n"
       ]
      },
      {
       "output_type": "stream",
       "stream": "stdout",
       "text": [
        "130523-18:33:51,200 interface INFO:\n",
        "\t stdout 2013-05-23T18:33:51.152073:    Dimension: 3\n"
       ]
      },
      {
       "output_type": "stream",
       "stream": "stdout",
       "text": [
        "130523-18:33:51,202 interface INFO:\n",
        "\t stdout 2013-05-23T18:33:51.152073:    Index: [0, 0, 0]\n"
       ]
      },
      {
       "output_type": "stream",
       "stream": "stdout",
       "text": [
        "130523-18:33:51,203 interface INFO:\n",
        "\t stdout 2013-05-23T18:33:51.152073:    Size: [197, 233, 189]\n"
       ]
      },
      {
       "output_type": "stream",
       "stream": "stdout",
       "text": [
        "130523-18:33:51,204 interface INFO:\n",
        "\t stdout 2013-05-23T18:33:51.152073:  RequestedRegion: \n"
       ]
      },
      {
       "output_type": "stream",
       "stream": "stdout",
       "text": [
        "130523-18:33:51,204 interface INFO:\n",
        "\t stdout 2013-05-23T18:33:51.152073:    Dimension: 3\n"
       ]
      },
      {
       "output_type": "stream",
       "stream": "stdout",
       "text": [
        "130523-18:33:51,205 interface INFO:\n",
        "\t stdout 2013-05-23T18:33:51.152073:    Index: [0, 0, 0]\n"
       ]
      },
      {
       "output_type": "stream",
       "stream": "stdout",
       "text": [
        "130523-18:33:51,205 interface INFO:\n",
        "\t stdout 2013-05-23T18:33:51.152073:    Size: [197, 233, 189]\n"
       ]
      },
      {
       "output_type": "stream",
       "stream": "stdout",
       "text": [
        "130523-18:33:51,205 interface INFO:\n",
        "\t stdout 2013-05-23T18:33:51.152073:  Spacing: [1, 1, 1]\n"
       ]
      },
      {
       "output_type": "stream",
       "stream": "stdout",
       "text": [
        "130523-18:33:51,206 interface INFO:\n",
        "\t stdout 2013-05-23T18:33:51.152073:  Origin: [98, 134, -72]\n"
       ]
      },
      {
       "output_type": "stream",
       "stream": "stdout",
       "text": [
        "130523-18:33:51,206 interface INFO:\n",
        "\t stdout 2013-05-23T18:33:51.152073:  Direction: \n"
       ]
      },
      {
       "output_type": "stream",
       "stream": "stdout",
       "text": [
        "130523-18:33:51,207 interface INFO:\n",
        "\t stdout 2013-05-23T18:33:51.152073:-1 0 0\n"
       ]
      },
      {
       "output_type": "stream",
       "stream": "stdout",
       "text": [
        "130523-18:33:51,207 interface INFO:\n",
        "\t stdout 2013-05-23T18:33:51.152073:0 -1 0\n"
       ]
      },
      {
       "output_type": "stream",
       "stream": "stdout",
       "text": [
        "130523-18:33:51,207 interface INFO:\n",
        "\t stdout 2013-05-23T18:33:51.152073:0 0 1\n"
       ]
      },
      {
       "output_type": "stream",
       "stream": "stdout",
       "text": [
        "130523-18:33:51,208 interface INFO:\n",
        "\t stdout 2013-05-23T18:33:51.152073:\n"
       ]
      },
      {
       "output_type": "stream",
       "stream": "stdout",
       "text": [
        "130523-18:33:51,208 interface INFO:\n",
        "\t stdout 2013-05-23T18:33:51.152073:  IndexToPointMatrix: \n"
       ]
      },
      {
       "output_type": "stream",
       "stream": "stdout",
       "text": [
        "130523-18:33:51,209 interface INFO:\n",
        "\t stdout 2013-05-23T18:33:51.152073:  -1 0 0\n"
       ]
      },
      {
       "output_type": "stream",
       "stream": "stdout",
       "text": [
        "130523-18:33:51,210 interface INFO:\n",
        "\t stdout 2013-05-23T18:33:51.152073:0 -1 0\n"
       ]
      },
      {
       "output_type": "stream",
       "stream": "stdout",
       "text": [
        "130523-18:33:51,211 interface INFO:\n",
        "\t stdout 2013-05-23T18:33:51.152073:0 0 1\n"
       ]
      },
      {
       "output_type": "stream",
       "stream": "stdout",
       "text": [
        "130523-18:33:51,212 interface INFO:\n",
        "\t stdout 2013-05-23T18:33:51.152073:\n"
       ]
      },
      {
       "output_type": "stream",
       "stream": "stdout",
       "text": [
        "130523-18:33:51,213 interface INFO:\n",
        "\t stdout 2013-05-23T18:33:51.152073:  PointToIndexMatrix: \n"
       ]
      },
      {
       "output_type": "stream",
       "stream": "stdout",
       "text": [
        "130523-18:33:51,234 interface INFO:\n",
        "\t stdout 2013-05-23T18:33:51.152073:  -1 0 0\n"
       ]
      },
      {
       "output_type": "stream",
       "stream": "stdout",
       "text": [
        "130523-18:33:51,236 interface INFO:\n",
        "\t stdout 2013-05-23T18:33:51.152073:0 -1 0\n"
       ]
      },
      {
       "output_type": "stream",
       "stream": "stdout",
       "text": [
        "130523-18:33:51,237 interface INFO:\n",
        "\t stdout 2013-05-23T18:33:51.152073:0 0 1\n"
       ]
      },
      {
       "output_type": "stream",
       "stream": "stdout",
       "text": [
        "130523-18:33:51,238 interface INFO:\n",
        "\t stdout 2013-05-23T18:33:51.152073:\n"
       ]
      },
      {
       "output_type": "stream",
       "stream": "stdout",
       "text": [
        "130523-18:33:51,239 interface INFO:\n",
        "\t stdout 2013-05-23T18:33:51.152073:  Inverse Direction: \n"
       ]
      },
      {
       "output_type": "stream",
       "stream": "stdout",
       "text": [
        "130523-18:33:51,241 interface INFO:\n",
        "\t stdout 2013-05-23T18:33:51.152073:  -1 0 0\n"
       ]
      },
      {
       "output_type": "stream",
       "stream": "stdout",
       "text": [
        "130523-18:33:51,243 interface INFO:\n",
        "\t stdout 2013-05-23T18:33:51.152073:0 -1 0\n"
       ]
      },
      {
       "output_type": "stream",
       "stream": "stdout",
       "text": [
        "130523-18:33:51,245 interface INFO:\n",
        "\t stdout 2013-05-23T18:33:51.152073:0 0 1\n"
       ]
      },
      {
       "output_type": "stream",
       "stream": "stdout",
       "text": [
        "130523-18:33:51,246 interface INFO:\n",
        "\t stdout 2013-05-23T18:33:51.152073:\n"
       ]
      },
      {
       "output_type": "stream",
       "stream": "stdout",
       "text": [
        "130523-18:33:51,246 interface INFO:\n",
        "\t stdout 2013-05-23T18:33:51.152073:  PixelContainer: \n"
       ]
      },
      {
       "output_type": "stream",
       "stream": "stdout",
       "text": [
        "130523-18:33:51,247 interface INFO:\n",
        "\t stdout 2013-05-23T18:33:51.152073:    ImportImageContainer (0x100529120)\n"
       ]
      },
      {
       "output_type": "stream",
       "stream": "stdout",
       "text": [
        "130523-18:33:51,247 interface INFO:\n",
        "\t stdout 2013-05-23T18:33:51.152073:      RTTI typeinfo:   itk::ImportImageContainer<unsigned long, double>\n"
       ]
      },
      {
       "output_type": "stream",
       "stream": "stdout",
       "text": [
        "130523-18:33:51,248 interface INFO:\n",
        "\t stdout 2013-05-23T18:33:51.152073:      Reference Count: 1\n"
       ]
      },
      {
       "output_type": "stream",
       "stream": "stdout",
       "text": [
        "130523-18:33:51,248 interface INFO:\n",
        "\t stdout 2013-05-23T18:33:51.152073:      Modified Time: 1418\n"
       ]
      },
      {
       "output_type": "stream",
       "stream": "stdout",
       "text": [
        "130523-18:33:51,249 interface INFO:\n",
        "\t stdout 2013-05-23T18:33:51.152073:      Debug: Off\n"
       ]
      },
      {
       "output_type": "stream",
       "stream": "stdout",
       "text": [
        "130523-18:33:51,250 interface INFO:\n",
        "\t stdout 2013-05-23T18:33:51.152073:      Observers: \n"
       ]
      },
      {
       "output_type": "stream",
       "stream": "stdout",
       "text": [
        "130523-18:33:51,251 interface INFO:\n",
        "\t stdout 2013-05-23T18:33:51.152073:        none\n"
       ]
      },
      {
       "output_type": "stream",
       "stream": "stdout",
       "text": [
        "130523-18:33:51,261 interface INFO:\n",
        "\t stdout 2013-05-23T18:33:51.152073:      Pointer: 0x106d00000\n"
       ]
      },
      {
       "output_type": "stream",
       "stream": "stdout",
       "text": [
        "130523-18:33:51,262 interface INFO:\n",
        "\t stdout 2013-05-23T18:33:51.152073:      Container manages memory: true\n"
       ]
      },
      {
       "output_type": "stream",
       "stream": "stdout",
       "text": [
        "130523-18:33:51,262 interface INFO:\n",
        "\t stdout 2013-05-23T18:33:51.152073:      Size: 8675289\n"
       ]
      },
      {
       "output_type": "stream",
       "stream": "stdout",
       "text": [
        "130523-18:33:51,262 interface INFO:\n",
        "\t stdout 2013-05-23T18:33:51.152073:      Capacity: 8675289\n"
       ]
      },
      {
       "output_type": "stream",
       "stream": "stdout",
       "text": [
        "130523-18:33:51,263 interface INFO:\n",
        "\t stdout 2013-05-23T18:33:51.152073:\n"
       ]
      },
      {
       "output_type": "stream",
       "stream": "stdout",
       "text": [
        "130523-18:33:51,263 interface INFO:\n",
        "\t stdout 2013-05-23T18:33:51.152073:     Weighting = 1\n"
       ]
      },
      {
       "output_type": "stream",
       "stream": "stdout",
       "text": [
        "130523-18:33:51,263 interface INFO:\n",
        "\t stdout 2013-05-23T18:33:51.152073:     Sampling Strategy = regular\n"
       ]
      },
      {
       "output_type": "stream",
       "stream": "stdout",
       "text": [
        "130523-18:33:51,264 interface INFO:\n",
        "\t stdout 2013-05-23T18:33:51.152073:     NumberOfBins = 32\n"
       ]
      },
      {
       "output_type": "stream",
       "stream": "stdout",
       "text": [
        "130523-18:33:51,264 interface INFO:\n",
        "\t stdout 2013-05-23T18:33:51.152073:     Radius = 1\n"
       ]
      },
      {
       "output_type": "stream",
       "stream": "stdout",
       "text": [
        "130523-18:33:51,265 interface INFO:\n",
        "\t stdout 2013-05-23T18:33:51.152073:     Sampling percentage  = 0.1\n"
       ]
      },
      {
       "output_type": "stream",
       "stream": "stdout",
       "text": [
        "130523-18:33:51,265 interface INFO:\n",
        "\t stdout 2013-05-23T18:33:51.152073:   Transform = Translation\n"
       ]
      },
      {
       "output_type": "stream",
       "stream": "stdout",
       "text": [
        "130523-18:33:51,266 interface INFO:\n",
        "\t stdout 2013-05-23T18:33:51.152073:     Gradient Step = 0.1\n"
       ]
      },
      {
       "output_type": "stream",
       "stream": "stdout",
       "text": [
        "130523-18:33:51,268 interface INFO:\n",
        "\t stdout 2013-05-23T18:33:51.152073:     Update Field Sigma (voxel space) = 0\n"
       ]
      },
      {
       "output_type": "stream",
       "stream": "stdout",
       "text": [
        "130523-18:33:51,268 interface INFO:\n",
        "\t stdout 2013-05-23T18:33:51.152073:     Total Field Sigma (voxel space) = 0\n"
       ]
      },
      {
       "output_type": "stream",
       "stream": "stdout",
       "text": [
        "130523-18:33:51,271 interface INFO:\n",
        "\t stdout 2013-05-23T18:33:51.152073:     Update Field Time Sigma = 0\n"
       ]
      },
      {
       "output_type": "stream",
       "stream": "stdout",
       "text": [
        "130523-18:33:51,272 interface INFO:\n",
        "\t stdout 2013-05-23T18:33:51.152073:     Total Field Time Sigma  = 0\n"
       ]
      },
      {
       "output_type": "stream",
       "stream": "stdout",
       "text": [
        "130523-18:33:51,275 interface INFO:\n",
        "\t stdout 2013-05-23T18:33:51.152073:     Number of Time Indices = 0\n"
       ]
      },
      {
       "output_type": "stream",
       "stream": "stdout",
       "text": [
        "130523-18:33:51,276 interface INFO:\n",
        "\t stdout 2013-05-23T18:33:51.152073:     Number of Time Point Samples = 0\n"
       ]
      },
      {
       "output_type": "stream",
       "stream": "stdout",
       "text": [
        "130523-18:33:51,277 interface INFO:\n",
        "\t stdout 2013-05-23T18:33:51.152073:Stage 2 State\n"
       ]
      },
      {
       "output_type": "stream",
       "stream": "stdout",
       "text": [
        "130523-18:33:51,278 interface INFO:\n",
        "\t stdout 2013-05-23T18:33:51.152073:   Metric = Mattes\n"
       ]
      },
      {
       "output_type": "stream",
       "stream": "stdout",
       "text": [
        "130523-18:33:51,278 interface INFO:\n",
        "\t stdout 2013-05-23T18:33:51.152073:     Fixed Image = Image (0x10051ee70)\n"
       ]
      },
      {
       "output_type": "stream",
       "stream": "stdout",
       "text": [
        "130523-18:33:51,286 interface INFO:\n",
        "\t stdout 2013-05-23T18:33:51.152073:  RTTI typeinfo:   itk::Image<double, 3u>\n"
       ]
      },
      {
       "output_type": "stream",
       "stream": "stdout",
       "text": [
        "130523-18:33:51,287 interface INFO:\n",
        "\t stdout 2013-05-23T18:33:51.152073:  Reference Count: 2\n"
       ]
      },
      {
       "output_type": "stream",
       "stream": "stdout",
       "text": [
        "130523-18:33:51,288 interface INFO:\n",
        "\t stdout 2013-05-23T18:33:51.152073:  Modified Time: 1740\n"
       ]
      },
      {
       "output_type": "stream",
       "stream": "stdout",
       "text": [
        "130523-18:33:51,288 interface INFO:\n",
        "\t stdout 2013-05-23T18:33:51.152073:  Debug: Off\n"
       ]
      },
      {
       "output_type": "stream",
       "stream": "stdout",
       "text": [
        "130523-18:33:51,288 interface INFO:\n",
        "\t stdout 2013-05-23T18:33:51.152073:  Observers: \n"
       ]
      },
      {
       "output_type": "stream",
       "stream": "stdout",
       "text": [
        "130523-18:33:51,289 interface INFO:\n",
        "\t stdout 2013-05-23T18:33:51.152073:    none\n"
       ]
      },
      {
       "output_type": "stream",
       "stream": "stdout",
       "text": [
        "130523-18:33:51,289 interface INFO:\n",
        "\t stdout 2013-05-23T18:33:51.152073:  Source: (none)\n"
       ]
      },
      {
       "output_type": "stream",
       "stream": "stdout",
       "text": [
        "130523-18:33:51,290 interface INFO:\n",
        "\t stdout 2013-05-23T18:33:51.152073:  Source output name: (none)\n"
       ]
      },
      {
       "output_type": "stream",
       "stream": "stdout",
       "text": [
        "130523-18:33:51,290 interface INFO:\n",
        "\t stdout 2013-05-23T18:33:51.152073:  Release Data: Off\n"
       ]
      },
      {
       "output_type": "stream",
       "stream": "stdout",
       "text": [
        "130523-18:33:51,290 interface INFO:\n",
        "\t stdout 2013-05-23T18:33:51.152073:  Data Released: False\n"
       ]
      },
      {
       "output_type": "stream",
       "stream": "stdout",
       "text": [
        "130523-18:33:51,291 interface INFO:\n",
        "\t stdout 2013-05-23T18:33:51.152073:  Global Release Data: Off\n"
       ]
      },
      {
       "output_type": "stream",
       "stream": "stdout",
       "text": [
        "130523-18:33:51,291 interface INFO:\n",
        "\t stdout 2013-05-23T18:33:51.152073:  PipelineMTime: 0\n"
       ]
      },
      {
       "output_type": "stream",
       "stream": "stdout",
       "text": [
        "130523-18:33:51,292 interface INFO:\n",
        "\t stdout 2013-05-23T18:33:51.152073:  UpdateMTime: 1579\n"
       ]
      },
      {
       "output_type": "stream",
       "stream": "stdout",
       "text": [
        "130523-18:33:51,293 interface INFO:\n",
        "\t stdout 2013-05-23T18:33:51.152073:  RealTimeStamp: 0 seconds \n"
       ]
      },
      {
       "output_type": "stream",
       "stream": "stdout",
       "text": [
        "130523-18:33:51,295 interface INFO:\n",
        "\t stdout 2013-05-23T18:33:51.152073:  LargestPossibleRegion: \n"
       ]
      },
      {
       "output_type": "stream",
       "stream": "stdout",
       "text": [
        "130523-18:33:51,295 interface INFO:\n",
        "\t stdout 2013-05-23T18:33:51.152073:    Dimension: 3\n"
       ]
      },
      {
       "output_type": "stream",
       "stream": "stdout",
       "text": [
        "130523-18:33:51,296 interface INFO:\n",
        "\t stdout 2013-05-23T18:33:51.152073:    Index: [0, 0, 0]\n"
       ]
      },
      {
       "output_type": "stream",
       "stream": "stdout",
       "text": [
        "130523-18:33:51,297 interface INFO:\n",
        "\t stdout 2013-05-23T18:33:51.152073:    Size: [124, 256, 256]\n"
       ]
      },
      {
       "output_type": "stream",
       "stream": "stdout",
       "text": [
        "130523-18:33:51,298 interface INFO:\n",
        "\t stdout 2013-05-23T18:33:51.152073:  BufferedRegion: \n"
       ]
      },
      {
       "output_type": "stream",
       "stream": "stdout",
       "text": [
        "130523-18:33:51,298 interface INFO:\n",
        "\t stdout 2013-05-23T18:33:51.152073:    Dimension: 3\n"
       ]
      },
      {
       "output_type": "stream",
       "stream": "stdout",
       "text": [
        "130523-18:33:51,298 interface INFO:\n",
        "\t stdout 2013-05-23T18:33:51.152073:    Index: [0, 0, 0]\n"
       ]
      },
      {
       "output_type": "stream",
       "stream": "stdout",
       "text": [
        "130523-18:33:51,299 interface INFO:\n",
        "\t stdout 2013-05-23T18:33:51.152073:    Size: [124, 256, 256]\n"
       ]
      },
      {
       "output_type": "stream",
       "stream": "stdout",
       "text": [
        "130523-18:33:51,299 interface INFO:\n",
        "\t stdout 2013-05-23T18:33:51.152073:  RequestedRegion: \n"
       ]
      },
      {
       "output_type": "stream",
       "stream": "stdout",
       "text": [
        "130523-18:33:51,300 interface INFO:\n",
        "\t stdout 2013-05-23T18:33:51.152073:    Dimension: 3\n"
       ]
      },
      {
       "output_type": "stream",
       "stream": "stdout",
       "text": [
        "130523-18:33:51,300 interface INFO:\n",
        "\t stdout 2013-05-23T18:33:51.152073:    Index: [0, 0, 0]\n"
       ]
      },
      {
       "output_type": "stream",
       "stream": "stdout",
       "text": [
        "130523-18:33:51,301 interface INFO:\n",
        "\t stdout 2013-05-23T18:33:51.152073:    Size: [124, 256, 256]\n"
       ]
      },
      {
       "output_type": "stream",
       "stream": "stdout",
       "text": [
        "130523-18:33:51,301 interface INFO:\n",
        "\t stdout 2013-05-23T18:33:51.152073:  Spacing: [1.2, 0.9375, 0.9375]\n"
       ]
      },
      {
       "output_type": "stream",
       "stream": "stdout",
       "text": [
        "130523-18:33:51,302 interface INFO:\n",
        "\t stdout 2013-05-23T18:33:51.152073:  Origin: [0, 0, 0]\n"
       ]
      },
      {
       "output_type": "stream",
       "stream": "stdout",
       "text": [
        "130523-18:33:51,302 interface INFO:\n",
        "\t stdout 2013-05-23T18:33:51.152073:  Direction: \n"
       ]
      },
      {
       "output_type": "stream",
       "stream": "stdout",
       "text": [
        "130523-18:33:51,302 interface INFO:\n",
        "\t stdout 2013-05-23T18:33:51.152073:1 0 0\n"
       ]
      },
      {
       "output_type": "stream",
       "stream": "stdout",
       "text": [
        "130523-18:33:51,303 interface INFO:\n",
        "\t stdout 2013-05-23T18:33:51.152073:0 1 0\n"
       ]
      },
      {
       "output_type": "stream",
       "stream": "stdout",
       "text": [
        "130523-18:33:51,303 interface INFO:\n",
        "\t stdout 2013-05-23T18:33:51.152073:0 0 1\n"
       ]
      },
      {
       "output_type": "stream",
       "stream": "stdout",
       "text": [
        "130523-18:33:51,304 interface INFO:\n",
        "\t stdout 2013-05-23T18:33:51.152073:\n"
       ]
      },
      {
       "output_type": "stream",
       "stream": "stdout",
       "text": [
        "130523-18:33:51,309 interface INFO:\n",
        "\t stdout 2013-05-23T18:33:51.152073:  IndexToPointMatrix: \n"
       ]
      },
      {
       "output_type": "stream",
       "stream": "stdout",
       "text": [
        "130523-18:33:51,318 interface INFO:\n",
        "\t stdout 2013-05-23T18:33:51.152073:  1.2 0 0\n"
       ]
      },
      {
       "output_type": "stream",
       "stream": "stdout",
       "text": [
        "130523-18:33:51,318 interface INFO:\n",
        "\t stdout 2013-05-23T18:33:51.152073:0 0.9375 0\n"
       ]
      },
      {
       "output_type": "stream",
       "stream": "stdout",
       "text": [
        "130523-18:33:51,319 interface INFO:\n",
        "\t stdout 2013-05-23T18:33:51.152073:0 0 0.9375\n"
       ]
      },
      {
       "output_type": "stream",
       "stream": "stdout",
       "text": [
        "130523-18:33:51,319 interface INFO:\n",
        "\t stdout 2013-05-23T18:33:51.152073:\n"
       ]
      },
      {
       "output_type": "stream",
       "stream": "stdout",
       "text": [
        "130523-18:33:51,321 interface INFO:\n",
        "\t stdout 2013-05-23T18:33:51.152073:  PointToIndexMatrix: \n"
       ]
      },
      {
       "output_type": "stream",
       "stream": "stdout",
       "text": [
        "130523-18:33:51,321 interface INFO:\n",
        "\t stdout 2013-05-23T18:33:51.152073:  0.833333 0 0\n"
       ]
      },
      {
       "output_type": "stream",
       "stream": "stdout",
       "text": [
        "130523-18:33:51,322 interface INFO:\n",
        "\t stdout 2013-05-23T18:33:51.152073:0 1.06667 0\n"
       ]
      },
      {
       "output_type": "stream",
       "stream": "stdout",
       "text": [
        "130523-18:33:51,322 interface INFO:\n",
        "\t stdout 2013-05-23T18:33:51.152073:0 0 1.06667\n"
       ]
      },
      {
       "output_type": "stream",
       "stream": "stdout",
       "text": [
        "130523-18:33:51,323 interface INFO:\n",
        "\t stdout 2013-05-23T18:33:51.152073:\n"
       ]
      },
      {
       "output_type": "stream",
       "stream": "stdout",
       "text": [
        "130523-18:33:51,323 interface INFO:\n",
        "\t stdout 2013-05-23T18:33:51.152073:  Inverse Direction: \n"
       ]
      },
      {
       "output_type": "stream",
       "stream": "stdout",
       "text": [
        "130523-18:33:51,324 interface INFO:\n",
        "\t stdout 2013-05-23T18:33:51.152073:  1 0 0\n"
       ]
      },
      {
       "output_type": "stream",
       "stream": "stdout",
       "text": [
        "130523-18:33:51,324 interface INFO:\n",
        "\t stdout 2013-05-23T18:33:51.152073:0 1 0\n"
       ]
      },
      {
       "output_type": "stream",
       "stream": "stdout",
       "text": [
        "130523-18:33:51,324 interface INFO:\n",
        "\t stdout 2013-05-23T18:33:51.152073:0 0 1\n"
       ]
      },
      {
       "output_type": "stream",
       "stream": "stdout",
       "text": [
        "130523-18:33:51,325 interface INFO:\n",
        "\t stdout 2013-05-23T18:33:51.152073:\n"
       ]
      },
      {
       "output_type": "stream",
       "stream": "stdout",
       "text": [
        "130523-18:33:51,325 interface INFO:\n",
        "\t stdout 2013-05-23T18:33:51.152073:  PixelContainer: \n"
       ]
      },
      {
       "output_type": "stream",
       "stream": "stdout",
       "text": [
        "130523-18:33:51,326 interface INFO:\n",
        "\t stdout 2013-05-23T18:33:51.152073:    ImportImageContainer (0x10051e4e0)\n"
       ]
      },
      {
       "output_type": "stream",
       "stream": "stdout",
       "text": [
        "130523-18:33:51,326 interface INFO:\n",
        "\t stdout 2013-05-23T18:33:51.152073:      RTTI typeinfo:   itk::ImportImageContainer<unsigned long, double>\n"
       ]
      },
      {
       "output_type": "stream",
       "stream": "stdout",
       "text": [
        "130523-18:33:51,326 interface INFO:\n",
        "\t stdout 2013-05-23T18:33:51.152073:      Reference Count: 1\n"
       ]
      },
      {
       "output_type": "stream",
       "stream": "stdout",
       "text": [
        "130523-18:33:51,327 interface INFO:\n",
        "\t stdout 2013-05-23T18:33:51.152073:      Modified Time: 1576\n"
       ]
      },
      {
       "output_type": "stream",
       "stream": "stdout",
       "text": [
        "130523-18:33:51,327 interface INFO:\n",
        "\t stdout 2013-05-23T18:33:51.152073:      Debug: Off\n"
       ]
      },
      {
       "output_type": "stream",
       "stream": "stdout",
       "text": [
        "130523-18:33:51,332 interface INFO:\n",
        "\t stdout 2013-05-23T18:33:51.152073:      Observers: \n"
       ]
      },
      {
       "output_type": "stream",
       "stream": "stdout",
       "text": [
        "130523-18:33:51,333 interface INFO:\n",
        "\t stdout 2013-05-23T18:33:51.152073:        none\n"
       ]
      },
      {
       "output_type": "stream",
       "stream": "stdout",
       "text": [
        "130523-18:33:51,333 interface INFO:\n",
        "\t stdout 2013-05-23T18:33:51.152073:      Pointer: 0x1101ec000\n"
       ]
      },
      {
       "output_type": "stream",
       "stream": "stdout",
       "text": [
        "130523-18:33:51,334 interface INFO:\n",
        "\t stdout 2013-05-23T18:33:51.152073:      Container manages memory: true\n"
       ]
      },
      {
       "output_type": "stream",
       "stream": "stdout",
       "text": [
        "130523-18:33:51,334 interface INFO:\n",
        "\t stdout 2013-05-23T18:33:51.152073:      Size: 8126464\n"
       ]
      },
      {
       "output_type": "stream",
       "stream": "stdout",
       "text": [
        "130523-18:33:51,334 interface INFO:\n",
        "\t stdout 2013-05-23T18:33:51.152073:      Capacity: 8126464\n"
       ]
      },
      {
       "output_type": "stream",
       "stream": "stdout",
       "text": [
        "130523-18:33:51,335 interface INFO:\n",
        "\t stdout 2013-05-23T18:33:51.152073:\n"
       ]
      },
      {
       "output_type": "stream",
       "stream": "stdout",
       "text": [
        "130523-18:33:51,335 interface INFO:\n",
        "\t stdout 2013-05-23T18:33:51.152073:     Moving Image = Image (0x100525a80)\n"
       ]
      },
      {
       "output_type": "stream",
       "stream": "stdout",
       "text": [
        "130523-18:33:51,336 interface INFO:\n",
        "\t stdout 2013-05-23T18:33:51.152073:  RTTI typeinfo:   itk::Image<double, 3u>\n"
       ]
      },
      {
       "output_type": "stream",
       "stream": "stdout",
       "text": [
        "130523-18:33:51,336 interface INFO:\n",
        "\t stdout 2013-05-23T18:33:51.152073:  Reference Count: 2\n"
       ]
      },
      {
       "output_type": "stream",
       "stream": "stdout",
       "text": [
        "130523-18:33:51,337 interface INFO:\n",
        "\t stdout 2013-05-23T18:33:51.337162:  Modified Time: 1741\n"
       ]
      },
      {
       "output_type": "stream",
       "stream": "stdout",
       "text": [
        "130523-18:33:51,337 interface INFO:\n",
        "\t stdout 2013-05-23T18:33:51.337162:  Debug: Off\n"
       ]
      },
      {
       "output_type": "stream",
       "stream": "stdout",
       "text": [
        "130523-18:33:51,338 interface INFO:\n",
        "\t stdout 2013-05-23T18:33:51.337162:  Observers: \n"
       ]
      },
      {
       "output_type": "stream",
       "stream": "stdout",
       "text": [
        "130523-18:33:51,338 interface INFO:\n",
        "\t stdout 2013-05-23T18:33:51.337162:    none\n"
       ]
      },
      {
       "output_type": "stream",
       "stream": "stdout",
       "text": [
        "130523-18:33:51,339 interface INFO:\n",
        "\t stdout 2013-05-23T18:33:51.337162:  Source: (none)\n"
       ]
      },
      {
       "output_type": "stream",
       "stream": "stdout",
       "text": [
        "130523-18:33:51,339 interface INFO:\n",
        "\t stdout 2013-05-23T18:33:51.337162:  Source output name: (none)\n"
       ]
      },
      {
       "output_type": "stream",
       "stream": "stdout",
       "text": [
        "130523-18:33:51,340 interface INFO:\n",
        "\t stdout 2013-05-23T18:33:51.337162:  Release Data: Off\n"
       ]
      },
      {
       "output_type": "stream",
       "stream": "stdout",
       "text": [
        "130523-18:33:51,340 interface INFO:\n",
        "\t stdout 2013-05-23T18:33:51.337162:  Data Released: False\n"
       ]
      },
      {
       "output_type": "stream",
       "stream": "stdout",
       "text": [
        "130523-18:33:51,340 interface INFO:\n",
        "\t stdout 2013-05-23T18:33:51.337162:  Global Release Data: Off\n"
       ]
      },
      {
       "output_type": "stream",
       "stream": "stdout",
       "text": [
        "130523-18:33:51,341 interface INFO:\n",
        "\t stdout 2013-05-23T18:33:51.337162:  PipelineMTime: 0\n"
       ]
      },
      {
       "output_type": "stream",
       "stream": "stdout",
       "text": [
        "130523-18:33:51,341 interface INFO:\n",
        "\t stdout 2013-05-23T18:33:51.337162:  UpdateMTime: 1738\n"
       ]
      },
      {
       "output_type": "stream",
       "stream": "stdout",
       "text": [
        "130523-18:33:51,341 interface INFO:\n",
        "\t stdout 2013-05-23T18:33:51.337162:  RealTimeStamp: 0 seconds \n"
       ]
      },
      {
       "output_type": "stream",
       "stream": "stdout",
       "text": [
        "130523-18:33:51,354 interface INFO:\n",
        "\t stdout 2013-05-23T18:33:51.337162:  LargestPossibleRegion: \n"
       ]
      },
      {
       "output_type": "stream",
       "stream": "stdout",
       "text": [
        "130523-18:33:51,355 interface INFO:\n",
        "\t stdout 2013-05-23T18:33:51.337162:    Dimension: 3\n"
       ]
      },
      {
       "output_type": "stream",
       "stream": "stdout",
       "text": [
        "130523-18:33:51,355 interface INFO:\n",
        "\t stdout 2013-05-23T18:33:51.337162:    Index: [0, 0, 0]\n"
       ]
      },
      {
       "output_type": "stream",
       "stream": "stdout",
       "text": [
        "130523-18:33:51,356 interface INFO:\n",
        "\t stdout 2013-05-23T18:33:51.337162:    Size: [197, 233, 189]\n"
       ]
      },
      {
       "output_type": "stream",
       "stream": "stdout",
       "text": [
        "130523-18:33:51,357 interface INFO:\n",
        "\t stdout 2013-05-23T18:33:51.337162:  BufferedRegion: \n"
       ]
      },
      {
       "output_type": "stream",
       "stream": "stdout",
       "text": [
        "130523-18:33:51,357 interface INFO:\n",
        "\t stdout 2013-05-23T18:33:51.337162:    Dimension: 3\n"
       ]
      },
      {
       "output_type": "stream",
       "stream": "stdout",
       "text": [
        "130523-18:33:51,361 interface INFO:\n",
        "\t stdout 2013-05-23T18:33:51.337162:    Index: [0, 0, 0]\n"
       ]
      },
      {
       "output_type": "stream",
       "stream": "stdout",
       "text": [
        "130523-18:33:51,361 interface INFO:\n",
        "\t stdout 2013-05-23T18:33:51.337162:    Size: [197, 233, 189]\n"
       ]
      },
      {
       "output_type": "stream",
       "stream": "stdout",
       "text": [
        "130523-18:33:51,362 interface INFO:\n",
        "\t stdout 2013-05-23T18:33:51.337162:  RequestedRegion: \n"
       ]
      },
      {
       "output_type": "stream",
       "stream": "stdout",
       "text": [
        "130523-18:33:51,362 interface INFO:\n",
        "\t stdout 2013-05-23T18:33:51.337162:    Dimension: 3\n"
       ]
      },
      {
       "output_type": "stream",
       "stream": "stdout",
       "text": [
        "130523-18:33:51,362 interface INFO:\n",
        "\t stdout 2013-05-23T18:33:51.337162:    Index: [0, 0, 0]\n"
       ]
      },
      {
       "output_type": "stream",
       "stream": "stdout",
       "text": [
        "130523-18:33:51,363 interface INFO:\n",
        "\t stdout 2013-05-23T18:33:51.337162:    Size: [197, 233, 189]\n"
       ]
      },
      {
       "output_type": "stream",
       "stream": "stdout",
       "text": [
        "130523-18:33:51,363 interface INFO:\n",
        "\t stdout 2013-05-23T18:33:51.337162:  Spacing: [1, 1, 1]\n"
       ]
      },
      {
       "output_type": "stream",
       "stream": "stdout",
       "text": [
        "130523-18:33:51,364 interface INFO:\n",
        "\t stdout 2013-05-23T18:33:51.337162:  Origin: [98, 134, -72]\n"
       ]
      },
      {
       "output_type": "stream",
       "stream": "stdout",
       "text": [
        "130523-18:33:51,364 interface INFO:\n",
        "\t stdout 2013-05-23T18:33:51.337162:  Direction: \n"
       ]
      },
      {
       "output_type": "stream",
       "stream": "stdout",
       "text": [
        "130523-18:33:51,365 interface INFO:\n",
        "\t stdout 2013-05-23T18:33:51.337162:-1 0 0\n"
       ]
      },
      {
       "output_type": "stream",
       "stream": "stdout",
       "text": [
        "130523-18:33:51,368 interface INFO:\n",
        "\t stdout 2013-05-23T18:33:51.337162:0 -1 0\n"
       ]
      },
      {
       "output_type": "stream",
       "stream": "stdout",
       "text": [
        "130523-18:33:51,368 interface INFO:\n",
        "\t stdout 2013-05-23T18:33:51.337162:0 0 1\n"
       ]
      },
      {
       "output_type": "stream",
       "stream": "stdout",
       "text": [
        "130523-18:33:51,369 interface INFO:\n",
        "\t stdout 2013-05-23T18:33:51.337162:\n"
       ]
      },
      {
       "output_type": "stream",
       "stream": "stdout",
       "text": [
        "130523-18:33:51,369 interface INFO:\n",
        "\t stdout 2013-05-23T18:33:51.337162:  IndexToPointMatrix: \n"
       ]
      },
      {
       "output_type": "stream",
       "stream": "stdout",
       "text": [
        "130523-18:33:51,370 interface INFO:\n",
        "\t stdout 2013-05-23T18:33:51.337162:  -1 0 0\n"
       ]
      },
      {
       "output_type": "stream",
       "stream": "stdout",
       "text": [
        "130523-18:33:51,371 interface INFO:\n",
        "\t stdout 2013-05-23T18:33:51.337162:0 -1 0\n"
       ]
      },
      {
       "output_type": "stream",
       "stream": "stdout",
       "text": [
        "130523-18:33:51,372 interface INFO:\n",
        "\t stdout 2013-05-23T18:33:51.337162:0 0 1\n"
       ]
      },
      {
       "output_type": "stream",
       "stream": "stdout",
       "text": [
        "130523-18:33:51,372 interface INFO:\n",
        "\t stdout 2013-05-23T18:33:51.337162:\n"
       ]
      },
      {
       "output_type": "stream",
       "stream": "stdout",
       "text": [
        "130523-18:33:51,374 interface INFO:\n",
        "\t stdout 2013-05-23T18:33:51.337162:  PointToIndexMatrix: \n"
       ]
      },
      {
       "output_type": "stream",
       "stream": "stdout",
       "text": [
        "130523-18:33:51,375 interface INFO:\n",
        "\t stdout 2013-05-23T18:33:51.337162:  -1 0 0\n"
       ]
      },
      {
       "output_type": "stream",
       "stream": "stdout",
       "text": [
        "130523-18:33:51,376 interface INFO:\n",
        "\t stdout 2013-05-23T18:33:51.337162:0 -1 0\n"
       ]
      },
      {
       "output_type": "stream",
       "stream": "stdout",
       "text": [
        "130523-18:33:51,377 interface INFO:\n",
        "\t stdout 2013-05-23T18:33:51.337162:0 0 1\n"
       ]
      },
      {
       "output_type": "stream",
       "stream": "stdout",
       "text": [
        "130523-18:33:51,382 interface INFO:\n",
        "\t stdout 2013-05-23T18:33:51.337162:\n"
       ]
      },
      {
       "output_type": "stream",
       "stream": "stdout",
       "text": [
        "130523-18:33:51,382 interface INFO:\n",
        "\t stdout 2013-05-23T18:33:51.337162:  Inverse Direction: \n"
       ]
      },
      {
       "output_type": "stream",
       "stream": "stdout",
       "text": [
        "130523-18:33:51,382 interface INFO:\n",
        "\t stdout 2013-05-23T18:33:51.337162:  -1 0 0\n"
       ]
      },
      {
       "output_type": "stream",
       "stream": "stdout",
       "text": [
        "130523-18:33:51,383 interface INFO:\n",
        "\t stdout 2013-05-23T18:33:51.337162:0 -1 0\n"
       ]
      },
      {
       "output_type": "stream",
       "stream": "stdout",
       "text": [
        "130523-18:33:51,383 interface INFO:\n",
        "\t stdout 2013-05-23T18:33:51.337162:0 0 1\n"
       ]
      },
      {
       "output_type": "stream",
       "stream": "stdout",
       "text": [
        "130523-18:33:51,384 interface INFO:\n",
        "\t stdout 2013-05-23T18:33:51.337162:\n"
       ]
      },
      {
       "output_type": "stream",
       "stream": "stdout",
       "text": [
        "130523-18:33:51,384 interface INFO:\n",
        "\t stdout 2013-05-23T18:33:51.337162:  PixelContainer: \n"
       ]
      },
      {
       "output_type": "stream",
       "stream": "stdout",
       "text": [
        "130523-18:33:51,385 interface INFO:\n",
        "\t stdout 2013-05-23T18:33:51.337162:    ImportImageContainer (0x10051f1f0)\n"
       ]
      },
      {
       "output_type": "stream",
       "stream": "stdout",
       "text": [
        "130523-18:33:51,385 interface INFO:\n",
        "\t stdout 2013-05-23T18:33:51.337162:      RTTI typeinfo:   itk::ImportImageContainer<unsigned long, double>\n"
       ]
      },
      {
       "output_type": "stream",
       "stream": "stdout",
       "text": [
        "130523-18:33:51,385 interface INFO:\n",
        "\t stdout 2013-05-23T18:33:51.337162:      Reference Count: 1\n"
       ]
      },
      {
       "output_type": "stream",
       "stream": "stdout",
       "text": [
        "130523-18:33:51,386 interface INFO:\n",
        "\t stdout 2013-05-23T18:33:51.337162:      Modified Time: 1735\n"
       ]
      },
      {
       "output_type": "stream",
       "stream": "stdout",
       "text": [
        "130523-18:33:51,386 interface INFO:\n",
        "\t stdout 2013-05-23T18:33:51.337162:      Debug: Off\n"
       ]
      },
      {
       "output_type": "stream",
       "stream": "stdout",
       "text": [
        "130523-18:33:51,387 interface INFO:\n",
        "\t stdout 2013-05-23T18:33:51.337162:      Observers: \n"
       ]
      },
      {
       "output_type": "stream",
       "stream": "stdout",
       "text": [
        "130523-18:33:51,388 interface INFO:\n",
        "\t stdout 2013-05-23T18:33:51.337162:        none\n"
       ]
      },
      {
       "output_type": "stream",
       "stream": "stdout",
       "text": [
        "130523-18:33:51,390 interface INFO:\n",
        "\t stdout 2013-05-23T18:33:51.337162:      Pointer: 0x113fec000\n"
       ]
      },
      {
       "output_type": "stream",
       "stream": "stdout",
       "text": [
        "130523-18:33:51,393 interface INFO:\n",
        "\t stdout 2013-05-23T18:33:51.337162:      Container manages memory: true\n"
       ]
      },
      {
       "output_type": "stream",
       "stream": "stdout",
       "text": [
        "130523-18:33:51,399 interface INFO:\n",
        "\t stdout 2013-05-23T18:33:51.337162:      Size: 8675289\n"
       ]
      },
      {
       "output_type": "stream",
       "stream": "stdout",
       "text": [
        "130523-18:33:51,424 interface INFO:\n",
        "\t stdout 2013-05-23T18:33:51.337162:      Capacity: 8675289\n"
       ]
      },
      {
       "output_type": "stream",
       "stream": "stdout",
       "text": [
        "130523-18:33:51,432 interface INFO:\n",
        "\t stdout 2013-05-23T18:33:51.337162:\n"
       ]
      },
      {
       "output_type": "stream",
       "stream": "stdout",
       "text": [
        "130523-18:33:51,432 interface INFO:\n",
        "\t stdout 2013-05-23T18:33:51.337162:     Weighting = 1\n"
       ]
      },
      {
       "output_type": "stream",
       "stream": "stdout",
       "text": [
        "130523-18:33:51,433 interface INFO:\n",
        "\t stdout 2013-05-23T18:33:51.337162:     Sampling Strategy = regular\n"
       ]
      },
      {
       "output_type": "stream",
       "stream": "stdout",
       "text": [
        "130523-18:33:51,433 interface INFO:\n",
        "\t stdout 2013-05-23T18:33:51.337162:     NumberOfBins = 32\n"
       ]
      },
      {
       "output_type": "stream",
       "stream": "stdout",
       "text": [
        "130523-18:33:51,433 interface INFO:\n",
        "\t stdout 2013-05-23T18:33:51.337162:     Radius = 1\n"
       ]
      },
      {
       "output_type": "stream",
       "stream": "stdout",
       "text": [
        "130523-18:33:51,434 interface INFO:\n",
        "\t stdout 2013-05-23T18:33:51.337162:     Sampling percentage  = 0.1\n"
       ]
      },
      {
       "output_type": "stream",
       "stream": "stdout",
       "text": [
        "130523-18:33:51,434 interface INFO:\n",
        "\t stdout 2013-05-23T18:33:51.337162:   Transform = Rigid\n"
       ]
      },
      {
       "output_type": "stream",
       "stream": "stdout",
       "text": [
        "130523-18:33:51,435 interface INFO:\n",
        "\t stdout 2013-05-23T18:33:51.337162:     Gradient Step = 0.1\n"
       ]
      },
      {
       "output_type": "stream",
       "stream": "stdout",
       "text": [
        "130523-18:33:51,435 interface INFO:\n",
        "\t stdout 2013-05-23T18:33:51.337162:     Update Field Sigma (voxel space) = 0\n"
       ]
      },
      {
       "output_type": "stream",
       "stream": "stdout",
       "text": [
        "130523-18:33:51,435 interface INFO:\n",
        "\t stdout 2013-05-23T18:33:51.337162:     Total Field Sigma (voxel space) = 0\n"
       ]
      },
      {
       "output_type": "stream",
       "stream": "stdout",
       "text": [
        "130523-18:33:51,436 interface INFO:\n",
        "\t stdout 2013-05-23T18:33:51.337162:     Update Field Time Sigma = 0\n"
       ]
      },
      {
       "output_type": "stream",
       "stream": "stdout",
       "text": [
        "130523-18:33:51,436 interface INFO:\n",
        "\t stdout 2013-05-23T18:33:51.337162:     Total Field Time Sigma  = 0\n"
       ]
      },
      {
       "output_type": "stream",
       "stream": "stdout",
       "text": [
        "130523-18:33:51,437 interface INFO:\n",
        "\t stdout 2013-05-23T18:33:51.337162:     Number of Time Indices = 0\n"
       ]
      },
      {
       "output_type": "stream",
       "stream": "stdout",
       "text": [
        "130523-18:33:51,437 interface INFO:\n",
        "\t stdout 2013-05-23T18:33:51.337162:     Number of Time Point Samples = 0\n"
       ]
      },
      {
       "output_type": "stream",
       "stream": "stdout",
       "text": [
        "130523-18:33:51,437 interface INFO:\n",
        "\t stdout 2013-05-23T18:33:51.337162:Stage 3 State\n"
       ]
      },
      {
       "output_type": "stream",
       "stream": "stdout",
       "text": [
        "130523-18:33:51,454 interface INFO:\n",
        "\t stdout 2013-05-23T18:33:51.337162:   Metric = Mattes\n"
       ]
      },
      {
       "output_type": "stream",
       "stream": "stdout",
       "text": [
        "130523-18:33:51,455 interface INFO:\n",
        "\t stdout 2013-05-23T18:33:51.337162:     Fixed Image = Image (0x100534b40)\n"
       ]
      },
      {
       "output_type": "stream",
       "stream": "stdout",
       "text": [
        "130523-18:33:51,455 interface INFO:\n",
        "\t stdout 2013-05-23T18:33:51.337162:  RTTI typeinfo:   itk::Image<double, 3u>\n"
       ]
      },
      {
       "output_type": "stream",
       "stream": "stdout",
       "text": [
        "130523-18:33:51,455 interface INFO:\n",
        "\t stdout 2013-05-23T18:33:51.337162:  Reference Count: 2\n"
       ]
      },
      {
       "output_type": "stream",
       "stream": "stdout",
       "text": [
        "130523-18:33:51,456 interface INFO:\n",
        "\t stdout 2013-05-23T18:33:51.337162:  Modified Time: 2057\n"
       ]
      },
      {
       "output_type": "stream",
       "stream": "stdout",
       "text": [
        "130523-18:33:51,456 interface INFO:\n",
        "\t stdout 2013-05-23T18:33:51.337162:  Debug: Off\n"
       ]
      },
      {
       "output_type": "stream",
       "stream": "stdout",
       "text": [
        "130523-18:33:51,457 interface INFO:\n",
        "\t stdout 2013-05-23T18:33:51.337162:  Observers: \n"
       ]
      },
      {
       "output_type": "stream",
       "stream": "stdout",
       "text": [
        "130523-18:33:51,457 interface INFO:\n",
        "\t stdout 2013-05-23T18:33:51.337162:    none\n"
       ]
      },
      {
       "output_type": "stream",
       "stream": "stdout",
       "text": [
        "130523-18:33:51,457 interface INFO:\n",
        "\t stdout 2013-05-23T18:33:51.337162:  Source: (none)\n"
       ]
      },
      {
       "output_type": "stream",
       "stream": "stdout",
       "text": [
        "130523-18:33:51,458 interface INFO:\n",
        "\t stdout 2013-05-23T18:33:51.337162:  Source output name: (none)\n"
       ]
      },
      {
       "output_type": "stream",
       "stream": "stdout",
       "text": [
        "130523-18:33:51,458 interface INFO:\n",
        "\t stdout 2013-05-23T18:33:51.337162:  Release Data: Off\n"
       ]
      },
      {
       "output_type": "stream",
       "stream": "stdout",
       "text": [
        "130523-18:33:51,459 interface INFO:\n",
        "\t stdout 2013-05-23T18:33:51.337162:  Data Released: False\n"
       ]
      },
      {
       "output_type": "stream",
       "stream": "stdout",
       "text": [
        "130523-18:33:51,459 interface INFO:\n",
        "\t stdout 2013-05-23T18:33:51.337162:  Global Release Data: Off\n"
       ]
      },
      {
       "output_type": "stream",
       "stream": "stdout",
       "text": [
        "130523-18:33:51,459 interface INFO:\n",
        "\t stdout 2013-05-23T18:33:51.337162:  PipelineMTime: 0\n"
       ]
      },
      {
       "output_type": "stream",
       "stream": "stdout",
       "text": [
        "130523-18:33:51,460 interface INFO:\n",
        "\t stdout 2013-05-23T18:33:51.337162:  UpdateMTime: 1896\n"
       ]
      },
      {
       "output_type": "stream",
       "stream": "stdout",
       "text": [
        "130523-18:33:51,460 interface INFO:\n",
        "\t stdout 2013-05-23T18:33:51.337162:  RealTimeStamp: 0 seconds \n"
       ]
      },
      {
       "output_type": "stream",
       "stream": "stdout",
       "text": [
        "130523-18:33:51,461 interface INFO:\n",
        "\t stdout 2013-05-23T18:33:51.337162:  LargestPossibleRegion: \n"
       ]
      },
      {
       "output_type": "stream",
       "stream": "stdout",
       "text": [
        "130523-18:33:51,461 interface INFO:\n",
        "\t stdout 2013-05-23T18:33:51.337162:    Dimension: 3\n"
       ]
      },
      {
       "output_type": "stream",
       "stream": "stdout",
       "text": [
        "130523-18:33:51,461 interface INFO:\n",
        "\t stdout 2013-05-23T18:33:51.337162:    Index: [0, 0, 0]\n"
       ]
      },
      {
       "output_type": "stream",
       "stream": "stdout",
       "text": [
        "130523-18:33:51,462 interface INFO:\n",
        "\t stdout 2013-05-23T18:33:51.337162:    Size: [124, 256, 256]\n"
       ]
      },
      {
       "output_type": "stream",
       "stream": "stdout",
       "text": [
        "130523-18:33:51,462 interface INFO:\n",
        "\t stdout 2013-05-23T18:33:51.337162:  BufferedRegion: \n"
       ]
      },
      {
       "output_type": "stream",
       "stream": "stdout",
       "text": [
        "130523-18:33:51,463 interface INFO:\n",
        "\t stdout 2013-05-23T18:33:51.337162:    Dimension: 3\n"
       ]
      },
      {
       "output_type": "stream",
       "stream": "stdout",
       "text": [
        "130523-18:33:51,463 interface INFO:\n",
        "\t stdout 2013-05-23T18:33:51.337162:    Index: [0, 0, 0]\n"
       ]
      },
      {
       "output_type": "stream",
       "stream": "stdout",
       "text": [
        "130523-18:33:51,464 interface INFO:\n",
        "\t stdout 2013-05-23T18:33:51.337162:    Size: [124, 256, 256]\n"
       ]
      },
      {
       "output_type": "stream",
       "stream": "stdout",
       "text": [
        "130523-18:33:51,465 interface INFO:\n",
        "\t stdout 2013-05-23T18:33:51.337162:  RequestedRegion: \n"
       ]
      },
      {
       "output_type": "stream",
       "stream": "stdout",
       "text": [
        "130523-18:33:51,466 interface INFO:\n",
        "\t stdout 2013-05-23T18:33:51.337162:    Dimension: 3\n"
       ]
      },
      {
       "output_type": "stream",
       "stream": "stdout",
       "text": [
        "130523-18:33:51,467 interface INFO:\n",
        "\t stdout 2013-05-23T18:33:51.337162:    Index: [0, 0, 0]\n"
       ]
      },
      {
       "output_type": "stream",
       "stream": "stdout",
       "text": [
        "130523-18:33:51,467 interface INFO:\n",
        "\t stdout 2013-05-23T18:33:51.337162:    Size: [124, 256, 256]\n"
       ]
      },
      {
       "output_type": "stream",
       "stream": "stdout",
       "text": [
        "130523-18:33:51,469 interface INFO:\n",
        "\t stdout 2013-05-23T18:33:51.337162:  Spacing: [1.2, 0.9375, 0.9375]\n"
       ]
      },
      {
       "output_type": "stream",
       "stream": "stdout",
       "text": [
        "130523-18:33:51,470 interface INFO:\n",
        "\t stdout 2013-05-23T18:33:51.337162:  Origin: [0, 0, 0]\n"
       ]
      },
      {
       "output_type": "stream",
       "stream": "stdout",
       "text": [
        "130523-18:33:51,471 interface INFO:\n",
        "\t stdout 2013-05-23T18:33:51.337162:  Direction: \n"
       ]
      },
      {
       "output_type": "stream",
       "stream": "stdout",
       "text": [
        "130523-18:33:51,471 interface INFO:\n",
        "\t stdout 2013-05-23T18:33:51.337162:1 0 0\n"
       ]
      },
      {
       "output_type": "stream",
       "stream": "stdout",
       "text": [
        "130523-18:33:51,472 interface INFO:\n",
        "\t stdout 2013-05-23T18:33:51.337162:0 1 0\n"
       ]
      },
      {
       "output_type": "stream",
       "stream": "stdout",
       "text": [
        "130523-18:33:51,472 interface INFO:\n",
        "\t stdout 2013-05-23T18:33:51.337162:0 0 1\n"
       ]
      },
      {
       "output_type": "stream",
       "stream": "stdout",
       "text": [
        "130523-18:33:51,472 interface INFO:\n",
        "\t stdout 2013-05-23T18:33:51.337162:\n"
       ]
      },
      {
       "output_type": "stream",
       "stream": "stdout",
       "text": [
        "130523-18:33:51,473 interface INFO:\n",
        "\t stdout 2013-05-23T18:33:51.337162:  IndexToPointMatrix: \n"
       ]
      },
      {
       "output_type": "stream",
       "stream": "stdout",
       "text": [
        "130523-18:33:51,473 interface INFO:\n",
        "\t stdout 2013-05-23T18:33:51.337162:  1.2 0 0\n"
       ]
      },
      {
       "output_type": "stream",
       "stream": "stdout",
       "text": [
        "130523-18:33:51,474 interface INFO:\n",
        "\t stdout 2013-05-23T18:33:51.337162:0 0.9375 0\n"
       ]
      },
      {
       "output_type": "stream",
       "stream": "stdout",
       "text": [
        "130523-18:33:51,474 interface INFO:\n",
        "\t stdout 2013-05-23T18:33:51.337162:0 0 0.9375\n"
       ]
      },
      {
       "output_type": "stream",
       "stream": "stdout",
       "text": [
        "130523-18:33:51,474 interface INFO:\n",
        "\t stdout 2013-05-23T18:33:51.337162:\n"
       ]
      },
      {
       "output_type": "stream",
       "stream": "stdout",
       "text": [
        "130523-18:33:51,475 interface INFO:\n",
        "\t stdout 2013-05-23T18:33:51.337162:  PointToIndexMatrix: \n"
       ]
      },
      {
       "output_type": "stream",
       "stream": "stdout",
       "text": [
        "130523-18:33:51,475 interface INFO:\n",
        "\t stdout 2013-05-23T18:33:51.337162:  0.833333 0 0\n"
       ]
      },
      {
       "output_type": "stream",
       "stream": "stdout",
       "text": [
        "130523-18:33:51,476 interface INFO:\n",
        "\t stdout 2013-05-23T18:33:51.337162:0 1.06667 0\n"
       ]
      },
      {
       "output_type": "stream",
       "stream": "stdout",
       "text": [
        "130523-18:33:51,476 interface INFO:\n",
        "\t stdout 2013-05-23T18:33:51.337162:0 0 1.06667\n"
       ]
      },
      {
       "output_type": "stream",
       "stream": "stdout",
       "text": [
        "130523-18:33:51,476 interface INFO:\n",
        "\t stdout 2013-05-23T18:33:51.337162:\n"
       ]
      },
      {
       "output_type": "stream",
       "stream": "stdout",
       "text": [
        "130523-18:33:51,477 interface INFO:\n",
        "\t stdout 2013-05-23T18:33:51.337162:  Inverse Direction: \n"
       ]
      },
      {
       "output_type": "stream",
       "stream": "stdout",
       "text": [
        "130523-18:33:51,479 interface INFO:\n",
        "\t stdout 2013-05-23T18:33:51.337162:  1 0 0\n"
       ]
      },
      {
       "output_type": "stream",
       "stream": "stdout",
       "text": [
        "130523-18:33:51,479 interface INFO:\n",
        "\t stdout 2013-05-23T18:33:51.337162:0 1 0\n"
       ]
      },
      {
       "output_type": "stream",
       "stream": "stdout",
       "text": [
        "130523-18:33:51,480 interface INFO:\n",
        "\t stdout 2013-05-23T18:33:51.337162:0 0 1\n"
       ]
      },
      {
       "output_type": "stream",
       "stream": "stdout",
       "text": [
        "130523-18:33:51,480 interface INFO:\n",
        "\t stdout 2013-05-23T18:33:51.337162:\n"
       ]
      },
      {
       "output_type": "stream",
       "stream": "stdout",
       "text": [
        "130523-18:33:51,481 interface INFO:\n",
        "\t stdout 2013-05-23T18:33:51.337162:  PixelContainer: \n"
       ]
      },
      {
       "output_type": "stream",
       "stream": "stdout",
       "text": [
        "130523-18:33:51,481 interface INFO:\n",
        "\t stdout 2013-05-23T18:33:51.337162:    ImportImageContainer (0x100533fb0)\n"
       ]
      },
      {
       "output_type": "stream",
       "stream": "stdout",
       "text": [
        "130523-18:33:51,482 interface INFO:\n",
        "\t stdout 2013-05-23T18:33:51.337162:      RTTI typeinfo:   itk::ImportImageContainer<unsigned long, double>\n"
       ]
      },
      {
       "output_type": "stream",
       "stream": "stdout",
       "text": [
        "130523-18:33:51,483 interface INFO:\n",
        "\t stdout 2013-05-23T18:33:51.337162:      Reference Count: 1\n"
       ]
      },
      {
       "output_type": "stream",
       "stream": "stdout",
       "text": [
        "130523-18:33:51,483 interface INFO:\n",
        "\t stdout 2013-05-23T18:33:51.337162:      Modified Time: 1893\n"
       ]
      },
      {
       "output_type": "stream",
       "stream": "stdout",
       "text": [
        "130523-18:33:51,484 interface INFO:\n",
        "\t stdout 2013-05-23T18:33:51.337162:      Debug: Off\n"
       ]
      },
      {
       "output_type": "stream",
       "stream": "stdout",
       "text": [
        "130523-18:33:51,485 interface INFO:\n",
        "\t stdout 2013-05-23T18:33:51.337162:      Observers: \n"
       ]
      },
      {
       "output_type": "stream",
       "stream": "stdout",
       "text": [
        "130523-18:33:51,486 interface INFO:\n",
        "\t stdout 2013-05-23T18:33:51.337162:        none\n"
       ]
      },
      {
       "output_type": "stream",
       "stream": "stdout",
       "text": [
        "130523-18:33:51,487 interface INFO:\n",
        "\t stdout 2013-05-23T18:33:51.337162:      Pointer: 0x11821c000\n"
       ]
      },
      {
       "output_type": "stream",
       "stream": "stdout",
       "text": [
        "130523-18:33:51,487 interface INFO:\n",
        "\t stdout 2013-05-23T18:33:51.337162:      Container manages memory: true\n"
       ]
      },
      {
       "output_type": "stream",
       "stream": "stdout",
       "text": [
        "130523-18:33:51,490 interface INFO:\n",
        "\t stdout 2013-05-23T18:33:51.337162:      Size: 8126464\n"
       ]
      },
      {
       "output_type": "stream",
       "stream": "stdout",
       "text": [
        "130523-18:33:51,491 interface INFO:\n",
        "\t stdout 2013-05-23T18:33:51.337162:      Capacity: 8126464\n"
       ]
      },
      {
       "output_type": "stream",
       "stream": "stdout",
       "text": [
        "130523-18:33:51,492 interface INFO:\n",
        "\t stdout 2013-05-23T18:33:51.337162:\n"
       ]
      },
      {
       "output_type": "stream",
       "stream": "stdout",
       "text": [
        "130523-18:33:51,492 interface INFO:\n",
        "\t stdout 2013-05-23T18:33:51.337162:     Moving Image = Image (0x100537a90)\n"
       ]
      },
      {
       "output_type": "stream",
       "stream": "stdout",
       "text": [
        "130523-18:33:51,493 interface INFO:\n",
        "\t stdout 2013-05-23T18:33:51.337162:  RTTI typeinfo:   itk::Image<double, 3u>\n"
       ]
      },
      {
       "output_type": "stream",
       "stream": "stdout",
       "text": [
        "130523-18:33:51,493 interface INFO:\n",
        "\t stdout 2013-05-23T18:33:51.337162:  Reference Count: 2\n"
       ]
      },
      {
       "output_type": "stream",
       "stream": "stdout",
       "text": [
        "130523-18:33:51,494 interface INFO:\n",
        "\t stdout 2013-05-23T18:33:51.337162:  Modified Time: 2058\n"
       ]
      },
      {
       "output_type": "stream",
       "stream": "stdout",
       "text": [
        "130523-18:33:51,494 interface INFO:\n",
        "\t stdout 2013-05-23T18:33:51.337162:  Debug: Off\n"
       ]
      },
      {
       "output_type": "stream",
       "stream": "stdout",
       "text": [
        "130523-18:33:51,495 interface INFO:\n",
        "\t stdout 2013-05-23T18:33:51.337162:  Observers: \n"
       ]
      },
      {
       "output_type": "stream",
       "stream": "stdout",
       "text": [
        "130523-18:33:51,495 interface INFO:\n",
        "\t stdout 2013-05-23T18:33:51.337162:    none\n"
       ]
      },
      {
       "output_type": "stream",
       "stream": "stdout",
       "text": [
        "130523-18:33:51,496 interface INFO:\n",
        "\t stdout 2013-05-23T18:33:51.337162:  Source: (none)\n"
       ]
      },
      {
       "output_type": "stream",
       "stream": "stdout",
       "text": [
        "130523-18:33:51,496 interface INFO:\n",
        "\t stdout 2013-05-23T18:33:51.337162:  Source output name: (none)\n"
       ]
      },
      {
       "output_type": "stream",
       "stream": "stdout",
       "text": [
        "130523-18:33:51,496 interface INFO:\n",
        "\t stdout 2013-05-23T18:33:51.337162:  Release Data: Off\n"
       ]
      },
      {
       "output_type": "stream",
       "stream": "stdout",
       "text": [
        "130523-18:33:51,497 interface INFO:\n",
        "\t stdout 2013-05-23T18:33:51.337162:  Data Released: False\n"
       ]
      },
      {
       "output_type": "stream",
       "stream": "stdout",
       "text": [
        "130523-18:33:51,497 interface INFO:\n",
        "\t stdout 2013-05-23T18:33:51.337162:  Global Release Data: Off\n"
       ]
      },
      {
       "output_type": "stream",
       "stream": "stdout",
       "text": [
        "130523-18:33:51,501 interface INFO:\n",
        "\t stdout 2013-05-23T18:33:51.337162:  PipelineMTime: 0\n"
       ]
      },
      {
       "output_type": "stream",
       "stream": "stdout",
       "text": [
        "130523-18:33:51,501 interface INFO:\n",
        "\t stdout 2013-05-23T18:33:51.337162:  UpdateMTime: 2055\n"
       ]
      },
      {
       "output_type": "stream",
       "stream": "stdout",
       "text": [
        "130523-18:33:51,503 interface INFO:\n",
        "\t stdout 2013-05-23T18:33:51.337162:  RealTimeStamp: 0 seconds \n"
       ]
      },
      {
       "output_type": "stream",
       "stream": "stdout",
       "text": [
        "130523-18:33:51,504 interface INFO:\n",
        "\t stdout 2013-05-23T18:33:51.337162:  LargestPossibleRegion: \n"
       ]
      },
      {
       "output_type": "stream",
       "stream": "stdout",
       "text": [
        "130523-18:33:51,505 interface INFO:\n",
        "\t stdout 2013-05-23T18:33:51.337162:    Dimension: 3\n"
       ]
      },
      {
       "output_type": "stream",
       "stream": "stdout",
       "text": [
        "130523-18:33:51,506 interface INFO:\n",
        "\t stdout 2013-05-23T18:33:51.337162:    Index: [0, 0, 0]\n"
       ]
      },
      {
       "output_type": "stream",
       "stream": "stdout",
       "text": [
        "130523-18:33:51,506 interface INFO:\n",
        "\t stdout 2013-05-23T18:33:51.337162:    Size: [197, 233, 189]\n"
       ]
      },
      {
       "output_type": "stream",
       "stream": "stdout",
       "text": [
        "130523-18:33:51,507 interface INFO:\n",
        "\t stdout 2013-05-23T18:33:51.337162:  BufferedRegion: \n"
       ]
      },
      {
       "output_type": "stream",
       "stream": "stdout",
       "text": [
        "130523-18:33:51,507 interface INFO:\n",
        "\t stdout 2013-05-23T18:33:51.337162:    Dimension: 3\n"
       ]
      },
      {
       "output_type": "stream",
       "stream": "stdout",
       "text": [
        "130523-18:33:51,507 interface INFO:\n",
        "\t stdout 2013-05-23T18:33:51.337162:    Index: [0, 0, 0]\n"
       ]
      },
      {
       "output_type": "stream",
       "stream": "stdout",
       "text": [
        "130523-18:33:51,508 interface INFO:\n",
        "\t stdout 2013-05-23T18:33:51.337162:    Size: [197, 233, 189]\n"
       ]
      },
      {
       "output_type": "stream",
       "stream": "stdout",
       "text": [
        "130523-18:33:51,508 interface INFO:\n",
        "\t stdout 2013-05-23T18:33:51.337162:  RequestedRegion: \n"
       ]
      },
      {
       "output_type": "stream",
       "stream": "stdout",
       "text": [
        "130523-18:33:51,509 interface INFO:\n",
        "\t stdout 2013-05-23T18:33:51.337162:    Dimension: 3\n"
       ]
      },
      {
       "output_type": "stream",
       "stream": "stdout",
       "text": [
        "130523-18:33:51,509 interface INFO:\n",
        "\t stdout 2013-05-23T18:33:51.337162:    Index: [0, 0, 0]\n"
       ]
      },
      {
       "output_type": "stream",
       "stream": "stdout",
       "text": [
        "130523-18:33:51,518 interface INFO:\n",
        "\t stdout 2013-05-23T18:33:51.337162:    Size: [197, 233, 189]\n"
       ]
      },
      {
       "output_type": "stream",
       "stream": "stdout",
       "text": [
        "130523-18:33:51,520 interface INFO:\n",
        "\t stdout 2013-05-23T18:33:51.337162:  Spacing: [1, 1, 1]\n"
       ]
      },
      {
       "output_type": "stream",
       "stream": "stdout",
       "text": [
        "130523-18:33:51,521 interface INFO:\n",
        "\t stdout 2013-05-23T18:33:51.337162:  Origin: [98, 134, -72]\n"
       ]
      },
      {
       "output_type": "stream",
       "stream": "stdout",
       "text": [
        "130523-18:33:51,533 interface INFO:\n",
        "\t stdout 2013-05-23T18:33:51.337162:  Direction: \n"
       ]
      },
      {
       "output_type": "stream",
       "stream": "stdout",
       "text": [
        "130523-18:33:51,534 interface INFO:\n",
        "\t stdout 2013-05-23T18:33:51.337162:-1 0 0\n"
       ]
      },
      {
       "output_type": "stream",
       "stream": "stdout",
       "text": [
        "130523-18:33:51,536 interface INFO:\n",
        "\t stdout 2013-05-23T18:33:51.337162:0 -1 0\n"
       ]
      },
      {
       "output_type": "stream",
       "stream": "stdout",
       "text": [
        "130523-18:33:51,536 interface INFO:\n",
        "\t stdout 2013-05-23T18:33:51.337162:0 0 1\n"
       ]
      },
      {
       "output_type": "stream",
       "stream": "stdout",
       "text": [
        "130523-18:33:51,537 interface INFO:\n",
        "\t stdout 2013-05-23T18:33:51.337162:\n"
       ]
      },
      {
       "output_type": "stream",
       "stream": "stdout",
       "text": [
        "130523-18:33:51,537 interface INFO:\n",
        "\t stdout 2013-05-23T18:33:51.337162:  IndexToPointMatrix: \n"
       ]
      },
      {
       "output_type": "stream",
       "stream": "stdout",
       "text": [
        "130523-18:33:51,538 interface INFO:\n",
        "\t stdout 2013-05-23T18:33:51.337162:  -1 0 0\n"
       ]
      },
      {
       "output_type": "stream",
       "stream": "stdout",
       "text": [
        "130523-18:33:51,538 interface INFO:\n",
        "\t stdout 2013-05-23T18:33:51.337162:0 -1 0\n"
       ]
      },
      {
       "output_type": "stream",
       "stream": "stdout",
       "text": [
        "130523-18:33:51,538 interface INFO:\n",
        "\t stdout 2013-05-23T18:33:51.337162:0 0 1\n"
       ]
      },
      {
       "output_type": "stream",
       "stream": "stdout",
       "text": [
        "130523-18:33:51,539 interface INFO:\n",
        "\t stdout 2013-05-23T18:33:51.337162:\n"
       ]
      },
      {
       "output_type": "stream",
       "stream": "stdout",
       "text": [
        "130523-18:33:51,539 interface INFO:\n",
        "\t stdout 2013-05-23T18:33:51.337162:  PointToIndexMatrix: \n"
       ]
      },
      {
       "output_type": "stream",
       "stream": "stdout",
       "text": [
        "130523-18:33:51,540 interface INFO:\n",
        "\t stdout 2013-05-23T18:33:51.337162:  -1 0 0\n"
       ]
      },
      {
       "output_type": "stream",
       "stream": "stdout",
       "text": [
        "130523-18:33:51,540 interface INFO:\n",
        "\t stdout 2013-05-23T18:33:51.337162:0 -1 0\n"
       ]
      },
      {
       "output_type": "stream",
       "stream": "stdout",
       "text": [
        "130523-18:33:51,540 interface INFO:\n",
        "\t stdout 2013-05-23T18:33:51.337162:0 0 1\n"
       ]
      },
      {
       "output_type": "stream",
       "stream": "stdout",
       "text": [
        "130523-18:33:51,542 interface INFO:\n",
        "\t stdout 2013-05-23T18:33:51.337162:\n"
       ]
      },
      {
       "output_type": "stream",
       "stream": "stdout",
       "text": [
        "130523-18:33:51,543 interface INFO:\n",
        "\t stdout 2013-05-23T18:33:51.337162:  Inverse Direction: \n"
       ]
      },
      {
       "output_type": "stream",
       "stream": "stdout",
       "text": [
        "130523-18:33:51,545 interface INFO:\n",
        "\t stdout 2013-05-23T18:33:51.337162:  -1 0 0\n"
       ]
      },
      {
       "output_type": "stream",
       "stream": "stdout",
       "text": [
        "130523-18:33:51,549 interface INFO:\n",
        "\t stdout 2013-05-23T18:33:51.337162:0 -1 0\n"
       ]
      },
      {
       "output_type": "stream",
       "stream": "stdout",
       "text": [
        "130523-18:33:51,550 interface INFO:\n",
        "\t stdout 2013-05-23T18:33:51.337162:0 0 1\n"
       ]
      },
      {
       "output_type": "stream",
       "stream": "stdout",
       "text": [
        "130523-18:33:51,553 interface INFO:\n",
        "\t stdout 2013-05-23T18:33:51.337162:\n"
       ]
      },
      {
       "output_type": "stream",
       "stream": "stdout",
       "text": [
        "130523-18:33:51,554 interface INFO:\n",
        "\t stdout 2013-05-23T18:33:51.337162:  PixelContainer: \n"
       ]
      },
      {
       "output_type": "stream",
       "stream": "stdout",
       "text": [
        "130523-18:33:51,555 interface INFO:\n",
        "\t stdout 2013-05-23T18:33:51.337162:    ImportImageContainer (0x100539b90)\n"
       ]
      },
      {
       "output_type": "stream",
       "stream": "stdout",
       "text": [
        "130523-18:33:51,555 interface INFO:\n",
        "\t stdout 2013-05-23T18:33:51.337162:      RTTI typeinfo:   itk::ImportImageContainer<unsigned long, double>\n"
       ]
      },
      {
       "output_type": "stream",
       "stream": "stdout",
       "text": [
        "130523-18:33:51,556 interface INFO:\n",
        "\t stdout 2013-05-23T18:33:51.337162:      Reference Count: 1\n"
       ]
      },
      {
       "output_type": "stream",
       "stream": "stdout",
       "text": [
        "130523-18:33:51,556 interface INFO:\n",
        "\t stdout 2013-05-23T18:33:51.337162:      Modified Time: 2052\n"
       ]
      },
      {
       "output_type": "stream",
       "stream": "stdout",
       "text": [
        "130523-18:33:51,556 interface INFO:\n",
        "\t stdout 2013-05-23T18:33:51.337162:      Debug: Off\n"
       ]
      },
      {
       "output_type": "stream",
       "stream": "stdout",
       "text": [
        "130523-18:33:51,557 interface INFO:\n",
        "\t stdout 2013-05-23T18:33:51.337162:      Observers: \n"
       ]
      },
      {
       "output_type": "stream",
       "stream": "stdout",
       "text": [
        "130523-18:33:51,557 interface INFO:\n",
        "\t stdout 2013-05-23T18:33:51.337162:        none\n"
       ]
      },
      {
       "output_type": "stream",
       "stream": "stdout",
       "text": [
        "130523-18:33:51,557 interface INFO:\n",
        "\t stdout 2013-05-23T18:33:51.337162:      Pointer: 0x11c01c000\n"
       ]
      },
      {
       "output_type": "stream",
       "stream": "stdout",
       "text": [
        "130523-18:33:51,563 interface INFO:\n",
        "\t stdout 2013-05-23T18:33:51.337162:      Container manages memory: true\n"
       ]
      },
      {
       "output_type": "stream",
       "stream": "stdout",
       "text": [
        "130523-18:33:51,563 interface INFO:\n",
        "\t stdout 2013-05-23T18:33:51.337162:      Size: 8675289\n"
       ]
      },
      {
       "output_type": "stream",
       "stream": "stdout",
       "text": [
        "130523-18:33:51,564 interface INFO:\n",
        "\t stdout 2013-05-23T18:33:51.337162:      Capacity: 8675289\n"
       ]
      },
      {
       "output_type": "stream",
       "stream": "stdout",
       "text": [
        "130523-18:33:51,564 interface INFO:\n",
        "\t stdout 2013-05-23T18:33:51.337162:\n"
       ]
      },
      {
       "output_type": "stream",
       "stream": "stdout",
       "text": [
        "130523-18:33:51,565 interface INFO:\n",
        "\t stdout 2013-05-23T18:33:51.337162:     Weighting = 1\n"
       ]
      },
      {
       "output_type": "stream",
       "stream": "stdout",
       "text": [
        "130523-18:33:51,565 interface INFO:\n",
        "\t stdout 2013-05-23T18:33:51.337162:     Sampling Strategy = regular\n"
       ]
      },
      {
       "output_type": "stream",
       "stream": "stdout",
       "text": [
        "130523-18:33:51,565 interface INFO:\n",
        "\t stdout 2013-05-23T18:33:51.337162:     NumberOfBins = 32\n"
       ]
      },
      {
       "output_type": "stream",
       "stream": "stdout",
       "text": [
        "130523-18:33:51,576 interface INFO:\n",
        "\t stdout 2013-05-23T18:33:51.337162:     Radius = 1\n"
       ]
      },
      {
       "output_type": "stream",
       "stream": "stdout",
       "text": [
        "130523-18:33:51,576 interface INFO:\n",
        "\t stdout 2013-05-23T18:33:51.337162:     Sampling percentage  = 0.1\n"
       ]
      },
      {
       "output_type": "stream",
       "stream": "stdout",
       "text": [
        "130523-18:33:51,577 interface INFO:\n",
        "\t stdout 2013-05-23T18:33:51.337162:   Transform = Affine\n"
       ]
      },
      {
       "output_type": "stream",
       "stream": "stdout",
       "text": [
        "130523-18:33:51,577 interface INFO:\n",
        "\t stdout 2013-05-23T18:33:51.337162:     Gradient Step = 0.1\n"
       ]
      },
      {
       "output_type": "stream",
       "stream": "stdout",
       "text": [
        "130523-18:33:51,577 interface INFO:\n",
        "\t stdout 2013-05-23T18:33:51.337162:     Update Field Sigma (voxel space) = 0\n"
       ]
      },
      {
       "output_type": "stream",
       "stream": "stdout",
       "text": [
        "130523-18:33:51,578 interface INFO:\n",
        "\t stdout 2013-05-23T18:33:51.337162:     Total Field Sigma (voxel space) = 0\n"
       ]
      },
      {
       "output_type": "stream",
       "stream": "stdout",
       "text": [
        "130523-18:33:51,579 interface INFO:\n",
        "\t stdout 2013-05-23T18:33:51.578670:     Update Field Time Sigma = 0\n"
       ]
      },
      {
       "output_type": "stream",
       "stream": "stdout",
       "text": [
        "130523-18:33:51,579 interface INFO:\n",
        "\t stdout 2013-05-23T18:33:51.578670:     Total Field Time Sigma  = 0\n"
       ]
      },
      {
       "output_type": "stream",
       "stream": "stdout",
       "text": [
        "130523-18:33:51,580 interface INFO:\n",
        "\t stdout 2013-05-23T18:33:51.578670:     Number of Time Indices = 0\n"
       ]
      },
      {
       "output_type": "stream",
       "stream": "stdout",
       "text": [
        "130523-18:33:51,580 interface INFO:\n",
        "\t stdout 2013-05-23T18:33:51.578670:     Number of Time Point Samples = 0\n"
       ]
      },
      {
       "output_type": "stream",
       "stream": "stdout",
       "text": [
        "130523-18:33:51,580 interface INFO:\n",
        "\t stdout 2013-05-23T18:33:51.578670:Stage 4 State\n"
       ]
      },
      {
       "output_type": "stream",
       "stream": "stdout",
       "text": [
        "130523-18:33:51,581 interface INFO:\n",
        "\t stdout 2013-05-23T18:33:51.578670:   Metric = Mattes\n"
       ]
      },
      {
       "output_type": "stream",
       "stream": "stdout",
       "text": [
        "130523-18:33:51,581 interface INFO:\n",
        "\t stdout 2013-05-23T18:33:51.578670:     Fixed Image = Image (0x10053d990)\n"
       ]
      },
      {
       "output_type": "stream",
       "stream": "stdout",
       "text": [
        "130523-18:33:51,582 interface INFO:\n",
        "\t stdout 2013-05-23T18:33:51.578670:  RTTI typeinfo:   itk::Image<double, 3u>\n"
       ]
      },
      {
       "output_type": "stream",
       "stream": "stdout",
       "text": [
        "130523-18:33:51,582 interface INFO:\n",
        "\t stdout 2013-05-23T18:33:51.578670:  Reference Count: 2\n"
       ]
      },
      {
       "output_type": "stream",
       "stream": "stdout",
       "text": [
        "130523-18:33:51,582 interface INFO:\n",
        "\t stdout 2013-05-23T18:33:51.578670:  Modified Time: 2374\n"
       ]
      },
      {
       "output_type": "stream",
       "stream": "stdout",
       "text": [
        "130523-18:33:51,583 interface INFO:\n",
        "\t stdout 2013-05-23T18:33:51.578670:  Debug: Off\n"
       ]
      },
      {
       "output_type": "stream",
       "stream": "stdout",
       "text": [
        "130523-18:33:51,583 interface INFO:\n",
        "\t stdout 2013-05-23T18:33:51.578670:  Observers: \n"
       ]
      },
      {
       "output_type": "stream",
       "stream": "stdout",
       "text": [
        "130523-18:33:51,584 interface INFO:\n",
        "\t stdout 2013-05-23T18:33:51.578670:    none\n"
       ]
      },
      {
       "output_type": "stream",
       "stream": "stdout",
       "text": [
        "130523-18:33:51,584 interface INFO:\n",
        "\t stdout 2013-05-23T18:33:51.578670:  Source: (none)\n"
       ]
      },
      {
       "output_type": "stream",
       "stream": "stdout",
       "text": [
        "130523-18:33:51,584 interface INFO:\n",
        "\t stdout 2013-05-23T18:33:51.578670:  Source output name: (none)\n"
       ]
      },
      {
       "output_type": "stream",
       "stream": "stdout",
       "text": [
        "130523-18:33:51,585 interface INFO:\n",
        "\t stdout 2013-05-23T18:33:51.578670:  Release Data: Off\n"
       ]
      },
      {
       "output_type": "stream",
       "stream": "stdout",
       "text": [
        "130523-18:33:51,588 interface INFO:\n",
        "\t stdout 2013-05-23T18:33:51.578670:  Data Released: False\n"
       ]
      },
      {
       "output_type": "stream",
       "stream": "stdout",
       "text": [
        "130523-18:33:51,588 interface INFO:\n",
        "\t stdout 2013-05-23T18:33:51.578670:  Global Release Data: Off\n"
       ]
      },
      {
       "output_type": "stream",
       "stream": "stdout",
       "text": [
        "130523-18:33:51,591 interface INFO:\n",
        "\t stdout 2013-05-23T18:33:51.578670:  PipelineMTime: 0\n"
       ]
      },
      {
       "output_type": "stream",
       "stream": "stdout",
       "text": [
        "130523-18:33:51,593 interface INFO:\n",
        "\t stdout 2013-05-23T18:33:51.578670:  UpdateMTime: 2213\n"
       ]
      },
      {
       "output_type": "stream",
       "stream": "stdout",
       "text": [
        "130523-18:33:51,595 interface INFO:\n",
        "\t stdout 2013-05-23T18:33:51.578670:  RealTimeStamp: 0 seconds \n"
       ]
      },
      {
       "output_type": "stream",
       "stream": "stdout",
       "text": [
        "130523-18:33:51,597 interface INFO:\n",
        "\t stdout 2013-05-23T18:33:51.578670:  LargestPossibleRegion: \n"
       ]
      },
      {
       "output_type": "stream",
       "stream": "stdout",
       "text": [
        "130523-18:33:51,598 interface INFO:\n",
        "\t stdout 2013-05-23T18:33:51.578670:    Dimension: 3\n"
       ]
      },
      {
       "output_type": "stream",
       "stream": "stdout",
       "text": [
        "130523-18:33:51,599 interface INFO:\n",
        "\t stdout 2013-05-23T18:33:51.578670:    Index: [0, 0, 0]\n"
       ]
      },
      {
       "output_type": "stream",
       "stream": "stdout",
       "text": [
        "130523-18:33:51,601 interface INFO:\n",
        "\t stdout 2013-05-23T18:33:51.578670:    Size: [124, 256, 256]\n"
       ]
      },
      {
       "output_type": "stream",
       "stream": "stdout",
       "text": [
        "130523-18:33:51,602 interface INFO:\n",
        "\t stdout 2013-05-23T18:33:51.578670:  BufferedRegion: \n"
       ]
      },
      {
       "output_type": "stream",
       "stream": "stdout",
       "text": [
        "130523-18:33:51,603 interface INFO:\n",
        "\t stdout 2013-05-23T18:33:51.578670:    Dimension: 3\n"
       ]
      },
      {
       "output_type": "stream",
       "stream": "stdout",
       "text": [
        "130523-18:33:51,610 interface INFO:\n",
        "\t stdout 2013-05-23T18:33:51.578670:    Index: [0, 0, 0]\n"
       ]
      },
      {
       "output_type": "stream",
       "stream": "stdout",
       "text": [
        "130523-18:33:51,611 interface INFO:\n",
        "\t stdout 2013-05-23T18:33:51.578670:    Size: [124, 256, 256]\n"
       ]
      },
      {
       "output_type": "stream",
       "stream": "stdout",
       "text": [
        "130523-18:33:51,623 interface INFO:\n",
        "\t stdout 2013-05-23T18:33:51.578670:  RequestedRegion: \n"
       ]
      },
      {
       "output_type": "stream",
       "stream": "stdout",
       "text": [
        "130523-18:33:51,624 interface INFO:\n",
        "\t stdout 2013-05-23T18:33:51.578670:    Dimension: 3\n"
       ]
      },
      {
       "output_type": "stream",
       "stream": "stdout",
       "text": [
        "130523-18:33:51,624 interface INFO:\n",
        "\t stdout 2013-05-23T18:33:51.578670:    Index: [0, 0, 0]\n"
       ]
      },
      {
       "output_type": "stream",
       "stream": "stdout",
       "text": [
        "130523-18:33:51,624 interface INFO:\n",
        "\t stdout 2013-05-23T18:33:51.578670:    Size: [124, 256, 256]\n"
       ]
      },
      {
       "output_type": "stream",
       "stream": "stdout",
       "text": [
        "130523-18:33:51,625 interface INFO:\n",
        "\t stdout 2013-05-23T18:33:51.578670:  Spacing: [1.2, 0.9375, 0.9375]\n"
       ]
      },
      {
       "output_type": "stream",
       "stream": "stdout",
       "text": [
        "130523-18:33:51,625 interface INFO:\n",
        "\t stdout 2013-05-23T18:33:51.578670:  Origin: [0, 0, 0]\n"
       ]
      },
      {
       "output_type": "stream",
       "stream": "stdout",
       "text": [
        "130523-18:33:51,626 interface INFO:\n",
        "\t stdout 2013-05-23T18:33:51.578670:  Direction: \n"
       ]
      },
      {
       "output_type": "stream",
       "stream": "stdout",
       "text": [
        "130523-18:33:51,626 interface INFO:\n",
        "\t stdout 2013-05-23T18:33:51.578670:1 0 0\n"
       ]
      },
      {
       "output_type": "stream",
       "stream": "stdout",
       "text": [
        "130523-18:33:51,627 interface INFO:\n",
        "\t stdout 2013-05-23T18:33:51.578670:0 1 0\n"
       ]
      },
      {
       "output_type": "stream",
       "stream": "stdout",
       "text": [
        "130523-18:33:51,627 interface INFO:\n",
        "\t stdout 2013-05-23T18:33:51.578670:0 0 1\n"
       ]
      },
      {
       "output_type": "stream",
       "stream": "stdout",
       "text": [
        "130523-18:33:51,628 interface INFO:\n",
        "\t stdout 2013-05-23T18:33:51.578670:\n"
       ]
      },
      {
       "output_type": "stream",
       "stream": "stdout",
       "text": [
        "130523-18:33:51,628 interface INFO:\n",
        "\t stdout 2013-05-23T18:33:51.578670:  IndexToPointMatrix: \n"
       ]
      },
      {
       "output_type": "stream",
       "stream": "stdout",
       "text": [
        "130523-18:33:51,628 interface INFO:\n",
        "\t stdout 2013-05-23T18:33:51.578670:  1.2 0 0\n"
       ]
      },
      {
       "output_type": "stream",
       "stream": "stdout",
       "text": [
        "130523-18:33:51,629 interface INFO:\n",
        "\t stdout 2013-05-23T18:33:51.578670:0 0.9375 0\n"
       ]
      },
      {
       "output_type": "stream",
       "stream": "stdout",
       "text": [
        "130523-18:33:51,629 interface INFO:\n",
        "\t stdout 2013-05-23T18:33:51.578670:0 0 0.9375\n"
       ]
      },
      {
       "output_type": "stream",
       "stream": "stdout",
       "text": [
        "130523-18:33:51,630 interface INFO:\n",
        "\t stdout 2013-05-23T18:33:51.578670:\n"
       ]
      },
      {
       "output_type": "stream",
       "stream": "stdout",
       "text": [
        "130523-18:33:51,630 interface INFO:\n",
        "\t stdout 2013-05-23T18:33:51.578670:  PointToIndexMatrix: \n"
       ]
      },
      {
       "output_type": "stream",
       "stream": "stdout",
       "text": [
        "130523-18:33:51,630 interface INFO:\n",
        "\t stdout 2013-05-23T18:33:51.578670:  0.833333 0 0\n"
       ]
      },
      {
       "output_type": "stream",
       "stream": "stdout",
       "text": [
        "130523-18:33:51,631 interface INFO:\n",
        "\t stdout 2013-05-23T18:33:51.578670:0 1.06667 0\n"
       ]
      },
      {
       "output_type": "stream",
       "stream": "stdout",
       "text": [
        "130523-18:33:51,639 interface INFO:\n",
        "\t stdout 2013-05-23T18:33:51.578670:0 0 1.06667\n"
       ]
      },
      {
       "output_type": "stream",
       "stream": "stdout",
       "text": [
        "130523-18:33:51,640 interface INFO:\n",
        "\t stdout 2013-05-23T18:33:51.578670:\n"
       ]
      },
      {
       "output_type": "stream",
       "stream": "stdout",
       "text": [
        "130523-18:33:51,641 interface INFO:\n",
        "\t stdout 2013-05-23T18:33:51.578670:  Inverse Direction: \n"
       ]
      },
      {
       "output_type": "stream",
       "stream": "stdout",
       "text": [
        "130523-18:33:51,643 interface INFO:\n",
        "\t stdout 2013-05-23T18:33:51.578670:  1 0 0\n"
       ]
      },
      {
       "output_type": "stream",
       "stream": "stdout",
       "text": [
        "130523-18:33:51,644 interface INFO:\n",
        "\t stdout 2013-05-23T18:33:51.578670:0 1 0\n"
       ]
      },
      {
       "output_type": "stream",
       "stream": "stdout",
       "text": [
        "130523-18:33:51,644 interface INFO:\n",
        "\t stdout 2013-05-23T18:33:51.578670:0 0 1\n"
       ]
      },
      {
       "output_type": "stream",
       "stream": "stdout",
       "text": [
        "130523-18:33:51,645 interface INFO:\n",
        "\t stdout 2013-05-23T18:33:51.578670:\n"
       ]
      },
      {
       "output_type": "stream",
       "stream": "stdout",
       "text": [
        "130523-18:33:51,646 interface INFO:\n",
        "\t stdout 2013-05-23T18:33:51.578670:  PixelContainer: \n"
       ]
      },
      {
       "output_type": "stream",
       "stream": "stdout",
       "text": [
        "130523-18:33:51,646 interface INFO:\n",
        "\t stdout 2013-05-23T18:33:51.578670:    ImportImageContainer (0x10053bb00)\n"
       ]
      },
      {
       "output_type": "stream",
       "stream": "stdout",
       "text": [
        "130523-18:33:51,657 interface INFO:\n",
        "\t stdout 2013-05-23T18:33:51.578670:      RTTI typeinfo:   itk::ImportImageContainer<unsigned long, double>\n"
       ]
      },
      {
       "output_type": "stream",
       "stream": "stdout",
       "text": [
        "130523-18:33:51,658 interface INFO:\n",
        "\t stdout 2013-05-23T18:33:51.578670:      Reference Count: 1\n"
       ]
      },
      {
       "output_type": "stream",
       "stream": "stdout",
       "text": [
        "130523-18:33:51,658 interface INFO:\n",
        "\t stdout 2013-05-23T18:33:51.578670:      Modified Time: 2210\n"
       ]
      },
      {
       "output_type": "stream",
       "stream": "stdout",
       "text": [
        "130523-18:33:51,659 interface INFO:\n",
        "\t stdout 2013-05-23T18:33:51.578670:      Debug: Off\n"
       ]
      },
      {
       "output_type": "stream",
       "stream": "stdout",
       "text": [
        "130523-18:33:51,659 interface INFO:\n",
        "\t stdout 2013-05-23T18:33:51.578670:      Observers: \n"
       ]
      },
      {
       "output_type": "stream",
       "stream": "stdout",
       "text": [
        "130523-18:33:51,660 interface INFO:\n",
        "\t stdout 2013-05-23T18:33:51.578670:        none\n"
       ]
      },
      {
       "output_type": "stream",
       "stream": "stdout",
       "text": [
        "130523-18:33:51,661 interface INFO:\n",
        "\t stdout 2013-05-23T18:33:51.578670:      Pointer: 0x12024c000\n"
       ]
      },
      {
       "output_type": "stream",
       "stream": "stdout",
       "text": [
        "130523-18:33:51,662 interface INFO:\n",
        "\t stdout 2013-05-23T18:33:51.578670:      Container manages memory: true\n"
       ]
      },
      {
       "output_type": "stream",
       "stream": "stdout",
       "text": [
        "130523-18:33:51,662 interface INFO:\n",
        "\t stdout 2013-05-23T18:33:51.578670:      Size: 8126464\n"
       ]
      },
      {
       "output_type": "stream",
       "stream": "stdout",
       "text": [
        "130523-18:33:51,662 interface INFO:\n",
        "\t stdout 2013-05-23T18:33:51.578670:      Capacity: 8126464\n"
       ]
      },
      {
       "output_type": "stream",
       "stream": "stdout",
       "text": [
        "130523-18:33:51,665 interface INFO:\n",
        "\t stdout 2013-05-23T18:33:51.578670:\n"
       ]
      },
      {
       "output_type": "stream",
       "stream": "stdout",
       "text": [
        "130523-18:33:51,665 interface INFO:\n",
        "\t stdout 2013-05-23T18:33:51.578670:     Moving Image = Image (0x1005409b0)\n"
       ]
      },
      {
       "output_type": "stream",
       "stream": "stdout",
       "text": [
        "130523-18:33:51,665 interface INFO:\n",
        "\t stdout 2013-05-23T18:33:51.578670:  RTTI typeinfo:   itk::Image<double, 3u>\n"
       ]
      },
      {
       "output_type": "stream",
       "stream": "stdout",
       "text": [
        "130523-18:33:51,666 interface INFO:\n",
        "\t stdout 2013-05-23T18:33:51.578670:  Reference Count: 2\n"
       ]
      },
      {
       "output_type": "stream",
       "stream": "stdout",
       "text": [
        "130523-18:33:51,666 interface INFO:\n",
        "\t stdout 2013-05-23T18:33:51.578670:  Modified Time: 2375\n"
       ]
      },
      {
       "output_type": "stream",
       "stream": "stdout",
       "text": [
        "130523-18:33:51,667 interface INFO:\n",
        "\t stdout 2013-05-23T18:33:51.578670:  Debug: Off\n"
       ]
      },
      {
       "output_type": "stream",
       "stream": "stdout",
       "text": [
        "130523-18:33:51,667 interface INFO:\n",
        "\t stdout 2013-05-23T18:33:51.578670:  Observers: \n"
       ]
      },
      {
       "output_type": "stream",
       "stream": "stdout",
       "text": [
        "130523-18:33:51,667 interface INFO:\n",
        "\t stdout 2013-05-23T18:33:51.578670:    none\n"
       ]
      },
      {
       "output_type": "stream",
       "stream": "stdout",
       "text": [
        "130523-18:33:51,668 interface INFO:\n",
        "\t stdout 2013-05-23T18:33:51.578670:  Source: (none)\n"
       ]
      },
      {
       "output_type": "stream",
       "stream": "stdout",
       "text": [
        "130523-18:33:51,668 interface INFO:\n",
        "\t stdout 2013-05-23T18:33:51.578670:  Source output name: (none)\n"
       ]
      },
      {
       "output_type": "stream",
       "stream": "stdout",
       "text": [
        "130523-18:33:51,669 interface INFO:\n",
        "\t stdout 2013-05-23T18:33:51.578670:  Release Data: Off\n"
       ]
      },
      {
       "output_type": "stream",
       "stream": "stdout",
       "text": [
        "130523-18:33:51,669 interface INFO:\n",
        "\t stdout 2013-05-23T18:33:51.578670:  Data Released: False\n"
       ]
      },
      {
       "output_type": "stream",
       "stream": "stdout",
       "text": [
        "130523-18:33:51,670 interface INFO:\n",
        "\t stdout 2013-05-23T18:33:51.578670:  Global Release Data: Off\n"
       ]
      },
      {
       "output_type": "stream",
       "stream": "stdout",
       "text": [
        "130523-18:33:51,670 interface INFO:\n",
        "\t stdout 2013-05-23T18:33:51.578670:  PipelineMTime: 0\n"
       ]
      },
      {
       "output_type": "stream",
       "stream": "stdout",
       "text": [
        "130523-18:33:51,670 interface INFO:\n",
        "\t stdout 2013-05-23T18:33:51.578670:  UpdateMTime: 2372\n"
       ]
      },
      {
       "output_type": "stream",
       "stream": "stdout",
       "text": [
        "130523-18:33:51,671 interface INFO:\n",
        "\t stdout 2013-05-23T18:33:51.578670:  RealTimeStamp: 0 seconds \n"
       ]
      },
      {
       "output_type": "stream",
       "stream": "stdout",
       "text": [
        "130523-18:33:51,671 interface INFO:\n",
        "\t stdout 2013-05-23T18:33:51.578670:  LargestPossibleRegion: \n"
       ]
      },
      {
       "output_type": "stream",
       "stream": "stdout",
       "text": [
        "130523-18:33:51,672 interface INFO:\n",
        "\t stdout 2013-05-23T18:33:51.578670:    Dimension: 3\n"
       ]
      },
      {
       "output_type": "stream",
       "stream": "stdout",
       "text": [
        "130523-18:33:51,672 interface INFO:\n",
        "\t stdout 2013-05-23T18:33:51.578670:    Index: [0, 0, 0]\n"
       ]
      },
      {
       "output_type": "stream",
       "stream": "stdout",
       "text": [
        "130523-18:33:51,672 interface INFO:\n",
        "\t stdout 2013-05-23T18:33:51.578670:    Size: [197, 233, 189]\n"
       ]
      },
      {
       "output_type": "stream",
       "stream": "stdout",
       "text": [
        "130523-18:33:51,673 interface INFO:\n",
        "\t stdout 2013-05-23T18:33:51.578670:  BufferedRegion: \n"
       ]
      },
      {
       "output_type": "stream",
       "stream": "stdout",
       "text": [
        "130523-18:33:51,673 interface INFO:\n",
        "\t stdout 2013-05-23T18:33:51.578670:    Dimension: 3\n"
       ]
      },
      {
       "output_type": "stream",
       "stream": "stdout",
       "text": [
        "130523-18:33:51,674 interface INFO:\n",
        "\t stdout 2013-05-23T18:33:51.578670:    Index: [0, 0, 0]\n"
       ]
      },
      {
       "output_type": "stream",
       "stream": "stdout",
       "text": [
        "130523-18:33:51,674 interface INFO:\n",
        "\t stdout 2013-05-23T18:33:51.578670:    Size: [197, 233, 189]\n"
       ]
      },
      {
       "output_type": "stream",
       "stream": "stdout",
       "text": [
        "130523-18:33:51,674 interface INFO:\n",
        "\t stdout 2013-05-23T18:33:51.578670:  RequestedRegion: \n"
       ]
      },
      {
       "output_type": "stream",
       "stream": "stdout",
       "text": [
        "130523-18:33:51,676 interface INFO:\n",
        "\t stdout 2013-05-23T18:33:51.578670:    Dimension: 3\n"
       ]
      },
      {
       "output_type": "stream",
       "stream": "stdout",
       "text": [
        "130523-18:33:51,677 interface INFO:\n",
        "\t stdout 2013-05-23T18:33:51.578670:    Index: [0, 0, 0]\n"
       ]
      },
      {
       "output_type": "stream",
       "stream": "stdout",
       "text": [
        "130523-18:33:51,677 interface INFO:\n",
        "\t stdout 2013-05-23T18:33:51.578670:    Size: [197, 233, 189]\n"
       ]
      },
      {
       "output_type": "stream",
       "stream": "stdout",
       "text": [
        "130523-18:33:51,677 interface INFO:\n",
        "\t stdout 2013-05-23T18:33:51.578670:  Spacing: [1, 1, 1]\n"
       ]
      },
      {
       "output_type": "stream",
       "stream": "stdout",
       "text": [
        "130523-18:33:51,678 interface INFO:\n",
        "\t stdout 2013-05-23T18:33:51.578670:  Origin: [98, 134, -72]\n"
       ]
      },
      {
       "output_type": "stream",
       "stream": "stdout",
       "text": [
        "130523-18:33:51,678 interface INFO:\n",
        "\t stdout 2013-05-23T18:33:51.578670:  Direction: \n"
       ]
      },
      {
       "output_type": "stream",
       "stream": "stdout",
       "text": [
        "130523-18:33:51,679 interface INFO:\n",
        "\t stdout 2013-05-23T18:33:51.578670:-1 0 0\n"
       ]
      },
      {
       "output_type": "stream",
       "stream": "stdout",
       "text": [
        "130523-18:33:51,679 interface INFO:\n",
        "\t stdout 2013-05-23T18:33:51.578670:0 -1 0\n"
       ]
      },
      {
       "output_type": "stream",
       "stream": "stdout",
       "text": [
        "130523-18:33:51,679 interface INFO:\n",
        "\t stdout 2013-05-23T18:33:51.578670:0 0 1\n"
       ]
      },
      {
       "output_type": "stream",
       "stream": "stdout",
       "text": [
        "130523-18:33:51,680 interface INFO:\n",
        "\t stdout 2013-05-23T18:33:51.578670:\n"
       ]
      },
      {
       "output_type": "stream",
       "stream": "stdout",
       "text": [
        "130523-18:33:51,680 interface INFO:\n",
        "\t stdout 2013-05-23T18:33:51.578670:  IndexToPointMatrix: \n"
       ]
      },
      {
       "output_type": "stream",
       "stream": "stdout",
       "text": [
        "130523-18:33:51,680 interface INFO:\n",
        "\t stdout 2013-05-23T18:33:51.578670:  -1 0 0\n"
       ]
      },
      {
       "output_type": "stream",
       "stream": "stdout",
       "text": [
        "130523-18:33:51,681 interface INFO:\n",
        "\t stdout 2013-05-23T18:33:51.578670:0 -1 0\n"
       ]
      },
      {
       "output_type": "stream",
       "stream": "stdout",
       "text": [
        "130523-18:33:51,681 interface INFO:\n",
        "\t stdout 2013-05-23T18:33:51.578670:0 0 1\n"
       ]
      },
      {
       "output_type": "stream",
       "stream": "stdout",
       "text": [
        "130523-18:33:51,681 interface INFO:\n",
        "\t stdout 2013-05-23T18:33:51.578670:\n"
       ]
      },
      {
       "output_type": "stream",
       "stream": "stdout",
       "text": [
        "130523-18:33:51,682 interface INFO:\n",
        "\t stdout 2013-05-23T18:33:51.578670:  PointToIndexMatrix: \n"
       ]
      },
      {
       "output_type": "stream",
       "stream": "stdout",
       "text": [
        "130523-18:33:51,682 interface INFO:\n",
        "\t stdout 2013-05-23T18:33:51.578670:  -1 0 0\n"
       ]
      },
      {
       "output_type": "stream",
       "stream": "stdout",
       "text": [
        "130523-18:33:51,683 interface INFO:\n",
        "\t stdout 2013-05-23T18:33:51.578670:0 -1 0\n"
       ]
      },
      {
       "output_type": "stream",
       "stream": "stdout",
       "text": [
        "130523-18:33:51,683 interface INFO:\n",
        "\t stdout 2013-05-23T18:33:51.578670:0 0 1\n"
       ]
      },
      {
       "output_type": "stream",
       "stream": "stdout",
       "text": [
        "130523-18:33:51,683 interface INFO:\n",
        "\t stdout 2013-05-23T18:33:51.578670:\n"
       ]
      },
      {
       "output_type": "stream",
       "stream": "stdout",
       "text": [
        "130523-18:33:51,684 interface INFO:\n",
        "\t stdout 2013-05-23T18:33:51.578670:  Inverse Direction: \n"
       ]
      },
      {
       "output_type": "stream",
       "stream": "stdout",
       "text": [
        "130523-18:33:51,684 interface INFO:\n",
        "\t stdout 2013-05-23T18:33:51.578670:  -1 0 0\n"
       ]
      },
      {
       "output_type": "stream",
       "stream": "stdout",
       "text": [
        "130523-18:33:51,685 interface INFO:\n",
        "\t stdout 2013-05-23T18:33:51.578670:0 -1 0\n"
       ]
      },
      {
       "output_type": "stream",
       "stream": "stdout",
       "text": [
        "130523-18:33:51,685 interface INFO:\n",
        "\t stdout 2013-05-23T18:33:51.578670:0 0 1\n"
       ]
      },
      {
       "output_type": "stream",
       "stream": "stdout",
       "text": [
        "130523-18:33:51,690 interface INFO:\n",
        "\t stdout 2013-05-23T18:33:51.578670:\n"
       ]
      },
      {
       "output_type": "stream",
       "stream": "stdout",
       "text": [
        "130523-18:33:51,693 interface INFO:\n",
        "\t stdout 2013-05-23T18:33:51.578670:  PixelContainer: \n"
       ]
      },
      {
       "output_type": "stream",
       "stream": "stdout",
       "text": [
        "130523-18:33:51,694 interface INFO:\n",
        "\t stdout 2013-05-23T18:33:51.578670:    ImportImageContainer (0x100538a30)\n"
       ]
      },
      {
       "output_type": "stream",
       "stream": "stdout",
       "text": [
        "130523-18:33:51,701 interface INFO:\n",
        "\t stdout 2013-05-23T18:33:51.578670:      RTTI typeinfo:   itk::ImportImageContainer<unsigned long, double>\n"
       ]
      },
      {
       "output_type": "stream",
       "stream": "stdout",
       "text": [
        "130523-18:33:51,702 interface INFO:\n",
        "\t stdout 2013-05-23T18:33:51.578670:      Reference Count: 1\n"
       ]
      },
      {
       "output_type": "stream",
       "stream": "stdout",
       "text": [
        "130523-18:33:51,702 interface INFO:\n",
        "\t stdout 2013-05-23T18:33:51.578670:      Modified Time: 2369\n"
       ]
      },
      {
       "output_type": "stream",
       "stream": "stdout",
       "text": [
        "130523-18:33:51,703 interface INFO:\n",
        "\t stdout 2013-05-23T18:33:51.578670:      Debug: Off\n"
       ]
      },
      {
       "output_type": "stream",
       "stream": "stdout",
       "text": [
        "130523-18:33:51,703 interface INFO:\n",
        "\t stdout 2013-05-23T18:33:51.578670:      Observers: \n"
       ]
      },
      {
       "output_type": "stream",
       "stream": "stdout",
       "text": [
        "130523-18:33:51,703 interface INFO:\n",
        "\t stdout 2013-05-23T18:33:51.578670:        none\n"
       ]
      },
      {
       "output_type": "stream",
       "stream": "stdout",
       "text": [
        "130523-18:33:51,704 interface INFO:\n",
        "\t stdout 2013-05-23T18:33:51.578670:      Pointer: 0x12404c000\n"
       ]
      },
      {
       "output_type": "stream",
       "stream": "stdout",
       "text": [
        "130523-18:33:51,704 interface INFO:\n",
        "\t stdout 2013-05-23T18:33:51.578670:      Container manages memory: true\n"
       ]
      },
      {
       "output_type": "stream",
       "stream": "stdout",
       "text": [
        "130523-18:33:51,705 interface INFO:\n",
        "\t stdout 2013-05-23T18:33:51.578670:      Size: 8675289\n"
       ]
      },
      {
       "output_type": "stream",
       "stream": "stdout",
       "text": [
        "130523-18:33:51,705 interface INFO:\n",
        "\t stdout 2013-05-23T18:33:51.578670:      Capacity: 8675289\n"
       ]
      },
      {
       "output_type": "stream",
       "stream": "stdout",
       "text": [
        "130523-18:33:51,705 interface INFO:\n",
        "\t stdout 2013-05-23T18:33:51.578670:\n"
       ]
      },
      {
       "output_type": "stream",
       "stream": "stdout",
       "text": [
        "130523-18:33:51,706 interface INFO:\n",
        "\t stdout 2013-05-23T18:33:51.578670:     Weighting = 1\n"
       ]
      },
      {
       "output_type": "stream",
       "stream": "stdout",
       "text": [
        "130523-18:33:51,706 interface INFO:\n",
        "\t stdout 2013-05-23T18:33:51.578670:     Sampling Strategy = none\n"
       ]
      },
      {
       "output_type": "stream",
       "stream": "stdout",
       "text": [
        "130523-18:33:51,707 interface INFO:\n",
        "\t stdout 2013-05-23T18:33:51.578670:     NumberOfBins = 32\n"
       ]
      },
      {
       "output_type": "stream",
       "stream": "stdout",
       "text": [
        "130523-18:33:51,707 interface INFO:\n",
        "\t stdout 2013-05-23T18:33:51.578670:     Radius = 1\n"
       ]
      },
      {
       "output_type": "stream",
       "stream": "stdout",
       "text": [
        "130523-18:33:51,707 interface INFO:\n",
        "\t stdout 2013-05-23T18:33:51.578670:     Sampling percentage  = 1\n"
       ]
      },
      {
       "output_type": "stream",
       "stream": "stdout",
       "text": [
        "130523-18:33:51,708 interface INFO:\n",
        "\t stdout 2013-05-23T18:33:51.578670:   Transform = SyN\n"
       ]
      },
      {
       "output_type": "stream",
       "stream": "stdout",
       "text": [
        "130523-18:33:51,708 interface INFO:\n",
        "\t stdout 2013-05-23T18:33:51.578670:     Gradient Step = 0.3\n"
       ]
      },
      {
       "output_type": "stream",
       "stream": "stdout",
       "text": [
        "130523-18:33:51,709 interface INFO:\n",
        "\t stdout 2013-05-23T18:33:51.578670:     Update Field Sigma (voxel space) = 3\n"
       ]
      },
      {
       "output_type": "stream",
       "stream": "stdout",
       "text": [
        "130523-18:33:51,709 interface INFO:\n",
        "\t stdout 2013-05-23T18:33:51.578670:     Total Field Sigma (voxel space) = 0\n"
       ]
      },
      {
       "output_type": "stream",
       "stream": "stdout",
       "text": [
        "130523-18:33:51,710 interface INFO:\n",
        "\t stdout 2013-05-23T18:33:51.578670:     Update Field Time Sigma = 0\n"
       ]
      },
      {
       "output_type": "stream",
       "stream": "stdout",
       "text": [
        "130523-18:33:51,711 interface INFO:\n",
        "\t stdout 2013-05-23T18:33:51.578670:     Total Field Time Sigma  = 0\n"
       ]
      },
      {
       "output_type": "stream",
       "stream": "stdout",
       "text": [
        "130523-18:33:51,723 interface INFO:\n",
        "\t stdout 2013-05-23T18:33:51.578670:     Number of Time Indices = 0\n"
       ]
      },
      {
       "output_type": "stream",
       "stream": "stdout",
       "text": [
        "130523-18:33:51,726 interface INFO:\n",
        "\t stdout 2013-05-23T18:33:51.578670:     Number of Time Point Samples = 0\n"
       ]
      },
      {
       "output_type": "stream",
       "stream": "stdout",
       "text": [
        "130523-18:33:51,728 interface INFO:\n",
        "\t stdout 2013-05-23T18:33:51.578670:Registration using 4 total stages.\n"
       ]
      },
      {
       "output_type": "stream",
       "stream": "stdout",
       "text": [
        "130523-18:33:51,728 interface INFO:\n",
        "\t stdout 2013-05-23T18:33:51.578670:\n"
       ]
      },
      {
       "output_type": "stream",
       "stream": "stdout",
       "text": [
        "130523-18:33:51,730 interface INFO:\n",
        "\t stdout 2013-05-23T18:33:51.578670:Stage 0\n"
       ]
      },
      {
       "output_type": "stream",
       "stream": "stdout",
       "text": [
        "130523-18:33:51,731 interface INFO:\n",
        "\t stdout 2013-05-23T18:33:51.578670:  iterations = 10000x0x0\n"
       ]
      },
      {
       "output_type": "stream",
       "stream": "stdout",
       "text": [
        "130523-18:33:51,731 interface INFO:\n",
        "\t stdout 2013-05-23T18:33:51.578670:  convergence threshold = 1e-08\n"
       ]
      },
      {
       "output_type": "stream",
       "stream": "stdout",
       "text": [
        "130523-18:33:51,733 interface INFO:\n",
        "\t stdout 2013-05-23T18:33:51.578670:  convergence window size = 20\n"
       ]
      },
      {
       "output_type": "stream",
       "stream": "stdout",
       "text": [
        "130523-18:33:51,734 interface INFO:\n",
        "\t stdout 2013-05-23T18:33:51.578670:  number of levels = 3\n"
       ]
      },
      {
       "output_type": "stream",
       "stream": "stdout",
       "text": [
        "130523-18:33:51,735 interface INFO:\n",
        "\t stdout 2013-05-23T18:33:51.578670:  shrink factors per level: [6, 4, 2]\n"
       ]
      },
      {
       "output_type": "stream",
       "stream": "stdout",
       "text": [
        "130523-18:33:51,736 interface INFO:\n",
        "\t stdout 2013-05-23T18:33:51.578670:  smoothing sigmas per level: [4, 2, 1]\n"
       ]
      },
      {
       "output_type": "stream",
       "stream": "stdout",
       "text": [
        "130523-18:33:56,502 interface INFO:\n",
        "\t stdout 2013-05-23T18:33:56.502036:  preprocessing:  winsorizing the image intensities\n"
       ]
      },
      {
       "output_type": "stream",
       "stream": "stdout",
       "text": [
        "130523-18:33:56,502 interface INFO:\n",
        "\t stdout 2013-05-23T18:33:56.502036:  preprocessing:  histogram matching the images\n"
       ]
      },
      {
       "output_type": "stream",
       "stream": "stdout",
       "text": [
        "130523-18:33:56,503 interface INFO:\n",
        "\t stdout 2013-05-23T18:33:56.502036:  using the Mattes MI metric (number of bins = 32, weight = 1)\n"
       ]
      },
      {
       "output_type": "stream",
       "stream": "stdout",
       "text": [
        "130523-18:33:56,504 interface INFO:\n",
        "\t stdout 2013-05-23T18:33:56.504576:  regular sampling (percentage = 0.1)\n"
       ]
      },
      {
       "output_type": "stream",
       "stream": "stdout",
       "text": [
        "130523-18:33:56,505 interface INFO:\n",
        "\t stdout 2013-05-23T18:33:56.504576:\n"
       ]
      },
      {
       "output_type": "stream",
       "stream": "stdout",
       "text": [
        "130523-18:33:56,505 interface INFO:\n",
        "\t stdout 2013-05-23T18:33:56.504576:*** Running translation registration ***\n"
       ]
      },
      {
       "output_type": "stream",
       "stream": "stdout",
       "text": [
        "130523-18:33:56,506 interface INFO:\n",
        "\t stdout 2013-05-23T18:33:56.504576:\n"
       ]
      },
      {
       "output_type": "stream",
       "stream": "stdout",
       "text": [
        "130523-18:33:56,506 interface INFO:\n",
        "\t stdout 2013-05-23T18:33:56.504576:  Current level = 1 of 3\n"
       ]
      },
      {
       "output_type": "stream",
       "stream": "stdout",
       "text": [
        "130523-18:33:56,507 interface INFO:\n",
        "\t stdout 2013-05-23T18:33:56.504576:    number of iterations = 10000\n"
       ]
      },
      {
       "output_type": "stream",
       "stream": "stdout",
       "text": [
        "130523-18:33:56,507 interface INFO:\n",
        "\t stdout 2013-05-23T18:33:56.507696:    shrink factors = 6\n"
       ]
      },
      {
       "output_type": "stream",
       "stream": "stdout",
       "text": [
        "130523-18:33:56,508 interface INFO:\n",
        "\t stdout 2013-05-23T18:33:56.507696:    smoothing sigmas = 4 vox\n"
       ]
      },
      {
       "output_type": "stream",
       "stream": "stdout",
       "text": [
        "130523-18:33:56,508 interface INFO:\n",
        "\t stdout 2013-05-23T18:33:56.507696:    required fixed parameters = []\n"
       ]
      },
      {
       "output_type": "stream",
       "stream": "stdout",
       "text": [
        "130523-18:34:01,463 interface INFO:\n",
        "\t stdout 2013-05-23T18:34:01.463853:DIAGNOSTIC,Iteration,metricValue,convergenceValue,ITERATION_TIME_INDEX,SINCE_LAST\n"
       ]
      },
      {
       "output_type": "stream",
       "stream": "stdout",
       "text": [
        "130523-18:34:01,464 interface INFO:\n",
        "\t stdout 2013-05-23T18:34:01.463853: DIAGNOSTIC,     1, -5.445046712639e-01, 1.797693134862e+308, 4.9606e+00, 4.9606e+00, \n"
       ]
      },
      {
       "output_type": "stream",
       "stream": "stdout",
       "text": [
        "130523-18:34:01,490 interface INFO:\n",
        "\t stdout 2013-05-23T18:34:01.490194: DIAGNOSTIC,     2, -5.459024245767e-01, 1.797693134862e+308, 4.9869e+00, 2.6302e-02, \n"
       ]
      },
      {
       "output_type": "stream",
       "stream": "stdout",
       "text": [
        "130523-18:34:01,517 interface INFO:\n",
        "\t stdout 2013-05-23T18:34:01.517691: DIAGNOSTIC,     3, -5.488190687373e-01, 1.797693134862e+308, 5.0144e+00, 2.7432e-02, \n"
       ]
      },
      {
       "output_type": "stream",
       "stream": "stdout",
       "text": [
        "130523-18:34:01,545 interface INFO:\n",
        "\t stdout 2013-05-23T18:34:01.545580: DIAGNOSTIC,     4, -5.542400140506e-01, 1.797693134862e+308, 5.0422e+00, 2.7838e-02, \n"
       ]
      },
      {
       "output_type": "stream",
       "stream": "stdout",
       "text": [
        "130523-18:34:01,583 interface INFO:\n",
        "\t stdout 2013-05-23T18:34:01.583081: DIAGNOSTIC,     5, -5.632276264602e-01, 1.797693134862e+308, 5.0797e+00, 3.7441e-02, \n"
       ]
      },
      {
       "output_type": "stream",
       "stream": "stdout",
       "text": [
        "130523-18:34:01,612 interface INFO:\n",
        "\t stdout 2013-05-23T18:34:01.612611: DIAGNOSTIC,     6, -5.755626891115e-01, 1.797693134862e+308, 5.1091e+00, 2.9457e-02, \n"
       ]
      },
      {
       "output_type": "stream",
       "stream": "stdout",
       "text": [
        "130523-18:34:01,648 interface INFO:\n",
        "\t stdout 2013-05-23T18:34:01.648249: DIAGNOSTIC,     7, -5.882166731968e-01, 1.797693134862e+308, 5.1447e+00, 3.5612e-02, \n"
       ]
      },
      {
       "output_type": "stream",
       "stream": "stdout",
       "text": [
        "130523-18:34:01,683 interface INFO:\n",
        "\t stdout 2013-05-23T18:34:01.682995: DIAGNOSTIC,     8, -6.053301626766e-01, 1.797693134862e+308, 5.1794e+00, 3.4717e-02, \n"
       ]
      },
      {
       "output_type": "stream",
       "stream": "stdout",
       "text": [
        "130523-18:34:01,715 interface INFO:\n",
        "\t stdout 2013-05-23T18:34:01.715348: DIAGNOSTIC,     9, -6.069861726642e-01, 1.797693134862e+308, 5.2117e+00, 3.2237e-02, \n"
       ]
      },
      {
       "output_type": "stream",
       "stream": "stdout",
       "text": [
        "130523-18:34:01,757 interface INFO:\n",
        "\t stdout 2013-05-23T18:34:01.757377: DIAGNOSTIC,    10, -6.069025642153e-01, 1.797693134862e+308, 5.2537e+00, 4.1999e-02, \n"
       ]
      },
      {
       "output_type": "stream",
       "stream": "stdout",
       "text": [
        "130523-18:34:01,790 interface INFO:\n",
        "\t stdout 2013-05-23T18:34:01.790133: DIAGNOSTIC,    11, -6.069964808681e-01, 1.797693134862e+308, 5.2864e+00, 3.2702e-02, \n"
       ]
      },
      {
       "output_type": "stream",
       "stream": "stdout",
       "text": [
        "130523-18:34:01,823 interface INFO:\n",
        "\t stdout 2013-05-23T18:34:01.823018: DIAGNOSTIC,    12, -6.063214090211e-01, 1.797693134862e+308, 5.3192e+00, 3.2841e-02, \n"
       ]
      },
      {
       "output_type": "stream",
       "stream": "stdout",
       "text": [
        "130523-18:34:01,853 interface INFO:\n",
        "\t stdout 2013-05-23T18:34:01.853045: DIAGNOSTIC,    13, -6.063293704418e-01, 1.797693134862e+308, 5.3492e+00, 2.9964e-02, \n"
       ]
      },
      {
       "output_type": "stream",
       "stream": "stdout",
       "text": [
        "130523-18:34:01,880 interface INFO:\n",
        "\t stdout 2013-05-23T18:34:01.880466: DIAGNOSTIC,    14, -6.063550219357e-01, 1.797693134862e+308, 5.3765e+00, 2.7356e-02, \n"
       ]
      },
      {
       "output_type": "stream",
       "stream": "stdout",
       "text": [
        "130523-18:34:01,916 interface INFO:\n",
        "\t stdout 2013-05-23T18:34:01.916178: DIAGNOSTIC,    15, -6.062124989955e-01, 1.797693134862e+308, 5.4122e+00, 3.5684e-02, \n"
       ]
      },
      {
       "output_type": "stream",
       "stream": "stdout",
       "text": [
        "130523-18:34:01,947 interface INFO:\n",
        "\t stdout 2013-05-23T18:34:01.947180: DIAGNOSTIC,    16, -6.062914619010e-01, 1.797693134862e+308, 5.4431e+00, 3.0920e-02, \n"
       ]
      },
      {
       "output_type": "stream",
       "stream": "stdout",
       "text": [
        "130523-18:34:01,984 interface INFO:\n",
        "\t stdout 2013-05-23T18:34:01.984595: DIAGNOSTIC,    17, -6.064974406264e-01, 1.797693134862e+308, 5.4805e+00, 3.7343e-02, \n"
       ]
      },
      {
       "output_type": "stream",
       "stream": "stdout",
       "text": [
        "130523-18:34:02,16 interface INFO:\n",
        "\t stdout 2013-05-23T18:34:02.016612: DIAGNOSTIC,    18, -6.065770046856e-01, 1.797693134862e+308, 5.5125e+00, 3.1973e-02, \n"
       ]
      },
      {
       "output_type": "stream",
       "stream": "stdout",
       "text": [
        "130523-18:34:02,52 interface INFO:\n",
        "\t stdout 2013-05-23T18:34:02.052073: DIAGNOSTIC,    19, -6.065491552062e-01, 1.797693134862e+308, 5.5479e+00, 3.5397e-02, \n"
       ]
      },
      {
       "output_type": "stream",
       "stream": "stdout",
       "text": [
        "130523-18:34:02,94 interface INFO:\n",
        "\t stdout 2013-05-23T18:34:02.094816: DIAGNOSTIC,    20, -6.065493256704e-01, 3.369619979508e-03, 5.5906e+00, 4.2710e-02, \n"
       ]
      },
      {
       "output_type": "stream",
       "stream": "stdout",
       "text": [
        "130523-18:34:02,125 interface INFO:\n",
        "\t stdout 2013-05-23T18:34:02.125726: DIAGNOSTIC,    21, -6.065494444279e-01, 2.708022890180e-03, 5.6214e+00, 3.0830e-02, \n"
       ]
      },
      {
       "output_type": "stream",
       "stream": "stdout",
       "text": [
        "130523-18:34:02,158 interface INFO:\n",
        "\t stdout 2013-05-23T18:34:02.158061: DIAGNOSTIC,    22, -6.065494525181e-01, 2.061228175547e-03, 5.6537e+00, 3.2334e-02, \n"
       ]
      },
      {
       "output_type": "stream",
       "stream": "stdout",
       "text": [
        "130523-18:34:02,194 interface INFO:\n",
        "\t stdout 2013-05-23T18:34:02.194109: DIAGNOSTIC,    23, -6.065494561448e-01, 1.453322801970e-03, 5.6897e+00, 3.5977e-02, \n"
       ]
      },
      {
       "output_type": "stream",
       "stream": "stdout",
       "text": [
        "130523-18:34:02,227 interface INFO:\n",
        "\t stdout 2013-05-23T18:34:02.226999: DIAGNOSTIC,    24, -6.065494600197e-01, 9.143319383401e-04, 5.7226e+00, 3.2861e-02, \n"
       ]
      },
      {
       "output_type": "stream",
       "stream": "stdout",
       "text": [
        "130523-18:34:02,260 interface INFO:\n",
        "\t stdout 2013-05-23T18:34:02.260333: DIAGNOSTIC,    25, -6.065494676309e-01, 4.801430753201e-04, 5.7558e+00, 3.3273e-02, \n"
       ]
      },
      {
       "output_type": "stream",
       "stream": "stdout",
       "text": [
        "130523-18:34:02,290 interface INFO:\n",
        "\t stdout 2013-05-23T18:34:02.290795: DIAGNOSTIC,    26, -6.065494833996e-01, 1.791280761266e-04, 5.7862e+00, 3.0371e-02, \n"
       ]
      },
      {
       "output_type": "stream",
       "stream": "stdout",
       "text": [
        "130523-18:34:02,320 interface INFO:\n",
        "\t stdout 2013-05-23T18:34:02.320345: DIAGNOSTIC,    27, -6.065495417050e-01, 6.718460136071e-06, 5.8157e+00, 2.9511e-02, \n"
       ]
      },
      {
       "output_type": "stream",
       "stream": "stdout",
       "text": [
        "130523-18:34:02,338 interface INFO:\n",
        "\t stdout 2013-05-23T18:34:02.338659:  Current level = 2 of 3\n"
       ]
      },
      {
       "output_type": "stream",
       "stream": "stdout",
       "text": [
        "130523-18:34:02,339 interface INFO:\n",
        "\t stdout 2013-05-23T18:34:02.338659:    number of iterations = 0\n"
       ]
      },
      {
       "output_type": "stream",
       "stream": "stdout",
       "text": [
        "130523-18:34:02,340 interface INFO:\n",
        "\t stdout 2013-05-23T18:34:02.338659:    shrink factors = 4\n"
       ]
      },
      {
       "output_type": "stream",
       "stream": "stdout",
       "text": [
        "130523-18:34:02,340 interface INFO:\n",
        "\t stdout 2013-05-23T18:34:02.338659:    smoothing sigmas = 2.0000e+00 vox\n"
       ]
      },
      {
       "output_type": "stream",
       "stream": "stdout",
       "text": [
        "130523-18:34:02,341 interface INFO:\n",
        "\t stdout 2013-05-23T18:34:02.338659:    required fixed parameters = []\n"
       ]
      },
      {
       "output_type": "stream",
       "stream": "stdout",
       "text": [
        "130523-18:34:04,982 interface INFO:\n",
        "\t stdout 2013-05-23T18:34:04.982608:DIAGNOSTIC,Iteration,metricValue,convergenceValue,ITERATION_TIME_INDEX,SINCE_LAST\n"
       ]
      },
      {
       "output_type": "stream",
       "stream": "stdout",
       "text": [
        "130523-18:34:04,983 interface INFO:\n",
        "\t stdout 2013-05-23T18:34:04.982608: DIAGNOSTIC,     1, -4.251543401958e-01, 1.797693134862e+308, 8.4780e+00, 2.6623e+00, \n"
       ]
      },
      {
       "output_type": "stream",
       "stream": "stdout",
       "text": [
        "130523-18:34:04,984 interface INFO:\n",
        "\t stdout 2013-05-23T18:34:04.982608:  Current level = 3 of 3\n"
       ]
      },
      {
       "output_type": "stream",
       "stream": "stdout",
       "text": [
        "130523-18:34:04,984 interface INFO:\n",
        "\t stdout 2013-05-23T18:34:04.982608:    number of iterations = 0\n"
       ]
      },
      {
       "output_type": "stream",
       "stream": "stdout",
       "text": [
        "130523-18:34:04,985 interface INFO:\n",
        "\t stdout 2013-05-23T18:34:04.982608:    shrink factors = 2\n"
       ]
      },
      {
       "output_type": "stream",
       "stream": "stdout",
       "text": [
        "130523-18:34:04,985 interface INFO:\n",
        "\t stdout 2013-05-23T18:34:04.982608:    smoothing sigmas = 1.0000e+00 vox\n"
       ]
      },
      {
       "output_type": "stream",
       "stream": "stdout",
       "text": [
        "130523-18:34:04,986 interface INFO:\n",
        "\t stdout 2013-05-23T18:34:04.982608:    required fixed parameters = []\n"
       ]
      },
      {
       "output_type": "stream",
       "stream": "stdout",
       "text": [
        "130523-18:34:07,150 interface INFO:\n",
        "\t stdout 2013-05-23T18:34:07.150787:DIAGNOSTIC,Iteration,metricValue,convergenceValue,ITERATION_TIME_INDEX,SINCE_LAST\n"
       ]
      },
      {
       "output_type": "stream",
       "stream": "stdout",
       "text": [
        "130523-18:34:07,151 interface INFO:\n",
        "\t stdout 2013-05-23T18:34:07.151741: DIAGNOSTIC,     1, -3.489246715673e-01, 1.797693134862e+308, 1.0646e+01, 2.1682e+00, \n"
       ]
      },
      {
       "output_type": "stream",
       "stream": "stdout",
       "text": [
        "130523-18:34:07,152 interface INFO:\n",
        "\t stdout 2013-05-23T18:34:07.151741:  Elapsed time (stage 0): 1.6001e+01\n"
       ]
      },
      {
       "output_type": "stream",
       "stream": "stdout",
       "text": [
        "130523-18:34:07,152 interface INFO:\n",
        "\t stdout 2013-05-23T18:34:07.151741:\n"
       ]
      },
      {
       "output_type": "stream",
       "stream": "stdout",
       "text": [
        "130523-18:34:07,242 interface INFO:\n",
        "\t stdout 2013-05-23T18:34:07.242289:\n"
       ]
      },
      {
       "output_type": "stream",
       "stream": "stdout",
       "text": [
        "130523-18:34:07,243 interface INFO:\n",
        "\t stdout 2013-05-23T18:34:07.242289:Stage 1\n"
       ]
      },
      {
       "output_type": "stream",
       "stream": "stdout",
       "text": [
        "130523-18:34:07,243 interface INFO:\n",
        "\t stdout 2013-05-23T18:34:07.242289:  iterations = 10000x0x0\n"
       ]
      },
      {
       "output_type": "stream",
       "stream": "stdout",
       "text": [
        "130523-18:34:07,244 interface INFO:\n",
        "\t stdout 2013-05-23T18:34:07.242289:  convergence threshold = 1.0000e-08\n"
       ]
      },
      {
       "output_type": "stream",
       "stream": "stdout",
       "text": [
        "130523-18:34:07,244 interface INFO:\n",
        "\t stdout 2013-05-23T18:34:07.242289:  convergence window size = 20\n"
       ]
      },
      {
       "output_type": "stream",
       "stream": "stdout",
       "text": [
        "130523-18:34:07,245 interface INFO:\n",
        "\t stdout 2013-05-23T18:34:07.242289:  number of levels = 3\n"
       ]
      },
      {
       "output_type": "stream",
       "stream": "stdout",
       "text": [
        "130523-18:34:07,245 interface INFO:\n",
        "\t stdout 2013-05-23T18:34:07.242289:  shrink factors per level: [6, 4, 2]\n"
       ]
      },
      {
       "output_type": "stream",
       "stream": "stdout",
       "text": [
        "130523-18:34:07,245 interface INFO:\n",
        "\t stdout 2013-05-23T18:34:07.242289:  smoothing sigmas per level: [4.0000e+00, 2.0000e+00, 1.0000e+00]\n"
       ]
      },
      {
       "output_type": "stream",
       "stream": "stdout",
       "text": [
        "130523-18:34:12,42 interface INFO:\n",
        "\t stdout 2013-05-23T18:34:12.042477:  preprocessing:  winsorizing the image intensities\n"
       ]
      },
      {
       "output_type": "stream",
       "stream": "stdout",
       "text": [
        "130523-18:34:12,43 interface INFO:\n",
        "\t stdout 2013-05-23T18:34:12.042477:  preprocessing:  histogram matching the images\n"
       ]
      },
      {
       "output_type": "stream",
       "stream": "stdout",
       "text": [
        "130523-18:34:12,43 interface INFO:\n",
        "\t stdout 2013-05-23T18:34:12.042477:  using the Mattes MI metric (number of bins = 32, weight = 1.0000e+00)\n"
       ]
      },
      {
       "output_type": "stream",
       "stream": "stdout",
       "text": [
        "130523-18:34:12,44 interface INFO:\n",
        "\t stdout 2013-05-23T18:34:12.044129:  regular sampling (percentage = 1.0000e-01)\n"
       ]
      },
      {
       "output_type": "stream",
       "stream": "stdout",
       "text": [
        "130523-18:34:12,44 interface INFO:\n",
        "\t stdout 2013-05-23T18:34:12.044631:\n"
       ]
      },
      {
       "output_type": "stream",
       "stream": "stdout",
       "text": [
        "130523-18:34:12,45 interface INFO:\n",
        "\t stdout 2013-05-23T18:34:12.044631:*** Running rigid registration ***\n"
       ]
      },
      {
       "output_type": "stream",
       "stream": "stdout",
       "text": [
        "130523-18:34:12,45 interface INFO:\n",
        "\t stdout 2013-05-23T18:34:12.044631:\n"
       ]
      },
      {
       "output_type": "stream",
       "stream": "stdout",
       "text": [
        "130523-18:34:12,46 interface INFO:\n",
        "\t stdout 2013-05-23T18:34:12.044631:  Current level = 1 of 3\n"
       ]
      },
      {
       "output_type": "stream",
       "stream": "stdout",
       "text": [
        "130523-18:34:12,46 interface INFO:\n",
        "\t stdout 2013-05-23T18:34:12.044631:    number of iterations = 10000\n"
       ]
      },
      {
       "output_type": "stream",
       "stream": "stdout",
       "text": [
        "130523-18:34:12,47 interface INFO:\n",
        "\t stdout 2013-05-23T18:34:12.044631:    shrink factors = 6\n"
       ]
      },
      {
       "output_type": "stream",
       "stream": "stdout",
       "text": [
        "130523-18:34:12,47 interface INFO:\n",
        "\t stdout 2013-05-23T18:34:12.044631:    smoothing sigmas = 4.0000e+00 vox\n"
       ]
      },
      {
       "output_type": "stream",
       "stream": "stdout",
       "text": [
        "130523-18:34:12,47 interface INFO:\n",
        "\t stdout 2013-05-23T18:34:12.044631:    required fixed parameters = []\n"
       ]
      },
      {
       "output_type": "stream",
       "stream": "stdout",
       "text": [
        "130523-18:34:16,971 interface INFO:\n",
        "\t stdout 2013-05-23T18:34:16.971167:DIAGNOSTIC,Iteration,metricValue,convergenceValue,ITERATION_TIME_INDEX,SINCE_LAST\n"
       ]
      },
      {
       "output_type": "stream",
       "stream": "stdout",
       "text": [
        "130523-18:34:16,972 interface INFO:\n",
        "\t stdout 2013-05-23T18:34:16.971167: DIAGNOSTIC,     1, -6.064062811511e-01, 1.797693134862e+308, 4.9278e+00, 4.9278e+00, \n"
       ]
      },
      {
       "output_type": "stream",
       "stream": "stdout",
       "text": [
        "130523-18:34:17,26 interface INFO:\n",
        "\t stdout 2013-05-23T18:34:17.026881: DIAGNOSTIC,     2, -6.065302081138e-01, 1.797693134862e+308, 4.9835e+00, 5.5648e-02, \n"
       ]
      },
      {
       "output_type": "stream",
       "stream": "stdout",
       "text": [
        "130523-18:34:17,82 interface INFO:\n",
        "\t stdout 2013-05-23T18:34:17.082503: DIAGNOSTIC,     3, -6.067516717731e-01, 1.797693134862e+308, 5.0390e+00, 5.5512e-02, \n"
       ]
      },
      {
       "output_type": "stream",
       "stream": "stdout",
       "text": [
        "130523-18:34:17,133 interface INFO:\n",
        "\t stdout 2013-05-23T18:34:17.133598: DIAGNOSTIC,     4, -6.069661764367e-01, 1.797693134862e+308, 5.0900e+00, 5.1076e-02, \n"
       ]
      },
      {
       "output_type": "stream",
       "stream": "stdout",
       "text": [
        "130523-18:34:17,181 interface INFO:\n",
        "\t stdout 2013-05-23T18:34:17.181301: DIAGNOSTIC,     5, -6.070809912596e-01, 1.797693134862e+308, 5.1377e+00, 4.7638e-02, \n"
       ]
      },
      {
       "output_type": "stream",
       "stream": "stdout",
       "text": [
        "130523-18:34:17,224 interface INFO:\n",
        "\t stdout 2013-05-23T18:34:17.224103: DIAGNOSTIC,     6, -6.071214778641e-01, 1.797693134862e+308, 5.1805e+00, 4.2795e-02, \n"
       ]
      },
      {
       "output_type": "stream",
       "stream": "stdout",
       "text": [
        "130523-18:34:17,275 interface INFO:\n",
        "\t stdout 2013-05-23T18:34:17.275425: DIAGNOSTIC,     7, -6.065461701623e-01, 1.797693134862e+308, 5.2317e+00, 5.1195e-02, \n"
       ]
      },
      {
       "output_type": "stream",
       "stream": "stdout",
       "text": [
        "130523-18:34:17,322 interface INFO:\n",
        "\t stdout 2013-05-23T18:34:17.322062: DIAGNOSTIC,     8, -6.066710766689e-01, 1.797693134862e+308, 5.2783e+00, 4.6633e-02, \n"
       ]
      },
      {
       "output_type": "stream",
       "stream": "stdout",
       "text": [
        "130523-18:34:17,368 interface INFO:\n",
        "\t stdout 2013-05-23T18:34:17.368620: DIAGNOSTIC,     9, -6.068601139412e-01, 1.797693134862e+308, 5.3248e+00, 4.6504e-02, \n"
       ]
      },
      {
       "output_type": "stream",
       "stream": "stdout",
       "text": [
        "130523-18:34:17,419 interface INFO:\n",
        "\t stdout 2013-05-23T18:34:17.419829: DIAGNOSTIC,    10, -6.070897511178e-01, 1.797693134862e+308, 5.3759e+00, 5.1120e-02, \n"
       ]
      },
      {
       "output_type": "stream",
       "stream": "stdout",
       "text": [
        "130523-18:34:17,470 interface INFO:\n",
        "\t stdout 2013-05-23T18:34:17.469934: DIAGNOSTIC,    11, -6.073013046472e-01, 1.797693134862e+308, 5.4260e+00, 5.0037e-02, \n"
       ]
      },
      {
       "output_type": "stream",
       "stream": "stdout",
       "text": [
        "130523-18:34:17,517 interface INFO:\n",
        "\t stdout 2013-05-23T18:34:17.517449: DIAGNOSTIC,    12, -6.075009074316e-01, 1.797693134862e+308, 5.4735e+00, 4.7487e-02, \n"
       ]
      },
      {
       "output_type": "stream",
       "stream": "stdout",
       "text": [
        "130523-18:34:17,568 interface INFO:\n",
        "\t stdout 2013-05-23T18:34:17.568431: DIAGNOSTIC,    13, -6.075197966886e-01, 1.797693134862e+308, 5.5244e+00, 5.0927e-02, \n"
       ]
      },
      {
       "output_type": "stream",
       "stream": "stdout",
       "text": [
        "130523-18:34:17,613 interface INFO:\n",
        "\t stdout 2013-05-23T18:34:17.613894: DIAGNOSTIC,    14, -6.076872040103e-01, 1.797693134862e+308, 5.5698e+00, 4.5428e-02, \n"
       ]
      },
      {
       "output_type": "stream",
       "stream": "stdout",
       "text": [
        "130523-18:34:17,659 interface INFO:\n",
        "\t stdout 2013-05-23T18:34:17.659564: DIAGNOSTIC,    15, -6.077724656306e-01, 1.797693134862e+308, 5.6154e+00, 4.5641e-02, \n"
       ]
      },
      {
       "output_type": "stream",
       "stream": "stdout",
       "text": [
        "130523-18:34:17,716 interface INFO:\n",
        "\t stdout 2013-05-23T18:34:17.716669: DIAGNOSTIC,    16, -6.081453596142e-01, 1.797693134862e+308, 5.6725e+00, 5.7005e-02, \n"
       ]
      },
      {
       "output_type": "stream",
       "stream": "stdout",
       "text": [
        "130523-18:34:17,760 interface INFO:\n",
        "\t stdout 2013-05-23T18:34:17.760823: DIAGNOSTIC,    17, -6.082193994491e-01, 1.797693134862e+308, 5.7166e+00, 4.4147e-02, \n"
       ]
      },
      {
       "output_type": "stream",
       "stream": "stdout",
       "text": [
        "130523-18:34:17,810 interface INFO:\n",
        "\t stdout 2013-05-23T18:34:17.810423: DIAGNOSTIC,    18, -6.082907366159e-01, 1.797693134862e+308, 5.7661e+00, 4.9457e-02, \n"
       ]
      },
      {
       "output_type": "stream",
       "stream": "stdout",
       "text": [
        "130523-18:34:17,855 interface INFO:\n",
        "\t stdout 2013-05-23T18:34:17.855833: DIAGNOSTIC,    19, -6.083271193515e-01, 1.797693134862e+308, 5.8115e+00, 4.5416e-02, \n"
       ]
      },
      {
       "output_type": "stream",
       "stream": "stdout",
       "text": [
        "130523-18:34:17,914 interface INFO:\n",
        "\t stdout 2013-05-23T18:34:17.914469: DIAGNOSTIC,    20, -6.085773892143e-01, 1.021235944458e-04, 5.8700e+00, 5.8576e-02, \n"
       ]
      },
      {
       "output_type": "stream",
       "stream": "stdout",
       "text": [
        "130523-18:34:17,972 interface INFO:\n",
        "\t stdout 2013-05-23T18:34:17.972896: DIAGNOSTIC,    21, -6.087087399777e-01, 1.016024593669e-04, 5.9284e+00, 5.8358e-02, \n"
       ]
      },
      {
       "output_type": "stream",
       "stream": "stdout",
       "text": [
        "130523-18:34:18,24 interface INFO:\n",
        "\t stdout 2013-05-23T18:34:18.024795: DIAGNOSTIC,    22, -6.087288159768e-01, 1.001070740329e-04, 5.9803e+00, 5.1913e-02, \n"
       ]
      },
      {
       "output_type": "stream",
       "stream": "stdout",
       "text": [
        "130523-18:34:18,79 interface INFO:\n",
        "\t stdout 2013-05-23T18:34:18.079309: DIAGNOSTIC,    23, -6.082314638999e-01, 9.339998608308e-05, 6.0347e+00, 5.4425e-02, \n"
       ]
      },
      {
       "output_type": "stream",
       "stream": "stdout",
       "text": [
        "130523-18:34:18,127 interface INFO:\n",
        "\t stdout 2013-05-23T18:34:18.127240: DIAGNOSTIC,    24, -6.082928448984e-01, 8.799500969912e-05, 6.0826e+00, 4.7868e-02, \n"
       ]
      },
      {
       "output_type": "stream",
       "stream": "stdout",
       "text": [
        "130523-18:34:18,181 interface INFO:\n",
        "\t stdout 2013-05-23T18:34:18.181053: DIAGNOSTIC,    25, -6.083989265497e-01, 8.324654028830e-05, 6.1364e+00, 5.3801e-02, \n"
       ]
      },
      {
       "output_type": "stream",
       "stream": "stdout",
       "text": [
        "130523-18:34:18,229 interface INFO:\n",
        "\t stdout 2013-05-23T18:34:18.229165: DIAGNOSTIC,    26, -6.084974674564e-01, 7.834215917136e-05, 6.1845e+00, 4.8059e-02, \n"
       ]
      },
      {
       "output_type": "stream",
       "stream": "stdout",
       "text": [
        "130523-18:34:18,277 interface INFO:\n",
        "\t stdout 2013-05-23T18:34:18.277167: DIAGNOSTIC,    27, -6.086178919202e-01, 6.779274940867e-05, 6.2324e+00, 4.7923e-02, \n"
       ]
      },
      {
       "output_type": "stream",
       "stream": "stdout",
       "text": [
        "130523-18:34:18,328 interface INFO:\n",
        "\t stdout 2013-05-23T18:34:18.328687: DIAGNOSTIC,    28, -6.088340484420e-01, 5.917296974214e-05, 6.2837e+00, 5.1350e-02, \n"
       ]
      },
      {
       "output_type": "stream",
       "stream": "stdout",
       "text": [
        "130523-18:34:18,374 interface INFO:\n",
        "\t stdout 2013-05-23T18:34:18.374777: DIAGNOSTIC,    29, -6.086162654270e-01, 4.933559318557e-05, 6.3299e+00, 4.6153e-02, \n"
       ]
      },
      {
       "output_type": "stream",
       "stream": "stdout",
       "text": [
        "130523-18:34:18,453 interface INFO:\n",
        "\t stdout 2013-05-23T18:34:18.453298: DIAGNOSTIC,    30, -6.092989101094e-01, 4.625682779766e-05, 6.4084e+00, 7.8456e-02, \n"
       ]
      },
      {
       "output_type": "stream",
       "stream": "stdout",
       "text": [
        "130523-18:34:18,507 interface INFO:\n",
        "\t stdout 2013-05-23T18:34:18.507282: DIAGNOSTIC,    31, -6.103358009664e-01, 5.179588012556e-05, 6.4623e+00, 5.3976e-02, \n"
       ]
      },
      {
       "output_type": "stream",
       "stream": "stdout",
       "text": [
        "130523-18:34:18,552 interface INFO:\n",
        "\t stdout 2013-05-23T18:34:18.552716: DIAGNOSTIC,    32, -6.103558009959e-01, 5.711716496892e-05, 6.5077e+00, 4.5354e-02, \n"
       ]
      },
      {
       "output_type": "stream",
       "stream": "stdout",
       "text": [
        "130523-18:34:18,599 interface INFO:\n",
        "\t stdout 2013-05-23T18:34:18.599182: DIAGNOSTIC,    33, -6.105032981857e-01, 6.181881315347e-05, 6.5541e+00, 4.6408e-02, \n"
       ]
      },
      {
       "output_type": "stream",
       "stream": "stdout",
       "text": [
        "130523-18:34:18,657 interface INFO:\n",
        "\t stdout 2013-05-23T18:34:18.657790: DIAGNOSTIC,    34, -6.107485565814e-01, 6.761738428918e-05, 6.6126e+00, 5.8507e-02, \n"
       ]
      },
      {
       "output_type": "stream",
       "stream": "stdout",
       "text": [
        "130523-18:34:18,712 interface INFO:\n",
        "\t stdout 2013-05-23T18:34:18.712014: DIAGNOSTIC,    35, -6.109699076698e-01, 7.349239831290e-05, 6.6668e+00, 5.4248e-02, \n"
       ]
      },
      {
       "output_type": "stream",
       "stream": "stdout",
       "text": [
        "130523-18:34:18,764 interface INFO:\n",
        "\t stdout 2013-05-23T18:34:18.764215: DIAGNOSTIC,    36, -6.110835525012e-01, 8.050550537033e-05, 6.7190e+00, 5.2151e-02, \n"
       ]
      },
      {
       "output_type": "stream",
       "stream": "stdout",
       "text": [
        "130523-18:34:18,823 interface INFO:\n",
        "\t stdout 2013-05-23T18:34:18.822972: DIAGNOSTIC,    37, -6.111545015624e-01, 8.612261882128e-05, 6.7777e+00, 5.8657e-02, \n"
       ]
      },
      {
       "output_type": "stream",
       "stream": "stdout",
       "text": [
        "130523-18:34:18,877 interface INFO:\n",
        "\t stdout 2013-05-23T18:34:18.877645: DIAGNOSTIC,    38, -6.113447933278e-01, 9.098708587750e-05, 6.8322e+00, 5.4570e-02, \n"
       ]
      },
      {
       "output_type": "stream",
       "stream": "stdout",
       "text": [
        "130523-18:34:18,932 interface INFO:\n",
        "\t stdout 2013-05-23T18:34:18.932864: DIAGNOSTIC,    39, -6.114557855344e-01, 9.422627300176e-05, 6.8874e+00, 5.5223e-02, \n"
       ]
      },
      {
       "output_type": "stream",
       "stream": "stdout",
       "text": [
        "130523-18:34:19,1 interface INFO:\n",
        "\t stdout 2013-05-23T18:34:19.000853: DIAGNOSTIC,    40, -6.116538524058e-01, 9.767721097914e-05, 6.9553e+00, 6.7898e-02, \n"
       ]
      },
      {
       "output_type": "stream",
       "stream": "stdout",
       "text": [
        "130523-18:34:19,59 interface INFO:\n",
        "\t stdout 2013-05-23T18:34:19.059201: DIAGNOSTIC,    41, -6.124202837520e-01, 1.038502029167e-04, 7.0137e+00, 5.8314e-02, \n"
       ]
      },
      {
       "output_type": "stream",
       "stream": "stdout",
       "text": [
        "130523-18:34:19,107 interface INFO:\n",
        "\t stdout 2013-05-23T18:34:19.107202: DIAGNOSTIC,    42, -6.123416349946e-01, 1.068248130782e-04, 7.0615e+00, 4.7884e-02, \n"
       ]
      },
      {
       "output_type": "stream",
       "stream": "stdout",
       "text": [
        "130523-18:34:19,159 interface INFO:\n",
        "\t stdout 2013-05-23T18:34:19.159172: DIAGNOSTIC,    43, -6.128689694199e-01, 1.072047971145e-04, 7.1136e+00, 5.2014e-02, \n"
       ]
      },
      {
       "output_type": "stream",
       "stream": "stdout",
       "text": [
        "130523-18:34:19,221 interface INFO:\n",
        "\t stdout 2013-05-23T18:34:19.221639: DIAGNOSTIC,    44, -6.168003395303e-01, 1.266759278504e-04, 7.1760e+00, 6.2444e-02, \n"
       ]
      },
      {
       "output_type": "stream",
       "stream": "stdout",
       "text": [
        "130523-18:34:19,272 interface INFO:\n",
        "\t stdout 2013-05-23T18:34:19.272338: DIAGNOSTIC,    45, -6.191105955365e-01, 1.544554145559e-04, 7.2266e+00, 5.0583e-02, \n"
       ]
      },
      {
       "output_type": "stream",
       "stream": "stdout",
       "text": [
        "130523-18:34:19,322 interface INFO:\n",
        "\t stdout 2013-05-23T18:34:19.322559: DIAGNOSTIC,    46, -6.197866665854e-01, 1.806855725462e-04, 7.2768e+00, 5.0191e-02, \n"
       ]
      },
      {
       "output_type": "stream",
       "stream": "stdout",
       "text": [
        "130523-18:34:19,383 interface INFO:\n",
        "\t stdout 2013-05-23T18:34:19.383173: DIAGNOSTIC,    47, -6.218265943620e-01, 2.121169010910e-04, 7.3374e+00, 6.0591e-02, \n"
       ]
      },
      {
       "output_type": "stream",
       "stream": "stdout",
       "text": [
        "130523-18:34:19,431 interface INFO:\n",
        "\t stdout 2013-05-23T18:34:19.431728: DIAGNOSTIC,    48, -6.234477436545e-01, 2.459481870055e-04, 7.3858e+00, 4.8482e-02, \n"
       ]
      },
      {
       "output_type": "stream",
       "stream": "stdout",
       "text": [
        "130523-18:34:19,504 interface INFO:\n",
        "\t stdout 2013-05-23T18:34:19.504615: DIAGNOSTIC,    49, -6.260136771474e-01, 2.835308215041e-04, 7.4587e+00, 7.2830e-02, \n"
       ]
      },
      {
       "output_type": "stream",
       "stream": "stdout",
       "text": [
        "130523-18:34:19,559 interface INFO:\n",
        "\t stdout 2013-05-23T18:34:19.559467: DIAGNOSTIC,    50, -6.290527471493e-01, 3.300756461738e-04, 7.5135e+00, 5.4819e-02, \n"
       ]
      },
      {
       "output_type": "stream",
       "stream": "stdout",
       "text": [
        "130523-18:34:19,604 interface INFO:\n",
        "\t stdout 2013-05-23T18:34:19.604209: DIAGNOSTIC,    51, -6.298559588078e-01, 3.749476301460e-04, 7.5582e+00, 4.4696e-02, \n"
       ]
      },
      {
       "output_type": "stream",
       "stream": "stdout",
       "text": [
        "130523-18:34:19,653 interface INFO:\n",
        "\t stdout 2013-05-23T18:34:19.653547: DIAGNOSTIC,    52, -6.325681137662e-01, 4.212679932529e-04, 7.6074e+00, 4.9249e-02, \n"
       ]
      },
      {
       "output_type": "stream",
       "stream": "stdout",
       "text": [
        "130523-18:34:19,711 interface INFO:\n",
        "\t stdout 2013-05-23T18:34:19.711358: DIAGNOSTIC,    53, -6.338402248063e-01, 4.615788477869e-04, 7.6652e+00, 5.7773e-02, \n"
       ]
      },
      {
       "output_type": "stream",
       "stream": "stdout",
       "text": [
        "130523-18:34:19,758 interface INFO:\n",
        "\t stdout 2013-05-23T18:34:19.757967: DIAGNOSTIC,    54, -6.324515288295e-01, 4.838780070066e-04, 7.7118e+00, 4.6537e-02, \n"
       ]
      },
      {
       "output_type": "stream",
       "stream": "stdout",
       "text": [
        "130523-18:34:19,810 interface INFO:\n",
        "\t stdout 2013-05-23T18:34:19.810401: DIAGNOSTIC,    55, -6.379741713265e-01, 5.186455383507e-04, 7.7642e+00, 5.2406e-02, \n"
       ]
      },
      {
       "output_type": "stream",
       "stream": "stdout",
       "text": [
        "130523-18:34:19,856 interface INFO:\n",
        "\t stdout 2013-05-23T18:34:19.856552: DIAGNOSTIC,    56, -6.403368185034e-01, 5.495707667820e-04, 7.8103e+00, 4.6105e-02, \n"
       ]
      },
      {
       "output_type": "stream",
       "stream": "stdout",
       "text": [
        "130523-18:34:19,923 interface INFO:\n",
        "\t stdout 2013-05-23T18:34:19.923386: DIAGNOSTIC,    57, -6.428723130027e-01, 5.764519805583e-04, 7.8770e+00, 6.6760e-02, \n"
       ]
      },
      {
       "output_type": "stream",
       "stream": "stdout",
       "text": [
        "130523-18:34:19,972 interface INFO:\n",
        "\t stdout 2013-05-23T18:34:19.972678: DIAGNOSTIC,    58, -6.473745990951e-01, 6.071879699766e-04, 7.9263e+00, 4.9236e-02, \n"
       ]
      },
      {
       "output_type": "stream",
       "stream": "stdout",
       "text": [
        "130523-18:34:20,28 interface INFO:\n",
        "\t stdout 2013-05-23T18:34:20.027994: DIAGNOSTIC,    59, -6.491014392447e-01, 6.289142551652e-04, 7.9815e+00, 5.5287e-02, \n"
       ]
      },
      {
       "output_type": "stream",
       "stream": "stdout",
       "text": [
        "130523-18:34:20,78 interface INFO:\n",
        "\t stdout 2013-05-23T18:34:20.078889: DIAGNOSTIC,    60, -6.492458345061e-01, 6.356670206753e-04, 8.0324e+00, 5.0835e-02, \n"
       ]
      },
      {
       "output_type": "stream",
       "stream": "stdout",
       "text": [
        "130523-18:34:20,124 interface INFO:\n",
        "\t stdout 2013-05-23T18:34:20.124834: DIAGNOSTIC,    61, -6.490130447614e-01, 6.289229111781e-04, 8.0783e+00, 4.5881e-02, \n"
       ]
      },
      {
       "output_type": "stream",
       "stream": "stdout",
       "text": [
        "130523-18:34:20,174 interface INFO:\n",
        "\t stdout 2013-05-23T18:34:20.174735: DIAGNOSTIC,    62, -6.494481844228e-01, 6.085967327705e-04, 8.1281e+00, 4.9864e-02, \n"
       ]
      },
      {
       "output_type": "stream",
       "stream": "stdout",
       "text": [
        "130523-18:34:20,223 interface INFO:\n",
        "\t stdout 2013-05-23T18:34:20.223244: DIAGNOSTIC,    63, -6.504042211119e-01, 5.795596637903e-04, 8.1766e+00, 4.8462e-02, \n"
       ]
      },
      {
       "output_type": "stream",
       "stream": "stdout",
       "text": [
        "130523-18:34:20,290 interface INFO:\n",
        "\t stdout 2013-05-23T18:34:20.290047: DIAGNOSTIC,    64, -6.500503123867e-01, 5.505526338084e-04, 8.2433e+00, 6.6721e-02, \n"
       ]
      },
      {
       "output_type": "stream",
       "stream": "stdout",
       "text": [
        "130523-18:34:20,340 interface INFO:\n",
        "\t stdout 2013-05-23T18:34:20.340151: DIAGNOSTIC,    65, -6.504832139919e-01, 5.190735606281e-04, 8.2934e+00, 5.0084e-02, \n"
       ]
      },
      {
       "output_type": "stream",
       "stream": "stdout",
       "text": [
        "130523-18:34:20,396 interface INFO:\n",
        "\t stdout 2013-05-23T18:34:20.396133: DIAGNOSTIC,    66, -6.505037940075e-01, 4.781556325332e-04, 8.3493e+00, 5.5930e-02, \n"
       ]
      },
      {
       "output_type": "stream",
       "stream": "stdout",
       "text": [
        "130523-18:34:20,442 interface INFO:\n",
        "\t stdout 2013-05-23T18:34:20.442386: DIAGNOSTIC,    67, -6.504666998631e-01, 4.335879021173e-04, 8.3955e+00, 4.6199e-02, \n"
       ]
      },
      {
       "output_type": "stream",
       "stream": "stdout",
       "text": [
        "130523-18:34:20,489 interface INFO:\n",
        "\t stdout 2013-05-23T18:34:20.489646: DIAGNOSTIC,    68, -6.505168792921e-01, 3.852363150916e-04, 8.4427e+00, 4.7205e-02, \n"
       ]
      },
      {
       "output_type": "stream",
       "stream": "stdout",
       "text": [
        "130523-18:34:20,542 interface INFO:\n",
        "\t stdout 2013-05-23T18:34:20.542303: DIAGNOSTIC,    69, -6.505814838892e-01, 3.376880157261e-04, 8.4954e+00, 5.2636e-02, \n"
       ]
      },
      {
       "output_type": "stream",
       "stream": "stdout",
       "text": [
        "130523-18:34:20,600 interface INFO:\n",
        "\t stdout 2013-05-23T18:34:20.600116: DIAGNOSTIC,    70, -6.497506329925e-01, 2.907753811846e-04, 8.5531e+00, 5.7740e-02, \n"
       ]
      },
      {
       "output_type": "stream",
       "stream": "stdout",
       "text": [
        "130523-18:34:20,652 interface INFO:\n",
        "\t stdout 2013-05-23T18:34:20.652747: DIAGNOSTIC,    71, -6.506581312214e-01, 2.438812756580e-04, 8.6057e+00, 5.2603e-02, \n"
       ]
      },
      {
       "output_type": "stream",
       "stream": "stdout",
       "text": [
        "130523-18:34:20,705 interface INFO:\n",
        "\t stdout 2013-05-23T18:34:20.705447: DIAGNOSTIC,    72, -6.506669858430e-01, 2.013755200562e-04, 8.6581e+00, 5.2428e-02, \n"
       ]
      },
      {
       "output_type": "stream",
       "stream": "stdout",
       "text": [
        "130523-18:34:20,757 interface INFO:\n",
        "\t stdout 2013-05-23T18:34:20.756953: DIAGNOSTIC,    73, -6.506940186372e-01, 1.593673000160e-04, 8.7098e+00, 5.1654e-02, \n"
       ]
      },
      {
       "output_type": "stream",
       "stream": "stdout",
       "text": [
        "130523-18:34:20,812 interface INFO:\n",
        "\t stdout 2013-05-23T18:34:20.812676: DIAGNOSTIC,    74, -6.497420905818e-01, 1.066355354497e-04, 8.7654e+00, 5.5654e-02, \n"
       ]
      },
      {
       "output_type": "stream",
       "stream": "stdout",
       "text": [
        "130523-18:34:20,868 interface INFO:\n",
        "\t stdout 2013-05-23T18:34:20.868042: DIAGNOSTIC,    75, -6.498458302939e-01, 7.010704213696e-05, 8.8208e+00, 5.5331e-02, \n"
       ]
      },
      {
       "output_type": "stream",
       "stream": "stdout",
       "text": [
        "130523-18:34:20,942 interface INFO:\n",
        "\t stdout 2013-05-23T18:34:20.942724: DIAGNOSTIC,    76, -6.503281635271e-01, 4.124159839801e-05, 8.8954e+00, 7.4622e-02, \n"
       ]
      },
      {
       "output_type": "stream",
       "stream": "stdout",
       "text": [
        "130523-18:34:20,998 interface INFO:\n",
        "\t stdout 2013-05-23T18:34:20.998660: DIAGNOSTIC,    77, -6.503447104041e-01, 1.941594178329e-05, 8.9513e+00, 5.5870e-02, \n"
       ]
      },
      {
       "output_type": "stream",
       "stream": "stdout",
       "text": [
        "130523-18:34:21,59 interface INFO:\n",
        "\t stdout 2013-05-23T18:34:21.059448: DIAGNOSTIC,    78, -6.504313488420e-01, 1.132765055769e-05, 9.0120e+00, 6.0734e-02, \n"
       ]
      },
      {
       "output_type": "stream",
       "stream": "stdout",
       "text": [
        "130523-18:34:21,126 interface INFO:\n",
        "\t stdout 2013-05-23T18:34:21.126752: DIAGNOSTIC,    79, -6.508001265531e-01, 9.373301932429e-06, 9.0793e+00, 6.7258e-02, \n"
       ]
      },
      {
       "output_type": "stream",
       "stream": "stdout",
       "text": [
        "130523-18:34:21,183 interface INFO:\n",
        "\t stdout 2013-05-23T18:34:21.183285: DIAGNOSTIC,    80, -6.506964313436e-01, 7.311866467071e-06, 9.1358e+00, 5.6523e-02, \n"
       ]
      },
      {
       "output_type": "stream",
       "stream": "stdout",
       "text": [
        "130523-18:34:21,235 interface INFO:\n",
        "\t stdout 2013-05-23T18:34:21.235165: DIAGNOSTIC,    81, -6.507062293553e-01, 4.399010634428e-06, 9.1876e+00, 5.1784e-02, \n"
       ]
      },
      {
       "output_type": "stream",
       "stream": "stdout",
       "text": [
        "130523-18:34:21,283 interface INFO:\n",
        "\t stdout 2013-05-23T18:34:21.283109: DIAGNOSTIC,    82, -6.507116485501e-01, 2.641861656816e-06, 9.2355e+00, 4.7895e-02, \n"
       ]
      },
      {
       "output_type": "stream",
       "stream": "stdout",
       "text": [
        "130523-18:34:21,340 interface INFO:\n",
        "\t stdout 2013-05-23T18:34:21.340875: DIAGNOSTIC,    83, -6.509052077881e-01, 4.129578015124e-06, 9.2932e+00, 5.7702e-02, \n"
       ]
      },
      {
       "output_type": "stream",
       "stream": "stdout",
       "text": [
        "130523-18:34:21,386 interface INFO:\n",
        "\t stdout 2013-05-23T18:34:21.386184: DIAGNOSTIC,    84, -6.509230485102e-01, 4.507729969344e-06, 9.3384e+00, 4.5231e-02, \n"
       ]
      },
      {
       "output_type": "stream",
       "stream": "stdout",
       "text": [
        "130523-18:34:21,434 interface INFO:\n",
        "\t stdout 2013-05-23T18:34:21.433981: DIAGNOSTIC,    85, -6.507930874768e-01, 5.601250530894e-06, 9.3856e+00, 4.7219e-02, \n"
       ]
      },
      {
       "output_type": "stream",
       "stream": "stdout",
       "text": [
        "130523-18:34:21,482 interface INFO:\n",
        "\t stdout 2013-05-23T18:34:21.481990: DIAGNOSTIC,    86, -6.508069705972e-01, 6.639669415021e-06, 9.4336e+00, 4.7986e-02, \n"
       ]
      },
      {
       "output_type": "stream",
       "stream": "stdout",
       "text": [
        "130523-18:34:21,533 interface INFO:\n",
        "\t stdout 2013-05-23T18:34:21.533056: DIAGNOSTIC,    87, -6.508342695604e-01, 7.466163465407e-06, 9.4846e+00, 5.1005e-02, \n"
       ]
      },
      {
       "output_type": "stream",
       "stream": "stdout",
       "text": [
        "130523-18:34:21,581 interface INFO:\n",
        "\t stdout 2013-05-23T18:34:21.581895: DIAGNOSTIC,    88, -6.510108893716e-01, 8.693610224741e-06, 9.5334e+00, 4.8761e-02, \n"
       ]
      },
      {
       "output_type": "stream",
       "stream": "stdout",
       "text": [
        "130523-18:34:21,629 interface INFO:\n",
        "\t stdout 2013-05-23T18:34:21.629633: DIAGNOSTIC,    89, -6.511162909274e-01, 1.012788531165e-05, 9.5811e+00, 4.7711e-02, \n"
       ]
      },
      {
       "output_type": "stream",
       "stream": "stdout",
       "text": [
        "130523-18:34:21,688 interface INFO:\n",
        "\t stdout 2013-05-23T18:34:21.688787: DIAGNOSTIC,    90, -6.510445420553e-01, 8.855045440469e-06, 9.6402e+00, 5.9080e-02, \n"
       ]
      },
      {
       "output_type": "stream",
       "stream": "stdout",
       "text": [
        "130523-18:34:21,754 interface INFO:\n",
        "\t stdout 2013-05-23T18:34:21.754030: DIAGNOSTIC,    91, -6.510782234533e-01, 9.822906520870e-06, 9.7054e+00, 6.5204e-02, \n"
       ]
      },
      {
       "output_type": "stream",
       "stream": "stdout",
       "text": [
        "130523-18:34:21,806 interface INFO:\n",
        "\t stdout 2013-05-23T18:34:21.806120: DIAGNOSTIC,    92, -6.510591289153e-01, 1.054824473480e-05, 9.7574e+00, 5.2074e-02, \n"
       ]
      },
      {
       "output_type": "stream",
       "stream": "stdout",
       "text": [
        "130523-18:34:21,858 interface INFO:\n",
        "\t stdout 2013-05-23T18:34:21.858571: DIAGNOSTIC,    93, -6.509560695649e-01, 1.088793423289e-05, 9.8085e+00, 5.1026e-02, \n"
       ]
      },
      {
       "output_type": "stream",
       "stream": "stdout",
       "text": [
        "130523-18:34:21,906 interface INFO:\n",
        "\t stdout 2013-05-23T18:34:21.906799: DIAGNOSTIC,    94, -6.511232041772e-01, 9.005375443880e-06, 9.8578e+00, 4.9379e-02, \n"
       ]
      },
      {
       "output_type": "stream",
       "stream": "stdout",
       "text": [
        "130523-18:34:21,958 interface INFO:\n",
        "\t stdout 2013-05-23T18:34:21.958845: DIAGNOSTIC,    95, -6.519782500284e-01, 9.251648759777e-06, 9.9098e+00, 5.1973e-02, \n"
       ]
      },
      {
       "output_type": "stream",
       "stream": "stdout",
       "text": [
        "130523-18:34:22,7 interface INFO:\n",
        "\t stdout 2013-05-23T18:34:22.007053: DIAGNOSTIC,    96, -6.538151624222e-01, 1.480845143838e-05, 9.9580e+00, 4.8175e-02, \n"
       ]
      },
      {
       "output_type": "stream",
       "stream": "stdout",
       "text": [
        "130523-18:34:22,63 interface INFO:\n",
        "\t stdout 2013-05-23T18:34:22.063767: DIAGNOSTIC,    97, -6.556422179718e-01, 2.411312821425e-05, 1.0015e+01, 5.6667e-02, \n"
       ]
      },
      {
       "output_type": "stream",
       "stream": "stdout",
       "text": [
        "130523-18:34:22,121 interface INFO:\n",
        "\t stdout 2013-05-23T18:34:22.121763: DIAGNOSTIC,    98, -6.558964552860e-01, 3.320817214931e-05, 1.0073e+01, 5.7926e-02, \n"
       ]
      },
      {
       "output_type": "stream",
       "stream": "stdout",
       "text": [
        "130523-18:34:22,171 interface INFO:\n",
        "\t stdout 2013-05-23T18:34:22.171125: DIAGNOSTIC,    99, -6.563181396985e-01, 4.307277254195e-05, 1.0122e+01, 4.9284e-02, \n"
       ]
      },
      {
       "output_type": "stream",
       "stream": "stdout",
       "text": [
        "130523-18:34:22,227 interface INFO:\n",
        "\t stdout 2013-05-23T18:34:22.227707: DIAGNOSTIC,   100, -6.557657432698e-01, 5.013874799431e-05, 1.0178e+01, 5.6393e-02, \n"
       ]
      },
      {
       "output_type": "stream",
       "stream": "stdout",
       "text": [
        "130523-18:34:22,281 interface INFO:\n",
        "\t stdout 2013-05-23T18:34:22.281403: DIAGNOSTIC,   101, -6.557989984710e-01, 5.602167126801e-05, 1.0232e+01, 5.3776e-02, \n"
       ]
      },
      {
       "output_type": "stream",
       "stream": "stdout",
       "text": [
        "130523-18:34:22,331 interface INFO:\n",
        "\t stdout 2013-05-23T18:34:22.331812: DIAGNOSTIC,   102, -6.557595374020e-01, 6.042325738682e-05, 1.0282e+01, 5.0325e-02, \n"
       ]
      },
      {
       "output_type": "stream",
       "stream": "stdout",
       "text": [
        "130523-18:34:22,382 interface INFO:\n",
        "\t stdout 2013-05-23T18:34:22.382529: DIAGNOSTIC,   103, -6.558993354161e-01, 6.408375813998e-05, 1.0333e+01, 5.0716e-02, \n"
       ]
      },
      {
       "output_type": "stream",
       "stream": "stdout",
       "text": [
        "130523-18:34:22,433 interface INFO:\n",
        "\t stdout 2013-05-23T18:34:22.433747: DIAGNOSTIC,   104, -6.561518752549e-01, 6.672778480143e-05, 1.0384e+01, 5.1161e-02, \n"
       ]
      },
      {
       "output_type": "stream",
       "stream": "stdout",
       "text": [
        "130523-18:34:22,484 interface INFO:\n",
        "\t stdout 2013-05-23T18:34:22.484852: DIAGNOSTIC,   105, -6.563245818299e-01, 6.773361229084e-05, 1.0435e+01, 5.1056e-02, \n"
       ]
      },
      {
       "output_type": "stream",
       "stream": "stdout",
       "text": [
        "130523-18:34:22,533 interface INFO:\n",
        "\t stdout 2013-05-23T18:34:22.533463: DIAGNOSTIC,   106, -6.563492628965e-01, 6.707121478219e-05, 1.0484e+01, 4.8540e-02, \n"
       ]
      },
      {
       "output_type": "stream",
       "stream": "stdout",
       "text": [
        "130523-18:34:22,581 interface INFO:\n",
        "\t stdout 2013-05-23T18:34:22.581224: DIAGNOSTIC,   107, -6.564114118155e-01, 6.491161993300e-05, 1.0532e+01, 4.7752e-02, \n"
       ]
      },
      {
       "output_type": "stream",
       "stream": "stdout",
       "text": [
        "130523-18:34:22,651 interface INFO:\n",
        "\t stdout 2013-05-23T18:34:22.651058: DIAGNOSTIC,   108, -6.564984338056e-01, 6.175470353822e-05, 1.0601e+01, 6.9726e-02, \n"
       ]
      },
      {
       "output_type": "stream",
       "stream": "stdout",
       "text": [
        "130523-18:34:22,715 interface INFO:\n",
        "\t stdout 2013-05-23T18:34:22.714953: DIAGNOSTIC,   109, -6.565735978703e-01, 5.756766284698e-05, 1.0665e+01, 6.3855e-02, \n"
       ]
      },
      {
       "output_type": "stream",
       "stream": "stdout",
       "text": [
        "130523-18:34:22,776 interface INFO:\n",
        "\t stdout 2013-05-23T18:34:22.776076: DIAGNOSTIC,   110, -6.566829903214e-01, 5.219788740490e-05, 1.0726e+01, 6.1083e-02, \n"
       ]
      },
      {
       "output_type": "stream",
       "stream": "stdout",
       "text": [
        "130523-18:34:22,833 interface INFO:\n",
        "\t stdout 2013-05-23T18:34:22.833772: DIAGNOSTIC,   111, -6.567192803973e-01, 4.587383116558e-05, 1.0784e+01, 5.7636e-02, \n"
       ]
      },
      {
       "output_type": "stream",
       "stream": "stdout",
       "text": [
        "130523-18:34:22,886 interface INFO:\n",
        "\t stdout 2013-05-23T18:34:22.886358: DIAGNOSTIC,   112, -6.566096257631e-01, 3.832895230635e-05, 1.0836e+01, 5.2485e-02, \n"
       ]
      },
      {
       "output_type": "stream",
       "stream": "stdout",
       "text": [
        "130523-18:34:22,937 interface INFO:\n",
        "\t stdout 2013-05-23T18:34:22.937834: DIAGNOSTIC,   113, -6.567469334174e-01, 3.003500987092e-05, 1.0888e+01, 5.1473e-02, \n"
       ]
      },
      {
       "output_type": "stream",
       "stream": "stdout",
       "text": [
        "130523-18:34:22,994 interface INFO:\n",
        "\t stdout 2013-05-23T18:34:22.994220: DIAGNOSTIC,   114, -6.573093013834e-01, 2.250760999330e-05, 1.0944e+01, 5.6267e-02, \n"
       ]
      },
      {
       "output_type": "stream",
       "stream": "stdout",
       "text": [
        "130523-18:34:23,49 interface INFO:\n",
        "\t stdout 2013-05-23T18:34:23.049787: DIAGNOSTIC,   115, -6.581173973395e-01, 1.768855913699e-05, 1.1000e+01, 5.5602e-02, \n"
       ]
      },
      {
       "output_type": "stream",
       "stream": "stdout",
       "text": [
        "130523-18:34:23,102 interface INFO:\n",
        "\t stdout 2013-05-23T18:34:23.102124: DIAGNOSTIC,   116, -6.595491990059e-01, 1.882953399001e-05, 1.1052e+01, 5.2310e-02, \n"
       ]
      },
      {
       "output_type": "stream",
       "stream": "stdout",
       "text": [
        "130523-18:34:23,217 interface INFO:\n",
        "\t stdout 2013-05-23T18:34:23.217785: DIAGNOSTIC,   117, -6.599130312046e-01, 2.367214962150e-05, 1.1168e+01, 1.1560e-01, \n"
       ]
      },
      {
       "output_type": "stream",
       "stream": "stdout",
       "text": [
        "130523-18:34:23,267 interface INFO:\n",
        "\t stdout 2013-05-23T18:34:23.267171: DIAGNOSTIC,   118, -6.599130304632e-01, 2.827970657938e-05, 1.1217e+01, 4.9217e-02, \n"
       ]
      },
      {
       "output_type": "stream",
       "stream": "stdout",
       "text": [
        "130523-18:34:23,315 interface INFO:\n",
        "\t stdout 2013-05-23T18:34:23.315576: DIAGNOSTIC,   119, -6.599130458103e-01, 3.296795301881e-05, 1.1265e+01, 4.8427e-02, \n"
       ]
      },
      {
       "output_type": "stream",
       "stream": "stdout",
       "text": [
        "130523-18:34:23,367 interface INFO:\n",
        "\t stdout 2013-05-23T18:34:23.367589: DIAGNOSTIC,   120, -6.599130717677e-01, 3.574331101555e-05, 1.1317e+01, 5.1952e-02, \n"
       ]
      },
      {
       "output_type": "stream",
       "stream": "stdout",
       "text": [
        "130523-18:34:23,416 interface INFO:\n",
        "\t stdout 2013-05-23T18:34:23.416448: DIAGNOSTIC,   121, -6.599131157292e-01, 3.770251272004e-05, 1.1366e+01, 4.8780e-02, \n"
       ]
      },
      {
       "output_type": "stream",
       "stream": "stdout",
       "text": [
        "130523-18:34:23,462 interface INFO:\n",
        "\t stdout 2013-05-23T18:34:23.462156: DIAGNOSTIC,   122, -6.599131900637e-01, 3.865206667737e-05, 1.1412e+01, 4.5684e-02, \n"
       ]
      },
      {
       "output_type": "stream",
       "stream": "stdout",
       "text": [
        "130523-18:34:23,514 interface INFO:\n",
        "\t stdout 2013-05-23T18:34:23.514717: DIAGNOSTIC,   123, -6.599133156612e-01, 3.889936949564e-05, 1.1464e+01, 5.2526e-02, \n"
       ]
      },
      {
       "output_type": "stream",
       "stream": "stdout",
       "text": [
        "130523-18:34:23,559 interface INFO:\n",
        "\t stdout 2013-05-23T18:34:23.559180: DIAGNOSTIC,   124, -6.599135277559e-01, 3.864424688260e-05, 1.1509e+01, 4.4368e-02, \n"
       ]
      },
      {
       "output_type": "stream",
       "stream": "stdout",
       "text": [
        "130523-18:34:23,606 interface INFO:\n",
        "\t stdout 2013-05-23T18:34:23.606178: DIAGNOSTIC,   125, -6.599138855810e-01, 3.774366810713e-05, 1.1556e+01, 4.6984e-02, \n"
       ]
      },
      {
       "output_type": "stream",
       "stream": "stdout",
       "text": [
        "130523-18:34:23,659 interface INFO:\n",
        "\t stdout 2013-05-23T18:34:23.659631: DIAGNOSTIC,   126, -6.599144891136e-01, 3.595418535491e-05, 1.1609e+01, 5.3371e-02, \n"
       ]
      },
      {
       "output_type": "stream",
       "stream": "stdout",
       "text": [
        "130523-18:34:23,709 interface INFO:\n",
        "\t stdout 2013-05-23T18:34:23.709353: DIAGNOSTIC,   127, -6.599155035622e-01, 3.341350425121e-05, 1.1659e+01, 4.9673e-02, \n"
       ]
      },
      {
       "output_type": "stream",
       "stream": "stdout",
       "text": [
        "130523-18:34:23,758 interface INFO:\n",
        "\t stdout 2013-05-23T18:34:23.758033: DIAGNOSTIC,   128, -6.599172078894e-01, 3.026174819975e-05, 1.1707e+01, 4.8634e-02, \n"
       ]
      },
      {
       "output_type": "stream",
       "stream": "stdout",
       "text": [
        "130523-18:34:23,808 interface INFO:\n",
        "\t stdout 2013-05-23T18:34:23.808914: DIAGNOSTIC,   129, -6.599200379461e-01, 2.658482024994e-05, 1.1758e+01, 5.0812e-02, \n"
       ]
      },
      {
       "output_type": "stream",
       "stream": "stdout",
       "text": [
        "130523-18:34:23,856 interface INFO:\n",
        "\t stdout 2013-05-23T18:34:23.856166: DIAGNOSTIC,   130, -6.599246016704e-01, 2.255627533520e-05, 1.1805e+01, 4.7223e-02, \n"
       ]
      },
      {
       "output_type": "stream",
       "stream": "stdout",
       "text": [
        "130523-18:34:23,901 interface INFO:\n",
        "\t stdout 2013-05-23T18:34:23.901272: DIAGNOSTIC,   131, -6.599319348848e-01, 1.814687613171e-05, 1.1850e+01, 4.5053e-02, \n"
       ]
      },
      {
       "output_type": "stream",
       "stream": "stdout",
       "text": [
        "130523-18:34:23,951 interface INFO:\n",
        "\t stdout 2013-05-23T18:34:23.951531: DIAGNOSTIC,   132, -6.599448032645e-01, 1.318381544575e-05, 1.1900e+01, 5.0160e-02, \n"
       ]
      },
      {
       "output_type": "stream",
       "stream": "stdout",
       "text": [
        "130523-18:34:23,999 interface INFO:\n",
        "\t stdout 2013-05-23T18:34:23.999425: DIAGNOSTIC,   133, -6.599649264886e-01, 8.190063965078e-06, 1.1948e+01, 4.7850e-02, \n"
       ]
      },
      {
       "output_type": "stream",
       "stream": "stdout",
       "text": [
        "130523-18:34:24,49 interface INFO:\n",
        "\t stdout 2013-05-23T18:34:24.048917: DIAGNOSTIC,   134, -6.599935093937e-01, 4.001517369888e-06, 1.1998e+01, 4.9442e-02, \n"
       ]
      },
      {
       "output_type": "stream",
       "stream": "stdout",
       "text": [
        "130523-18:34:24,98 interface INFO:\n",
        "\t stdout 2013-05-23T18:34:24.098043: DIAGNOSTIC,   135, -6.600997935994e-01, 1.246285237518e-06, 1.2047e+01, 4.9090e-02, \n"
       ]
      },
      {
       "output_type": "stream",
       "stream": "stdout",
       "text": [
        "130523-18:34:24,146 interface INFO:\n",
        "\t stdout 2013-05-23T18:34:24.146611: DIAGNOSTIC,   136, -6.601267243187e-01, 9.371378436977e-07, 1.2095e+01, 4.8518e-02, \n"
       ]
      },
      {
       "output_type": "stream",
       "stream": "stdout",
       "text": [
        "130523-18:34:24,191 interface INFO:\n",
        "\t stdout 2013-05-23T18:34:24.191318: DIAGNOSTIC,   137, -6.601515813648e-01, 1.256655957443e-06, 1.2140e+01, 4.4695e-02, \n"
       ]
      },
      {
       "output_type": "stream",
       "stream": "stdout",
       "text": [
        "130523-18:34:24,244 interface INFO:\n",
        "\t stdout 2013-05-23T18:34:24.244129: DIAGNOSTIC,   138, -6.601581004799e-01, 1.549960768156e-06, 1.2193e+01, 5.2752e-02, \n"
       ]
      },
      {
       "output_type": "stream",
       "stream": "stdout",
       "text": [
        "130523-18:34:24,291 interface INFO:\n",
        "\t stdout 2013-05-23T18:34:24.291894: DIAGNOSTIC,   139, -6.601904240540e-01, 1.855012032908e-06, 1.2241e+01, 4.7681e-02, \n"
       ]
      },
      {
       "output_type": "stream",
       "stream": "stdout",
       "text": [
        "130523-18:34:24,341 interface INFO:\n",
        "\t stdout 2013-05-23T18:34:24.340994: DIAGNOSTIC,   140, -6.600427207596e-01, 1.868992330380e-06, 1.2290e+01, 4.9035e-02, \n"
       ]
      },
      {
       "output_type": "stream",
       "stream": "stdout",
       "text": [
        "130523-18:34:24,404 interface INFO:\n",
        "\t stdout 2013-05-23T18:34:24.404441: DIAGNOSTIC,   141, -6.608167445051e-01, 3.103100479917e-06, 1.2353e+01, 6.3420e-02, \n"
       ]
      },
      {
       "output_type": "stream",
       "stream": "stdout",
       "text": [
        "130523-18:34:24,451 interface INFO:\n",
        "\t stdout 2013-05-23T18:34:24.451740: DIAGNOSTIC,   142, -6.608634555575e-01, 4.285018285391e-06, 1.2400e+01, 4.7168e-02, \n"
       ]
      },
      {
       "output_type": "stream",
       "stream": "stdout",
       "text": [
        "130523-18:34:24,505 interface INFO:\n",
        "\t stdout 2013-05-23T18:34:24.505332: DIAGNOSTIC,   143, -6.608730099836e-01, 5.340798519439e-06, 1.2454e+01, 5.3628e-02, \n"
       ]
      },
      {
       "output_type": "stream",
       "stream": "stdout",
       "text": [
        "130523-18:34:24,551 interface INFO:\n",
        "\t stdout 2013-05-23T18:34:24.551257: DIAGNOSTIC,   144, -6.608933351108e-01, 6.276746830828e-06, 1.2500e+01, 4.5820e-02, \n"
       ]
      },
      {
       "output_type": "stream",
       "stream": "stdout",
       "text": [
        "130523-18:34:24,608 interface INFO:\n",
        "\t stdout 2013-05-23T18:34:24.607875: DIAGNOSTIC,   145, -6.609407054984e-01, 7.122945829675e-06, 1.2556e+01, 5.6563e-02, \n"
       ]
      },
      {
       "output_type": "stream",
       "stream": "stdout",
       "text": [
        "130523-18:34:24,674 interface INFO:\n",
        "\t stdout 2013-05-23T18:34:24.674713: DIAGNOSTIC,   146, -6.609985827038e-01, 7.879759885248e-06, 1.2623e+01, 6.6733e-02, \n"
       ]
      },
      {
       "output_type": "stream",
       "stream": "stdout",
       "text": [
        "130523-18:34:24,726 interface INFO:\n",
        "\t stdout 2013-05-23T18:34:24.725928: DIAGNOSTIC,   147, -6.610054512575e-01, 8.450547690918e-06, 1.2674e+01, 5.1023e-02, \n"
       ]
      },
      {
       "output_type": "stream",
       "stream": "stdout",
       "text": [
        "130523-18:34:24,774 interface INFO:\n",
        "\t stdout 2013-05-23T18:34:24.774496: DIAGNOSTIC,   148, -6.610308473295e-01, 8.853592164324e-06, 1.2723e+01, 4.8637e-02, \n"
       ]
      },
      {
       "output_type": "stream",
       "stream": "stdout",
       "text": [
        "130523-18:34:24,822 interface INFO:\n",
        "\t stdout 2013-05-23T18:34:24.822182: DIAGNOSTIC,   149, -6.610641077784e-01, 9.091307569285e-06, 1.2770e+01, 4.7605e-02, \n"
       ]
      },
      {
       "output_type": "stream",
       "stream": "stdout",
       "text": [
        "130523-18:34:24,893 interface INFO:\n",
        "\t stdout 2013-05-23T18:34:24.893686: DIAGNOSTIC,   150, -6.611394707259e-01, 9.222068299474e-06, 1.2842e+01, 7.1479e-02, \n"
       ]
      },
      {
       "output_type": "stream",
       "stream": "stdout",
       "text": [
        "130523-18:34:24,947 interface INFO:\n",
        "\t stdout 2013-05-23T18:34:24.947394: DIAGNOSTIC,   151, -6.610317461464e-01, 8.965272879617e-06, 1.2895e+01, 5.3642e-02, \n"
       ]
      },
      {
       "output_type": "stream",
       "stream": "stdout",
       "text": [
        "130523-18:34:25,8 interface INFO:\n",
        "\t stdout 2013-05-23T18:34:25.008460: DIAGNOSTIC,   152, -6.611233088942e-01, 8.647872516924e-06, 1.2956e+01, 6.0946e-02, \n"
       ]
      },
      {
       "output_type": "stream",
       "stream": "stdout",
       "text": [
        "130523-18:34:25,61 interface INFO:\n",
        "\t stdout 2013-05-23T18:34:25.061360: DIAGNOSTIC,   153, -6.611475235970e-01, 8.183581643889e-06, 1.3008e+01, 5.1697e-02, \n"
       ]
      },
      {
       "output_type": "stream",
       "stream": "stdout",
       "text": [
        "130523-18:34:25,106 interface INFO:\n",
        "\t stdout 2013-05-23T18:34:25.106228: DIAGNOSTIC,   154, -6.611160152696e-01, 7.517396520111e-06, 1.3053e+01, 4.4834e-02, \n"
       ]
      },
      {
       "output_type": "stream",
       "stream": "stdout",
       "text": [
        "130523-18:34:25,155 interface INFO:\n",
        "\t stdout 2013-05-23T18:34:25.155505: DIAGNOSTIC,   155, -6.610832656657e-01, 6.790667961522e-06, 1.3102e+01, 4.9224e-02, \n"
       ]
      },
      {
       "output_type": "stream",
       "stream": "stdout",
       "text": [
        "130523-18:34:25,217 interface INFO:\n",
        "\t stdout 2013-05-23T18:34:25.216992: DIAGNOSTIC,   156, -6.613635708855e-01, 6.366040153282e-06, 1.3163e+01, 6.1445e-02, \n"
       ]
      },
      {
       "output_type": "stream",
       "stream": "stdout",
       "text": [
        "130523-18:34:25,263 interface INFO:\n",
        "\t stdout 2013-05-23T18:34:25.263818: DIAGNOSTIC,   157, -6.612908012414e-01, 5.715573683831e-06, 1.3210e+01, 4.6794e-02, \n"
       ]
      },
      {
       "output_type": "stream",
       "stream": "stdout",
       "text": [
        "130523-18:34:25,309 interface INFO:\n",
        "\t stdout 2013-05-23T18:34:25.309812: DIAGNOSTIC,   158, -6.612993317571e-01, 4.951967377678e-06, 1.3256e+01, 4.5937e-02, \n"
       ]
      },
      {
       "output_type": "stream",
       "stream": "stdout",
       "text": [
        "130523-18:34:25,358 interface INFO:\n",
        "\t stdout 2013-05-23T18:34:25.358121: DIAGNOSTIC,   159, -6.613164255275e-01, 4.138151264048e-06, 1.3304e+01, 4.8245e-02, \n"
       ]
      },
      {
       "output_type": "stream",
       "stream": "stdout",
       "text": [
        "130523-18:34:25,417 interface INFO:\n",
        "\t stdout 2013-05-23T18:34:25.417419: DIAGNOSTIC,   160, -6.614345643199e-01, 3.158151926821e-06, 1.3364e+01, 5.9271e-02, \n"
       ]
      },
      {
       "output_type": "stream",
       "stream": "stdout",
       "text": [
        "130523-18:34:25,474 interface INFO:\n",
        "\t stdout 2013-05-23T18:34:25.474602: DIAGNOSTIC,   161, -6.614463794026e-01, 3.221793640393e-06, 1.3421e+01, 5.7088e-02, \n"
       ]
      },
      {
       "output_type": "stream",
       "stream": "stdout",
       "text": [
        "130523-18:34:25,519 interface INFO:\n",
        "\t stdout 2013-05-23T18:34:25.519709: DIAGNOSTIC,   162, -6.614527009682e-01, 3.279179213811e-06, 1.3466e+01, 4.5049e-02, \n"
       ]
      },
      {
       "output_type": "stream",
       "stream": "stdout",
       "text": [
        "130523-18:34:25,567 interface INFO:\n",
        "\t stdout 2013-05-23T18:34:25.567384: DIAGNOSTIC,   163, -6.613811283581e-01, 3.167707187339e-06, 1.3513e+01, 4.7624e-02, \n"
       ]
      },
      {
       "output_type": "stream",
       "stream": "stdout",
       "text": [
        "130523-18:34:25,619 interface INFO:\n",
        "\t stdout 2013-05-23T18:34:25.619444: DIAGNOSTIC,   164, -6.613863853848e-01, 3.016987597550e-06, 1.3565e+01, 5.2059e-02, \n"
       ]
      },
      {
       "output_type": "stream",
       "stream": "stdout",
       "text": [
        "130523-18:34:25,664 interface INFO:\n",
        "\t stdout 2013-05-23T18:34:25.664172: DIAGNOSTIC,   165, -6.613939201262e-01, 2.869885199140e-06, 1.3610e+01, 4.4637e-02, \n"
       ]
      },
      {
       "output_type": "stream",
       "stream": "stdout",
       "text": [
        "130523-18:34:25,709 interface INFO:\n",
        "\t stdout 2013-05-23T18:34:25.709579: DIAGNOSTIC,   166, -6.614075554597e-01, 2.752077793368e-06, 1.3655e+01, 4.5341e-02, \n"
       ]
      },
      {
       "output_type": "stream",
       "stream": "stdout",
       "text": [
        "130523-18:34:25,767 interface INFO:\n",
        "\t stdout 2013-05-23T18:34:25.767203: DIAGNOSTIC,   167, -6.614129776568e-01, 2.582391511641e-06, 1.3713e+01, 5.7570e-02, \n"
       ]
      },
      {
       "output_type": "stream",
       "stream": "stdout",
       "text": [
        "130523-18:34:25,814 interface INFO:\n",
        "\t stdout 2013-05-23T18:34:25.814487: DIAGNOSTIC,   168, -6.615363015101e-01, 2.550238718676e-06, 1.3760e+01, 4.7233e-02, \n"
       ]
      },
      {
       "output_type": "stream",
       "stream": "stdout",
       "text": [
        "130523-18:34:25,876 interface INFO:\n",
        "\t stdout 2013-05-23T18:34:25.876444: DIAGNOSTIC,   169, -6.619531562120e-01, 3.055690666622e-06, 1.3822e+01, 6.1890e-02, \n"
       ]
      },
      {
       "output_type": "stream",
       "stream": "stdout",
       "text": [
        "130523-18:34:25,927 interface INFO:\n",
        "\t stdout 2013-05-23T18:34:25.927342: DIAGNOSTIC,   170, -6.619769339951e-01, 3.596518499343e-06, 1.3873e+01, 5.0832e-02, \n"
       ]
      },
      {
       "output_type": "stream",
       "stream": "stdout",
       "text": [
        "130523-18:34:25,989 interface INFO:\n",
        "\t stdout 2013-05-23T18:34:25.989453: DIAGNOSTIC,   171, -6.622183075509e-01, 4.208397475078e-06, 1.3935e+01, 6.2126e-02, \n"
       ]
      },
      {
       "output_type": "stream",
       "stream": "stdout",
       "text": [
        "130523-18:34:26,43 interface INFO:\n",
        "\t stdout 2013-05-23T18:34:26.043162: DIAGNOSTIC,   172, -6.623463731946e-01, 4.990525238129e-06, 1.3989e+01, 5.3628e-02, \n"
       ]
      },
      {
       "output_type": "stream",
       "stream": "stdout",
       "text": [
        "130523-18:34:26,97 interface INFO:\n",
        "\t stdout 2013-05-23T18:34:26.097159: DIAGNOSTIC,   173, -6.623912398962e-01, 5.727590074384e-06, 1.4043e+01, 5.3903e-02, \n"
       ]
      },
      {
       "output_type": "stream",
       "stream": "stdout",
       "text": [
        "130523-18:34:26,149 interface INFO:\n",
        "\t stdout 2013-05-23T18:34:26.149797: DIAGNOSTIC,   174, -6.623482357897e-01, 6.216645196739e-06, 1.4095e+01, 5.2656e-02, \n"
       ]
      },
      {
       "output_type": "stream",
       "stream": "stdout",
       "text": [
        "130523-18:34:26,202 interface INFO:\n",
        "\t stdout 2013-05-23T18:34:26.202342: DIAGNOSTIC,   175, -6.623250356490e-01, 6.473445747073e-06, 1.4148e+01, 5.2392e-02, \n"
       ]
      },
      {
       "output_type": "stream",
       "stream": "stdout",
       "text": [
        "130523-18:34:26,251 interface INFO:\n",
        "\t stdout 2013-05-23T18:34:26.251468: DIAGNOSTIC,   176, -6.615095611296e-01, 5.888024399756e-06, 1.4197e+01, 4.9118e-02, \n"
       ]
      },
      {
       "output_type": "stream",
       "stream": "stdout",
       "text": [
        "130523-18:34:26,296 interface INFO:\n",
        "\t stdout 2013-05-23T18:34:26.296196: DIAGNOSTIC,   177, -6.615792811515e-01, 5.196254224140e-06, 1.4241e+01, 4.4664e-02, \n"
       ]
      },
      {
       "output_type": "stream",
       "stream": "stdout",
       "text": [
        "130523-18:34:26,352 interface INFO:\n",
        "\t stdout 2013-05-23T18:34:26.352394: DIAGNOSTIC,   178, -6.616246017414e-01, 4.463700630608e-06, 1.4298e+01, 5.6168e-02, \n"
       ]
      },
      {
       "output_type": "stream",
       "stream": "stdout",
       "text": [
        "130523-18:34:26,409 interface INFO:\n",
        "\t stdout 2013-05-23T18:34:26.409612: DIAGNOSTIC,   179, -6.626211653711e-01, 4.909480350800e-06, 1.4355e+01, 5.7143e-02, \n"
       ]
      },
      {
       "output_type": "stream",
       "stream": "stdout",
       "text": [
        "130523-18:34:26,469 interface INFO:\n",
        "\t stdout 2013-05-23T18:34:26.469867: DIAGNOSTIC,   180, -6.626836156264e-01, 5.409414879341e-06, 1.4415e+01, 6.0174e-02, \n"
       ]
      },
      {
       "output_type": "stream",
       "stream": "stdout",
       "text": [
        "130523-18:34:26,516 interface INFO:\n",
        "\t stdout 2013-05-23T18:34:26.515998: DIAGNOSTIC,   181, -6.627487041626e-01, 5.837499696917e-06, 1.4461e+01, 4.6088e-02, \n"
       ]
      },
      {
       "output_type": "stream",
       "stream": "stdout",
       "text": [
        "130523-18:34:26,564 interface INFO:\n",
        "\t stdout 2013-05-23T18:34:26.564636: DIAGNOSTIC,   182, -6.620385778645e-01, 5.228896224485e-06, 1.4510e+01, 4.8602e-02, \n"
       ]
      },
      {
       "output_type": "stream",
       "stream": "stdout",
       "text": [
        "130523-18:34:26,615 interface INFO:\n",
        "\t stdout 2013-05-23T18:34:26.615064: DIAGNOSTIC,   183, -6.620235973680e-01, 4.424173582106e-06, 1.4560e+01, 5.0362e-02, \n"
       ]
      },
      {
       "output_type": "stream",
       "stream": "stdout",
       "text": [
        "130523-18:34:26,660 interface INFO:\n",
        "\t stdout 2013-05-23T18:34:26.660440: DIAGNOSTIC,   184, -6.628911022404e-01, 4.628018081199e-06, 1.4605e+01, 4.5304e-02, \n"
       ]
      },
      {
       "output_type": "stream",
       "stream": "stdout",
       "text": [
        "130523-18:34:26,712 interface INFO:\n",
        "\t stdout 2013-05-23T18:34:26.712654: DIAGNOSTIC,   185, -6.631778550275e-01, 5.066791010504e-06, 1.4658e+01, 5.2226e-02, \n"
       ]
      },
      {
       "output_type": "stream",
       "stream": "stdout",
       "text": [
        "130523-18:34:26,760 interface INFO:\n",
        "\t stdout 2013-05-23T18:34:26.760149: DIAGNOSTIC,   186, -6.630215715995e-01, 5.183194426309e-06, 1.4705e+01, 4.7375e-02, \n"
       ]
      },
      {
       "output_type": "stream",
       "stream": "stdout",
       "text": [
        "130523-18:34:26,812 interface INFO:\n",
        "\t stdout 2013-05-23T18:34:26.812752: DIAGNOSTIC,   187, -6.632446984843e-01, 5.433268393374e-06, 1.4758e+01, 5.2617e-02, \n"
       ]
      },
      {
       "output_type": "stream",
       "stream": "stdout",
       "text": [
        "130523-18:34:26,861 interface INFO:\n",
        "\t stdout 2013-05-23T18:34:26.861126: DIAGNOSTIC,   188, -6.630709070519e-01, 5.456946020618e-06, 1.4806e+01, 4.8287e-02, \n"
       ]
      },
      {
       "output_type": "stream",
       "stream": "stdout",
       "text": [
        "130523-18:34:26,914 interface INFO:\n",
        "\t stdout 2013-05-23T18:34:26.914749: DIAGNOSTIC,   189, -6.633126202515e-01, 6.129075488610e-06, 1.4859e+01, 5.3597e-02, \n"
       ]
      },
      {
       "output_type": "stream",
       "stream": "stdout",
       "text": [
        "130523-18:34:26,969 interface INFO:\n",
        "\t stdout 2013-05-23T18:34:26.969115: DIAGNOSTIC,   190, -6.631382282220e-01, 6.443002406160e-06, 1.4914e+01, 5.4272e-02, \n"
       ]
      },
      {
       "output_type": "stream",
       "stream": "stdout",
       "text": [
        "130523-18:34:27,22 interface INFO:\n",
        "\t stdout 2013-05-23T18:34:27.022286: DIAGNOSTIC,   191, -6.633733607857e-01, 7.161302013155e-06, 1.4966e+01, 5.2797e-02, \n"
       ]
      },
      {
       "output_type": "stream",
       "stream": "stdout",
       "text": [
        "130523-18:34:27,73 interface INFO:\n",
        "\t stdout 2013-05-23T18:34:27.072942: DIAGNOSTIC,   192, -6.633447940518e-01, 7.814223661739e-06, 1.5017e+01, 5.0933e-02, \n"
       ]
      },
      {
       "output_type": "stream",
       "stream": "stdout",
       "text": [
        "130523-18:34:27,118 interface INFO:\n",
        "\t stdout 2013-05-23T18:34:27.118698: DIAGNOSTIC,   193, -6.633717534627e-01, 8.366139748421e-06, 1.5063e+01, 4.5713e-02, \n"
       ]
      },
      {
       "output_type": "stream",
       "stream": "stdout",
       "text": [
        "130523-18:34:27,166 interface INFO:\n",
        "\t stdout 2013-05-23T18:34:27.166655: DIAGNOSTIC,   194, -6.633887500176e-01, 8.695606896530e-06, 1.5111e+01, 4.7869e-02, \n"
       ]
      },
      {
       "output_type": "stream",
       "stream": "stdout",
       "text": [
        "130523-18:34:27,217 interface INFO:\n",
        "\t stdout 2013-05-23T18:34:27.216969: DIAGNOSTIC,   195, -6.634107026654e-01, 8.832898854740e-06, 1.5161e+01, 5.0273e-02, \n"
       ]
      },
      {
       "output_type": "stream",
       "stream": "stdout",
       "text": [
        "130523-18:34:27,279 interface INFO:\n",
        "\t stdout 2013-05-23T18:34:27.279264: DIAGNOSTIC,   196, -6.633759265624e-01, 7.755894012276e-06, 1.5224e+01, 6.2268e-02, \n"
       ]
      },
      {
       "output_type": "stream",
       "stream": "stdout",
       "text": [
        "130523-18:34:27,327 interface INFO:\n",
        "\t stdout 2013-05-23T18:34:27.327602: DIAGNOSTIC,   197, -6.635019238803e-01, 6.705905377888e-06, 1.5272e+01, 4.8274e-02, \n"
       ]
      },
      {
       "output_type": "stream",
       "stream": "stdout",
       "text": [
        "130523-18:34:27,380 interface INFO:\n",
        "\t stdout 2013-05-23T18:34:27.380436: DIAGNOSTIC,   198, -6.635162240171e-01, 5.535705365448e-06, 1.5325e+01, 5.2800e-02, \n"
       ]
      },
      {
       "output_type": "stream",
       "stream": "stdout",
       "text": [
        "130523-18:34:27,431 interface INFO:\n",
        "\t stdout 2013-05-23T18:34:27.431766: DIAGNOSTIC,   199, -6.635267264372e-01, 5.395258620976e-06, 1.5376e+01, 5.1257e-02, \n"
       ]
      },
      {
       "output_type": "stream",
       "stream": "stdout",
       "text": [
        "130523-18:34:27,484 interface INFO:\n",
        "\t stdout 2013-05-23T18:34:27.484530: DIAGNOSTIC,   200, -6.635411603794e-01, 5.226335803508e-06, 1.5429e+01, 5.2761e-02, \n"
       ]
      },
      {
       "output_type": "stream",
       "stream": "stdout",
       "text": [
        "130523-18:34:27,537 interface INFO:\n",
        "\t stdout 2013-05-23T18:34:27.537025: DIAGNOSTIC,   201, -6.635861787309e-01, 5.077592362807e-06, 1.5481e+01, 5.2398e-02, \n"
       ]
      },
      {
       "output_type": "stream",
       "stream": "stdout",
       "text": [
        "130523-18:34:27,589 interface INFO:\n",
        "\t stdout 2013-05-23T18:34:27.589481: DIAGNOSTIC,   202, -6.635299362716e-01, 3.930727046473e-06, 1.5533e+01, 5.2433e-02, \n"
       ]
      },
      {
       "output_type": "stream",
       "stream": "stdout",
       "text": [
        "130523-18:34:27,636 interface INFO:\n",
        "\t stdout 2013-05-23T18:34:27.636677: DIAGNOSTIC,   203, -6.636101619352e-01, 2.740588559297e-06, 1.5581e+01, 4.7109e-02, \n"
       ]
      },
      {
       "output_type": "stream",
       "stream": "stdout",
       "text": [
        "130523-18:34:27,691 interface INFO:\n",
        "\t stdout 2013-05-23T18:34:27.691340: DIAGNOSTIC,   204, -6.635654881356e-01, 2.400121518654e-06, 1.5635e+01, 5.4630e-02, \n"
       ]
      },
      {
       "output_type": "stream",
       "stream": "stdout",
       "text": [
        "130523-18:34:27,742 interface INFO:\n",
        "\t stdout 2013-05-23T18:34:27.741944: DIAGNOSTIC,   205, -6.637295734773e-01, 2.506805116287e-06, 1.5686e+01, 5.0523e-02, \n"
       ]
      },
      {
       "output_type": "stream",
       "stream": "stdout",
       "text": [
        "130523-18:34:27,793 interface INFO:\n",
        "\t stdout 2013-05-23T18:34:27.793391: DIAGNOSTIC,   206, -6.637061774566e-01, 2.344046968888e-06, 1.5737e+01, 5.1459e-02, \n"
       ]
      },
      {
       "output_type": "stream",
       "stream": "stdout",
       "text": [
        "130523-18:34:27,853 interface INFO:\n",
        "\t stdout 2013-05-23T18:34:27.853147: DIAGNOSTIC,   207, -6.638349001701e-01, 2.511919335143e-06, 1.5797e+01, 5.9457e-02, \n"
       ]
      },
      {
       "output_type": "stream",
       "stream": "stdout",
       "text": [
        "130523-18:34:27,901 interface INFO:\n",
        "\t stdout 2013-05-23T18:34:27.901887: DIAGNOSTIC,   208, -6.636975961827e-01, 2.267629837648e-06, 1.5845e+01, 4.8770e-02, \n"
       ]
      },
      {
       "output_type": "stream",
       "stream": "stdout",
       "text": [
        "130523-18:34:27,952 interface INFO:\n",
        "\t stdout 2013-05-23T18:34:27.952344: DIAGNOSTIC,   209, -6.637126254111e-01, 2.253832869992e-06, 1.5896e+01, 5.0418e-02, \n"
       ]
      },
      {
       "output_type": "stream",
       "stream": "stdout",
       "text": [
        "130523-18:34:28,1 interface INFO:\n",
        "\t stdout 2013-05-23T18:34:28.001547: DIAGNOSTIC,   210, -6.637178153570e-01, 1.998277297238e-06, 1.5945e+01, 4.9154e-02, \n"
       ]
      },
      {
       "output_type": "stream",
       "stream": "stdout",
       "text": [
        "130523-18:34:28,51 interface INFO:\n",
        "\t stdout 2013-05-23T18:34:28.051727: DIAGNOSTIC,   211, -6.637360426535e-01, 1.970902995209e-06, 1.5995e+01, 5.0134e-02, \n"
       ]
      },
      {
       "output_type": "stream",
       "stream": "stdout",
       "text": [
        "130523-18:34:28,102 interface INFO:\n",
        "\t stdout 2013-05-23T18:34:28.101943: DIAGNOSTIC,   212, -6.638202602024e-01, 1.954971136709e-06, 1.6045e+01, 5.0162e-02, \n"
       ]
      },
      {
       "output_type": "stream",
       "stream": "stdout",
       "text": [
        "130523-18:34:28,161 interface INFO:\n",
        "\t stdout 2013-05-23T18:34:28.161070: DIAGNOSTIC,   213, -6.641308584033e-01, 2.246586231532e-06, 1.6104e+01, 5.9044e-02, \n"
       ]
      },
      {
       "output_type": "stream",
       "stream": "stdout",
       "text": [
        "130523-18:34:28,211 interface INFO:\n",
        "\t stdout 2013-05-23T18:34:28.211319: DIAGNOSTIC,   214, -6.638690716116e-01, 2.209105953862e-06, 1.6155e+01, 5.0203e-02, \n"
       ]
      },
      {
       "output_type": "stream",
       "stream": "stdout",
       "text": [
        "130523-18:34:28,264 interface INFO:\n",
        "\t stdout 2013-05-23T18:34:28.264552: DIAGNOSTIC,   215, -6.638052535967e-01, 2.075573565736e-06, 1.6208e+01, 5.3202e-02, \n"
       ]
      },
      {
       "output_type": "stream",
       "stream": "stdout",
       "text": [
        "130523-18:34:28,314 interface INFO:\n",
        "\t stdout 2013-05-23T18:34:28.314319: DIAGNOSTIC,   216, -6.641980923278e-01, 2.268131359800e-06, 1.6257e+01, 4.9718e-02, \n"
       ]
      },
      {
       "output_type": "stream",
       "stream": "stdout",
       "text": [
        "130523-18:34:28,366 interface INFO:\n",
        "\t stdout 2013-05-23T18:34:28.366265: DIAGNOSTIC,   217, -6.642018058969e-01, 2.529509123221e-06, 1.6309e+01, 5.1875e-02, \n"
       ]
      },
      {
       "output_type": "stream",
       "stream": "stdout",
       "text": [
        "130523-18:34:28,415 interface INFO:\n",
        "\t stdout 2013-05-23T18:34:28.415780: DIAGNOSTIC,   218, -6.642229012620e-01, 2.759544014827e-06, 1.6359e+01, 4.9494e-02, \n"
       ]
      },
      {
       "output_type": "stream",
       "stream": "stdout",
       "text": [
        "130523-18:34:28,462 interface INFO:\n",
        "\t stdout 2013-05-23T18:34:28.462080: DIAGNOSTIC,   219, -6.641730705394e-01, 2.878319516754e-06, 1.6405e+01, 4.6215e-02, \n"
       ]
      },
      {
       "output_type": "stream",
       "stream": "stdout",
       "text": [
        "130523-18:34:28,511 interface INFO:\n",
        "\t stdout 2013-05-23T18:34:28.510975: DIAGNOSTIC,   220, -6.641814951879e-01, 2.951523444886e-06, 1.6454e+01, 4.8757e-02, \n"
       ]
      },
      {
       "output_type": "stream",
       "stream": "stdout",
       "text": [
        "130523-18:34:28,564 interface INFO:\n",
        "\t stdout 2013-05-23T18:34:28.564359: DIAGNOSTIC,   221, -6.641936191378e-01, 3.013437628090e-06, 1.6507e+01, 5.3460e-02, \n"
       ]
      },
      {
       "output_type": "stream",
       "stream": "stdout",
       "text": [
        "130523-18:34:28,623 interface INFO:\n",
        "\t stdout 2013-05-23T18:34:28.623766: DIAGNOSTIC,   222, -6.642500504003e-01, 2.999650214092e-06, 1.6567e+01, 5.9318e-02, \n"
       ]
      },
      {
       "output_type": "stream",
       "stream": "stdout",
       "text": [
        "130523-18:34:28,671 interface INFO:\n",
        "\t stdout 2013-05-23T18:34:28.671114: DIAGNOSTIC,   223, -6.642649836648e-01, 3.006302997697e-06, 1.6614e+01, 4.7266e-02, \n"
       ]
      },
      {
       "output_type": "stream",
       "stream": "stdout",
       "text": [
        "130523-18:34:28,720 interface INFO:\n",
        "\t stdout 2013-05-23T18:34:28.720707: DIAGNOSTIC,   224, -6.642720095305e-01, 2.894666764085e-06, 1.6663e+01, 4.9552e-02, \n"
       ]
      },
      {
       "output_type": "stream",
       "stream": "stdout",
       "text": [
        "130523-18:34:28,771 interface INFO:\n",
        "\t stdout 2013-05-23T18:34:28.771587: DIAGNOSTIC,   225, -6.642895499267e-01, 2.894348216698e-06, 1.6714e+01, 5.0779e-02, \n"
       ]
      },
      {
       "output_type": "stream",
       "stream": "stdout",
       "text": [
        "130523-18:34:28,833 interface INFO:\n",
        "\t stdout 2013-05-23T18:34:28.833524: DIAGNOSTIC,   226, -6.643918155692e-01, 2.899916264702e-06, 1.6776e+01, 6.1986e-02, \n"
       ]
      },
      {
       "output_type": "stream",
       "stream": "stdout",
       "text": [
        "130523-18:34:28,887 interface INFO:\n",
        "\t stdout 2013-05-23T18:34:28.886971: DIAGNOSTIC,   227, -6.644168642033e-01, 2.988987773563e-06, 1.6830e+01, 5.3394e-02, \n"
       ]
      },
      {
       "output_type": "stream",
       "stream": "stdout",
       "text": [
        "130523-18:34:28,938 interface INFO:\n",
        "\t stdout 2013-05-23T18:34:28.938626: DIAGNOSTIC,   228, -6.644209453009e-01, 2.870531834361e-06, 1.6881e+01, 5.1561e-02, \n"
       ]
      },
      {
       "output_type": "stream",
       "stream": "stdout",
       "text": [
        "130523-18:34:28,992 interface INFO:\n",
        "\t stdout 2013-05-23T18:34:28.992666: DIAGNOSTIC,   229, -6.644313280860e-01, 2.707592349318e-06, 1.6935e+01, 5.3959e-02, \n"
       ]
      },
      {
       "output_type": "stream",
       "stream": "stdout",
       "text": [
        "130523-18:34:29,60 interface INFO:\n",
        "\t stdout 2013-05-23T18:34:29.060757: DIAGNOSTIC,   230, -6.644369606396e-01, 2.489328155833e-06, 1.7003e+01, 6.7951e-02, \n"
       ]
      },
      {
       "output_type": "stream",
       "stream": "stdout",
       "text": [
        "130523-18:34:29,112 interface INFO:\n",
        "\t stdout 2013-05-23T18:34:29.112658: DIAGNOSTIC,   231, -6.644489239976e-01, 2.238627359123e-06, 1.7054e+01, 5.0875e-02, \n"
       ]
      },
      {
       "output_type": "stream",
       "stream": "stdout",
       "text": [
        "130523-18:34:29,174 interface INFO:\n",
        "\t stdout 2013-05-23T18:34:29.174878: DIAGNOSTIC,   232, -6.644728674949e-01, 2.037193015236e-06, 1.7116e+01, 6.2238e-02, \n"
       ]
      },
      {
       "output_type": "stream",
       "stream": "stdout",
       "text": [
        "130523-18:34:29,236 interface INFO:\n",
        "\t stdout 2013-05-23T18:34:29.236369: DIAGNOSTIC,   233, -6.644744655232e-01, 2.096887761895e-06, 1.7178e+01, 6.1411e-02, \n"
       ]
      },
      {
       "output_type": "stream",
       "stream": "stdout",
       "text": [
        "130523-18:34:29,286 interface INFO:\n",
        "\t stdout 2013-05-23T18:34:29.286154: DIAGNOSTIC,   234, -6.644748133231e-01, 1.848385759826e-06, 1.7227e+01, 4.9721e-02, \n"
       ]
      },
      {
       "output_type": "stream",
       "stream": "stdout",
       "text": [
        "130523-18:34:29,332 interface INFO:\n",
        "\t stdout 2013-05-23T18:34:29.331999: DIAGNOSTIC,   235, -6.644757141053e-01, 1.484458341993e-06, 1.7273e+01, 4.5806e-02, \n"
       ]
      },
      {
       "output_type": "stream",
       "stream": "stdout",
       "text": [
        "130523-18:34:29,382 interface INFO:\n",
        "\t stdout 2013-05-23T18:34:29.382693: DIAGNOSTIC,   236, -6.644820490950e-01, 1.468811916473e-06, 1.7324e+01, 5.0639e-02, \n"
       ]
      },
      {
       "output_type": "stream",
       "stream": "stdout",
       "text": [
        "130523-18:34:29,428 interface INFO:\n",
        "\t stdout 2013-05-23T18:34:29.428232: DIAGNOSTIC,   237, -6.644964954144e-01, 1.435025365583e-06, 1.7369e+01, 4.5493e-02, \n"
       ]
      },
      {
       "output_type": "stream",
       "stream": "stdout",
       "text": [
        "130523-18:34:29,475 interface INFO:\n",
        "\t stdout 2013-05-23T18:34:29.475770: DIAGNOSTIC,   238, -6.644952481235e-01, 1.386674525886e-06, 1.7417e+01, 4.7486e-02, \n"
       ]
      },
      {
       "output_type": "stream",
       "stream": "stdout",
       "text": [
        "130523-18:34:29,522 interface INFO:\n",
        "\t stdout 2013-05-23T18:34:29.522538: DIAGNOSTIC,   239, -6.645007382870e-01, 1.263004060927e-06, 1.7463e+01, 4.6698e-02, \n"
       ]
      },
      {
       "output_type": "stream",
       "stream": "stdout",
       "text": [
        "130523-18:34:29,571 interface INFO:\n",
        "\t stdout 2013-05-23T18:34:29.571189: DIAGNOSTIC,   240, -6.645439008869e-01, 1.157592316249e-06, 1.7512e+01, 4.8591e-02, \n"
       ]
      },
      {
       "output_type": "stream",
       "stream": "stdout",
       "text": [
        "130523-18:34:29,631 interface INFO:\n",
        "\t stdout 2013-05-23T18:34:29.631669: DIAGNOSTIC,   241, -6.647249091737e-01, 1.203281991352e-06, 1.7572e+01, 6.0414e-02, \n"
       ]
      },
      {
       "output_type": "stream",
       "stream": "stdout",
       "text": [
        "130523-18:34:29,750 interface INFO:\n",
        "\t stdout 2013-05-23T18:34:29.750322: DIAGNOSTIC,   242, -6.647546038999e-01, 1.293691216612e-06, 1.7691e+01, 1.1864e-01, \n"
       ]
      },
      {
       "output_type": "stream",
       "stream": "stdout",
       "text": [
        "130523-18:34:29,795 interface INFO:\n",
        "\t stdout 2013-05-23T18:34:29.795262: DIAGNOSTIC,   243, -6.647546038875e-01, 1.361608292382e-06, 1.7736e+01, 4.4890e-02, \n"
       ]
      },
      {
       "output_type": "stream",
       "stream": "stdout",
       "text": [
        "130523-18:34:29,840 interface INFO:\n",
        "\t stdout 2013-05-23T18:34:29.840358: DIAGNOSTIC,   244, -6.647546042904e-01, 1.399681450887e-06, 1.7781e+01, 4.5001e-02, \n"
       ]
      },
      {
       "output_type": "stream",
       "stream": "stdout",
       "text": [
        "130523-18:34:29,891 interface INFO:\n",
        "\t stdout 2013-05-23T18:34:29.891182: DIAGNOSTIC,   245, -6.647546049716e-01, 1.417384718368e-06, 1.7832e+01, 5.0785e-02, \n"
       ]
      },
      {
       "output_type": "stream",
       "stream": "stdout",
       "text": [
        "130523-18:34:29,939 interface INFO:\n",
        "\t stdout 2013-05-23T18:34:29.939261: DIAGNOSTIC,   246, -6.647546061234e-01, 1.495185518124e-06, 1.7880e+01, 4.8023e-02, \n"
       ]
      },
      {
       "output_type": "stream",
       "stream": "stdout",
       "text": [
        "130523-18:34:29,986 interface INFO:\n",
        "\t stdout 2013-05-23T18:34:29.986385: DIAGNOSTIC,   247, -6.647546080708e-01, 1.560216944935e-06, 1.7927e+01, 4.7052e-02, \n"
       ]
      },
      {
       "output_type": "stream",
       "stream": "stdout",
       "text": [
        "130523-18:34:30,39 interface INFO:\n",
        "\t stdout 2013-05-23T18:34:30.039822: DIAGNOSTIC,   248, -6.647546113627e-01, 1.590900241486e-06, 1.7980e+01, 5.3375e-02, \n"
       ]
      },
      {
       "output_type": "stream",
       "stream": "stdout",
       "text": [
        "130523-18:34:30,85 interface INFO:\n",
        "\t stdout 2013-05-23T18:34:30.085721: DIAGNOSTIC,   249, -6.647546169265e-01, 1.591458925115e-06, 1.8026e+01, 4.5904e-02, \n"
       ]
      },
      {
       "output_type": "stream",
       "stream": "stdout",
       "text": [
        "130523-18:34:30,140 interface INFO:\n",
        "\t stdout 2013-05-23T18:34:30.140392: DIAGNOSTIC,   250, -6.647546263266e-01, 1.556820186174e-06, 1.8081e+01, 5.4582e-02, \n"
       ]
      },
      {
       "output_type": "stream",
       "stream": "stdout",
       "text": [
        "130523-18:34:30,186 interface INFO:\n",
        "\t stdout 2013-05-23T18:34:30.186562: DIAGNOSTIC,   251, -6.647546421990e-01, 1.493538619887e-06, 1.8127e+01, 4.6129e-02, \n"
       ]
      },
      {
       "output_type": "stream",
       "stream": "stdout",
       "text": [
        "130523-18:34:30,232 interface INFO:\n",
        "\t stdout 2013-05-23T18:34:30.232353: DIAGNOSTIC,   252, -6.647546689731e-01, 1.415051673081e-06, 1.8173e+01, 4.5750e-02, \n"
       ]
      },
      {
       "output_type": "stream",
       "stream": "stdout",
       "text": [
        "130523-18:34:30,285 interface INFO:\n",
        "\t stdout 2013-05-23T18:34:30.285392: DIAGNOSTIC,   253, -6.647547140605e-01, 1.304227597972e-06, 1.8225e+01, 5.2968e-02, \n"
       ]
      },
      {
       "output_type": "stream",
       "stream": "stdout",
       "text": [
        "130523-18:34:30,331 interface INFO:\n",
        "\t stdout 2013-05-23T18:34:30.331877: DIAGNOSTIC,   254, -6.647547897738e-01, 1.163732765440e-06, 1.8272e+01, 4.6463e-02, \n"
       ]
      },
      {
       "output_type": "stream",
       "stream": "stdout",
       "text": [
        "130523-18:34:30,376 interface INFO:\n",
        "\t stdout 2013-05-23T18:34:30.376618: DIAGNOSTIC,   255, -6.647549171187e-01, 9.982038577504e-07, 1.8317e+01, 4.4652e-02, \n"
       ]
      },
      {
       "output_type": "stream",
       "stream": "stdout",
       "text": [
        "130523-18:34:30,422 interface INFO:\n",
        "\t stdout 2013-05-23T18:34:30.422301: DIAGNOSTIC,   256, -6.647551397804e-01, 8.167097851073e-07, 1.8362e+01, 4.5572e-02, \n"
       ]
      },
      {
       "output_type": "stream",
       "stream": "stdout",
       "text": [
        "130523-18:34:30,469 interface INFO:\n",
        "\t stdout 2013-05-23T18:34:30.469077: DIAGNOSTIC,   257, -6.647555044009e-01, 6.305324818162e-07, 1.8409e+01, 4.6803e-02, \n"
       ]
      },
      {
       "output_type": "stream",
       "stream": "stdout",
       "text": [
        "130523-18:34:30,513 interface INFO:\n",
        "\t stdout 2013-05-23T18:34:30.512952: DIAGNOSTIC,   258, -6.647560905745e-01, 4.288366464416e-07, 1.8453e+01, 4.3851e-02, \n"
       ]
      },
      {
       "output_type": "stream",
       "stream": "stdout",
       "text": [
        "130523-18:34:30,564 interface INFO:\n",
        "\t stdout 2013-05-23T18:34:30.564685: DIAGNOSTIC,   259, -6.647570167057e-01, 2.203084564492e-07, 1.8505e+01, 5.1696e-02, \n"
       ]
      },
      {
       "output_type": "stream",
       "stream": "stdout",
       "text": [
        "130523-18:34:30,613 interface INFO:\n",
        "\t stdout 2013-05-23T18:34:30.613064: DIAGNOSTIC,   260, -6.647581705751e-01, 4.127045519393e-08, 1.8553e+01, 4.8268e-02, \n"
       ]
      },
      {
       "output_type": "stream",
       "stream": "stdout",
       "text": [
        "130523-18:34:30,648 interface INFO:\n",
        "\t stdout 2013-05-23T18:34:30.648200:  Current level = 2 of 3\n"
       ]
      },
      {
       "output_type": "stream",
       "stream": "stdout",
       "text": [
        "130523-18:34:30,649 interface INFO:\n",
        "\t stdout 2013-05-23T18:34:30.648200:    number of iterations = 0\n"
       ]
      },
      {
       "output_type": "stream",
       "stream": "stdout",
       "text": [
        "130523-18:34:30,649 interface INFO:\n",
        "\t stdout 2013-05-23T18:34:30.648200:    shrink factors = 4\n"
       ]
      },
      {
       "output_type": "stream",
       "stream": "stdout",
       "text": [
        "130523-18:34:30,650 interface INFO:\n",
        "\t stdout 2013-05-23T18:34:30.648200:    smoothing sigmas = 2.0000e+00 vox\n"
       ]
      },
      {
       "output_type": "stream",
       "stream": "stdout",
       "text": [
        "130523-18:34:30,650 interface INFO:\n",
        "\t stdout 2013-05-23T18:34:30.648200:    required fixed parameters = []\n"
       ]
      },
      {
       "output_type": "stream",
       "stream": "stdout",
       "text": [
        "130523-18:34:33,295 interface INFO:\n",
        "\t stdout 2013-05-23T18:34:33.295273:DIAGNOSTIC,Iteration,metricValue,convergenceValue,ITERATION_TIME_INDEX,SINCE_LAST\n"
       ]
      },
      {
       "output_type": "stream",
       "stream": "stdout",
       "text": [
        "130523-18:34:33,296 interface INFO:\n",
        "\t stdout 2013-05-23T18:34:33.295273: DIAGNOSTIC,     1, -4.257518524766e-01, 1.797693134862e+308, 2.1235e+01, 2.6822e+00, \n"
       ]
      },
      {
       "output_type": "stream",
       "stream": "stdout",
       "text": [
        "130523-18:34:33,296 interface INFO:\n",
        "\t stdout 2013-05-23T18:34:33.295273:  Current level = 3 of 3\n"
       ]
      },
      {
       "output_type": "stream",
       "stream": "stdout",
       "text": [
        "130523-18:34:33,297 interface INFO:\n",
        "\t stdout 2013-05-23T18:34:33.295273:    number of iterations = 0\n"
       ]
      },
      {
       "output_type": "stream",
       "stream": "stdout",
       "text": [
        "130523-18:34:33,297 interface INFO:\n",
        "\t stdout 2013-05-23T18:34:33.295273:    shrink factors = 2\n"
       ]
      },
      {
       "output_type": "stream",
       "stream": "stdout",
       "text": [
        "130523-18:34:33,298 interface INFO:\n",
        "\t stdout 2013-05-23T18:34:33.295273:    smoothing sigmas = 1.0000e+00 vox\n"
       ]
      },
      {
       "output_type": "stream",
       "stream": "stdout",
       "text": [
        "130523-18:34:33,298 interface INFO:\n",
        "\t stdout 2013-05-23T18:34:33.295273:    required fixed parameters = []\n"
       ]
      },
      {
       "output_type": "stream",
       "stream": "stdout",
       "text": [
        "130523-18:34:35,985 interface INFO:\n",
        "\t stdout 2013-05-23T18:34:35.985319:DIAGNOSTIC,Iteration,metricValue,convergenceValue,ITERATION_TIME_INDEX,SINCE_LAST\n"
       ]
      },
      {
       "output_type": "stream",
       "stream": "stdout",
       "text": [
        "130523-18:34:35,986 interface INFO:\n",
        "\t stdout 2013-05-23T18:34:35.986249: DIAGNOSTIC,     1, -3.507678118805e-01, 1.797693134862e+308, 2.3925e+01, 2.6901e+00, \n"
       ]
      },
      {
       "output_type": "stream",
       "stream": "stdout",
       "text": [
        "130523-18:34:35,986 interface INFO:\n",
        "\t stdout 2013-05-23T18:34:35.986249:  Elapsed time (stage 1): 2.8743e+01\n"
       ]
      },
      {
       "output_type": "stream",
       "stream": "stdout",
       "text": [
        "130523-18:34:35,987 interface INFO:\n",
        "\t stdout 2013-05-23T18:34:35.986249:\n"
       ]
      },
      {
       "output_type": "stream",
       "stream": "stdout",
       "text": [
        "130523-18:34:36,58 interface INFO:\n",
        "\t stdout 2013-05-23T18:34:36.058104:\n"
       ]
      },
      {
       "output_type": "stream",
       "stream": "stdout",
       "text": [
        "130523-18:34:36,59 interface INFO:\n",
        "\t stdout 2013-05-23T18:34:36.058104:Stage 2\n"
       ]
      },
      {
       "output_type": "stream",
       "stream": "stdout",
       "text": [
        "130523-18:34:36,59 interface INFO:\n",
        "\t stdout 2013-05-23T18:34:36.058104:  iterations = 10000x0x0\n"
       ]
      },
      {
       "output_type": "stream",
       "stream": "stdout",
       "text": [
        "130523-18:34:36,60 interface INFO:\n",
        "\t stdout 2013-05-23T18:34:36.058104:  convergence threshold = 1.0000e-08\n"
       ]
      },
      {
       "output_type": "stream",
       "stream": "stdout",
       "text": [
        "130523-18:34:36,60 interface INFO:\n",
        "\t stdout 2013-05-23T18:34:36.058104:  convergence window size = 20\n"
       ]
      },
      {
       "output_type": "stream",
       "stream": "stdout",
       "text": [
        "130523-18:34:36,60 interface INFO:\n",
        "\t stdout 2013-05-23T18:34:36.058104:  number of levels = 3\n"
       ]
      },
      {
       "output_type": "stream",
       "stream": "stdout",
       "text": [
        "130523-18:34:36,61 interface INFO:\n",
        "\t stdout 2013-05-23T18:34:36.058104:  shrink factors per level: [6, 4, 2]\n"
       ]
      },
      {
       "output_type": "stream",
       "stream": "stdout",
       "text": [
        "130523-18:34:36,61 interface INFO:\n",
        "\t stdout 2013-05-23T18:34:36.058104:  smoothing sigmas per level: [4.0000e+00, 2.0000e+00, 1.0000e+00]\n"
       ]
      },
      {
       "output_type": "stream",
       "stream": "stdout",
       "text": [
        "130523-18:34:40,525 interface INFO:\n",
        "\t stdout 2013-05-23T18:34:40.525766:  preprocessing:  winsorizing the image intensities\n"
       ]
      },
      {
       "output_type": "stream",
       "stream": "stdout",
       "text": [
        "130523-18:34:40,526 interface INFO:\n",
        "\t stdout 2013-05-23T18:34:40.525766:  preprocessing:  histogram matching the images\n"
       ]
      },
      {
       "output_type": "stream",
       "stream": "stdout",
       "text": [
        "130523-18:34:40,527 interface INFO:\n",
        "\t stdout 2013-05-23T18:34:40.525766:  using the Mattes MI metric (number of bins = 32, weight = 1.0000e+00)\n"
       ]
      },
      {
       "output_type": "stream",
       "stream": "stdout",
       "text": [
        "130523-18:34:40,527 interface INFO:\n",
        "\t stdout 2013-05-23T18:34:40.527480:  regular sampling (percentage = 1.0000e-01)\n"
       ]
      },
      {
       "output_type": "stream",
       "stream": "stdout",
       "text": [
        "130523-18:34:40,528 interface INFO:\n",
        "\t stdout 2013-05-23T18:34:40.528028:\n"
       ]
      },
      {
       "output_type": "stream",
       "stream": "stdout",
       "text": [
        "130523-18:34:40,528 interface INFO:\n",
        "\t stdout 2013-05-23T18:34:40.528028:*** Running affine registration ***\n"
       ]
      },
      {
       "output_type": "stream",
       "stream": "stdout",
       "text": [
        "130523-18:34:40,529 interface INFO:\n",
        "\t stdout 2013-05-23T18:34:40.528028:\n"
       ]
      },
      {
       "output_type": "stream",
       "stream": "stdout",
       "text": [
        "130523-18:34:40,529 interface INFO:\n",
        "\t stdout 2013-05-23T18:34:40.528028:  Current level = 1 of 3\n"
       ]
      },
      {
       "output_type": "stream",
       "stream": "stdout",
       "text": [
        "130523-18:34:40,529 interface INFO:\n",
        "\t stdout 2013-05-23T18:34:40.528028:    number of iterations = 10000\n"
       ]
      },
      {
       "output_type": "stream",
       "stream": "stdout",
       "text": [
        "130523-18:34:40,530 interface INFO:\n",
        "\t stdout 2013-05-23T18:34:40.528028:    shrink factors = 6\n"
       ]
      },
      {
       "output_type": "stream",
       "stream": "stdout",
       "text": [
        "130523-18:34:40,530 interface INFO:\n",
        "\t stdout 2013-05-23T18:34:40.528028:    smoothing sigmas = 4.0000e+00 vox\n"
       ]
      },
      {
       "output_type": "stream",
       "stream": "stdout",
       "text": [
        "130523-18:34:40,531 interface INFO:\n",
        "\t stdout 2013-05-23T18:34:40.528028:    required fixed parameters = []\n"
       ]
      },
      {
       "output_type": "stream",
       "stream": "stdout",
       "text": [
        "130523-18:34:45,649 interface INFO:\n",
        "\t stdout 2013-05-23T18:34:45.649360:DIAGNOSTIC,Iteration,metricValue,convergenceValue,ITERATION_TIME_INDEX,SINCE_LAST\n"
       ]
      },
      {
       "output_type": "stream",
       "stream": "stdout",
       "text": [
        "130523-18:34:45,650 interface INFO:\n",
        "\t stdout 2013-05-23T18:34:45.650350: DIAGNOSTIC,     1, -6.644872718114e-01, 1.797693134862e+308, 5.1228e+00, 5.1228e+00, \n"
       ]
      },
      {
       "output_type": "stream",
       "stream": "stdout",
       "text": [
        "130523-18:34:45,729 interface INFO:\n",
        "\t stdout 2013-05-23T18:34:45.729205: DIAGNOSTIC,     2, -6.650677683379e-01, 1.797693134862e+308, 5.2025e+00, 7.9706e-02, \n"
       ]
      },
      {
       "output_type": "stream",
       "stream": "stdout",
       "text": [
        "130523-18:34:45,809 interface INFO:\n",
        "\t stdout 2013-05-23T18:34:45.809176: DIAGNOSTIC,     3, -6.658862775796e-01, 1.797693134862e+308, 5.2823e+00, 7.9822e-02, \n"
       ]
      },
      {
       "output_type": "stream",
       "stream": "stdout",
       "text": [
        "130523-18:34:45,892 interface INFO:\n",
        "\t stdout 2013-05-23T18:34:45.892543: DIAGNOSTIC,     4, -6.672286791629e-01, 1.797693134862e+308, 5.3655e+00, 8.3169e-02, \n"
       ]
      },
      {
       "output_type": "stream",
       "stream": "stdout",
       "text": [
        "130523-18:34:45,976 interface INFO:\n",
        "\t stdout 2013-05-23T18:34:45.976190: DIAGNOSTIC,     5, -6.701019850832e-01, 1.797693134862e+308, 5.4490e+00, 8.3578e-02, \n"
       ]
      },
      {
       "output_type": "stream",
       "stream": "stdout",
       "text": [
        "130523-18:34:46,70 interface INFO:\n",
        "\t stdout 2013-05-23T18:34:46.069935: DIAGNOSTIC,     6, -6.736593056709e-01, 1.797693134862e+308, 5.5428e+00, 9.3739e-02, \n"
       ]
      },
      {
       "output_type": "stream",
       "stream": "stdout",
       "text": [
        "130523-18:34:46,149 interface INFO:\n",
        "\t stdout 2013-05-23T18:34:46.149862: DIAGNOSTIC,     7, -6.741963320005e-01, 1.797693134862e+308, 5.6226e+00, 7.9851e-02, \n"
       ]
      },
      {
       "output_type": "stream",
       "stream": "stdout",
       "text": [
        "130523-18:34:46,237 interface INFO:\n",
        "\t stdout 2013-05-23T18:34:46.237448: DIAGNOSTIC,     8, -6.759713128516e-01, 1.797693134862e+308, 5.7101e+00, 8.7496e-02, \n"
       ]
      },
      {
       "output_type": "stream",
       "stream": "stdout",
       "text": [
        "130523-18:34:46,329 interface INFO:\n",
        "\t stdout 2013-05-23T18:34:46.329844: DIAGNOSTIC,     9, -6.819014973100e-01, 1.797693134862e+308, 5.8025e+00, 9.2378e-02, \n"
       ]
      },
      {
       "output_type": "stream",
       "stream": "stdout",
       "text": [
        "130523-18:34:46,416 interface INFO:\n",
        "\t stdout 2013-05-23T18:34:46.416560: DIAGNOSTIC,    10, -6.862284694489e-01, 1.797693134862e+308, 5.8892e+00, 8.6685e-02, \n"
       ]
      },
      {
       "output_type": "stream",
       "stream": "stdout",
       "text": [
        "130523-18:34:46,499 interface INFO:\n",
        "\t stdout 2013-05-23T18:34:46.499614: DIAGNOSTIC,    11, -6.875122325496e-01, 1.797693134862e+308, 5.9722e+00, 8.3029e-02, \n"
       ]
      },
      {
       "output_type": "stream",
       "stream": "stdout",
       "text": [
        "130523-18:34:46,585 interface INFO:\n",
        "\t stdout 2013-05-23T18:34:46.585155: DIAGNOSTIC,    12, -6.878617012475e-01, 1.797693134862e+308, 6.0576e+00, 8.5428e-02, \n"
       ]
      },
      {
       "output_type": "stream",
       "stream": "stdout",
       "text": [
        "130523-18:34:46,665 interface INFO:\n",
        "\t stdout 2013-05-23T18:34:46.665850: DIAGNOSTIC,    13, -6.900904236322e-01, 1.797693134862e+308, 6.1383e+00, 8.0673e-02, \n"
       ]
      },
      {
       "output_type": "stream",
       "stream": "stdout",
       "text": [
        "130523-18:34:46,756 interface INFO:\n",
        "\t stdout 2013-05-23T18:34:46.756280: DIAGNOSTIC,    14, -6.940482690147e-01, 1.797693134862e+308, 6.2287e+00, 9.0374e-02, \n"
       ]
      },
      {
       "output_type": "stream",
       "stream": "stdout",
       "text": [
        "130523-18:34:46,838 interface INFO:\n",
        "\t stdout 2013-05-23T18:34:46.838100: DIAGNOSTIC,    15, -6.960750239373e-01, 1.797693134862e+308, 6.3105e+00, 8.1763e-02, \n"
       ]
      },
      {
       "output_type": "stream",
       "stream": "stdout",
       "text": [
        "130523-18:34:46,918 interface INFO:\n",
        "\t stdout 2013-05-23T18:34:46.918046: DIAGNOSTIC,    16, -6.954485923377e-01, 1.797693134862e+308, 6.3903e+00, 7.9871e-02, \n"
       ]
      },
      {
       "output_type": "stream",
       "stream": "stdout",
       "text": [
        "130523-18:34:47,10 interface INFO:\n",
        "\t stdout 2013-05-23T18:34:47.010317: DIAGNOSTIC,    17, -6.966180567792e-01, 1.797693134862e+308, 6.4826e+00, 9.2231e-02, \n"
       ]
      },
      {
       "output_type": "stream",
       "stream": "stdout",
       "text": [
        "130523-18:34:47,105 interface INFO:\n",
        "\t stdout 2013-05-23T18:34:47.105672: DIAGNOSTIC,    18, -6.987391887312e-01, 1.797693134862e+308, 6.5779e+00, 9.5308e-02, \n"
       ]
      },
      {
       "output_type": "stream",
       "stream": "stdout",
       "text": [
        "130523-18:34:47,188 interface INFO:\n",
        "\t stdout 2013-05-23T18:34:47.188571: DIAGNOSTIC,    19, -6.989172258704e-01, 1.797693134862e+308, 6.6607e+00, 8.2880e-02, \n"
       ]
      },
      {
       "output_type": "stream",
       "stream": "stdout",
       "text": [
        "130523-18:34:47,286 interface INFO:\n",
        "\t stdout 2013-05-23T18:34:47.286853: DIAGNOSTIC,    20, -6.974582716849e-01, 1.784426727737e-03, 6.7590e+00, 9.8224e-02, \n"
       ]
      },
      {
       "output_type": "stream",
       "stream": "stdout",
       "text": [
        "130523-18:34:47,371 interface INFO:\n",
        "\t stdout 2013-05-23T18:34:47.371192: DIAGNOSTIC,    21, -6.985139876303e-01, 1.627050093445e-03, 6.8433e+00, 8.4284e-02, \n"
       ]
      },
      {
       "output_type": "stream",
       "stream": "stdout",
       "text": [
        "130523-18:34:47,473 interface INFO:\n",
        "\t stdout 2013-05-23T18:34:47.472959: DIAGNOSTIC,    22, -7.004742575681e-01, 1.470487091961e-03, 6.9449e+00, 1.0168e-01, \n"
       ]
      },
      {
       "output_type": "stream",
       "stream": "stdout",
       "text": [
        "130523-18:34:47,565 interface INFO:\n",
        "\t stdout 2013-05-23T18:34:47.565462: DIAGNOSTIC,    23, -7.008791750225e-01, 1.303644386043e-03, 7.0374e+00, 9.2495e-02, \n"
       ]
      },
      {
       "output_type": "stream",
       "stream": "stdout",
       "text": [
        "130523-18:34:47,648 interface INFO:\n",
        "\t stdout 2013-05-23T18:34:47.648538: DIAGNOSTIC,    24, -7.010883284948e-01, 1.132944767071e-03, 7.1204e+00, 8.2970e-02, \n"
       ]
      },
      {
       "output_type": "stream",
       "stream": "stdout",
       "text": [
        "130523-18:34:47,732 interface INFO:\n",
        "\t stdout 2013-05-23T18:34:47.732622: DIAGNOSTIC,    25, -7.012668467358e-01, 9.745946420624e-04, 7.2044e+00, 8.4025e-02, \n"
       ]
      },
      {
       "output_type": "stream",
       "stream": "stdout",
       "text": [
        "130523-18:34:47,814 interface INFO:\n",
        "\t stdout 2013-05-23T18:34:47.814903: DIAGNOSTIC,    26, -7.018494475669e-01, 8.391476426071e-04, 7.2867e+00, 8.2284e-02, \n"
       ]
      },
      {
       "output_type": "stream",
       "stream": "stdout",
       "text": [
        "130523-18:34:47,896 interface INFO:\n",
        "\t stdout 2013-05-23T18:34:47.896525: DIAGNOSTIC,    27, -7.024863169598e-01, 7.022150054320e-04, 7.3683e+00, 8.1561e-02, \n"
       ]
      },
      {
       "output_type": "stream",
       "stream": "stdout",
       "text": [
        "130523-18:34:47,980 interface INFO:\n",
        "\t stdout 2013-05-23T18:34:47.980018: DIAGNOSTIC,    28, -7.008132239566e-01, 5.577568557471e-04, 7.4517e+00, 8.3440e-02, \n"
       ]
      },
      {
       "output_type": "stream",
       "stream": "stdout",
       "text": [
        "130523-18:34:48,56 interface INFO:\n",
        "\t stdout 2013-05-23T18:34:48.056034: DIAGNOSTIC,    29, -7.010469058213e-01, 4.548991625173e-04, 7.5276e+00, 7.5936e-02, \n"
       ]
      },
      {
       "output_type": "stream",
       "stream": "stdout",
       "text": [
        "130523-18:34:48,133 interface INFO:\n",
        "\t stdout 2013-05-23T18:34:48.133582: DIAGNOSTIC,    30, -7.010444007032e-01, 3.788101906218e-04, 7.6052e+00, 7.7515e-02, \n"
       ]
      },
      {
       "output_type": "stream",
       "stream": "stdout",
       "text": [
        "130523-18:34:48,216 interface INFO:\n",
        "\t stdout 2013-05-23T18:34:48.216547: DIAGNOSTIC,    31, -7.008722083058e-01, 3.060695957429e-04, 7.6881e+00, 8.2928e-02, \n"
       ]
      },
      {
       "output_type": "stream",
       "stream": "stdout",
       "text": [
        "130523-18:34:48,296 interface INFO:\n",
        "\t stdout 2013-05-23T18:34:48.296206: DIAGNOSTIC,    32, -7.010221342686e-01, 2.331449238786e-04, 7.7677e+00, 7.9610e-02, \n"
       ]
      },
      {
       "output_type": "stream",
       "stream": "stdout",
       "text": [
        "130523-18:34:48,374 interface INFO:\n",
        "\t stdout 2013-05-23T18:34:48.374442: DIAGNOSTIC,    33, -7.000591047988e-01, 1.662915993073e-04, 7.8458e+00, 7.8143e-02, \n"
       ]
      },
      {
       "output_type": "stream",
       "stream": "stdout",
       "text": [
        "130523-18:34:48,454 interface INFO:\n",
        "\t stdout 2013-05-23T18:34:48.454460: DIAGNOSTIC,    34, -7.003223092745e-01, 1.254979419550e-04, 7.9258e+00, 7.9971e-02, \n"
       ]
      },
      {
       "output_type": "stream",
       "stream": "stdout",
       "text": [
        "130523-18:34:48,539 interface INFO:\n",
        "\t stdout 2013-05-23T18:34:48.539134: DIAGNOSTIC,    35, -7.004911620061e-01, 9.731132992750e-05, 8.0105e+00, 8.4637e-02, \n"
       ]
      },
      {
       "output_type": "stream",
       "stream": "stdout",
       "text": [
        "130523-18:34:48,619 interface INFO:\n",
        "\t stdout 2013-05-23T18:34:48.618965: DIAGNOSTIC,    36, -7.003975151136e-01, 6.378497071726e-05, 8.0902e+00, 7.9756e-02, \n"
       ]
      },
      {
       "output_type": "stream",
       "stream": "stdout",
       "text": [
        "130523-18:34:48,700 interface INFO:\n",
        "\t stdout 2013-05-23T18:34:48.700348: DIAGNOSTIC,    37, -7.008837457979e-01, 3.977709057693e-05, 8.1715e+00, 8.1328e-02, \n"
       ]
      },
      {
       "output_type": "stream",
       "stream": "stdout",
       "text": [
        "130523-18:34:48,800 interface INFO:\n",
        "\t stdout 2013-05-23T18:34:48.800863: DIAGNOSTIC,    38, -7.011130791003e-01, 2.923890456307e-05, 8.2720e+00, 1.0046e-01, \n"
       ]
      },
      {
       "output_type": "stream",
       "stream": "stdout",
       "text": [
        "130523-18:34:48,874 interface INFO:\n",
        "\t stdout 2013-05-23T18:34:48.874458: DIAGNOSTIC,    39, -7.012902734262e-01, 2.056500357274e-05, 8.3456e+00, 7.3566e-02, \n"
       ]
      },
      {
       "output_type": "stream",
       "stream": "stdout",
       "text": [
        "130523-18:34:48,960 interface INFO:\n",
        "\t stdout 2013-05-23T18:34:48.960465: DIAGNOSTIC,    40, -7.012178120045e-01, 3.402294478164e-06, 8.4315e+00, 8.5918e-02, \n"
       ]
      },
      {
       "output_type": "stream",
       "stream": "stdout",
       "text": [
        "130523-18:34:49,39 interface INFO:\n",
        "\t stdout 2013-05-23T18:34:49.039526:  Current level = 2 of 3\n"
       ]
      },
      {
       "output_type": "stream",
       "stream": "stdout",
       "text": [
        "130523-18:34:49,41 interface INFO:\n",
        "\t stdout 2013-05-23T18:34:49.039526:    number of iterations = 0\n"
       ]
      },
      {
       "output_type": "stream",
       "stream": "stdout",
       "text": [
        "130523-18:34:49,41 interface INFO:\n",
        "\t stdout 2013-05-23T18:34:49.039526:    shrink factors = 4\n"
       ]
      },
      {
       "output_type": "stream",
       "stream": "stdout",
       "text": [
        "130523-18:34:49,42 interface INFO:\n",
        "\t stdout 2013-05-23T18:34:49.039526:    smoothing sigmas = 2.0000e+00 vox\n"
       ]
      },
      {
       "output_type": "stream",
       "stream": "stdout",
       "text": [
        "130523-18:34:49,42 interface INFO:\n",
        "\t stdout 2013-05-23T18:34:49.039526:    required fixed parameters = []\n"
       ]
      },
      {
       "output_type": "stream",
       "stream": "stdout",
       "text": [
        "130523-18:34:51,761 interface INFO:\n",
        "\t stdout 2013-05-23T18:34:51.761317:DIAGNOSTIC,Iteration,metricValue,convergenceValue,ITERATION_TIME_INDEX,SINCE_LAST\n"
       ]
      },
      {
       "output_type": "stream",
       "stream": "stdout",
       "text": [
        "130523-18:34:51,762 interface INFO:\n",
        "\t stdout 2013-05-23T18:34:51.761317: DIAGNOSTIC,     1, -4.359458078143e-01, 1.797693134862e+308, 1.1232e+01, 2.8009e+00, \n"
       ]
      },
      {
       "output_type": "stream",
       "stream": "stdout",
       "text": [
        "130523-18:34:51,762 interface INFO:\n",
        "\t stdout 2013-05-23T18:34:51.761317:  Current level = 3 of 3\n"
       ]
      },
      {
       "output_type": "stream",
       "stream": "stdout",
       "text": [
        "130523-18:34:51,763 interface INFO:\n",
        "\t stdout 2013-05-23T18:34:51.761317:    number of iterations = 0\n"
       ]
      },
      {
       "output_type": "stream",
       "stream": "stdout",
       "text": [
        "130523-18:34:51,763 interface INFO:\n",
        "\t stdout 2013-05-23T18:34:51.761317:    shrink factors = 2\n"
       ]
      },
      {
       "output_type": "stream",
       "stream": "stdout",
       "text": [
        "130523-18:34:51,764 interface INFO:\n",
        "\t stdout 2013-05-23T18:34:51.761317:    smoothing sigmas = 1.0000e+00 vox\n"
       ]
      },
      {
       "output_type": "stream",
       "stream": "stdout",
       "text": [
        "130523-18:34:51,764 interface INFO:\n",
        "\t stdout 2013-05-23T18:34:51.761317:    required fixed parameters = []\n"
       ]
      },
      {
       "output_type": "stream",
       "stream": "stdout",
       "text": [
        "130523-18:34:55,180 interface INFO:\n",
        "\t stdout 2013-05-23T18:34:55.180783:DIAGNOSTIC,Iteration,metricValue,convergenceValue,ITERATION_TIME_INDEX,SINCE_LAST\n"
       ]
      },
      {
       "output_type": "stream",
       "stream": "stdout",
       "text": [
        "130523-18:34:55,181 interface INFO:\n",
        "\t stdout 2013-05-23T18:34:55.180783: DIAGNOSTIC,     1, -3.650275003351e-01, 1.797693134862e+308, 1.4652e+01, 3.4195e+00, \n"
       ]
      },
      {
       "output_type": "stream",
       "stream": "stdout",
       "text": [
        "130523-18:34:55,182 interface INFO:\n",
        "\t stdout 2013-05-23T18:34:55.182395:  Elapsed time (stage 2): 1.9123e+01\n"
       ]
      },
      {
       "output_type": "stream",
       "stream": "stdout",
       "text": [
        "130523-18:34:55,183 interface INFO:\n",
        "\t stdout 2013-05-23T18:34:55.182395:\n"
       ]
      },
      {
       "output_type": "stream",
       "stream": "stdout",
       "text": [
        "130523-18:34:55,251 interface INFO:\n",
        "\t stdout 2013-05-23T18:34:55.251287:\n"
       ]
      },
      {
       "output_type": "stream",
       "stream": "stdout",
       "text": [
        "130523-18:34:55,252 interface INFO:\n",
        "\t stdout 2013-05-23T18:34:55.251287:Stage 3\n"
       ]
      },
      {
       "output_type": "stream",
       "stream": "stdout",
       "text": [
        "130523-18:34:55,252 interface INFO:\n",
        "\t stdout 2013-05-23T18:34:55.251287:  iterations = 10x0x0\n"
       ]
      },
      {
       "output_type": "stream",
       "stream": "stdout",
       "text": [
        "130523-18:34:55,253 interface INFO:\n",
        "\t stdout 2013-05-23T18:34:55.253148:  convergence threshold = 1.0000e-08\n"
       ]
      },
      {
       "output_type": "stream",
       "stream": "stdout",
       "text": [
        "130523-18:34:55,253 interface INFO:\n",
        "\t stdout 2013-05-23T18:34:55.253148:  convergence window size = 20\n"
       ]
      },
      {
       "output_type": "stream",
       "stream": "stdout",
       "text": [
        "130523-18:34:55,253 interface INFO:\n",
        "\t stdout 2013-05-23T18:34:55.253148:  number of levels = 3\n"
       ]
      },
      {
       "output_type": "stream",
       "stream": "stdout",
       "text": [
        "130523-18:34:55,254 interface INFO:\n",
        "\t stdout 2013-05-23T18:34:55.253148:  shrink factors per level: [4, 2, 1]\n"
       ]
      },
      {
       "output_type": "stream",
       "stream": "stdout",
       "text": [
        "130523-18:34:55,254 interface INFO:\n",
        "\t stdout 2013-05-23T18:34:55.253148:  smoothing sigmas per level: [2.0000e+00, 1.0000e+00, 0.0000e+00]\n"
       ]
      },
      {
       "output_type": "stream",
       "stream": "stdout",
       "text": [
        "130523-18:34:59,475 interface INFO:\n",
        "\t stdout 2013-05-23T18:34:59.475915:  preprocessing:  winsorizing the image intensities\n"
       ]
      },
      {
       "output_type": "stream",
       "stream": "stdout",
       "text": [
        "130523-18:34:59,476 interface INFO:\n",
        "\t stdout 2013-05-23T18:34:59.475915:  preprocessing:  histogram matching the images\n"
       ]
      },
      {
       "output_type": "stream",
       "stream": "stdout",
       "text": [
        "130523-18:34:59,477 interface INFO:\n",
        "\t stdout 2013-05-23T18:34:59.475915:  using the Mattes MI metric (number of bins = 32, weight = 1.0000e+00)\n"
       ]
      },
      {
       "output_type": "stream",
       "stream": "stdout",
       "text": [
        "130523-18:34:59,477 interface INFO:\n",
        "\t stdout 2013-05-23T18:34:59.477722:  Using default NONE metricSamplingStrategy \n"
       ]
      },
      {
       "output_type": "stream",
       "stream": "stdout",
       "text": [
        "130523-18:35:00,188 interface INFO:\n",
        "\t stdout 2013-05-23T18:35:00.188710:\n"
       ]
      },
      {
       "output_type": "stream",
       "stream": "stdout",
       "text": [
        "130523-18:35:00,189 interface INFO:\n",
        "\t stdout 2013-05-23T18:35:00.188710:*** Running SyN registration (varianceForUpdateField = 3.0000e+00, varianceForTotalField = 0.0000e+00) ***\n"
       ]
      },
      {
       "output_type": "stream",
       "stream": "stdout",
       "text": [
        "130523-18:35:00,190 interface INFO:\n",
        "\t stdout 2013-05-23T18:35:00.188710:\n"
       ]
      },
      {
       "output_type": "stream",
       "stream": "stdout",
       "text": [
        "130523-18:35:00,190 interface INFO:\n",
        "\t stdout 2013-05-23T18:35:00.188710:  Current level = 1 of 3\n"
       ]
      },
      {
       "output_type": "stream",
       "stream": "stdout",
       "text": [
        "130523-18:35:00,191 interface INFO:\n",
        "\t stdout 2013-05-23T18:35:00.188710:    number of iterations = 10\n"
       ]
      },
      {
       "output_type": "stream",
       "stream": "stdout",
       "text": [
        "130523-18:35:00,191 interface INFO:\n",
        "\t stdout 2013-05-23T18:35:00.188710:    shrink factors = 4\n"
       ]
      },
      {
       "output_type": "stream",
       "stream": "stdout",
       "text": [
        "130523-18:35:00,191 interface INFO:\n",
        "\t stdout 2013-05-23T18:35:00.191965:    smoothing sigmas = 2.0000e+00 vox\n"
       ]
      },
      {
       "output_type": "stream",
       "stream": "stdout",
       "text": [
        "130523-18:35:00,192 interface INFO:\n",
        "\t stdout 2013-05-23T18:35:00.191965:    required fixed parameters = [3.1000e+01, 6.4000e+01, 6.4000e+01, 1.8000e+00, 1.4062e+00, 1.4062e+00, 4.8000e+00, 3.7500e+00, 3.7500e+00, 1.0000e+00, 0.0000e+00, 0.0000e+00, 0.0000e+00, 1.0000e+00, 0.0000e+00, 0.0000e+00, 0.0000e+00, 1.0000e+00]\n"
       ]
      },
      {
       "output_type": "stream",
       "stream": "stdout",
       "text": [
        "130523-18:35:03,282 interface INFO:\n",
        "\t stdout 2013-05-23T18:35:03.282670:XXDIAGNOSTIC,Iteration,metricValue,convergenceValue,ITERATION_TIME_INDEX,SINCE_LAST\n"
       ]
      },
      {
       "output_type": "stream",
       "stream": "stdout",
       "text": [
        "130523-18:35:03,283 interface INFO:\n",
        "\t stdout 2013-05-23T18:35:03.282670: DIAGNOSTIC,     1, -3.932316527750e-01, 1.797693134862e+308, 3.0939e+00, 3.0938e+00, \n"
       ]
      },
      {
       "output_type": "stream",
       "stream": "stdout",
       "text": [
        "130523-18:35:04,65 interface INFO:\n",
        "\t stdout 2013-05-23T18:35:04.065349: DIAGNOSTIC,     2, -4.022062402320e-01, 1.797693134862e+308, 3.8765e+00, 7.8263e-01, \n"
       ]
      },
      {
       "output_type": "stream",
       "stream": "stdout",
       "text": [
        "130523-18:35:04,832 interface INFO:\n",
        "\t stdout 2013-05-23T18:35:04.832856: DIAGNOSTIC,     3, -4.110384622417e-01, 1.797693134862e+308, 4.6439e+00, 7.6738e-01, \n"
       ]
      },
      {
       "output_type": "stream",
       "stream": "stdout",
       "text": [
        "130523-18:35:05,693 interface INFO:\n",
        "\t stdout 2013-05-23T18:35:05.693101: DIAGNOSTIC,     4, -4.192695886730e-01, 1.797693134862e+308, 5.5041e+00, 8.6023e-01, \n"
       ]
      },
      {
       "output_type": "stream",
       "stream": "stdout",
       "text": [
        "130523-18:35:06,477 interface INFO:\n",
        "\t stdout 2013-05-23T18:35:06.477061: DIAGNOSTIC,     5, -4.274984260880e-01, 1.797693134862e+308, 6.2881e+00, 7.8395e-01, \n"
       ]
      },
      {
       "output_type": "stream",
       "stream": "stdout",
       "text": [
        "130523-18:35:07,283 interface INFO:\n",
        "\t stdout 2013-05-23T18:35:07.283600: DIAGNOSTIC,     6, -4.347219083518e-01, 1.797693134862e+308, 7.0945e+00, 8.0642e-01, \n"
       ]
      },
      {
       "output_type": "stream",
       "stream": "stdout",
       "text": [
        "130523-18:35:08,18 interface INFO:\n",
        "\t stdout 2013-05-23T18:35:08.017914: DIAGNOSTIC,     7, -4.406806415653e-01, 1.797693134862e+308, 7.8288e+00, 7.3430e-01, \n"
       ]
      },
      {
       "output_type": "stream",
       "stream": "stdout",
       "text": [
        "130523-18:35:08,811 interface INFO:\n",
        "\t stdout 2013-05-23T18:35:08.811195: DIAGNOSTIC,     8, -4.464931990537e-01, 1.797693134862e+308, 8.6220e+00, 7.9321e-01, \n"
       ]
      },
      {
       "output_type": "stream",
       "stream": "stdout",
       "text": [
        "130523-18:35:09,644 interface INFO:\n",
        "\t stdout 2013-05-23T18:35:09.644674: DIAGNOSTIC,     9, -4.517461155909e-01, 1.797693134862e+308, 9.4554e+00, 8.3340e-01, \n"
       ]
      },
      {
       "output_type": "stream",
       "stream": "stdout",
       "text": [
        "130523-18:35:10,421 interface INFO:\n",
        "\t stdout 2013-05-23T18:35:10.420920: DIAGNOSTIC,    10, -4.559480026397e-01, 1.797693134862e+308, 1.0232e+01, 7.7624e-01, \n"
       ]
      },
      {
       "output_type": "stream",
       "stream": "stdout",
       "text": [
        "130523-18:35:10,428 interface INFO:\n",
        "\t stdout 2013-05-23T18:35:10.428686:  Current level = 2 of 3\n"
       ]
      },
      {
       "output_type": "stream",
       "stream": "stdout",
       "text": [
        "130523-18:35:10,429 interface INFO:\n",
        "\t stdout 2013-05-23T18:35:10.428686:    number of iterations = 0\n"
       ]
      },
      {
       "output_type": "stream",
       "stream": "stdout",
       "text": [
        "130523-18:35:10,430 interface INFO:\n",
        "\t stdout 2013-05-23T18:35:10.428686:    shrink factors = 2\n"
       ]
      },
      {
       "output_type": "stream",
       "stream": "stdout",
       "text": [
        "130523-18:35:10,430 interface INFO:\n",
        "\t stdout 2013-05-23T18:35:10.428686:    smoothing sigmas = 1.0000e+00 vox\n"
       ]
      },
      {
       "output_type": "stream",
       "stream": "stdout",
       "text": [
        "130523-18:35:10,430 interface INFO:\n",
        "\t stdout 2013-05-23T18:35:10.428686:    required fixed parameters = [6.2000e+01, 1.2800e+02, 1.2800e+02, 6.0000e-01, 4.6875e-01, 4.6875e-01, 2.4000e+00, 1.8750e+00, 1.8750e+00, 1.0000e+00, 0.0000e+00, 0.0000e+00, 0.0000e+00, 1.0000e+00, 0.0000e+00, 0.0000e+00, 0.0000e+00, 1.0000e+00]\n"
       ]
      },
      {
       "output_type": "stream",
       "stream": "stdout",
       "text": [
        "130523-18:35:12,362 interface INFO:\n",
        "\t stdout 2013-05-23T18:35:12.362824:  Current level = 3 of 3\n"
       ]
      },
      {
       "output_type": "stream",
       "stream": "stdout",
       "text": [
        "130523-18:35:12,363 interface INFO:\n",
        "\t stdout 2013-05-23T18:35:12.362824:    number of iterations = 0\n"
       ]
      },
      {
       "output_type": "stream",
       "stream": "stdout",
       "text": [
        "130523-18:35:12,364 interface INFO:\n",
        "\t stdout 2013-05-23T18:35:12.362824:    shrink factors = 1\n"
       ]
      },
      {
       "output_type": "stream",
       "stream": "stdout",
       "text": [
        "130523-18:35:12,364 interface INFO:\n",
        "\t stdout 2013-05-23T18:35:12.362824:    smoothing sigmas = 0.0000e+00 vox\n"
       ]
      },
      {
       "output_type": "stream",
       "stream": "stdout",
       "text": [
        "130523-18:35:12,365 interface INFO:\n",
        "\t stdout 2013-05-23T18:35:12.364979:    required fixed parameters = [1.2400e+02, 2.5600e+02, 2.5600e+02, 0.0000e+00, 0.0000e+00, 0.0000e+00, 1.2000e+00, 9.3750e-01, 9.3750e-01, 1.0000e+00, 0.0000e+00, 0.0000e+00, 0.0000e+00, 1.0000e+00, 0.0000e+00, 0.0000e+00, 0.0000e+00, 1.0000e+00]\n"
       ]
      },
      {
       "output_type": "stream",
       "stream": "stdout",
       "text": [
        "130523-18:35:20,515 interface INFO:\n",
        "\t stdout 2013-05-23T18:35:20.515664:  Elapsed time (stage 3): 2.5264e+01\n"
       ]
      },
      {
       "output_type": "stream",
       "stream": "stdout",
       "text": [
        "130523-18:35:20,516 interface INFO:\n",
        "\t stdout 2013-05-23T18:35:20.515664:\n"
       ]
      },
      {
       "output_type": "stream",
       "stream": "stdout",
       "text": [
        "130523-18:35:20,638 interface INFO:\n",
        "\t stdout 2013-05-23T18:35:20.637970:\n"
       ]
      },
      {
       "output_type": "stream",
       "stream": "stdout",
       "text": [
        "130523-18:35:20,638 interface INFO:\n",
        "\t stdout 2013-05-23T18:35:20.637970:Total elapsed time: 8.9489e+01\n"
       ]
      },
      {
       "metadata": {},
       "output_type": "pyout",
       "prompt_number": 12,
       "text": [
        "<nipype.interfaces.base.InterfaceResult at 0x105bf6a10>"
       ]
      }
     ],
     "prompt_number": 12
    },
    {
     "cell_type": "code",
     "collapsed": false,
     "input": [
      "import glob\n",
      "glob.glob('*.nii*')"
     ],
     "language": "python",
     "metadata": {},
     "outputs": [
      {
       "metadata": {},
       "output_type": "pyout",
       "prompt_number": 15,
       "text": [
        "['abold.nii.gz',\n",
        " 'bold.nii.gz',\n",
        " 'ds107_sub001_highres.nii.gz',\n",
        " 'ds107_sub001_run01.nii.gz',\n",
        " 'thisTransform1InverseWarp.nii.gz',\n",
        " 'thisTransform1Warp.nii.gz',\n",
        " 'thisTransform_Warped.nii.gz']"
       ]
      }
     ],
     "prompt_number": 15
    }
   ],
   "metadata": {}
  }
 ]
}