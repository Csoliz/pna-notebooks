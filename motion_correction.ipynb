{
 "metadata": {
  "name": "motion_correction"
 },
 "nbformat": 3,
 "nbformat_minor": 0,
 "worksheets": [
  {
   "cells": [
    {
     "cell_type": "code",
     "collapsed": false,
     "input": [
      "%pylab inline"
     ],
     "language": "python",
     "metadata": {},
     "outputs": [
      {
       "output_type": "stream",
       "stream": "stdout",
       "text": [
        "\n",
        "Welcome to pylab, a matplotlib-based Python environment [backend: module://IPython.kernel.zmq.pylab.backend_inline].\n",
        "For more information, type 'help(pylab)'.\n"
       ]
      }
     ],
     "prompt_number": 1
    },
    {
     "cell_type": "code",
     "collapsed": false,
     "input": [
      "import numpy as np\n",
      "import matplotlib.pyplot as plt"
     ],
     "language": "python",
     "metadata": {},
     "outputs": [],
     "prompt_number": 2
    },
    {
     "cell_type": "code",
     "collapsed": false,
     "input": [
      "import os"
     ],
     "language": "python",
     "metadata": {},
     "outputs": [],
     "prompt_number": 3
    },
    {
     "cell_type": "markdown",
     "metadata": {},
     "source": [
      "I'm expecting the data to be in your home directory, as for the workflow notebook."
     ]
    },
    {
     "cell_type": "code",
     "collapsed": false,
     "input": [
      "DATA_PATH = os.path.join(os.path.expanduser('~'), 'data', 'ds105')\n",
      "os.listdir(DATA_PATH)"
     ],
     "language": "python",
     "metadata": {},
     "outputs": [
      {
       "output_type": "pyout",
       "prompt_number": 4,
       "text": [
        "['study_key.txt',\n",
        " 'release_history.txt',\n",
        " 'task_key.txt',\n",
        " 'models',\n",
        " 'references.txt',\n",
        " 'sub005',\n",
        " 'license.txt',\n",
        " 'sub004',\n",
        " 'sub003',\n",
        " 'scan_key.txt',\n",
        " 'sub001',\n",
        " 'sub006',\n",
        " 'README',\n",
        " 'sub002']"
       ]
      }
     ],
     "prompt_number": 4
    },
    {
     "cell_type": "markdown",
     "metadata": {},
     "source": [
      "Get the filenames for the functional runs of the first subject"
     ]
    },
    {
     "cell_type": "code",
     "collapsed": false,
     "input": [
      "import glob"
     ],
     "language": "python",
     "metadata": {},
     "outputs": [],
     "prompt_number": 5
    },
    {
     "cell_type": "code",
     "collapsed": false,
     "input": [
      "run_fnames = glob.glob(os.path.join(DATA_PATH, 'sub001', 'BOLD', 'task*', 'bold.nii.gz'))\n",
      "run_fnames.sort()\n",
      "run_fnames"
     ],
     "language": "python",
     "metadata": {},
     "outputs": [
      {
       "output_type": "pyout",
       "prompt_number": 6,
       "text": [
        "['/home/mb312/data/ds105/sub001/BOLD/task001_run001/bold.nii.gz',\n",
        " '/home/mb312/data/ds105/sub001/BOLD/task001_run002/bold.nii.gz',\n",
        " '/home/mb312/data/ds105/sub001/BOLD/task001_run003/bold.nii.gz',\n",
        " '/home/mb312/data/ds105/sub001/BOLD/task001_run004/bold.nii.gz',\n",
        " '/home/mb312/data/ds105/sub001/BOLD/task001_run005/bold.nii.gz',\n",
        " '/home/mb312/data/ds105/sub001/BOLD/task001_run006/bold.nii.gz',\n",
        " '/home/mb312/data/ds105/sub001/BOLD/task001_run007/bold.nii.gz',\n",
        " '/home/mb312/data/ds105/sub001/BOLD/task001_run008/bold.nii.gz',\n",
        " '/home/mb312/data/ds105/sub001/BOLD/task001_run009/bold.nii.gz',\n",
        " '/home/mb312/data/ds105/sub001/BOLD/task001_run010/bold.nii.gz',\n",
        " '/home/mb312/data/ds105/sub001/BOLD/task001_run011/bold.nii.gz',\n",
        " '/home/mb312/data/ds105/sub001/BOLD/task001_run012/bold.nii.gz']"
       ]
      }
     ],
     "prompt_number": 6
    },
    {
     "cell_type": "markdown",
     "metadata": {},
     "source": [
      "This is how to do realignment AND slice time correction on a single subject in NIPY:"
     ]
    },
    {
     "cell_type": "code",
     "collapsed": false,
     "input": [
      "from nipy.algorithms.registration import FmriRealign4d\n",
      "from nipy import load_image, save_image"
     ],
     "language": "python",
     "metadata": {},
     "outputs": [],
     "prompt_number": 7
    },
    {
     "cell_type": "code",
     "collapsed": false,
     "input": [
      "N_SLICES = 40\n",
      "TR = 2.5\n",
      "SLICE_AXIS = 0\n",
      "space_to_time = list(range(0, N_SLICES, 2)) + list(range(1, N_SLICES, 2))\n",
      "time_to_space = np.argsort(space_to_time)"
     ],
     "language": "python",
     "metadata": {},
     "outputs": [],
     "prompt_number": 8
    },
    {
     "cell_type": "code",
     "collapsed": false,
     "input": [
      "# Let's use only the first 2 runs for now\n",
      "run_fnames = run_fnames[:2]"
     ],
     "language": "python",
     "metadata": {},
     "outputs": [],
     "prompt_number": 9
    },
    {
     "cell_type": "code",
     "collapsed": false,
     "input": [
      "# Make filenames into images\n",
      "run_imgs = [load_image(fname) for fname in run_fnames]"
     ],
     "language": "python",
     "metadata": {},
     "outputs": [],
     "prompt_number": 10
    },
    {
     "cell_type": "code",
     "collapsed": false,
     "input": [
      "R = FmriRealign4d(run_imgs, slice_order=None, time_interp=None)\n",
      "# Estimate motion within- and between- sessions\n",
      "R.estimate(loops=1, refscan=None)"
     ],
     "language": "python",
     "metadata": {},
     "outputs": [
      {
       "output_type": "stream",
       "stream": "stdout",
       "text": [
        "Resampling scan 1/121\n",
        "Resampling scan 2/121\n",
        "Resampling scan 3/121\n",
        "Resampling scan 4/121\n",
        "Resampling scan 5/121\n",
        "Resampling scan 6/121\n",
        "Resampling scan 7/121\n",
        "Resampling scan 8/121\n",
        "Resampling scan 9/121"
       ]
      },
      {
       "output_type": "stream",
       "stream": "stdout",
       "text": [
        "\n",
        "Resampling scan 10/121\n",
        "Resampling scan 11/121\n",
        "Resampling scan 12/121\n",
        "Resampling scan 13/121"
       ]
      },
      {
       "output_type": "stream",
       "stream": "stdout",
       "text": [
        "\n",
        "Resampling scan 14/121\n",
        "Resampling scan 15/121\n",
        "Resampling scan 16/121\n",
        "Resampling scan 17/121\n",
        "Resampling scan 18/121"
       ]
      },
      {
       "output_type": "stream",
       "stream": "stdout",
       "text": [
        "\n",
        "Resampling scan 19/121\n",
        "Resampling scan 20/121\n",
        "Resampling scan 21/121\n",
        "Resampling scan 22/121\n",
        "Resampling scan 23/121\n",
        "Resampling scan 24/121"
       ]
      },
      {
       "output_type": "stream",
       "stream": "stdout",
       "text": [
        "\n",
        "Resampling scan 25/121\n",
        "Resampling scan 26/121\n",
        "Resampling scan 27/121\n",
        "Resampling scan 28/121\n",
        "Resampling scan 29/121\n",
        "Resampling scan 30/121\n",
        "Resampling scan 31/121\n",
        "Resampling scan 32/121"
       ]
      },
      {
       "output_type": "stream",
       "stream": "stdout",
       "text": [
        "\n",
        "Resampling scan 33/121\n",
        "Resampling scan 34/121\n",
        "Resampling scan 35/121\n",
        "Resampling scan 36/121\n",
        "Resampling scan 37/121\n",
        "Resampling scan 38/121\n",
        "Resampling scan 39/121\n",
        "Resampling scan 40/121"
       ]
      },
      {
       "output_type": "stream",
       "stream": "stdout",
       "text": [
        "\n",
        "Resampling scan 41/121\n",
        "Resampling scan 42/121\n",
        "Resampling scan 43/121\n",
        "Resampling scan 44/121\n",
        "Resampling scan 45/121\n",
        "Resampling scan 46/121\n",
        "Resampling scan 47/121\n",
        "Resampling scan 48/121"
       ]
      },
      {
       "output_type": "stream",
       "stream": "stdout",
       "text": [
        "\n",
        "Resampling scan 49/121\n",
        "Resampling scan 50/121\n",
        "Resampling scan 51/121\n",
        "Resampling scan 52/121\n",
        "Resampling scan 53/121\n",
        "Resampling scan 54/121\n",
        "Resampling scan 55/121\n",
        "Resampling scan 56/121"
       ]
      },
      {
       "output_type": "stream",
       "stream": "stdout",
       "text": [
        "\n",
        "Resampling scan 57/121\n",
        "Resampling scan 58/121\n",
        "Resampling scan 59/121\n",
        "Resampling scan 60/121\n",
        "Resampling scan 61/121\n",
        "Resampling scan 62/121\n",
        "Resampling scan 63/121\n",
        "Resampling scan 64/121"
       ]
      },
      {
       "output_type": "stream",
       "stream": "stdout",
       "text": [
        "\n",
        "Resampling scan 65/121\n",
        "Resampling scan 66/121\n",
        "Resampling scan 67/121\n",
        "Resampling scan 68/121\n",
        "Resampling scan 69/121\n",
        "Resampling scan 70/121\n",
        "Resampling scan 71/121"
       ]
      },
      {
       "output_type": "stream",
       "stream": "stdout",
       "text": [
        "\n",
        "Resampling scan 72/121\n",
        "Resampling scan 73/121\n",
        "Resampling scan 74/121\n",
        "Resampling scan 75/121\n",
        "Resampling scan 76/121\n",
        "Resampling scan 77/121\n",
        "Resampling scan 78/121"
       ]
      },
      {
       "output_type": "stream",
       "stream": "stdout",
       "text": [
        "\n",
        "Resampling scan 79/121\n",
        "Resampling scan 80/121\n",
        "Resampling scan 81/121\n",
        "Resampling scan 82/121\n",
        "Resampling scan 83/121"
       ]
      },
      {
       "output_type": "stream",
       "stream": "stdout",
       "text": [
        "\n",
        "Resampling scan 84/121\n",
        "Resampling scan 85/121\n",
        "Resampling scan 86/121\n",
        "Resampling scan 87/121\n",
        "Resampling scan 88/121"
       ]
      },
      {
       "output_type": "stream",
       "stream": "stdout",
       "text": [
        "\n",
        "Resampling scan 89/121\n",
        "Resampling scan 90/121\n",
        "Resampling scan 91/121\n",
        "Resampling scan 92/121\n",
        "Resampling scan 93/121\n",
        "Resampling scan 94/121\n",
        "Resampling scan 95/121"
       ]
      },
      {
       "output_type": "stream",
       "stream": "stdout",
       "text": [
        "\n",
        "Resampling scan 96/121\n",
        "Resampling scan 97/121\n",
        "Resampling scan 98/121\n",
        "Resampling scan 99/121\n",
        "Resampling scan 100/121"
       ]
      },
      {
       "output_type": "stream",
       "stream": "stdout",
       "text": [
        "\n",
        "Resampling scan 101/121\n",
        "Resampling scan 102/121\n",
        "Resampling scan 103/121\n",
        "Resampling scan 104/121\n",
        "Resampling scan 105/121\n",
        "Resampling scan 106/121\n",
        "Resampling scan 107/121\n",
        "Resampling scan 108/121"
       ]
      },
      {
       "output_type": "stream",
       "stream": "stdout",
       "text": [
        "\n",
        "Resampling scan 109/121\n",
        "Resampling scan 110/121\n",
        "Resampling scan 111/121\n",
        "Resampling scan 112/121\n",
        "Resampling scan 113/121\n",
        "Resampling scan 114/121\n",
        "Resampling scan 115/121\n",
        "Resampling scan 116/121"
       ]
      },
      {
       "output_type": "stream",
       "stream": "stdout",
       "text": [
        "\n",
        "Resampling scan 117/121\n",
        "Resampling scan 118/121\n",
        "Resampling scan 119/121\n",
        "Resampling scan 120/121\n",
        "Resampling scan 121/121\n",
        "Estimating motion at time frame 1/121...\n",
        "Optimization terminated successfully."
       ]
      },
      {
       "output_type": "stream",
       "stream": "stdout",
       "text": [
        "\n",
        "         Current function value: -6.265450\n",
        "         Iterations: 13\n",
        "         Function evaluations: 14\n",
        "         Gradient evaluations: 13\n",
        "         Hessian evaluations: 13\n",
        "translation : [-0.07415198 -0.01446851 -0.04598682]\n",
        "rotation    : [-0.00105778 -0.00543996  0.00287229]\n",
        "\n",
        "Estimating motion at time frame 2/121...\n",
        "Optimization terminated successfully."
       ]
      },
      {
       "output_type": "stream",
       "stream": "stdout",
       "text": [
        "\n",
        "         Current function value: -6.266077\n",
        "         Iterations: 10\n",
        "         Function evaluations: 11\n",
        "         Gradient evaluations: 10\n",
        "         Hessian evaluations: 10\n",
        "translation : [-0.08111991 -0.02695847 -0.03722121]\n",
        "rotation    : [-0.00143244 -0.00236585  0.00320505]\n",
        "\n",
        "Estimating motion at time frame 3/121...\n",
        "Optimization terminated successfully."
       ]
      },
      {
       "output_type": "stream",
       "stream": "stdout",
       "text": [
        "\n",
        "         Current function value: -6.266289\n",
        "         Iterations: 11\n",
        "         Function evaluations: 12\n",
        "         Gradient evaluations: 11\n",
        "         Hessian evaluations: 11\n",
        "translation : [-0.07225097 -0.0489767  -0.033119  ]\n",
        "rotation    : [-0.00058136 -0.00134308  0.0011362 ]\n",
        "\n",
        "Estimating motion at time frame 4/121...\n",
        "Optimization terminated successfully."
       ]
      },
      {
       "output_type": "stream",
       "stream": "stdout",
       "text": [
        "\n",
        "         Current function value: -6.266616\n",
        "         Iterations: 7\n",
        "         Function evaluations: 8\n",
        "         Gradient evaluations: 7\n",
        "         Hessian evaluations: 7\n",
        "translation : [-0.07879494 -0.08620883 -0.03795572]\n",
        "rotation    : [-0.00076705 -0.00034378 -0.00095914]\n",
        "\n",
        "Estimating motion at time frame 5/121...\n",
        "Optimization terminated successfully."
       ]
      },
      {
       "output_type": "stream",
       "stream": "stdout",
       "text": [
        "\n",
        "         Current function value: -6.267015\n",
        "         Iterations: 9\n",
        "         Function evaluations: 10\n",
        "         Gradient evaluations: 9\n",
        "         Hessian evaluations: 9\n",
        "translation : [-0.05442299 -0.08018812 -0.0291421 ]\n",
        "rotation    : [-0.00154864 -0.00169777  0.00042953]\n",
        "\n",
        "Estimating motion at time frame 6/121...\n",
        "Optimization terminated successfully."
       ]
      },
      {
       "output_type": "stream",
       "stream": "stdout",
       "text": [
        "\n",
        "         Current function value: -6.267377\n",
        "         Iterations: 10\n",
        "         Function evaluations: 11\n",
        "         Gradient evaluations: 10\n",
        "         Hessian evaluations: 10\n",
        "translation : [-0.08403699 -0.08706642 -0.0356009 ]\n",
        "rotation    : [-0.00070415 -0.00196751  0.00048433]\n",
        "\n",
        "Estimating motion at time frame 7/121...\n",
        "Optimization terminated successfully."
       ]
      },
      {
       "output_type": "stream",
       "stream": "stdout",
       "text": [
        "\n",
        "         Current function value: -6.267992\n",
        "         Iterations: 7\n",
        "         Function evaluations: 8\n",
        "         Gradient evaluations: 7\n",
        "         Hessian evaluations: 7\n",
        "translation : [-0.08922315 -0.10606758 -0.06409874]\n",
        "rotation    : [-0.00171566  0.00021042  0.00050009]\n",
        "\n",
        "Estimating motion at time frame 8/121...\n",
        "Optimization terminated successfully."
       ]
      },
      {
       "output_type": "stream",
       "stream": "stdout",
       "text": [
        "\n",
        "         Current function value: -6.268498\n",
        "         Iterations: 7\n",
        "         Function evaluations: 8\n",
        "         Gradient evaluations: 7\n",
        "         Hessian evaluations: 7\n",
        "translation : [-0.09081471 -0.01302402 -0.06524687]\n",
        "rotation    : [-0.00214618  0.00049973  0.00017104]\n",
        "\n",
        "Estimating motion at time frame 9/121...\n",
        "Optimization terminated successfully."
       ]
      },
      {
       "output_type": "stream",
       "stream": "stdout",
       "text": [
        "\n",
        "         Current function value: -6.269000\n",
        "         Iterations: 7\n",
        "         Function evaluations: 8\n",
        "         Gradient evaluations: 7\n",
        "         Hessian evaluations: 7\n",
        "translation : [-0.07537375 -0.0163172  -0.04439681]\n",
        "rotation    : [ -2.47035092e-03   8.85484243e-06   1.16351515e-03]\n",
        "\n",
        "Estimating motion at time frame 10/121...\n",
        "Optimization terminated successfully."
       ]
      },
      {
       "output_type": "stream",
       "stream": "stdout",
       "text": [
        "\n",
        "         Current function value: -6.269733\n",
        "         Iterations: 7\n",
        "         Function evaluations: 8\n",
        "         Gradient evaluations: 7\n",
        "         Hessian evaluations: 7\n",
        "translation : [-0.10841708 -0.02678562 -0.041675  ]\n",
        "rotation    : [-0.00187592 -0.00159302  0.00303335]\n",
        "\n",
        "Estimating motion at time frame 11/121...\n",
        "Optimization terminated successfully."
       ]
      },
      {
       "output_type": "stream",
       "stream": "stdout",
       "text": [
        "\n",
        "         Current function value: -6.270286\n",
        "         Iterations: 7\n",
        "         Function evaluations: 8\n",
        "         Gradient evaluations: 7\n",
        "         Hessian evaluations: 7\n",
        "translation : [-0.09209248  0.00712721 -0.02788368]\n",
        "rotation    : [-0.00210157 -0.00139496  0.00244388]\n",
        "\n",
        "Estimating motion at time frame 12/121...\n",
        "Optimization terminated successfully."
       ]
      },
      {
       "output_type": "stream",
       "stream": "stdout",
       "text": [
        "\n",
        "         Current function value: -6.270678\n",
        "         Iterations: 8\n",
        "         Function evaluations: 9\n",
        "         Gradient evaluations: 8\n",
        "         Hessian evaluations: 8\n",
        "translation : [-0.09403117 -0.00706612 -0.01447287]\n",
        "rotation    : [-0.00061251 -0.00146596  0.00274897]\n",
        "\n",
        "Estimating motion at time frame 13/121...\n",
        "Optimization terminated successfully."
       ]
      },
      {
       "output_type": "stream",
       "stream": "stdout",
       "text": [
        "\n",
        "         Current function value: -6.271750\n",
        "         Iterations: 7\n",
        "         Function evaluations: 8\n",
        "         Gradient evaluations: 7\n",
        "         Hessian evaluations: 7\n",
        "translation : [-0.06700781 -0.05659375 -0.01425685]\n",
        "rotation    : [-0.00270322 -0.00168312  0.0036351 ]\n",
        "\n",
        "Estimating motion at time frame 14/121...\n",
        "Optimization terminated successfully."
       ]
      },
      {
       "output_type": "stream",
       "stream": "stdout",
       "text": [
        "\n",
        "         Current function value: -6.272329\n",
        "         Iterations: 6\n",
        "         Function evaluations: 7\n",
        "         Gradient evaluations: 6\n",
        "         Hessian evaluations: 6\n",
        "translation : [-0.08933828 -0.04745881 -0.01602343]\n",
        "rotation    : [-0.00192863 -0.00143581  0.00209391]\n",
        "\n",
        "Estimating motion at time frame 15/121...\n",
        "Optimization terminated successfully."
       ]
      },
      {
       "output_type": "stream",
       "stream": "stdout",
       "text": [
        "\n",
        "         Current function value: -6.273081\n",
        "         Iterations: 6\n",
        "         Function evaluations: 7\n",
        "         Gradient evaluations: 6\n",
        "         Hessian evaluations: 6\n",
        "translation : [-0.10870718 -0.03847364 -0.02858318]\n",
        "rotation    : [-0.00229796 -0.00153624  0.00220667]\n",
        "\n",
        "Estimating motion at time frame 16/121...\n",
        "Optimization terminated successfully."
       ]
      },
      {
       "output_type": "stream",
       "stream": "stdout",
       "text": [
        "\n",
        "         Current function value: -6.273325\n",
        "         Iterations: 11\n",
        "         Function evaluations: 12\n",
        "         Gradient evaluations: 11\n",
        "         Hessian evaluations: 11\n",
        "translation : [-0.03129621  0.04377557 -0.07658168]\n",
        "rotation    : [-0.00130303 -0.0006153   0.00112887]\n",
        "\n",
        "Estimating motion at time frame 17/121...\n",
        "Optimization terminated successfully."
       ]
      },
      {
       "output_type": "stream",
       "stream": "stdout",
       "text": [
        "\n",
        "         Current function value: -6.273506\n",
        "         Iterations: 5\n",
        "         Function evaluations: 6\n",
        "         Gradient evaluations: 5\n",
        "         Hessian evaluations: 5\n",
        "translation : [-0.08856335  0.02107498 -0.0132465 ]\n",
        "rotation    : [ -4.64679163e-04  -1.46948466e-04   4.33756935e-05]\n",
        "\n",
        "Estimating motion at time frame 18/121...\n",
        "Optimization terminated successfully."
       ]
      },
      {
       "output_type": "stream",
       "stream": "stdout",
       "text": [
        "\n",
        "         Current function value: -6.273952\n",
        "         Iterations: 7\n",
        "         Function evaluations: 8\n",
        "         Gradient evaluations: 7\n",
        "         Hessian evaluations: 7\n",
        "translation : [-0.06358386 -0.05833886 -0.02839994]\n",
        "rotation    : [ -2.06788068e-03  -9.28829158e-04   5.52622890e-05]\n",
        "\n",
        "Estimating motion at time frame 19/121...\n",
        "Optimization terminated successfully."
       ]
      },
      {
       "output_type": "stream",
       "stream": "stdout",
       "text": [
        "\n",
        "         Current function value: -6.276409\n",
        "         Iterations: 11\n",
        "         Function evaluations: 12\n",
        "         Gradient evaluations: 11\n",
        "         Hessian evaluations: 11\n",
        "translation : [-0.01776596 -0.04320989 -0.0502939 ]\n",
        "rotation    : [-0.00036212 -0.00720657  0.00377524]\n",
        "\n",
        "Estimating motion at time frame 20/121...\n",
        "Optimization terminated successfully."
       ]
      },
      {
       "output_type": "stream",
       "stream": "stdout",
       "text": [
        "\n",
        "         Current function value: -6.277113\n",
        "         Iterations: 7\n",
        "         Function evaluations: 8\n",
        "         Gradient evaluations: 7\n",
        "         Hessian evaluations: 7\n",
        "translation : [-0.08162856 -0.06386818 -0.02286122]\n",
        "rotation    : [-0.00104241 -0.00262929  0.00266161]\n",
        "\n",
        "Estimating motion at time frame 21/121...\n",
        "Optimization terminated successfully."
       ]
      },
      {
       "output_type": "stream",
       "stream": "stdout",
       "text": [
        "\n",
        "         Current function value: -6.277545\n",
        "         Iterations: 7\n",
        "         Function evaluations: 8\n",
        "         Gradient evaluations: 7\n",
        "         Hessian evaluations: 7\n",
        "translation : [-0.07267488 -0.04033787 -0.00464735]\n",
        "rotation    : [-0.00082571 -0.00199695  0.00232249]\n",
        "\n",
        "Estimating motion at time frame 22/121...\n",
        "Optimization terminated successfully."
       ]
      },
      {
       "output_type": "stream",
       "stream": "stdout",
       "text": [
        "\n",
        "         Current function value: -6.279436\n",
        "         Iterations: 11\n",
        "         Function evaluations: 12\n",
        "         Gradient evaluations: 11\n",
        "         Hessian evaluations: 11\n",
        "translation : [-0.06351311  0.00552307 -0.06514211]\n",
        "rotation    : [-0.00317708 -0.00542041  0.00356985]\n",
        "\n",
        "Estimating motion at time frame 23/121...\n",
        "Optimization terminated successfully."
       ]
      },
      {
       "output_type": "stream",
       "stream": "stdout",
       "text": [
        "\n",
        "         Current function value: -6.279822\n",
        "         Iterations: 6\n",
        "         Function evaluations: 7\n",
        "         Gradient evaluations: 6\n",
        "         Hessian evaluations: 6\n",
        "translation : [-0.09366461 -0.0421892  -0.01185021]\n",
        "rotation    : [-0.00106696 -0.00128684  0.00183522]\n",
        "\n",
        "Estimating motion at time frame 24/121...\n",
        "Optimization terminated successfully."
       ]
      },
      {
       "output_type": "stream",
       "stream": "stdout",
       "text": [
        "\n",
        "         Current function value: -6.280768\n",
        "         Iterations: 6\n",
        "         Function evaluations: 7\n",
        "         Gradient evaluations: 6\n",
        "         Hessian evaluations: 6\n",
        "translation : [-0.08198526 -0.06055631 -0.01213948]\n",
        "rotation    : [-0.00184594 -0.00251328  0.00301953]\n",
        "\n",
        "Estimating motion at time frame 25/121...\n",
        "Optimization terminated successfully."
       ]
      },
      {
       "output_type": "stream",
       "stream": "stdout",
       "text": [
        "\n",
        "         Current function value: -6.281627\n",
        "         Iterations: 9\n",
        "         Function evaluations: 10\n",
        "         Gradient evaluations: 9\n",
        "         Hessian evaluations: 9\n",
        "translation : [-0.04333477 -0.04170984 -0.03708181]\n",
        "rotation    : [-0.00229001 -0.00289944  0.00190472]\n",
        "\n",
        "Estimating motion at time frame 26/121...\n",
        "Optimization terminated successfully."
       ]
      },
      {
       "output_type": "stream",
       "stream": "stdout",
       "text": [
        "\n",
        "         Current function value: -6.283194\n",
        "         Iterations: 7\n",
        "         Function evaluations: 8\n",
        "         Gradient evaluations: 7\n",
        "         Hessian evaluations: 7\n",
        "translation : [-0.03407056 -0.05337889 -0.0140566 ]\n",
        "rotation    : [-0.00262814 -0.00372053  0.00347978]\n",
        "\n",
        "Estimating motion at time frame 27/121...\n",
        "Optimization terminated successfully."
       ]
      },
      {
       "output_type": "stream",
       "stream": "stdout",
       "text": [
        "\n",
        "         Current function value: -6.283671\n",
        "         Iterations: 9\n",
        "         Function evaluations: 10\n",
        "         Gradient evaluations: 9\n",
        "         Hessian evaluations: 9\n",
        "translation : [-0.06666121 -0.04780763 -0.02594295]\n",
        "rotation    : [-0.00095933 -0.00211736  0.00245301]\n",
        "\n",
        "Estimating motion at time frame 28/121...\n",
        "Optimization terminated successfully."
       ]
      },
      {
       "output_type": "stream",
       "stream": "stdout",
       "text": [
        "\n",
        "         Current function value: -6.284923\n",
        "         Iterations: 9\n",
        "         Function evaluations: 10\n",
        "         Gradient evaluations: 9\n",
        "         Hessian evaluations: 9\n",
        "translation : [-0.04011003 -0.03035581 -0.01202617]\n",
        "rotation    : [-0.00289306 -0.00308831  0.00330616]\n",
        "\n",
        "Estimating motion at time frame 29/121...\n",
        "Optimization terminated successfully."
       ]
      },
      {
       "output_type": "stream",
       "stream": "stdout",
       "text": [
        "\n",
        "         Current function value: -6.285422\n",
        "         Iterations: 6\n",
        "         Function evaluations: 7\n",
        "         Gradient evaluations: 6\n",
        "         Hessian evaluations: 6\n",
        "translation : [-0.0624543  -0.0304402  -0.00963487]\n",
        "rotation    : [-0.00250244 -0.00085854  0.00065587]\n",
        "\n",
        "Estimating motion at time frame 30/121...\n",
        "Optimization terminated successfully."
       ]
      },
      {
       "output_type": "stream",
       "stream": "stdout",
       "text": [
        "\n",
        "         Current function value: -6.286087\n",
        "         Iterations: 6\n",
        "         Function evaluations: 7\n",
        "         Gradient evaluations: 6\n",
        "         Hessian evaluations: 6\n",
        "translation : [-0.0406354  -0.04393762 -0.03382099]\n",
        "rotation    : [-0.00260832 -0.00074661  0.00193751]\n",
        "\n",
        "Estimating motion at time frame 31/121...\n",
        "Optimization terminated successfully."
       ]
      },
      {
       "output_type": "stream",
       "stream": "stdout",
       "text": [
        "\n",
        "         Current function value: -6.286243\n",
        "         Iterations: 7\n",
        "         Function evaluations: 8\n",
        "         Gradient evaluations: 7\n",
        "         Hessian evaluations: 7\n",
        "translation : [-0.04547218 -0.03215715 -0.01448067]\n",
        "rotation    : [ -6.18087499e-06  -1.48957709e-03   1.32318725e-03]\n",
        "\n",
        "Estimating motion at time frame 32/121...\n",
        "Optimization terminated successfully."
       ]
      },
      {
       "output_type": "stream",
       "stream": "stdout",
       "text": [
        "\n",
        "         Current function value: -6.286389\n",
        "         Iterations: 7\n",
        "         Function evaluations: 8\n",
        "         Gradient evaluations: 7\n",
        "         Hessian evaluations: 7\n",
        "translation : [-0.05113339 -0.03117268 -0.0339515 ]\n",
        "rotation    : [ 0.00032704 -0.00113371  0.00123984]\n",
        "\n",
        "Estimating motion at time frame 33/121...\n",
        "Optimization terminated successfully."
       ]
      },
      {
       "output_type": "stream",
       "stream": "stdout",
       "text": [
        "\n",
        "         Current function value: -6.288288\n",
        "         Iterations: 11\n",
        "         Function evaluations: 12\n",
        "         Gradient evaluations: 11\n",
        "         Hessian evaluations: 11\n",
        "translation : [-0.01059844 -0.01640275 -0.04926002]\n",
        "rotation    : [-0.00069677 -0.00604129  0.00418784]\n",
        "\n",
        "Estimating motion at time frame 34/121...\n",
        "Optimization terminated successfully."
       ]
      },
      {
       "output_type": "stream",
       "stream": "stdout",
       "text": [
        "\n",
        "         Current function value: -6.288495\n",
        "         Iterations: 7\n",
        "         Function evaluations: 8\n",
        "         Gradient evaluations: 7\n",
        "         Hessian evaluations: 7\n",
        "translation : [-0.05495643 -0.06442367 -0.04104156]\n",
        "rotation    : [-0.00011616  0.00075309  0.00073642]\n",
        "\n",
        "Estimating motion at time frame 35/121...\n",
        "Optimization terminated successfully."
       ]
      },
      {
       "output_type": "stream",
       "stream": "stdout",
       "text": [
        "\n",
        "         Current function value: -6.288689\n",
        "         Iterations: 6\n",
        "         Function evaluations: 7\n",
        "         Gradient evaluations: 6\n",
        "         Hessian evaluations: 6\n",
        "translation : [-0.07208944 -0.03662597 -0.02059925]\n",
        "rotation    : [-0.00075852 -0.00057224  0.00083973]\n",
        "\n",
        "Estimating motion at time frame 36/121...\n",
        "Optimization terminated successfully."
       ]
      },
      {
       "output_type": "stream",
       "stream": "stdout",
       "text": [
        "\n",
        "         Current function value: -6.289421\n",
        "         Iterations: 7\n",
        "         Function evaluations: 8\n",
        "         Gradient evaluations: 7\n",
        "         Hessian evaluations: 7\n",
        "translation : [-0.04255904 -0.03451924 -0.01764807]\n",
        "rotation    : [-0.00303552 -0.00090887  0.0015732 ]\n",
        "\n",
        "Estimating motion at time frame 37/121...\n",
        "Optimization terminated successfully."
       ]
      },
      {
       "output_type": "stream",
       "stream": "stdout",
       "text": [
        "\n",
        "         Current function value: -6.289976\n",
        "         Iterations: 8\n",
        "         Function evaluations: 9\n",
        "         Gradient evaluations: 8\n",
        "         Hessian evaluations: 8\n",
        "translation : [-0.05961967  0.03734866 -0.04023889]\n",
        "rotation    : [-0.00180278 -0.00224673  0.0024573 ]\n",
        "\n",
        "Estimating motion at time frame 38/121...\n",
        "Optimization terminated successfully."
       ]
      },
      {
       "output_type": "stream",
       "stream": "stdout",
       "text": [
        "\n",
        "         Current function value: -6.290305\n",
        "         Iterations: 5\n",
        "         Function evaluations: 6\n",
        "         Gradient evaluations: 5\n",
        "         Hessian evaluations: 5\n",
        "translation : [-0.06460165  0.04700549 -0.02090556]\n",
        "rotation    : [-0.00106877 -0.0011564   0.00222709]\n",
        "\n",
        "Estimating motion at time frame 39/121...\n",
        "Optimization terminated successfully."
       ]
      },
      {
       "output_type": "stream",
       "stream": "stdout",
       "text": [
        "\n",
        "         Current function value: -6.291220\n",
        "         Iterations: 6\n",
        "         Function evaluations: 7\n",
        "         Gradient evaluations: 6\n",
        "         Hessian evaluations: 6\n",
        "translation : [-0.05041095  0.04590588 -0.00228427]\n",
        "rotation    : [-0.00271765 -0.0014521   0.00370364]\n",
        "\n",
        "Estimating motion at time frame 40/121...\n",
        "Optimization terminated successfully."
       ]
      },
      {
       "output_type": "stream",
       "stream": "stdout",
       "text": [
        "\n",
        "         Current function value: -6.291667\n",
        "         Iterations: 6\n",
        "         Function evaluations: 7\n",
        "         Gradient evaluations: 6\n",
        "         Hessian evaluations: 6\n",
        "translation : [-0.05797026  0.04994065 -0.00355398]\n",
        "rotation    : [-0.00260471  0.00021354  0.00112444]\n",
        "\n",
        "Estimating motion at time frame 41/121...\n",
        "Optimization terminated successfully."
       ]
      },
      {
       "output_type": "stream",
       "stream": "stdout",
       "text": [
        "\n",
        "         Current function value: -6.292294\n",
        "         Iterations: 8\n",
        "         Function evaluations: 9\n",
        "         Gradient evaluations: 8\n",
        "         Hessian evaluations: 8\n",
        "translation : [-0.06583733  0.06788181 -0.01962471]\n",
        "rotation    : [-0.00234528 -0.00183673  0.00273213]\n",
        "\n",
        "Estimating motion at time frame 42/121...\n",
        "Optimization terminated successfully."
       ]
      },
      {
       "output_type": "stream",
       "stream": "stdout",
       "text": [
        "\n",
        "         Current function value: -6.292710\n",
        "         Iterations: 8\n",
        "         Function evaluations: 9\n",
        "         Gradient evaluations: 8\n",
        "         Hessian evaluations: 8\n",
        "translation : [-0.06708696  0.08518439  0.01331531]\n",
        "rotation    : [-0.00140382 -0.00105651  0.00260889]\n",
        "\n",
        "Estimating motion at time frame 43/121...\n",
        "Optimization terminated successfully."
       ]
      },
      {
       "output_type": "stream",
       "stream": "stdout",
       "text": [
        "\n",
        "         Current function value: -6.293579\n",
        "         Iterations: 6\n",
        "         Function evaluations: 7\n",
        "         Gradient evaluations: 6\n",
        "         Hessian evaluations: 6\n",
        "translation : [-0.06266632  0.06536784 -0.0450215 ]\n",
        "rotation    : [-0.00253122 -0.0025241   0.00253189]\n",
        "\n",
        "Estimating motion at time frame 44/121...\n",
        "Optimization terminated successfully."
       ]
      },
      {
       "output_type": "stream",
       "stream": "stdout",
       "text": [
        "\n",
        "         Current function value: -6.293784\n",
        "         Iterations: 6\n",
        "         Function evaluations: 7\n",
        "         Gradient evaluations: 6\n",
        "         Hessian evaluations: 6\n",
        "translation : [-0.04308762  0.03663844 -0.028911  ]\n",
        "rotation    : [-0.00103336 -0.00054359  0.00176137]\n",
        "\n",
        "Estimating motion at time frame 45/121...\n",
        "Optimization terminated successfully."
       ]
      },
      {
       "output_type": "stream",
       "stream": "stdout",
       "text": [
        "\n",
        "         Current function value: -6.294498\n",
        "         Iterations: 6\n",
        "         Function evaluations: 7\n",
        "         Gradient evaluations: 6\n",
        "         Hessian evaluations: 6\n",
        "translation : [-0.00263197  0.00287786 -0.0413665 ]\n",
        "rotation    : [-0.00083912 -0.00230627  0.00332466]\n",
        "\n",
        "Estimating motion at time frame 46/121...\n",
        "Optimization terminated successfully."
       ]
      },
      {
       "output_type": "stream",
       "stream": "stdout",
       "text": [
        "\n",
        "         Current function value: -6.294867\n",
        "         Iterations: 6\n",
        "         Function evaluations: 7\n",
        "         Gradient evaluations: 6\n",
        "         Hessian evaluations: 6\n",
        "translation : [-0.04646143  0.00266109 -0.0489868 ]\n",
        "rotation    : [-0.00122691 -0.00189443  0.00151129]\n",
        "\n",
        "Estimating motion at time frame 47/121...\n",
        "Optimization terminated successfully."
       ]
      },
      {
       "output_type": "stream",
       "stream": "stdout",
       "text": [
        "\n",
        "         Current function value: -6.295346\n",
        "         Iterations: 7\n",
        "         Function evaluations: 8\n",
        "         Gradient evaluations: 7\n",
        "         Hessian evaluations: 7\n",
        "translation : [-0.02579201 -0.02139147 -0.02040963]\n",
        "rotation    : [-0.00020762 -0.00185042  0.00326828]\n",
        "\n",
        "Estimating motion at time frame 48/121...\n",
        "Optimization terminated successfully."
       ]
      },
      {
       "output_type": "stream",
       "stream": "stdout",
       "text": [
        "\n",
        "         Current function value: -6.295468\n",
        "         Iterations: 5\n",
        "         Function evaluations: 6\n",
        "         Gradient evaluations: 5\n",
        "         Hessian evaluations: 5\n",
        "translation : [-0.05216314 -0.00593604 -0.03319728]\n",
        "rotation    : [-0.00020112 -0.00050277  0.00115542]\n",
        "\n",
        "Estimating motion at time frame 49/121...\n",
        "Optimization terminated successfully."
       ]
      },
      {
       "output_type": "stream",
       "stream": "stdout",
       "text": [
        "\n",
        "         Current function value: -6.295719\n",
        "         Iterations: 6\n",
        "         Function evaluations: 7\n",
        "         Gradient evaluations: 6\n",
        "         Hessian evaluations: 6\n",
        "translation : [-0.02836621 -0.02840527 -0.01365799]\n",
        "rotation    : [-0.00177486 -0.00018249 -0.00057738]\n",
        "\n",
        "Estimating motion at time frame 50/121...\n",
        "Optimization terminated successfully."
       ]
      },
      {
       "output_type": "stream",
       "stream": "stdout",
       "text": [
        "\n",
        "         Current function value: -6.296038\n",
        "         Iterations: 8\n",
        "         Function evaluations: 9\n",
        "         Gradient evaluations: 8\n",
        "         Hessian evaluations: 8\n",
        "translation : [-0.06518028  0.01726804 -0.04619248]\n",
        "rotation    : [-0.0005727  -0.00136152  0.00224161]\n",
        "\n",
        "Estimating motion at time frame 51/121...\n",
        "Optimization terminated successfully."
       ]
      },
      {
       "output_type": "stream",
       "stream": "stdout",
       "text": [
        "\n",
        "         Current function value: -6.296447\n",
        "         Iterations: 7\n",
        "         Function evaluations: 8\n",
        "         Gradient evaluations: 7\n",
        "         Hessian evaluations: 7\n",
        "translation : [-0.05579134  0.04234479 -0.03924448]\n",
        "rotation    : [-0.00147058 -0.00123489  0.00236814]\n",
        "\n",
        "Estimating motion at time frame 52/121...\n",
        "Optimization terminated successfully."
       ]
      },
      {
       "output_type": "stream",
       "stream": "stdout",
       "text": [
        "\n",
        "         Current function value: -6.296546\n",
        "         Iterations: 7\n",
        "         Function evaluations: 8\n",
        "         Gradient evaluations: 7\n",
        "         Hessian evaluations: 7\n",
        "translation : [-0.0377304   0.02025456 -0.00651799]\n",
        "rotation    : [-0.0005648  -0.00134222  0.00059387]\n",
        "\n",
        "Estimating motion at time frame 53/121...\n",
        "Optimization terminated successfully."
       ]
      },
      {
       "output_type": "stream",
       "stream": "stdout",
       "text": [
        "\n",
        "         Current function value: -6.296701\n",
        "         Iterations: 7\n",
        "         Function evaluations: 8\n",
        "         Gradient evaluations: 7\n",
        "         Hessian evaluations: 7\n",
        "translation : [-0.0555989   0.00282023 -0.01859878]\n",
        "rotation    : [-0.00037047 -0.00164597  0.00076235]\n",
        "\n",
        "Estimating motion at time frame 54/121...\n",
        "Optimization terminated successfully."
       ]
      },
      {
       "output_type": "stream",
       "stream": "stdout",
       "text": [
        "\n",
        "         Current function value: -6.296746\n",
        "         Iterations: 5\n",
        "         Function evaluations: 6\n",
        "         Gradient evaluations: 5\n",
        "         Hessian evaluations: 5\n",
        "translation : [-0.03790881 -0.00784145 -0.01695036]\n",
        "rotation    : [ -2.84084657e-04  -5.24476507e-04   7.79147408e-05]\n",
        "\n",
        "Estimating motion at time frame 55/121...\n",
        "Optimization terminated successfully."
       ]
      },
      {
       "output_type": "stream",
       "stream": "stdout",
       "text": [
        "\n",
        "         Current function value: -6.297068\n",
        "         Iterations: 5\n",
        "         Function evaluations: 6\n",
        "         Gradient evaluations: 5\n",
        "         Hessian evaluations: 5\n",
        "translation : [-0.04540155  0.00257792 -0.03525212]\n",
        "rotation    : [-0.00173633 -0.00099786  0.00131513]\n",
        "\n",
        "Estimating motion at time frame 56/121...\n",
        "Optimization terminated successfully."
       ]
      },
      {
       "output_type": "stream",
       "stream": "stdout",
       "text": [
        "\n",
        "         Current function value: -6.297346\n",
        "         Iterations: 5\n",
        "         Function evaluations: 6\n",
        "         Gradient evaluations: 5\n",
        "         Hessian evaluations: 5\n",
        "translation : [-0.01724493 -0.01702106 -0.03862193]\n",
        "rotation    : [-0.00101107  0.00075807  0.00200034]\n",
        "\n",
        "Estimating motion at time frame 57/121...\n",
        "Optimization terminated successfully."
       ]
      },
      {
       "output_type": "stream",
       "stream": "stdout",
       "text": [
        "\n",
        "         Current function value: -6.297691\n",
        "         Iterations: 8\n",
        "         Function evaluations: 9\n",
        "         Gradient evaluations: 8\n",
        "         Hessian evaluations: 8\n",
        "translation : [-0.03773615 -0.03087439 -0.03674355]\n",
        "rotation    : [-0.00091413 -0.00112107  0.00237087]\n",
        "\n",
        "Estimating motion at time frame 58/121...\n",
        "Optimization terminated successfully."
       ]
      },
      {
       "output_type": "stream",
       "stream": "stdout",
       "text": [
        "\n",
        "         Current function value: -6.298016\n",
        "         Iterations: 7\n",
        "         Function evaluations: 8\n",
        "         Gradient evaluations: 7\n",
        "         Hessian evaluations: 7\n",
        "translation : [-0.03114077 -0.01909569 -0.02725238]\n",
        "rotation    : [-0.00064604 -0.00173816  0.00223036]\n",
        "\n",
        "Estimating motion at time frame 59/121...\n",
        "Optimization terminated successfully."
       ]
      },
      {
       "output_type": "stream",
       "stream": "stdout",
       "text": [
        "\n",
        "         Current function value: -6.298317\n",
        "         Iterations: 8\n",
        "         Function evaluations: 9\n",
        "         Gradient evaluations: 8\n",
        "         Hessian evaluations: 8\n",
        "translation : [ 0.01509068 -0.03926992 -0.02522531]\n",
        "rotation    : [-0.00124073 -0.00164165  0.00025004]\n",
        "\n",
        "Estimating motion at time frame 60/121...\n",
        "Optimization terminated successfully."
       ]
      },
      {
       "output_type": "stream",
       "stream": "stdout",
       "text": [
        "\n",
        "         Current function value: -6.298513\n",
        "         Iterations: 6\n",
        "         Function evaluations: 7\n",
        "         Gradient evaluations: 6\n",
        "         Hessian evaluations: 6\n",
        "translation : [-0.02277068 -0.02633309 -0.01798262]\n",
        "rotation    : [ -2.26070545e-06  -1.38972757e-03   1.71748907e-03]\n",
        "\n",
        "Estimating motion at time frame 61/121...\n",
        "Optimization terminated successfully."
       ]
      },
      {
       "output_type": "stream",
       "stream": "stdout",
       "text": [
        "\n",
        "         Current function value: -6.298837\n",
        "         Iterations: 7\n",
        "         Function evaluations: 8\n",
        "         Gradient evaluations: 7\n",
        "         Hessian evaluations: 7\n",
        "translation : [-0.00406723 -0.03994784 -0.04089723]\n",
        "rotation    : [-0.00030354 -0.00093346  0.00243135]\n",
        "\n",
        "Estimating motion at time frame 62/121...\n",
        "Optimization terminated successfully."
       ]
      },
      {
       "output_type": "stream",
       "stream": "stdout",
       "text": [
        "\n",
        "         Current function value: -6.298971\n",
        "         Iterations: 8\n",
        "         Function evaluations: 9\n",
        "         Gradient evaluations: 8\n",
        "         Hessian evaluations: 8\n",
        "translation : [ 0.02330452 -0.03638479 -0.03084041]\n",
        "rotation    : [-0.0004229  -0.00095848 -0.00042348]\n",
        "\n",
        "Estimating motion at time frame 63/121...\n",
        "Optimization terminated successfully."
       ]
      },
      {
       "output_type": "stream",
       "stream": "stdout",
       "text": [
        "\n",
        "         Current function value: -6.299179\n",
        "         Iterations: 7\n",
        "         Function evaluations: 8\n",
        "         Gradient evaluations: 7\n",
        "         Hessian evaluations: 7\n",
        "translation : [ 0.03736342 -0.04908361 -0.00287117]\n",
        "rotation    : [-0.00127873  0.00100128 -0.00084004]\n",
        "\n",
        "Estimating motion at time frame 64/121...\n",
        "Optimization terminated successfully."
       ]
      },
      {
       "output_type": "stream",
       "stream": "stdout",
       "text": [
        "\n",
        "         Current function value: -6.299369\n",
        "         Iterations: 7\n",
        "         Function evaluations: 8\n",
        "         Gradient evaluations: 7\n",
        "         Hessian evaluations: 7\n",
        "translation : [-0.02310131 -0.01989982 -0.02738894]\n",
        "rotation    : [-0.00081105 -0.00101698  0.00156771]\n",
        "\n",
        "Estimating motion at time frame 65/121...\n",
        "Optimization terminated successfully."
       ]
      },
      {
       "output_type": "stream",
       "stream": "stdout",
       "text": [
        "\n",
        "         Current function value: -6.299408\n",
        "         Iterations: 5\n",
        "         Function evaluations: 6\n",
        "         Gradient evaluations: 5\n",
        "         Hessian evaluations: 5\n",
        "translation : [ 0.01876072  0.01365128 -0.01660597]\n",
        "rotation    : [-0.00062686  0.00041696  0.00044875]\n",
        "\n",
        "Estimating motion at time frame 66/121...\n",
        "Optimization terminated successfully."
       ]
      },
      {
       "output_type": "stream",
       "stream": "stdout",
       "text": [
        "\n",
        "         Current function value: -6.299447\n",
        "         Iterations: 5\n",
        "         Function evaluations: 6\n",
        "         Gradient evaluations: 5\n",
        "         Hessian evaluations: 5\n",
        "translation : [-0.01364356  0.00143999 -0.0082695 ]\n",
        "rotation    : [-0.0006314  -0.00043134 -0.00044398]\n",
        "\n",
        "Estimating motion at time frame 67/121...\n",
        "Optimization terminated successfully."
       ]
      },
      {
       "output_type": "stream",
       "stream": "stdout",
       "text": [
        "\n",
        "         Current function value: -6.299526\n",
        "         Iterations: 6\n",
        "         Function evaluations: 7\n",
        "         Gradient evaluations: 6\n",
        "         Hessian evaluations: 6\n",
        "translation : [-0.00757037  0.00735612 -0.02022556]\n",
        "rotation    : [-0.00063418 -0.00048904  0.00112106]\n",
        "\n",
        "Estimating motion at time frame 68/121...\n",
        "Optimization terminated successfully."
       ]
      },
      {
       "output_type": "stream",
       "stream": "stdout",
       "text": [
        "\n",
        "         Current function value: -6.299802\n",
        "         Iterations: 5\n",
        "         Function evaluations: 6\n",
        "         Gradient evaluations: 5\n",
        "         Hessian evaluations: 5\n",
        "translation : [-0.04657759  0.02478056 -0.04679764]\n",
        "rotation    : [-0.00180102  0.00066666  0.00015975]\n",
        "\n",
        "Estimating motion at time frame 69/121...\n",
        "Optimization terminated successfully."
       ]
      },
      {
       "output_type": "stream",
       "stream": "stdout",
       "text": [
        "\n",
        "         Current function value: -6.300037\n",
        "         Iterations: 9\n",
        "         Function evaluations: 10\n",
        "         Gradient evaluations: 9\n",
        "         Hessian evaluations: 9\n",
        "translation : [-0.02436599  0.03645232 -0.0064899 ]\n",
        "rotation    : [-0.0010835  -0.0021592   0.00084259]\n",
        "\n",
        "Estimating motion at time frame 70/121...\n",
        "Optimization terminated successfully."
       ]
      },
      {
       "output_type": "stream",
       "stream": "stdout",
       "text": [
        "\n",
        "         Current function value: -6.300088\n",
        "         Iterations: 5\n",
        "         Function evaluations: 6\n",
        "         Gradient evaluations: 5\n",
        "         Hessian evaluations: 5\n",
        "translation : [-0.01444482  0.04903841 -0.00699344]\n",
        "rotation    : [-0.00056769  0.00031684 -0.00018158]\n",
        "\n",
        "Estimating motion at time frame 71/121...\n",
        "Optimization terminated successfully."
       ]
      },
      {
       "output_type": "stream",
       "stream": "stdout",
       "text": [
        "\n",
        "         Current function value: -6.300236\n",
        "         Iterations: 10\n",
        "         Function evaluations: 11\n",
        "         Gradient evaluations: 10\n",
        "         Hessian evaluations: 10\n",
        "translation : [ 0.00031585  0.03106264 -0.01917489]\n",
        "rotation    : [-0.00133743 -0.00065752 -0.00141821]\n",
        "\n",
        "Estimating motion at time frame 72/121...\n",
        "Optimization terminated successfully."
       ]
      },
      {
       "output_type": "stream",
       "stream": "stdout",
       "text": [
        "\n",
        "         Current function value: -6.300388\n",
        "         Iterations: 5\n",
        "         Function evaluations: 6\n",
        "         Gradient evaluations: 5\n",
        "         Hessian evaluations: 5\n",
        "translation : [-0.03909644  0.03788757 -0.01124624]\n",
        "rotation    : [-0.00095998 -0.00122525  0.00093481]\n",
        "\n",
        "Estimating motion at time frame 73/121...\n",
        "Optimization terminated successfully."
       ]
      },
      {
       "output_type": "stream",
       "stream": "stdout",
       "text": [
        "\n",
        "         Current function value: -6.300642\n",
        "         Iterations: 8\n",
        "         Function evaluations: 9\n",
        "         Gradient evaluations: 8\n",
        "         Hessian evaluations: 8\n",
        "translation : [-0.03157508 -0.00646654 -0.03960695]\n",
        "rotation    : [-0.00179181  0.00046607  0.00059409]\n",
        "\n",
        "Estimating motion at time frame 74/121...\n",
        "Optimization terminated successfully."
       ]
      },
      {
       "output_type": "stream",
       "stream": "stdout",
       "text": [
        "\n",
        "         Current function value: -6.303529\n",
        "         Iterations: 23\n",
        "         Function evaluations: 24\n",
        "         Gradient evaluations: 23\n",
        "         Hessian evaluations: 23\n",
        "translation : [ 0.04201403 -0.04502491 -0.02591119]\n",
        "rotation    : [ 0.00752494 -0.00557421 -0.00208563]\n",
        "\n",
        "Estimating motion at time frame 75/121...\n",
        "Optimization terminated successfully."
       ]
      },
      {
       "output_type": "stream",
       "stream": "stdout",
       "text": [
        "\n",
        "         Current function value: -6.303548\n",
        "         Iterations: 11\n",
        "         Function evaluations: 12\n",
        "         Gradient evaluations: 11\n",
        "         Hessian evaluations: 11\n",
        "translation : [-0.00463044  0.01837189 -0.01110059]\n",
        "rotation    : [-0.00022366 -0.00020082 -0.0007858 ]\n",
        "\n",
        "Estimating motion at time frame 76/121...\n",
        "Optimization terminated successfully."
       ]
      },
      {
       "output_type": "stream",
       "stream": "stdout",
       "text": [
        "\n",
        "         Current function value: -6.303668\n",
        "         Iterations: 7\n",
        "         Function evaluations: 8\n",
        "         Gradient evaluations: 7\n",
        "         Hessian evaluations: 7\n",
        "translation : [ 0.02645101 -0.01335461 -0.01484078]\n",
        "rotation    : [-0.00074375 -0.00076143 -0.00094939]\n",
        "\n",
        "Estimating motion at time frame 77/121...\n",
        "Optimization terminated successfully."
       ]
      },
      {
       "output_type": "stream",
       "stream": "stdout",
       "text": [
        "\n",
        "         Current function value: -6.303820\n",
        "         Iterations: 9\n",
        "         Function evaluations: 10\n",
        "         Gradient evaluations: 9\n",
        "         Hessian evaluations: 9\n",
        "translation : [ 0.01467374 -0.03299766 -0.03084677]\n",
        "rotation    : [-0.00082555 -0.00103213 -0.00014672]\n",
        "\n",
        "Estimating motion at time frame 78/121...\n",
        "Optimization terminated successfully."
       ]
      },
      {
       "output_type": "stream",
       "stream": "stdout",
       "text": [
        "\n",
        "         Current function value: -6.303875\n",
        "         Iterations: 7\n",
        "         Function evaluations: 8\n",
        "         Gradient evaluations: 7\n",
        "         Hessian evaluations: 7\n",
        "translation : [ 0.01521229 -0.05144769 -0.00146253]\n",
        "rotation    : [ 0.00033083 -0.00023945 -0.00073768]\n",
        "\n",
        "Estimating motion at time frame 79/121...\n",
        "Optimization terminated successfully."
       ]
      },
      {
       "output_type": "stream",
       "stream": "stdout",
       "text": [
        "\n",
        "         Current function value: -6.303978\n",
        "         Iterations: 12\n",
        "         Function evaluations: 13\n",
        "         Gradient evaluations: 12\n",
        "         Hessian evaluations: 12\n",
        "translation : [ 0.02989974 -0.01165827 -0.0057624 ]\n",
        "rotation    : [ 0.0009458  -0.00011565 -0.0014372 ]\n",
        "\n",
        "Estimating motion at time frame 80/121...\n",
        "Optimization terminated successfully."
       ]
      },
      {
       "output_type": "stream",
       "stream": "stdout",
       "text": [
        "\n",
        "         Current function value: -6.304015\n",
        "         Iterations: 8\n",
        "         Function evaluations: 9\n",
        "         Gradient evaluations: 8\n",
        "         Hessian evaluations: 8\n",
        "translation : [-0.01937559 -0.03759369  0.00136109]\n",
        "rotation    : [ 0.00020441 -0.00067382  0.00033452]\n",
        "\n",
        "Estimating motion at time frame 81/121...\n",
        "Optimization terminated successfully."
       ]
      },
      {
       "output_type": "stream",
       "stream": "stdout",
       "text": [
        "\n",
        "         Current function value: -6.304220\n",
        "         Iterations: 12\n",
        "         Function evaluations: 13\n",
        "         Gradient evaluations: 12\n",
        "         Hessian evaluations: 12\n",
        "translation : [ 0.04224919 -0.00840576  0.00776131]\n",
        "rotation    : [  3.61858842e-04   6.87205711e-05  -2.77168352e-03]\n",
        "\n",
        "Estimating motion at time frame 82/121...\n",
        "Optimization terminated successfully."
       ]
      },
      {
       "output_type": "stream",
       "stream": "stdout",
       "text": [
        "\n",
        "         Current function value: -6.304673\n",
        "         Iterations: 11\n",
        "         Function evaluations: 12\n",
        "         Gradient evaluations: 11\n",
        "         Hessian evaluations: 11\n",
        "translation : [ 0.05286012  0.00850878  0.00852131]\n",
        "rotation    : [-0.00051827  0.00019166 -0.00414779]\n",
        "\n",
        "Estimating motion at time frame 83/121...\n",
        "Optimization terminated successfully."
       ]
      },
      {
       "output_type": "stream",
       "stream": "stdout",
       "text": [
        "\n",
        "         Current function value: -6.304804\n",
        "         Iterations: 7\n",
        "         Function evaluations: 8\n",
        "         Gradient evaluations: 7\n",
        "         Hessian evaluations: 7\n",
        "translation : [ 0.01357539 -0.00087423 -0.00134614]\n",
        "rotation    : [-0.00112758  0.00087512 -0.00133481]\n",
        "\n",
        "Estimating motion at time frame 84/121...\n",
        "Optimization terminated successfully."
       ]
      },
      {
       "output_type": "stream",
       "stream": "stdout",
       "text": [
        "\n",
        "         Current function value: -6.304853\n",
        "         Iterations: 10\n",
        "         Function evaluations: 11\n",
        "         Gradient evaluations: 10\n",
        "         Hessian evaluations: 10\n",
        "translation : [ 0.0331502   0.00285285  0.00709646]\n",
        "rotation    : [-0.00043183 -0.00039751 -0.00040647]\n",
        "\n",
        "Estimating motion at time frame 85/121...\n",
        "Optimization terminated successfully."
       ]
      },
      {
       "output_type": "stream",
       "stream": "stdout",
       "text": [
        "\n",
        "         Current function value: -6.304903\n",
        "         Iterations: 8\n",
        "         Function evaluations: 9\n",
        "         Gradient evaluations: 8\n",
        "         Hessian evaluations: 8\n",
        "translation : [ 0.01092551  0.00046658  0.01732389]\n",
        "rotation    : [-0.00036401 -0.00079179 -0.00031264]\n",
        "\n",
        "Estimating motion at time frame 86/121...\n",
        "Optimization terminated successfully."
       ]
      },
      {
       "output_type": "stream",
       "stream": "stdout",
       "text": [
        "\n",
        "         Current function value: -6.304961\n",
        "         Iterations: 7\n",
        "         Function evaluations: 8\n",
        "         Gradient evaluations: 7\n",
        "         Hessian evaluations: 7\n",
        "translation : [-0.0230177   0.00730136  0.00562202]\n",
        "rotation    : [ 0.00035087  0.00020345 -0.00089677]\n",
        "\n",
        "Estimating motion at time frame 87/121...\n",
        "Optimization terminated successfully."
       ]
      },
      {
       "output_type": "stream",
       "stream": "stdout",
       "text": [
        "\n",
        "         Current function value: -6.305110\n",
        "         Iterations: 13\n",
        "         Function evaluations: 14\n",
        "         Gradient evaluations: 13\n",
        "         Hessian evaluations: 13\n",
        "translation : [ 0.02011    -0.0334993  -0.00117108]\n",
        "rotation    : [ -8.37903060e-04   2.18543833e-05  -2.14706520e-03]\n",
        "\n",
        "Estimating motion at time frame 88/121...\n",
        "Optimization terminated successfully."
       ]
      },
      {
       "output_type": "stream",
       "stream": "stdout",
       "text": [
        "\n",
        "         Current function value: -6.305361\n",
        "         Iterations: 9\n",
        "         Function evaluations: 10\n",
        "         Gradient evaluations: 9\n",
        "         Hessian evaluations: 9\n",
        "translation : [ 0.04595189 -0.03305625  0.0017466 ]\n",
        "rotation    : [-0.00057815  0.00107428 -0.00262892]\n",
        "\n",
        "Estimating motion at time frame 89/121...\n",
        "Optimization terminated successfully."
       ]
      },
      {
       "output_type": "stream",
       "stream": "stdout",
       "text": [
        "\n",
        "         Current function value: -6.305440\n",
        "         Iterations: 8\n",
        "         Function evaluations: 9\n",
        "         Gradient evaluations: 8\n",
        "         Hessian evaluations: 8\n",
        "translation : [ 0.02894859 -0.05132996  0.0110935 ]\n",
        "rotation    : [-0.00022818 -0.00017819 -0.00055284]\n",
        "\n",
        "Estimating motion at time frame 90/121...\n",
        "Optimization terminated successfully."
       ]
      },
      {
       "output_type": "stream",
       "stream": "stdout",
       "text": [
        "\n",
        "         Current function value: -6.305748\n",
        "         Iterations: 11\n",
        "         Function evaluations: 12\n",
        "         Gradient evaluations: 11\n",
        "         Hessian evaluations: 11\n",
        "translation : [ 0.00982513 -0.05386544 -0.00883536]\n",
        "rotation    : [-0.00095607  0.00173055 -0.00258631]\n",
        "\n",
        "Estimating motion at time frame 91/121...\n",
        "Optimization terminated successfully."
       ]
      },
      {
       "output_type": "stream",
       "stream": "stdout",
       "text": [
        "\n",
        "         Current function value: -6.305828\n",
        "         Iterations: 8\n",
        "         Function evaluations: 9\n",
        "         Gradient evaluations: 8\n",
        "         Hessian evaluations: 8\n",
        "translation : [ 0.03743599 -0.02511151  0.01269316]\n",
        "rotation    : [-0.0007455   0.00034374 -0.00036252]\n",
        "\n",
        "Estimating motion at time frame 92/121...\n",
        "Optimization terminated successfully."
       ]
      },
      {
       "output_type": "stream",
       "stream": "stdout",
       "text": [
        "\n",
        "         Current function value: -6.305946\n",
        "         Iterations: 8\n",
        "         Function evaluations: 9\n",
        "         Gradient evaluations: 8\n",
        "         Hessian evaluations: 8\n",
        "translation : [ 0.01055495 -0.00194164 -0.00824717]\n",
        "rotation    : [-0.00079005 -0.00019595  0.00159634]\n",
        "\n",
        "Estimating motion at time frame 93/121...\n",
        "Optimization terminated successfully."
       ]
      },
      {
       "output_type": "stream",
       "stream": "stdout",
       "text": [
        "\n",
        "         Current function value: -6.306113\n",
        "         Iterations: 8\n",
        "         Function evaluations: 9\n",
        "         Gradient evaluations: 8\n",
        "         Hessian evaluations: 8\n",
        "translation : [ 0.00608779 -0.01422163 -0.02277645]\n",
        "rotation    : [-0.00039834  0.00118619 -0.00202148]\n",
        "\n",
        "Estimating motion at time frame 94/121...\n",
        "Optimization terminated successfully."
       ]
      },
      {
       "output_type": "stream",
       "stream": "stdout",
       "text": [
        "\n",
        "         Current function value: -6.306273\n",
        "         Iterations: 9\n",
        "         Function evaluations: 10\n",
        "         Gradient evaluations: 9\n",
        "         Hessian evaluations: 9\n",
        "translation : [ 0.02157977  0.00534908 -0.02205037]\n",
        "rotation    : [-0.00079224 -0.00105546  0.00115053]\n",
        "\n",
        "Estimating motion at time frame 95/121...\n",
        "Optimization terminated successfully."
       ]
      },
      {
       "output_type": "stream",
       "stream": "stdout",
       "text": [
        "\n",
        "         Current function value: -6.306343\n",
        "         Iterations: 9\n",
        "         Function evaluations: 10\n",
        "         Gradient evaluations: 9\n",
        "         Hessian evaluations: 9\n",
        "translation : [ 0.00824704  0.01164239 -0.00100265]\n",
        "rotation    : [-0.00060129 -0.00047409 -0.00118261]\n",
        "\n",
        "Estimating motion at time frame 96/121...\n",
        "Optimization terminated successfully."
       ]
      },
      {
       "output_type": "stream",
       "stream": "stdout",
       "text": [
        "\n",
        "         Current function value: -6.306573\n",
        "         Iterations: 10\n",
        "         Function evaluations: 11\n",
        "         Gradient evaluations: 10\n",
        "         Hessian evaluations: 10\n",
        "translation : [ 0.08087636  0.01465976 -0.00432711]\n",
        "rotation    : [-0.00020054 -0.00096366  0.00062855]\n",
        "\n",
        "Estimating motion at time frame 97/121...\n",
        "Optimization terminated successfully."
       ]
      },
      {
       "output_type": "stream",
       "stream": "stdout",
       "text": [
        "\n",
        "         Current function value: -6.306893\n",
        "         Iterations: 14\n",
        "         Function evaluations: 15\n",
        "         Gradient evaluations: 14\n",
        "         Hessian evaluations: 14\n",
        "translation : [ 0.06765588 -0.03093802 -0.00242132]\n",
        "rotation    : [-0.00056793  0.00058177 -0.00354924]\n",
        "\n",
        "Estimating motion at time frame 98/121...\n",
        "Optimization terminated successfully."
       ]
      },
      {
       "output_type": "stream",
       "stream": "stdout",
       "text": [
        "\n",
        "         Current function value: -6.306902\n",
        "         Iterations: 9\n",
        "         Function evaluations: 10\n",
        "         Gradient evaluations: 9\n",
        "         Hessian evaluations: 9\n",
        "translation : [-0.01530448 -0.00559365  0.00480654]\n",
        "rotation    : [  2.81965903e-04  -3.56058558e-04  -2.60593807e-05]\n",
        "\n",
        "Estimating motion at time frame 99/121...\n",
        "Optimization terminated successfully."
       ]
      },
      {
       "output_type": "stream",
       "stream": "stdout",
       "text": [
        "\n",
        "         Current function value: -6.307140\n",
        "         Iterations: 22\n",
        "         Function evaluations: 23\n",
        "         Gradient evaluations: 22\n",
        "         Hessian evaluations: 22\n",
        "translation : [ 0.1015808   0.0213418   0.00637618]\n",
        "rotation    : [  1.91926214e-06   6.17118083e-04  -1.86971258e-03]\n",
        "\n",
        "Estimating motion at time frame 100/121...\n",
        "Optimization terminated successfully."
       ]
      },
      {
       "output_type": "stream",
       "stream": "stdout",
       "text": [
        "\n",
        "         Current function value: -6.307263\n",
        "         Iterations: 15\n",
        "         Function evaluations: 16\n",
        "         Gradient evaluations: 15\n",
        "         Hessian evaluations: 15\n",
        "translation : [ 0.04259959  0.0213688  -0.00696306]\n",
        "rotation    : [ 0.00038091 -0.00069243 -0.00166989]\n",
        "\n",
        "Estimating motion at time frame 101/121...\n",
        "Optimization terminated successfully."
       ]
      },
      {
       "output_type": "stream",
       "stream": "stdout",
       "text": [
        "\n",
        "         Current function value: -6.307601\n",
        "         Iterations: 17\n",
        "         Function evaluations: 18\n",
        "         Gradient evaluations: 17\n",
        "         Hessian evaluations: 17\n",
        "translation : [ 0.09412379 -0.03129162 -0.00863879]\n",
        "rotation    : [-0.00069145  0.0003644  -0.00299827]\n",
        "\n",
        "Estimating motion at time frame 102/121...\n",
        "Optimization terminated successfully."
       ]
      },
      {
       "output_type": "stream",
       "stream": "stdout",
       "text": [
        "\n",
        "         Current function value: -6.307714\n",
        "         Iterations: 14\n",
        "         Function evaluations: 15\n",
        "         Gradient evaluations: 14\n",
        "         Hessian evaluations: 14\n",
        "translation : [ 0.05583629 -0.01524001 -0.00987636]\n",
        "rotation    : [ 0.00045074 -0.00028563 -0.00122602]\n",
        "\n",
        "Estimating motion at time frame 103/121...\n",
        "Optimization terminated successfully."
       ]
      },
      {
       "output_type": "stream",
       "stream": "stdout",
       "text": [
        "\n",
        "         Current function value: -6.307792\n",
        "         Iterations: 6\n",
        "         Function evaluations: 7\n",
        "         Gradient evaluations: 6\n",
        "         Hessian evaluations: 6\n",
        "translation : [-0.01574181 -0.04474354  0.00426171]\n",
        "rotation    : [ 0.00058853 -0.00072339  0.00091868]\n",
        "\n",
        "Estimating motion at time frame 104/121...\n",
        "Optimization terminated successfully."
       ]
      },
      {
       "output_type": "stream",
       "stream": "stdout",
       "text": [
        "\n",
        "         Current function value: -6.307952\n",
        "         Iterations: 9\n",
        "         Function evaluations: 10\n",
        "         Gradient evaluations: 9\n",
        "         Hessian evaluations: 9\n",
        "translation : [ 0.03265335 -0.04586487  0.00181083]\n",
        "rotation    : [ 0.0004074   0.00119868 -0.00194387]\n",
        "\n",
        "Estimating motion at time frame 105/121...\n",
        "Optimization terminated successfully."
       ]
      },
      {
       "output_type": "stream",
       "stream": "stdout",
       "text": [
        "\n",
        "         Current function value: -6.308457\n",
        "         Iterations: 13\n",
        "         Function evaluations: 14\n",
        "         Gradient evaluations: 13\n",
        "         Hessian evaluations: 13\n",
        "translation : [ 0.07161486 -0.00261309 -0.04314136]\n",
        "rotation    : [ 0.00057932  0.00204918 -0.00388933]\n",
        "\n",
        "Estimating motion at time frame 106/121...\n",
        "Optimization terminated successfully."
       ]
      },
      {
       "output_type": "stream",
       "stream": "stdout",
       "text": [
        "\n",
        "         Current function value: -6.308702\n",
        "         Iterations: 13\n",
        "         Function evaluations: 14\n",
        "         Gradient evaluations: 13\n",
        "         Hessian evaluations: 13\n",
        "translation : [ 0.06771259 -0.00354831 -0.04394136]\n",
        "rotation    : [ 0.0009892  -0.00028705 -0.00181842]\n",
        "\n",
        "Estimating motion at time frame 107/121...\n",
        "Optimization terminated successfully."
       ]
      },
      {
       "output_type": "stream",
       "stream": "stdout",
       "text": [
        "\n",
        "         Current function value: -6.309219\n",
        "         Iterations: 12\n",
        "         Function evaluations: 13\n",
        "         Gradient evaluations: 12\n",
        "         Hessian evaluations: 12\n",
        "translation : [ 0.06883532  0.04142299 -0.05177649]\n",
        "rotation    : [ 0.00105359  0.00162614 -0.00326273]\n",
        "\n",
        "Estimating motion at time frame 108/121...\n",
        "Optimization terminated successfully."
       ]
      },
      {
       "output_type": "stream",
       "stream": "stdout",
       "text": [
        "\n",
        "         Current function value: -6.309824\n",
        "         Iterations: 14\n",
        "         Function evaluations: 15\n",
        "         Gradient evaluations: 14\n",
        "         Hessian evaluations: 14\n",
        "translation : [ 0.07485873  0.03304288 -0.04858604]\n",
        "rotation    : [ 0.00013895  0.00124137 -0.00487612]\n",
        "\n",
        "Estimating motion at time frame 109/121...\n",
        "Optimization terminated successfully."
       ]
      },
      {
       "output_type": "stream",
       "stream": "stdout",
       "text": [
        "\n",
        "         Current function value: -6.310153\n",
        "         Iterations: 12\n",
        "         Function evaluations: 13\n",
        "         Gradient evaluations: 12\n",
        "         Hessian evaluations: 12\n",
        "translation : [ 0.05752829  0.02753461 -0.02106473]\n",
        "rotation    : [-0.00030925  0.00112783 -0.00341868]\n",
        "\n",
        "Estimating motion at time frame 110/121...\n",
        "Optimization terminated successfully."
       ]
      },
      {
       "output_type": "stream",
       "stream": "stdout",
       "text": [
        "\n",
        "         Current function value: -6.310831\n",
        "         Iterations: 13\n",
        "         Function evaluations: 14\n",
        "         Gradient evaluations: 13\n",
        "         Hessian evaluations: 13\n",
        "translation : [ 0.10273035  0.02919817 -0.05840049]\n",
        "rotation    : [ 0.0008484   0.00030943 -0.00423379]\n",
        "\n",
        "Estimating motion at time frame 111/121...\n",
        "Optimization terminated successfully."
       ]
      },
      {
       "output_type": "stream",
       "stream": "stdout",
       "text": [
        "\n",
        "         Current function value: -6.311127\n",
        "         Iterations: 11\n",
        "         Function evaluations: 12\n",
        "         Gradient evaluations: 11\n",
        "         Hessian evaluations: 11\n",
        "translation : [ 0.0415326   0.01466801 -0.06340906]\n",
        "rotation    : [-0.00116532  0.00042625 -0.00263023]\n",
        "\n",
        "Estimating motion at time frame 112/121...\n",
        "Optimization terminated successfully."
       ]
      },
      {
       "output_type": "stream",
       "stream": "stdout",
       "text": [
        "\n",
        "         Current function value: -6.311309\n",
        "         Iterations: 9\n",
        "         Function evaluations: 10\n",
        "         Gradient evaluations: 9\n",
        "         Hessian evaluations: 9\n",
        "translation : [ 0.04205394  0.00573775 -0.0269982 ]\n",
        "rotation    : [ 0.00036251  0.00134815 -0.00196835]\n",
        "\n",
        "Estimating motion at time frame 113/121...\n",
        "Optimization terminated successfully."
       ]
      },
      {
       "output_type": "stream",
       "stream": "stdout",
       "text": [
        "\n",
        "         Current function value: -6.311765\n",
        "         Iterations: 12\n",
        "         Function evaluations: 13\n",
        "         Gradient evaluations: 12\n",
        "         Hessian evaluations: 12\n",
        "translation : [ 0.09251903 -0.00479743 -0.02662611]\n",
        "rotation    : [-0.00050198  0.00040503 -0.00377723]\n",
        "\n",
        "Estimating motion at time frame 114/121...\n",
        "Optimization terminated successfully."
       ]
      },
      {
       "output_type": "stream",
       "stream": "stdout",
       "text": [
        "\n",
        "         Current function value: -6.312838\n",
        "         Iterations: 11\n",
        "         Function evaluations: 12\n",
        "         Gradient evaluations: 11\n",
        "         Hessian evaluations: 11\n",
        "translation : [ 0.0728927  -0.01147959 -0.04852826]\n",
        "rotation    : [ -6.07242242e-06   1.52134624e-03  -6.39884166e-03]\n",
        "\n",
        "Estimating motion at time frame 115/121...\n",
        "Optimization terminated successfully."
       ]
      },
      {
       "output_type": "stream",
       "stream": "stdout",
       "text": [
        "\n",
        "         Current function value: -6.313418\n",
        "         Iterations: 13\n",
        "         Function evaluations: 14\n",
        "         Gradient evaluations: 13\n",
        "         Hessian evaluations: 13\n",
        "translation : [ 0.0810559   0.00277964 -0.03643336]\n",
        "rotation    : [-0.00041979  0.00136817 -0.0047677 ]\n",
        "\n",
        "Estimating motion at time frame 116/121...\n",
        "Optimization terminated successfully."
       ]
      },
      {
       "output_type": "stream",
       "stream": "stdout",
       "text": [
        "\n",
        "         Current function value: -6.313898\n",
        "         Iterations: 12\n",
        "         Function evaluations: 13\n",
        "         Gradient evaluations: 12\n",
        "         Hessian evaluations: 12\n",
        "translation : [ 0.0708038  -0.03235238 -0.03593249]\n",
        "rotation    : [ 0.00040225  0.00175019 -0.00388632]\n",
        "\n",
        "Estimating motion at time frame 117/121...\n",
        "Optimization terminated successfully."
       ]
      },
      {
       "output_type": "stream",
       "stream": "stdout",
       "text": [
        "\n",
        "         Current function value: -6.314453\n",
        "         Iterations: 10\n",
        "         Function evaluations: 11\n",
        "         Gradient evaluations: 10\n",
        "         Hessian evaluations: 10\n",
        "translation : [ 0.05905162 -0.04044501 -0.03021669]\n",
        "rotation    : [ 0.00026731  0.00125623 -0.00436839]\n",
        "\n",
        "Estimating motion at time frame 118/121...\n",
        "Optimization terminated successfully."
       ]
      },
      {
       "output_type": "stream",
       "stream": "stdout",
       "text": [
        "\n",
        "         Current function value: -6.314801\n",
        "         Iterations: 11\n",
        "         Function evaluations: 12\n",
        "         Gradient evaluations: 11\n",
        "         Hessian evaluations: 11\n",
        "translation : [ 0.08653942 -0.05574658 -0.01797742]\n",
        "rotation    : [ 0.00027464  0.0016096  -0.0027212 ]\n",
        "\n",
        "Estimating motion at time frame 119/121...\n",
        "Optimization terminated successfully."
       ]
      },
      {
       "output_type": "stream",
       "stream": "stdout",
       "text": [
        "\n",
        "         Current function value: -6.315020\n",
        "         Iterations: 8\n",
        "         Function evaluations: 9\n",
        "         Gradient evaluations: 8\n",
        "         Hessian evaluations: 8\n",
        "translation : [ 0.03681522 -0.06361219 -0.02278194]\n",
        "rotation    : [ -6.18017103e-06   1.01185002e-03  -2.18177043e-03]\n",
        "\n",
        "Estimating motion at time frame 120/121...\n",
        "Optimization terminated successfully."
       ]
      },
      {
       "output_type": "stream",
       "stream": "stdout",
       "text": [
        "\n",
        "         Current function value: -6.315389\n",
        "         Iterations: 8\n",
        "         Function evaluations: 9\n",
        "         Gradient evaluations: 8\n",
        "         Hessian evaluations: 8\n",
        "translation : [ 0.0340968  -0.04910428 -0.00671052]\n",
        "rotation    : [-0.00018576  0.00137385 -0.00313691]\n",
        "\n",
        "Estimating motion at time frame 121/121...\n",
        "Optimization terminated successfully."
       ]
      },
      {
       "output_type": "stream",
       "stream": "stdout",
       "text": [
        "\n",
        "         Current function value: -6.315481\n",
        "         Iterations: 7\n",
        "         Function evaluations: 8\n",
        "         Gradient evaluations: 7\n",
        "         Hessian evaluations: 7\n",
        "translation : [ 0.05332542 -0.01802723 -0.00771081]\n",
        "rotation    : [-0.00048429  0.00102175 -0.00055233]\n",
        "\n",
        "Resampling scan 1/121"
       ]
      },
      {
       "output_type": "stream",
       "stream": "stdout",
       "text": [
        "\n",
        "Resampling scan 2/121\n",
        "Resampling scan 3/121\n",
        "Resampling scan 4/121\n",
        "Resampling scan 5/121\n",
        "Resampling scan 6/121\n",
        "Resampling scan 7/121\n",
        "Resampling scan 8/121\n",
        "Resampling scan 9/121"
       ]
      },
      {
       "output_type": "stream",
       "stream": "stdout",
       "text": [
        "\n",
        "Resampling scan 10/121\n",
        "Resampling scan 11/121\n",
        "Resampling scan 12/121\n",
        "Resampling scan 13/121\n",
        "Resampling scan 14/121\n",
        "Resampling scan 15/121\n",
        "Resampling scan 16/121\n",
        "Resampling scan 17/121"
       ]
      },
      {
       "output_type": "stream",
       "stream": "stdout",
       "text": [
        "\n",
        "Resampling scan 18/121\n",
        "Resampling scan 19/121\n",
        "Resampling scan 20/121\n",
        "Resampling scan 21/121\n",
        "Resampling scan 22/121\n",
        "Resampling scan 23/121\n",
        "Resampling scan 24/121\n",
        "Resampling scan 25/121\n",
        "Resampling scan 26/121"
       ]
      },
      {
       "output_type": "stream",
       "stream": "stdout",
       "text": [
        "\n",
        "Resampling scan 27/121\n",
        "Resampling scan 28/121\n",
        "Resampling scan 29/121\n",
        "Resampling scan 30/121\n",
        "Resampling scan 31/121\n",
        "Resampling scan 32/121\n",
        "Resampling scan 33/121\n",
        "Resampling scan 34/121\n",
        "Resampling scan 35/121"
       ]
      },
      {
       "output_type": "stream",
       "stream": "stdout",
       "text": [
        "\n",
        "Resampling scan 36/121\n",
        "Resampling scan 37/121\n",
        "Resampling scan 38/121\n",
        "Resampling scan 39/121\n",
        "Resampling scan 40/121\n",
        "Resampling scan 41/121\n",
        "Resampling scan 42/121\n",
        "Resampling scan 43/121"
       ]
      },
      {
       "output_type": "stream",
       "stream": "stdout",
       "text": [
        "\n",
        "Resampling scan 44/121\n",
        "Resampling scan 45/121\n",
        "Resampling scan 46/121\n",
        "Resampling scan 47/121\n",
        "Resampling scan 48/121\n",
        "Resampling scan 49/121\n",
        "Resampling scan 50/121\n",
        "Resampling scan 51/121\n",
        "Resampling scan 52/121"
       ]
      },
      {
       "output_type": "stream",
       "stream": "stdout",
       "text": [
        "\n",
        "Resampling scan 53/121\n",
        "Resampling scan 54/121\n",
        "Resampling scan 55/121\n",
        "Resampling scan 56/121\n",
        "Resampling scan 57/121\n",
        "Resampling scan 58/121\n",
        "Resampling scan 59/121\n",
        "Resampling scan 60/121"
       ]
      },
      {
       "output_type": "stream",
       "stream": "stdout",
       "text": [
        "\n",
        "Resampling scan 61/121\n",
        "Resampling scan 62/121\n",
        "Resampling scan 63/121\n",
        "Resampling scan 64/121\n",
        "Resampling scan 65/121\n",
        "Resampling scan 66/121\n",
        "Resampling scan 67/121"
       ]
      },
      {
       "output_type": "stream",
       "stream": "stdout",
       "text": [
        "\n",
        "Resampling scan 68/121\n",
        "Resampling scan 69/121\n",
        "Resampling scan 70/121\n",
        "Resampling scan 71/121\n",
        "Resampling scan 72/121\n",
        "Resampling scan 73/121\n",
        "Resampling scan 74/121\n",
        "Resampling scan 75/121\n",
        "Resampling scan 76/121"
       ]
      },
      {
       "output_type": "stream",
       "stream": "stdout",
       "text": [
        "\n",
        "Resampling scan 77/121\n",
        "Resampling scan 78/121\n",
        "Resampling scan 79/121\n",
        "Resampling scan 80/121\n",
        "Resampling scan 81/121\n",
        "Resampling scan 82/121\n",
        "Resampling scan 83/121\n",
        "Resampling scan 84/121\n",
        "Resampling scan 85/121"
       ]
      },
      {
       "output_type": "stream",
       "stream": "stdout",
       "text": [
        "\n",
        "Resampling scan 86/121\n",
        "Resampling scan 87/121\n",
        "Resampling scan 88/121"
       ]
      },
      {
       "output_type": "stream",
       "stream": "stdout",
       "text": [
        "\n",
        "Resampling scan 89/121\n",
        "Resampling scan 90/121\n",
        "Resampling scan 91/121\n",
        "Resampling scan 92/121"
       ]
      },
      {
       "output_type": "stream",
       "stream": "stdout",
       "text": [
        "\n",
        "Resampling scan 93/121\n",
        "Resampling scan 94/121\n",
        "Resampling scan 95/121\n",
        "Resampling scan 96/121\n",
        "Resampling scan 97/121"
       ]
      },
      {
       "output_type": "stream",
       "stream": "stdout",
       "text": [
        "\n",
        "Resampling scan 98/121\n",
        "Resampling scan 99/121\n",
        "Resampling scan 100/121"
       ]
      },
      {
       "output_type": "stream",
       "stream": "stdout",
       "text": [
        "\n",
        "Resampling scan 101/121\n",
        "Resampling scan 102/121\n",
        "Resampling scan 103/121\n",
        "Resampling scan 104/121"
       ]
      },
      {
       "output_type": "stream",
       "stream": "stdout",
       "text": [
        "\n",
        "Resampling scan 105/121\n",
        "Resampling scan 106/121\n",
        "Resampling scan 107/121\n",
        "Resampling scan 108/121"
       ]
      },
      {
       "output_type": "stream",
       "stream": "stdout",
       "text": [
        "\n",
        "Resampling scan 109/121\n",
        "Resampling scan 110/121\n",
        "Resampling scan 111/121\n",
        "Resampling scan 112/121\n",
        "Resampling scan 113/121"
       ]
      },
      {
       "output_type": "stream",
       "stream": "stdout",
       "text": [
        "\n",
        "Resampling scan 114/121\n",
        "Resampling scan 115/121\n",
        "Resampling scan 116/121\n",
        "Resampling scan 117/121\n",
        "Resampling scan 118/121"
       ]
      },
      {
       "output_type": "stream",
       "stream": "stdout",
       "text": [
        "\n",
        "Resampling scan 119/121\n",
        "Resampling scan 120/121\n",
        "Resampling scan 121/121\n",
        "Estimating motion at time frame 1/121...\n",
        "Optimization terminated successfully."
       ]
      },
      {
       "output_type": "stream",
       "stream": "stdout",
       "text": [
        "\n",
        "         Current function value: -6.195786\n",
        "         Iterations: 19\n",
        "         Function evaluations: 20\n",
        "         Gradient evaluations: 19\n",
        "         Hessian evaluations: 19\n",
        "translation : [ 0.08519418  0.06862365 -0.02726257]\n",
        "rotation    : [-0.0031681   0.00292978 -0.00557915]\n",
        "\n",
        "Estimating motion at time frame 2/121...\n",
        "Optimization terminated successfully."
       ]
      },
      {
       "output_type": "stream",
       "stream": "stdout",
       "text": [
        "\n",
        "         Current function value: -6.197795\n",
        "         Iterations: 14\n",
        "         Function evaluations: 15\n",
        "         Gradient evaluations: 14\n",
        "         Hessian evaluations: 14\n",
        "translation : [ 0.10475448  0.0753663  -0.07209949]\n",
        "rotation    : [-0.00312779  0.00391729 -0.00745142]\n",
        "\n",
        "Estimating motion at time frame 3/121...\n",
        "Optimization terminated successfully."
       ]
      },
      {
       "output_type": "stream",
       "stream": "stdout",
       "text": [
        "\n",
        "         Current function value: -6.198508\n",
        "         Iterations: 11\n",
        "         Function evaluations: 12\n",
        "         Gradient evaluations: 11\n",
        "         Hessian evaluations: 11\n",
        "translation : [ 0.04172127  0.09901145  0.0287576 ]\n",
        "rotation    : [-0.00297695  0.0021727  -0.00211465]\n",
        "\n",
        "Estimating motion at time frame 4/121...\n",
        "Optimization terminated successfully."
       ]
      },
      {
       "output_type": "stream",
       "stream": "stdout",
       "text": [
        "\n",
        "         Current function value: -6.200526\n",
        "         Iterations: 19\n",
        "         Function evaluations: 20\n",
        "         Gradient evaluations: 19\n",
        "         Hessian evaluations: 19\n",
        "translation : [ 0.1834804   0.04808085 -0.05385647]\n",
        "rotation    : [-0.00364056 -0.00219036 -0.00649441]\n",
        "\n",
        "Estimating motion at time frame 5/121...\n",
        "Optimization terminated successfully."
       ]
      },
      {
       "output_type": "stream",
       "stream": "stdout",
       "text": [
        "\n",
        "         Current function value: -6.202763\n",
        "         Iterations: 17\n",
        "         Function evaluations: 18\n",
        "         Gradient evaluations: 17\n",
        "         Hessian evaluations: 17\n",
        "translation : [ 0.14250185  0.07520138 -0.04008296]\n",
        "rotation    : [-0.00494915  0.00386508 -0.00663834]\n",
        "\n",
        "Estimating motion at time frame 6/121...\n",
        "Optimization terminated successfully."
       ]
      },
      {
       "output_type": "stream",
       "stream": "stdout",
       "text": [
        "\n",
        "         Current function value: -6.203077\n",
        "         Iterations: 9\n",
        "         Function evaluations: 10\n",
        "         Gradient evaluations: 9\n",
        "         Hessian evaluations: 9\n",
        "translation : [ 0.04587976  0.04031248  0.03786167]\n",
        "rotation    : [-0.00163369  0.00138752 -0.00177395]\n",
        "\n",
        "Estimating motion at time frame 7/121...\n",
        "Optimization terminated successfully."
       ]
      },
      {
       "output_type": "stream",
       "stream": "stdout",
       "text": [
        "\n",
        "         Current function value: -6.203236\n",
        "         Iterations: 8\n",
        "         Function evaluations: 9\n",
        "         Gradient evaluations: 8\n",
        "         Hessian evaluations: 8\n",
        "translation : [ 0.03600606  0.07111667  0.02226501]\n",
        "rotation    : [-0.00098786 -0.00053801 -0.00095835]\n",
        "\n",
        "Estimating motion at time frame 8/121...\n",
        "Optimization terminated successfully."
       ]
      },
      {
       "output_type": "stream",
       "stream": "stdout",
       "text": [
        "\n",
        "         Current function value: -6.203785\n",
        "         Iterations: 9\n",
        "         Function evaluations: 10\n",
        "         Gradient evaluations: 9\n",
        "         Hessian evaluations: 9\n",
        "translation : [ 0.04702509  0.05566689  0.00542825]\n",
        "rotation    : [-0.00170349  0.00193154 -0.00311905]\n",
        "\n",
        "Estimating motion at time frame 9/121...\n",
        "Optimization terminated successfully."
       ]
      },
      {
       "output_type": "stream",
       "stream": "stdout",
       "text": [
        "\n",
        "         Current function value: -6.204314\n",
        "         Iterations: 9\n",
        "         Function evaluations: 10\n",
        "         Gradient evaluations: 9\n",
        "         Hessian evaluations: 9\n",
        "translation : [ 0.04812645  0.08574849  0.02472041]\n",
        "rotation    : [-0.00191755  0.00192565 -0.00246277]\n",
        "\n",
        "Estimating motion at time frame 10/121...\n",
        "Optimization terminated successfully."
       ]
      },
      {
       "output_type": "stream",
       "stream": "stdout",
       "text": [
        "\n",
        "         Current function value: -6.205216\n",
        "         Iterations: 7\n",
        "         Function evaluations: 8\n",
        "         Gradient evaluations: 7\n",
        "         Hessian evaluations: 7\n",
        "translation : [ 0.05817207  0.08917598  0.00441679]\n",
        "rotation    : [ -1.06639997e-05   2.90824820e-03  -3.62022664e-03]\n",
        "\n",
        "Estimating motion at time frame 11/121...\n",
        "Optimization terminated successfully."
       ]
      },
      {
       "output_type": "stream",
       "stream": "stdout",
       "text": [
        "\n",
        "         Current function value: -6.205808\n",
        "         Iterations: 7\n",
        "         Function evaluations: 8\n",
        "         Gradient evaluations: 7\n",
        "         Hessian evaluations: 7\n",
        "translation : [ 0.0442527   0.07762459  0.03625575]\n",
        "rotation    : [-0.00139589  0.00241864 -0.00225404]\n",
        "\n",
        "Estimating motion at time frame 12/121...\n",
        "Optimization terminated successfully."
       ]
      },
      {
       "output_type": "stream",
       "stream": "stdout",
       "text": [
        "\n",
        "         Current function value: -6.206378\n",
        "         Iterations: 8\n",
        "         Function evaluations: 9\n",
        "         Gradient evaluations: 8\n",
        "         Hessian evaluations: 8\n",
        "translation : [ 0.07036223  0.0588029   0.0254529 ]\n",
        "rotation    : [-0.00133931  0.00230697 -0.00286514]\n",
        "\n",
        "Estimating motion at time frame 13/121...\n",
        "Optimization terminated successfully."
       ]
      },
      {
       "output_type": "stream",
       "stream": "stdout",
       "text": [
        "\n",
        "         Current function value: -6.206788\n",
        "         Iterations: 6\n",
        "         Function evaluations: 7\n",
        "         Gradient evaluations: 6\n",
        "         Hessian evaluations: 6\n",
        "translation : [ 0.05648807  0.01623287  0.05024655]\n",
        "rotation    : [ -3.82208203e-05   1.12566027e-03  -2.82780336e-03]\n",
        "\n",
        "Estimating motion at time frame 14/121...\n",
        "Optimization terminated successfully."
       ]
      },
      {
       "output_type": "stream",
       "stream": "stdout",
       "text": [
        "\n",
        "         Current function value: -6.207039\n",
        "         Iterations: 6\n",
        "         Function evaluations: 7\n",
        "         Gradient evaluations: 6\n",
        "         Hessian evaluations: 6\n",
        "translation : [ 0.082449    0.03440595  0.05802897]\n",
        "rotation    : [-0.00037041 -0.00032709  0.00055648]\n",
        "\n",
        "Estimating motion at time frame 15/121...\n",
        "Optimization terminated successfully."
       ]
      },
      {
       "output_type": "stream",
       "stream": "stdout",
       "text": [
        "\n",
        "         Current function value: -6.207392\n",
        "         Iterations: 7\n",
        "         Function evaluations: 8\n",
        "         Gradient evaluations: 7\n",
        "         Hessian evaluations: 7\n",
        "translation : [ 0.08444283  0.0351739   0.00199133]\n",
        "rotation    : [-0.00129662  0.00111244 -0.00220946]\n",
        "\n",
        "Estimating motion at time frame 16/121...\n",
        "Optimization terminated successfully."
       ]
      },
      {
       "output_type": "stream",
       "stream": "stdout",
       "text": [
        "\n",
        "         Current function value: -6.207769\n",
        "         Iterations: 7\n",
        "         Function evaluations: 8\n",
        "         Gradient evaluations: 7\n",
        "         Hessian evaluations: 7\n",
        "translation : [ 0.09940758  0.03751832  0.01363019]\n",
        "rotation    : [-0.00184647  0.00128744 -0.00119624]\n",
        "\n",
        "Estimating motion at time frame 17/121...\n",
        "Optimization terminated successfully."
       ]
      },
      {
       "output_type": "stream",
       "stream": "stdout",
       "text": [
        "\n",
        "         Current function value: -6.208474\n",
        "         Iterations: 7\n",
        "         Function evaluations: 8\n",
        "         Gradient evaluations: 7\n",
        "         Hessian evaluations: 7\n",
        "translation : [ 0.06451736 -0.00607641  0.00862751]\n",
        "rotation    : [-0.00080233  0.00214537 -0.00372884]\n",
        "\n",
        "Estimating motion at time frame 18/121...\n",
        "Optimization terminated successfully."
       ]
      },
      {
       "output_type": "stream",
       "stream": "stdout",
       "text": [
        "\n",
        "         Current function value: -6.208959\n",
        "         Iterations: 6\n",
        "         Function evaluations: 7\n",
        "         Gradient evaluations: 6\n",
        "         Hessian evaluations: 6\n",
        "translation : [ 0.02906421  0.01059593  0.00818791]\n",
        "rotation    : [-0.00130827  0.00284102 -0.00148635]\n",
        "\n",
        "Estimating motion at time frame 19/121...\n",
        "Optimization terminated successfully."
       ]
      },
      {
       "output_type": "stream",
       "stream": "stdout",
       "text": [
        "\n",
        "         Current function value: -6.209145\n",
        "         Iterations: 6\n",
        "         Function evaluations: 7\n",
        "         Gradient evaluations: 6\n",
        "         Hessian evaluations: 6\n",
        "translation : [ 0.06801891  0.06123358  0.00064834]\n",
        "rotation    : [-0.00145966  0.0004035   0.0002409 ]\n",
        "\n",
        "Estimating motion at time frame 20/121...\n",
        "Optimization terminated successfully."
       ]
      },
      {
       "output_type": "stream",
       "stream": "stdout",
       "text": [
        "\n",
        "         Current function value: -6.209617\n",
        "         Iterations: 6\n",
        "         Function evaluations: 7\n",
        "         Gradient evaluations: 6\n",
        "         Hessian evaluations: 6\n",
        "translation : [ 0.05961207  0.04924749  0.0118101 ]\n",
        "rotation    : [-0.00135123  0.00174061 -0.00267263]\n",
        "\n",
        "Estimating motion at time frame 21/121...\n",
        "Optimization terminated successfully."
       ]
      },
      {
       "output_type": "stream",
       "stream": "stdout",
       "text": [
        "\n",
        "         Current function value: -6.210427\n",
        "         Iterations: 6\n",
        "         Function evaluations: 7\n",
        "         Gradient evaluations: 6\n",
        "         Hessian evaluations: 6\n",
        "translation : [ 0.06149635  0.06979041  0.02802029]\n",
        "rotation    : [-0.0004905   0.00264319 -0.0034375 ]\n",
        "\n",
        "Estimating motion at time frame 22/121...\n",
        "Optimization terminated successfully."
       ]
      },
      {
       "output_type": "stream",
       "stream": "stdout",
       "text": [
        "\n",
        "         Current function value: -6.210787\n",
        "         Iterations: 6\n",
        "         Function evaluations: 7\n",
        "         Gradient evaluations: 6\n",
        "         Hessian evaluations: 6\n",
        "translation : [ 0.04752286  0.1050094   0.02757097]\n",
        "rotation    : [-0.00102949  0.00116944 -0.00182571]\n",
        "\n",
        "Estimating motion at time frame 23/121...\n",
        "Optimization terminated successfully."
       ]
      },
      {
       "output_type": "stream",
       "stream": "stdout",
       "text": [
        "\n",
        "         Current function value: -6.211712\n",
        "         Iterations: 8\n",
        "         Function evaluations: 9\n",
        "         Gradient evaluations: 8\n",
        "         Hessian evaluations: 8\n",
        "translation : [ 0.06377958  0.13639466  0.00694937]\n",
        "rotation    : [-0.00275487  0.00238087 -0.00277085]\n",
        "\n",
        "Estimating motion at time frame 24/121...\n",
        "Optimization terminated successfully."
       ]
      },
      {
       "output_type": "stream",
       "stream": "stdout",
       "text": [
        "\n",
        "         Current function value: -6.212326\n",
        "         Iterations: 7\n",
        "         Function evaluations: 8\n",
        "         Gradient evaluations: 7\n",
        "         Hessian evaluations: 7\n",
        "translation : [ 0.03440337  0.09311446  0.03073024]\n",
        "rotation    : [-0.00062052  0.00241308 -0.00261284]\n",
        "\n",
        "Estimating motion at time frame 25/121...\n",
        "Optimization terminated successfully."
       ]
      },
      {
       "output_type": "stream",
       "stream": "stdout",
       "text": [
        "\n",
        "         Current function value: -6.212599\n",
        "         Iterations: 7\n",
        "         Function evaluations: 8\n",
        "         Gradient evaluations: 7\n",
        "         Hessian evaluations: 7\n",
        "translation : [ 0.02756023  0.07369045  0.04126598]\n",
        "rotation    : [-0.00047908  0.00128084 -0.00164385]\n",
        "\n",
        "Estimating motion at time frame 26/121...\n",
        "Optimization terminated successfully."
       ]
      },
      {
       "output_type": "stream",
       "stream": "stdout",
       "text": [
        "\n",
        "         Current function value: -6.212794\n",
        "         Iterations: 6\n",
        "         Function evaluations: 7\n",
        "         Gradient evaluations: 6\n",
        "         Hessian evaluations: 6\n",
        "translation : [ 0.05795194  0.09703528  0.01689426]\n",
        "rotation    : [-0.00099612  0.00027121 -0.00052174]\n",
        "\n",
        "Estimating motion at time frame 27/121...\n",
        "Optimization terminated successfully."
       ]
      },
      {
       "output_type": "stream",
       "stream": "stdout",
       "text": [
        "\n",
        "         Current function value: -6.213288\n",
        "         Iterations: 6\n",
        "         Function evaluations: 7\n",
        "         Gradient evaluations: 6\n",
        "         Hessian evaluations: 6\n",
        "translation : [ 0.04061975  0.08008096  0.02236251]\n",
        "rotation    : [-0.00113184  0.00179852 -0.0025601 ]\n",
        "\n",
        "Estimating motion at time frame 28/121...\n",
        "Optimization terminated successfully."
       ]
      },
      {
       "output_type": "stream",
       "stream": "stdout",
       "text": [
        "\n",
        "         Current function value: -6.213858\n",
        "         Iterations: 7\n",
        "         Function evaluations: 8\n",
        "         Gradient evaluations: 7\n",
        "         Hessian evaluations: 7\n",
        "translation : [ 0.03834982  0.09089734  0.00502037]\n",
        "rotation    : [-0.0009229   0.00176733 -0.00307038]\n",
        "\n",
        "Estimating motion at time frame 29/121...\n",
        "Optimization terminated successfully."
       ]
      },
      {
       "output_type": "stream",
       "stream": "stdout",
       "text": [
        "\n",
        "         Current function value: -6.214331\n",
        "         Iterations: 7\n",
        "         Function evaluations: 8\n",
        "         Gradient evaluations: 7\n",
        "         Hessian evaluations: 7\n",
        "translation : [ 0.07812233  0.07760367  0.00924321]\n",
        "rotation    : [-0.00128923  0.00166377 -0.00246974]\n",
        "\n",
        "Estimating motion at time frame 30/121...\n",
        "Optimization terminated successfully."
       ]
      },
      {
       "output_type": "stream",
       "stream": "stdout",
       "text": [
        "\n",
        "         Current function value: -6.214785\n",
        "         Iterations: 6\n",
        "         Function evaluations: 7\n",
        "         Gradient evaluations: 6\n",
        "         Hessian evaluations: 6\n",
        "translation : [ 0.08594166  0.04203456  0.00734327]\n",
        "rotation    : [-0.0008951   0.00234588 -0.00195788]\n",
        "\n",
        "Estimating motion at time frame 31/121...\n",
        "Optimization terminated successfully."
       ]
      },
      {
       "output_type": "stream",
       "stream": "stdout",
       "text": [
        "\n",
        "         Current function value: -6.215333\n",
        "         Iterations: 7\n",
        "         Function evaluations: 8\n",
        "         Gradient evaluations: 7\n",
        "         Hessian evaluations: 7\n",
        "translation : [ 0.12546121  0.0298005   0.001956  ]\n",
        "rotation    : [-0.00147786  0.00183269 -0.00213736]\n",
        "\n",
        "Estimating motion at time frame 32/121...\n",
        "Optimization terminated successfully."
       ]
      },
      {
       "output_type": "stream",
       "stream": "stdout",
       "text": [
        "\n",
        "         Current function value: -6.215841\n",
        "         Iterations: 6\n",
        "         Function evaluations: 7\n",
        "         Gradient evaluations: 6\n",
        "         Hessian evaluations: 6\n",
        "translation : [ 0.0892171   0.00315924  0.00552329]\n",
        "rotation    : [-0.00167195  0.0009462  -0.00280129]\n",
        "\n",
        "Estimating motion at time frame 33/121...\n",
        "Optimization terminated successfully."
       ]
      },
      {
       "output_type": "stream",
       "stream": "stdout",
       "text": [
        "\n",
        "         Current function value: -6.216022\n",
        "         Iterations: 5\n",
        "         Function evaluations: 6\n",
        "         Gradient evaluations: 5\n",
        "         Hessian evaluations: 5\n",
        "translation : [ 0.0780952   0.00634347 -0.00085565]\n",
        "rotation    : [-0.00101465  0.00064845 -0.00099557]\n",
        "\n",
        "Estimating motion at time frame 34/121...\n",
        "Optimization terminated successfully."
       ]
      },
      {
       "output_type": "stream",
       "stream": "stdout",
       "text": [
        "\n",
        "         Current function value: -6.216323\n",
        "         Iterations: 6\n",
        "         Function evaluations: 7\n",
        "         Gradient evaluations: 6\n",
        "         Hessian evaluations: 6\n",
        "translation : [ 0.07468728  0.0131437   0.00302065]\n",
        "rotation    : [-0.00163233  0.00178824 -0.00054717]\n",
        "\n",
        "Estimating motion at time frame 35/121...\n",
        "Optimization terminated successfully."
       ]
      },
      {
       "output_type": "stream",
       "stream": "stdout",
       "text": [
        "\n",
        "         Current function value: -6.216582\n",
        "         Iterations: 6\n",
        "         Function evaluations: 7\n",
        "         Gradient evaluations: 6\n",
        "         Hessian evaluations: 6\n",
        "translation : [ 0.06255385  0.04929826  0.01940702]\n",
        "rotation    : [-0.00110725  0.00174297 -0.00101052]\n",
        "\n",
        "Estimating motion at time frame 36/121...\n",
        "Optimization terminated successfully."
       ]
      },
      {
       "output_type": "stream",
       "stream": "stdout",
       "text": [
        "\n",
        "         Current function value: -6.217013\n",
        "         Iterations: 6\n",
        "         Function evaluations: 7\n",
        "         Gradient evaluations: 6\n",
        "         Hessian evaluations: 6\n",
        "translation : [ 0.06827078  0.02187942  0.00384238]\n",
        "rotation    : [-0.00191856  0.00197464 -0.00159386]\n",
        "\n",
        "Estimating motion at time frame 37/121...\n",
        "Optimization terminated successfully."
       ]
      },
      {
       "output_type": "stream",
       "stream": "stdout",
       "text": [
        "\n",
        "         Current function value: -6.217680\n",
        "         Iterations: 7\n",
        "         Function evaluations: 8\n",
        "         Gradient evaluations: 7\n",
        "         Hessian evaluations: 7\n",
        "translation : [ 0.08042218  0.07939348 -0.00653843]\n",
        "rotation    : [-0.0010568   0.00268533 -0.00285087]\n",
        "\n",
        "Estimating motion at time frame 38/121...\n",
        "Optimization terminated successfully."
       ]
      },
      {
       "output_type": "stream",
       "stream": "stdout",
       "text": [
        "\n",
        "         Current function value: -6.218168\n",
        "         Iterations: 6\n",
        "         Function evaluations: 7\n",
        "         Gradient evaluations: 6\n",
        "         Hessian evaluations: 6\n",
        "translation : [ 0.03532139  0.07410812  0.0122854 ]\n",
        "rotation    : [-0.00014156  0.00199903 -0.0025751 ]\n",
        "\n",
        "Estimating motion at time frame 39/121...\n",
        "Optimization terminated successfully."
       ]
      },
      {
       "output_type": "stream",
       "stream": "stdout",
       "text": [
        "\n",
        "         Current function value: -6.218546\n",
        "         Iterations: 6\n",
        "         Function evaluations: 7\n",
        "         Gradient evaluations: 6\n",
        "         Hessian evaluations: 6\n",
        "translation : [ 0.0614631   0.09072849  0.01583988]\n",
        "rotation    : [-0.00048389  0.00191003 -0.00165364]\n",
        "\n",
        "Estimating motion at time frame 40/121...\n",
        "Optimization terminated successfully."
       ]
      },
      {
       "output_type": "stream",
       "stream": "stdout",
       "text": [
        "\n",
        "         Current function value: -6.218676\n",
        "         Iterations: 5\n",
        "         Function evaluations: 6\n",
        "         Gradient evaluations: 5\n",
        "         Hessian evaluations: 5\n",
        "translation : [ 0.03213351  0.07329134  0.02398389]\n",
        "rotation    : [-0.00076103  0.00012889 -0.00086067]\n",
        "\n",
        "Estimating motion at time frame 41/121...\n",
        "Optimization terminated successfully."
       ]
      },
      {
       "output_type": "stream",
       "stream": "stdout",
       "text": [
        "\n",
        "         Current function value: -6.218846\n",
        "         Iterations: 5\n",
        "         Function evaluations: 6\n",
        "         Gradient evaluations: 5\n",
        "         Hessian evaluations: 5\n",
        "translation : [ 0.0499917   0.0811037   0.01759163]\n",
        "rotation    : [-0.00095987  0.00016844 -0.00087942]\n",
        "\n",
        "Estimating motion at time frame 42/121...\n",
        "Optimization terminated successfully."
       ]
      },
      {
       "output_type": "stream",
       "stream": "stdout",
       "text": [
        "\n",
        "         Current function value: -6.219215\n",
        "         Iterations: 6\n",
        "         Function evaluations: 7\n",
        "         Gradient evaluations: 6\n",
        "         Hessian evaluations: 6\n",
        "translation : [ 0.06632217  0.0670063   0.00527942]\n",
        "rotation    : [-0.00202431  0.00098592 -0.00166592]\n",
        "\n",
        "Estimating motion at time frame 43/121...\n",
        "Optimization terminated successfully."
       ]
      },
      {
       "output_type": "stream",
       "stream": "stdout",
       "text": [
        "\n",
        "         Current function value: -6.219421\n",
        "         Iterations: 6\n",
        "         Function evaluations: 7\n",
        "         Gradient evaluations: 6\n",
        "         Hessian evaluations: 6\n",
        "translation : [ 0.05808737  0.0410201   0.00853177]\n",
        "rotation    : [-0.00089178  0.00134459 -0.0013524 ]\n",
        "\n",
        "Estimating motion at time frame 44/121...\n",
        "Optimization terminated successfully."
       ]
      },
      {
       "output_type": "stream",
       "stream": "stdout",
       "text": [
        "\n",
        "         Current function value: -6.219679\n",
        "         Iterations: 6\n",
        "         Function evaluations: 7\n",
        "         Gradient evaluations: 6\n",
        "         Hessian evaluations: 6\n",
        "translation : [ 0.0634297   0.02219154  0.01237586]\n",
        "rotation    : [-0.00162398  0.00081532 -0.00139237]\n",
        "\n",
        "Estimating motion at time frame 45/121...\n",
        "Optimization terminated successfully."
       ]
      },
      {
       "output_type": "stream",
       "stream": "stdout",
       "text": [
        "\n",
        "         Current function value: -6.219881\n",
        "         Iterations: 5\n",
        "         Function evaluations: 6\n",
        "         Gradient evaluations: 5\n",
        "         Hessian evaluations: 5\n",
        "translation : [ 0.06812339  0.00177392  0.02542596]\n",
        "rotation    : [ -1.02113057e-03  -4.49149993e-04  -9.60069480e-05]\n",
        "\n",
        "Estimating motion at time frame 46/121...\n",
        "Optimization terminated successfully."
       ]
      },
      {
       "output_type": "stream",
       "stream": "stdout",
       "text": [
        "\n",
        "         Current function value: -6.220010\n",
        "         Iterations: 5\n",
        "         Function evaluations: 6\n",
        "         Gradient evaluations: 5\n",
        "         Hessian evaluations: 5\n",
        "translation : [ 0.05940124  0.01425669  0.00775354]\n",
        "rotation    : [ -1.07009945e-03   2.83737149e-05   1.19995619e-05]\n",
        "\n",
        "Estimating motion at time frame 47/121...\n",
        "Optimization terminated successfully."
       ]
      },
      {
       "output_type": "stream",
       "stream": "stdout",
       "text": [
        "\n",
        "         Current function value: -6.220358\n",
        "         Iterations: 5\n",
        "         Function evaluations: 6\n",
        "         Gradient evaluations: 5\n",
        "         Hessian evaluations: 5\n",
        "translation : [ 0.0767562  -0.00326228  0.00404315]\n",
        "rotation    : [-0.00055322  0.00222383 -0.00170545]\n",
        "\n",
        "Estimating motion at time frame 48/121...\n",
        "Optimization terminated successfully."
       ]
      },
      {
       "output_type": "stream",
       "stream": "stdout",
       "text": [
        "\n",
        "         Current function value: -6.220587\n",
        "         Iterations: 5\n",
        "         Function evaluations: 6\n",
        "         Gradient evaluations: 5\n",
        "         Hessian evaluations: 5\n",
        "translation : [ 0.06446142  0.00058972  0.00590159]\n",
        "rotation    : [-0.00071969  0.00163659 -0.00141453]\n",
        "\n",
        "Estimating motion at time frame 49/121...\n",
        "Optimization terminated successfully."
       ]
      },
      {
       "output_type": "stream",
       "stream": "stdout",
       "text": [
        "\n",
        "         Current function value: -6.221033\n",
        "         Iterations: 5\n",
        "         Function evaluations: 6\n",
        "         Gradient evaluations: 5\n",
        "         Hessian evaluations: 5\n",
        "translation : [ 0.08203598  0.03057773 -0.00456488]\n",
        "rotation    : [-0.00164308  0.00163296 -0.00223404]\n",
        "\n",
        "Estimating motion at time frame 50/121...\n",
        "Optimization terminated successfully."
       ]
      },
      {
       "output_type": "stream",
       "stream": "stdout",
       "text": [
        "\n",
        "         Current function value: -6.221230\n",
        "         Iterations: 5\n",
        "         Function evaluations: 6\n",
        "         Gradient evaluations: 5\n",
        "         Hessian evaluations: 5\n",
        "translation : [ 0.09057268  0.0266399   0.00114913]\n",
        "rotation    : [-0.00089656  0.00042333  0.00010646]\n",
        "\n",
        "Estimating motion at time frame 51/121...\n",
        "Optimization terminated successfully."
       ]
      },
      {
       "output_type": "stream",
       "stream": "stdout",
       "text": [
        "\n",
        "         Current function value: -6.221674\n",
        "         Iterations: 6\n",
        "         Function evaluations: 7\n",
        "         Gradient evaluations: 6\n",
        "         Hessian evaluations: 6\n",
        "translation : [ 0.10294203  0.06410481  0.0157053 ]\n",
        "rotation    : [-0.00185567  0.00016559 -0.00152735]\n",
        "\n",
        "Estimating motion at time frame 52/121...\n",
        "Optimization terminated successfully."
       ]
      },
      {
       "output_type": "stream",
       "stream": "stdout",
       "text": [
        "\n",
        "         Current function value: -6.221979\n",
        "         Iterations: 6\n",
        "         Function evaluations: 7\n",
        "         Gradient evaluations: 6\n",
        "         Hessian evaluations: 6\n",
        "translation : [ 0.05277421  0.08561245  0.0178934 ]\n",
        "rotation    : [-0.00172434  0.00015813 -0.00147992]\n",
        "\n",
        "Estimating motion at time frame 53/121...\n",
        "Optimization terminated successfully."
       ]
      },
      {
       "output_type": "stream",
       "stream": "stdout",
       "text": [
        "\n",
        "         Current function value: -6.222546\n",
        "         Iterations: 6\n",
        "         Function evaluations: 7\n",
        "         Gradient evaluations: 6\n",
        "         Hessian evaluations: 6\n",
        "translation : [ 0.08740856  0.09425301  0.01252488]\n",
        "rotation    : [-0.00154159  0.00157525 -0.00251892]\n",
        "\n",
        "Estimating motion at time frame 54/121...\n",
        "Optimization terminated successfully."
       ]
      },
      {
       "output_type": "stream",
       "stream": "stdout",
       "text": [
        "\n",
        "         Current function value: -6.223095\n",
        "         Iterations: 7\n",
        "         Function evaluations: 8\n",
        "         Gradient evaluations: 7\n",
        "         Hessian evaluations: 7\n",
        "translation : [ 0.10825712  0.06265967  0.01777553]\n",
        "rotation    : [-0.00151558  0.00184201 -0.00219021]\n",
        "\n",
        "Estimating motion at time frame 55/121...\n",
        "Optimization terminated successfully."
       ]
      },
      {
       "output_type": "stream",
       "stream": "stdout",
       "text": [
        "\n",
        "         Current function value: -6.223500\n",
        "         Iterations: 6\n",
        "         Function evaluations: 7\n",
        "         Gradient evaluations: 6\n",
        "         Hessian evaluations: 6\n",
        "translation : [ 0.08408546  0.07810253  0.00916428]\n",
        "rotation    : [-0.00179368  0.00187932 -0.00096663]\n",
        "\n",
        "Estimating motion at time frame 56/121...\n",
        "Optimization terminated successfully."
       ]
      },
      {
       "output_type": "stream",
       "stream": "stdout",
       "text": [
        "\n",
        "         Current function value: -6.223733\n",
        "         Iterations: 5\n",
        "         Function evaluations: 6\n",
        "         Gradient evaluations: 5\n",
        "         Hessian evaluations: 5\n",
        "translation : [ 0.04686811  0.09196516  0.00283046]\n",
        "rotation    : [-0.00073726  0.00045764 -0.00157566]\n",
        "\n",
        "Estimating motion at time frame 57/121...\n",
        "Optimization terminated successfully."
       ]
      },
      {
       "output_type": "stream",
       "stream": "stdout",
       "text": [
        "\n",
        "         Current function value: -6.224016\n",
        "         Iterations: 5\n",
        "         Function evaluations: 6\n",
        "         Gradient evaluations: 5\n",
        "         Hessian evaluations: 5\n",
        "translation : [ 0.07025547  0.09321362  0.00767561]\n",
        "rotation    : [  1.04270108e-04  -2.15506168e-05  -1.23997704e-03]\n",
        "\n",
        "Estimating motion at time frame 58/121...\n",
        "Optimization terminated successfully."
       ]
      },
      {
       "output_type": "stream",
       "stream": "stdout",
       "text": [
        "\n",
        "         Current function value: -6.224506\n",
        "         Iterations: 8\n",
        "         Function evaluations: 9\n",
        "         Gradient evaluations: 8\n",
        "         Hessian evaluations: 8\n",
        "translation : [ 0.07808569  0.09135829  0.00219513]\n",
        "rotation    : [-0.0011895   0.00137422 -0.00288703]\n",
        "\n",
        "Estimating motion at time frame 59/121...\n",
        "Optimization terminated successfully."
       ]
      },
      {
       "output_type": "stream",
       "stream": "stdout",
       "text": [
        "\n",
        "         Current function value: -6.224735\n",
        "         Iterations: 9\n",
        "         Function evaluations: 10\n",
        "         Gradient evaluations: 9\n",
        "         Hessian evaluations: 9\n",
        "translation : [ 0.03848458  0.07715036  0.00951609]\n",
        "rotation    : [-0.00139675  0.00088504 -0.00148977]\n",
        "\n",
        "Estimating motion at time frame 60/121...\n",
        "Optimization terminated successfully."
       ]
      },
      {
       "output_type": "stream",
       "stream": "stdout",
       "text": [
        "\n",
        "         Current function value: -6.225042\n",
        "         Iterations: 6\n",
        "         Function evaluations: 7\n",
        "         Gradient evaluations: 6\n",
        "         Hessian evaluations: 6\n",
        "translation : [ 0.08617543  0.0299118  -0.00817974]\n",
        "rotation    : [-0.00104201  0.00190351 -0.00120878]\n",
        "\n",
        "Estimating motion at time frame 61/121...\n",
        "Optimization terminated successfully."
       ]
      },
      {
       "output_type": "stream",
       "stream": "stdout",
       "text": [
        "\n",
        "         Current function value: -6.225283\n",
        "         Iterations: 5\n",
        "         Function evaluations: 6\n",
        "         Gradient evaluations: 5\n",
        "         Hessian evaluations: 5\n",
        "translation : [ 0.09627382  0.06518775  0.0150714 ]\n",
        "rotation    : [-0.00027927  0.00036239 -0.00012047]\n",
        "\n",
        "Estimating motion at time frame 62/121...\n",
        "Optimization terminated successfully."
       ]
      },
      {
       "output_type": "stream",
       "stream": "stdout",
       "text": [
        "\n",
        "         Current function value: -6.225487\n",
        "         Iterations: 4\n",
        "         Function evaluations: 5\n",
        "         Gradient evaluations: 4\n",
        "         Hessian evaluations: 4\n",
        "translation : [ 0.03116876  0.11597482  0.00782726]\n",
        "rotation    : [-0.00073276  0.00034743 -0.00073418]\n",
        "\n",
        "Estimating motion at time frame 63/121...\n",
        "Optimization terminated successfully."
       ]
      },
      {
       "output_type": "stream",
       "stream": "stdout",
       "text": [
        "\n",
        "         Current function value: -6.225765\n",
        "         Iterations: 6\n",
        "         Function evaluations: 7\n",
        "         Gradient evaluations: 6\n",
        "         Hessian evaluations: 6\n",
        "translation : [ 0.03941307  0.09278776  0.02253382]\n",
        "rotation    : [-0.00118125  0.00127151 -0.00123162]\n",
        "\n",
        "Estimating motion at time frame 64/121...\n",
        "Optimization terminated successfully."
       ]
      },
      {
       "output_type": "stream",
       "stream": "stdout",
       "text": [
        "\n",
        "         Current function value: -6.225941\n",
        "         Iterations: 5\n",
        "         Function evaluations: 6\n",
        "         Gradient evaluations: 5\n",
        "         Hessian evaluations: 5\n",
        "translation : [ 0.04886306  0.08307115  0.01385637]\n",
        "rotation    : [-0.00082959  0.00076957 -0.00089479]\n",
        "\n",
        "Estimating motion at time frame 65/121...\n",
        "Optimization terminated successfully."
       ]
      },
      {
       "output_type": "stream",
       "stream": "stdout",
       "text": [
        "\n",
        "         Current function value: -6.226199\n",
        "         Iterations: 6\n",
        "         Function evaluations: 7\n",
        "         Gradient evaluations: 6\n",
        "         Hessian evaluations: 6\n",
        "translation : [ 0.07827567  0.08780298 -0.00749092]\n",
        "rotation    : [-0.00029569  0.00078194 -0.00118135]\n",
        "\n",
        "Estimating motion at time frame 66/121...\n",
        "Optimization terminated successfully."
       ]
      },
      {
       "output_type": "stream",
       "stream": "stdout",
       "text": [
        "\n",
        "         Current function value: -6.226526\n",
        "         Iterations: 5\n",
        "         Function evaluations: 6\n",
        "         Gradient evaluations: 5\n",
        "         Hessian evaluations: 5\n",
        "translation : [ 0.04578126  0.10286828  0.00875215]\n",
        "rotation    : [ 0.00058839  0.0010174  -0.00121889]\n",
        "\n",
        "Estimating motion at time frame 67/121...\n",
        "Optimization terminated successfully."
       ]
      },
      {
       "output_type": "stream",
       "stream": "stdout",
       "text": [
        "\n",
        "         Current function value: -6.226842\n",
        "         Iterations: 6\n",
        "         Function evaluations: 7\n",
        "         Gradient evaluations: 6\n",
        "         Hessian evaluations: 6\n",
        "translation : [ 0.03677461  0.09700972  0.00997808]\n",
        "rotation    : [  8.97295351e-05   1.18286854e-03  -1.64386938e-03]\n",
        "\n",
        "Estimating motion at time frame 68/121...\n",
        "Optimization terminated successfully."
       ]
      },
      {
       "output_type": "stream",
       "stream": "stdout",
       "text": [
        "\n",
        "         Current function value: -6.227052\n",
        "         Iterations: 11\n",
        "         Function evaluations: 12\n",
        "         Gradient evaluations: 11\n",
        "         Hessian evaluations: 11\n",
        "translation : [ 0.06215382  0.05652621  0.02451244]\n",
        "rotation    : [-0.00145198 -0.00040386 -0.00017742]\n",
        "\n",
        "Estimating motion at time frame 69/121...\n",
        "Optimization terminated successfully."
       ]
      },
      {
       "output_type": "stream",
       "stream": "stdout",
       "text": [
        "\n",
        "         Current function value: -6.227388\n",
        "         Iterations: 6\n",
        "         Function evaluations: 7\n",
        "         Gradient evaluations: 6\n",
        "         Hessian evaluations: 6\n",
        "translation : [ 0.05036295  0.04407701  0.00042719]\n",
        "rotation    : [-0.00180497  0.0008333  -0.00197444]\n",
        "\n",
        "Estimating motion at time frame 70/121...\n",
        "Optimization terminated successfully."
       ]
      },
      {
       "output_type": "stream",
       "stream": "stdout",
       "text": [
        "\n",
        "         Current function value: -6.227694\n",
        "         Iterations: 7\n",
        "         Function evaluations: 8\n",
        "         Gradient evaluations: 7\n",
        "         Hessian evaluations: 7\n",
        "translation : [ 0.01066683  0.0530778  -0.00024944]\n",
        "rotation    : [-0.00151993  0.00068088 -0.00222757]\n",
        "\n",
        "Estimating motion at time frame 71/121...\n",
        "Optimization terminated successfully."
       ]
      },
      {
       "output_type": "stream",
       "stream": "stdout",
       "text": [
        "\n",
        "         Current function value: -6.227996\n",
        "         Iterations: 6\n",
        "         Function evaluations: 7\n",
        "         Gradient evaluations: 6\n",
        "         Hessian evaluations: 6\n",
        "translation : [ 0.02825509  0.05519014 -0.01299766]\n",
        "rotation    : [ 0.00107363  0.00046424 -0.00199873]\n",
        "\n",
        "Estimating motion at time frame 72/121...\n",
        "Optimization terminated successfully."
       ]
      },
      {
       "output_type": "stream",
       "stream": "stdout",
       "text": [
        "\n",
        "         Current function value: -6.228287\n",
        "         Iterations: 9\n",
        "         Function evaluations: 10\n",
        "         Gradient evaluations: 9\n",
        "         Hessian evaluations: 9\n",
        "translation : [ 0.04677839  0.04053443 -0.01508292]\n",
        "rotation    : [-0.00121729  0.0007988  -0.00253991]\n",
        "\n",
        "Estimating motion at time frame 73/121...\n",
        "Optimization terminated successfully."
       ]
      },
      {
       "output_type": "stream",
       "stream": "stdout",
       "text": [
        "\n",
        "         Current function value: -6.228486\n",
        "         Iterations: 5\n",
        "         Function evaluations: 6\n",
        "         Gradient evaluations: 5\n",
        "         Hessian evaluations: 5\n",
        "translation : [-0.00100135  0.03337528 -0.02439591]\n",
        "rotation    : [-0.00053876  0.00137302 -0.00129169]\n",
        "\n",
        "Estimating motion at time frame 74/121...\n",
        "Optimization terminated successfully."
       ]
      },
      {
       "output_type": "stream",
       "stream": "stdout",
       "text": [
        "\n",
        "         Current function value: -6.228675\n",
        "         Iterations: 5\n",
        "         Function evaluations: 6\n",
        "         Gradient evaluations: 5\n",
        "         Hessian evaluations: 5\n",
        "translation : [ 0.02940368  0.03755906 -0.01676463]\n",
        "rotation    : [-0.00037413  0.00137413 -0.00151774]\n",
        "\n",
        "Estimating motion at time frame 75/121...\n",
        "Optimization terminated successfully."
       ]
      },
      {
       "output_type": "stream",
       "stream": "stdout",
       "text": [
        "\n",
        "         Current function value: -6.228798\n",
        "         Iterations: 6\n",
        "         Function evaluations: 7\n",
        "         Gradient evaluations: 6\n",
        "         Hessian evaluations: 6\n",
        "translation : [ 0.03218945  0.0084255  -0.00489771]\n",
        "rotation    : [-0.00088158  0.00122749 -0.00089767]\n",
        "\n",
        "Estimating motion at time frame 76/121...\n",
        "Optimization terminated successfully."
       ]
      },
      {
       "output_type": "stream",
       "stream": "stdout",
       "text": [
        "\n",
        "         Current function value: -6.229119\n",
        "         Iterations: 6\n",
        "         Function evaluations: 7\n",
        "         Gradient evaluations: 6\n",
        "         Hessian evaluations: 6\n",
        "translation : [ 0.00851391 -0.00429291 -0.04364139]\n",
        "rotation    : [-0.00102201  0.00208386 -0.00124077]\n",
        "\n",
        "Estimating motion at time frame 77/121...\n",
        "Optimization terminated successfully."
       ]
      },
      {
       "output_type": "stream",
       "stream": "stdout",
       "text": [
        "\n",
        "         Current function value: -6.229253\n",
        "         Iterations: 7\n",
        "         Function evaluations: 8\n",
        "         Gradient evaluations: 7\n",
        "         Hessian evaluations: 7\n",
        "translation : [-0.0125679   0.02411125 -0.03834286]\n",
        "rotation    : [-0.00100834  0.00098734 -0.00052336]\n",
        "\n",
        "Estimating motion at time frame 78/121...\n",
        "Optimization terminated successfully."
       ]
      },
      {
       "output_type": "stream",
       "stream": "stdout",
       "text": [
        "\n",
        "         Current function value: -6.229597\n",
        "         Iterations: 7\n",
        "         Function evaluations: 8\n",
        "         Gradient evaluations: 7\n",
        "         Hessian evaluations: 7\n",
        "translation : [-0.00079671 -0.01056355 -0.03959712]\n",
        "rotation    : [-0.00126375  0.00172132 -0.00186479]\n",
        "\n",
        "Estimating motion at time frame 79/121...\n",
        "Optimization terminated successfully."
       ]
      },
      {
       "output_type": "stream",
       "stream": "stdout",
       "text": [
        "\n",
        "         Current function value: -6.229778\n",
        "         Iterations: 7\n",
        "         Function evaluations: 8\n",
        "         Gradient evaluations: 7\n",
        "         Hessian evaluations: 7\n",
        "translation : [ 0.00270377  0.01796373 -0.03212885]\n",
        "rotation    : [-0.00113928  0.00131757 -0.0010673 ]\n",
        "\n",
        "Estimating motion at time frame 80/121...\n",
        "Optimization terminated successfully."
       ]
      },
      {
       "output_type": "stream",
       "stream": "stdout",
       "text": [
        "\n",
        "         Current function value: -6.230049\n",
        "         Iterations: 7\n",
        "         Function evaluations: 8\n",
        "         Gradient evaluations: 7\n",
        "         Hessian evaluations: 7\n",
        "translation : [-0.0002097   0.05250869 -0.04764741]\n",
        "rotation    : [-0.001795    0.00128134 -0.00074396]\n",
        "\n",
        "Estimating motion at time frame 81/121...\n",
        "Optimization terminated successfully."
       ]
      },
      {
       "output_type": "stream",
       "stream": "stdout",
       "text": [
        "\n",
        "         Current function value: -6.230458\n",
        "         Iterations: 7\n",
        "         Function evaluations: 8\n",
        "         Gradient evaluations: 7\n",
        "         Hessian evaluations: 7\n",
        "translation : [-0.02542063  0.05243787 -0.0304922 ]\n",
        "rotation    : [-0.00164381  0.00154406 -0.00167786]\n",
        "\n",
        "Estimating motion at time frame 82/121...\n",
        "Optimization terminated successfully."
       ]
      },
      {
       "output_type": "stream",
       "stream": "stdout",
       "text": [
        "\n",
        "         Current function value: -6.230595\n",
        "         Iterations: 7\n",
        "         Function evaluations: 8\n",
        "         Gradient evaluations: 7\n",
        "         Hessian evaluations: 7\n",
        "translation : [ 0.01268985  0.04290043 -0.00878313]\n",
        "rotation    : [-0.00025758  0.00044569 -0.00170654]\n",
        "\n",
        "Estimating motion at time frame 83/121...\n",
        "Optimization terminated successfully."
       ]
      },
      {
       "output_type": "stream",
       "stream": "stdout",
       "text": [
        "\n",
        "         Current function value: -6.230755\n",
        "         Iterations: 6\n",
        "         Function evaluations: 7\n",
        "         Gradient evaluations: 6\n",
        "         Hessian evaluations: 6\n",
        "translation : [ 0.00598556  0.02647645 -0.03353377]\n",
        "rotation    : [-0.00013331  0.00133149 -0.00116932]\n",
        "\n",
        "Estimating motion at time frame 84/121...\n",
        "Optimization terminated successfully."
       ]
      },
      {
       "output_type": "stream",
       "stream": "stdout",
       "text": [
        "\n",
        "         Current function value: -6.230815\n",
        "         Iterations: 7\n",
        "         Function evaluations: 8\n",
        "         Gradient evaluations: 7\n",
        "         Hessian evaluations: 7\n",
        "translation : [-0.00416294  0.02047215 -0.02535717]\n",
        "rotation    : [ 0.00032236  0.00014251 -0.00092869]\n",
        "\n",
        "Estimating motion at time frame 85/121...\n",
        "Optimization terminated successfully."
       ]
      },
      {
       "output_type": "stream",
       "stream": "stdout",
       "text": [
        "\n",
        "         Current function value: -6.230900\n",
        "         Iterations: 7\n",
        "         Function evaluations: 8\n",
        "         Gradient evaluations: 7\n",
        "         Hessian evaluations: 7\n",
        "translation : [-0.00419773 -0.02338086 -0.03745427]\n",
        "rotation    : [-0.00065987  0.00016016 -0.00089631]\n",
        "\n",
        "Estimating motion at time frame 86/121...\n",
        "Optimization terminated successfully."
       ]
      },
      {
       "output_type": "stream",
       "stream": "stdout",
       "text": [
        "\n",
        "         Current function value: -6.231193\n",
        "         Iterations: 8\n",
        "         Function evaluations: 9\n",
        "         Gradient evaluations: 8\n",
        "         Hessian evaluations: 8\n",
        "translation : [-0.02043914  0.02158855 -0.0639312 ]\n",
        "rotation    : [-0.00100198  0.0008167  -0.00198628]\n",
        "\n",
        "Estimating motion at time frame 87/121...\n",
        "Optimization terminated successfully."
       ]
      },
      {
       "output_type": "stream",
       "stream": "stdout",
       "text": [
        "\n",
        "         Current function value: -6.231498\n",
        "         Iterations: 7\n",
        "         Function evaluations: 8\n",
        "         Gradient evaluations: 7\n",
        "         Hessian evaluations: 7\n",
        "translation : [-0.06113455  0.04421924 -0.04967662]\n",
        "rotation    : [  2.09301382e-06   7.82456488e-04  -1.24229848e-03]\n",
        "\n",
        "Estimating motion at time frame 88/121...\n",
        "Optimization terminated successfully."
       ]
      },
      {
       "output_type": "stream",
       "stream": "stdout",
       "text": [
        "\n",
        "         Current function value: -6.232225\n",
        "         Iterations: 8\n",
        "         Function evaluations: 9\n",
        "         Gradient evaluations: 8\n",
        "         Hessian evaluations: 8\n",
        "translation : [ 0.00912985 -0.01736432 -0.0521557 ]\n",
        "rotation    : [-0.00238303  0.00275757 -0.00096988]\n",
        "\n",
        "Estimating motion at time frame 89/121...\n",
        "Optimization terminated successfully."
       ]
      },
      {
       "output_type": "stream",
       "stream": "stdout",
       "text": [
        "\n",
        "         Current function value: -6.232373\n",
        "         Iterations: 8\n",
        "         Function evaluations: 9\n",
        "         Gradient evaluations: 8\n",
        "         Hessian evaluations: 8\n",
        "translation : [ 0.02636652 -0.00258692 -0.05297585]\n",
        "rotation    : [ 0.00053775  0.00090488 -0.00138578]\n",
        "\n",
        "Estimating motion at time frame 90/121...\n",
        "Optimization terminated successfully."
       ]
      },
      {
       "output_type": "stream",
       "stream": "stdout",
       "text": [
        "\n",
        "         Current function value: -6.232480\n",
        "         Iterations: 6\n",
        "         Function evaluations: 7\n",
        "         Gradient evaluations: 6\n",
        "         Hessian evaluations: 6\n",
        "translation : [ 0.01185415 -0.02668023 -0.03624317]\n",
        "rotation    : [ 0.00018834  0.0001932  -0.00153548]\n",
        "\n",
        "Estimating motion at time frame 91/121...\n",
        "Optimization terminated successfully."
       ]
      },
      {
       "output_type": "stream",
       "stream": "stdout",
       "text": [
        "\n",
        "         Current function value: -6.232696\n",
        "         Iterations: 7\n",
        "         Function evaluations: 8\n",
        "         Gradient evaluations: 7\n",
        "         Hessian evaluations: 7\n",
        "translation : [ 0.01430401 -0.02456213 -0.02434031]\n",
        "rotation    : [-0.00141355  0.00057408 -0.00155622]\n",
        "\n",
        "Estimating motion at time frame 92/121...\n",
        "Optimization terminated successfully."
       ]
      },
      {
       "output_type": "stream",
       "stream": "stdout",
       "text": [
        "\n",
        "         Current function value: -6.232933\n",
        "         Iterations: 6\n",
        "         Function evaluations: 7\n",
        "         Gradient evaluations: 6\n",
        "         Hessian evaluations: 6\n",
        "translation : [-0.01093444 -0.01768765 -0.04008644]\n",
        "rotation    : [-0.00092213  0.00135954 -0.00124312]\n",
        "\n",
        "Estimating motion at time frame 93/121...\n",
        "Optimization terminated successfully."
       ]
      },
      {
       "output_type": "stream",
       "stream": "stdout",
       "text": [
        "\n",
        "         Current function value: -6.233236\n",
        "         Iterations: 8\n",
        "         Function evaluations: 9\n",
        "         Gradient evaluations: 8\n",
        "         Hessian evaluations: 8\n",
        "translation : [-0.01981743 -0.03453643 -0.05078991]\n",
        "rotation    : [-0.00123261  0.0013946  -0.00115925]\n",
        "\n",
        "Estimating motion at time frame 94/121...\n",
        "Optimization terminated successfully."
       ]
      },
      {
       "output_type": "stream",
       "stream": "stdout",
       "text": [
        "\n",
        "         Current function value: -6.233527\n",
        "         Iterations: 6\n",
        "         Function evaluations: 7\n",
        "         Gradient evaluations: 6\n",
        "         Hessian evaluations: 6\n",
        "translation : [-0.05002912  0.02858297 -0.04372749]\n",
        "rotation    : [ 0.0004168   0.00070888 -0.00152413]\n",
        "\n",
        "Estimating motion at time frame 95/121...\n",
        "Optimization terminated successfully."
       ]
      },
      {
       "output_type": "stream",
       "stream": "stdout",
       "text": [
        "\n",
        "         Current function value: -6.233667\n",
        "         Iterations: 9\n",
        "         Function evaluations: 10\n",
        "         Gradient evaluations: 9\n",
        "         Hessian evaluations: 9\n",
        "translation : [-0.00416458  0.03103615 -0.01126909]\n",
        "rotation    : [ -3.74797873e-05   1.45118693e-03  -7.10643258e-04]\n",
        "\n",
        "Estimating motion at time frame 96/121...\n",
        "Optimization terminated successfully."
       ]
      },
      {
       "output_type": "stream",
       "stream": "stdout",
       "text": [
        "\n",
        "         Current function value: -6.233735\n",
        "         Iterations: 10\n",
        "         Function evaluations: 11\n",
        "         Gradient evaluations: 10\n",
        "         Hessian evaluations: 10\n",
        "translation : [ 0.04549401 -0.00449418 -0.03503856]\n",
        "rotation    : [ -1.93672416e-05   6.95670636e-04  -5.75112305e-04]\n",
        "\n",
        "Estimating motion at time frame 97/121...\n",
        "Optimization terminated successfully."
       ]
      },
      {
       "output_type": "stream",
       "stream": "stdout",
       "text": [
        "\n",
        "         Current function value: -6.233799\n",
        "         Iterations: 6\n",
        "         Function evaluations: 7\n",
        "         Gradient evaluations: 6\n",
        "         Hessian evaluations: 6\n",
        "translation : [-0.04393991 -0.00997702 -0.02734432]\n",
        "rotation    : [ -2.84829289e-04  -6.56902952e-05  -1.72718820e-04]\n",
        "\n",
        "Estimating motion at time frame 98/121...\n",
        "Optimization terminated successfully."
       ]
      },
      {
       "output_type": "stream",
       "stream": "stdout",
       "text": [
        "\n",
        "         Current function value: -6.233864\n",
        "         Iterations: 7\n",
        "         Function evaluations: 8\n",
        "         Gradient evaluations: 7\n",
        "         Hessian evaluations: 7\n",
        "translation : [-0.0389161  -0.01367359 -0.0335801 ]\n",
        "rotation    : [  2.54824724e-05   1.57451160e-04  -2.83622680e-04]\n",
        "\n",
        "Estimating motion at time frame 99/121...\n",
        "Optimization terminated successfully."
       ]
      },
      {
       "output_type": "stream",
       "stream": "stdout",
       "text": [
        "\n",
        "         Current function value: -6.234316\n",
        "         Iterations: 9\n",
        "         Function evaluations: 10\n",
        "         Gradient evaluations: 9\n",
        "         Hessian evaluations: 9\n",
        "translation : [ 0.01428931 -0.04234411 -0.03654672]\n",
        "rotation    : [-0.00166431 -0.00181561 -0.00124248]\n",
        "\n",
        "Estimating motion at time frame 100/121...\n",
        "Optimization terminated successfully."
       ]
      },
      {
       "output_type": "stream",
       "stream": "stdout",
       "text": [
        "\n",
        "         Current function value: -6.234503\n",
        "         Iterations: 7\n",
        "         Function evaluations: 8\n",
        "         Gradient evaluations: 7\n",
        "         Hessian evaluations: 7\n",
        "translation : [-0.0405965  -0.01208275 -0.06790645]\n",
        "rotation    : [-0.00046197 -0.001084   -0.00074929]\n",
        "\n",
        "Estimating motion at time frame 101/121...\n",
        "Optimization terminated successfully."
       ]
      },
      {
       "output_type": "stream",
       "stream": "stdout",
       "text": [
        "\n",
        "         Current function value: -6.234694\n",
        "         Iterations: 12\n",
        "         Function evaluations: 13\n",
        "         Gradient evaluations: 12\n",
        "         Hessian evaluations: 12\n",
        "translation : [-0.01017208 -0.0401665  -0.06607797]\n",
        "rotation    : [ -2.95183356e-04  -1.42856453e-03   6.72633681e-05]\n",
        "\n",
        "Estimating motion at time frame 102/121...\n",
        "Optimization terminated successfully."
       ]
      },
      {
       "output_type": "stream",
       "stream": "stdout",
       "text": [
        "\n",
        "         Current function value: -6.234880\n",
        "         Iterations: 9\n",
        "         Function evaluations: 10\n",
        "         Gradient evaluations: 9\n",
        "         Hessian evaluations: 9\n",
        "translation : [-0.01086823 -0.02099035 -0.04821679]\n",
        "rotation    : [  5.14492427e-04  -1.79623846e-03  -3.73462329e-05]\n",
        "\n",
        "Estimating motion at time frame 103/121...\n",
        "Optimization terminated successfully."
       ]
      },
      {
       "output_type": "stream",
       "stream": "stdout",
       "text": [
        "\n",
        "         Current function value: -6.235068\n",
        "         Iterations: 10\n",
        "         Function evaluations: 11\n",
        "         Gradient evaluations: 10\n",
        "         Hessian evaluations: 10\n",
        "translation : [ 0.01639976 -0.08752565 -0.03077701]\n",
        "rotation    : [-0.00041595 -0.00063067 -0.00048249]\n",
        "\n",
        "Estimating motion at time frame 104/121...\n",
        "Optimization terminated successfully."
       ]
      },
      {
       "output_type": "stream",
       "stream": "stdout",
       "text": [
        "\n",
        "         Current function value: -6.235383\n",
        "         Iterations: 11\n",
        "         Function evaluations: 12\n",
        "         Gradient evaluations: 11\n",
        "         Hessian evaluations: 11\n",
        "translation : [ 0.00707284 -0.07018928 -0.05871103]\n",
        "rotation    : [ 0.00023357 -0.0019697   0.00030357]\n",
        "\n",
        "Estimating motion at time frame 105/121...\n",
        "Optimization terminated successfully."
       ]
      },
      {
       "output_type": "stream",
       "stream": "stdout",
       "text": [
        "\n",
        "         Current function value: -6.235538\n",
        "         Iterations: 12\n",
        "         Function evaluations: 13\n",
        "         Gradient evaluations: 12\n",
        "         Hessian evaluations: 12\n",
        "translation : [ 0.03247774 -0.04895724 -0.03450538]\n",
        "rotation    : [  4.53214271e-04  -1.10688321e-03  -3.31095581e-05]\n",
        "\n",
        "Estimating motion at time frame 106/121...\n",
        "Optimization terminated successfully."
       ]
      },
      {
       "output_type": "stream",
       "stream": "stdout",
       "text": [
        "\n",
        "         Current function value: -6.235780\n",
        "         Iterations: 10\n",
        "         Function evaluations: 11\n",
        "         Gradient evaluations: 10\n",
        "         Hessian evaluations: 10\n",
        "translation : [ 0.01785095 -0.05106069 -0.03494933]\n",
        "rotation    : [ 0.00060876 -0.00161817  0.00074717]\n",
        "\n",
        "Estimating motion at time frame 107/121...\n",
        "Optimization terminated successfully."
       ]
      },
      {
       "output_type": "stream",
       "stream": "stdout",
       "text": [
        "\n",
        "         Current function value: -6.235988\n",
        "         Iterations: 10\n",
        "         Function evaluations: 11\n",
        "         Gradient evaluations: 10\n",
        "         Hessian evaluations: 10\n",
        "translation : [ 0.00302257 -0.06974688 -0.05528312]\n",
        "rotation    : [ 0.00162364  0.00045492 -0.00045323]\n",
        "\n",
        "Estimating motion at time frame 108/121...\n",
        "Optimization terminated successfully."
       ]
      },
      {
       "output_type": "stream",
       "stream": "stdout",
       "text": [
        "\n",
        "         Current function value: -6.236084\n",
        "         Iterations: 11\n",
        "         Function evaluations: 12\n",
        "         Gradient evaluations: 11\n",
        "         Hessian evaluations: 11\n",
        "translation : [-0.00871149 -0.04153163 -0.04834657]\n",
        "rotation    : [ -9.52606645e-06  -2.16471109e-04   8.81255510e-04]\n",
        "\n",
        "Estimating motion at time frame 109/121...\n",
        "Optimization terminated successfully."
       ]
      },
      {
       "output_type": "stream",
       "stream": "stdout",
       "text": [
        "\n",
        "         Current function value: -6.236187\n",
        "         Iterations: 10\n",
        "         Function evaluations: 11\n",
        "         Gradient evaluations: 10\n",
        "         Hessian evaluations: 10\n",
        "translation : [ 0.02316834 -0.05015323 -0.04333673]\n",
        "rotation    : [-0.00048744  0.00043442 -0.00017068]\n",
        "\n",
        "Estimating motion at time frame 110/121...\n",
        "Optimization terminated successfully."
       ]
      },
      {
       "output_type": "stream",
       "stream": "stdout",
       "text": [
        "\n",
        "         Current function value: -6.236527\n",
        "         Iterations: 11\n",
        "         Function evaluations: 12\n",
        "         Gradient evaluations: 11\n",
        "         Hessian evaluations: 11\n",
        "translation : [-0.02834035 -0.02953119 -0.05476988]\n",
        "rotation    : [-0.00024616 -0.00221471  0.0016177 ]\n",
        "\n",
        "Estimating motion at time frame 111/121...\n",
        "Optimization terminated successfully."
       ]
      },
      {
       "output_type": "stream",
       "stream": "stdout",
       "text": [
        "\n",
        "         Current function value: -6.236670\n",
        "         Iterations: 12\n",
        "         Function evaluations: 13\n",
        "         Gradient evaluations: 12\n",
        "         Hessian evaluations: 12\n",
        "translation : [-0.01786324 -0.06314113 -0.03720324]\n",
        "rotation    : [ 0.00060617  0.00029488  0.00142816]\n",
        "\n",
        "Estimating motion at time frame 112/121...\n",
        "Optimization terminated successfully."
       ]
      },
      {
       "output_type": "stream",
       "stream": "stdout",
       "text": [
        "\n",
        "         Current function value: -6.237215\n",
        "         Iterations: 14\n",
        "         Function evaluations: 15\n",
        "         Gradient evaluations: 14\n",
        "         Hessian evaluations: 14\n",
        "translation : [ 0.01488715 -0.08346608 -0.04221783]\n",
        "rotation    : [-0.00011371 -0.0021332   0.00245579]\n",
        "\n",
        "Estimating motion at time frame 113/121...\n",
        "Optimization terminated successfully."
       ]
      },
      {
       "output_type": "stream",
       "stream": "stdout",
       "text": [
        "\n",
        "         Current function value: -6.237459\n",
        "         Iterations: 14\n",
        "         Function evaluations: 15\n",
        "         Gradient evaluations: 14\n",
        "         Hessian evaluations: 14\n",
        "translation : [ 0.00216421 -0.08613206 -0.03036343]\n",
        "rotation    : [ 0.00067085 -0.00163726  0.00104928]\n",
        "\n",
        "Estimating motion at time frame 114/121...\n",
        "Optimization terminated successfully."
       ]
      },
      {
       "output_type": "stream",
       "stream": "stdout",
       "text": [
        "\n",
        "         Current function value: -6.237683\n",
        "         Iterations: 11\n",
        "         Function evaluations: 12\n",
        "         Gradient evaluations: 11\n",
        "         Hessian evaluations: 11\n",
        "translation : [-0.07555352 -0.04849964 -0.05728281]\n",
        "rotation    : [  9.14730344e-04  -1.35351164e-03   3.96415961e-05]\n",
        "\n",
        "Estimating motion at time frame 115/121...\n",
        "Optimization terminated successfully."
       ]
      },
      {
       "output_type": "stream",
       "stream": "stdout",
       "text": [
        "\n",
        "         Current function value: -6.237895\n",
        "         Iterations: 18\n",
        "         Function evaluations: 19\n",
        "         Gradient evaluations: 18\n",
        "         Hessian evaluations: 18\n",
        "translation : [ 0.01556111 -0.04192692 -0.05959638]\n",
        "rotation    : [-0.00081812 -0.00069455  0.00104077]\n",
        "\n",
        "Estimating motion at time frame 116/121...\n",
        "Optimization terminated successfully."
       ]
      },
      {
       "output_type": "stream",
       "stream": "stdout",
       "text": [
        "\n",
        "         Current function value: -6.238362\n",
        "         Iterations: 13\n",
        "         Function evaluations: 14\n",
        "         Gradient evaluations: 13\n",
        "         Hessian evaluations: 13\n",
        "translation : [-0.06641723 -0.00785703 -0.05344827]\n",
        "rotation    : [  8.09672337e-05  -3.52884649e-03   1.32273422e-03]\n",
        "\n",
        "Estimating motion at time frame 117/121...\n",
        "Optimization terminated successfully."
       ]
      },
      {
       "output_type": "stream",
       "stream": "stdout",
       "text": [
        "\n",
        "         Current function value: -6.238604\n",
        "         Iterations: 10\n",
        "         Function evaluations: 11\n",
        "         Gradient evaluations: 10\n",
        "         Hessian evaluations: 10\n",
        "translation : [-0.05304509 -0.04938412 -0.07713107]\n",
        "rotation    : [-0.00044635 -0.00016697  0.00107979]\n",
        "\n",
        "Estimating motion at time frame 118/121...\n",
        "Optimization terminated successfully."
       ]
      },
      {
       "output_type": "stream",
       "stream": "stdout",
       "text": [
        "\n",
        "         Current function value: -6.238868\n",
        "         Iterations: 11\n",
        "         Function evaluations: 12\n",
        "         Gradient evaluations: 11\n",
        "         Hessian evaluations: 11\n",
        "translation : [-0.03821609 -0.04810504 -0.082041  ]\n",
        "rotation    : [-0.00057358  0.00010136  0.00125653]\n",
        "\n",
        "Estimating motion at time frame 119/121...\n",
        "Optimization terminated successfully."
       ]
      },
      {
       "output_type": "stream",
       "stream": "stdout",
       "text": [
        "\n",
        "         Current function value: -6.239135\n",
        "         Iterations: 13\n",
        "         Function evaluations: 14\n",
        "         Gradient evaluations: 13\n",
        "         Hessian evaluations: 13\n",
        "translation : [-0.00198727 -0.05575598 -0.09046003]\n",
        "rotation    : [ 0.00032859 -0.00031882  0.00147473]\n",
        "\n",
        "Estimating motion at time frame 120/121...\n",
        "Optimization terminated successfully."
       ]
      },
      {
       "output_type": "stream",
       "stream": "stdout",
       "text": [
        "\n",
        "         Current function value: -6.239397\n",
        "         Iterations: 8\n",
        "         Function evaluations: 9\n",
        "         Gradient evaluations: 8\n",
        "         Hessian evaluations: 8\n",
        "translation : [-0.08263261 -0.08434084 -0.04361654]\n",
        "rotation    : [ 0.00116678 -0.00066513  0.00061446]\n",
        "\n",
        "Estimating motion at time frame 121/121...\n",
        "Optimization terminated successfully."
       ]
      },
      {
       "output_type": "stream",
       "stream": "stdout",
       "text": [
        "\n",
        "         Current function value: -6.239742\n",
        "         Iterations: 8\n",
        "         Function evaluations: 9\n",
        "         Gradient evaluations: 8\n",
        "         Hessian evaluations: 8\n",
        "translation : [-0.07225767 -0.07711501 -0.05993466]\n",
        "rotation    : [ 0.00180144 -0.00033877  0.00088831]\n",
        "\n",
        "Gridding..."
       ]
      },
      {
       "output_type": "stream",
       "stream": "stdout",
       "text": [
        "\n",
        "Fully resampling scan 1/121"
       ]
      },
      {
       "output_type": "stream",
       "stream": "stdout",
       "text": [
        "\n",
        "Fully resampling scan 2/121"
       ]
      },
      {
       "output_type": "stream",
       "stream": "stdout",
       "text": [
        "\n",
        "Fully resampling scan 3/121"
       ]
      },
      {
       "output_type": "stream",
       "stream": "stdout",
       "text": [
        "\n",
        "Fully resampling scan 4/121"
       ]
      },
      {
       "output_type": "stream",
       "stream": "stdout",
       "text": [
        "\n",
        "Fully resampling scan 5/121"
       ]
      },
      {
       "output_type": "stream",
       "stream": "stdout",
       "text": [
        "\n",
        "Fully resampling scan 6/121"
       ]
      },
      {
       "output_type": "stream",
       "stream": "stdout",
       "text": [
        "\n",
        "Fully resampling scan 7/121"
       ]
      },
      {
       "output_type": "stream",
       "stream": "stdout",
       "text": [
        "\n",
        "Fully resampling scan 8/121"
       ]
      },
      {
       "output_type": "stream",
       "stream": "stdout",
       "text": [
        "\n",
        "Fully resampling scan 9/121"
       ]
      },
      {
       "output_type": "stream",
       "stream": "stdout",
       "text": [
        "\n",
        "Fully resampling scan 10/121"
       ]
      },
      {
       "output_type": "stream",
       "stream": "stdout",
       "text": [
        "\n",
        "Fully resampling scan 11/121"
       ]
      },
      {
       "output_type": "stream",
       "stream": "stdout",
       "text": [
        "\n",
        "Fully resampling scan 12/121"
       ]
      },
      {
       "output_type": "stream",
       "stream": "stdout",
       "text": [
        "\n",
        "Fully resampling scan 13/121"
       ]
      },
      {
       "output_type": "stream",
       "stream": "stdout",
       "text": [
        "\n",
        "Fully resampling scan 14/121"
       ]
      },
      {
       "output_type": "stream",
       "stream": "stdout",
       "text": [
        "\n",
        "Fully resampling scan 15/121"
       ]
      },
      {
       "output_type": "stream",
       "stream": "stdout",
       "text": [
        "\n",
        "Fully resampling scan 16/121"
       ]
      },
      {
       "output_type": "stream",
       "stream": "stdout",
       "text": [
        "\n",
        "Fully resampling scan 17/121"
       ]
      },
      {
       "output_type": "stream",
       "stream": "stdout",
       "text": [
        "\n",
        "Fully resampling scan 18/121"
       ]
      },
      {
       "output_type": "stream",
       "stream": "stdout",
       "text": [
        "\n",
        "Fully resampling scan 19/121"
       ]
      },
      {
       "output_type": "stream",
       "stream": "stdout",
       "text": [
        "\n",
        "Fully resampling scan 20/121"
       ]
      },
      {
       "output_type": "stream",
       "stream": "stdout",
       "text": [
        "\n",
        "Fully resampling scan 21/121"
       ]
      },
      {
       "output_type": "stream",
       "stream": "stdout",
       "text": [
        "\n",
        "Fully resampling scan 22/121"
       ]
      },
      {
       "output_type": "stream",
       "stream": "stdout",
       "text": [
        "\n",
        "Fully resampling scan 23/121"
       ]
      },
      {
       "output_type": "stream",
       "stream": "stdout",
       "text": [
        "\n",
        "Fully resampling scan 24/121"
       ]
      },
      {
       "output_type": "stream",
       "stream": "stdout",
       "text": [
        "\n",
        "Fully resampling scan 25/121"
       ]
      },
      {
       "output_type": "stream",
       "stream": "stdout",
       "text": [
        "\n",
        "Fully resampling scan 26/121"
       ]
      },
      {
       "output_type": "stream",
       "stream": "stdout",
       "text": [
        "\n",
        "Fully resampling scan 27/121"
       ]
      },
      {
       "output_type": "stream",
       "stream": "stdout",
       "text": [
        "\n",
        "Fully resampling scan 28/121"
       ]
      },
      {
       "output_type": "stream",
       "stream": "stdout",
       "text": [
        "\n",
        "Fully resampling scan 29/121"
       ]
      },
      {
       "output_type": "stream",
       "stream": "stdout",
       "text": [
        "\n",
        "Fully resampling scan 30/121"
       ]
      },
      {
       "output_type": "stream",
       "stream": "stdout",
       "text": [
        "\n",
        "Fully resampling scan 31/121"
       ]
      },
      {
       "output_type": "stream",
       "stream": "stdout",
       "text": [
        "\n",
        "Fully resampling scan 32/121"
       ]
      },
      {
       "output_type": "stream",
       "stream": "stdout",
       "text": [
        "\n",
        "Fully resampling scan 33/121"
       ]
      },
      {
       "output_type": "stream",
       "stream": "stdout",
       "text": [
        "\n",
        "Fully resampling scan 34/121"
       ]
      },
      {
       "output_type": "stream",
       "stream": "stdout",
       "text": [
        "\n",
        "Fully resampling scan 35/121"
       ]
      },
      {
       "output_type": "stream",
       "stream": "stdout",
       "text": [
        "\n",
        "Fully resampling scan 36/121"
       ]
      },
      {
       "output_type": "stream",
       "stream": "stdout",
       "text": [
        "\n",
        "Fully resampling scan 37/121"
       ]
      },
      {
       "output_type": "stream",
       "stream": "stdout",
       "text": [
        "\n",
        "Fully resampling scan 38/121"
       ]
      },
      {
       "output_type": "stream",
       "stream": "stdout",
       "text": [
        "\n",
        "Fully resampling scan 39/121"
       ]
      },
      {
       "output_type": "stream",
       "stream": "stdout",
       "text": [
        "\n",
        "Fully resampling scan 40/121"
       ]
      },
      {
       "output_type": "stream",
       "stream": "stdout",
       "text": [
        "\n",
        "Fully resampling scan 41/121"
       ]
      },
      {
       "output_type": "stream",
       "stream": "stdout",
       "text": [
        "\n",
        "Fully resampling scan 42/121"
       ]
      },
      {
       "output_type": "stream",
       "stream": "stdout",
       "text": [
        "\n",
        "Fully resampling scan 43/121"
       ]
      },
      {
       "output_type": "stream",
       "stream": "stdout",
       "text": [
        "\n",
        "Fully resampling scan 44/121"
       ]
      },
      {
       "output_type": "stream",
       "stream": "stdout",
       "text": [
        "\n",
        "Fully resampling scan 45/121"
       ]
      },
      {
       "output_type": "stream",
       "stream": "stdout",
       "text": [
        "\n",
        "Fully resampling scan 46/121"
       ]
      },
      {
       "output_type": "stream",
       "stream": "stdout",
       "text": [
        "\n",
        "Fully resampling scan 47/121"
       ]
      },
      {
       "output_type": "stream",
       "stream": "stdout",
       "text": [
        "\n",
        "Fully resampling scan 48/121"
       ]
      },
      {
       "output_type": "stream",
       "stream": "stdout",
       "text": [
        "\n",
        "Fully resampling scan 49/121"
       ]
      },
      {
       "output_type": "stream",
       "stream": "stdout",
       "text": [
        "\n",
        "Fully resampling scan 50/121"
       ]
      },
      {
       "output_type": "stream",
       "stream": "stdout",
       "text": [
        "\n",
        "Fully resampling scan 51/121"
       ]
      },
      {
       "output_type": "stream",
       "stream": "stdout",
       "text": [
        "\n",
        "Fully resampling scan 52/121"
       ]
      },
      {
       "output_type": "stream",
       "stream": "stdout",
       "text": [
        "\n",
        "Fully resampling scan 53/121"
       ]
      },
      {
       "output_type": "stream",
       "stream": "stdout",
       "text": [
        "\n",
        "Fully resampling scan 54/121"
       ]
      },
      {
       "output_type": "stream",
       "stream": "stdout",
       "text": [
        "\n",
        "Fully resampling scan 55/121"
       ]
      },
      {
       "output_type": "stream",
       "stream": "stdout",
       "text": [
        "\n",
        "Fully resampling scan 56/121"
       ]
      },
      {
       "output_type": "stream",
       "stream": "stdout",
       "text": [
        "\n",
        "Fully resampling scan 57/121"
       ]
      },
      {
       "output_type": "stream",
       "stream": "stdout",
       "text": [
        "\n",
        "Fully resampling scan 58/121"
       ]
      },
      {
       "output_type": "stream",
       "stream": "stdout",
       "text": [
        "\n",
        "Fully resampling scan 59/121"
       ]
      },
      {
       "output_type": "stream",
       "stream": "stdout",
       "text": [
        "\n",
        "Fully resampling scan 60/121"
       ]
      },
      {
       "output_type": "stream",
       "stream": "stdout",
       "text": [
        "\n",
        "Fully resampling scan 61/121"
       ]
      },
      {
       "output_type": "stream",
       "stream": "stdout",
       "text": [
        "\n",
        "Fully resampling scan 62/121"
       ]
      },
      {
       "output_type": "stream",
       "stream": "stdout",
       "text": [
        "\n",
        "Fully resampling scan 63/121"
       ]
      },
      {
       "output_type": "stream",
       "stream": "stdout",
       "text": [
        "\n",
        "Fully resampling scan 64/121"
       ]
      },
      {
       "output_type": "stream",
       "stream": "stdout",
       "text": [
        "\n",
        "Fully resampling scan 65/121"
       ]
      },
      {
       "output_type": "stream",
       "stream": "stdout",
       "text": [
        "\n",
        "Fully resampling scan 66/121"
       ]
      },
      {
       "output_type": "stream",
       "stream": "stdout",
       "text": [
        "\n",
        "Fully resampling scan 67/121"
       ]
      },
      {
       "output_type": "stream",
       "stream": "stdout",
       "text": [
        "\n",
        "Fully resampling scan 68/121"
       ]
      },
      {
       "output_type": "stream",
       "stream": "stdout",
       "text": [
        "\n",
        "Fully resampling scan 69/121"
       ]
      },
      {
       "output_type": "stream",
       "stream": "stdout",
       "text": [
        "\n",
        "Fully resampling scan 70/121"
       ]
      },
      {
       "output_type": "stream",
       "stream": "stdout",
       "text": [
        "\n",
        "Fully resampling scan 71/121"
       ]
      },
      {
       "output_type": "stream",
       "stream": "stdout",
       "text": [
        "\n",
        "Fully resampling scan 72/121"
       ]
      },
      {
       "output_type": "stream",
       "stream": "stdout",
       "text": [
        "\n",
        "Fully resampling scan 73/121"
       ]
      },
      {
       "output_type": "stream",
       "stream": "stdout",
       "text": [
        "\n",
        "Fully resampling scan 74/121"
       ]
      },
      {
       "output_type": "stream",
       "stream": "stdout",
       "text": [
        "\n",
        "Fully resampling scan 75/121"
       ]
      },
      {
       "output_type": "stream",
       "stream": "stdout",
       "text": [
        "\n",
        "Fully resampling scan 76/121"
       ]
      },
      {
       "output_type": "stream",
       "stream": "stdout",
       "text": [
        "\n",
        "Fully resampling scan 77/121"
       ]
      },
      {
       "output_type": "stream",
       "stream": "stdout",
       "text": [
        "\n",
        "Fully resampling scan 78/121"
       ]
      },
      {
       "output_type": "stream",
       "stream": "stdout",
       "text": [
        "\n",
        "Fully resampling scan 79/121"
       ]
      },
      {
       "output_type": "stream",
       "stream": "stdout",
       "text": [
        "\n",
        "Fully resampling scan 80/121"
       ]
      },
      {
       "output_type": "stream",
       "stream": "stdout",
       "text": [
        "\n",
        "Fully resampling scan 81/121"
       ]
      },
      {
       "output_type": "stream",
       "stream": "stdout",
       "text": [
        "\n",
        "Fully resampling scan 82/121"
       ]
      },
      {
       "output_type": "stream",
       "stream": "stdout",
       "text": [
        "\n",
        "Fully resampling scan 83/121"
       ]
      },
      {
       "output_type": "stream",
       "stream": "stdout",
       "text": [
        "\n",
        "Fully resampling scan 84/121"
       ]
      },
      {
       "output_type": "stream",
       "stream": "stdout",
       "text": [
        "\n",
        "Fully resampling scan 85/121"
       ]
      },
      {
       "output_type": "stream",
       "stream": "stdout",
       "text": [
        "\n",
        "Fully resampling scan 86/121"
       ]
      },
      {
       "output_type": "stream",
       "stream": "stdout",
       "text": [
        "\n",
        "Fully resampling scan 87/121"
       ]
      },
      {
       "output_type": "stream",
       "stream": "stdout",
       "text": [
        "\n",
        "Fully resampling scan 88/121"
       ]
      },
      {
       "output_type": "stream",
       "stream": "stdout",
       "text": [
        "\n",
        "Fully resampling scan 89/121"
       ]
      },
      {
       "output_type": "stream",
       "stream": "stdout",
       "text": [
        "\n",
        "Fully resampling scan 90/121"
       ]
      },
      {
       "output_type": "stream",
       "stream": "stdout",
       "text": [
        "\n",
        "Fully resampling scan 91/121"
       ]
      },
      {
       "output_type": "stream",
       "stream": "stdout",
       "text": [
        "\n",
        "Fully resampling scan 92/121"
       ]
      },
      {
       "output_type": "stream",
       "stream": "stdout",
       "text": [
        "\n",
        "Fully resampling scan 93/121"
       ]
      },
      {
       "output_type": "stream",
       "stream": "stdout",
       "text": [
        "\n",
        "Fully resampling scan 94/121"
       ]
      },
      {
       "output_type": "stream",
       "stream": "stdout",
       "text": [
        "\n",
        "Fully resampling scan 95/121"
       ]
      },
      {
       "output_type": "stream",
       "stream": "stdout",
       "text": [
        "\n",
        "Fully resampling scan 96/121"
       ]
      },
      {
       "output_type": "stream",
       "stream": "stdout",
       "text": [
        "\n",
        "Fully resampling scan 97/121"
       ]
      },
      {
       "output_type": "stream",
       "stream": "stdout",
       "text": [
        "\n",
        "Fully resampling scan 98/121"
       ]
      },
      {
       "output_type": "stream",
       "stream": "stdout",
       "text": [
        "\n",
        "Fully resampling scan 99/121"
       ]
      },
      {
       "output_type": "stream",
       "stream": "stdout",
       "text": [
        "\n",
        "Fully resampling scan 100/121"
       ]
      },
      {
       "output_type": "stream",
       "stream": "stdout",
       "text": [
        "\n",
        "Fully resampling scan 101/121"
       ]
      },
      {
       "output_type": "stream",
       "stream": "stdout",
       "text": [
        "\n",
        "Fully resampling scan 102/121"
       ]
      },
      {
       "output_type": "stream",
       "stream": "stdout",
       "text": [
        "\n",
        "Fully resampling scan 103/121"
       ]
      },
      {
       "output_type": "stream",
       "stream": "stdout",
       "text": [
        "\n",
        "Fully resampling scan 104/121"
       ]
      },
      {
       "output_type": "stream",
       "stream": "stdout",
       "text": [
        "\n",
        "Fully resampling scan 105/121"
       ]
      },
      {
       "output_type": "stream",
       "stream": "stdout",
       "text": [
        "\n",
        "Fully resampling scan 106/121"
       ]
      },
      {
       "output_type": "stream",
       "stream": "stdout",
       "text": [
        "\n",
        "Fully resampling scan 107/121"
       ]
      },
      {
       "output_type": "stream",
       "stream": "stdout",
       "text": [
        "\n",
        "Fully resampling scan 108/121"
       ]
      },
      {
       "output_type": "stream",
       "stream": "stdout",
       "text": [
        "\n",
        "Fully resampling scan 109/121"
       ]
      },
      {
       "output_type": "stream",
       "stream": "stdout",
       "text": [
        "\n",
        "Fully resampling scan 110/121"
       ]
      },
      {
       "output_type": "stream",
       "stream": "stdout",
       "text": [
        "\n",
        "Fully resampling scan 111/121"
       ]
      },
      {
       "output_type": "stream",
       "stream": "stdout",
       "text": [
        "\n",
        "Fully resampling scan 112/121"
       ]
      },
      {
       "output_type": "stream",
       "stream": "stdout",
       "text": [
        "\n",
        "Fully resampling scan 113/121"
       ]
      },
      {
       "output_type": "stream",
       "stream": "stdout",
       "text": [
        "\n",
        "Fully resampling scan 114/121"
       ]
      },
      {
       "output_type": "stream",
       "stream": "stdout",
       "text": [
        "\n",
        "Fully resampling scan 115/121"
       ]
      },
      {
       "output_type": "stream",
       "stream": "stdout",
       "text": [
        "\n",
        "Fully resampling scan 116/121"
       ]
      },
      {
       "output_type": "stream",
       "stream": "stdout",
       "text": [
        "\n",
        "Fully resampling scan 117/121"
       ]
      },
      {
       "output_type": "stream",
       "stream": "stdout",
       "text": [
        "\n",
        "Fully resampling scan 118/121"
       ]
      },
      {
       "output_type": "stream",
       "stream": "stdout",
       "text": [
        "\n",
        "Fully resampling scan 119/121"
       ]
      },
      {
       "output_type": "stream",
       "stream": "stdout",
       "text": [
        "\n",
        "Fully resampling scan 120/121"
       ]
      },
      {
       "output_type": "stream",
       "stream": "stdout",
       "text": [
        "\n",
        "Fully resampling scan 121/121"
       ]
      },
      {
       "output_type": "stream",
       "stream": "stdout",
       "text": [
        "\n",
        "Gridding..."
       ]
      },
      {
       "output_type": "stream",
       "stream": "stdout",
       "text": [
        "\n",
        "Fully resampling scan 1/121"
       ]
      },
      {
       "output_type": "stream",
       "stream": "stdout",
       "text": [
        "\n",
        "Fully resampling scan 2/121"
       ]
      },
      {
       "output_type": "stream",
       "stream": "stdout",
       "text": [
        "\n",
        "Fully resampling scan 3/121"
       ]
      },
      {
       "output_type": "stream",
       "stream": "stdout",
       "text": [
        "\n",
        "Fully resampling scan 4/121"
       ]
      },
      {
       "output_type": "stream",
       "stream": "stdout",
       "text": [
        "\n",
        "Fully resampling scan 5/121"
       ]
      },
      {
       "output_type": "stream",
       "stream": "stdout",
       "text": [
        "\n",
        "Fully resampling scan 6/121"
       ]
      },
      {
       "output_type": "stream",
       "stream": "stdout",
       "text": [
        "\n",
        "Fully resampling scan 7/121"
       ]
      },
      {
       "output_type": "stream",
       "stream": "stdout",
       "text": [
        "\n",
        "Fully resampling scan 8/121"
       ]
      },
      {
       "output_type": "stream",
       "stream": "stdout",
       "text": [
        "\n",
        "Fully resampling scan 9/121"
       ]
      },
      {
       "output_type": "stream",
       "stream": "stdout",
       "text": [
        "\n",
        "Fully resampling scan 10/121"
       ]
      },
      {
       "output_type": "stream",
       "stream": "stdout",
       "text": [
        "\n",
        "Fully resampling scan 11/121"
       ]
      },
      {
       "output_type": "stream",
       "stream": "stdout",
       "text": [
        "\n",
        "Fully resampling scan 12/121"
       ]
      },
      {
       "output_type": "stream",
       "stream": "stdout",
       "text": [
        "\n",
        "Fully resampling scan 13/121"
       ]
      },
      {
       "output_type": "stream",
       "stream": "stdout",
       "text": [
        "\n",
        "Fully resampling scan 14/121"
       ]
      },
      {
       "output_type": "stream",
       "stream": "stdout",
       "text": [
        "\n",
        "Fully resampling scan 15/121"
       ]
      },
      {
       "output_type": "stream",
       "stream": "stdout",
       "text": [
        "\n",
        "Fully resampling scan 16/121"
       ]
      },
      {
       "output_type": "stream",
       "stream": "stdout",
       "text": [
        "\n",
        "Fully resampling scan 17/121"
       ]
      },
      {
       "output_type": "stream",
       "stream": "stdout",
       "text": [
        "\n",
        "Fully resampling scan 18/121"
       ]
      },
      {
       "output_type": "stream",
       "stream": "stdout",
       "text": [
        "\n",
        "Fully resampling scan 19/121"
       ]
      },
      {
       "output_type": "stream",
       "stream": "stdout",
       "text": [
        "\n",
        "Fully resampling scan 20/121"
       ]
      },
      {
       "output_type": "stream",
       "stream": "stdout",
       "text": [
        "\n",
        "Fully resampling scan 21/121"
       ]
      },
      {
       "output_type": "stream",
       "stream": "stdout",
       "text": [
        "\n",
        "Fully resampling scan 22/121"
       ]
      },
      {
       "output_type": "stream",
       "stream": "stdout",
       "text": [
        "\n",
        "Fully resampling scan 23/121"
       ]
      },
      {
       "output_type": "stream",
       "stream": "stdout",
       "text": [
        "\n",
        "Fully resampling scan 24/121"
       ]
      },
      {
       "output_type": "stream",
       "stream": "stdout",
       "text": [
        "\n",
        "Fully resampling scan 25/121"
       ]
      },
      {
       "output_type": "stream",
       "stream": "stdout",
       "text": [
        "\n",
        "Fully resampling scan 26/121"
       ]
      },
      {
       "output_type": "stream",
       "stream": "stdout",
       "text": [
        "\n",
        "Fully resampling scan 27/121"
       ]
      },
      {
       "output_type": "stream",
       "stream": "stdout",
       "text": [
        "\n",
        "Fully resampling scan 28/121"
       ]
      },
      {
       "output_type": "stream",
       "stream": "stdout",
       "text": [
        "\n",
        "Fully resampling scan 29/121"
       ]
      },
      {
       "output_type": "stream",
       "stream": "stdout",
       "text": [
        "\n",
        "Fully resampling scan 30/121"
       ]
      },
      {
       "output_type": "stream",
       "stream": "stdout",
       "text": [
        "\n",
        "Fully resampling scan 31/121"
       ]
      },
      {
       "output_type": "stream",
       "stream": "stdout",
       "text": [
        "\n",
        "Fully resampling scan 32/121"
       ]
      },
      {
       "output_type": "stream",
       "stream": "stdout",
       "text": [
        "\n",
        "Fully resampling scan 33/121"
       ]
      },
      {
       "output_type": "stream",
       "stream": "stdout",
       "text": [
        "\n",
        "Fully resampling scan 34/121"
       ]
      },
      {
       "output_type": "stream",
       "stream": "stdout",
       "text": [
        "\n",
        "Fully resampling scan 35/121"
       ]
      },
      {
       "output_type": "stream",
       "stream": "stdout",
       "text": [
        "\n",
        "Fully resampling scan 36/121"
       ]
      },
      {
       "output_type": "stream",
       "stream": "stdout",
       "text": [
        "\n",
        "Fully resampling scan 37/121"
       ]
      },
      {
       "output_type": "stream",
       "stream": "stdout",
       "text": [
        "\n",
        "Fully resampling scan 38/121"
       ]
      },
      {
       "output_type": "stream",
       "stream": "stdout",
       "text": [
        "\n",
        "Fully resampling scan 39/121"
       ]
      },
      {
       "output_type": "stream",
       "stream": "stdout",
       "text": [
        "\n",
        "Fully resampling scan 40/121"
       ]
      },
      {
       "output_type": "stream",
       "stream": "stdout",
       "text": [
        "\n",
        "Fully resampling scan 41/121"
       ]
      },
      {
       "output_type": "stream",
       "stream": "stdout",
       "text": [
        "\n",
        "Fully resampling scan 42/121"
       ]
      },
      {
       "output_type": "stream",
       "stream": "stdout",
       "text": [
        "\n",
        "Fully resampling scan 43/121"
       ]
      },
      {
       "output_type": "stream",
       "stream": "stdout",
       "text": [
        "\n",
        "Fully resampling scan 44/121"
       ]
      },
      {
       "output_type": "stream",
       "stream": "stdout",
       "text": [
        "\n",
        "Fully resampling scan 45/121"
       ]
      },
      {
       "output_type": "stream",
       "stream": "stdout",
       "text": [
        "\n",
        "Fully resampling scan 46/121"
       ]
      },
      {
       "output_type": "stream",
       "stream": "stdout",
       "text": [
        "\n",
        "Fully resampling scan 47/121"
       ]
      },
      {
       "output_type": "stream",
       "stream": "stdout",
       "text": [
        "\n",
        "Fully resampling scan 48/121"
       ]
      },
      {
       "output_type": "stream",
       "stream": "stdout",
       "text": [
        "\n",
        "Fully resampling scan 49/121"
       ]
      },
      {
       "output_type": "stream",
       "stream": "stdout",
       "text": [
        "\n",
        "Fully resampling scan 50/121"
       ]
      },
      {
       "output_type": "stream",
       "stream": "stdout",
       "text": [
        "\n",
        "Fully resampling scan 51/121"
       ]
      },
      {
       "output_type": "stream",
       "stream": "stdout",
       "text": [
        "\n",
        "Fully resampling scan 52/121"
       ]
      },
      {
       "output_type": "stream",
       "stream": "stdout",
       "text": [
        "\n",
        "Fully resampling scan 53/121"
       ]
      },
      {
       "output_type": "stream",
       "stream": "stdout",
       "text": [
        "\n",
        "Fully resampling scan 54/121"
       ]
      },
      {
       "output_type": "stream",
       "stream": "stdout",
       "text": [
        "\n",
        "Fully resampling scan 55/121"
       ]
      },
      {
       "output_type": "stream",
       "stream": "stdout",
       "text": [
        "\n",
        "Fully resampling scan 56/121"
       ]
      },
      {
       "output_type": "stream",
       "stream": "stdout",
       "text": [
        "\n",
        "Fully resampling scan 57/121"
       ]
      },
      {
       "output_type": "stream",
       "stream": "stdout",
       "text": [
        "\n",
        "Fully resampling scan 58/121"
       ]
      },
      {
       "output_type": "stream",
       "stream": "stdout",
       "text": [
        "\n",
        "Fully resampling scan 59/121"
       ]
      },
      {
       "output_type": "stream",
       "stream": "stdout",
       "text": [
        "\n",
        "Fully resampling scan 60/121"
       ]
      },
      {
       "output_type": "stream",
       "stream": "stdout",
       "text": [
        "\n",
        "Fully resampling scan 61/121"
       ]
      },
      {
       "output_type": "stream",
       "stream": "stdout",
       "text": [
        "\n",
        "Fully resampling scan 62/121"
       ]
      },
      {
       "output_type": "stream",
       "stream": "stdout",
       "text": [
        "\n",
        "Fully resampling scan 63/121"
       ]
      },
      {
       "output_type": "stream",
       "stream": "stdout",
       "text": [
        "\n",
        "Fully resampling scan 64/121"
       ]
      },
      {
       "output_type": "stream",
       "stream": "stdout",
       "text": [
        "\n",
        "Fully resampling scan 65/121"
       ]
      },
      {
       "output_type": "stream",
       "stream": "stdout",
       "text": [
        "\n",
        "Fully resampling scan 66/121"
       ]
      },
      {
       "output_type": "stream",
       "stream": "stdout",
       "text": [
        "\n",
        "Fully resampling scan 67/121"
       ]
      },
      {
       "output_type": "stream",
       "stream": "stdout",
       "text": [
        "\n",
        "Fully resampling scan 68/121"
       ]
      },
      {
       "output_type": "stream",
       "stream": "stdout",
       "text": [
        "\n",
        "Fully resampling scan 69/121"
       ]
      },
      {
       "output_type": "stream",
       "stream": "stdout",
       "text": [
        "\n",
        "Fully resampling scan 70/121"
       ]
      },
      {
       "output_type": "stream",
       "stream": "stdout",
       "text": [
        "\n",
        "Fully resampling scan 71/121"
       ]
      },
      {
       "output_type": "stream",
       "stream": "stdout",
       "text": [
        "\n",
        "Fully resampling scan 72/121"
       ]
      },
      {
       "output_type": "stream",
       "stream": "stdout",
       "text": [
        "\n",
        "Fully resampling scan 73/121"
       ]
      },
      {
       "output_type": "stream",
       "stream": "stdout",
       "text": [
        "\n",
        "Fully resampling scan 74/121"
       ]
      },
      {
       "output_type": "stream",
       "stream": "stdout",
       "text": [
        "\n",
        "Fully resampling scan 75/121"
       ]
      },
      {
       "output_type": "stream",
       "stream": "stdout",
       "text": [
        "\n",
        "Fully resampling scan 76/121"
       ]
      },
      {
       "output_type": "stream",
       "stream": "stdout",
       "text": [
        "\n",
        "Fully resampling scan 77/121"
       ]
      },
      {
       "output_type": "stream",
       "stream": "stdout",
       "text": [
        "\n",
        "Fully resampling scan 78/121"
       ]
      },
      {
       "output_type": "stream",
       "stream": "stdout",
       "text": [
        "\n",
        "Fully resampling scan 79/121"
       ]
      },
      {
       "output_type": "stream",
       "stream": "stdout",
       "text": [
        "\n",
        "Fully resampling scan 80/121"
       ]
      },
      {
       "output_type": "stream",
       "stream": "stdout",
       "text": [
        "\n",
        "Fully resampling scan 81/121"
       ]
      },
      {
       "output_type": "stream",
       "stream": "stdout",
       "text": [
        "\n",
        "Fully resampling scan 82/121"
       ]
      },
      {
       "output_type": "stream",
       "stream": "stdout",
       "text": [
        "\n",
        "Fully resampling scan 83/121"
       ]
      },
      {
       "output_type": "stream",
       "stream": "stdout",
       "text": [
        "\n",
        "Fully resampling scan 84/121"
       ]
      },
      {
       "output_type": "stream",
       "stream": "stdout",
       "text": [
        "\n",
        "Fully resampling scan 85/121"
       ]
      },
      {
       "output_type": "stream",
       "stream": "stdout",
       "text": [
        "\n",
        "Fully resampling scan 86/121"
       ]
      },
      {
       "output_type": "stream",
       "stream": "stdout",
       "text": [
        "\n",
        "Fully resampling scan 87/121"
       ]
      },
      {
       "output_type": "stream",
       "stream": "stdout",
       "text": [
        "\n",
        "Fully resampling scan 88/121"
       ]
      },
      {
       "output_type": "stream",
       "stream": "stdout",
       "text": [
        "\n",
        "Fully resampling scan 89/121"
       ]
      },
      {
       "output_type": "stream",
       "stream": "stdout",
       "text": [
        "\n",
        "Fully resampling scan 90/121"
       ]
      },
      {
       "output_type": "stream",
       "stream": "stdout",
       "text": [
        "\n",
        "Fully resampling scan 91/121"
       ]
      },
      {
       "output_type": "stream",
       "stream": "stdout",
       "text": [
        "\n",
        "Fully resampling scan 92/121"
       ]
      },
      {
       "output_type": "stream",
       "stream": "stdout",
       "text": [
        "\n",
        "Fully resampling scan 93/121"
       ]
      },
      {
       "output_type": "stream",
       "stream": "stdout",
       "text": [
        "\n",
        "Fully resampling scan 94/121"
       ]
      },
      {
       "output_type": "stream",
       "stream": "stdout",
       "text": [
        "\n",
        "Fully resampling scan 95/121"
       ]
      },
      {
       "output_type": "stream",
       "stream": "stdout",
       "text": [
        "\n",
        "Fully resampling scan 96/121"
       ]
      },
      {
       "output_type": "stream",
       "stream": "stdout",
       "text": [
        "\n",
        "Fully resampling scan 97/121"
       ]
      },
      {
       "output_type": "stream",
       "stream": "stdout",
       "text": [
        "\n",
        "Fully resampling scan 98/121"
       ]
      },
      {
       "output_type": "stream",
       "stream": "stdout",
       "text": [
        "\n",
        "Fully resampling scan 99/121"
       ]
      },
      {
       "output_type": "stream",
       "stream": "stdout",
       "text": [
        "\n",
        "Fully resampling scan 100/121"
       ]
      },
      {
       "output_type": "stream",
       "stream": "stdout",
       "text": [
        "\n",
        "Fully resampling scan 101/121"
       ]
      },
      {
       "output_type": "stream",
       "stream": "stdout",
       "text": [
        "\n",
        "Fully resampling scan 102/121"
       ]
      },
      {
       "output_type": "stream",
       "stream": "stdout",
       "text": [
        "\n",
        "Fully resampling scan 103/121"
       ]
      },
      {
       "output_type": "stream",
       "stream": "stdout",
       "text": [
        "\n",
        "Fully resampling scan 104/121"
       ]
      },
      {
       "output_type": "stream",
       "stream": "stdout",
       "text": [
        "\n",
        "Fully resampling scan 105/121"
       ]
      },
      {
       "output_type": "stream",
       "stream": "stdout",
       "text": [
        "\n",
        "Fully resampling scan 106/121"
       ]
      },
      {
       "output_type": "stream",
       "stream": "stdout",
       "text": [
        "\n",
        "Fully resampling scan 107/121"
       ]
      },
      {
       "output_type": "stream",
       "stream": "stdout",
       "text": [
        "\n",
        "Fully resampling scan 108/121"
       ]
      },
      {
       "output_type": "stream",
       "stream": "stdout",
       "text": [
        "\n",
        "Fully resampling scan 109/121"
       ]
      },
      {
       "output_type": "stream",
       "stream": "stdout",
       "text": [
        "\n",
        "Fully resampling scan 110/121"
       ]
      },
      {
       "output_type": "stream",
       "stream": "stdout",
       "text": [
        "\n",
        "Fully resampling scan 111/121"
       ]
      },
      {
       "output_type": "stream",
       "stream": "stdout",
       "text": [
        "\n",
        "Fully resampling scan 112/121"
       ]
      },
      {
       "output_type": "stream",
       "stream": "stdout",
       "text": [
        "\n",
        "Fully resampling scan 113/121"
       ]
      },
      {
       "output_type": "stream",
       "stream": "stdout",
       "text": [
        "\n",
        "Fully resampling scan 114/121"
       ]
      },
      {
       "output_type": "stream",
       "stream": "stdout",
       "text": [
        "\n",
        "Fully resampling scan 115/121"
       ]
      },
      {
       "output_type": "stream",
       "stream": "stdout",
       "text": [
        "\n",
        "Fully resampling scan 116/121"
       ]
      },
      {
       "output_type": "stream",
       "stream": "stdout",
       "text": [
        "\n",
        "Fully resampling scan 117/121"
       ]
      },
      {
       "output_type": "stream",
       "stream": "stdout",
       "text": [
        "\n",
        "Fully resampling scan 118/121"
       ]
      },
      {
       "output_type": "stream",
       "stream": "stdout",
       "text": [
        "\n",
        "Fully resampling scan 119/121"
       ]
      },
      {
       "output_type": "stream",
       "stream": "stdout",
       "text": [
        "\n",
        "Fully resampling scan 120/121"
       ]
      },
      {
       "output_type": "stream",
       "stream": "stdout",
       "text": [
        "\n",
        "Fully resampling scan 121/121"
       ]
      },
      {
       "output_type": "stream",
       "stream": "stdout",
       "text": [
        "\n",
        "Resampling scan 1/2"
       ]
      },
      {
       "output_type": "stream",
       "stream": "stdout",
       "text": [
        "\n",
        "Resampling scan 2/2\n",
        "Estimating motion at time frame 1/2...\n",
        "Optimization terminated successfully."
       ]
      },
      {
       "output_type": "stream",
       "stream": "stdout",
       "text": [
        "\n",
        "         Current function value: -6.882755\n",
        "         Iterations: 6\n",
        "         Function evaluations: 7\n",
        "         Gradient evaluations: 6\n",
        "         Hessian evaluations: 6\n",
        "translation : [ 0.10655827  0.00553445  0.0463401 ]\n",
        "rotation    : [  2.46113155e-05   1.22622251e-04   1.22764440e-03]\n",
        "\n",
        "Estimating motion at time frame 2/2...\n",
        "Optimization terminated successfully."
       ]
      },
      {
       "output_type": "stream",
       "stream": "stdout",
       "text": [
        "\n",
        "         Current function value: -6.886646\n",
        "         Iterations: 7\n",
        "         Function evaluations: 8\n",
        "         Gradient evaluations: 7\n",
        "         Hessian evaluations: 7\n",
        "translation : [ 0.0028804  -0.00283283 -0.01269608]\n",
        "rotation    : [-0.00016215 -0.00064388 -0.00054968]\n",
        "\n"
       ]
      }
     ],
     "prompt_number": 11
    },
    {
     "cell_type": "markdown",
     "metadata": {},
     "source": [
      "Resample first run using motion estimates:"
     ]
    },
    {
     "cell_type": "code",
     "collapsed": false,
     "input": [
      "resample_run0 = R.resample(0)"
     ],
     "language": "python",
     "metadata": {},
     "outputs": [
      {
       "output_type": "stream",
       "stream": "stdout",
       "text": [
        "Gridding...\n",
        "Fully resampling scan 1/121"
       ]
      },
      {
       "output_type": "stream",
       "stream": "stdout",
       "text": [
        "\n",
        "Fully resampling scan 2/121"
       ]
      },
      {
       "output_type": "stream",
       "stream": "stdout",
       "text": [
        "\n",
        "Fully resampling scan 3/121"
       ]
      },
      {
       "output_type": "stream",
       "stream": "stdout",
       "text": [
        "\n",
        "Fully resampling scan 4/121"
       ]
      },
      {
       "output_type": "stream",
       "stream": "stdout",
       "text": [
        "\n",
        "Fully resampling scan 5/121"
       ]
      },
      {
       "output_type": "stream",
       "stream": "stdout",
       "text": [
        "\n",
        "Fully resampling scan 6/121"
       ]
      },
      {
       "output_type": "stream",
       "stream": "stdout",
       "text": [
        "\n",
        "Fully resampling scan 7/121"
       ]
      },
      {
       "output_type": "stream",
       "stream": "stdout",
       "text": [
        "\n",
        "Fully resampling scan 8/121"
       ]
      },
      {
       "output_type": "stream",
       "stream": "stdout",
       "text": [
        "\n",
        "Fully resampling scan 9/121"
       ]
      },
      {
       "output_type": "stream",
       "stream": "stdout",
       "text": [
        "\n",
        "Fully resampling scan 10/121"
       ]
      },
      {
       "output_type": "stream",
       "stream": "stdout",
       "text": [
        "\n",
        "Fully resampling scan 11/121"
       ]
      },
      {
       "output_type": "stream",
       "stream": "stdout",
       "text": [
        "\n",
        "Fully resampling scan 12/121"
       ]
      },
      {
       "output_type": "stream",
       "stream": "stdout",
       "text": [
        "\n",
        "Fully resampling scan 13/121"
       ]
      },
      {
       "output_type": "stream",
       "stream": "stdout",
       "text": [
        "\n",
        "Fully resampling scan 14/121"
       ]
      },
      {
       "output_type": "stream",
       "stream": "stdout",
       "text": [
        "\n",
        "Fully resampling scan 15/121"
       ]
      },
      {
       "output_type": "stream",
       "stream": "stdout",
       "text": [
        "\n",
        "Fully resampling scan 16/121"
       ]
      },
      {
       "output_type": "stream",
       "stream": "stdout",
       "text": [
        "\n",
        "Fully resampling scan 17/121"
       ]
      },
      {
       "output_type": "stream",
       "stream": "stdout",
       "text": [
        "\n",
        "Fully resampling scan 18/121"
       ]
      },
      {
       "output_type": "stream",
       "stream": "stdout",
       "text": [
        "\n",
        "Fully resampling scan 19/121"
       ]
      },
      {
       "output_type": "stream",
       "stream": "stdout",
       "text": [
        "\n",
        "Fully resampling scan 20/121"
       ]
      },
      {
       "output_type": "stream",
       "stream": "stdout",
       "text": [
        "\n",
        "Fully resampling scan 21/121"
       ]
      },
      {
       "output_type": "stream",
       "stream": "stdout",
       "text": [
        "\n",
        "Fully resampling scan 22/121"
       ]
      },
      {
       "output_type": "stream",
       "stream": "stdout",
       "text": [
        "\n",
        "Fully resampling scan 23/121"
       ]
      },
      {
       "output_type": "stream",
       "stream": "stdout",
       "text": [
        "\n",
        "Fully resampling scan 24/121"
       ]
      },
      {
       "output_type": "stream",
       "stream": "stdout",
       "text": [
        "\n",
        "Fully resampling scan 25/121"
       ]
      },
      {
       "output_type": "stream",
       "stream": "stdout",
       "text": [
        "\n",
        "Fully resampling scan 26/121"
       ]
      },
      {
       "output_type": "stream",
       "stream": "stdout",
       "text": [
        "\n",
        "Fully resampling scan 27/121"
       ]
      },
      {
       "output_type": "stream",
       "stream": "stdout",
       "text": [
        "\n",
        "Fully resampling scan 28/121"
       ]
      },
      {
       "output_type": "stream",
       "stream": "stdout",
       "text": [
        "\n",
        "Fully resampling scan 29/121"
       ]
      },
      {
       "output_type": "stream",
       "stream": "stdout",
       "text": [
        "\n",
        "Fully resampling scan 30/121"
       ]
      },
      {
       "output_type": "stream",
       "stream": "stdout",
       "text": [
        "\n",
        "Fully resampling scan 31/121"
       ]
      },
      {
       "output_type": "stream",
       "stream": "stdout",
       "text": [
        "\n",
        "Fully resampling scan 32/121"
       ]
      },
      {
       "output_type": "stream",
       "stream": "stdout",
       "text": [
        "\n",
        "Fully resampling scan 33/121"
       ]
      },
      {
       "output_type": "stream",
       "stream": "stdout",
       "text": [
        "\n",
        "Fully resampling scan 34/121"
       ]
      },
      {
       "output_type": "stream",
       "stream": "stdout",
       "text": [
        "\n",
        "Fully resampling scan 35/121"
       ]
      },
      {
       "output_type": "stream",
       "stream": "stdout",
       "text": [
        "\n",
        "Fully resampling scan 36/121"
       ]
      },
      {
       "output_type": "stream",
       "stream": "stdout",
       "text": [
        "\n",
        "Fully resampling scan 37/121"
       ]
      },
      {
       "output_type": "stream",
       "stream": "stdout",
       "text": [
        "\n",
        "Fully resampling scan 38/121"
       ]
      },
      {
       "output_type": "stream",
       "stream": "stdout",
       "text": [
        "\n",
        "Fully resampling scan 39/121"
       ]
      },
      {
       "output_type": "stream",
       "stream": "stdout",
       "text": [
        "\n",
        "Fully resampling scan 40/121"
       ]
      },
      {
       "output_type": "stream",
       "stream": "stdout",
       "text": [
        "\n",
        "Fully resampling scan 41/121"
       ]
      },
      {
       "output_type": "stream",
       "stream": "stdout",
       "text": [
        "\n",
        "Fully resampling scan 42/121"
       ]
      },
      {
       "output_type": "stream",
       "stream": "stdout",
       "text": [
        "\n",
        "Fully resampling scan 43/121"
       ]
      },
      {
       "output_type": "stream",
       "stream": "stdout",
       "text": [
        "\n",
        "Fully resampling scan 44/121"
       ]
      },
      {
       "output_type": "stream",
       "stream": "stdout",
       "text": [
        "\n",
        "Fully resampling scan 45/121"
       ]
      },
      {
       "output_type": "stream",
       "stream": "stdout",
       "text": [
        "\n",
        "Fully resampling scan 46/121"
       ]
      },
      {
       "output_type": "stream",
       "stream": "stdout",
       "text": [
        "\n",
        "Fully resampling scan 47/121"
       ]
      },
      {
       "output_type": "stream",
       "stream": "stdout",
       "text": [
        "\n",
        "Fully resampling scan 48/121"
       ]
      },
      {
       "output_type": "stream",
       "stream": "stdout",
       "text": [
        "\n",
        "Fully resampling scan 49/121"
       ]
      },
      {
       "output_type": "stream",
       "stream": "stdout",
       "text": [
        "\n",
        "Fully resampling scan 50/121"
       ]
      },
      {
       "output_type": "stream",
       "stream": "stdout",
       "text": [
        "\n",
        "Fully resampling scan 51/121"
       ]
      },
      {
       "output_type": "stream",
       "stream": "stdout",
       "text": [
        "\n",
        "Fully resampling scan 52/121"
       ]
      },
      {
       "output_type": "stream",
       "stream": "stdout",
       "text": [
        "\n",
        "Fully resampling scan 53/121"
       ]
      },
      {
       "output_type": "stream",
       "stream": "stdout",
       "text": [
        "\n",
        "Fully resampling scan 54/121"
       ]
      },
      {
       "output_type": "stream",
       "stream": "stdout",
       "text": [
        "\n",
        "Fully resampling scan 55/121"
       ]
      },
      {
       "output_type": "stream",
       "stream": "stdout",
       "text": [
        "\n",
        "Fully resampling scan 56/121"
       ]
      },
      {
       "output_type": "stream",
       "stream": "stdout",
       "text": [
        "\n",
        "Fully resampling scan 57/121"
       ]
      },
      {
       "output_type": "stream",
       "stream": "stdout",
       "text": [
        "\n",
        "Fully resampling scan 58/121"
       ]
      },
      {
       "output_type": "stream",
       "stream": "stdout",
       "text": [
        "\n",
        "Fully resampling scan 59/121"
       ]
      },
      {
       "output_type": "stream",
       "stream": "stdout",
       "text": [
        "\n",
        "Fully resampling scan 60/121"
       ]
      },
      {
       "output_type": "stream",
       "stream": "stdout",
       "text": [
        "\n",
        "Fully resampling scan 61/121"
       ]
      },
      {
       "output_type": "stream",
       "stream": "stdout",
       "text": [
        "\n",
        "Fully resampling scan 62/121"
       ]
      },
      {
       "output_type": "stream",
       "stream": "stdout",
       "text": [
        "\n",
        "Fully resampling scan 63/121"
       ]
      },
      {
       "output_type": "stream",
       "stream": "stdout",
       "text": [
        "\n",
        "Fully resampling scan 64/121"
       ]
      },
      {
       "output_type": "stream",
       "stream": "stdout",
       "text": [
        "\n",
        "Fully resampling scan 65/121"
       ]
      },
      {
       "output_type": "stream",
       "stream": "stdout",
       "text": [
        "\n",
        "Fully resampling scan 66/121"
       ]
      },
      {
       "output_type": "stream",
       "stream": "stdout",
       "text": [
        "\n",
        "Fully resampling scan 67/121"
       ]
      },
      {
       "output_type": "stream",
       "stream": "stdout",
       "text": [
        "\n",
        "Fully resampling scan 68/121"
       ]
      },
      {
       "output_type": "stream",
       "stream": "stdout",
       "text": [
        "\n",
        "Fully resampling scan 69/121"
       ]
      },
      {
       "output_type": "stream",
       "stream": "stdout",
       "text": [
        "\n",
        "Fully resampling scan 70/121"
       ]
      },
      {
       "output_type": "stream",
       "stream": "stdout",
       "text": [
        "\n",
        "Fully resampling scan 71/121"
       ]
      },
      {
       "output_type": "stream",
       "stream": "stdout",
       "text": [
        "\n",
        "Fully resampling scan 72/121"
       ]
      },
      {
       "output_type": "stream",
       "stream": "stdout",
       "text": [
        "\n",
        "Fully resampling scan 73/121"
       ]
      },
      {
       "output_type": "stream",
       "stream": "stdout",
       "text": [
        "\n",
        "Fully resampling scan 74/121"
       ]
      },
      {
       "output_type": "stream",
       "stream": "stdout",
       "text": [
        "\n",
        "Fully resampling scan 75/121"
       ]
      },
      {
       "output_type": "stream",
       "stream": "stdout",
       "text": [
        "\n",
        "Fully resampling scan 76/121"
       ]
      },
      {
       "output_type": "stream",
       "stream": "stdout",
       "text": [
        "\n",
        "Fully resampling scan 77/121"
       ]
      },
      {
       "output_type": "stream",
       "stream": "stdout",
       "text": [
        "\n",
        "Fully resampling scan 78/121"
       ]
      },
      {
       "output_type": "stream",
       "stream": "stdout",
       "text": [
        "\n",
        "Fully resampling scan 79/121"
       ]
      },
      {
       "output_type": "stream",
       "stream": "stdout",
       "text": [
        "\n",
        "Fully resampling scan 80/121"
       ]
      },
      {
       "output_type": "stream",
       "stream": "stdout",
       "text": [
        "\n",
        "Fully resampling scan 81/121"
       ]
      },
      {
       "output_type": "stream",
       "stream": "stdout",
       "text": [
        "\n",
        "Fully resampling scan 82/121"
       ]
      },
      {
       "output_type": "stream",
       "stream": "stdout",
       "text": [
        "\n",
        "Fully resampling scan 83/121"
       ]
      },
      {
       "output_type": "stream",
       "stream": "stdout",
       "text": [
        "\n",
        "Fully resampling scan 84/121"
       ]
      },
      {
       "output_type": "stream",
       "stream": "stdout",
       "text": [
        "\n",
        "Fully resampling scan 85/121"
       ]
      },
      {
       "output_type": "stream",
       "stream": "stdout",
       "text": [
        "\n",
        "Fully resampling scan 86/121"
       ]
      },
      {
       "output_type": "stream",
       "stream": "stdout",
       "text": [
        "\n",
        "Fully resampling scan 87/121"
       ]
      },
      {
       "output_type": "stream",
       "stream": "stdout",
       "text": [
        "\n",
        "Fully resampling scan 88/121"
       ]
      },
      {
       "output_type": "stream",
       "stream": "stdout",
       "text": [
        "\n",
        "Fully resampling scan 89/121"
       ]
      },
      {
       "output_type": "stream",
       "stream": "stdout",
       "text": [
        "\n",
        "Fully resampling scan 90/121"
       ]
      },
      {
       "output_type": "stream",
       "stream": "stdout",
       "text": [
        "\n",
        "Fully resampling scan 91/121"
       ]
      },
      {
       "output_type": "stream",
       "stream": "stdout",
       "text": [
        "\n",
        "Fully resampling scan 92/121"
       ]
      },
      {
       "output_type": "stream",
       "stream": "stdout",
       "text": [
        "\n",
        "Fully resampling scan 93/121"
       ]
      },
      {
       "output_type": "stream",
       "stream": "stdout",
       "text": [
        "\n",
        "Fully resampling scan 94/121"
       ]
      },
      {
       "output_type": "stream",
       "stream": "stdout",
       "text": [
        "\n",
        "Fully resampling scan 95/121"
       ]
      },
      {
       "output_type": "stream",
       "stream": "stdout",
       "text": [
        "\n",
        "Fully resampling scan 96/121"
       ]
      },
      {
       "output_type": "stream",
       "stream": "stdout",
       "text": [
        "\n",
        "Fully resampling scan 97/121"
       ]
      },
      {
       "output_type": "stream",
       "stream": "stdout",
       "text": [
        "\n",
        "Fully resampling scan 98/121"
       ]
      },
      {
       "output_type": "stream",
       "stream": "stdout",
       "text": [
        "\n",
        "Fully resampling scan 99/121"
       ]
      },
      {
       "output_type": "stream",
       "stream": "stdout",
       "text": [
        "\n",
        "Fully resampling scan 100/121"
       ]
      },
      {
       "output_type": "stream",
       "stream": "stdout",
       "text": [
        "\n",
        "Fully resampling scan 101/121"
       ]
      },
      {
       "output_type": "stream",
       "stream": "stdout",
       "text": [
        "\n",
        "Fully resampling scan 102/121"
       ]
      },
      {
       "output_type": "stream",
       "stream": "stdout",
       "text": [
        "\n",
        "Fully resampling scan 103/121"
       ]
      },
      {
       "output_type": "stream",
       "stream": "stdout",
       "text": [
        "\n",
        "Fully resampling scan 104/121"
       ]
      },
      {
       "output_type": "stream",
       "stream": "stdout",
       "text": [
        "\n",
        "Fully resampling scan 105/121"
       ]
      },
      {
       "output_type": "stream",
       "stream": "stdout",
       "text": [
        "\n",
        "Fully resampling scan 106/121"
       ]
      },
      {
       "output_type": "stream",
       "stream": "stdout",
       "text": [
        "\n",
        "Fully resampling scan 107/121"
       ]
      },
      {
       "output_type": "stream",
       "stream": "stdout",
       "text": [
        "\n",
        "Fully resampling scan 108/121"
       ]
      },
      {
       "output_type": "stream",
       "stream": "stdout",
       "text": [
        "\n",
        "Fully resampling scan 109/121"
       ]
      },
      {
       "output_type": "stream",
       "stream": "stdout",
       "text": [
        "\n",
        "Fully resampling scan 110/121"
       ]
      },
      {
       "output_type": "stream",
       "stream": "stdout",
       "text": [
        "\n",
        "Fully resampling scan 111/121"
       ]
      },
      {
       "output_type": "stream",
       "stream": "stdout",
       "text": [
        "\n",
        "Fully resampling scan 112/121"
       ]
      },
      {
       "output_type": "stream",
       "stream": "stdout",
       "text": [
        "\n",
        "Fully resampling scan 113/121"
       ]
      },
      {
       "output_type": "stream",
       "stream": "stdout",
       "text": [
        "\n",
        "Fully resampling scan 114/121"
       ]
      },
      {
       "output_type": "stream",
       "stream": "stdout",
       "text": [
        "\n",
        "Fully resampling scan 115/121"
       ]
      },
      {
       "output_type": "stream",
       "stream": "stdout",
       "text": [
        "\n",
        "Fully resampling scan 116/121"
       ]
      },
      {
       "output_type": "stream",
       "stream": "stdout",
       "text": [
        "\n",
        "Fully resampling scan 117/121"
       ]
      },
      {
       "output_type": "stream",
       "stream": "stdout",
       "text": [
        "\n",
        "Fully resampling scan 118/121"
       ]
      },
      {
       "output_type": "stream",
       "stream": "stdout",
       "text": [
        "\n",
        "Fully resampling scan 119/121"
       ]
      },
      {
       "output_type": "stream",
       "stream": "stdout",
       "text": [
        "\n",
        "Fully resampling scan 120/121"
       ]
      },
      {
       "output_type": "stream",
       "stream": "stdout",
       "text": [
        "\n",
        "Fully resampling scan 121/121"
       ]
      },
      {
       "output_type": "stream",
       "stream": "stdout",
       "text": [
        "\n"
       ]
      }
     ],
     "prompt_number": 12
    },
    {
     "cell_type": "code",
     "collapsed": false,
     "input": [
      "transforms0 = R._transforms[0]"
     ],
     "language": "python",
     "metadata": {},
     "outputs": [],
     "prompt_number": 13
    },
    {
     "cell_type": "code",
     "collapsed": false,
     "input": [
      "motion_trans_rotvec = np.vstack([t.param for t in transforms0])"
     ],
     "language": "python",
     "metadata": {},
     "outputs": [],
     "prompt_number": 14
    },
    {
     "cell_type": "code",
     "collapsed": false,
     "input": [
      "from nipy.externals.transforms3d import taitbryan\n",
      "from nipy.algorithms.registration.affine import rotation_vec2mat"
     ],
     "language": "python",
     "metadata": {},
     "outputs": [],
     "prompt_number": 15
    },
    {
     "cell_type": "code",
     "collapsed": false,
     "input": [
      "motion_trans_euler = motion_trans_rotvec.copy()\n",
      "for scan_no in range(motion_trans_rotvec.shape[0]):\n",
      "    rot_mat = rotation_vec2mat(motion_trans_rotvec[scan_no, 3:])\n",
      "    euler_angles = taitbryan.mat2euler(rot_mat)\n",
      "    motion_trans_euler[scan_no, 3:] = euler_angles"
     ],
     "language": "python",
     "metadata": {},
     "outputs": [],
     "prompt_number": 16
    },
    {
     "cell_type": "code",
     "collapsed": false,
     "input": [
      "fig, axes = plt.subplots(2, 1)\n",
      "axes[0].plot(motion_trans_rotvec[:, :3])\n",
      "xlabel('time (TR)')\n",
      "ylabel('motion (mm)')\n",
      "legend(('tx','ty','tz','r1','r2','r3'))\n",
      "axes[1].plot(motion_trans_rotvec[:, 3:])"
     ],
     "language": "python",
     "metadata": {},
     "outputs": [
      {
       "output_type": "pyout",
       "prompt_number": 17,
       "text": [
        "[<matplotlib.lines.Line2D at 0x7f3f4c0be290>,\n",
        " <matplotlib.lines.Line2D at 0x7f3f4c0b8790>,\n",
        " <matplotlib.lines.Line2D at 0x7f3f4c0b8990>]"
       ]
      },
      {
       "output_type": "display_data",
       "png": "[encoded data removed]",
       "text": [
        "<matplotlib.figure.Figure at 0x5507310>"
       ]
      }
     ],
     "prompt_number": 17
    },
    {
     "cell_type": "markdown",
     "metadata": {},
     "source": [
      "Make standard deviation images before and after registration:"
     ]
    },
    {
     "cell_type": "code",
     "collapsed": false,
     "input": [
      "before_var = np.std(run_imgs[0].get_data(), axis=-1)\n",
      "after_var = np.std(resample_run0.get_data(), axis=-1)\n",
      "fig = figure()\n",
      "fig.set_size_inches(10.5,18.5)\n",
      "plt.imshow(np.hstack((before_var[..., 40], after_var[..., 40])), cmap=\"gray\", interpolation='nearest')"
     ],
     "language": "python",
     "metadata": {},
     "outputs": [
      {
       "output_type": "pyout",
       "prompt_number": 18,
       "text": [
        "<matplotlib.image.AxesImage at 0x7f3f4c7904d0>"
       ]
      },
      {
       "output_type": "display_data",
       "png": "[encoded data removed]",
       "text": [
        "<matplotlib.figure.Figure at 0x5507410>"
       ]
      }
     ],
     "prompt_number": 18
    },
    {
     "cell_type": "code",
     "collapsed": false,
     "input": [
      "from subprocess import check_call"
     ],
     "language": "python",
     "metadata": {},
     "outputs": [],
     "prompt_number": 19
    },
    {
     "cell_type": "code",
     "collapsed": false,
     "input": [
      "check_call('fsl4.1-mcflirt -in %s -plots' % run_fnames[0], shell=True)"
     ],
     "language": "python",
     "metadata": {},
     "outputs": [
      {
       "output_type": "pyout",
       "prompt_number": 20,
       "text": [
        "0"
       ]
      }
     ],
     "prompt_number": 20
    },
    {
     "cell_type": "code",
     "collapsed": false,
     "input": [
      "pth, fname = os.path.split(run_fnames[0])\n",
      "par_fname = os.path.join(pth, 'bold_mcf.par')\n",
      "params = np.loadtxt(par_fname)"
     ],
     "language": "python",
     "metadata": {},
     "outputs": [],
     "prompt_number": 21
    },
    {
     "cell_type": "code",
     "collapsed": false,
     "input": [
      "fix, axes = plt.subplots(2, 1)\n",
      "axes[0].plot(params[:, :3])\n",
      "axes[1].plot(params[:, 3:])"
     ],
     "language": "python",
     "metadata": {},
     "outputs": [
      {
       "output_type": "pyout",
       "prompt_number": 22,
       "text": [
        "[<matplotlib.lines.Line2D at 0x7f3f4c85e090>,\n",
        " <matplotlib.lines.Line2D at 0x7f3f4c7a5fd0>,\n",
        " <matplotlib.lines.Line2D at 0x7f3f4c7a5250>]"
       ]
      },
      {
       "output_type": "display_data",
       "png": "[encoded data removed]",
       "text": [
        "<matplotlib.figure.Figure at 0x7f3f4c785f50>"
       ]
      }
     ],
     "prompt_number": 22
    },
    {
     "cell_type": "code",
     "collapsed": false,
     "input": [
      "mcsampled_run0 = load_image(os.path.join(pth, 'bold_mcf.nii.gz'))"
     ],
     "language": "python",
     "metadata": {},
     "outputs": [],
     "prompt_number": 23
    },
    {
     "cell_type": "code",
     "collapsed": false,
     "input": [
      "after_var = np.std(mcsampled_run0.get_data(), axis=-1)\n",
      "fig = figure()\n",
      "fig.set_size_inches(10.5,18.5)\n",
      "plt.imshow(np.hstack((before_var[..., 40], after_var[..., 40])), cmap=\"gray\", interpolation='nearest')"
     ],
     "language": "python",
     "metadata": {},
     "outputs": [
      {
       "output_type": "pyout",
       "prompt_number": 24,
       "text": [
        "<matplotlib.image.AxesImage at 0x7f3f4c653450>"
       ]
      },
      {
       "output_type": "display_data",
       "png": "[encoded data removed]",
       "text": [
        "<matplotlib.figure.Figure at 0x7f3f4c9e0f10>"
       ]
      }
     ],
     "prompt_number": 24
    }
   ],
   "metadata": {}
  }
 ]
}