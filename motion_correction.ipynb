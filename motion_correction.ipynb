{
 "metadata": {
  "name": "motion_correction"
 },
 "nbformat": 3,
 "nbformat_minor": 0,
 "worksheets": [
  {
   "cells": [
    {
     "cell_type": "code",
     "collapsed": false,
     "input": [
      "%pylab inline"
     ],
     "language": "python",
     "metadata": {},
     "outputs": [
      {
       "output_type": "stream",
       "stream": "stdout",
       "text": [
        "\n",
        "Welcome to pylab, a matplotlib-based Python environment [backend: module://IPython.kernel.zmq.pylab.backend_inline].\n",
        "For more information, type 'help(pylab)'.\n"
       ]
      }
     ],
     "prompt_number": 1
    },
    {
     "cell_type": "code",
     "collapsed": false,
     "input": [
      "import numpy as np\n",
      "import matplotlib.pyplot as plt"
     ],
     "language": "python",
     "metadata": {},
     "outputs": [],
     "prompt_number": 2
    },
    {
     "cell_type": "code",
     "collapsed": false,
     "input": [
      "import os"
     ],
     "language": "python",
     "metadata": {},
     "outputs": [],
     "prompt_number": 3
    },
    {
     "cell_type": "markdown",
     "metadata": {},
     "source": [
      "I'm expecting the data to be in your home directory, as for the workflow notebook."
     ]
    },
    {
     "cell_type": "code",
     "collapsed": false,
     "input": [
      "DATA_PATH = os.path.join(os.path.expanduser('~'), 'data', 'ds105')\n",
      "os.listdir(DATA_PATH)"
     ],
     "language": "python",
     "metadata": {},
     "outputs": [
      {
       "output_type": "pyout",
       "prompt_number": 4,
       "text": [
        "['study_key.txt',\n",
        " 'release_history.txt',\n",
        " 'task_key.txt',\n",
        " 'models',\n",
        " 'references.txt',\n",
        " 'sub005',\n",
        " 'license.txt',\n",
        " 'sub004',\n",
        " 'sub003',\n",
        " 'scan_key.txt',\n",
        " 'sub001',\n",
        " 'sub006',\n",
        " 'README',\n",
        " 'sub002']"
       ]
      }
     ],
     "prompt_number": 4
    },
    {
     "cell_type": "markdown",
     "metadata": {},
     "source": [
      "Get the filenames for the functional runs of the first subject"
     ]
    },
    {
     "cell_type": "code",
     "collapsed": false,
     "input": [
      "import glob"
     ],
     "language": "python",
     "metadata": {},
     "outputs": [],
     "prompt_number": 5
    },
    {
     "cell_type": "code",
     "collapsed": false,
     "input": [
      "run_fnames = glob.glob(os.path.join(DATA_PATH, 'sub001', 'BOLD', 'task*', 'bold.nii.gz'))\n",
      "run_fnames.sort()\n",
      "run_fnames"
     ],
     "language": "python",
     "metadata": {},
     "outputs": [
      {
       "output_type": "pyout",
       "prompt_number": 6,
       "text": [
        "['/home/mb312/data/ds105/sub001/BOLD/task001_run001/bold.nii.gz',\n",
        " '/home/mb312/data/ds105/sub001/BOLD/task001_run002/bold.nii.gz',\n",
        " '/home/mb312/data/ds105/sub001/BOLD/task001_run003/bold.nii.gz',\n",
        " '/home/mb312/data/ds105/sub001/BOLD/task001_run004/bold.nii.gz',\n",
        " '/home/mb312/data/ds105/sub001/BOLD/task001_run005/bold.nii.gz',\n",
        " '/home/mb312/data/ds105/sub001/BOLD/task001_run006/bold.nii.gz',\n",
        " '/home/mb312/data/ds105/sub001/BOLD/task001_run007/bold.nii.gz',\n",
        " '/home/mb312/data/ds105/sub001/BOLD/task001_run008/bold.nii.gz',\n",
        " '/home/mb312/data/ds105/sub001/BOLD/task001_run009/bold.nii.gz',\n",
        " '/home/mb312/data/ds105/sub001/BOLD/task001_run010/bold.nii.gz',\n",
        " '/home/mb312/data/ds105/sub001/BOLD/task001_run011/bold.nii.gz',\n",
        " '/home/mb312/data/ds105/sub001/BOLD/task001_run012/bold.nii.gz']"
       ]
      }
     ],
     "prompt_number": 6
    },
    {
     "cell_type": "markdown",
     "metadata": {},
     "source": [
      "This is how to do realignment AND slice time correction on a single subject in NIPY:"
     ]
    },
    {
     "cell_type": "code",
     "collapsed": false,
     "input": [
      "from nipy.algorithms.registration import FmriRealign4d\n",
      "from nipy import load_image, save_image"
     ],
     "language": "python",
     "metadata": {},
     "outputs": [],
     "prompt_number": 7
    },
    {
     "cell_type": "code",
     "collapsed": false,
     "input": [
      "N_SLICES = 40\n",
      "TR = 2.5\n",
      "SLICE_AXIS = 0\n",
      "space_to_time = list(range(0, N_SLICES, 2)) + list(range(1, N_SLICES, 2))\n",
      "time_to_space = np.argsort(space_to_time)"
     ],
     "language": "python",
     "metadata": {},
     "outputs": [],
     "prompt_number": 8
    },
    {
     "cell_type": "code",
     "collapsed": false,
     "input": [
      "# Let's use only the first 2 runs for now\n",
      "run_fnames = run_fnames[:2]"
     ],
     "language": "python",
     "metadata": {},
     "outputs": [],
     "prompt_number": 9
    },
    {
     "cell_type": "code",
     "collapsed": false,
     "input": [
      "# Make filenames into images\n",
      "run_imgs = [load_image(fname) for fname in run_fnames]"
     ],
     "language": "python",
     "metadata": {},
     "outputs": [],
     "prompt_number": 10
    },
    {
     "cell_type": "code",
     "collapsed": false,
     "input": [
      "R = FmriRealign4d(run_imgs, slice_order=time_to_space, slice_info=(0, 1))\n",
      "# Estimate motion within- and between- sessions\n",
      "R.estimate(loops=1, refscan=None)"
     ],
     "language": "python",
     "metadata": {},
     "outputs": [
      {
       "output_type": "stream",
       "stream": "stdout",
       "text": [
        "Resampling scan 1/121\n",
        "Resampling scan 2/121\n",
        "Resampling scan 3/121\n",
        "Resampling scan 4/121\n",
        "Resampling scan 5/121\n",
        "Resampling scan 6/121\n",
        "Resampling scan 7/121\n",
        "Resampling scan 8/121"
       ]
      },
      {
       "output_type": "stream",
       "stream": "stdout",
       "text": [
        "\n",
        "Resampling scan 9/121\n",
        "Resampling scan 10/121\n",
        "Resampling scan 11/121\n",
        "Resampling scan 12/121\n",
        "Resampling scan 13/121\n",
        "Resampling scan 14/121"
       ]
      },
      {
       "output_type": "stream",
       "stream": "stdout",
       "text": [
        "\n",
        "Resampling scan 15/121\n",
        "Resampling scan 16/121\n",
        "Resampling scan 17/121\n",
        "Resampling scan 18/121\n",
        "Resampling scan 19/121\n",
        "Resampling scan 20/121"
       ]
      },
      {
       "output_type": "stream",
       "stream": "stdout",
       "text": [
        "\n",
        "Resampling scan 21/121\n",
        "Resampling scan 22/121\n",
        "Resampling scan 23/121\n",
        "Resampling scan 24/121\n",
        "Resampling scan 25/121\n",
        "Resampling scan 26/121"
       ]
      },
      {
       "output_type": "stream",
       "stream": "stdout",
       "text": [
        "\n",
        "Resampling scan 27/121\n",
        "Resampling scan 28/121\n",
        "Resampling scan 29/121\n",
        "Resampling scan 30/121\n",
        "Resampling scan 31/121\n",
        "Resampling scan 32/121"
       ]
      },
      {
       "output_type": "stream",
       "stream": "stdout",
       "text": [
        "\n",
        "Resampling scan 33/121\n",
        "Resampling scan 34/121\n",
        "Resampling scan 35/121\n",
        "Resampling scan 36/121\n",
        "Resampling scan 37/121\n",
        "Resampling scan 38/121"
       ]
      },
      {
       "output_type": "stream",
       "stream": "stdout",
       "text": [
        "\n",
        "Resampling scan 39/121\n",
        "Resampling scan 40/121\n",
        "Resampling scan 41/121\n",
        "Resampling scan 42/121\n",
        "Resampling scan 43/121\n",
        "Resampling scan 44/121"
       ]
      },
      {
       "output_type": "stream",
       "stream": "stdout",
       "text": [
        "\n",
        "Resampling scan 45/121\n",
        "Resampling scan 46/121\n",
        "Resampling scan 47/121\n",
        "Resampling scan 48/121\n",
        "Resampling scan 49/121\n",
        "Resampling scan 50/121"
       ]
      },
      {
       "output_type": "stream",
       "stream": "stdout",
       "text": [
        "\n",
        "Resampling scan 51/121\n",
        "Resampling scan 52/121\n",
        "Resampling scan 53/121\n",
        "Resampling scan 54/121\n",
        "Resampling scan 55/121\n",
        "Resampling scan 56/121"
       ]
      },
      {
       "output_type": "stream",
       "stream": "stdout",
       "text": [
        "\n",
        "Resampling scan 57/121\n",
        "Resampling scan 58/121\n",
        "Resampling scan 59/121\n",
        "Resampling scan 60/121\n",
        "Resampling scan 61/121\n",
        "Resampling scan 62/121"
       ]
      },
      {
       "output_type": "stream",
       "stream": "stdout",
       "text": [
        "\n",
        "Resampling scan 63/121\n",
        "Resampling scan 64/121\n",
        "Resampling scan 65/121\n",
        "Resampling scan 66/121\n",
        "Resampling scan 67/121\n",
        "Resampling scan 68/121"
       ]
      },
      {
       "output_type": "stream",
       "stream": "stdout",
       "text": [
        "\n",
        "Resampling scan 69/121\n",
        "Resampling scan 70/121\n",
        "Resampling scan 71/121\n",
        "Resampling scan 72/121\n",
        "Resampling scan 73/121\n",
        "Resampling scan 74/121"
       ]
      },
      {
       "output_type": "stream",
       "stream": "stdout",
       "text": [
        "\n",
        "Resampling scan 75/121\n",
        "Resampling scan 76/121\n",
        "Resampling scan 77/121\n",
        "Resampling scan 78/121\n",
        "Resampling scan 79/121\n",
        "Resampling scan 80/121"
       ]
      },
      {
       "output_type": "stream",
       "stream": "stdout",
       "text": [
        "\n",
        "Resampling scan 81/121\n",
        "Resampling scan 82/121\n",
        "Resampling scan 83/121\n",
        "Resampling scan 84/121\n",
        "Resampling scan 85/121\n",
        "Resampling scan 86/121"
       ]
      },
      {
       "output_type": "stream",
       "stream": "stdout",
       "text": [
        "\n",
        "Resampling scan 87/121\n",
        "Resampling scan 88/121\n",
        "Resampling scan 89/121\n",
        "Resampling scan 90/121\n",
        "Resampling scan 91/121\n",
        "Resampling scan 92/121"
       ]
      },
      {
       "output_type": "stream",
       "stream": "stdout",
       "text": [
        "\n",
        "Resampling scan 93/121\n",
        "Resampling scan 94/121\n",
        "Resampling scan 95/121\n",
        "Resampling scan 96/121\n",
        "Resampling scan 97/121"
       ]
      },
      {
       "output_type": "stream",
       "stream": "stdout",
       "text": [
        "\n",
        "Resampling scan 98/121\n",
        "Resampling scan 99/121\n",
        "Resampling scan 100/121\n",
        "Resampling scan 101/121\n",
        "Resampling scan 102/121\n",
        "Resampling scan 103/121"
       ]
      },
      {
       "output_type": "stream",
       "stream": "stdout",
       "text": [
        "\n",
        "Resampling scan 104/121\n",
        "Resampling scan 105/121\n",
        "Resampling scan 106/121\n",
        "Resampling scan 107/121\n",
        "Resampling scan 108/121\n",
        "Resampling scan 109/121"
       ]
      },
      {
       "output_type": "stream",
       "stream": "stdout",
       "text": [
        "\n",
        "Resampling scan 110/121\n",
        "Resampling scan 111/121\n",
        "Resampling scan 112/121\n",
        "Resampling scan 113/121\n",
        "Resampling scan 114/121\n",
        "Resampling scan 115/121"
       ]
      },
      {
       "output_type": "stream",
       "stream": "stdout",
       "text": [
        "\n",
        "Resampling scan 116/121\n",
        "Resampling scan 117/121\n",
        "Resampling scan 118/121\n",
        "Resampling scan 119/121\n",
        "Resampling scan 120/121\n",
        "Resampling scan 121/121"
       ]
      },
      {
       "output_type": "stream",
       "stream": "stdout",
       "text": [
        "\n",
        "Estimating motion at time frame 1/121...\n",
        "Optimization terminated successfully."
       ]
      },
      {
       "output_type": "stream",
       "stream": "stdout",
       "text": [
        "\n",
        "         Current function value: -6.307333\n",
        "         Iterations: 11\n",
        "         Function evaluations: 41\n",
        "         Gradient evaluations: 11\n",
        "         Hessian evaluations: 11\n",
        "translation : [-0.07324246 -0.01781421 -0.05081702]\n",
        "rotation    : [-0.00117747 -0.00436287  0.00253694]\n",
        "\n",
        "Estimating motion at time frame 2/121...\n",
        "Optimization terminated successfully."
       ]
      },
      {
       "output_type": "stream",
       "stream": "stdout",
       "text": [
        "\n",
        "         Current function value: -6.307975\n",
        "         Iterations: 9\n",
        "         Function evaluations: 10\n",
        "         Gradient evaluations: 9\n",
        "         Hessian evaluations: 9\n",
        "translation : [-0.08398673 -0.02948134 -0.04710506]\n",
        "rotation    : [-0.00092927 -0.00304771  0.00258669]\n",
        "\n",
        "Estimating motion at time frame 3/121...\n",
        "Optimization terminated successfully."
       ]
      },
      {
       "output_type": "stream",
       "stream": "stdout",
       "text": [
        "\n",
        "         Current function value: -6.308489\n",
        "         Iterations: 11\n",
        "         Function evaluations: 12\n",
        "         Gradient evaluations: 11\n",
        "         Hessian evaluations: 11\n",
        "translation : [-0.07913381 -0.02934382 -0.03703903]\n",
        "rotation    : [-0.00145616 -0.00194298  0.00278976]\n",
        "\n",
        "Estimating motion at time frame 4/121...\n",
        "Optimization terminated successfully."
       ]
      },
      {
       "output_type": "stream",
       "stream": "stdout",
       "text": [
        "\n",
        "         Current function value: -6.308728\n",
        "         Iterations: 11\n",
        "         Function evaluations: 19\n",
        "         Gradient evaluations: 11\n",
        "         Hessian evaluations: 11\n",
        "translation : [-0.08058752 -0.05550932 -0.03430978]\n",
        "rotation    : [-0.00062274 -0.00130803  0.00026999]\n",
        "\n",
        "Estimating motion at time frame 5/121...\n",
        "Optimization terminated successfully."
       ]
      },
      {
       "output_type": "stream",
       "stream": "stdout",
       "text": [
        "\n",
        "         Current function value: -6.309119\n",
        "         Iterations: 7\n",
        "         Function evaluations: 8\n",
        "         Gradient evaluations: 7\n",
        "         Hessian evaluations: 7\n",
        "translation : [-0.07132394 -0.08823757 -0.04714596]\n",
        "rotation    : [-0.00116533 -0.00094461 -0.00062282]\n",
        "\n",
        "Estimating motion at time frame 6/121...\n",
        "Optimization terminated successfully."
       ]
      },
      {
       "output_type": "stream",
       "stream": "stdout",
       "text": [
        "\n",
        "         Current function value: -6.309504\n",
        "         Iterations: 10\n",
        "         Function evaluations: 11\n",
        "         Gradient evaluations: 10\n",
        "         Hessian evaluations: 10\n",
        "translation : [-0.05987917 -0.07832279 -0.03477728]\n",
        "rotation    : [-0.0011507  -0.00199486  0.00065904]\n",
        "\n",
        "Estimating motion at time frame 7/121...\n",
        "Optimization terminated successfully."
       ]
      },
      {
       "output_type": "stream",
       "stream": "stdout",
       "text": [
        "\n",
        "         Current function value: -6.310003\n",
        "         Iterations: 8\n",
        "         Function evaluations: 9\n",
        "         Gradient evaluations: 8\n",
        "         Hessian evaluations: 8\n",
        "translation : [-0.08691466 -0.10696442 -0.04342204]\n",
        "rotation    : [-0.00135826 -0.00053823  0.00024895]\n",
        "\n",
        "Estimating motion at time frame 8/121...\n",
        "Optimization terminated successfully."
       ]
      },
      {
       "output_type": "stream",
       "stream": "stdout",
       "text": [
        "\n",
        "         Current function value: -6.310624\n",
        "         Iterations: 8\n",
        "         Function evaluations: 9\n",
        "         Gradient evaluations: 8\n",
        "         Hessian evaluations: 8\n",
        "translation : [-0.10180971 -0.06978421 -0.07831779]\n",
        "rotation    : [-0.00167853  0.00054596  0.00018842]\n",
        "\n",
        "Estimating motion at time frame 9/121...\n",
        "Optimization terminated successfully."
       ]
      },
      {
       "output_type": "stream",
       "stream": "stdout",
       "text": [
        "\n",
        "         Current function value: -6.311148\n",
        "         Iterations: 7\n",
        "         Function evaluations: 8\n",
        "         Gradient evaluations: 7\n",
        "         Hessian evaluations: 7\n",
        "translation : [-0.09542805 -0.02189536 -0.06644728]\n",
        "rotation    : [ -2.04894031e-03   6.03084174e-05   4.92245406e-04]\n",
        "\n",
        "Estimating motion at time frame 10/121...\n",
        "Optimization terminated successfully."
       ]
      },
      {
       "output_type": "stream",
       "stream": "stdout",
       "text": [
        "\n",
        "         Current function value: -6.311708\n",
        "         Iterations: 8\n",
        "         Function evaluations: 9\n",
        "         Gradient evaluations: 8\n",
        "         Hessian evaluations: 8\n",
        "translation : [-0.07754244 -0.02470438 -0.03649362]\n",
        "rotation    : [-0.00222406 -0.00052415  0.00214415]\n",
        "\n",
        "Estimating motion at time frame 11/121...\n",
        "Optimization terminated successfully."
       ]
      },
      {
       "output_type": "stream",
       "stream": "stdout",
       "text": [
        "\n",
        "         Current function value: -6.312414\n",
        "         Iterations: 8\n",
        "         Function evaluations: 9\n",
        "         Gradient evaluations: 8\n",
        "         Hessian evaluations: 8\n",
        "translation : [-0.09532827 -0.01793094 -0.03474164]\n",
        "rotation    : [-0.00232173 -0.0012524   0.00270095]\n",
        "\n",
        "Estimating motion at time frame 12/121...\n",
        "Optimization terminated successfully."
       ]
      },
      {
       "output_type": "stream",
       "stream": "stdout",
       "text": [
        "\n",
        "         Current function value: -6.312862\n",
        "         Iterations: 7\n",
        "         Function evaluations: 8\n",
        "         Gradient evaluations: 7\n",
        "         Hessian evaluations: 7\n",
        "translation : [-0.09382274  0.01549692 -0.02228395]\n",
        "rotation    : [-0.00113201 -0.00169712  0.00250279]\n",
        "\n",
        "Estimating motion at time frame 13/121...\n",
        "Optimization terminated successfully."
       ]
      },
      {
       "output_type": "stream",
       "stream": "stdout",
       "text": [
        "\n",
        "         Current function value: -6.313621\n",
        "         Iterations: 7\n",
        "         Function evaluations: 8\n",
        "         Gradient evaluations: 7\n",
        "         Hessian evaluations: 7\n",
        "translation : [-0.0869105  -0.03892984 -0.01481042]\n",
        "rotation    : [-0.00159046 -0.00190578  0.00347667]\n",
        "\n",
        "Estimating motion at time frame 14/121...\n",
        "Optimization terminated successfully."
       ]
      },
      {
       "output_type": "stream",
       "stream": "stdout",
       "text": [
        "\n",
        "         Current function value: -6.314481\n",
        "         Iterations: 6\n",
        "         Function evaluations: 7\n",
        "         Gradient evaluations: 6\n",
        "         Hessian evaluations: 6\n",
        "translation : [-0.07134044 -0.04673073 -0.0145218 ]\n",
        "rotation    : [-0.00260689 -0.00132065  0.00273099]\n",
        "\n",
        "Estimating motion at time frame 15/121...\n",
        "Optimization terminated successfully."
       ]
      },
      {
       "output_type": "stream",
       "stream": "stdout",
       "text": [
        "\n",
        "         Current function value: -6.315213\n",
        "         Iterations: 7\n",
        "         Function evaluations: 8\n",
        "         Gradient evaluations: 7\n",
        "         Hessian evaluations: 7\n",
        "translation : [-0.10111364 -0.03781175 -0.0248575 ]\n",
        "rotation    : [-0.00212531 -0.0016123   0.00242911]\n",
        "\n",
        "Estimating motion at time frame 16/121...\n",
        "Optimization terminated successfully."
       ]
      },
      {
       "output_type": "stream",
       "stream": "stdout",
       "text": [
        "\n",
        "         Current function value: -6.315547\n",
        "         Iterations: 9\n",
        "         Function evaluations: 10\n",
        "         Gradient evaluations: 9\n",
        "         Hessian evaluations: 9\n",
        "translation : [-0.08270239  0.0037101  -0.024433  ]\n",
        "rotation    : [-0.001459   -0.00166781  0.00131127]\n",
        "\n",
        "Estimating motion at time frame 17/121...\n",
        "Optimization terminated successfully."
       ]
      },
      {
       "output_type": "stream",
       "stream": "stdout",
       "text": [
        "\n",
        "         Current function value: -6.315879\n",
        "         Iterations: 7\n",
        "         Function evaluations: 8\n",
        "         Gradient evaluations: 7\n",
        "         Hessian evaluations: 7\n",
        "translation : [-0.05740523  0.04182546 -0.08923144]\n",
        "rotation    : [-0.00130093 -0.00043597  0.0008489 ]\n",
        "\n",
        "Estimating motion at time frame 18/121...\n",
        "Optimization terminated successfully."
       ]
      },
      {
       "output_type": "stream",
       "stream": "stdout",
       "text": [
        "\n",
        "         Current function value: -6.316213\n",
        "         Iterations: 8\n",
        "         Function evaluations: 14\n",
        "         Gradient evaluations: 8\n",
        "         Hessian evaluations: 8\n",
        "translation : [-0.07335987 -0.01124886 -0.02539189]\n",
        "rotation    : [-0.00187203 -0.00033619 -0.00016958]\n",
        "\n",
        "Estimating motion at time frame 19/121...\n",
        "Optimization terminated successfully."
       ]
      },
      {
       "output_type": "stream",
       "stream": "stdout",
       "text": [
        "\n",
        "         Current function value: -6.317202\n",
        "         Iterations: 12\n",
        "         Function evaluations: 13\n",
        "         Gradient evaluations: 12\n",
        "         Hessian evaluations: 12\n",
        "translation : [-0.0317631  -0.03433274 -0.01444959]\n",
        "rotation    : [-0.00181308 -0.00464039  0.00191192]\n",
        "\n",
        "Estimating motion at time frame 20/121...\n",
        "Optimization terminated successfully."
       ]
      },
      {
       "output_type": "stream",
       "stream": "stdout",
       "text": [
        "\n",
        "         Current function value: -6.318441\n",
        "         Iterations: 9\n",
        "         Function evaluations: 10\n",
        "         Gradient evaluations: 9\n",
        "         Hessian evaluations: 9\n",
        "translation : [-0.03563717 -0.05989017 -0.02295496]\n",
        "rotation    : [-0.00063952 -0.00443947  0.00311445]\n",
        "\n",
        "Estimating motion at time frame 21/121...\n",
        "Optimization terminated successfully."
       ]
      },
      {
       "output_type": "stream",
       "stream": "stdout",
       "text": [
        "\n",
        "         Current function value: -6.319041\n",
        "         Iterations: 7\n",
        "         Function evaluations: 8\n",
        "         Gradient evaluations: 7\n",
        "         Hessian evaluations: 7\n",
        "translation : [-0.07666668 -0.0508486  -0.00621835]\n",
        "rotation    : [-0.00133174 -0.00185588  0.00253229]\n",
        "\n",
        "Estimating motion at time frame 22/121...\n",
        "Optimization terminated successfully."
       ]
      },
      {
       "output_type": "stream",
       "stream": "stdout",
       "text": [
        "\n",
        "         Current function value: -6.320206\n",
        "         Iterations: 10\n",
        "         Function evaluations: 11\n",
        "         Gradient evaluations: 10\n",
        "         Hessian evaluations: 10\n",
        "translation : [-0.06035183 -0.01963408 -0.03390768]\n",
        "rotation    : [-0.00178705 -0.00464661  0.0030958 ]\n",
        "\n",
        "Estimating motion at time frame 23/121...\n",
        "Optimization terminated successfully."
       ]
      },
      {
       "output_type": "stream",
       "stream": "stdout",
       "text": [
        "\n",
        "         Current function value: -6.321080\n",
        "         Iterations: 8\n",
        "         Function evaluations: 9\n",
        "         Gradient evaluations: 8\n",
        "         Hessian evaluations: 8\n",
        "translation : [-0.08371508 -0.01150348 -0.06142091]\n",
        "rotation    : [-0.00262428 -0.00211742  0.00215308]\n",
        "\n",
        "Estimating motion at time frame 24/121...\n",
        "Optimization terminated successfully."
       ]
      },
      {
       "output_type": "stream",
       "stream": "stdout",
       "text": [
        "\n",
        "         Current function value: -6.321710\n",
        "         Iterations: 6\n",
        "         Function evaluations: 7\n",
        "         Gradient evaluations: 6\n",
        "         Hessian evaluations: 6\n",
        "translation : [-0.08964347 -0.04793891 -0.00234433]\n",
        "rotation    : [-0.00145692 -0.00179118  0.00248898]\n",
        "\n",
        "Estimating motion at time frame 25/121...\n",
        "Optimization terminated successfully."
       ]
      },
      {
       "output_type": "stream",
       "stream": "stdout",
       "text": [
        "\n",
        "         Current function value: -6.322613\n",
        "         Iterations: 8\n",
        "         Function evaluations: 11\n",
        "         Gradient evaluations: 8\n",
        "         Hessian evaluations: 8\n",
        "translation : [-0.06097266 -0.04686847 -0.02180358]\n",
        "rotation    : [-0.00220004 -0.00274606  0.00222926]\n",
        "\n",
        "Estimating motion at time frame 26/121...\n",
        "Optimization terminated successfully."
       ]
      },
      {
       "output_type": "stream",
       "stream": "stdout",
       "text": [
        "\n",
        "         Current function value: -6.323960\n",
        "         Iterations: 8\n",
        "         Function evaluations: 9\n",
        "         Gradient evaluations: 8\n",
        "         Hessian evaluations: 8\n",
        "translation : [-0.0445997  -0.05418781 -0.03167271]\n",
        "rotation    : [-0.00241491 -0.0037994   0.0025703 ]\n",
        "\n",
        "Estimating motion at time frame 27/121...\n",
        "Optimization terminated successfully."
       ]
      },
      {
       "output_type": "stream",
       "stream": "stdout",
       "text": [
        "\n",
        "         Current function value: -6.324735\n",
        "         Iterations: 9\n",
        "         Function evaluations: 19\n",
        "         Gradient evaluations: 9\n",
        "         Hessian evaluations: 9\n",
        "translation : [-0.05035372 -0.04114466 -0.02360156]\n",
        "rotation    : [-0.00180287 -0.0022798   0.00289602]\n",
        "\n",
        "Estimating motion at time frame 28/121...\n",
        "Optimization terminated successfully."
       ]
      },
      {
       "output_type": "stream",
       "stream": "stdout",
       "text": [
        "\n",
        "         Current function value: -6.325610\n",
        "         Iterations: 9\n",
        "         Function evaluations: 10\n",
        "         Gradient evaluations: 9\n",
        "         Hessian evaluations: 9\n",
        "translation : [-0.05328104 -0.04706176 -0.01420262]\n",
        "rotation    : [-0.00180678 -0.00298788  0.00292667]\n",
        "\n",
        "Estimating motion at time frame 29/121...\n",
        "Optimization terminated successfully."
       ]
      },
      {
       "output_type": "stream",
       "stream": "stdout",
       "text": [
        "\n",
        "         Current function value: -6.326420\n",
        "         Iterations: 6\n",
        "         Function evaluations: 7\n",
        "         Gradient evaluations: 6\n",
        "         Hessian evaluations: 6\n",
        "translation : [-0.05707794 -0.02020597 -0.02568743]\n",
        "rotation    : [-0.00286204 -0.00166395  0.00207471]\n",
        "\n",
        "Estimating motion at time frame 30/121...\n",
        "Optimization terminated successfully."
       ]
      },
      {
       "output_type": "stream",
       "stream": "stdout",
       "text": [
        "\n",
        "         Current function value: -6.327089\n",
        "         Iterations: 6\n",
        "         Function evaluations: 7\n",
        "         Gradient evaluations: 6\n",
        "         Hessian evaluations: 6\n",
        "translation : [-0.05564961 -0.03840093 -0.01301082]\n",
        "rotation    : [-0.00281111 -0.00084431  0.00119604]\n",
        "\n",
        "Estimating motion at time frame 31/121...\n",
        "Optimization terminated successfully."
       ]
      },
      {
       "output_type": "stream",
       "stream": "stdout",
       "text": [
        "\n",
        "         Current function value: -6.327505\n",
        "         Iterations: 7\n",
        "         Function evaluations: 8\n",
        "         Gradient evaluations: 7\n",
        "         Hessian evaluations: 7\n",
        "translation : [-0.04085094 -0.03958773 -0.03239269]\n",
        "rotation    : [-0.00151893 -0.00136029  0.00173726]\n",
        "\n",
        "Estimating motion at time frame 32/121...\n",
        "Optimization terminated successfully."
       ]
      },
      {
       "output_type": "stream",
       "stream": "stdout",
       "text": [
        "\n",
        "         Current function value: -6.327608\n",
        "         Iterations: 7\n",
        "         Function evaluations: 8\n",
        "         Gradient evaluations: 7\n",
        "         Hessian evaluations: 7\n",
        "translation : [-0.04940055 -0.02370535 -0.01459365]\n",
        "rotation    : [  2.37727686e-05  -9.15644375e-04   1.10325283e-03]\n",
        "\n",
        "Estimating motion at time frame 33/121...\n",
        "Optimization terminated successfully."
       ]
      },
      {
       "output_type": "stream",
       "stream": "stdout",
       "text": [
        "\n",
        "         Current function value: -6.328711\n",
        "         Iterations: 10\n",
        "         Function evaluations: 11\n",
        "         Gradient evaluations: 10\n",
        "         Hessian evaluations: 10\n",
        "translation : [-0.02035479 -0.01514685 -0.02274351]\n",
        "rotation    : [ -1.48859092e-05  -4.84350834e-03   2.98356786e-03]\n",
        "\n",
        "Estimating motion at time frame 34/121...\n",
        "Optimization terminated successfully."
       ]
      },
      {
       "output_type": "stream",
       "stream": "stdout",
       "text": [
        "\n",
        "         Current function value: -6.329056\n",
        "         Iterations: 11\n",
        "         Function evaluations: 12\n",
        "         Gradient evaluations: 11\n",
        "         Hessian evaluations: 11\n",
        "translation : [-0.03439524 -0.0443216  -0.056892  ]\n",
        "rotation    : [-0.0007847  -0.00120838  0.00229997]\n",
        "\n",
        "Estimating motion at time frame 35/121...\n",
        "Optimization terminated successfully."
       ]
      },
      {
       "output_type": "stream",
       "stream": "stdout",
       "text": [
        "\n",
        "         Current function value: -6.329276\n",
        "         Iterations: 7\n",
        "         Function evaluations: 8\n",
        "         Gradient evaluations: 7\n",
        "         Hessian evaluations: 7\n",
        "translation : [-0.05973343 -0.06040037 -0.06068807]\n",
        "rotation    : [-0.0001338   0.00027317  0.0004736 ]\n",
        "\n",
        "Estimating motion at time frame 36/121...\n",
        "Optimization terminated successfully."
       ]
      },
      {
       "output_type": "stream",
       "stream": "stdout",
       "text": [
        "\n",
        "         Current function value: -6.329630\n",
        "         Iterations: 7\n",
        "         Function evaluations: 8\n",
        "         Gradient evaluations: 7\n",
        "         Hessian evaluations: 7\n",
        "translation : [-0.05847767 -0.05467099 -0.02239585]\n",
        "rotation    : [-0.00156391 -0.00078187  0.00104831]\n",
        "\n",
        "Estimating motion at time frame 37/121...\n",
        "Optimization terminated successfully."
       ]
      },
      {
       "output_type": "stream",
       "stream": "stdout",
       "text": [
        "\n",
        "         Current function value: -6.330223\n",
        "         Iterations: 8\n",
        "         Function evaluations: 9\n",
        "         Gradient evaluations: 8\n",
        "         Hessian evaluations: 8\n",
        "translation : [-0.04583661 -0.00060643 -0.04549142]\n",
        "rotation    : [-0.00254505 -0.00127479  0.00168809]\n",
        "\n",
        "Estimating motion at time frame 38/121...\n",
        "Optimization terminated successfully."
       ]
      },
      {
       "output_type": "stream",
       "stream": "stdout",
       "text": [
        "\n",
        "         Current function value: -6.330719\n",
        "         Iterations: 8\n",
        "         Function evaluations: 13\n",
        "         Gradient evaluations: 8\n",
        "         Hessian evaluations: 8\n",
        "translation : [-0.06886391  0.03675957 -0.02685298]\n",
        "rotation    : [-0.00133262 -0.00196698  0.00248277]\n",
        "\n",
        "Estimating motion at time frame 39/121...\n",
        "Optimization terminated successfully."
       ]
      },
      {
       "output_type": "stream",
       "stream": "stdout",
       "text": [
        "\n",
        "         Current function value: -6.331424\n",
        "         Iterations: 5\n",
        "         Function evaluations: 6\n",
        "         Gradient evaluations: 5\n",
        "         Hessian evaluations: 5\n",
        "translation : [-0.06344813  0.05248288 -0.00236703]\n",
        "rotation    : [-0.00206883 -0.00150391  0.00323764]\n",
        "\n",
        "Estimating motion at time frame 40/121...\n",
        "Optimization terminated successfully."
       ]
      },
      {
       "output_type": "stream",
       "stream": "stdout",
       "text": [
        "\n",
        "         Current function value: -6.332068\n",
        "         Iterations: 6\n",
        "         Function evaluations: 7\n",
        "         Gradient evaluations: 6\n",
        "         Hessian evaluations: 6\n",
        "translation : [-0.05817704  0.04050488  0.00172802]\n",
        "rotation    : [-0.00270139 -0.00021641  0.00248832]\n",
        "\n",
        "Estimating motion at time frame 41/121...\n",
        "Optimization terminated successfully."
       ]
      },
      {
       "output_type": "stream",
       "stream": "stdout",
       "text": [
        "\n",
        "         Current function value: -6.332556\n",
        "         Iterations: 8\n",
        "         Function evaluations: 9\n",
        "         Gradient evaluations: 8\n",
        "         Hessian evaluations: 8\n",
        "translation : [-0.04310825  0.0678692  -0.01390054]\n",
        "rotation    : [-0.00279281 -0.00078861  0.00129305]\n",
        "\n",
        "Estimating motion at time frame 42/121...\n",
        "Optimization terminated successfully."
       ]
      },
      {
       "output_type": "stream",
       "stream": "stdout",
       "text": [
        "\n",
        "         Current function value: -6.333027\n",
        "         Iterations: 9\n",
        "         Function evaluations: 14\n",
        "         Gradient evaluations: 9\n",
        "         Hessian evaluations: 9\n",
        "translation : [-0.06854416  0.07364128 -0.00495403]\n",
        "rotation    : [-0.0015759  -0.00107647  0.00284884]\n",
        "\n",
        "Estimating motion at time frame 43/121...\n",
        "Optimization terminated successfully."
       ]
      },
      {
       "output_type": "stream",
       "stream": "stdout",
       "text": [
        "\n",
        "         Current function value: -6.333752\n",
        "         Iterations: 6\n",
        "         Function evaluations: 7\n",
        "         Gradient evaluations: 6\n",
        "         Hessian evaluations: 6\n",
        "translation : [-0.06137069  0.08797754 -0.00525977]\n",
        "rotation    : [-0.00206654 -0.00224306  0.00274956]\n",
        "\n",
        "Estimating motion at time frame 44/121...\n",
        "Optimization terminated successfully."
       ]
      },
      {
       "output_type": "stream",
       "stream": "stdout",
       "text": [
        "\n",
        "         Current function value: -6.334314\n",
        "         Iterations: 6\n",
        "         Function evaluations: 7\n",
        "         Gradient evaluations: 6\n",
        "         Hessian evaluations: 6\n",
        "translation : [-0.06985808  0.05276079 -0.03439053]\n",
        "rotation    : [-0.00206969 -0.00186585  0.00200181]\n",
        "\n",
        "Estimating motion at time frame 45/121...\n",
        "Optimization terminated successfully."
       ]
      },
      {
       "output_type": "stream",
       "stream": "stdout",
       "text": [
        "\n",
        "         Current function value: -6.334659\n",
        "         Iterations: 7\n",
        "         Function evaluations: 8\n",
        "         Gradient evaluations: 7\n",
        "         Hessian evaluations: 7\n",
        "translation : [-0.03030906  0.02972735 -0.04298656]\n",
        "rotation    : [-0.00079602 -0.00133197  0.00242659]\n",
        "\n",
        "Estimating motion at time frame 46/121...\n",
        "Optimization terminated successfully."
       ]
      },
      {
       "output_type": "stream",
       "stream": "stdout",
       "text": [
        "\n",
        "         Current function value: -6.335193\n",
        "         Iterations: 6\n",
        "         Function evaluations: 7\n",
        "         Gradient evaluations: 6\n",
        "         Hessian evaluations: 6\n",
        "translation : [-0.01221156  0.00102452 -0.04022707]\n",
        "rotation    : [-0.00125354 -0.00205158  0.00233021]\n",
        "\n",
        "Estimating motion at time frame 47/121...\n",
        "Optimization terminated successfully."
       ]
      },
      {
       "output_type": "stream",
       "stream": "stdout",
       "text": [
        "\n",
        "         Current function value: -6.335613\n",
        "         Iterations: 7\n",
        "         Function evaluations: 8\n",
        "         Gradient evaluations: 7\n",
        "         Hessian evaluations: 7\n",
        "translation : [-0.04341035 -0.0049739  -0.02799616]\n",
        "rotation    : [-0.00100477 -0.00200897  0.00216562]\n",
        "\n",
        "Estimating motion at time frame 48/121...\n",
        "Optimization terminated successfully."
       ]
      },
      {
       "output_type": "stream",
       "stream": "stdout",
       "text": [
        "\n",
        "         Current function value: -6.335890\n",
        "         Iterations: 10\n",
        "         Function evaluations: 18\n",
        "         Gradient evaluations: 10\n",
        "         Hessian evaluations: 10\n",
        "translation : [-0.03538467 -0.01102595 -0.01825483]\n",
        "rotation    : [-0.0003946  -0.00063465  0.00252902]\n",
        "\n",
        "Estimating motion at time frame 49/121...\n",
        "Optimization terminated successfully."
       ]
      },
      {
       "output_type": "stream",
       "stream": "stdout",
       "text": [
        "\n",
        "         Current function value: -6.336013\n",
        "         Iterations: 5\n",
        "         Function evaluations: 6\n",
        "         Gradient evaluations: 5\n",
        "         Hessian evaluations: 5\n",
        "translation : [-0.03717283 -0.02013523 -0.02840619]\n",
        "rotation    : [ -9.54284089e-04  -6.14318301e-04   8.52956183e-05]\n",
        "\n",
        "Estimating motion at time frame 50/121...\n",
        "Optimization terminated successfully."
       ]
      },
      {
       "output_type": "stream",
       "stream": "stdout",
       "text": [
        "\n",
        "         Current function value: -6.336206\n",
        "         Iterations: 6\n",
        "         Function evaluations: 7\n",
        "         Gradient evaluations: 6\n",
        "         Hessian evaluations: 6\n",
        "translation : [-0.04748687  0.00804308 -0.02270663]\n",
        "rotation    : [-0.00154504 -0.00035799  0.00044997]\n",
        "\n",
        "Estimating motion at time frame 51/121...\n",
        "Optimization terminated successfully."
       ]
      },
      {
       "output_type": "stream",
       "stream": "stdout",
       "text": [
        "\n",
        "         Current function value: -6.336584\n",
        "         Iterations: 7\n",
        "         Function evaluations: 8\n",
        "         Gradient evaluations: 7\n",
        "         Hessian evaluations: 7\n",
        "translation : [-0.05698963  0.01673125 -0.05518179]\n",
        "rotation    : [-0.00082174 -0.00118267  0.0023395 ]\n",
        "\n",
        "Estimating motion at time frame 52/121...\n",
        "Optimization terminated successfully."
       ]
      },
      {
       "output_type": "stream",
       "stream": "stdout",
       "text": [
        "\n",
        "         Current function value: -6.336860\n",
        "         Iterations: 7\n",
        "         Function evaluations: 8\n",
        "         Gradient evaluations: 7\n",
        "         Hessian evaluations: 7\n",
        "translation : [-0.05609593  0.03396686 -0.03862095]\n",
        "rotation    : [-0.00121126 -0.00128972  0.00154146]\n",
        "\n",
        "Estimating motion at time frame 53/121...\n",
        "Optimization terminated successfully."
       ]
      },
      {
       "output_type": "stream",
       "stream": "stdout",
       "text": [
        "\n",
        "         Current function value: -6.337013\n",
        "         Iterations: 7\n",
        "         Function evaluations: 8\n",
        "         Gradient evaluations: 7\n",
        "         Hessian evaluations: 7\n",
        "translation : [-0.04869735  0.01402427 -0.00464874]\n",
        "rotation    : [-0.00062059 -0.00166526  0.00062867]\n",
        "\n",
        "Estimating motion at time frame 54/121...\n",
        "Optimization terminated successfully."
       ]
      },
      {
       "output_type": "stream",
       "stream": "stdout",
       "text": [
        "\n",
        "         Current function value: -6.337092\n",
        "         Iterations: 7\n",
        "         Function evaluations: 16\n",
        "         Gradient evaluations: 7\n",
        "         Hessian evaluations: 7\n",
        "translation : [-0.05003204  0.00339976 -0.01276425]\n",
        "rotation    : [-0.00031503 -0.00090519  0.00045563]\n",
        "\n",
        "Estimating motion at time frame 55/121...\n",
        "Optimization terminated successfully."
       ]
      },
      {
       "output_type": "stream",
       "stream": "stdout",
       "text": [
        "\n",
        "         Current function value: -6.337227\n",
        "         Iterations: 8\n",
        "         Function evaluations: 9\n",
        "         Gradient evaluations: 8\n",
        "         Hessian evaluations: 8\n",
        "translation : [-0.04349731 -0.00353608 -0.01696442]\n",
        "rotation    : [-0.00103095 -0.00085542  0.00051787]\n",
        "\n",
        "Estimating motion at time frame 56/121...\n",
        "Optimization terminated successfully."
       ]
      },
      {
       "output_type": "stream",
       "stream": "stdout",
       "text": [
        "\n",
        "         Current function value: -6.337596\n",
        "         Iterations: 5\n",
        "         Function evaluations: 6\n",
        "         Gradient evaluations: 5\n",
        "         Hessian evaluations: 5\n",
        "translation : [-0.05004906 -0.00653723 -0.03967419]\n",
        "rotation    : [ -1.78973078e-03   5.05032084e-06   1.57957490e-03]\n",
        "\n",
        "Estimating motion at time frame 57/121...\n",
        "Optimization terminated successfully."
       ]
      },
      {
       "output_type": "stream",
       "stream": "stdout",
       "text": [
        "\n",
        "         Current function value: -6.337847\n",
        "         Iterations: 6\n",
        "         Function evaluations: 7\n",
        "         Gradient evaluations: 6\n",
        "         Hessian evaluations: 6\n",
        "translation : [-0.01191324 -0.03160111 -0.04529673]\n",
        "rotation    : [-0.00092493  0.00028858  0.00178701]\n",
        "\n",
        "Estimating motion at time frame 58/121...\n",
        "Optimization terminated successfully."
       ]
      },
      {
       "output_type": "stream",
       "stream": "stdout",
       "text": [
        "\n",
        "         Current function value: -6.338220\n",
        "         Iterations: 8\n",
        "         Function evaluations: 10\n",
        "         Gradient evaluations: 8\n",
        "         Hessian evaluations: 8\n",
        "translation : [-0.0279708  -0.01948132 -0.03606258]\n",
        "rotation    : [-0.00070885 -0.00148397  0.00256994]\n",
        "\n",
        "Estimating motion at time frame 59/121...\n",
        "Optimization terminated successfully."
       ]
      },
      {
       "output_type": "stream",
       "stream": "stdout",
       "text": [
        "\n",
        "         Current function value: -6.338618\n",
        "         Iterations: 8\n",
        "         Function evaluations: 9\n",
        "         Gradient evaluations: 8\n",
        "         Hessian evaluations: 8\n",
        "translation : [-0.01433163 -0.01881631 -0.02049285]\n",
        "rotation    : [-0.00100585 -0.00245132  0.00141272]\n",
        "\n",
        "Estimating motion at time frame 60/121...\n",
        "Optimization terminated successfully."
       ]
      },
      {
       "output_type": "stream",
       "stream": "stdout",
       "text": [
        "\n",
        "         Current function value: -6.338858\n",
        "         Iterations: 6\n",
        "         Function evaluations: 7\n",
        "         Gradient evaluations: 6\n",
        "         Hessian evaluations: 6\n",
        "translation : [-0.00108222 -0.02292137 -0.02298462]\n",
        "rotation    : [-0.00116241 -0.00130386  0.00087814]\n",
        "\n",
        "Estimating motion at time frame 61/121...\n",
        "Optimization terminated successfully."
       ]
      },
      {
       "output_type": "stream",
       "stream": "stdout",
       "text": [
        "\n",
        "         Current function value: -6.339148\n",
        "         Iterations: 7\n",
        "         Function evaluations: 8\n",
        "         Gradient evaluations: 7\n",
        "         Hessian evaluations: 7\n",
        "translation : [-0.02598379 -0.03919426 -0.02248411]\n",
        "rotation    : [-0.00012567 -0.00132818  0.00230574]\n",
        "\n",
        "Estimating motion at time frame 62/121...\n",
        "Optimization terminated successfully."
       ]
      },
      {
       "output_type": "stream",
       "stream": "stdout",
       "text": [
        "\n",
        "         Current function value: -6.339286\n",
        "         Iterations: 9\n",
        "         Function evaluations: 21\n",
        "         Gradient evaluations: 9\n",
        "         Hessian evaluations: 9\n",
        "translation : [ 0.01164239 -0.02974702 -0.05085832]\n",
        "rotation    : [-0.00030313 -0.00070785  0.00075973]\n",
        "\n",
        "Estimating motion at time frame 63/121...\n",
        "Optimization terminated successfully."
       ]
      },
      {
       "output_type": "stream",
       "stream": "stdout",
       "text": [
        "\n",
        "         Current function value: -6.339431\n",
        "         Iterations: 6\n",
        "         Function evaluations: 7\n",
        "         Gradient evaluations: 6\n",
        "         Hessian evaluations: 6\n",
        "translation : [ 0.02263601 -0.05478358 -0.01399595]\n",
        "rotation    : [-0.00080768 -0.00011674 -0.00089079]\n",
        "\n",
        "Estimating motion at time frame 64/121...\n",
        "Optimization terminated successfully."
       ]
      },
      {
       "output_type": "stream",
       "stream": "stdout",
       "text": [
        "\n",
        "         Current function value: -6.339564\n",
        "         Iterations: 6\n",
        "         Function evaluations: 7\n",
        "         Gradient evaluations: 6\n",
        "         Hessian evaluations: 6\n",
        "translation : [ 0.01657645 -0.03539572 -0.0170142 ]\n",
        "rotation    : [-0.00108849  0.00011566  0.00053684]\n",
        "\n",
        "Estimating motion at time frame 65/121...\n",
        "Optimization terminated successfully."
       ]
      },
      {
       "output_type": "stream",
       "stream": "stdout",
       "text": [
        "\n",
        "         Current function value: -6.339675\n",
        "         Iterations: 5\n",
        "         Function evaluations: 6\n",
        "         Gradient evaluations: 5\n",
        "         Hessian evaluations: 5\n",
        "translation : [-0.01250229  0.00553144 -0.03246694]\n",
        "rotation    : [-0.00083816 -0.00027319  0.00113302]\n",
        "\n",
        "Estimating motion at time frame 66/121...\n",
        "Optimization terminated successfully."
       ]
      },
      {
       "output_type": "stream",
       "stream": "stdout",
       "text": [
        "\n",
        "         Current function value: -6.339718\n",
        "         Iterations: 5\n",
        "         Function evaluations: 6\n",
        "         Gradient evaluations: 5\n",
        "         Hessian evaluations: 5\n",
        "translation : [ 0.00418873  0.00421107 -0.02256135]\n",
        "rotation    : [-0.00076903  0.00020674 -0.00034165]\n",
        "\n",
        "Estimating motion at time frame 67/121...\n",
        "Optimization terminated successfully."
       ]
      },
      {
       "output_type": "stream",
       "stream": "stdout",
       "text": [
        "\n",
        "         Current function value: -6.339762\n",
        "         Iterations: 7\n",
        "         Function evaluations: 10\n",
        "         Gradient evaluations: 7\n",
        "         Hessian evaluations: 7\n",
        "translation : [-0.00200664  0.00601005 -0.00235788]\n",
        "rotation    : [-0.00065247 -0.00062159  0.00032407]\n",
        "\n",
        "Estimating motion at time frame 68/121...\n",
        "Optimization terminated successfully."
       ]
      },
      {
       "output_type": "stream",
       "stream": "stdout",
       "text": [
        "\n",
        "         Current function value: -6.339887\n",
        "         Iterations: 6\n",
        "         Function evaluations: 7\n",
        "         Gradient evaluations: 6\n",
        "         Hessian evaluations: 6\n",
        "translation : [-0.02740161  0.01438967 -0.03739854]\n",
        "rotation    : [-0.00103639  0.00040474  0.00068106]\n",
        "\n",
        "Estimating motion at time frame 69/121...\n",
        "Optimization terminated successfully."
       ]
      },
      {
       "output_type": "stream",
       "stream": "stdout",
       "text": [
        "\n",
        "         Current function value: -6.340114\n",
        "         Iterations: 7\n",
        "         Function evaluations: 8\n",
        "         Gradient evaluations: 7\n",
        "         Hessian evaluations: 7\n",
        "translation : [-0.02629211  0.03814909 -0.03221215]\n",
        "rotation    : [ -1.79513063e-03  -9.32601530e-04   9.79540465e-05]\n",
        "\n",
        "Estimating motion at time frame 70/121...\n",
        "Optimization terminated successfully."
       ]
      },
      {
       "output_type": "stream",
       "stream": "stdout",
       "text": [
        "\n",
        "         Current function value: -6.340211\n",
        "         Iterations: 6\n",
        "         Function evaluations: 7\n",
        "         Gradient evaluations: 6\n",
        "         Hessian evaluations: 6\n",
        "translation : [-0.02957896  0.05199633 -0.00323779]\n",
        "rotation    : [-0.00082505 -0.00090535  0.0005457 ]\n",
        "\n",
        "Estimating motion at time frame 71/121...\n",
        "Optimization terminated successfully."
       ]
      },
      {
       "output_type": "stream",
       "stream": "stdout",
       "text": [
        "\n",
        "         Current function value: -6.340300\n",
        "         Iterations: 10\n",
        "         Function evaluations: 17\n",
        "         Gradient evaluations: 10\n",
        "         Hessian evaluations: 10\n",
        "translation : [-0.00718381  0.02910407 -0.00346897]\n",
        "rotation    : [-0.0010776   0.0001562  -0.00107883]\n",
        "\n",
        "Estimating motion at time frame 72/121...\n",
        "Optimization terminated successfully."
       ]
      },
      {
       "output_type": "stream",
       "stream": "stdout",
       "text": [
        "\n",
        "         Current function value: -6.340442\n",
        "         Iterations: 7\n",
        "         Function evaluations: 8\n",
        "         Gradient evaluations: 7\n",
        "         Hessian evaluations: 7\n",
        "translation : [-0.00775969  0.05139811 -0.02021846]\n",
        "rotation    : [ -1.42667468e-03  -8.39688651e-04  -6.75493063e-05]\n",
        "\n",
        "Estimating motion at time frame 73/121...\n",
        "Optimization terminated successfully."
       ]
      },
      {
       "output_type": "stream",
       "stream": "stdout",
       "text": [
        "\n",
        "         Current function value: -6.340712\n",
        "         Iterations: 7\n",
        "         Function evaluations: 8\n",
        "         Gradient evaluations: 7\n",
        "         Hessian evaluations: 7\n",
        "translation : [-0.04260424  0.01795161 -0.01386799]\n",
        "rotation    : [-0.00199605 -0.000318    0.00088944]\n",
        "\n",
        "Estimating motion at time frame 74/121...\n",
        "Optimization terminated successfully."
       ]
      },
      {
       "output_type": "stream",
       "stream": "stdout",
       "text": [
        "\n",
        "         Current function value: -6.341122\n",
        "         Iterations: 32\n",
        "         Function evaluations: 33\n",
        "         Gradient evaluations: 32\n",
        "         Hessian evaluations: 32\n",
        "translation : [ 0.00545324 -0.00057299 -0.0383464 ]\n",
        "rotation    : [ 0.00237527 -0.00361484 -0.00148203]\n",
        "\n",
        "Estimating motion at time frame 75/121...\n",
        "Optimization terminated successfully."
       ]
      },
      {
       "output_type": "stream",
       "stream": "stdout",
       "text": [
        "\n",
        "         Current function value: -6.342133\n",
        "         Iterations: 11\n",
        "         Function evaluations: 12\n",
        "         Gradient evaluations: 11\n",
        "         Hessian evaluations: 11\n",
        "translation : [-0.00985614 -0.03716704  0.03692394]\n",
        "rotation    : [ 0.0046797  -0.00062828 -0.00015836]\n",
        "\n",
        "Estimating motion at time frame 76/121...\n",
        "Optimization terminated successfully."
       ]
      },
      {
       "output_type": "stream",
       "stream": "stdout",
       "text": [
        "\n",
        "         Current function value: -6.342270\n",
        "         Iterations: 9\n",
        "         Function evaluations: 10\n",
        "         Gradient evaluations: 9\n",
        "         Hessian evaluations: 9\n",
        "translation : [ 0.00119713 -0.00800735 -0.03200265]\n",
        "rotation    : [ -1.20977598e-03   2.36094444e-05  -1.35211622e-03]\n",
        "\n",
        "Estimating motion at time frame 77/121...\n",
        "Optimization terminated successfully."
       ]
      },
      {
       "output_type": "stream",
       "stream": "stdout",
       "text": [
        "\n",
        "         Current function value: -6.342411\n",
        "         Iterations: 10\n",
        "         Function evaluations: 11\n",
        "         Gradient evaluations: 10\n",
        "         Hessian evaluations: 10\n",
        "translation : [ 0.02337243 -0.02762587 -0.014732  ]\n",
        "rotation    : [-0.0004642  -0.00130514 -0.00032328]\n",
        "\n",
        "Estimating motion at time frame 78/121...\n",
        "Optimization terminated successfully."
       ]
      },
      {
       "output_type": "stream",
       "stream": "stdout",
       "text": [
        "\n",
        "         Current function value: -6.342502\n",
        "         Iterations: 7\n",
        "         Function evaluations: 8\n",
        "         Gradient evaluations: 7\n",
        "         Hessian evaluations: 7\n",
        "translation : [ 0.01057088 -0.04693108 -0.01642626]\n",
        "rotation    : [-0.00050957 -0.00031952 -0.00074765]\n",
        "\n",
        "Estimating motion at time frame 79/121...\n",
        "Optimization terminated successfully."
       ]
      },
      {
       "output_type": "stream",
       "stream": "stdout",
       "text": [
        "\n",
        "         Current function value: -6.342584\n",
        "         Iterations: 8\n",
        "         Function evaluations: 9\n",
        "         Gradient evaluations: 8\n",
        "         Hessian evaluations: 8\n",
        "translation : [ 0.0192872 -0.0267163 -0.0065161]\n",
        "rotation    : [ 0.00074673 -0.00032648 -0.0011559 ]\n",
        "\n",
        "Estimating motion at time frame 80/121...\n",
        "Optimization terminated successfully."
       ]
      },
      {
       "output_type": "stream",
       "stream": "stdout",
       "text": [
        "\n",
        "         Current function value: -6.342656\n",
        "         Iterations: 7\n",
        "         Function evaluations: 9\n",
        "         Gradient evaluations: 7\n",
        "         Hessian evaluations: 7\n",
        "translation : [ 0.01390969 -0.04160831 -0.01860688]\n",
        "rotation    : [  1.12263547e-03   1.71786680e-04  -1.14631625e-05]\n",
        "\n",
        "Estimating motion at time frame 81/121...\n",
        "Optimization terminated successfully."
       ]
      },
      {
       "output_type": "stream",
       "stream": "stdout",
       "text": [
        "\n",
        "         Current function value: -6.342757\n",
        "         Iterations: 9\n",
        "         Function evaluations: 10\n",
        "         Gradient evaluations: 9\n",
        "         Hessian evaluations: 9\n",
        "translation : [-0.00437215 -0.04398502  0.02068755]\n",
        "rotation    : [ 0.0008381  -0.0005034  -0.00122234]\n",
        "\n",
        "Estimating motion at time frame 82/121...\n",
        "Optimization terminated successfully."
       ]
      },
      {
       "output_type": "stream",
       "stream": "stdout",
       "text": [
        "\n",
        "         Current function value: -6.343193\n",
        "         Iterations: 13\n",
        "         Function evaluations: 22\n",
        "         Gradient evaluations: 13\n",
        "         Hessian evaluations: 13\n",
        "translation : [ 0.03858513  0.00710725  0.00365776]\n",
        "rotation    : [ -5.70756825e-05  -2.62682955e-04  -4.09164774e-03]\n",
        "\n",
        "Estimating motion at time frame 83/121...\n",
        "Optimization terminated successfully."
       ]
      },
      {
       "output_type": "stream",
       "stream": "stdout",
       "text": [
        "\n",
        "         Current function value: -6.343384\n",
        "         Iterations: 10\n",
        "         Function evaluations: 13\n",
        "         Gradient evaluations: 10\n",
        "         Hessian evaluations: 10\n",
        "translation : [ 0.04302645  0.00604935  0.0029121 ]\n",
        "rotation    : [-0.00088037  0.00096013 -0.00217519]\n",
        "\n",
        "Estimating motion at time frame 84/121...\n",
        "Optimization terminated successfully."
       ]
      },
      {
       "output_type": "stream",
       "stream": "stdout",
       "text": [
        "\n",
        "         Current function value: -6.343506\n",
        "         Iterations: 8\n",
        "         Function evaluations: 9\n",
        "         Gradient evaluations: 8\n",
        "         Hessian evaluations: 8\n",
        "translation : [ 0.02755571  0.00887969  0.01481617]\n",
        "rotation    : [-0.00119192  0.00040358 -0.00118636]\n",
        "\n",
        "Estimating motion at time frame 85/121...\n",
        "Optimization terminated successfully."
       ]
      },
      {
       "output_type": "stream",
       "stream": "stdout",
       "text": [
        "\n",
        "         Current function value: -6.343582\n",
        "         Iterations: 9\n",
        "         Function evaluations: 10\n",
        "         Gradient evaluations: 9\n",
        "         Hessian evaluations: 9\n",
        "translation : [ 0.03266299 -0.00223022  0.00973307]\n",
        "rotation    : [-0.00055669 -0.00062248 -0.00044822]\n",
        "\n",
        "Estimating motion at time frame 86/121...\n",
        "Optimization terminated successfully."
       ]
      },
      {
       "output_type": "stream",
       "stream": "stdout",
       "text": [
        "\n",
        "         Current function value: -6.343593\n",
        "         Iterations: 11\n",
        "         Function evaluations: 18\n",
        "         Gradient evaluations: 11\n",
        "         Hessian evaluations: 11\n",
        "translation : [ 0.00668905  0.01747903  0.01249129]\n",
        "rotation    : [ 0.00010769  0.00010073 -0.00017251]\n",
        "\n",
        "Estimating motion at time frame 87/121...\n",
        "Optimization terminated successfully."
       ]
      },
      {
       "output_type": "stream",
       "stream": "stdout",
       "text": [
        "\n",
        "         Current function value: -6.343683\n",
        "         Iterations: 9\n",
        "         Function evaluations: 10\n",
        "         Gradient evaluations: 9\n",
        "         Hessian evaluations: 9\n",
        "translation : [-0.01824415 -0.01919846  0.02590943]\n",
        "rotation    : [-0.00019907 -0.0001975  -0.00140736]\n",
        "\n",
        "Estimating motion at time frame 88/121...\n",
        "Optimization terminated successfully."
       ]
      },
      {
       "output_type": "stream",
       "stream": "stdout",
       "text": [
        "\n",
        "         Current function value: -6.343944\n",
        "         Iterations: 10\n",
        "         Function evaluations: 11\n",
        "         Gradient evaluations: 10\n",
        "         Hessian evaluations: 10\n",
        "translation : [ 0.02928954 -0.02091411 -0.00105839]\n",
        "rotation    : [-0.00121313  0.00041463 -0.00257489]\n",
        "\n",
        "Estimating motion at time frame 89/121...\n",
        "Optimization terminated successfully."
       ]
      },
      {
       "output_type": "stream",
       "stream": "stdout",
       "text": [
        "\n",
        "         Current function value: -6.344066\n",
        "         Iterations: 10\n",
        "         Function evaluations: 15\n",
        "         Gradient evaluations: 10\n",
        "         Hessian evaluations: 10\n",
        "translation : [ 0.04198033 -0.02848598 -0.00457596]\n",
        "rotation    : [-0.00054806  0.00046423 -0.00153011]\n",
        "\n",
        "Estimating motion at time frame 90/121...\n",
        "Optimization terminated successfully."
       ]
      },
      {
       "output_type": "stream",
       "stream": "stdout",
       "text": [
        "\n",
        "         Current function value: -6.344229\n",
        "         Iterations: 11\n",
        "         Function evaluations: 12\n",
        "         Gradient evaluations: 11\n",
        "         Hessian evaluations: 11\n",
        "translation : [ 0.02558585 -0.05281025  0.00853285]\n",
        "rotation    : [-0.00077661  0.00101494 -0.00153907]\n",
        "\n",
        "Estimating motion at time frame 91/121...\n",
        "Optimization terminated successfully."
       ]
      },
      {
       "output_type": "stream",
       "stream": "stdout",
       "text": [
        "\n",
        "         Current function value: -6.344396\n",
        "         Iterations: 10\n",
        "         Function evaluations: 11\n",
        "         Gradient evaluations: 10\n",
        "         Hessian evaluations: 10\n",
        "translation : [ 0.01860164 -0.04016875  0.00232094]\n",
        "rotation    : [-0.00084075  0.00110776 -0.00169809]\n",
        "\n",
        "Estimating motion at time frame 92/121...\n",
        "Optimization terminated successfully."
       ]
      },
      {
       "output_type": "stream",
       "stream": "stdout",
       "text": [
        "\n",
        "         Current function value: -6.344508\n",
        "         Iterations: 8\n",
        "         Function evaluations: 9\n",
        "         Gradient evaluations: 8\n",
        "         Hessian evaluations: 8\n",
        "translation : [ 0.02455082 -0.00546642  0.00193785]\n",
        "rotation    : [-0.00091901 -0.00026672  0.00108196]\n",
        "\n",
        "Estimating motion at time frame 93/121...\n",
        "Optimization terminated successfully."
       ]
      },
      {
       "output_type": "stream",
       "stream": "stdout",
       "text": [
        "\n",
        "         Current function value: -6.344586\n",
        "         Iterations: 8\n",
        "         Function evaluations: 13\n",
        "         Gradient evaluations: 8\n",
        "         Hessian evaluations: 8\n",
        "translation : [ 0.00135557 -0.01954893 -0.00635197]\n",
        "rotation    : [-0.00056059  0.00115841 -0.00065839]\n",
        "\n",
        "Estimating motion at time frame 94/121...\n",
        "Optimization terminated successfully."
       ]
      },
      {
       "output_type": "stream",
       "stream": "stdout",
       "text": [
        "\n",
        "         Current function value: -6.344629\n",
        "         Iterations: 8\n",
        "         Function evaluations: 9\n",
        "         Gradient evaluations: 8\n",
        "         Hessian evaluations: 8\n",
        "translation : [ 0.01062316 -0.01098263 -0.02124509]\n",
        "rotation    : [-0.0005415  -0.00014713 -0.00071951]\n",
        "\n",
        "Estimating motion at time frame 95/121...\n",
        "Optimization terminated successfully."
       ]
      },
      {
       "output_type": "stream",
       "stream": "stdout",
       "text": [
        "\n",
        "         Current function value: -6.344728\n",
        "         Iterations: 8\n",
        "         Function evaluations: 9\n",
        "         Gradient evaluations: 8\n",
        "         Hessian evaluations: 8\n",
        "translation : [ 0.01529853  0.01883825 -0.03095839]\n",
        "rotation    : [-0.00112225 -0.00047648  0.00023511]\n",
        "\n",
        "Estimating motion at time frame 96/121...\n",
        "Optimization terminated successfully."
       ]
      },
      {
       "output_type": "stream",
       "stream": "stdout",
       "text": [
        "\n",
        "         Current function value: -6.344866\n",
        "         Iterations: 8\n",
        "         Function evaluations: 9\n",
        "         Gradient evaluations: 8\n",
        "         Hessian evaluations: 8\n",
        "translation : [ 0.02516524  0.02191945  0.01434922]\n",
        "rotation    : [-0.00062199 -0.00121234 -0.00080541]\n",
        "\n",
        "Estimating motion at time frame 97/121...\n",
        "Optimization terminated successfully."
       ]
      },
      {
       "output_type": "stream",
       "stream": "stdout",
       "text": [
        "\n",
        "         Current function value: -6.345081\n",
        "         Iterations: 15\n",
        "         Function evaluations: 16\n",
        "         Gradient evaluations: 15\n",
        "         Hessian evaluations: 15\n",
        "translation : [ 0.07724476 -0.00928004  0.00800545]\n",
        "rotation    : [-0.00078025 -0.00052142 -0.00131838]\n",
        "\n",
        "Estimating motion at time frame 98/121...\n",
        "Optimization terminated successfully."
       ]
      },
      {
       "output_type": "stream",
       "stream": "stdout",
       "text": [
        "\n",
        "         Current function value: -6.345146\n",
        "         Iterations: 16\n",
        "         Function evaluations: 21\n",
        "         Gradient evaluations: 16\n",
        "         Hessian evaluations: 16\n",
        "translation : [ 0.03526418 -0.01193457  0.00198287]\n",
        "rotation    : [-0.00045877  0.00060504 -0.00132524]\n",
        "\n",
        "Estimating motion at time frame 99/121...\n",
        "Optimization terminated successfully."
       ]
      },
      {
       "output_type": "stream",
       "stream": "stdout",
       "text": [
        "\n",
        "         Current function value: -6.345239\n",
        "         Iterations: 14\n",
        "         Function evaluations: 15\n",
        "         Gradient evaluations: 14\n",
        "         Hessian evaluations: 14\n",
        "translation : [ 0.02234311 -0.01560546  0.01374774]\n",
        "rotation    : [ 0.00091415 -0.00016373 -0.00129539]\n",
        "\n",
        "Estimating motion at time frame 100/121...\n",
        "Optimization terminated successfully."
       ]
      },
      {
       "output_type": "stream",
       "stream": "stdout",
       "text": [
        "\n",
        "         Current function value: -6.345424\n",
        "         Iterations: 15\n",
        "         Function evaluations: 20\n",
        "         Gradient evaluations: 15\n",
        "         Hessian evaluations: 15\n",
        "translation : [ 0.08633341  0.03612261 -0.01768435]\n",
        "rotation    : [ 0.00029836  0.00036578 -0.00111784]\n",
        "\n",
        "Estimating motion at time frame 101/121...\n",
        "Optimization terminated successfully."
       ]
      },
      {
       "output_type": "stream",
       "stream": "stdout",
       "text": [
        "\n",
        "         Current function value: -6.345635\n",
        "         Iterations: 16\n",
        "         Function evaluations: 17\n",
        "         Gradient evaluations: 16\n",
        "         Hessian evaluations: 16\n",
        "translation : [ 0.05806817 -0.0091085   0.00919831]\n",
        "rotation    : [-0.00022839 -0.00031016 -0.00267494]\n",
        "\n",
        "Estimating motion at time frame 102/121...\n",
        "Optimization terminated successfully."
       ]
      },
      {
       "output_type": "stream",
       "stream": "stdout",
       "text": [
        "\n",
        "         Current function value: -6.345845\n",
        "         Iterations: 18\n",
        "         Function evaluations: 19\n",
        "         Gradient evaluations: 18\n",
        "         Hessian evaluations: 18\n",
        "translation : [ 0.08425597 -0.0130324  -0.02093176]\n",
        "rotation    : [-0.00031547  0.00030767 -0.00212074]\n",
        "\n",
        "Estimating motion at time frame 103/121...\n",
        "Optimization terminated successfully."
       ]
      },
      {
       "output_type": "stream",
       "stream": "stdout",
       "text": [
        "\n",
        "         Current function value: -6.345935\n",
        "         Iterations: 10\n",
        "         Function evaluations: 11\n",
        "         Gradient evaluations: 10\n",
        "         Hessian evaluations: 10\n",
        "translation : [ 0.04253547 -0.02230563 -0.00254413]\n",
        "rotation    : [ 0.00028129 -0.00022252  0.00093933]\n",
        "\n",
        "Estimating motion at time frame 104/121...\n",
        "Optimization terminated successfully."
       ]
      },
      {
       "output_type": "stream",
       "stream": "stdout",
       "text": [
        "\n",
        "         Current function value: -6.346007\n",
        "         Iterations: 7\n",
        "         Function evaluations: 8\n",
        "         Gradient evaluations: 7\n",
        "         Hessian evaluations: 7\n",
        "translation : [-0.00385728 -0.05512885  0.03305142]\n",
        "rotation    : [ 0.00077336  0.00020023 -0.0002717 ]\n",
        "\n",
        "Estimating motion at time frame 105/121...\n",
        "Optimization terminated successfully."
       ]
      },
      {
       "output_type": "stream",
       "stream": "stdout",
       "text": [
        "\n",
        "         Current function value: -6.346294\n",
        "         Iterations: 11\n",
        "         Function evaluations: 12\n",
        "         Gradient evaluations: 11\n",
        "         Hessian evaluations: 11\n",
        "translation : [ 0.03692673 -0.02080838 -0.01621432]\n",
        "rotation    : [ 0.00043149  0.00145525 -0.00306504]\n",
        "\n",
        "Estimating motion at time frame 106/121...\n",
        "Optimization terminated successfully."
       ]
      },
      {
       "output_type": "stream",
       "stream": "stdout",
       "text": [
        "\n",
        "         Current function value: -6.346638\n",
        "         Iterations: 12\n",
        "         Function evaluations: 13\n",
        "         Gradient evaluations: 12\n",
        "         Hessian evaluations: 12\n",
        "translation : [ 0.07380531 -0.00593262 -0.04807677]\n",
        "rotation    : [ 0.00061397  0.00075902 -0.00300646]\n",
        "\n",
        "Estimating motion at time frame 107/121...\n",
        "Optimization terminated successfully."
       ]
      },
      {
       "output_type": "stream",
       "stream": "stdout",
       "text": [
        "\n",
        "         Current function value: -6.347007\n",
        "         Iterations: 13\n",
        "         Function evaluations: 14\n",
        "         Gradient evaluations: 13\n",
        "         Hessian evaluations: 13\n",
        "translation : [ 0.0614357   0.01523702 -0.05920555]\n",
        "rotation    : [ 0.00144608  0.00102253 -0.00220432]\n",
        "\n",
        "Estimating motion at time frame 108/121...\n",
        "Optimization terminated successfully."
       ]
      },
      {
       "output_type": "stream",
       "stream": "stdout",
       "text": [
        "\n",
        "         Current function value: -6.347731\n",
        "         Iterations: 14\n",
        "         Function evaluations: 15\n",
        "         Gradient evaluations: 14\n",
        "         Hessian evaluations: 14\n",
        "translation : [ 0.06925861  0.02664948 -0.04258225]\n",
        "rotation    : [ 0.00078746  0.0016764  -0.00474793]\n",
        "\n",
        "Estimating motion at time frame 109/121...\n",
        "Optimization terminated successfully."
       ]
      },
      {
       "output_type": "stream",
       "stream": "stdout",
       "text": [
        "\n",
        "         Current function value: -6.348176\n",
        "         Iterations: 13\n",
        "         Function evaluations: 14\n",
        "         Gradient evaluations: 13\n",
        "         Hessian evaluations: 13\n",
        "translation : [ 0.06925041  0.02416178 -0.03660971]\n",
        "rotation    : [-0.00024309  0.00145994 -0.00389087]\n",
        "\n",
        "Estimating motion at time frame 110/121...\n",
        "Optimization terminated successfully."
       ]
      },
      {
       "output_type": "stream",
       "stream": "stdout",
       "text": [
        "\n",
        "         Current function value: -6.348700\n",
        "         Iterations: 12\n",
        "         Function evaluations: 13\n",
        "         Gradient evaluations: 12\n",
        "         Hessian evaluations: 12\n",
        "translation : [ 0.07377188  0.04080285 -0.05015953]\n",
        "rotation    : [ 0.00027193  0.00075089 -0.00404898]\n",
        "\n",
        "Estimating motion at time frame 111/121...\n",
        "Optimization terminated successfully."
       ]
      },
      {
       "output_type": "stream",
       "stream": "stdout",
       "text": [
        "\n",
        "         Current function value: -6.349091\n",
        "         Iterations: 12\n",
        "         Function evaluations: 13\n",
        "         Gradient evaluations: 12\n",
        "         Hessian evaluations: 12\n",
        "translation : [ 0.08894641  0.02113464 -0.05958744]\n",
        "rotation    : [-0.00014429  0.00040784 -0.00303715]\n",
        "\n",
        "Estimating motion at time frame 112/121...\n",
        "Optimization terminated successfully."
       ]
      },
      {
       "output_type": "stream",
       "stream": "stdout",
       "text": [
        "\n",
        "         Current function value: -6.349372\n",
        "         Iterations: 10\n",
        "         Function evaluations: 11\n",
        "         Gradient evaluations: 10\n",
        "         Hessian evaluations: 10\n",
        "translation : [ 0.03493004  0.01593474 -0.0605416 ]\n",
        "rotation    : [-0.00061866  0.00149317 -0.00225942]\n",
        "\n",
        "Estimating motion at time frame 113/121...\n",
        "Optimization terminated successfully."
       ]
      },
      {
       "output_type": "stream",
       "stream": "stdout",
       "text": [
        "\n",
        "         Current function value: -6.349599\n",
        "         Iterations: 12\n",
        "         Function evaluations: 18\n",
        "         Gradient evaluations: 12\n",
        "         Hessian evaluations: 12\n",
        "translation : [ 0.05790233 -0.00254756 -0.01894323]\n",
        "rotation    : [-0.00018387  0.00053087 -0.00272223]\n",
        "\n",
        "Estimating motion at time frame 114/121...\n",
        "Optimization terminated successfully."
       ]
      },
      {
       "output_type": "stream",
       "stream": "stdout",
       "text": [
        "\n",
        "         Current function value: -6.350425\n",
        "         Iterations: 12\n",
        "         Function evaluations: 13\n",
        "         Gradient evaluations: 12\n",
        "         Hessian evaluations: 12\n",
        "translation : [ 0.08222547 -0.00657179 -0.0299611 ]\n",
        "rotation    : [-0.00055494  0.00091665 -0.00546929]\n",
        "\n",
        "Estimating motion at time frame 115/121...\n",
        "Optimization terminated successfully."
       ]
      },
      {
       "output_type": "stream",
       "stream": "stdout",
       "text": [
        "\n",
        "         Current function value: -6.351343\n",
        "         Iterations: 11\n",
        "         Function evaluations: 12\n",
        "         Gradient evaluations: 11\n",
        "         Hessian evaluations: 11\n",
        "translation : [ 0.08182988  0.00209713 -0.0534267 ]\n",
        "rotation    : [-0.0003781   0.00171993 -0.00576221]\n",
        "\n",
        "Estimating motion at time frame 116/121...\n",
        "Optimization terminated successfully."
       ]
      },
      {
       "output_type": "stream",
       "stream": "stdout",
       "text": [
        "\n",
        "         Current function value: -6.351808\n",
        "         Iterations: 13\n",
        "         Function evaluations: 14\n",
        "         Gradient evaluations: 13\n",
        "         Hessian evaluations: 13\n",
        "translation : [ 0.07784003 -0.00942977 -0.03611797]\n",
        "rotation    : [ -8.82453007e-05   1.72219284e-03  -3.83960302e-03]\n",
        "\n",
        "Estimating motion at time frame 117/121...\n",
        "Optimization terminated successfully."
       ]
      },
      {
       "output_type": "stream",
       "stream": "stdout",
       "text": [
        "\n",
        "         Current function value: -6.352379\n",
        "         Iterations: 21\n",
        "         Function evaluations: 44\n",
        "         Gradient evaluations: 21\n",
        "         Hessian evaluations: 21\n",
        "translation : [ 0.06423001 -0.0313237  -0.02518151]\n",
        "rotation    : [ 0.00025566  0.00163512 -0.00435512]\n",
        "\n",
        "Estimating motion at time frame 118/121...\n",
        "Optimization terminated successfully."
       ]
      },
      {
       "output_type": "stream",
       "stream": "stdout",
       "text": [
        "\n",
        "         Current function value: -6.352803\n",
        "         Iterations: 11\n",
        "         Function evaluations: 12\n",
        "         Gradient evaluations: 11\n",
        "         Hessian evaluations: 11\n",
        "translation : [ 0.0682333  -0.04534227 -0.01405482]\n",
        "rotation    : [ 0.00028889  0.0014607  -0.00348953]\n",
        "\n",
        "Estimating motion at time frame 119/121...\n",
        "Optimization terminated successfully."
       ]
      },
      {
       "output_type": "stream",
       "stream": "stdout",
       "text": [
        "\n",
        "         Current function value: -6.353074\n",
        "         Iterations: 9\n",
        "         Function evaluations: 19\n",
        "         Gradient evaluations: 9\n",
        "         Hessian evaluations: 9\n",
        "translation : [ 0.07402611 -0.0579042  -0.01680984]\n",
        "rotation    : [-0.00014409  0.0012798  -0.002003  ]\n",
        "\n",
        "Estimating motion at time frame 120/121...\n",
        "Optimization terminated successfully."
       ]
      },
      {
       "output_type": "stream",
       "stream": "stdout",
       "text": [
        "\n",
        "         Current function value: -6.353512\n",
        "         Iterations: 13\n",
        "         Function evaluations: 22\n",
        "         Gradient evaluations: 13\n",
        "         Hessian evaluations: 13\n",
        "translation : [ 0.04356846 -0.0694887  -0.00971056]\n",
        "rotation    : [ 0.00011774  0.00180913 -0.00304784]\n",
        "\n",
        "Estimating motion at time frame 121/121...\n",
        "Optimization terminated successfully."
       ]
      },
      {
       "output_type": "stream",
       "stream": "stdout",
       "text": [
        "\n",
        "         Current function value: -6.353641\n",
        "         Iterations: 8\n",
        "         Function evaluations: 9\n",
        "         Gradient evaluations: 8\n",
        "         Hessian evaluations: 8\n",
        "translation : [ 0.03954592 -0.01692439 -0.00413662]\n",
        "rotation    : [-0.00054916  0.00102438 -0.00154371]\n",
        "\n",
        "Resampling scan 1/121"
       ]
      },
      {
       "output_type": "stream",
       "stream": "stdout",
       "text": [
        "\n",
        "Resampling scan 2/121\n",
        "Resampling scan 3/121\n",
        "Resampling scan 4/121\n",
        "Resampling scan 5/121\n",
        "Resampling scan 6/121\n",
        "Resampling scan 7/121"
       ]
      },
      {
       "output_type": "stream",
       "stream": "stdout",
       "text": [
        "\n",
        "Resampling scan 8/121\n",
        "Resampling scan 9/121\n",
        "Resampling scan 10/121\n",
        "Resampling scan 11/121\n",
        "Resampling scan 12/121\n",
        "Resampling scan 13/121"
       ]
      },
      {
       "output_type": "stream",
       "stream": "stdout",
       "text": [
        "\n",
        "Resampling scan 14/121\n",
        "Resampling scan 15/121\n",
        "Resampling scan 16/121\n",
        "Resampling scan 17/121\n",
        "Resampling scan 18/121\n",
        "Resampling scan 19/121"
       ]
      },
      {
       "output_type": "stream",
       "stream": "stdout",
       "text": [
        "\n",
        "Resampling scan 20/121\n",
        "Resampling scan 21/121\n",
        "Resampling scan 22/121\n",
        "Resampling scan 23/121\n",
        "Resampling scan 24/121\n",
        "Resampling scan 25/121"
       ]
      },
      {
       "output_type": "stream",
       "stream": "stdout",
       "text": [
        "\n",
        "Resampling scan 26/121\n",
        "Resampling scan 27/121\n",
        "Resampling scan 28/121\n",
        "Resampling scan 29/121\n",
        "Resampling scan 30/121\n",
        "Resampling scan 31/121"
       ]
      },
      {
       "output_type": "stream",
       "stream": "stdout",
       "text": [
        "\n",
        "Resampling scan 32/121\n",
        "Resampling scan 33/121\n",
        "Resampling scan 34/121\n",
        "Resampling scan 35/121\n",
        "Resampling scan 36/121\n",
        "Resampling scan 37/121"
       ]
      },
      {
       "output_type": "stream",
       "stream": "stdout",
       "text": [
        "\n",
        "Resampling scan 38/121\n",
        "Resampling scan 39/121\n",
        "Resampling scan 40/121\n",
        "Resampling scan 41/121\n",
        "Resampling scan 42/121\n",
        "Resampling scan 43/121"
       ]
      },
      {
       "output_type": "stream",
       "stream": "stdout",
       "text": [
        "\n",
        "Resampling scan 44/121\n",
        "Resampling scan 45/121\n",
        "Resampling scan 46/121\n",
        "Resampling scan 47/121\n",
        "Resampling scan 48/121\n",
        "Resampling scan 49/121"
       ]
      },
      {
       "output_type": "stream",
       "stream": "stdout",
       "text": [
        "\n",
        "Resampling scan 50/121\n",
        "Resampling scan 51/121\n",
        "Resampling scan 52/121\n",
        "Resampling scan 53/121\n",
        "Resampling scan 54/121\n",
        "Resampling scan 55/121"
       ]
      },
      {
       "output_type": "stream",
       "stream": "stdout",
       "text": [
        "\n",
        "Resampling scan 56/121\n",
        "Resampling scan 57/121\n",
        "Resampling scan 58/121\n",
        "Resampling scan 59/121\n",
        "Resampling scan 60/121\n",
        "Resampling scan 61/121"
       ]
      },
      {
       "output_type": "stream",
       "stream": "stdout",
       "text": [
        "\n",
        "Resampling scan 62/121\n",
        "Resampling scan 63/121\n",
        "Resampling scan 64/121\n",
        "Resampling scan 65/121\n",
        "Resampling scan 66/121\n",
        "Resampling scan 67/121"
       ]
      },
      {
       "output_type": "stream",
       "stream": "stdout",
       "text": [
        "\n",
        "Resampling scan 68/121\n",
        "Resampling scan 69/121\n",
        "Resampling scan 70/121\n",
        "Resampling scan 71/121\n",
        "Resampling scan 72/121\n",
        "Resampling scan 73/121"
       ]
      },
      {
       "output_type": "stream",
       "stream": "stdout",
       "text": [
        "\n",
        "Resampling scan 74/121\n",
        "Resampling scan 75/121\n",
        "Resampling scan 76/121\n",
        "Resampling scan 77/121\n",
        "Resampling scan 78/121\n",
        "Resampling scan 79/121"
       ]
      },
      {
       "output_type": "stream",
       "stream": "stdout",
       "text": [
        "\n",
        "Resampling scan 80/121\n",
        "Resampling scan 81/121\n",
        "Resampling scan 82/121\n",
        "Resampling scan 83/121\n",
        "Resampling scan 84/121\n",
        "Resampling scan 85/121"
       ]
      },
      {
       "output_type": "stream",
       "stream": "stdout",
       "text": [
        "\n",
        "Resampling scan 86/121\n",
        "Resampling scan 87/121\n",
        "Resampling scan 88/121\n",
        "Resampling scan 89/121\n",
        "Resampling scan 90/121\n",
        "Resampling scan 91/121"
       ]
      },
      {
       "output_type": "stream",
       "stream": "stdout",
       "text": [
        "\n",
        "Resampling scan 92/121\n",
        "Resampling scan 93/121\n",
        "Resampling scan 94/121\n",
        "Resampling scan 95/121\n",
        "Resampling scan 96/121\n",
        "Resampling scan 97/121"
       ]
      },
      {
       "output_type": "stream",
       "stream": "stdout",
       "text": [
        "\n",
        "Resampling scan 98/121\n",
        "Resampling scan 99/121\n",
        "Resampling scan 100/121\n",
        "Resampling scan 101/121\n",
        "Resampling scan 102/121\n",
        "Resampling scan 103/121"
       ]
      },
      {
       "output_type": "stream",
       "stream": "stdout",
       "text": [
        "\n",
        "Resampling scan 104/121\n",
        "Resampling scan 105/121\n",
        "Resampling scan 106/121\n",
        "Resampling scan 107/121\n",
        "Resampling scan 108/121\n",
        "Resampling scan 109/121"
       ]
      },
      {
       "output_type": "stream",
       "stream": "stdout",
       "text": [
        "\n",
        "Resampling scan 110/121\n",
        "Resampling scan 111/121\n",
        "Resampling scan 112/121\n",
        "Resampling scan 113/121\n",
        "Resampling scan 114/121\n",
        "Resampling scan 115/121"
       ]
      },
      {
       "output_type": "stream",
       "stream": "stdout",
       "text": [
        "\n",
        "Resampling scan 116/121\n",
        "Resampling scan 117/121\n",
        "Resampling scan 118/121\n",
        "Resampling scan 119/121\n",
        "Resampling scan 120/121\n",
        "Resampling scan 121/121"
       ]
      },
      {
       "output_type": "stream",
       "stream": "stdout",
       "text": [
        "\n",
        "Estimating motion at time frame 1/121...\n",
        "Optimization terminated successfully."
       ]
      },
      {
       "output_type": "stream",
       "stream": "stdout",
       "text": [
        "\n",
        "         Current function value: -6.228570\n",
        "         Iterations: 15\n",
        "         Function evaluations: 16\n",
        "         Gradient evaluations: 15\n",
        "         Hessian evaluations: 15\n",
        "translation : [ 0.0928405   0.0824929  -0.05528911]\n",
        "rotation    : [-0.00367965  0.00331068 -0.00667309]\n",
        "\n",
        "Estimating motion at time frame 2/121...\n",
        "Optimization terminated successfully."
       ]
      },
      {
       "output_type": "stream",
       "stream": "stdout",
       "text": [
        "\n",
        "         Current function value: -6.229909\n",
        "         Iterations: 17\n",
        "         Function evaluations: 18\n",
        "         Gradient evaluations: 17\n",
        "         Hessian evaluations: 17\n",
        "translation : [ 0.08420573  0.06461878 -0.05077613]\n",
        "rotation    : [-0.00289566  0.0036068  -0.00644165]\n",
        "\n",
        "Estimating motion at time frame 3/121...\n",
        "Optimization terminated successfully."
       ]
      },
      {
       "output_type": "stream",
       "stream": "stdout",
       "text": [
        "\n",
        "         Current function value: -6.231306\n",
        "         Iterations: 13\n",
        "         Function evaluations: 14\n",
        "         Gradient evaluations: 13\n",
        "         Hessian evaluations: 13\n",
        "translation : [ 0.09774265  0.09652555 -0.00988314]\n",
        "rotation    : [-0.00355086  0.00332522 -0.00420032]\n",
        "\n",
        "Estimating motion at time frame 4/121...\n",
        "Optimization terminated successfully."
       ]
      },
      {
       "output_type": "stream",
       "stream": "stdout",
       "text": [
        "\n",
        "         Current function value: -6.232190\n",
        "         Iterations: 16\n",
        "         Function evaluations: 49\n",
        "         Gradient evaluations: 16\n",
        "         Hessian evaluations: 16\n",
        "translation : [ 0.08357231  0.0591144   0.01588115]\n",
        "rotation    : [-0.00263493 -0.00123514 -0.00372646]\n",
        "\n",
        "Estimating motion at time frame 5/121...\n",
        "Optimization terminated successfully."
       ]
      },
      {
       "output_type": "stream",
       "stream": "stdout",
       "text": [
        "\n",
        "         Current function value: -6.234254\n",
        "         Iterations: 23\n",
        "         Function evaluations: 24\n",
        "         Gradient evaluations: 23\n",
        "         Hessian evaluations: 23\n",
        "translation : [ 0.136809    0.07515738 -0.07231451]\n",
        "rotation    : [-0.00549132  0.00318958 -0.00609163]\n",
        "\n",
        "Estimating motion at time frame 6/121...\n",
        "Optimization terminated successfully."
       ]
      },
      {
       "output_type": "stream",
       "stream": "stdout",
       "text": [
        "\n",
        "         Current function value: -6.235647\n",
        "         Iterations: 14\n",
        "         Function evaluations: 15\n",
        "         Gradient evaluations: 14\n",
        "         Hessian evaluations: 14\n",
        "translation : [ 0.13276624  0.08510397 -0.01282122]\n",
        "rotation    : [-0.00393035  0.00319551 -0.00344242]\n",
        "\n",
        "Estimating motion at time frame 7/121...\n",
        "Optimization terminated successfully."
       ]
      },
      {
       "output_type": "stream",
       "stream": "stdout",
       "text": [
        "\n",
        "         Current function value: -6.235902\n",
        "         Iterations: 9\n",
        "         Function evaluations: 10\n",
        "         Gradient evaluations: 9\n",
        "         Hessian evaluations: 9\n",
        "translation : [ 0.05725949  0.06158076  0.04304677]\n",
        "rotation    : [-0.00133241  0.00028594 -0.00137611]\n",
        "\n",
        "Estimating motion at time frame 8/121...\n",
        "Optimization terminated successfully."
       ]
      },
      {
       "output_type": "stream",
       "stream": "stdout",
       "text": [
        "\n",
        "         Current function value: -6.236225\n",
        "         Iterations: 10\n",
        "         Function evaluations: 11\n",
        "         Gradient evaluations: 10\n",
        "         Hessian evaluations: 10\n",
        "translation : [ 0.03468581  0.05803126  0.01005308]\n",
        "rotation    : [-0.00163166  0.00101116 -0.0022182 ]\n",
        "\n",
        "Estimating motion at time frame 9/121...\n",
        "Optimization terminated successfully."
       ]
      },
      {
       "output_type": "stream",
       "stream": "stdout",
       "text": [
        "\n",
        "         Current function value: -6.236733\n",
        "         Iterations: 9\n",
        "         Function evaluations: 10\n",
        "         Gradient evaluations: 9\n",
        "         Hessian evaluations: 9\n",
        "translation : [ 0.04121436  0.06689968  0.02258828]\n",
        "rotation    : [-0.00196964  0.00177967 -0.00244442]\n",
        "\n",
        "Estimating motion at time frame 10/121...\n",
        "Optimization terminated successfully."
       ]
      },
      {
       "output_type": "stream",
       "stream": "stdout",
       "text": [
        "\n",
        "         Current function value: -6.237286\n",
        "         Iterations: 10\n",
        "         Function evaluations: 12\n",
        "         Gradient evaluations: 10\n",
        "         Hessian evaluations: 10\n",
        "translation : [ 0.04295512  0.09884585  0.00501165]\n",
        "rotation    : [-0.00120433  0.00196761 -0.00267496]\n",
        "\n",
        "Estimating motion at time frame 11/121...\n",
        "Optimization terminated successfully."
       ]
      },
      {
       "output_type": "stream",
       "stream": "stdout",
       "text": [
        "\n",
        "         Current function value: -6.238035\n",
        "         Iterations: 7\n",
        "         Function evaluations: 8\n",
        "         Gradient evaluations: 7\n",
        "         Hessian evaluations: 7\n",
        "translation : [ 0.04222575  0.07366685  0.00739301]\n",
        "rotation    : [-0.00046409  0.00278182 -0.00305266]\n",
        "\n",
        "Estimating motion at time frame 12/121...\n",
        "Optimization terminated successfully."
       ]
      },
      {
       "output_type": "stream",
       "stream": "stdout",
       "text": [
        "\n",
        "         Current function value: -6.238657\n",
        "         Iterations: 8\n",
        "         Function evaluations: 9\n",
        "         Gradient evaluations: 8\n",
        "         Hessian evaluations: 8\n",
        "translation : [ 0.05338695  0.06695331  0.04210176]\n",
        "rotation    : [-0.00150384  0.00244329 -0.00240441]\n",
        "\n",
        "Estimating motion at time frame 13/121...\n",
        "Optimization terminated successfully."
       ]
      },
      {
       "output_type": "stream",
       "stream": "stdout",
       "text": [
        "\n",
        "         Current function value: -6.239197\n",
        "         Iterations: 8\n",
        "         Function evaluations: 9\n",
        "         Gradient evaluations: 8\n",
        "         Hessian evaluations: 8\n",
        "translation : [ 0.065621    0.05101491  0.03134735]\n",
        "rotation    : [-0.00114364  0.001687   -0.00297959]\n",
        "\n",
        "Estimating motion at time frame 14/121...\n",
        "Optimization terminated successfully."
       ]
      },
      {
       "output_type": "stream",
       "stream": "stdout",
       "text": [
        "\n",
        "         Current function value: -6.239457\n",
        "         Iterations: 6\n",
        "         Function evaluations: 7\n",
        "         Gradient evaluations: 6\n",
        "         Hessian evaluations: 6\n",
        "translation : [ 0.08133029  0.00903434  0.06158855]\n",
        "rotation    : [ -8.41927920e-05   6.33589359e-04  -1.26310163e-03]\n",
        "\n",
        "Estimating motion at time frame 15/121...\n",
        "Optimization terminated successfully."
       ]
      },
      {
       "output_type": "stream",
       "stream": "stdout",
       "text": [
        "\n",
        "         Current function value: -6.239630\n",
        "         Iterations: 9\n",
        "         Function evaluations: 10\n",
        "         Gradient evaluations: 9\n",
        "         Hessian evaluations: 9\n",
        "translation : [ 0.07564025  0.04449152  0.02422122]\n",
        "rotation    : [-0.00091793  0.00041904 -0.00050127]\n",
        "\n",
        "Estimating motion at time frame 16/121...\n",
        "Optimization terminated successfully."
       ]
      },
      {
       "output_type": "stream",
       "stream": "stdout",
       "text": [
        "\n",
        "         Current function value: -6.239928\n",
        "         Iterations: 7\n",
        "         Function evaluations: 8\n",
        "         Gradient evaluations: 7\n",
        "         Hessian evaluations: 7\n",
        "translation : [ 0.08402639  0.04136186  0.01026489]\n",
        "rotation    : [-0.00139998  0.00088771 -0.00160433]\n",
        "\n",
        "Estimating motion at time frame 17/121...\n",
        "Optimization terminated successfully."
       ]
      },
      {
       "output_type": "stream",
       "stream": "stdout",
       "text": [
        "\n",
        "         Current function value: -6.240442\n",
        "         Iterations: 7\n",
        "         Function evaluations: 8\n",
        "         Gradient evaluations: 7\n",
        "         Hessian evaluations: 7\n",
        "translation : [ 0.09475403  0.03110026  0.01365793]\n",
        "rotation    : [-0.00179355  0.00155799 -0.0021775 ]\n",
        "\n",
        "Estimating motion at time frame 18/121...\n",
        "Optimization terminated successfully."
       ]
      },
      {
       "output_type": "stream",
       "stream": "stdout",
       "text": [
        "\n",
        "         Current function value: -6.241114\n",
        "         Iterations: 10\n",
        "         Function evaluations: 29\n",
        "         Gradient evaluations: 10\n",
        "         Hessian evaluations: 10\n",
        "translation : [ 0.04055847 -0.00072108  0.03240029]\n",
        "rotation    : [-0.00122351  0.00266859 -0.0026741 ]\n",
        "\n",
        "Estimating motion at time frame 19/121...\n",
        "Optimization terminated successfully."
       ]
      },
      {
       "output_type": "stream",
       "stream": "stdout",
       "text": [
        "\n",
        "         Current function value: -6.241326\n",
        "         Iterations: 7\n",
        "         Function evaluations: 14\n",
        "         Gradient evaluations: 7\n",
        "         Hessian evaluations: 7\n",
        "translation : [ 0.05106579  0.0271263   0.00055459]\n",
        "rotation    : [-0.00122936  0.00170747 -0.00069849]\n",
        "\n",
        "Estimating motion at time frame 20/121...\n",
        "Optimization terminated successfully."
       ]
      },
      {
       "output_type": "stream",
       "stream": "stdout",
       "text": [
        "\n",
        "         Current function value: -6.241532\n",
        "         Iterations: 6\n",
        "         Function evaluations: 7\n",
        "         Gradient evaluations: 6\n",
        "         Hessian evaluations: 6\n",
        "translation : [ 0.06391328  0.06223062 -0.00997077]\n",
        "rotation    : [-0.00147092  0.00083823 -0.00069011]\n",
        "\n",
        "Estimating motion at time frame 21/121...\n",
        "Optimization terminated successfully."
       ]
      },
      {
       "output_type": "stream",
       "stream": "stdout",
       "text": [
        "\n",
        "         Current function value: -6.242245\n",
        "         Iterations: 11\n",
        "         Function evaluations: 48\n",
        "         Gradient evaluations: 11\n",
        "         Hessian evaluations: 11\n",
        "translation : [ 0.04988672  0.06107668  0.02360532]\n",
        "rotation    : [-0.00107107  0.00226381 -0.00322457]\n",
        "\n",
        "Estimating motion at time frame 22/121...\n",
        "Optimization terminated successfully."
       ]
      },
      {
       "output_type": "stream",
       "stream": "stdout",
       "text": [
        "\n",
        "         Current function value: -6.242863\n",
        "         Iterations: 6\n",
        "         Function evaluations: 7\n",
        "         Gradient evaluations: 6\n",
        "         Hessian evaluations: 6\n",
        "translation : [ 0.06071055  0.08175623  0.04275734]\n",
        "rotation    : [-0.0004427   0.00216792 -0.00262428]\n",
        "\n",
        "Estimating motion at time frame 23/121...\n",
        "Optimization terminated successfully."
       ]
      },
      {
       "output_type": "stream",
       "stream": "stdout",
       "text": [
        "\n",
        "         Current function value: -6.243391\n",
        "         Iterations: 7\n",
        "         Function evaluations: 8\n",
        "         Gradient evaluations: 7\n",
        "         Hessian evaluations: 7\n",
        "translation : [ 0.04808851  0.10466316  0.00936531]\n",
        "rotation    : [-0.00193719  0.0016874  -0.00222875]\n",
        "\n",
        "Estimating motion at time frame 24/121...\n",
        "Optimization terminated successfully."
       ]
      },
      {
       "output_type": "stream",
       "stream": "stdout",
       "text": [
        "\n",
        "         Current function value: -6.244223\n",
        "         Iterations: 7\n",
        "         Function evaluations: 8\n",
        "         Gradient evaluations: 7\n",
        "         Hessian evaluations: 7\n",
        "translation : [ 0.04936955  0.13153549  0.0194837 ]\n",
        "rotation    : [-0.0019608   0.00248492 -0.00259026]\n",
        "\n",
        "Estimating motion at time frame 25/121...\n",
        "Optimization terminated successfully."
       ]
      },
      {
       "output_type": "stream",
       "stream": "stdout",
       "text": [
        "\n",
        "         Current function value: -6.244689\n",
        "         Iterations: 8\n",
        "         Function evaluations: 9\n",
        "         Gradient evaluations: 8\n",
        "         Hessian evaluations: 8\n",
        "translation : [ 0.04101567  0.09032737  0.03450237]\n",
        "rotation    : [-0.00058128  0.00189287 -0.00216156]\n",
        "\n",
        "Estimating motion at time frame 26/121...\n",
        "Optimization terminated successfully."
       ]
      },
      {
       "output_type": "stream",
       "stream": "stdout",
       "text": [
        "\n",
        "         Current function value: -6.244920\n",
        "         Iterations: 7\n",
        "         Function evaluations: 8\n",
        "         Gradient evaluations: 7\n",
        "         Hessian evaluations: 7\n",
        "translation : [ 0.04742626  0.086552    0.04277334]\n",
        "rotation    : [-0.0008517   0.00085971 -0.00095615]\n",
        "\n",
        "Estimating motion at time frame 27/121...\n",
        "Optimization terminated successfully."
       ]
      },
      {
       "output_type": "stream",
       "stream": "stdout",
       "text": [
        "\n",
        "         Current function value: -6.245172\n",
        "         Iterations: 6\n",
        "         Function evaluations: 7\n",
        "         Gradient evaluations: 6\n",
        "         Hessian evaluations: 6\n",
        "translation : [ 0.04978739  0.08637279  0.01726275]\n",
        "rotation    : [-0.00100685  0.00104889 -0.00138639]\n",
        "\n",
        "Estimating motion at time frame 28/121...\n",
        "Optimization terminated successfully."
       ]
      },
      {
       "output_type": "stream",
       "stream": "stdout",
       "text": [
        "\n",
        "         Current function value: -6.245714\n",
        "         Iterations: 6\n",
        "         Function evaluations: 7\n",
        "         Gradient evaluations: 6\n",
        "         Hessian evaluations: 6\n",
        "translation : [ 0.03279571  0.09615505  0.00593713]\n",
        "rotation    : [-0.00103507  0.00189267 -0.00259049]\n",
        "\n",
        "Estimating motion at time frame 29/121...\n",
        "Optimization terminated successfully."
       ]
      },
      {
       "output_type": "stream",
       "stream": "stdout",
       "text": [
        "\n",
        "         Current function value: -6.246218\n",
        "         Iterations: 6\n",
        "         Function evaluations: 7\n",
        "         Gradient evaluations: 6\n",
        "         Hessian evaluations: 6\n",
        "translation : [ 0.04396378  0.07894392 -0.00125892]\n",
        "rotation    : [-0.00115627  0.00143768 -0.00298827]\n",
        "\n",
        "Estimating motion at time frame 30/121...\n",
        "Optimization terminated successfully."
       ]
      },
      {
       "output_type": "stream",
       "stream": "stdout",
       "text": [
        "\n",
        "         Current function value: -6.246637\n",
        "         Iterations: 6\n",
        "         Function evaluations: 7\n",
        "         Gradient evaluations: 6\n",
        "         Hessian evaluations: 6\n",
        "translation : [ 0.0660508   0.05286477  0.01305228]\n",
        "rotation    : [-0.00114233  0.00196406 -0.00207181]\n",
        "\n",
        "Estimating motion at time frame 31/121...\n",
        "Optimization terminated successfully."
       ]
      },
      {
       "output_type": "stream",
       "stream": "stdout",
       "text": [
        "\n",
        "         Current function value: -6.247084\n",
        "         Iterations: 6\n",
        "         Function evaluations: 7\n",
        "         Gradient evaluations: 6\n",
        "         Hessian evaluations: 6\n",
        "translation : [ 0.09729784  0.04194111  0.0015678 ]\n",
        "rotation    : [-0.00121301  0.0019433  -0.00195455]\n",
        "\n",
        "Estimating motion at time frame 32/121...\n",
        "Optimization terminated successfully."
       ]
      },
      {
       "output_type": "stream",
       "stream": "stdout",
       "text": [
        "\n",
        "         Current function value: -6.247752\n",
        "         Iterations: 7\n",
        "         Function evaluations: 8\n",
        "         Gradient evaluations: 7\n",
        "         Hessian evaluations: 7\n",
        "translation : [ 0.12783477  0.01569704  0.01534836]\n",
        "rotation    : [-0.00191041  0.00143087 -0.00242989]\n",
        "\n",
        "Estimating motion at time frame 33/121...\n",
        "Optimization terminated successfully."
       ]
      },
      {
       "output_type": "stream",
       "stream": "stdout",
       "text": [
        "\n",
        "         Current function value: -6.248190\n",
        "         Iterations: 6\n",
        "         Function evaluations: 7\n",
        "         Gradient evaluations: 6\n",
        "         Hessian evaluations: 6\n",
        "translation : [ 0.0946993   0.0083408   0.01147504]\n",
        "rotation    : [-0.00160914  0.00095296 -0.00219423]\n",
        "\n",
        "Estimating motion at time frame 34/121...\n",
        "Optimization terminated successfully."
       ]
      },
      {
       "output_type": "stream",
       "stream": "stdout",
       "text": [
        "\n",
        "         Current function value: -6.248398\n",
        "         Iterations: 5\n",
        "         Function evaluations: 6\n",
        "         Gradient evaluations: 5\n",
        "         Hessian evaluations: 5\n",
        "translation : [ 0.06401379  0.0031143   0.00774993]\n",
        "rotation    : [-0.00121185  0.00145649 -0.00059329]\n",
        "\n",
        "Estimating motion at time frame 35/121...\n",
        "Optimization terminated successfully."
       ]
      },
      {
       "output_type": "stream",
       "stream": "stdout",
       "text": [
        "\n",
        "         Current function value: -6.248688\n",
        "         Iterations: 6\n",
        "         Function evaluations: 7\n",
        "         Gradient evaluations: 6\n",
        "         Hessian evaluations: 6\n",
        "translation : [ 0.07207341  0.03531322  0.00315252]\n",
        "rotation    : [-0.00134662  0.00193067 -0.00060946]\n",
        "\n",
        "Estimating motion at time frame 36/121...\n",
        "Optimization terminated successfully."
       ]
      },
      {
       "output_type": "stream",
       "stream": "stdout",
       "text": [
        "\n",
        "         Current function value: -6.248979\n",
        "         Iterations: 6\n",
        "         Function evaluations: 7\n",
        "         Gradient evaluations: 6\n",
        "         Hessian evaluations: 6\n",
        "translation : [ 0.06527982  0.03665195  0.01239606]\n",
        "rotation    : [-0.00144513  0.00161157 -0.0012237 ]\n",
        "\n",
        "Estimating motion at time frame 37/121...\n",
        "Optimization terminated successfully."
       ]
      },
      {
       "output_type": "stream",
       "stream": "stdout",
       "text": [
        "\n",
        "         Current function value: -6.249391\n",
        "         Iterations: 7\n",
        "         Function evaluations: 8\n",
        "         Gradient evaluations: 7\n",
        "         Hessian evaluations: 7\n",
        "translation : [ 0.06753383  0.04112264 -0.01473138]\n",
        "rotation    : [-0.00138357  0.00206777 -0.00198453]\n",
        "\n",
        "Estimating motion at time frame 38/121...\n",
        "Optimization terminated successfully."
       ]
      },
      {
       "output_type": "stream",
       "stream": "stdout",
       "text": [
        "\n",
        "         Current function value: -6.250104\n",
        "         Iterations: 6\n",
        "         Function evaluations: 7\n",
        "         Gradient evaluations: 6\n",
        "         Hessian evaluations: 6\n",
        "translation : [ 0.06207367  0.07646453 -0.00823514]\n",
        "rotation    : [-0.00073724  0.00283231 -0.00281993]\n",
        "\n",
        "Estimating motion at time frame 39/121...\n",
        "Optimization terminated successfully."
       ]
      },
      {
       "output_type": "stream",
       "stream": "stdout",
       "text": [
        "\n",
        "         Current function value: -6.250589\n",
        "         Iterations: 6\n",
        "         Function evaluations: 7\n",
        "         Gradient evaluations: 6\n",
        "         Hessian evaluations: 6\n",
        "translation : [ 0.04420616  0.08443218  0.00565777]\n",
        "rotation    : [-0.00023606  0.00206399 -0.00232473]\n",
        "\n",
        "Estimating motion at time frame 40/121...\n",
        "Optimization terminated successfully."
       ]
      },
      {
       "output_type": "stream",
       "stream": "stdout",
       "text": [
        "\n",
        "         Current function value: -6.250831\n",
        "         Iterations: 6\n",
        "         Function evaluations: 7\n",
        "         Gradient evaluations: 6\n",
        "         Hessian evaluations: 6\n",
        "translation : [ 0.05981024  0.08125197  0.02907032]\n",
        "rotation    : [-0.00070944  0.00095977 -0.0012444 ]\n",
        "\n",
        "Estimating motion at time frame 41/121...\n",
        "Optimization terminated successfully."
       ]
      },
      {
       "output_type": "stream",
       "stream": "stdout",
       "text": [
        "\n",
        "         Current function value: -6.251002\n",
        "         Iterations: 5\n",
        "         Function evaluations: 6\n",
        "         Gradient evaluations: 5\n",
        "         Hessian evaluations: 5\n",
        "translation : [ 0.04562481  0.08388892  0.0173778 ]\n",
        "rotation    : [-0.00090366  0.00039676 -0.00086676]\n",
        "\n",
        "Estimating motion at time frame 42/121...\n",
        "Optimization terminated successfully."
       ]
      },
      {
       "output_type": "stream",
       "stream": "stdout",
       "text": [
        "\n",
        "         Current function value: -6.251219\n",
        "         Iterations: 5\n",
        "         Function evaluations: 6\n",
        "         Gradient evaluations: 5\n",
        "         Hessian evaluations: 5\n",
        "translation : [ 0.04141787  0.07179302  0.01945288]\n",
        "rotation    : [-0.00156528  0.00028405 -0.00107883]\n",
        "\n",
        "Estimating motion at time frame 43/121...\n",
        "Optimization terminated successfully."
       ]
      },
      {
       "output_type": "stream",
       "stream": "stdout",
       "text": [
        "\n",
        "         Current function value: -6.251528\n",
        "         Iterations: 6\n",
        "         Function evaluations: 7\n",
        "         Gradient evaluations: 6\n",
        "         Hessian evaluations: 6\n",
        "translation : [ 0.05849286  0.05966207  0.00888164]\n",
        "rotation    : [-0.00170638  0.00127568 -0.00139644]\n",
        "\n",
        "Estimating motion at time frame 44/121...\n",
        "Optimization terminated successfully."
       ]
      },
      {
       "output_type": "stream",
       "stream": "stdout",
       "text": [
        "\n",
        "         Current function value: -6.251746\n",
        "         Iterations: 6\n",
        "         Function evaluations: 7\n",
        "         Gradient evaluations: 6\n",
        "         Hessian evaluations: 6\n",
        "translation : [ 0.06150251  0.03359313  0.01072147]\n",
        "rotation    : [-0.0011392   0.00116635 -0.00132572]\n",
        "\n",
        "Estimating motion at time frame 45/121...\n",
        "Optimization terminated successfully."
       ]
      },
      {
       "output_type": "stream",
       "stream": "stdout",
       "text": [
        "\n",
        "         Current function value: -6.251988\n",
        "         Iterations: 5\n",
        "         Function evaluations: 6\n",
        "         Gradient evaluations: 5\n",
        "         Hessian evaluations: 5\n",
        "translation : [ 0.06719649  0.01640111  0.02186403]\n",
        "rotation    : [-0.00152089  0.00016341 -0.00100615]\n",
        "\n",
        "Estimating motion at time frame 46/121...\n",
        "Optimization terminated successfully."
       ]
      },
      {
       "output_type": "stream",
       "stream": "stdout",
       "text": [
        "\n",
        "         Current function value: -6.252244\n",
        "         Iterations: 6\n",
        "         Function evaluations: 10\n",
        "         Gradient evaluations: 6\n",
        "         Hessian evaluations: 6\n",
        "translation : [ 0.07364443  0.00486995  0.02715408]\n",
        "rotation    : [-0.00139725 -0.00019255  0.00010548]\n",
        "\n",
        "Estimating motion at time frame 47/121...\n",
        "Optimization terminated successfully."
       ]
      },
      {
       "output_type": "stream",
       "stream": "stdout",
       "text": [
        "\n",
        "         Current function value: -6.252393\n",
        "         Iterations: 5\n",
        "         Function evaluations: 6\n",
        "         Gradient evaluations: 5\n",
        "         Hessian evaluations: 5\n",
        "translation : [ 0.05410682  0.01228795  0.00757718]\n",
        "rotation    : [-0.00103179  0.00118967 -0.0006771 ]\n",
        "\n",
        "Estimating motion at time frame 48/121...\n",
        "Optimization terminated successfully."
       ]
      },
      {
       "output_type": "stream",
       "stream": "stdout",
       "text": [
        "\n",
        "         Current function value: -6.252682\n",
        "         Iterations: 5\n",
        "         Function evaluations: 6\n",
        "         Gradient evaluations: 5\n",
        "         Hessian evaluations: 5\n",
        "translation : [ 0.06903241 -0.00041679 -0.00171434]\n",
        "rotation    : [-0.00050884  0.00198261 -0.00156823]\n",
        "\n",
        "Estimating motion at time frame 49/121...\n",
        "Optimization terminated successfully."
       ]
      },
      {
       "output_type": "stream",
       "stream": "stdout",
       "text": [
        "\n",
        "         Current function value: -6.253007\n",
        "         Iterations: 5\n",
        "         Function evaluations: 6\n",
        "         Gradient evaluations: 5\n",
        "         Hessian evaluations: 5\n",
        "translation : [ 0.07318316  0.01540697 -0.00072898]\n",
        "rotation    : [-0.00115023  0.00163357 -0.00183896]\n",
        "\n",
        "Estimating motion at time frame 50/121...\n",
        "Optimization terminated successfully."
       ]
      },
      {
       "output_type": "stream",
       "stream": "stdout",
       "text": [
        "\n",
        "         Current function value: -6.253261\n",
        "         Iterations: 5\n",
        "         Function evaluations: 6\n",
        "         Gradient evaluations: 5\n",
        "         Hessian evaluations: 5\n",
        "translation : [ 0.08036641  0.02275932 -0.00038109]\n",
        "rotation    : [-0.00136086  0.00102118 -0.0011162 ]\n",
        "\n",
        "Estimating motion at time frame 51/121...\n",
        "Optimization terminated successfully."
       ]
      },
      {
       "output_type": "stream",
       "stream": "stdout",
       "text": [
        "\n",
        "         Current function value: -6.253512\n",
        "         Iterations: 6\n",
        "         Function evaluations: 7\n",
        "         Gradient evaluations: 6\n",
        "         Hessian evaluations: 6\n",
        "translation : [ 0.09510265  0.02879701 -0.00359076]\n",
        "rotation    : [-0.00105605  0.0001095  -0.00063819]\n",
        "\n",
        "Estimating motion at time frame 52/121...\n",
        "Optimization terminated successfully."
       ]
      },
      {
       "output_type": "stream",
       "stream": "stdout",
       "text": [
        "\n",
        "         Current function value: -6.253910\n",
        "         Iterations: 6\n",
        "         Function evaluations: 7\n",
        "         Gradient evaluations: 6\n",
        "         Hessian evaluations: 6\n",
        "translation : [ 0.0890555   0.08316911  0.00321044]\n",
        "rotation    : [-0.00180929  0.00042326 -0.00146206]\n",
        "\n",
        "Estimating motion at time frame 53/121...\n",
        "Optimization terminated successfully."
       ]
      },
      {
       "output_type": "stream",
       "stream": "stdout",
       "text": [
        "\n",
        "         Current function value: -6.254253\n",
        "         Iterations: 5\n",
        "         Function evaluations: 6\n",
        "         Gradient evaluations: 5\n",
        "         Hessian evaluations: 5\n",
        "translation : [ 0.05301937  0.08832589  0.02252406]\n",
        "rotation    : [-0.00163929  0.0006754  -0.00167777]\n",
        "\n",
        "Estimating motion at time frame 54/121...\n",
        "Optimization terminated successfully."
       ]
      },
      {
       "output_type": "stream",
       "stream": "stdout",
       "text": [
        "\n",
        "         Current function value: -6.254787\n",
        "         Iterations: 7\n",
        "         Function evaluations: 8\n",
        "         Gradient evaluations: 7\n",
        "         Hessian evaluations: 7\n",
        "translation : [ 0.07665849  0.07812911  0.01488443]\n",
        "rotation    : [-0.00175515  0.00152688 -0.00239155]\n",
        "\n",
        "Estimating motion at time frame 55/121...\n",
        "Optimization terminated successfully."
       ]
      },
      {
       "output_type": "stream",
       "stream": "stdout",
       "text": [
        "\n",
        "         Current function value: -6.255345\n",
        "         Iterations: 6\n",
        "         Function evaluations: 7\n",
        "         Gradient evaluations: 6\n",
        "         Hessian evaluations: 6\n",
        "translation : [ 0.10615686  0.06677708  0.01971862]\n",
        "rotation    : [-0.00164334  0.0022423  -0.00154506]\n",
        "\n",
        "Estimating motion at time frame 56/121...\n",
        "Optimization terminated successfully."
       ]
      },
      {
       "output_type": "stream",
       "stream": "stdout",
       "text": [
        "\n",
        "         Current function value: -6.255738\n",
        "         Iterations: 6\n",
        "         Function evaluations: 7\n",
        "         Gradient evaluations: 6\n",
        "         Hessian evaluations: 6\n",
        "translation : [ 0.07953384  0.09492814 -0.00124501]\n",
        "rotation    : [-0.00169357  0.00142822 -0.00129684]\n",
        "\n",
        "Estimating motion at time frame 57/121...\n",
        "Optimization terminated successfully."
       ]
      },
      {
       "output_type": "stream",
       "stream": "stdout",
       "text": [
        "\n",
        "         Current function value: -6.255972\n",
        "         Iterations: 5\n",
        "         Function evaluations: 6\n",
        "         Gradient evaluations: 5\n",
        "         Hessian evaluations: 5\n",
        "translation : [ 0.05493044  0.08681759  0.00869778]\n",
        "rotation    : [ -1.68440039e-04  -4.37408821e-05  -1.36115783e-03]\n",
        "\n",
        "Estimating motion at time frame 58/121...\n",
        "Optimization terminated successfully."
       ]
      },
      {
       "output_type": "stream",
       "stream": "stdout",
       "text": [
        "\n",
        "         Current function value: -6.256279\n",
        "         Iterations: 6\n",
        "         Function evaluations: 7\n",
        "         Gradient evaluations: 6\n",
        "         Hessian evaluations: 6\n",
        "translation : [ 0.07012222  0.09738251  0.01148545]\n",
        "rotation    : [-0.00059864  0.00058505 -0.00165494]\n",
        "\n",
        "Estimating motion at time frame 59/121...\n",
        "Optimization terminated successfully."
       ]
      },
      {
       "output_type": "stream",
       "stream": "stdout",
       "text": [
        "\n",
        "         Current function value: -6.256656\n",
        "         Iterations: 9\n",
        "         Function evaluations: 10\n",
        "         Gradient evaluations: 9\n",
        "         Hessian evaluations: 9\n",
        "translation : [ 0.06365562  0.08515206  0.00557216]\n",
        "rotation    : [-0.00149721  0.00120295 -0.0022745 ]\n",
        "\n",
        "Estimating motion at time frame 60/121...\n",
        "Optimization terminated successfully."
       ]
      },
      {
       "output_type": "stream",
       "stream": "stdout",
       "text": [
        "\n",
        "         Current function value: -6.256924\n",
        "         Iterations: 7\n",
        "         Function evaluations: 11\n",
        "         Gradient evaluations: 7\n",
        "         Hessian evaluations: 7\n",
        "translation : [ 0.05140845  0.06887741  0.01422709]\n",
        "rotation    : [-0.00162994  0.00108643 -0.00118339]\n",
        "\n",
        "Estimating motion at time frame 61/121...\n",
        "Optimization terminated successfully."
       ]
      },
      {
       "output_type": "stream",
       "stream": "stdout",
       "text": [
        "\n",
        "         Current function value: -6.257164\n",
        "         Iterations: 6\n",
        "         Function evaluations: 7\n",
        "         Gradient evaluations: 6\n",
        "         Hessian evaluations: 6\n",
        "translation : [ 0.08863064  0.03957472 -0.00403691]\n",
        "rotation    : [-0.00066222  0.0013764  -0.00103643]\n",
        "\n",
        "Estimating motion at time frame 62/121...\n",
        "Optimization terminated successfully."
       ]
      },
      {
       "output_type": "stream",
       "stream": "stdout",
       "text": [
        "\n",
        "         Current function value: -6.257431\n",
        "         Iterations: 5\n",
        "         Function evaluations: 6\n",
        "         Gradient evaluations: 5\n",
        "         Hessian evaluations: 5\n",
        "translation : [ 0.09079453  0.08681764 -0.00580222]\n",
        "rotation    : [-0.00027271  0.00080759 -0.00046947]\n",
        "\n",
        "Estimating motion at time frame 63/121...\n",
        "Optimization terminated successfully."
       ]
      },
      {
       "output_type": "stream",
       "stream": "stdout",
       "text": [
        "\n",
        "         Current function value: -6.257632\n",
        "         Iterations: 5\n",
        "         Function evaluations: 6\n",
        "         Gradient evaluations: 5\n",
        "         Hessian evaluations: 5\n",
        "translation : [ 0.02440901  0.09803694  0.0226198 ]\n",
        "rotation    : [-0.00095008  0.00074704 -0.00080478]\n",
        "\n",
        "Estimating motion at time frame 64/121...\n",
        "Optimization terminated successfully."
       ]
      },
      {
       "output_type": "stream",
       "stream": "stdout",
       "text": [
        "\n",
        "         Current function value: -6.257860\n",
        "         Iterations: 5\n",
        "         Function evaluations: 6\n",
        "         Gradient evaluations: 5\n",
        "         Hessian evaluations: 5\n",
        "translation : [ 0.02816799  0.09626948  0.02524006]\n",
        "rotation    : [-0.0010581   0.00098978 -0.00082998]\n",
        "\n",
        "Estimating motion at time frame 65/121...\n",
        "Optimization terminated successfully."
       ]
      },
      {
       "output_type": "stream",
       "stream": "stdout",
       "text": [
        "\n",
        "         Current function value: -6.258101\n",
        "         Iterations: 6\n",
        "         Function evaluations: 7\n",
        "         Gradient evaluations: 6\n",
        "         Hessian evaluations: 6\n",
        "translation : [ 0.06821181  0.09119939  0.00503771]\n",
        "rotation    : [-0.00092308  0.00063371 -0.00107866]\n",
        "\n",
        "Estimating motion at time frame 66/121...\n",
        "Optimization terminated successfully."
       ]
      },
      {
       "output_type": "stream",
       "stream": "stdout",
       "text": [
        "\n",
        "         Current function value: -6.258379\n",
        "         Iterations: 6\n",
        "         Function evaluations: 7\n",
        "         Gradient evaluations: 6\n",
        "         Hessian evaluations: 6\n",
        "translation : [ 0.061189    0.08960167 -0.01081194]\n",
        "rotation    : [ 0.0002089   0.00109098 -0.00120167]\n",
        "\n",
        "Estimating motion at time frame 67/121...\n",
        "Optimization terminated successfully."
       ]
      },
      {
       "output_type": "stream",
       "stream": "stdout",
       "text": [
        "\n",
        "         Current function value: -6.258815\n",
        "         Iterations: 7\n",
        "         Function evaluations: 14\n",
        "         Gradient evaluations: 7\n",
        "         Hessian evaluations: 7\n",
        "translation : [ 0.03994102  0.11743324  0.00371308]\n",
        "rotation    : [ 0.00050593  0.00132677 -0.00142582]\n",
        "\n",
        "Estimating motion at time frame 68/121...\n",
        "Optimization terminated successfully."
       ]
      },
      {
       "output_type": "stream",
       "stream": "stdout",
       "text": [
        "\n",
        "         Current function value: -6.259011\n",
        "         Iterations: 8\n",
        "         Function evaluations: 9\n",
        "         Gradient evaluations: 8\n",
        "         Hessian evaluations: 8\n",
        "translation : [ 0.05100474  0.07967833  0.03467865]\n",
        "rotation    : [ -8.99534312e-04   5.84183275e-05  -8.87998991e-04]\n",
        "\n",
        "Estimating motion at time frame 69/121...\n",
        "Optimization terminated successfully."
       ]
      },
      {
       "output_type": "stream",
       "stream": "stdout",
       "text": [
        "\n",
        "         Current function value: -6.259306\n",
        "         Iterations: 6\n",
        "         Function evaluations: 7\n",
        "         Gradient evaluations: 6\n",
        "         Hessian evaluations: 6\n",
        "translation : [ 0.06313383  0.04910031  0.01508577]\n",
        "rotation    : [-0.00204349  0.00057117 -0.00085268]\n",
        "\n",
        "Estimating motion at time frame 70/121...\n",
        "Optimization terminated successfully."
       ]
      },
      {
       "output_type": "stream",
       "stream": "stdout",
       "text": [
        "\n",
        "         Current function value: -6.259727\n",
        "         Iterations: 6\n",
        "         Function evaluations: 7\n",
        "         Gradient evaluations: 6\n",
        "         Hessian evaluations: 6\n",
        "translation : [ 0.04063606  0.05659403 -0.00179231]\n",
        "rotation    : [-0.00197692  0.00114706 -0.0021358 ]\n",
        "\n",
        "Estimating motion at time frame 71/121...\n",
        "Optimization terminated successfully."
       ]
      },
      {
       "output_type": "stream",
       "stream": "stdout",
       "text": [
        "\n",
        "         Current function value: -6.259934\n",
        "         Iterations: 7\n",
        "         Function evaluations: 8\n",
        "         Gradient evaluations: 7\n",
        "         Hessian evaluations: 7\n",
        "translation : [ 0.01356458  0.06548348 -0.0082509 ]\n",
        "rotation    : [-0.00025811  0.00047022 -0.00197593]\n",
        "\n",
        "Estimating motion at time frame 72/121...\n",
        "Optimization terminated successfully."
       ]
      },
      {
       "output_type": "stream",
       "stream": "stdout",
       "text": [
        "\n",
        "         Current function value: -6.260125\n",
        "         Iterations: 8\n",
        "         Function evaluations: 9\n",
        "         Gradient evaluations: 8\n",
        "         Hessian evaluations: 8\n",
        "translation : [ 0.03655798  0.04230064 -0.00288208]\n",
        "rotation    : [  4.69256344e-06   4.47242752e-04  -2.04594078e-03]\n",
        "\n",
        "Estimating motion at time frame 73/121...\n",
        "Optimization terminated successfully."
       ]
      },
      {
       "output_type": "stream",
       "stream": "stdout",
       "text": [
        "\n",
        "         Current function value: -6.260345\n",
        "         Iterations: 6\n",
        "         Function evaluations: 7\n",
        "         Gradient evaluations: 6\n",
        "         Hessian evaluations: 6\n",
        "translation : [ 0.01883579  0.04224777 -0.02157423]\n",
        "rotation    : [-0.00108987  0.00122011 -0.00159342]\n",
        "\n",
        "Estimating motion at time frame 74/121...\n",
        "Optimization terminated successfully."
       ]
      },
      {
       "output_type": "stream",
       "stream": "stdout",
       "text": [
        "\n",
        "         Current function value: -6.260594\n",
        "         Iterations: 6\n",
        "         Function evaluations: 7\n",
        "         Gradient evaluations: 6\n",
        "         Hessian evaluations: 6\n",
        "translation : [ 0.00915303  0.03577594 -0.02508677]\n",
        "rotation    : [-0.00059007  0.00151025 -0.00158937]\n",
        "\n",
        "Estimating motion at time frame 75/121...\n",
        "Optimization terminated successfully."
       ]
      },
      {
       "output_type": "stream",
       "stream": "stdout",
       "text": [
        "\n",
        "         Current function value: -6.260736\n",
        "         Iterations: 6\n",
        "         Function evaluations: 7\n",
        "         Gradient evaluations: 6\n",
        "         Hessian evaluations: 6\n",
        "translation : [ 0.03518211  0.02491359 -0.01051802]\n",
        "rotation    : [-0.00076327  0.00118711 -0.00122177]\n",
        "\n",
        "Estimating motion at time frame 76/121...\n",
        "Optimization terminated successfully."
       ]
      },
      {
       "output_type": "stream",
       "stream": "stdout",
       "text": [
        "\n",
        "         Current function value: -6.260976\n",
        "         Iterations: 6\n",
        "         Function evaluations: 7\n",
        "         Gradient evaluations: 6\n",
        "         Hessian evaluations: 6\n",
        "translation : [ 0.02385258 -0.00376197 -0.00824012]\n",
        "rotation    : [-0.00075588  0.00194379 -0.00109114]\n",
        "\n",
        "Estimating motion at time frame 77/121...\n",
        "Optimization terminated successfully."
       ]
      },
      {
       "output_type": "stream",
       "stream": "stdout",
       "text": [
        "\n",
        "         Current function value: -6.261256\n",
        "         Iterations: 7\n",
        "         Function evaluations: 8\n",
        "         Gradient evaluations: 7\n",
        "         Hessian evaluations: 7\n",
        "translation : [ 0.0038264   0.01507509 -0.05237516]\n",
        "rotation    : [-0.00113635  0.00185182 -0.00095407]\n",
        "\n",
        "Estimating motion at time frame 78/121...\n",
        "Optimization terminated successfully."
       ]
      },
      {
       "output_type": "stream",
       "stream": "stdout",
       "text": [
        "\n",
        "         Current function value: -6.261430\n",
        "         Iterations: 6\n",
        "         Function evaluations: 7\n",
        "         Gradient evaluations: 6\n",
        "         Hessian evaluations: 6\n",
        "translation : [-0.00901972  0.01384602 -0.03408313]\n",
        "rotation    : [-0.00130392  0.00099368 -0.00075183]\n",
        "\n",
        "Estimating motion at time frame 79/121...\n",
        "Optimization terminated successfully."
       ]
      },
      {
       "output_type": "stream",
       "stream": "stdout",
       "text": [
        "\n",
        "         Current function value: -6.261771\n",
        "         Iterations: 7\n",
        "         Function evaluations: 8\n",
        "         Gradient evaluations: 7\n",
        "         Hessian evaluations: 7\n",
        "translation : [-0.00855141 -0.00746364 -0.04099544]\n",
        "rotation    : [-0.00119573  0.00168016 -0.00169187]\n",
        "\n",
        "Estimating motion at time frame 80/121...\n",
        "Optimization terminated successfully."
       ]
      },
      {
       "output_type": "stream",
       "stream": "stdout",
       "text": [
        "\n",
        "         Current function value: -6.261971\n",
        "         Iterations: 8\n",
        "         Function evaluations: 9\n",
        "         Gradient evaluations: 8\n",
        "         Hessian evaluations: 8\n",
        "translation : [-0.00172786  0.03210097 -0.04348428]\n",
        "rotation    : [-0.00125879  0.0012676  -0.00085442]\n",
        "\n",
        "Estimating motion at time frame 81/121...\n",
        "Optimization terminated successfully."
       ]
      },
      {
       "output_type": "stream",
       "stream": "stdout",
       "text": [
        "\n",
        "         Current function value: -6.262416\n",
        "         Iterations: 7\n",
        "         Function evaluations: 8\n",
        "         Gradient evaluations: 7\n",
        "         Hessian evaluations: 7\n",
        "translation : [-0.00481503  0.05004232 -0.04384281]\n",
        "rotation    : [-0.00192991  0.00200978 -0.00112746]\n",
        "\n",
        "Estimating motion at time frame 82/121...\n",
        "Optimization terminated successfully."
       ]
      },
      {
       "output_type": "stream",
       "stream": "stdout",
       "text": [
        "\n",
        "         Current function value: -6.262634\n",
        "         Iterations: 7\n",
        "         Function evaluations: 8\n",
        "         Gradient evaluations: 7\n",
        "         Hessian evaluations: 7\n",
        "translation : [-0.01712107  0.05893355 -0.02231939]\n",
        "rotation    : [-0.00121284  0.00041921 -0.00154504]\n",
        "\n",
        "Estimating motion at time frame 83/121...\n",
        "Optimization terminated successfully."
       ]
      },
      {
       "output_type": "stream",
       "stream": "stdout",
       "text": [
        "\n",
        "         Current function value: -6.262785\n",
        "         Iterations: 6\n",
        "         Function evaluations: 7\n",
        "         Gradient evaluations: 6\n",
        "         Hessian evaluations: 6\n",
        "translation : [ 0.00314738  0.03581211 -0.00719289]\n",
        "rotation    : [-0.00033494  0.00107851 -0.001358  ]\n",
        "\n",
        "Estimating motion at time frame 84/121...\n",
        "Optimization terminated successfully."
       ]
      },
      {
       "output_type": "stream",
       "stream": "stdout",
       "text": [
        "\n",
        "         Current function value: -6.262927\n",
        "         Iterations: 7\n",
        "         Function evaluations: 8\n",
        "         Gradient evaluations: 7\n",
        "         Hessian evaluations: 7\n",
        "translation : [ 0.00550873  0.0301759  -0.03876229]\n",
        "rotation    : [ 0.00011474  0.00104103 -0.00115769]\n",
        "\n",
        "Estimating motion at time frame 85/121...\n",
        "Optimization terminated successfully."
       ]
      },
      {
       "output_type": "stream",
       "stream": "stdout",
       "text": [
        "\n",
        "         Current function value: -6.262960\n",
        "         Iterations: 6\n",
        "         Function evaluations: 7\n",
        "         Gradient evaluations: 6\n",
        "         Hessian evaluations: 6\n",
        "translation : [ 0.00383364 -0.00571865 -0.02815694]\n",
        "rotation    : [-0.0002396   0.00012852 -0.00070836]\n",
        "\n",
        "Estimating motion at time frame 86/121...\n",
        "Optimization terminated successfully."
       ]
      },
      {
       "output_type": "stream",
       "stream": "stdout",
       "text": [
        "\n",
        "         Current function value: -6.263113\n",
        "         Iterations: 8\n",
        "         Function evaluations: 9\n",
        "         Gradient evaluations: 8\n",
        "         Hessian evaluations: 8\n",
        "translation : [-0.00844033 -0.00251681 -0.0560241 ]\n",
        "rotation    : [-0.00079988  0.00013673 -0.00141199]\n",
        "\n",
        "Estimating motion at time frame 87/121...\n",
        "Optimization terminated successfully."
       ]
      },
      {
       "output_type": "stream",
       "stream": "stdout",
       "text": [
        "\n",
        "         Current function value: -6.263424\n",
        "         Iterations: 8\n",
        "         Function evaluations: 9\n",
        "         Gradient evaluations: 8\n",
        "         Hessian evaluations: 8\n",
        "translation : [-0.04397335  0.04087934 -0.0488733 ]\n",
        "rotation    : [-0.00048643  0.00112468 -0.00147537]\n",
        "\n",
        "Estimating motion at time frame 88/121...\n",
        "Optimization terminated successfully."
       ]
      },
      {
       "output_type": "stream",
       "stream": "stdout",
       "text": [
        "\n",
        "         Current function value: -6.263847\n",
        "         Iterations: 7\n",
        "         Function evaluations: 8\n",
        "         Gradient evaluations: 7\n",
        "         Hessian evaluations: 7\n",
        "translation : [-0.05443355  0.01102065 -0.04163745]\n",
        "rotation    : [-0.00147874  0.00151981 -0.00073655]\n",
        "\n",
        "Estimating motion at time frame 89/121...\n",
        "Optimization terminated successfully."
       ]
      },
      {
       "output_type": "stream",
       "stream": "stdout",
       "text": [
        "\n",
        "         Current function value: -6.264227\n",
        "         Iterations: 9\n",
        "         Function evaluations: 10\n",
        "         Gradient evaluations: 9\n",
        "         Hessian evaluations: 9\n",
        "translation : [ 0.0137017   0.00155435 -0.06099358]\n",
        "rotation    : [-0.00153089  0.00187436 -0.00139481]\n",
        "\n",
        "Estimating motion at time frame 90/121...\n",
        "Optimization terminated successfully."
       ]
      },
      {
       "output_type": "stream",
       "stream": "stdout",
       "text": [
        "\n",
        "         Current function value: -6.264396\n",
        "         Iterations: 7\n",
        "         Function evaluations: 8\n",
        "         Gradient evaluations: 7\n",
        "         Hessian evaluations: 7\n",
        "translation : [ 0.03369056 -0.01212639 -0.05550729]\n",
        "rotation    : [ 0.00064029  0.00081929 -0.00136932]\n",
        "\n",
        "Estimating motion at time frame 91/121...\n",
        "Optimization terminated successfully."
       ]
      },
      {
       "output_type": "stream",
       "stream": "stdout",
       "text": [
        "\n",
        "         Current function value: -6.264576\n",
        "         Iterations: 7\n",
        "         Function evaluations: 9\n",
        "         Gradient evaluations: 7\n",
        "         Hessian evaluations: 7\n",
        "translation : [ 0.01273073 -0.03935784 -0.03533869]\n",
        "rotation    : [-0.00066981  0.00046175 -0.00175187]\n",
        "\n",
        "Estimating motion at time frame 92/121...\n",
        "Optimization terminated successfully."
       ]
      },
      {
       "output_type": "stream",
       "stream": "stdout",
       "text": [
        "\n",
        "         Current function value: -6.264799\n",
        "         Iterations: 6\n",
        "         Function evaluations: 7\n",
        "         Gradient evaluations: 6\n",
        "         Hessian evaluations: 6\n",
        "translation : [-0.00123724 -0.00244461 -0.01482723]\n",
        "rotation    : [-0.00131161  0.00122619 -0.00121196]\n",
        "\n",
        "Estimating motion at time frame 93/121...\n",
        "Optimization terminated successfully."
       ]
      },
      {
       "output_type": "stream",
       "stream": "stdout",
       "text": [
        "\n",
        "         Current function value: -6.265075\n",
        "         Iterations: 7\n",
        "         Function evaluations: 8\n",
        "         Gradient evaluations: 7\n",
        "         Hessian evaluations: 7\n",
        "translation : [-0.01687181 -0.02739558 -0.04418942]\n",
        "rotation    : [-0.00116768  0.00134481 -0.0011268 ]\n",
        "\n",
        "Estimating motion at time frame 94/121...\n",
        "Optimization terminated successfully."
       ]
      },
      {
       "output_type": "stream",
       "stream": "stdout",
       "text": [
        "\n",
        "         Current function value: -6.265293\n",
        "         Iterations: 6\n",
        "         Function evaluations: 7\n",
        "         Gradient evaluations: 6\n",
        "         Hessian evaluations: 6\n",
        "translation : [-0.02550994 -0.00388278 -0.05670067]\n",
        "rotation    : [-0.00048232  0.0010919  -0.00111134]\n",
        "\n",
        "Estimating motion at time frame 95/121...\n",
        "Optimization terminated successfully."
       ]
      },
      {
       "output_type": "stream",
       "stream": "stdout",
       "text": [
        "\n",
        "         Current function value: -6.265602\n",
        "         Iterations: 6\n",
        "         Function evaluations: 7\n",
        "         Gradient evaluations: 6\n",
        "         Hessian evaluations: 6\n",
        "translation : [-0.04333048  0.0242291  -0.02942412]\n",
        "rotation    : [ 0.0005366   0.00128512 -0.00129498]\n",
        "\n",
        "Estimating motion at time frame 96/121...\n",
        "Optimization terminated successfully."
       ]
      },
      {
       "output_type": "stream",
       "stream": "stdout",
       "text": [
        "\n",
        "         Current function value: -6.265652\n",
        "         Iterations: 11\n",
        "         Function evaluations: 12\n",
        "         Gradient evaluations: 11\n",
        "         Hessian evaluations: 11\n",
        "translation : [ 0.0038564   0.00696313 -0.03488493]\n",
        "rotation    : [-0.00017782  0.00061746 -0.00074607]\n",
        "\n",
        "Estimating motion at time frame 97/121...\n",
        "Optimization terminated successfully."
       ]
      },
      {
       "output_type": "stream",
       "stream": "stdout",
       "text": [
        "\n",
        "         Current function value: -6.265676\n",
        "         Iterations: 7\n",
        "         Function evaluations: 8\n",
        "         Gradient evaluations: 7\n",
        "         Hessian evaluations: 7\n",
        "translation : [ 0.01580987 -0.00526898 -0.01970099]\n",
        "rotation    : [-0.00040239  0.00035874 -0.00015379]\n",
        "\n",
        "Estimating motion at time frame 98/121...\n",
        "Optimization terminated successfully."
       ]
      },
      {
       "output_type": "stream",
       "stream": "stdout",
       "text": [
        "\n",
        "         Current function value: -6.265775\n",
        "         Iterations: 7\n",
        "         Function evaluations: 8\n",
        "         Gradient evaluations: 7\n",
        "         Hessian evaluations: 7\n",
        "translation : [-0.03939152 -0.00252149 -0.04152317]\n",
        "rotation    : [-0.00010382  0.00047695 -0.00027781]\n",
        "\n",
        "Estimating motion at time frame 99/121...\n",
        "Optimization terminated successfully."
       ]
      },
      {
       "output_type": "stream",
       "stream": "stdout",
       "text": [
        "\n",
        "         Current function value: -6.265969\n",
        "         Iterations: 10\n",
        "         Function evaluations: 11\n",
        "         Gradient evaluations: 10\n",
        "         Hessian evaluations: 10\n",
        "translation : [-0.02264445 -0.03513545 -0.03775616]\n",
        "rotation    : [-0.00087369 -0.00145602 -0.00037422]\n",
        "\n",
        "Estimating motion at time frame 100/121...\n",
        "Optimization terminated successfully."
       ]
      },
      {
       "output_type": "stream",
       "stream": "stdout",
       "text": [
        "\n",
        "         Current function value: -6.266219\n",
        "         Iterations: 7\n",
        "         Function evaluations: 8\n",
        "         Gradient evaluations: 7\n",
        "         Hessian evaluations: 7\n",
        "translation : [-0.00522399 -0.01944848 -0.04969151]\n",
        "rotation    : [-0.00124307 -0.00104335 -0.00123545]\n",
        "\n",
        "Estimating motion at time frame 101/121...\n",
        "Optimization terminated successfully."
       ]
      },
      {
       "output_type": "stream",
       "stream": "stdout",
       "text": [
        "\n",
        "         Current function value: -6.266386\n",
        "         Iterations: 8\n",
        "         Function evaluations: 14\n",
        "         Gradient evaluations: 8\n",
        "         Hessian evaluations: 8\n",
        "translation : [-0.03083065 -0.01543366 -0.06430479]\n",
        "rotation    : [-0.00048379 -0.00111901 -0.00055372]\n",
        "\n",
        "Estimating motion at time frame 102/121...\n",
        "Optimization terminated successfully."
       ]
      },
      {
       "output_type": "stream",
       "stream": "stdout",
       "text": [
        "\n",
        "         Current function value: -6.266607\n",
        "         Iterations: 10\n",
        "         Function evaluations: 11\n",
        "         Gradient evaluations: 10\n",
        "         Hessian evaluations: 10\n",
        "translation : [-0.01287267 -0.02221365 -0.07095766]\n",
        "rotation    : [ -2.81356820e-05  -1.65226936e-03   1.21998863e-05]\n",
        "\n",
        "Estimating motion at time frame 103/121...\n",
        "Optimization terminated successfully."
       ]
      },
      {
       "output_type": "stream",
       "stream": "stdout",
       "text": [
        "\n",
        "         Current function value: -6.266746\n",
        "         Iterations: 10\n",
        "         Function evaluations: 11\n",
        "         Gradient evaluations: 10\n",
        "         Hessian evaluations: 10\n",
        "translation : [-0.01140426 -0.04935094 -0.02589236]\n",
        "rotation    : [ -1.19033106e-04  -1.47053143e-03   4.63962468e-05]\n",
        "\n",
        "Estimating motion at time frame 104/121...\n",
        "Optimization terminated successfully."
       ]
      },
      {
       "output_type": "stream",
       "stream": "stdout",
       "text": [
        "\n",
        "         Current function value: -6.266997\n",
        "         Iterations: 9\n",
        "         Function evaluations: 11\n",
        "         Gradient evaluations: 9\n",
        "         Hessian evaluations: 9\n",
        "translation : [ 0.01189447 -0.0749376  -0.04867406]\n",
        "rotation    : [ -1.56001033e-04  -1.45246059e-03  -6.05109042e-05]\n",
        "\n",
        "Estimating motion at time frame 105/121...\n",
        "Optimization terminated successfully."
       ]
      },
      {
       "output_type": "stream",
       "stream": "stdout",
       "text": [
        "\n",
        "         Current function value: -6.267223\n",
        "         Iterations: 12\n",
        "         Function evaluations: 13\n",
        "         Gradient evaluations: 12\n",
        "         Hessian evaluations: 12\n",
        "translation : [ 0.01074166 -0.07342572 -0.06813963]\n",
        "rotation    : [ 0.00068774 -0.00103643 -0.00011251]\n",
        "\n",
        "Estimating motion at time frame 106/121...\n",
        "Optimization terminated successfully."
       ]
      },
      {
       "output_type": "stream",
       "stream": "stdout",
       "text": [
        "\n",
        "         Current function value: -6.267454\n",
        "         Iterations: 12\n",
        "         Function evaluations: 13\n",
        "         Gradient evaluations: 12\n",
        "         Hessian evaluations: 12\n",
        "translation : [ 0.01612614 -0.04847578 -0.02404427]\n",
        "rotation    : [ 0.00030053 -0.00172206  0.00075894]\n",
        "\n",
        "Estimating motion at time frame 107/121...\n",
        "Optimization terminated successfully."
       ]
      },
      {
       "output_type": "stream",
       "stream": "stdout",
       "text": [
        "\n",
        "         Current function value: -6.267548\n",
        "         Iterations: 8\n",
        "         Function evaluations: 16\n",
        "         Gradient evaluations: 8\n",
        "         Hessian evaluations: 8\n",
        "translation : [ 0.00270652 -0.04660136 -0.04077648]\n",
        "rotation    : [ 0.000855   -0.00040705  0.00012317]\n",
        "\n",
        "Estimating motion at time frame 108/121...\n",
        "Optimization terminated successfully."
       ]
      },
      {
       "output_type": "stream",
       "stream": "stdout",
       "text": [
        "\n",
        "         Current function value: -6.267728\n",
        "         Iterations: 8\n",
        "         Function evaluations: 9\n",
        "         Gradient evaluations: 8\n",
        "         Hessian evaluations: 8\n",
        "translation : [-0.01133377 -0.07824919 -0.06101175]\n",
        "rotation    : [ 0.00107868  0.00015115  0.00028908]\n",
        "\n",
        "Estimating motion at time frame 109/121...\n",
        "Optimization terminated successfully."
       ]
      },
      {
       "output_type": "stream",
       "stream": "stdout",
       "text": [
        "\n",
        "         Current function value: -6.267855\n",
        "         Iterations: 12\n",
        "         Function evaluations: 13\n",
        "         Gradient evaluations: 12\n",
        "         Hessian evaluations: 12\n",
        "translation : [-0.00098519 -0.05691265 -0.05627393]\n",
        "rotation    : [-0.00018433  0.00014404  0.00051418]\n",
        "\n",
        "Estimating motion at time frame 110/121...\n",
        "Optimization terminated successfully."
       ]
      },
      {
       "output_type": "stream",
       "stream": "stdout",
       "text": [
        "\n",
        "         Current function value: -6.267983\n",
        "         Iterations: 10\n",
        "         Function evaluations: 11\n",
        "         Gradient evaluations: 10\n",
        "         Hessian evaluations: 10\n",
        "translation : [ 0.01807697 -0.01898413 -0.02839673]\n",
        "rotation    : [-0.00051442 -0.00095525  0.00082246]\n",
        "\n",
        "Estimating motion at time frame 111/121...\n",
        "Optimization terminated successfully."
       ]
      },
      {
       "output_type": "stream",
       "stream": "stdout",
       "text": [
        "\n",
        "         Current function value: -6.268156\n",
        "         Iterations: 11\n",
        "         Function evaluations: 12\n",
        "         Gradient evaluations: 11\n",
        "         Hessian evaluations: 11\n",
        "translation : [-0.0287268  -0.03453731 -0.05730409]\n",
        "rotation    : [ -5.94014656e-05  -2.90817307e-04   1.55955499e-03]\n",
        "\n",
        "Estimating motion at time frame 112/121...\n",
        "Optimization terminated successfully."
       ]
      },
      {
       "output_type": "stream",
       "stream": "stdout",
       "text": [
        "\n",
        "         Current function value: -6.268471\n",
        "         Iterations: 13\n",
        "         Function evaluations: 14\n",
        "         Gradient evaluations: 13\n",
        "         Hessian evaluations: 13\n",
        "translation : [-0.0189768  -0.08990759 -0.048834  ]\n",
        "rotation    : [ 0.00033243 -0.00124208  0.00197982]\n",
        "\n",
        "Estimating motion at time frame 113/121...\n",
        "Optimization terminated successfully."
       ]
      },
      {
       "output_type": "stream",
       "stream": "stdout",
       "text": [
        "\n",
        "         Current function value: -6.268848\n",
        "         Iterations: 15\n",
        "         Function evaluations: 16\n",
        "         Gradient evaluations: 15\n",
        "         Hessian evaluations: 15\n",
        "translation : [ 0.02122867 -0.08448683 -0.03509547]\n",
        "rotation    : [ -7.79673167e-05  -1.77331728e-03   1.48254840e-03]\n",
        "\n",
        "Estimating motion at time frame 114/121...\n",
        "Optimization terminated successfully."
       ]
      },
      {
       "output_type": "stream",
       "stream": "stdout",
       "text": [
        "\n",
        "         Current function value: -6.269001\n",
        "         Iterations: 12\n",
        "         Function evaluations: 13\n",
        "         Gradient evaluations: 12\n",
        "         Hessian evaluations: 12\n",
        "translation : [-0.01779981 -0.04777772 -0.04415282]\n",
        "rotation    : [ 0.00063578 -0.00122383  0.00099418]\n",
        "\n",
        "Estimating motion at time frame 115/121...\n",
        "Optimization terminated successfully."
       ]
      },
      {
       "output_type": "stream",
       "stream": "stdout",
       "text": [
        "\n",
        "         Current function value: -6.269204\n",
        "         Iterations: 14\n",
        "         Function evaluations: 15\n",
        "         Gradient evaluations: 14\n",
        "         Hessian evaluations: 14\n",
        "translation : [-0.05455476 -0.06039205 -0.07032252]\n",
        "rotation    : [ 0.0004251  -0.00063709  0.00070238]\n",
        "\n",
        "Estimating motion at time frame 116/121...\n",
        "Optimization terminated successfully."
       ]
      },
      {
       "output_type": "stream",
       "stream": "stdout",
       "text": [
        "\n",
        "         Current function value: -6.269426\n",
        "         Iterations: 14\n",
        "         Function evaluations: 15\n",
        "         Gradient evaluations: 14\n",
        "         Hessian evaluations: 14\n",
        "translation : [-0.00323338 -0.0143498  -0.0499116 ]\n",
        "rotation    : [-0.00060287 -0.00200077  0.00069335]\n",
        "\n",
        "Estimating motion at time frame 117/121...\n",
        "Optimization terminated successfully."
       ]
      },
      {
       "output_type": "stream",
       "stream": "stdout",
       "text": [
        "\n",
        "         Current function value: -6.269687\n",
        "         Iterations: 16\n",
        "         Function evaluations: 17\n",
        "         Gradient evaluations: 16\n",
        "         Hessian evaluations: 16\n",
        "translation : [-0.06525326 -0.01488982 -0.06911156]\n",
        "rotation    : [-0.00045193 -0.00142579  0.00145967]\n",
        "\n",
        "Estimating motion at time frame 118/121...\n",
        "Optimization terminated successfully."
       ]
      },
      {
       "output_type": "stream",
       "stream": "stdout",
       "text": [
        "\n",
        "         Current function value: -6.270018\n",
        "         Iterations: 12\n",
        "         Function evaluations: 14\n",
        "         Gradient evaluations: 12\n",
        "         Hessian evaluations: 12\n",
        "translation : [-0.0656423  -0.05013085 -0.09102045]\n",
        "rotation    : [-0.00061034 -0.00033217  0.00113868]\n",
        "\n",
        "Estimating motion at time frame 119/121...\n",
        "Optimization terminated successfully."
       ]
      },
      {
       "output_type": "stream",
       "stream": "stdout",
       "text": [
        "\n",
        "         Current function value: -6.270278\n",
        "         Iterations: 13\n",
        "         Function evaluations: 14\n",
        "         Gradient evaluations: 13\n",
        "         Hessian evaluations: 13\n",
        "translation : [-0.03092427 -0.04232494 -0.07515309]\n",
        "rotation    : [-0.00038759 -0.00023646  0.00178322]\n",
        "\n",
        "Estimating motion at time frame 120/121...\n",
        "Optimization terminated successfully."
       ]
      },
      {
       "output_type": "stream",
       "stream": "stdout",
       "text": [
        "\n",
        "         Current function value: -6.270518\n",
        "         Iterations: 10\n",
        "         Function evaluations: 11\n",
        "         Gradient evaluations: 10\n",
        "         Hessian evaluations: 10\n",
        "translation : [-0.02451544 -0.07225927 -0.07883558]\n",
        "rotation    : [  6.77486104e-04  -5.53343155e-06   1.01158048e-03]\n",
        "\n",
        "Estimating motion at time frame 121/121...\n",
        "Optimization terminated successfully."
       ]
      },
      {
       "output_type": "stream",
       "stream": "stdout",
       "text": [
        "\n",
        "         Current function value: -6.270815\n",
        "         Iterations: 8\n",
        "         Function evaluations: 9\n",
        "         Gradient evaluations: 8\n",
        "         Hessian evaluations: 8\n",
        "translation : [-0.0696038  -0.07214494 -0.05812192]\n",
        "rotation    : [  1.35152485e-03  -4.90508790e-05   9.62765446e-04]\n",
        "\n",
        "Gridding..."
       ]
      },
      {
       "output_type": "stream",
       "stream": "stdout",
       "text": [
        "\n",
        "Fully resampling scan 1/121"
       ]
      },
      {
       "output_type": "stream",
       "stream": "stdout",
       "text": [
        "\n",
        "Fully resampling scan 2/121"
       ]
      },
      {
       "output_type": "stream",
       "stream": "stdout",
       "text": [
        "\n",
        "Fully resampling scan 3/121"
       ]
      },
      {
       "output_type": "stream",
       "stream": "stdout",
       "text": [
        "\n",
        "Fully resampling scan 4/121"
       ]
      },
      {
       "output_type": "stream",
       "stream": "stdout",
       "text": [
        "\n",
        "Fully resampling scan 5/121"
       ]
      },
      {
       "output_type": "stream",
       "stream": "stdout",
       "text": [
        "\n",
        "Fully resampling scan 6/121"
       ]
      },
      {
       "output_type": "stream",
       "stream": "stdout",
       "text": [
        "\n",
        "Fully resampling scan 7/121"
       ]
      },
      {
       "output_type": "stream",
       "stream": "stdout",
       "text": [
        "\n",
        "Fully resampling scan 8/121"
       ]
      },
      {
       "output_type": "stream",
       "stream": "stdout",
       "text": [
        "\n",
        "Fully resampling scan 9/121"
       ]
      },
      {
       "output_type": "stream",
       "stream": "stdout",
       "text": [
        "\n",
        "Fully resampling scan 10/121"
       ]
      },
      {
       "output_type": "stream",
       "stream": "stdout",
       "text": [
        "\n",
        "Fully resampling scan 11/121"
       ]
      },
      {
       "output_type": "stream",
       "stream": "stdout",
       "text": [
        "\n",
        "Fully resampling scan 12/121"
       ]
      },
      {
       "output_type": "stream",
       "stream": "stdout",
       "text": [
        "\n",
        "Fully resampling scan 13/121"
       ]
      },
      {
       "output_type": "stream",
       "stream": "stdout",
       "text": [
        "\n",
        "Fully resampling scan 14/121"
       ]
      },
      {
       "output_type": "stream",
       "stream": "stdout",
       "text": [
        "\n",
        "Fully resampling scan 15/121"
       ]
      },
      {
       "output_type": "stream",
       "stream": "stdout",
       "text": [
        "\n",
        "Fully resampling scan 16/121"
       ]
      },
      {
       "output_type": "stream",
       "stream": "stdout",
       "text": [
        "\n",
        "Fully resampling scan 17/121"
       ]
      },
      {
       "output_type": "stream",
       "stream": "stdout",
       "text": [
        "\n",
        "Fully resampling scan 18/121"
       ]
      },
      {
       "output_type": "stream",
       "stream": "stdout",
       "text": [
        "\n",
        "Fully resampling scan 19/121"
       ]
      },
      {
       "output_type": "stream",
       "stream": "stdout",
       "text": [
        "\n",
        "Fully resampling scan 20/121"
       ]
      },
      {
       "output_type": "stream",
       "stream": "stdout",
       "text": [
        "\n",
        "Fully resampling scan 21/121"
       ]
      },
      {
       "output_type": "stream",
       "stream": "stdout",
       "text": [
        "\n",
        "Fully resampling scan 22/121"
       ]
      },
      {
       "output_type": "stream",
       "stream": "stdout",
       "text": [
        "\n",
        "Fully resampling scan 23/121"
       ]
      },
      {
       "output_type": "stream",
       "stream": "stdout",
       "text": [
        "\n",
        "Fully resampling scan 24/121"
       ]
      },
      {
       "output_type": "stream",
       "stream": "stdout",
       "text": [
        "\n",
        "Fully resampling scan 25/121"
       ]
      },
      {
       "output_type": "stream",
       "stream": "stdout",
       "text": [
        "\n",
        "Fully resampling scan 26/121"
       ]
      },
      {
       "output_type": "stream",
       "stream": "stdout",
       "text": [
        "\n",
        "Fully resampling scan 27/121"
       ]
      },
      {
       "output_type": "stream",
       "stream": "stdout",
       "text": [
        "\n",
        "Fully resampling scan 28/121"
       ]
      },
      {
       "output_type": "stream",
       "stream": "stdout",
       "text": [
        "\n",
        "Fully resampling scan 29/121"
       ]
      },
      {
       "output_type": "stream",
       "stream": "stdout",
       "text": [
        "\n",
        "Fully resampling scan 30/121"
       ]
      },
      {
       "output_type": "stream",
       "stream": "stdout",
       "text": [
        "\n",
        "Fully resampling scan 31/121"
       ]
      },
      {
       "output_type": "stream",
       "stream": "stdout",
       "text": [
        "\n",
        "Fully resampling scan 32/121"
       ]
      },
      {
       "output_type": "stream",
       "stream": "stdout",
       "text": [
        "\n",
        "Fully resampling scan 33/121"
       ]
      },
      {
       "output_type": "stream",
       "stream": "stdout",
       "text": [
        "\n",
        "Fully resampling scan 34/121"
       ]
      },
      {
       "output_type": "stream",
       "stream": "stdout",
       "text": [
        "\n",
        "Fully resampling scan 35/121"
       ]
      },
      {
       "output_type": "stream",
       "stream": "stdout",
       "text": [
        "\n",
        "Fully resampling scan 36/121"
       ]
      },
      {
       "output_type": "stream",
       "stream": "stdout",
       "text": [
        "\n",
        "Fully resampling scan 37/121"
       ]
      },
      {
       "output_type": "stream",
       "stream": "stdout",
       "text": [
        "\n",
        "Fully resampling scan 38/121"
       ]
      },
      {
       "output_type": "stream",
       "stream": "stdout",
       "text": [
        "\n",
        "Fully resampling scan 39/121"
       ]
      },
      {
       "output_type": "stream",
       "stream": "stdout",
       "text": [
        "\n",
        "Fully resampling scan 40/121"
       ]
      },
      {
       "output_type": "stream",
       "stream": "stdout",
       "text": [
        "\n",
        "Fully resampling scan 41/121"
       ]
      },
      {
       "output_type": "stream",
       "stream": "stdout",
       "text": [
        "\n",
        "Fully resampling scan 42/121"
       ]
      },
      {
       "output_type": "stream",
       "stream": "stdout",
       "text": [
        "\n",
        "Fully resampling scan 43/121"
       ]
      },
      {
       "output_type": "stream",
       "stream": "stdout",
       "text": [
        "\n",
        "Fully resampling scan 44/121"
       ]
      },
      {
       "output_type": "stream",
       "stream": "stdout",
       "text": [
        "\n",
        "Fully resampling scan 45/121"
       ]
      },
      {
       "output_type": "stream",
       "stream": "stdout",
       "text": [
        "\n",
        "Fully resampling scan 46/121"
       ]
      },
      {
       "output_type": "stream",
       "stream": "stdout",
       "text": [
        "\n",
        "Fully resampling scan 47/121"
       ]
      },
      {
       "output_type": "stream",
       "stream": "stdout",
       "text": [
        "\n",
        "Fully resampling scan 48/121"
       ]
      },
      {
       "output_type": "stream",
       "stream": "stdout",
       "text": [
        "\n",
        "Fully resampling scan 49/121"
       ]
      },
      {
       "output_type": "stream",
       "stream": "stdout",
       "text": [
        "\n",
        "Fully resampling scan 50/121"
       ]
      },
      {
       "output_type": "stream",
       "stream": "stdout",
       "text": [
        "\n",
        "Fully resampling scan 51/121"
       ]
      },
      {
       "output_type": "stream",
       "stream": "stdout",
       "text": [
        "\n",
        "Fully resampling scan 52/121"
       ]
      },
      {
       "output_type": "stream",
       "stream": "stdout",
       "text": [
        "\n",
        "Fully resampling scan 53/121"
       ]
      },
      {
       "output_type": "stream",
       "stream": "stdout",
       "text": [
        "\n",
        "Fully resampling scan 54/121"
       ]
      },
      {
       "output_type": "stream",
       "stream": "stdout",
       "text": [
        "\n",
        "Fully resampling scan 55/121"
       ]
      },
      {
       "output_type": "stream",
       "stream": "stdout",
       "text": [
        "\n",
        "Fully resampling scan 56/121"
       ]
      },
      {
       "output_type": "stream",
       "stream": "stdout",
       "text": [
        "\n",
        "Fully resampling scan 57/121"
       ]
      },
      {
       "output_type": "stream",
       "stream": "stdout",
       "text": [
        "\n",
        "Fully resampling scan 58/121"
       ]
      },
      {
       "output_type": "stream",
       "stream": "stdout",
       "text": [
        "\n",
        "Fully resampling scan 59/121"
       ]
      },
      {
       "output_type": "stream",
       "stream": "stdout",
       "text": [
        "\n",
        "Fully resampling scan 60/121"
       ]
      },
      {
       "output_type": "stream",
       "stream": "stdout",
       "text": [
        "\n",
        "Fully resampling scan 61/121"
       ]
      },
      {
       "output_type": "stream",
       "stream": "stdout",
       "text": [
        "\n",
        "Fully resampling scan 62/121"
       ]
      },
      {
       "output_type": "stream",
       "stream": "stdout",
       "text": [
        "\n",
        "Fully resampling scan 63/121"
       ]
      },
      {
       "output_type": "stream",
       "stream": "stdout",
       "text": [
        "\n",
        "Fully resampling scan 64/121"
       ]
      },
      {
       "output_type": "stream",
       "stream": "stdout",
       "text": [
        "\n",
        "Fully resampling scan 65/121"
       ]
      },
      {
       "output_type": "stream",
       "stream": "stdout",
       "text": [
        "\n",
        "Fully resampling scan 66/121"
       ]
      },
      {
       "output_type": "stream",
       "stream": "stdout",
       "text": [
        "\n",
        "Fully resampling scan 67/121"
       ]
      },
      {
       "output_type": "stream",
       "stream": "stdout",
       "text": [
        "\n",
        "Fully resampling scan 68/121"
       ]
      },
      {
       "output_type": "stream",
       "stream": "stdout",
       "text": [
        "\n",
        "Fully resampling scan 69/121"
       ]
      },
      {
       "output_type": "stream",
       "stream": "stdout",
       "text": [
        "\n",
        "Fully resampling scan 70/121"
       ]
      },
      {
       "output_type": "stream",
       "stream": "stdout",
       "text": [
        "\n",
        "Fully resampling scan 71/121"
       ]
      },
      {
       "output_type": "stream",
       "stream": "stdout",
       "text": [
        "\n",
        "Fully resampling scan 72/121"
       ]
      },
      {
       "output_type": "stream",
       "stream": "stdout",
       "text": [
        "\n",
        "Fully resampling scan 73/121"
       ]
      },
      {
       "output_type": "stream",
       "stream": "stdout",
       "text": [
        "\n",
        "Fully resampling scan 74/121"
       ]
      },
      {
       "output_type": "stream",
       "stream": "stdout",
       "text": [
        "\n",
        "Fully resampling scan 75/121"
       ]
      },
      {
       "output_type": "stream",
       "stream": "stdout",
       "text": [
        "\n",
        "Fully resampling scan 76/121"
       ]
      },
      {
       "output_type": "stream",
       "stream": "stdout",
       "text": [
        "\n",
        "Fully resampling scan 77/121"
       ]
      },
      {
       "output_type": "stream",
       "stream": "stdout",
       "text": [
        "\n",
        "Fully resampling scan 78/121"
       ]
      },
      {
       "output_type": "stream",
       "stream": "stdout",
       "text": [
        "\n",
        "Fully resampling scan 79/121"
       ]
      },
      {
       "output_type": "stream",
       "stream": "stdout",
       "text": [
        "\n",
        "Fully resampling scan 80/121"
       ]
      },
      {
       "output_type": "stream",
       "stream": "stdout",
       "text": [
        "\n",
        "Fully resampling scan 81/121"
       ]
      },
      {
       "output_type": "stream",
       "stream": "stdout",
       "text": [
        "\n",
        "Fully resampling scan 82/121"
       ]
      },
      {
       "output_type": "stream",
       "stream": "stdout",
       "text": [
        "\n",
        "Fully resampling scan 83/121"
       ]
      },
      {
       "output_type": "stream",
       "stream": "stdout",
       "text": [
        "\n",
        "Fully resampling scan 84/121"
       ]
      },
      {
       "output_type": "stream",
       "stream": "stdout",
       "text": [
        "\n",
        "Fully resampling scan 85/121"
       ]
      },
      {
       "output_type": "stream",
       "stream": "stdout",
       "text": [
        "\n",
        "Fully resampling scan 86/121"
       ]
      },
      {
       "output_type": "stream",
       "stream": "stdout",
       "text": [
        "\n",
        "Fully resampling scan 87/121"
       ]
      },
      {
       "output_type": "stream",
       "stream": "stdout",
       "text": [
        "\n",
        "Fully resampling scan 88/121"
       ]
      },
      {
       "output_type": "stream",
       "stream": "stdout",
       "text": [
        "\n",
        "Fully resampling scan 89/121"
       ]
      },
      {
       "output_type": "stream",
       "stream": "stdout",
       "text": [
        "\n",
        "Fully resampling scan 90/121"
       ]
      },
      {
       "output_type": "stream",
       "stream": "stdout",
       "text": [
        "\n",
        "Fully resampling scan 91/121"
       ]
      },
      {
       "output_type": "stream",
       "stream": "stdout",
       "text": [
        "\n",
        "Fully resampling scan 92/121"
       ]
      },
      {
       "output_type": "stream",
       "stream": "stdout",
       "text": [
        "\n",
        "Fully resampling scan 93/121"
       ]
      },
      {
       "output_type": "stream",
       "stream": "stdout",
       "text": [
        "\n",
        "Fully resampling scan 94/121"
       ]
      },
      {
       "output_type": "stream",
       "stream": "stdout",
       "text": [
        "\n",
        "Fully resampling scan 95/121"
       ]
      },
      {
       "output_type": "stream",
       "stream": "stdout",
       "text": [
        "\n",
        "Fully resampling scan 96/121"
       ]
      },
      {
       "output_type": "stream",
       "stream": "stdout",
       "text": [
        "\n",
        "Fully resampling scan 97/121"
       ]
      },
      {
       "output_type": "stream",
       "stream": "stdout",
       "text": [
        "\n",
        "Fully resampling scan 98/121"
       ]
      },
      {
       "output_type": "stream",
       "stream": "stdout",
       "text": [
        "\n",
        "Fully resampling scan 99/121"
       ]
      },
      {
       "output_type": "stream",
       "stream": "stdout",
       "text": [
        "\n",
        "Fully resampling scan 100/121"
       ]
      },
      {
       "output_type": "stream",
       "stream": "stdout",
       "text": [
        "\n",
        "Fully resampling scan 101/121"
       ]
      },
      {
       "output_type": "stream",
       "stream": "stdout",
       "text": [
        "\n",
        "Fully resampling scan 102/121"
       ]
      },
      {
       "output_type": "stream",
       "stream": "stdout",
       "text": [
        "\n",
        "Fully resampling scan 103/121"
       ]
      },
      {
       "output_type": "stream",
       "stream": "stdout",
       "text": [
        "\n",
        "Fully resampling scan 104/121"
       ]
      },
      {
       "output_type": "stream",
       "stream": "stdout",
       "text": [
        "\n",
        "Fully resampling scan 105/121"
       ]
      },
      {
       "output_type": "stream",
       "stream": "stdout",
       "text": [
        "\n",
        "Fully resampling scan 106/121"
       ]
      },
      {
       "output_type": "stream",
       "stream": "stdout",
       "text": [
        "\n",
        "Fully resampling scan 107/121"
       ]
      },
      {
       "output_type": "stream",
       "stream": "stdout",
       "text": [
        "\n",
        "Fully resampling scan 108/121"
       ]
      },
      {
       "output_type": "stream",
       "stream": "stdout",
       "text": [
        "\n",
        "Fully resampling scan 109/121"
       ]
      },
      {
       "output_type": "stream",
       "stream": "stdout",
       "text": [
        "\n",
        "Fully resampling scan 110/121"
       ]
      },
      {
       "output_type": "stream",
       "stream": "stdout",
       "text": [
        "\n",
        "Fully resampling scan 111/121"
       ]
      },
      {
       "output_type": "stream",
       "stream": "stdout",
       "text": [
        "\n",
        "Fully resampling scan 112/121"
       ]
      },
      {
       "output_type": "stream",
       "stream": "stdout",
       "text": [
        "\n",
        "Fully resampling scan 113/121"
       ]
      },
      {
       "output_type": "stream",
       "stream": "stdout",
       "text": [
        "\n",
        "Fully resampling scan 114/121"
       ]
      },
      {
       "output_type": "stream",
       "stream": "stdout",
       "text": [
        "\n",
        "Fully resampling scan 115/121"
       ]
      },
      {
       "output_type": "stream",
       "stream": "stdout",
       "text": [
        "\n",
        "Fully resampling scan 116/121"
       ]
      },
      {
       "output_type": "stream",
       "stream": "stdout",
       "text": [
        "\n",
        "Fully resampling scan 117/121"
       ]
      },
      {
       "output_type": "stream",
       "stream": "stdout",
       "text": [
        "\n",
        "Fully resampling scan 118/121"
       ]
      },
      {
       "output_type": "stream",
       "stream": "stdout",
       "text": [
        "\n",
        "Fully resampling scan 119/121"
       ]
      },
      {
       "output_type": "stream",
       "stream": "stdout",
       "text": [
        "\n",
        "Fully resampling scan 120/121"
       ]
      },
      {
       "output_type": "stream",
       "stream": "stdout",
       "text": [
        "\n",
        "Fully resampling scan 121/121"
       ]
      },
      {
       "output_type": "stream",
       "stream": "stdout",
       "text": [
        "\n",
        "Gridding..."
       ]
      },
      {
       "output_type": "stream",
       "stream": "stdout",
       "text": [
        "\n",
        "Fully resampling scan 1/121"
       ]
      },
      {
       "output_type": "stream",
       "stream": "stdout",
       "text": [
        "\n",
        "Fully resampling scan 2/121"
       ]
      },
      {
       "output_type": "stream",
       "stream": "stdout",
       "text": [
        "\n",
        "Fully resampling scan 3/121"
       ]
      },
      {
       "output_type": "stream",
       "stream": "stdout",
       "text": [
        "\n",
        "Fully resampling scan 4/121"
       ]
      },
      {
       "output_type": "stream",
       "stream": "stdout",
       "text": [
        "\n",
        "Fully resampling scan 5/121"
       ]
      },
      {
       "output_type": "stream",
       "stream": "stdout",
       "text": [
        "\n",
        "Fully resampling scan 6/121"
       ]
      },
      {
       "output_type": "stream",
       "stream": "stdout",
       "text": [
        "\n",
        "Fully resampling scan 7/121"
       ]
      },
      {
       "output_type": "stream",
       "stream": "stdout",
       "text": [
        "\n",
        "Fully resampling scan 8/121"
       ]
      },
      {
       "output_type": "stream",
       "stream": "stdout",
       "text": [
        "\n",
        "Fully resampling scan 9/121"
       ]
      },
      {
       "output_type": "stream",
       "stream": "stdout",
       "text": [
        "\n",
        "Fully resampling scan 10/121"
       ]
      },
      {
       "output_type": "stream",
       "stream": "stdout",
       "text": [
        "\n",
        "Fully resampling scan 11/121"
       ]
      },
      {
       "output_type": "stream",
       "stream": "stdout",
       "text": [
        "\n",
        "Fully resampling scan 12/121"
       ]
      },
      {
       "output_type": "stream",
       "stream": "stdout",
       "text": [
        "\n",
        "Fully resampling scan 13/121"
       ]
      },
      {
       "output_type": "stream",
       "stream": "stdout",
       "text": [
        "\n",
        "Fully resampling scan 14/121"
       ]
      },
      {
       "output_type": "stream",
       "stream": "stdout",
       "text": [
        "\n",
        "Fully resampling scan 15/121"
       ]
      },
      {
       "output_type": "stream",
       "stream": "stdout",
       "text": [
        "\n",
        "Fully resampling scan 16/121"
       ]
      },
      {
       "output_type": "stream",
       "stream": "stdout",
       "text": [
        "\n",
        "Fully resampling scan 17/121"
       ]
      },
      {
       "output_type": "stream",
       "stream": "stdout",
       "text": [
        "\n",
        "Fully resampling scan 18/121"
       ]
      },
      {
       "output_type": "stream",
       "stream": "stdout",
       "text": [
        "\n",
        "Fully resampling scan 19/121"
       ]
      },
      {
       "output_type": "stream",
       "stream": "stdout",
       "text": [
        "\n",
        "Fully resampling scan 20/121"
       ]
      },
      {
       "output_type": "stream",
       "stream": "stdout",
       "text": [
        "\n",
        "Fully resampling scan 21/121"
       ]
      },
      {
       "output_type": "stream",
       "stream": "stdout",
       "text": [
        "\n",
        "Fully resampling scan 22/121"
       ]
      },
      {
       "output_type": "stream",
       "stream": "stdout",
       "text": [
        "\n",
        "Fully resampling scan 23/121"
       ]
      },
      {
       "output_type": "stream",
       "stream": "stdout",
       "text": [
        "\n",
        "Fully resampling scan 24/121"
       ]
      },
      {
       "output_type": "stream",
       "stream": "stdout",
       "text": [
        "\n",
        "Fully resampling scan 25/121"
       ]
      },
      {
       "output_type": "stream",
       "stream": "stdout",
       "text": [
        "\n",
        "Fully resampling scan 26/121"
       ]
      },
      {
       "output_type": "stream",
       "stream": "stdout",
       "text": [
        "\n",
        "Fully resampling scan 27/121"
       ]
      },
      {
       "output_type": "stream",
       "stream": "stdout",
       "text": [
        "\n",
        "Fully resampling scan 28/121"
       ]
      },
      {
       "output_type": "stream",
       "stream": "stdout",
       "text": [
        "\n",
        "Fully resampling scan 29/121"
       ]
      },
      {
       "output_type": "stream",
       "stream": "stdout",
       "text": [
        "\n",
        "Fully resampling scan 30/121"
       ]
      },
      {
       "output_type": "stream",
       "stream": "stdout",
       "text": [
        "\n",
        "Fully resampling scan 31/121"
       ]
      },
      {
       "output_type": "stream",
       "stream": "stdout",
       "text": [
        "\n",
        "Fully resampling scan 32/121"
       ]
      },
      {
       "output_type": "stream",
       "stream": "stdout",
       "text": [
        "\n",
        "Fully resampling scan 33/121"
       ]
      },
      {
       "output_type": "stream",
       "stream": "stdout",
       "text": [
        "\n",
        "Fully resampling scan 34/121"
       ]
      },
      {
       "output_type": "stream",
       "stream": "stdout",
       "text": [
        "\n",
        "Fully resampling scan 35/121"
       ]
      },
      {
       "output_type": "stream",
       "stream": "stdout",
       "text": [
        "\n",
        "Fully resampling scan 36/121"
       ]
      },
      {
       "output_type": "stream",
       "stream": "stdout",
       "text": [
        "\n",
        "Fully resampling scan 37/121"
       ]
      },
      {
       "output_type": "stream",
       "stream": "stdout",
       "text": [
        "\n",
        "Fully resampling scan 38/121"
       ]
      },
      {
       "output_type": "stream",
       "stream": "stdout",
       "text": [
        "\n",
        "Fully resampling scan 39/121"
       ]
      },
      {
       "output_type": "stream",
       "stream": "stdout",
       "text": [
        "\n",
        "Fully resampling scan 40/121"
       ]
      },
      {
       "output_type": "stream",
       "stream": "stdout",
       "text": [
        "\n",
        "Fully resampling scan 41/121"
       ]
      },
      {
       "output_type": "stream",
       "stream": "stdout",
       "text": [
        "\n",
        "Fully resampling scan 42/121"
       ]
      },
      {
       "output_type": "stream",
       "stream": "stdout",
       "text": [
        "\n",
        "Fully resampling scan 43/121"
       ]
      },
      {
       "output_type": "stream",
       "stream": "stdout",
       "text": [
        "\n",
        "Fully resampling scan 44/121"
       ]
      },
      {
       "output_type": "stream",
       "stream": "stdout",
       "text": [
        "\n",
        "Fully resampling scan 45/121"
       ]
      },
      {
       "output_type": "stream",
       "stream": "stdout",
       "text": [
        "\n",
        "Fully resampling scan 46/121"
       ]
      },
      {
       "output_type": "stream",
       "stream": "stdout",
       "text": [
        "\n",
        "Fully resampling scan 47/121"
       ]
      },
      {
       "output_type": "stream",
       "stream": "stdout",
       "text": [
        "\n",
        "Fully resampling scan 48/121"
       ]
      },
      {
       "output_type": "stream",
       "stream": "stdout",
       "text": [
        "\n",
        "Fully resampling scan 49/121"
       ]
      },
      {
       "output_type": "stream",
       "stream": "stdout",
       "text": [
        "\n",
        "Fully resampling scan 50/121"
       ]
      },
      {
       "output_type": "stream",
       "stream": "stdout",
       "text": [
        "\n",
        "Fully resampling scan 51/121"
       ]
      },
      {
       "output_type": "stream",
       "stream": "stdout",
       "text": [
        "\n",
        "Fully resampling scan 52/121"
       ]
      },
      {
       "output_type": "stream",
       "stream": "stdout",
       "text": [
        "\n",
        "Fully resampling scan 53/121"
       ]
      },
      {
       "output_type": "stream",
       "stream": "stdout",
       "text": [
        "\n",
        "Fully resampling scan 54/121"
       ]
      },
      {
       "output_type": "stream",
       "stream": "stdout",
       "text": [
        "\n",
        "Fully resampling scan 55/121"
       ]
      },
      {
       "output_type": "stream",
       "stream": "stdout",
       "text": [
        "\n",
        "Fully resampling scan 56/121"
       ]
      },
      {
       "output_type": "stream",
       "stream": "stdout",
       "text": [
        "\n",
        "Fully resampling scan 57/121"
       ]
      },
      {
       "output_type": "stream",
       "stream": "stdout",
       "text": [
        "\n",
        "Fully resampling scan 58/121"
       ]
      },
      {
       "output_type": "stream",
       "stream": "stdout",
       "text": [
        "\n",
        "Fully resampling scan 59/121"
       ]
      },
      {
       "output_type": "stream",
       "stream": "stdout",
       "text": [
        "\n",
        "Fully resampling scan 60/121"
       ]
      },
      {
       "output_type": "stream",
       "stream": "stdout",
       "text": [
        "\n",
        "Fully resampling scan 61/121"
       ]
      },
      {
       "output_type": "stream",
       "stream": "stdout",
       "text": [
        "\n",
        "Fully resampling scan 62/121"
       ]
      },
      {
       "output_type": "stream",
       "stream": "stdout",
       "text": [
        "\n",
        "Fully resampling scan 63/121"
       ]
      },
      {
       "output_type": "stream",
       "stream": "stdout",
       "text": [
        "\n",
        "Fully resampling scan 64/121"
       ]
      },
      {
       "output_type": "stream",
       "stream": "stdout",
       "text": [
        "\n",
        "Fully resampling scan 65/121"
       ]
      },
      {
       "output_type": "stream",
       "stream": "stdout",
       "text": [
        "\n",
        "Fully resampling scan 66/121"
       ]
      },
      {
       "output_type": "stream",
       "stream": "stdout",
       "text": [
        "\n",
        "Fully resampling scan 67/121"
       ]
      },
      {
       "output_type": "stream",
       "stream": "stdout",
       "text": [
        "\n",
        "Fully resampling scan 68/121"
       ]
      },
      {
       "output_type": "stream",
       "stream": "stdout",
       "text": [
        "\n",
        "Fully resampling scan 69/121"
       ]
      },
      {
       "output_type": "stream",
       "stream": "stdout",
       "text": [
        "\n",
        "Fully resampling scan 70/121"
       ]
      },
      {
       "output_type": "stream",
       "stream": "stdout",
       "text": [
        "\n",
        "Fully resampling scan 71/121"
       ]
      },
      {
       "output_type": "stream",
       "stream": "stdout",
       "text": [
        "\n",
        "Fully resampling scan 72/121"
       ]
      },
      {
       "output_type": "stream",
       "stream": "stdout",
       "text": [
        "\n",
        "Fully resampling scan 73/121"
       ]
      },
      {
       "output_type": "stream",
       "stream": "stdout",
       "text": [
        "\n",
        "Fully resampling scan 74/121"
       ]
      },
      {
       "output_type": "stream",
       "stream": "stdout",
       "text": [
        "\n",
        "Fully resampling scan 75/121"
       ]
      },
      {
       "output_type": "stream",
       "stream": "stdout",
       "text": [
        "\n",
        "Fully resampling scan 76/121"
       ]
      },
      {
       "output_type": "stream",
       "stream": "stdout",
       "text": [
        "\n",
        "Fully resampling scan 77/121"
       ]
      },
      {
       "output_type": "stream",
       "stream": "stdout",
       "text": [
        "\n",
        "Fully resampling scan 78/121"
       ]
      },
      {
       "output_type": "stream",
       "stream": "stdout",
       "text": [
        "\n",
        "Fully resampling scan 79/121"
       ]
      },
      {
       "output_type": "stream",
       "stream": "stdout",
       "text": [
        "\n",
        "Fully resampling scan 80/121"
       ]
      },
      {
       "output_type": "stream",
       "stream": "stdout",
       "text": [
        "\n",
        "Fully resampling scan 81/121"
       ]
      },
      {
       "output_type": "stream",
       "stream": "stdout",
       "text": [
        "\n",
        "Fully resampling scan 82/121"
       ]
      },
      {
       "output_type": "stream",
       "stream": "stdout",
       "text": [
        "\n",
        "Fully resampling scan 83/121"
       ]
      },
      {
       "output_type": "stream",
       "stream": "stdout",
       "text": [
        "\n",
        "Fully resampling scan 84/121"
       ]
      },
      {
       "output_type": "stream",
       "stream": "stdout",
       "text": [
        "\n",
        "Fully resampling scan 85/121"
       ]
      },
      {
       "output_type": "stream",
       "stream": "stdout",
       "text": [
        "\n",
        "Fully resampling scan 86/121"
       ]
      },
      {
       "output_type": "stream",
       "stream": "stdout",
       "text": [
        "\n",
        "Fully resampling scan 87/121"
       ]
      },
      {
       "output_type": "stream",
       "stream": "stdout",
       "text": [
        "\n",
        "Fully resampling scan 88/121"
       ]
      },
      {
       "output_type": "stream",
       "stream": "stdout",
       "text": [
        "\n",
        "Fully resampling scan 89/121"
       ]
      },
      {
       "output_type": "stream",
       "stream": "stdout",
       "text": [
        "\n",
        "Fully resampling scan 90/121"
       ]
      },
      {
       "output_type": "stream",
       "stream": "stdout",
       "text": [
        "\n",
        "Fully resampling scan 91/121"
       ]
      },
      {
       "output_type": "stream",
       "stream": "stdout",
       "text": [
        "\n",
        "Fully resampling scan 92/121"
       ]
      },
      {
       "output_type": "stream",
       "stream": "stdout",
       "text": [
        "\n",
        "Fully resampling scan 93/121"
       ]
      },
      {
       "output_type": "stream",
       "stream": "stdout",
       "text": [
        "\n",
        "Fully resampling scan 94/121"
       ]
      },
      {
       "output_type": "stream",
       "stream": "stdout",
       "text": [
        "\n",
        "Fully resampling scan 95/121"
       ]
      },
      {
       "output_type": "stream",
       "stream": "stdout",
       "text": [
        "\n",
        "Fully resampling scan 96/121"
       ]
      },
      {
       "output_type": "stream",
       "stream": "stdout",
       "text": [
        "\n",
        "Fully resampling scan 97/121"
       ]
      },
      {
       "output_type": "stream",
       "stream": "stdout",
       "text": [
        "\n",
        "Fully resampling scan 98/121"
       ]
      },
      {
       "output_type": "stream",
       "stream": "stdout",
       "text": [
        "\n",
        "Fully resampling scan 99/121"
       ]
      },
      {
       "output_type": "stream",
       "stream": "stdout",
       "text": [
        "\n",
        "Fully resampling scan 100/121"
       ]
      },
      {
       "output_type": "stream",
       "stream": "stdout",
       "text": [
        "\n",
        "Fully resampling scan 101/121"
       ]
      },
      {
       "output_type": "stream",
       "stream": "stdout",
       "text": [
        "\n",
        "Fully resampling scan 102/121"
       ]
      },
      {
       "output_type": "stream",
       "stream": "stdout",
       "text": [
        "\n",
        "Fully resampling scan 103/121"
       ]
      },
      {
       "output_type": "stream",
       "stream": "stdout",
       "text": [
        "\n",
        "Fully resampling scan 104/121"
       ]
      },
      {
       "output_type": "stream",
       "stream": "stdout",
       "text": [
        "\n",
        "Fully resampling scan 105/121"
       ]
      },
      {
       "output_type": "stream",
       "stream": "stdout",
       "text": [
        "\n",
        "Fully resampling scan 106/121"
       ]
      },
      {
       "output_type": "stream",
       "stream": "stdout",
       "text": [
        "\n",
        "Fully resampling scan 107/121"
       ]
      },
      {
       "output_type": "stream",
       "stream": "stdout",
       "text": [
        "\n",
        "Fully resampling scan 108/121"
       ]
      },
      {
       "output_type": "stream",
       "stream": "stdout",
       "text": [
        "\n",
        "Fully resampling scan 109/121"
       ]
      },
      {
       "output_type": "stream",
       "stream": "stdout",
       "text": [
        "\n",
        "Fully resampling scan 110/121"
       ]
      },
      {
       "output_type": "stream",
       "stream": "stdout",
       "text": [
        "\n",
        "Fully resampling scan 111/121"
       ]
      },
      {
       "output_type": "stream",
       "stream": "stdout",
       "text": [
        "\n",
        "Fully resampling scan 112/121"
       ]
      },
      {
       "output_type": "stream",
       "stream": "stdout",
       "text": [
        "\n",
        "Fully resampling scan 113/121"
       ]
      },
      {
       "output_type": "stream",
       "stream": "stdout",
       "text": [
        "\n",
        "Fully resampling scan 114/121"
       ]
      },
      {
       "output_type": "stream",
       "stream": "stdout",
       "text": [
        "\n",
        "Fully resampling scan 115/121"
       ]
      },
      {
       "output_type": "stream",
       "stream": "stdout",
       "text": [
        "\n",
        "Fully resampling scan 116/121"
       ]
      },
      {
       "output_type": "stream",
       "stream": "stdout",
       "text": [
        "\n",
        "Fully resampling scan 117/121"
       ]
      },
      {
       "output_type": "stream",
       "stream": "stdout",
       "text": [
        "\n",
        "Fully resampling scan 118/121"
       ]
      },
      {
       "output_type": "stream",
       "stream": "stdout",
       "text": [
        "\n",
        "Fully resampling scan 119/121"
       ]
      },
      {
       "output_type": "stream",
       "stream": "stdout",
       "text": [
        "\n",
        "Fully resampling scan 120/121"
       ]
      },
      {
       "output_type": "stream",
       "stream": "stdout",
       "text": [
        "\n",
        "Fully resampling scan 121/121"
       ]
      },
      {
       "output_type": "stream",
       "stream": "stdout",
       "text": [
        "\n",
        "Resampling scan 1/2"
       ]
      },
      {
       "output_type": "stream",
       "stream": "stdout",
       "text": [
        "\n",
        "Resampling scan 2/2\n",
        "Estimating motion at time frame 1/2...\n",
        "Optimization terminated successfully."
       ]
      },
      {
       "output_type": "stream",
       "stream": "stdout",
       "text": [
        "\n",
        "         Current function value: -6.883084\n",
        "         Iterations: 6\n",
        "         Function evaluations: 7\n",
        "         Gradient evaluations: 6\n",
        "         Hessian evaluations: 6\n",
        "translation : [ 0.10473759  0.00573426  0.04484346]\n",
        "rotation    : [ -9.62102575e-06   1.04809448e-04   1.31232903e-03]\n",
        "\n",
        "Estimating motion at time frame 2/2...\n",
        "Optimization terminated successfully."
       ]
      },
      {
       "output_type": "stream",
       "stream": "stdout",
       "text": [
        "\n",
        "         Current function value: -6.886895\n",
        "         Iterations: 7\n",
        "         Function evaluations: 8\n",
        "         Gradient evaluations: 7\n",
        "         Hessian evaluations: 7\n",
        "translation : [ 0.00294511 -0.00222695 -0.01274325]\n",
        "rotation    : [-0.0001774  -0.00063486 -0.00053491]\n",
        "\n"
       ]
      }
     ],
     "prompt_number": 12
    },
    {
     "cell_type": "markdown",
     "metadata": {},
     "source": [
      "Resample first run using motion estimates:"
     ]
    },
    {
     "cell_type": "code",
     "collapsed": false,
     "input": [
      "resample_run0 = R.resample(0)"
     ],
     "language": "python",
     "metadata": {},
     "outputs": [
      {
       "output_type": "stream",
       "stream": "stdout",
       "text": [
        "Gridding...\n",
        "Fully resampling scan 1/121"
       ]
      },
      {
       "output_type": "stream",
       "stream": "stdout",
       "text": [
        "\n",
        "Fully resampling scan 2/121"
       ]
      },
      {
       "output_type": "stream",
       "stream": "stdout",
       "text": [
        "\n",
        "Fully resampling scan 3/121"
       ]
      },
      {
       "output_type": "stream",
       "stream": "stdout",
       "text": [
        "\n",
        "Fully resampling scan 4/121"
       ]
      },
      {
       "output_type": "stream",
       "stream": "stdout",
       "text": [
        "\n",
        "Fully resampling scan 5/121"
       ]
      },
      {
       "output_type": "stream",
       "stream": "stdout",
       "text": [
        "\n",
        "Fully resampling scan 6/121"
       ]
      },
      {
       "output_type": "stream",
       "stream": "stdout",
       "text": [
        "\n",
        "Fully resampling scan 7/121"
       ]
      },
      {
       "output_type": "stream",
       "stream": "stdout",
       "text": [
        "\n",
        "Fully resampling scan 8/121"
       ]
      },
      {
       "output_type": "stream",
       "stream": "stdout",
       "text": [
        "\n",
        "Fully resampling scan 9/121"
       ]
      },
      {
       "output_type": "stream",
       "stream": "stdout",
       "text": [
        "\n",
        "Fully resampling scan 10/121"
       ]
      },
      {
       "output_type": "stream",
       "stream": "stdout",
       "text": [
        "\n",
        "Fully resampling scan 11/121"
       ]
      },
      {
       "output_type": "stream",
       "stream": "stdout",
       "text": [
        "\n",
        "Fully resampling scan 12/121"
       ]
      },
      {
       "output_type": "stream",
       "stream": "stdout",
       "text": [
        "\n",
        "Fully resampling scan 13/121"
       ]
      },
      {
       "output_type": "stream",
       "stream": "stdout",
       "text": [
        "\n",
        "Fully resampling scan 14/121"
       ]
      },
      {
       "output_type": "stream",
       "stream": "stdout",
       "text": [
        "\n",
        "Fully resampling scan 15/121"
       ]
      },
      {
       "output_type": "stream",
       "stream": "stdout",
       "text": [
        "\n",
        "Fully resampling scan 16/121"
       ]
      },
      {
       "output_type": "stream",
       "stream": "stdout",
       "text": [
        "\n",
        "Fully resampling scan 17/121"
       ]
      },
      {
       "output_type": "stream",
       "stream": "stdout",
       "text": [
        "\n",
        "Fully resampling scan 18/121"
       ]
      },
      {
       "output_type": "stream",
       "stream": "stdout",
       "text": [
        "\n",
        "Fully resampling scan 19/121"
       ]
      },
      {
       "output_type": "stream",
       "stream": "stdout",
       "text": [
        "\n",
        "Fully resampling scan 20/121"
       ]
      },
      {
       "output_type": "stream",
       "stream": "stdout",
       "text": [
        "\n",
        "Fully resampling scan 21/121"
       ]
      },
      {
       "output_type": "stream",
       "stream": "stdout",
       "text": [
        "\n",
        "Fully resampling scan 22/121"
       ]
      },
      {
       "output_type": "stream",
       "stream": "stdout",
       "text": [
        "\n",
        "Fully resampling scan 23/121"
       ]
      },
      {
       "output_type": "stream",
       "stream": "stdout",
       "text": [
        "\n",
        "Fully resampling scan 24/121"
       ]
      },
      {
       "output_type": "stream",
       "stream": "stdout",
       "text": [
        "\n",
        "Fully resampling scan 25/121"
       ]
      },
      {
       "output_type": "stream",
       "stream": "stdout",
       "text": [
        "\n",
        "Fully resampling scan 26/121"
       ]
      },
      {
       "output_type": "stream",
       "stream": "stdout",
       "text": [
        "\n",
        "Fully resampling scan 27/121"
       ]
      },
      {
       "output_type": "stream",
       "stream": "stdout",
       "text": [
        "\n",
        "Fully resampling scan 28/121"
       ]
      },
      {
       "output_type": "stream",
       "stream": "stdout",
       "text": [
        "\n",
        "Fully resampling scan 29/121"
       ]
      },
      {
       "output_type": "stream",
       "stream": "stdout",
       "text": [
        "\n",
        "Fully resampling scan 30/121"
       ]
      },
      {
       "output_type": "stream",
       "stream": "stdout",
       "text": [
        "\n",
        "Fully resampling scan 31/121"
       ]
      },
      {
       "output_type": "stream",
       "stream": "stdout",
       "text": [
        "\n",
        "Fully resampling scan 32/121"
       ]
      },
      {
       "output_type": "stream",
       "stream": "stdout",
       "text": [
        "\n",
        "Fully resampling scan 33/121"
       ]
      },
      {
       "output_type": "stream",
       "stream": "stdout",
       "text": [
        "\n",
        "Fully resampling scan 34/121"
       ]
      },
      {
       "output_type": "stream",
       "stream": "stdout",
       "text": [
        "\n",
        "Fully resampling scan 35/121"
       ]
      },
      {
       "output_type": "stream",
       "stream": "stdout",
       "text": [
        "\n",
        "Fully resampling scan 36/121"
       ]
      },
      {
       "output_type": "stream",
       "stream": "stdout",
       "text": [
        "\n",
        "Fully resampling scan 37/121"
       ]
      },
      {
       "output_type": "stream",
       "stream": "stdout",
       "text": [
        "\n",
        "Fully resampling scan 38/121"
       ]
      },
      {
       "output_type": "stream",
       "stream": "stdout",
       "text": [
        "\n",
        "Fully resampling scan 39/121"
       ]
      },
      {
       "output_type": "stream",
       "stream": "stdout",
       "text": [
        "\n",
        "Fully resampling scan 40/121"
       ]
      },
      {
       "output_type": "stream",
       "stream": "stdout",
       "text": [
        "\n",
        "Fully resampling scan 41/121"
       ]
      },
      {
       "output_type": "stream",
       "stream": "stdout",
       "text": [
        "\n",
        "Fully resampling scan 42/121"
       ]
      },
      {
       "output_type": "stream",
       "stream": "stdout",
       "text": [
        "\n",
        "Fully resampling scan 43/121"
       ]
      },
      {
       "output_type": "stream",
       "stream": "stdout",
       "text": [
        "\n",
        "Fully resampling scan 44/121"
       ]
      },
      {
       "output_type": "stream",
       "stream": "stdout",
       "text": [
        "\n",
        "Fully resampling scan 45/121"
       ]
      },
      {
       "output_type": "stream",
       "stream": "stdout",
       "text": [
        "\n",
        "Fully resampling scan 46/121"
       ]
      },
      {
       "output_type": "stream",
       "stream": "stdout",
       "text": [
        "\n",
        "Fully resampling scan 47/121"
       ]
      },
      {
       "output_type": "stream",
       "stream": "stdout",
       "text": [
        "\n",
        "Fully resampling scan 48/121"
       ]
      },
      {
       "output_type": "stream",
       "stream": "stdout",
       "text": [
        "\n",
        "Fully resampling scan 49/121"
       ]
      },
      {
       "output_type": "stream",
       "stream": "stdout",
       "text": [
        "\n",
        "Fully resampling scan 50/121"
       ]
      },
      {
       "output_type": "stream",
       "stream": "stdout",
       "text": [
        "\n",
        "Fully resampling scan 51/121"
       ]
      },
      {
       "output_type": "stream",
       "stream": "stdout",
       "text": [
        "\n",
        "Fully resampling scan 52/121"
       ]
      },
      {
       "output_type": "stream",
       "stream": "stdout",
       "text": [
        "\n",
        "Fully resampling scan 53/121"
       ]
      },
      {
       "output_type": "stream",
       "stream": "stdout",
       "text": [
        "\n",
        "Fully resampling scan 54/121"
       ]
      },
      {
       "output_type": "stream",
       "stream": "stdout",
       "text": [
        "\n",
        "Fully resampling scan 55/121"
       ]
      },
      {
       "output_type": "stream",
       "stream": "stdout",
       "text": [
        "\n",
        "Fully resampling scan 56/121"
       ]
      },
      {
       "output_type": "stream",
       "stream": "stdout",
       "text": [
        "\n",
        "Fully resampling scan 57/121"
       ]
      },
      {
       "output_type": "stream",
       "stream": "stdout",
       "text": [
        "\n",
        "Fully resampling scan 58/121"
       ]
      },
      {
       "output_type": "stream",
       "stream": "stdout",
       "text": [
        "\n",
        "Fully resampling scan 59/121"
       ]
      },
      {
       "output_type": "stream",
       "stream": "stdout",
       "text": [
        "\n",
        "Fully resampling scan 60/121"
       ]
      },
      {
       "output_type": "stream",
       "stream": "stdout",
       "text": [
        "\n",
        "Fully resampling scan 61/121"
       ]
      },
      {
       "output_type": "stream",
       "stream": "stdout",
       "text": [
        "\n",
        "Fully resampling scan 62/121"
       ]
      },
      {
       "output_type": "stream",
       "stream": "stdout",
       "text": [
        "\n",
        "Fully resampling scan 63/121"
       ]
      },
      {
       "output_type": "stream",
       "stream": "stdout",
       "text": [
        "\n",
        "Fully resampling scan 64/121"
       ]
      },
      {
       "output_type": "stream",
       "stream": "stdout",
       "text": [
        "\n",
        "Fully resampling scan 65/121"
       ]
      },
      {
       "output_type": "stream",
       "stream": "stdout",
       "text": [
        "\n",
        "Fully resampling scan 66/121"
       ]
      },
      {
       "output_type": "stream",
       "stream": "stdout",
       "text": [
        "\n",
        "Fully resampling scan 67/121"
       ]
      },
      {
       "output_type": "stream",
       "stream": "stdout",
       "text": [
        "\n",
        "Fully resampling scan 68/121"
       ]
      },
      {
       "output_type": "stream",
       "stream": "stdout",
       "text": [
        "\n",
        "Fully resampling scan 69/121"
       ]
      },
      {
       "output_type": "stream",
       "stream": "stdout",
       "text": [
        "\n",
        "Fully resampling scan 70/121"
       ]
      },
      {
       "output_type": "stream",
       "stream": "stdout",
       "text": [
        "\n",
        "Fully resampling scan 71/121"
       ]
      },
      {
       "output_type": "stream",
       "stream": "stdout",
       "text": [
        "\n",
        "Fully resampling scan 72/121"
       ]
      },
      {
       "output_type": "stream",
       "stream": "stdout",
       "text": [
        "\n",
        "Fully resampling scan 73/121"
       ]
      },
      {
       "output_type": "stream",
       "stream": "stdout",
       "text": [
        "\n",
        "Fully resampling scan 74/121"
       ]
      },
      {
       "output_type": "stream",
       "stream": "stdout",
       "text": [
        "\n",
        "Fully resampling scan 75/121"
       ]
      },
      {
       "output_type": "stream",
       "stream": "stdout",
       "text": [
        "\n",
        "Fully resampling scan 76/121"
       ]
      },
      {
       "output_type": "stream",
       "stream": "stdout",
       "text": [
        "\n",
        "Fully resampling scan 77/121"
       ]
      },
      {
       "output_type": "stream",
       "stream": "stdout",
       "text": [
        "\n",
        "Fully resampling scan 78/121"
       ]
      },
      {
       "output_type": "stream",
       "stream": "stdout",
       "text": [
        "\n",
        "Fully resampling scan 79/121"
       ]
      },
      {
       "output_type": "stream",
       "stream": "stdout",
       "text": [
        "\n",
        "Fully resampling scan 80/121"
       ]
      },
      {
       "output_type": "stream",
       "stream": "stdout",
       "text": [
        "\n",
        "Fully resampling scan 81/121"
       ]
      },
      {
       "output_type": "stream",
       "stream": "stdout",
       "text": [
        "\n",
        "Fully resampling scan 82/121"
       ]
      },
      {
       "output_type": "stream",
       "stream": "stdout",
       "text": [
        "\n",
        "Fully resampling scan 83/121"
       ]
      },
      {
       "output_type": "stream",
       "stream": "stdout",
       "text": [
        "\n",
        "Fully resampling scan 84/121"
       ]
      },
      {
       "output_type": "stream",
       "stream": "stdout",
       "text": [
        "\n",
        "Fully resampling scan 85/121"
       ]
      },
      {
       "output_type": "stream",
       "stream": "stdout",
       "text": [
        "\n",
        "Fully resampling scan 86/121"
       ]
      },
      {
       "output_type": "stream",
       "stream": "stdout",
       "text": [
        "\n",
        "Fully resampling scan 87/121"
       ]
      },
      {
       "output_type": "stream",
       "stream": "stdout",
       "text": [
        "\n",
        "Fully resampling scan 88/121"
       ]
      },
      {
       "output_type": "stream",
       "stream": "stdout",
       "text": [
        "\n",
        "Fully resampling scan 89/121"
       ]
      },
      {
       "output_type": "stream",
       "stream": "stdout",
       "text": [
        "\n",
        "Fully resampling scan 90/121"
       ]
      },
      {
       "output_type": "stream",
       "stream": "stdout",
       "text": [
        "\n",
        "Fully resampling scan 91/121"
       ]
      },
      {
       "output_type": "stream",
       "stream": "stdout",
       "text": [
        "\n",
        "Fully resampling scan 92/121"
       ]
      },
      {
       "output_type": "stream",
       "stream": "stdout",
       "text": [
        "\n",
        "Fully resampling scan 93/121"
       ]
      },
      {
       "output_type": "stream",
       "stream": "stdout",
       "text": [
        "\n",
        "Fully resampling scan 94/121"
       ]
      },
      {
       "output_type": "stream",
       "stream": "stdout",
       "text": [
        "\n",
        "Fully resampling scan 95/121"
       ]
      },
      {
       "output_type": "stream",
       "stream": "stdout",
       "text": [
        "\n",
        "Fully resampling scan 96/121"
       ]
      },
      {
       "output_type": "stream",
       "stream": "stdout",
       "text": [
        "\n",
        "Fully resampling scan 97/121"
       ]
      },
      {
       "output_type": "stream",
       "stream": "stdout",
       "text": [
        "\n",
        "Fully resampling scan 98/121"
       ]
      },
      {
       "output_type": "stream",
       "stream": "stdout",
       "text": [
        "\n",
        "Fully resampling scan 99/121"
       ]
      },
      {
       "output_type": "stream",
       "stream": "stdout",
       "text": [
        "\n",
        "Fully resampling scan 100/121"
       ]
      },
      {
       "output_type": "stream",
       "stream": "stdout",
       "text": [
        "\n",
        "Fully resampling scan 101/121"
       ]
      },
      {
       "output_type": "stream",
       "stream": "stdout",
       "text": [
        "\n",
        "Fully resampling scan 102/121"
       ]
      },
      {
       "output_type": "stream",
       "stream": "stdout",
       "text": [
        "\n",
        "Fully resampling scan 103/121"
       ]
      },
      {
       "output_type": "stream",
       "stream": "stdout",
       "text": [
        "\n",
        "Fully resampling scan 104/121"
       ]
      },
      {
       "output_type": "stream",
       "stream": "stdout",
       "text": [
        "\n",
        "Fully resampling scan 105/121"
       ]
      },
      {
       "output_type": "stream",
       "stream": "stdout",
       "text": [
        "\n",
        "Fully resampling scan 106/121"
       ]
      },
      {
       "output_type": "stream",
       "stream": "stdout",
       "text": [
        "\n",
        "Fully resampling scan 107/121"
       ]
      },
      {
       "output_type": "stream",
       "stream": "stdout",
       "text": [
        "\n",
        "Fully resampling scan 108/121"
       ]
      },
      {
       "output_type": "stream",
       "stream": "stdout",
       "text": [
        "\n",
        "Fully resampling scan 109/121"
       ]
      },
      {
       "output_type": "stream",
       "stream": "stdout",
       "text": [
        "\n",
        "Fully resampling scan 110/121"
       ]
      },
      {
       "output_type": "stream",
       "stream": "stdout",
       "text": [
        "\n",
        "Fully resampling scan 111/121"
       ]
      },
      {
       "output_type": "stream",
       "stream": "stdout",
       "text": [
        "\n",
        "Fully resampling scan 112/121"
       ]
      },
      {
       "output_type": "stream",
       "stream": "stdout",
       "text": [
        "\n",
        "Fully resampling scan 113/121"
       ]
      },
      {
       "output_type": "stream",
       "stream": "stdout",
       "text": [
        "\n",
        "Fully resampling scan 114/121"
       ]
      },
      {
       "output_type": "stream",
       "stream": "stdout",
       "text": [
        "\n",
        "Fully resampling scan 115/121"
       ]
      },
      {
       "output_type": "stream",
       "stream": "stdout",
       "text": [
        "\n",
        "Fully resampling scan 116/121"
       ]
      },
      {
       "output_type": "stream",
       "stream": "stdout",
       "text": [
        "\n",
        "Fully resampling scan 117/121"
       ]
      },
      {
       "output_type": "stream",
       "stream": "stdout",
       "text": [
        "\n",
        "Fully resampling scan 118/121"
       ]
      },
      {
       "output_type": "stream",
       "stream": "stdout",
       "text": [
        "\n",
        "Fully resampling scan 119/121"
       ]
      },
      {
       "output_type": "stream",
       "stream": "stdout",
       "text": [
        "\n",
        "Fully resampling scan 120/121"
       ]
      },
      {
       "output_type": "stream",
       "stream": "stdout",
       "text": [
        "\n",
        "Fully resampling scan 121/121"
       ]
      },
      {
       "output_type": "stream",
       "stream": "stdout",
       "text": [
        "\n"
       ]
      }
     ],
     "prompt_number": 13
    },
    {
     "cell_type": "code",
     "collapsed": false,
     "input": [
      "transforms0 = R._transforms[0]"
     ],
     "language": "python",
     "metadata": {},
     "outputs": [],
     "prompt_number": 14
    },
    {
     "cell_type": "code",
     "collapsed": false,
     "input": [
      "motion_trans_rotvec = np.vstack([t.param * t.precond[:6] for t in transforms0])"
     ],
     "language": "python",
     "metadata": {},
     "outputs": [],
     "prompt_number": 15
    },
    {
     "cell_type": "code",
     "collapsed": false,
     "input": [
      "from nipy.externals.transforms3d import taitbryan\n",
      "from nipy.algorithms.registration.affine import rotation_vec2mat"
     ],
     "language": "python",
     "metadata": {},
     "outputs": [],
     "prompt_number": 16
    },
    {
     "cell_type": "code",
     "collapsed": false,
     "input": [
      "motion_trans_euler = motion_trans_rotvec.copy()\n",
      "for scan_no in range(motion_trans_rotvec.shape[0]):\n",
      "    rot_mat = rotation_vec2mat(motion_trans_rotvec[scan_no, 3:])\n",
      "    euler_angles = taitbryan.mat2euler(rot_mat)\n",
      "    motion_trans_euler[scan_no, 3:] = euler_angles"
     ],
     "language": "python",
     "metadata": {},
     "outputs": [],
     "prompt_number": 17
    },
    {
     "cell_type": "code",
     "collapsed": false,
     "input": [
      "fig, axes = plt.subplots(2, 1)\n",
      "axes[0].plot(motion_trans_rotvec[:, :3])\n",
      "axes[0].set_ylabel('translation (mm)')\n",
      "axes[1].plot(motion_trans_rotvec[:, 3:])\n",
      "axes[1].set_xlabel('time (TR)')\n",
      "axes[1].set_ylabel('rotation (radians)')"
     ],
     "language": "python",
     "metadata": {},
     "outputs": [
      {
       "output_type": "pyout",
       "prompt_number": 18,
       "text": [
        "<matplotlib.text.Text at 0x50a9e50>"
       ]
      },
      {
       "output_type": "display_data",
       "png": "[encoded data removed]",
       "text": [
        "<matplotlib.figure.Figure at 0x339fcd0>"
       ]
      }
     ],
     "prompt_number": 18
    },
    {
     "cell_type": "markdown",
     "metadata": {},
     "source": [
      "Make standard deviation images before and after registration:"
     ]
    },
    {
     "cell_type": "code",
     "collapsed": false,
     "input": [
      "before_var = np.std(run_imgs[0].get_data(), axis=-1)\n",
      "after_var = np.std(resample_run0.get_data(), axis=-1)\n",
      "fig = figure()\n",
      "fig.set_size_inches(10.5,18.5)\n",
      "plt.imshow(np.hstack((before_var[..., 40], after_var[..., 40])), cmap=\"gray\", interpolation='nearest')"
     ],
     "language": "python",
     "metadata": {},
     "outputs": [
      {
       "output_type": "pyout",
       "prompt_number": 19,
       "text": [
        "<matplotlib.image.AxesImage at 0x7f558834cf90>"
       ]
      },
      {
       "output_type": "display_data",
       "png": "[encoded data removed]",
       "text": [
        "<matplotlib.figure.Figure at 0x4ec7b90>"
       ]
      }
     ],
     "prompt_number": 19
    },
    {
     "cell_type": "code",
     "collapsed": false,
     "input": [
      "from subprocess import check_call"
     ],
     "language": "python",
     "metadata": {},
     "outputs": [],
     "prompt_number": 20
    },
    {
     "cell_type": "code",
     "collapsed": false,
     "input": [
      "check_call('fsl4.1-mcflirt -in %s -plots' % run_fnames[0], shell=True)"
     ],
     "language": "python",
     "metadata": {},
     "outputs": [
      {
       "output_type": "pyout",
       "prompt_number": 21,
       "text": [
        "0"
       ]
      }
     ],
     "prompt_number": 21
    },
    {
     "cell_type": "code",
     "collapsed": false,
     "input": [
      "pth, fname = os.path.split(run_fnames[0])\n",
      "par_fname = os.path.join(pth, 'bold_mcf.par')\n",
      "params = np.loadtxt(par_fname)"
     ],
     "language": "python",
     "metadata": {},
     "outputs": [],
     "prompt_number": 22
    },
    {
     "cell_type": "code",
     "collapsed": false,
     "input": [
      "fix, axes = plt.subplots(2, 1)\n",
      "axes[0].plot(params[:, :3])\n",
      "axes[1].plot(params[:, 3:])"
     ],
     "language": "python",
     "metadata": {},
     "outputs": [
      {
       "output_type": "pyout",
       "prompt_number": 23,
       "text": [
        "[<matplotlib.lines.Line2D at 0x54e0e50>,\n",
        " <matplotlib.lines.Line2D at 0x7f5588363590>,\n",
        " <matplotlib.lines.Line2D at 0x7f5588360d50>]"
       ]
      },
      {
       "output_type": "display_data",
       "png": "[encoded data removed]",
       "text": [
        "<matplotlib.figure.Figure at 0x28ed590>"
       ]
      }
     ],
     "prompt_number": 23
    },
    {
     "cell_type": "code",
     "collapsed": false,
     "input": [
      "mcsampled_run0 = load_image(os.path.join(pth, 'bold_mcf.nii.gz'))"
     ],
     "language": "python",
     "metadata": {},
     "outputs": [],
     "prompt_number": 24
    },
    {
     "cell_type": "code",
     "collapsed": false,
     "input": [
      "after_var = np.std(mcsampled_run0.get_data(), axis=-1)\n",
      "fig = figure()\n",
      "fig.set_size_inches(10.5,18.5)\n",
      "plt.imshow(np.hstack((before_var[..., 40], after_var[..., 40])), cmap=\"gray\", interpolation='nearest')"
     ],
     "language": "python",
     "metadata": {},
     "outputs": [
      {
       "output_type": "pyout",
       "prompt_number": 25,
       "text": [
        "<matplotlib.image.AxesImage at 0x59e7190>"
       ]
      },
      {
       "output_type": "display_data",
       "png": "[encoded data removed]",
       "text": [
        "<matplotlib.figure.Figure at 0x50c5510>"
       ]
      }
     ],
     "prompt_number": 25
    }
   ],
   "metadata": {}
  }
 ]
}