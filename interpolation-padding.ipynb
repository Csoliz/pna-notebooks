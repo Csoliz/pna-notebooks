{
 "metadata": {
  "name": "interpolation-padding"
 },
 "nbformat": 3,
 "nbformat_minor": 0,
 "worksheets": [
  {
   "cells": [
    {
     "cell_type": "markdown",
     "metadata": {},
     "source": [
      "Interpolation, padding - does the padding x value matter?"
     ]
    },
    {
     "cell_type": "code",
     "collapsed": false,
     "input": [
      "%pylab inline"
     ],
     "language": "python",
     "metadata": {},
     "outputs": [
      {
       "output_type": "stream",
       "stream": "stdout",
       "text": [
        "\n",
        "Welcome to pylab, a matplotlib-based Python environment [backend: module://IPython.kernel.zmq.pylab.backend_inline].\n",
        "For more information, type 'help(pylab)'.\n"
       ]
      }
     ],
     "prompt_number": 1
    },
    {
     "cell_type": "code",
     "collapsed": false,
     "input": [
      "import numpy as np"
     ],
     "language": "python",
     "metadata": {},
     "outputs": [],
     "prompt_number": 2
    },
    {
     "cell_type": "code",
     "collapsed": false,
     "input": [
      "import matplotlib.pylab as plt"
     ],
     "language": "python",
     "metadata": {},
     "outputs": [],
     "prompt_number": 3
    },
    {
     "cell_type": "code",
     "collapsed": false,
     "input": [
      "import scipy.interpolate as spi"
     ],
     "language": "python",
     "metadata": {},
     "outputs": [],
     "prompt_number": 4
    },
    {
     "cell_type": "code",
     "collapsed": false,
     "input": [
      "x = np.arange(5)\n",
      "y = np.random.normal(size=(5,))"
     ],
     "language": "python",
     "metadata": {},
     "outputs": [],
     "prompt_number": 11
    },
    {
     "cell_type": "code",
     "collapsed": false,
     "input": [
      "plt.plot(x, y)"
     ],
     "language": "python",
     "metadata": {},
     "outputs": [
      {
       "output_type": "pyout",
       "prompt_number": 12,
       "text": [
        "[<matplotlib.lines.Line2D at 0x1067aa990>]"
       ]
      },
      {
       "output_type": "display_data",
       "png": "[encoded data removed]",
       "text": [
        "<matplotlib.figure.Figure at 0x106527cd0>"
       ]
      }
     ],
     "prompt_number": 12
    },
    {
     "cell_type": "code",
     "collapsed": false,
     "input": [
      "padded_x = np.r_[-1, x]\n",
      "padded_y = np.r_[y[0], y]\n",
      "interp = spi.interp1d(padded_x, padded_y, 'cubic')\n",
      "interped = interp([-0.1, 0.5])\n",
      "interped"
     ],
     "language": "python",
     "metadata": {},
     "outputs": [
      {
       "output_type": "pyout",
       "prompt_number": 13,
       "text": [
        "array([-1.27054371, -0.76638824])"
       ]
      }
     ],
     "prompt_number": 13
    },
    {
     "cell_type": "code",
     "collapsed": false,
     "input": [
      "padded_x_close = np.r_[-0.1, x]\n",
      "interp_closer = spi.interp1d(padded_x_close, padded_y, 'cubic')\n",
      "interped_closer = interp_closer([-0.1, 0.5])\n",
      "interped_closer"
     ],
     "language": "python",
     "metadata": {},
     "outputs": [
      {
       "output_type": "pyout",
       "prompt_number": 14,
       "text": [
        "array([-1.19457978, -0.86899875])"
       ]
      }
     ],
     "prompt_number": 14
    },
    {
     "cell_type": "code",
     "collapsed": false,
     "input": [
      "fine_time_short = np.linspace(-0.1, 4)\n",
      "fine_time_long = np.linspace(-1, 4)\n",
      "plt.plot(fine_time_long, interp(fine_time_long), 'r:')\n",
      "plt.plot(padded_x, padded_y, 'go', fillstyle='none') # so we can see the +'s below\n",
      "plt.plot(fine_time_short, interp_closer(fine_time_short), 'b:')\n",
      "plt.plot(padded_x_close, padded_y, 'k+')\n",
      "plt.xlim([-1.2, 4.2])"
     ],
     "language": "python",
     "metadata": {},
     "outputs": [
      {
       "output_type": "pyout",
       "prompt_number": 27,
       "text": [
        "(-1.2, 4.2)"
       ]
      },
      {
       "output_type": "display_data",
       "png": "[encoded data removed]",
       "text": [
        "<matplotlib.figure.Figure at 0x106dd3c50>"
       ]
      }
     ],
     "prompt_number": 27
    },
    {
     "cell_type": "markdown",
     "metadata": {},
     "source": [
      "The nearness of the padding value dictates the sharpness of the curve *after* the next point, because the slope of the curve from the previous segment influences the slope of the next segments."
     ]
    }
   ],
   "metadata": {}
  }
 ]
}