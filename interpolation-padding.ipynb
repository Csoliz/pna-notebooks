{
 "metadata": {
  "name": "interpolation-padding"
 },
 "nbformat": 3,
 "nbformat_minor": 0,
 "worksheets": [
  {
   "cells": [
    {
     "cell_type": "markdown",
     "metadata": {},
     "source": [
      "Interpolation, padding - does the padding x value matter?"
     ]
    },
    {
     "cell_type": "code",
     "collapsed": false,
     "input": [
      "%pylab inline"
     ],
     "language": "python",
     "metadata": {},
     "outputs": [
      {
       "output_type": "stream",
       "stream": "stdout",
       "text": [
        "\n",
        "Welcome to pylab, a matplotlib-based Python environment [backend: module://IPython.kernel.zmq.pylab.backend_inline].\n",
        "For more information, type 'help(pylab)'.\n"
       ]
      }
     ],
     "prompt_number": 1
    },
    {
     "cell_type": "code",
     "collapsed": false,
     "input": [
      "import numpy as np"
     ],
     "language": "python",
     "metadata": {},
     "outputs": [],
     "prompt_number": 2
    },
    {
     "cell_type": "code",
     "collapsed": false,
     "input": [
      "import matplotlib.pylab as plt"
     ],
     "language": "python",
     "metadata": {},
     "outputs": [],
     "prompt_number": 3
    },
    {
     "cell_type": "code",
     "collapsed": false,
     "input": [
      "import scipy.interpolate as spi"
     ],
     "language": "python",
     "metadata": {},
     "outputs": [],
     "prompt_number": 4
    },
    {
     "cell_type": "code",
     "collapsed": false,
     "input": [
      "x = np.arange(5)\n",
      "y = np.random.normal(size=(5,))"
     ],
     "language": "python",
     "metadata": {},
     "outputs": [],
     "prompt_number": 5
    },
    {
     "cell_type": "code",
     "collapsed": false,
     "input": [
      "plt.plot(x, y)"
     ],
     "language": "python",
     "metadata": {},
     "outputs": [
      {
       "output_type": "pyout",
       "prompt_number": 6,
       "text": [
        "[<matplotlib.lines.Line2D at 0x10651bf90>]"
       ]
      },
      {
       "output_type": "display_data",
       "png": "[encoded data removed]",
       "text": [
        "<matplotlib.figure.Figure at 0x1064f6950>"
       ]
      }
     ],
     "prompt_number": 6
    },
    {
     "cell_type": "markdown",
     "metadata": {},
     "source": [
      "First we try a padding x value at -1, so 1 unit away from the first real value of x == 0"
     ]
    },
    {
     "cell_type": "code",
     "collapsed": false,
     "input": [
      "padded_x = np.r_[-1, x]\n",
      "padded_y = np.r_[y[0], y]\n",
      "interp = spi.interp1d(padded_x, padded_y, 'cubic')\n",
      "interped = interp([-0.1, 0.5])\n",
      "interped"
     ],
     "language": "python",
     "metadata": {},
     "outputs": [
      {
       "output_type": "pyout",
       "prompt_number": 7,
       "text": [
        "array([-1.08246008,  0.87728002])"
       ]
      }
     ],
     "prompt_number": 7
    },
    {
     "cell_type": "markdown",
     "metadata": {},
     "source": [
      "Now we try and padding x value of -0.1, much closer to the first real value of 0.  We use the same padding value of y. The interpolated value for 0.5 is different in this case:"
     ]
    },
    {
     "cell_type": "code",
     "collapsed": false,
     "input": [
      "padded_x_close = np.r_[-0.1, x]\n",
      "interp_closer = spi.interp1d(padded_x_close, padded_y, 'cubic')\n",
      "interped_closer = interp_closer([-0.1, 0.5])\n",
      "interped_closer"
     ],
     "language": "python",
     "metadata": {},
     "outputs": [
      {
       "output_type": "pyout",
       "prompt_number": 8,
       "text": [
        "array([-0.77516709,  0.46236066])"
       ]
      }
     ],
     "prompt_number": 8
    },
    {
     "cell_type": "markdown",
     "metadata": {},
     "source": [
      "We can see why by plotting the full interpolated time courses:"
     ]
    },
    {
     "cell_type": "code",
     "collapsed": false,
     "input": [
      "fine_time_short = np.linspace(-0.1, 4)\n",
      "fine_time_long = np.linspace(-1, 4)\n",
      "plt.plot(fine_time_long, interp(fine_time_long), 'r:')\n",
      "plt.plot(padded_x, padded_y, 'go', fillstyle='none') # so we can see the +'s below\n",
      "plt.plot(fine_time_short, interp_closer(fine_time_short), 'b:')\n",
      "plt.plot(padded_x_close, padded_y, 'k+')\n",
      "plt.xlim([-1.2, 4.2])"
     ],
     "language": "python",
     "metadata": {},
     "outputs": [
      {
       "output_type": "pyout",
       "prompt_number": 9,
       "text": [
        "(-1.2, 4.2)"
       ]
      },
      {
       "output_type": "display_data",
       "png": "[encoded data removed]",
       "text": [
        "<matplotlib.figure.Figure at 0x106509a50>"
       ]
      }
     ],
     "prompt_number": 9
    },
    {
     "cell_type": "markdown",
     "metadata": {},
     "source": [
      "The nearness of the padding value dictates the sharpness of the curve *after* the next point, because the slope of the curve from the previous segment influences the slope of the next segments.  This is in the nature of the spline interpolation we have used - the slope of the curve has to be the same just before and just after each data point."
     ]
    }
   ],
   "metadata": {}
  }
 ]
}