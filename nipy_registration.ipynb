{
 "metadata": {
  "name": "nipy_registration"
 },
 "nbformat": 3,
 "nbformat_minor": 0,
 "worksheets": [
  {
   "cells": [
    {
     "cell_type": "markdown",
     "metadata": {},
     "source": [
      "A small nipy registration example"
     ]
    },
    {
     "cell_type": "code",
     "collapsed": false,
     "input": [
      "%pylab inline"
     ],
     "language": "python",
     "metadata": {},
     "outputs": [
      {
       "output_type": "stream",
       "stream": "stdout",
       "text": [
        "\n",
        "Welcome to pylab, a matplotlib-based Python environment [backend: module://IPython.kernel.zmq.pylab.backend_inline].\n",
        "For more information, type 'help(pylab)'.\n"
       ]
      }
     ],
     "prompt_number": 1
    },
    {
     "cell_type": "code",
     "collapsed": false,
     "input": [
      "import numpy as np\n",
      "import matplotlib.pyplot as plt"
     ],
     "language": "python",
     "metadata": {},
     "outputs": [],
     "prompt_number": 2
    },
    {
     "cell_type": "code",
     "collapsed": false,
     "input": [
      "import nibabel as nib"
     ],
     "language": "python",
     "metadata": {},
     "outputs": [],
     "prompt_number": 3
    },
    {
     "cell_type": "markdown",
     "metadata": {},
     "source": [
      "We're going to use the example dataset.  That should be here:"
     ]
    },
    {
     "cell_type": "code",
     "collapsed": false,
     "input": [
      "import os\n",
      "DATA_PATH = os.path.expanduser(os.path.join('~', 'data', 'ds105'))\n",
      "os.listdir(DATA_PATH)"
     ],
     "language": "python",
     "metadata": {},
     "outputs": [
      {
       "output_type": "pyout",
       "prompt_number": 4,
       "text": [
        "['study_key.txt',\n",
        " 'release_history.txt',\n",
        " 'task_key.txt',\n",
        " 'models',\n",
        " 'references.txt',\n",
        " 'sub005',\n",
        " 'license.txt',\n",
        " 'sub004',\n",
        " 'sub003',\n",
        " 'scan_key.txt',\n",
        " 'sub001',\n",
        " 'sub006',\n",
        " 'README',\n",
        " 'sub002']"
       ]
      }
     ],
     "prompt_number": 4
    },
    {
     "cell_type": "code",
     "collapsed": false,
     "input": [
      "SUB01 = os.path.join(DATA_PATH, 'sub001')\n",
      "anat_fname = os.path.join(SUB01, 'anatomy', 'highres001.nii.gz')"
     ],
     "language": "python",
     "metadata": {},
     "outputs": [],
     "prompt_number": 5
    },
    {
     "cell_type": "code",
     "collapsed": false,
     "input": [
      "anat_img = nib.load(anat_fname)\n",
      "anat_img.shape"
     ],
     "language": "python",
     "metadata": {},
     "outputs": [
      {
       "output_type": "pyout",
       "prompt_number": 6,
       "text": [
        "(124, 256, 256)"
       ]
      }
     ],
     "prompt_number": 6
    },
    {
     "cell_type": "code",
     "collapsed": false,
     "input": [
      "func_fname = os.path.join(SUB01, 'BOLD', 'task001_run001', 'bold.nii.gz')\n",
      "func_img = nib.load(func_fname)\n",
      "func_img.shape"
     ],
     "language": "python",
     "metadata": {},
     "outputs": [
      {
       "output_type": "pyout",
       "prompt_number": 7,
       "text": [
        "(40, 64, 64, 121)"
       ]
      }
     ],
     "prompt_number": 7
    },
    {
     "cell_type": "markdown",
     "metadata": {},
     "source": [
      "We make a mean functional image to register against:"
     ]
    },
    {
     "cell_type": "code",
     "collapsed": false,
     "input": [
      "func_data = func_img.get_data()\n",
      "func_mean_data = np.mean(func_data, axis=3) # Mean over time\n",
      "func_mean_img = nib.Nifti1Image(func_mean_data, func_img.get_affine(), func_img.get_header())"
     ],
     "language": "python",
     "metadata": {},
     "outputs": [],
     "prompt_number": 8
    },
    {
     "cell_type": "markdown",
     "metadata": {},
     "source": [
      "Now for the registration:"
     ]
    },
    {
     "cell_type": "code",
     "collapsed": false,
     "input": [
      "import nipy.algorithms.registration as nar"
     ],
     "language": "python",
     "metadata": {},
     "outputs": [],
     "prompt_number": 9
    },
    {
     "cell_type": "markdown",
     "metadata": {},
     "source": [
      "Investigate ``nar.HistogramRegistration``"
     ]
    },
    {
     "cell_type": "code",
     "collapsed": false,
     "input": [
      "register_obj = nar.HistogramRegistration(func_mean_img, anat_img)"
     ],
     "language": "python",
     "metadata": {},
     "outputs": [],
     "prompt_number": 10
    },
    {
     "cell_type": "code",
     "collapsed": false,
     "input": [
      "transform = register_obj.optimize('rigid', optimizer='powell', similarity='cc')"
     ],
     "language": "python",
     "metadata": {},
     "outputs": [
      {
       "output_type": "stream",
       "stream": "stdout",
       "text": [
        "Initial guess...\n",
        "translation : [ 0.  0.  0.]\n",
        "rotation    : [ 0.  0.  0.]\n",
        "\n",
        "Optimizing using fmin_powell\n",
        "translation : [-0.83535826 -1.618034   -0.61803397]\n",
        "rotation    : [-0.00203486  0.00023076 -0.00618034]\n"
       ]
      },
      {
       "output_type": "stream",
       "stream": "stdout",
       "text": [
        "\n",
        "crl1 = 0.465260807569\n",
        "\n",
        "translation : [-1.05823463 -1.5028806  -0.53310203]\n",
        "rotation    : [-0.00113736 -0.0003076  -0.00236068]\n"
       ]
      },
      {
       "output_type": "stream",
       "stream": "stdout",
       "text": [
        "\n",
        "crl1 = 0.465548176759\n",
        "\n",
        "Optimization terminated successfully.\n",
        "         Current function value: -0.465548\n",
        "         Iterations: 2\n",
        "         Function evaluations: 90\n"
       ]
      }
     ],
     "prompt_number": 11
    },
    {
     "cell_type": "code",
     "collapsed": false,
     "input": [
      "print(transform)"
     ],
     "language": "python",
     "metadata": {},
     "outputs": [
      {
       "output_type": "stream",
       "stream": "stdout",
       "text": [
        "translation : [-1.05823463 -1.5028806  -0.53310203]\n",
        "rotation    : [-0.00113736 -0.0003076  -0.00236068]\n",
        "\n"
       ]
      }
     ],
     "prompt_number": 12
    },
    {
     "cell_type": "markdown",
     "metadata": {},
     "source": [
      "Investigate ``nar.resample``"
     ]
    },
    {
     "cell_type": "code",
     "collapsed": false,
     "input": [
      "resampled = nar.resample(anat_img, transform.inv(), func_mean_img)"
     ],
     "language": "python",
     "metadata": {},
     "outputs": [],
     "prompt_number": 13
    }
   ],
   "metadata": {}
  }
 ]
}