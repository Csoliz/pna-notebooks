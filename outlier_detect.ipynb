{
 "metadata": {
  "name": "outlier_detect"
 },
 "nbformat": 3,
 "nbformat_minor": 0,
 "worksheets": [
  {
   "cells": [
    {
     "cell_type": "heading",
     "level": 1,
     "metadata": {},
     "source": [
      "A quick outlier detection"
     ]
    },
    {
     "cell_type": "code",
     "collapsed": false,
     "input": [
      "%pylab"
     ],
     "language": "python",
     "metadata": {},
     "outputs": [
      {
       "output_type": "stream",
       "stream": "stdout",
       "text": [
        "\n",
        "Welcome to pylab, a matplotlib-based Python environment [backend: module://IPython.kernel.zmq.pylab.backend_inline].\n",
        "For more information, type 'help(pylab)'.\n"
       ]
      }
     ],
     "prompt_number": 1
    },
    {
     "cell_type": "code",
     "collapsed": false,
     "input": [
      "import numpy as np\n",
      "import numpy.linalg as nla\n",
      "import numpy.random as npr\n",
      "import scipy.stats as sst\n",
      "import matplotlib.pylab as plt"
     ],
     "language": "python",
     "metadata": {},
     "outputs": [],
     "prompt_number": 2
    },
    {
     "cell_type": "code",
     "collapsed": false,
     "input": [],
     "language": "python",
     "metadata": {},
     "outputs": [],
     "prompt_number": 2
    },
    {
     "cell_type": "markdown",
     "metadata": {},
     "source": [
      "# Algorithm\n",
      "\n",
      "1. select h observation\n",
      "------------------------\n",
      "2. compute sig and mu\n",
      "------------------------\n",
      "3. compute Malhanobis distance\n",
      "------------------------\n",
      "4. take the h observ that have smallest Md\n",
      "------------------------\n",
      "5. Stop criteria: compare with previous sigma and mu\n",
      "------------------------\n",
      "\n",
      "loop - or stop\n"
     ]
    },
    {
     "cell_type": "code",
     "collapsed": false,
     "input": [
      "# variance and mu\n",
      "def compute_mu_sig(yh):\n",
      "    \n",
      "    df = yh.shape[1]-1\n",
      "    mu = yh.mean(axis=1)\n",
      "    yhc = yh - mu\n",
      "    return mu, yhc.dot(yhc.T)/df\n",
      "\n",
      "# test this function:\n",
      "#print compute_mu_sig(np.asarray([[1, 1, 1, 1]]))\n",
      "#print compute_mu_sig(np.asarray([[-1, 0, 1]]))\n",
      "\n",
      "assert compute_mu_sig(np.asarray([[1, 1, 1, 1]])) == (1,0)\n",
      "assert compute_mu_sig(np.asarray([[-1, 0, 1]])) == (0,1)\n",
      "\n",
      "def compute_mahl(yh, m, s):\n",
      "    yh = yh - m\n",
      "    yhb = nla.inv(s).dot(yh)\n",
      "    yh = yhb * yh\n",
      "    return yh.mean(axis=0)\n",
      "    \n",
      "\n",
      "# test this function\n",
      "\n",
      "tmparr1 = np.asarray([[-1, 0, 1]])\n",
      "npmu = np.asarray([[1]])\n",
      "npvar = np.asarray([[1]])\n",
      "assert np.allclose(compute_mahl(tmparr1, npmu, npvar ), np.array([ 4.,  1.,  0.]))\n",
      "\n",
      "\n",
      "def norm_linf(mtx1, mtx2):\n",
      "    d = mtx1 - mtx2\n",
      "    return d.max() \n"
     ],
     "language": "python",
     "metadata": {},
     "outputs": [],
     "prompt_number": 11
    },
    {
     "cell_type": "code",
     "collapsed": false,
     "input": [
      "def compute_mahl(yh, m, s):\n",
      "    \n",
      "    yh = yh - m\n",
      "    yhb = nla.inv(s).dot(yh)\n",
      "    yh = yhb * yh\n",
      "    return yh.mean(axis=0)\n",
      "\n",
      "# test this function\n",
      "\n",
      "tmparr1 = np.asarray([[-1, 0, 1]])\n",
      "npmu = np.asarray([[1]])\n",
      "npvar = np.asarray([[1]])\n",
      "assert np.allclose(compute_mahl(tmparr1, npmu, npvar ), np.array([ 4.,  1.,  0.]))\n",
      "\n",
      "\n",
      "def norm_linf(mtx1, mtx2):\n",
      "    d = mtx1 - mtx2\n",
      "    return d.max() "
     ],
     "language": "python",
     "metadata": {},
     "outputs": [],
     "prompt_number": 12
    },
    {
     "cell_type": "code",
     "collapsed": false,
     "input": [
      "# Initialize\n",
      "n = 100\n",
      "sigma = 1.\n",
      "Y = npr.normal(0.,sigma,size=(1,n))\n",
      "\n",
      "pc = .70\n",
      "h = int(pc * n)\n",
      "\n",
      "outliers = npr.normal(0.,sigma*10,size=(1,n-h))\n",
      "Y[:,0:n-h] = outliers"
     ],
     "language": "python",
     "metadata": {},
     "outputs": [],
     "prompt_number": 23
    },
    {
     "cell_type": "code",
     "collapsed": false,
     "input": [
      "Yh = Y[:,:h]\n",
      "idx = np.arange(n)\n",
      "maxiter = 10\n",
      "eps = 10**(-6)\n",
      "changes = np.ones(2)\n",
      "\n",
      "#print Y\n",
      "#print Yh\n",
      "\n",
      "mu, sig = compute_mu_sig(Yh)\n",
      "print 'mu sig for Y: ', compute_mu_sig(Y), \"\\n\"\n",
      "print 'initial mu sig', mu, sig\n",
      "\n",
      "for i in range(maxiter):\n",
      "    \n",
      "    Md = compute_mahl(Y, mu, sig)\n",
      "    idx_new = np.argsort(Md)\n",
      "    Yh_new = Y[:,idx_new][:,:h]\n",
      "    mu_new, sig_new = compute_mu_sig(Yh_new)\n",
      "    \n",
      "    changes[0] = np.sum(np.any(idx_new-idx))\n",
      "    changes[1] = norm_linf(sig, sig_new) > eps\n",
      "    \n",
      "    print \"mu, mu_new\", mu, mu_new, \"sig, sig_new\", sig, sig_new,  \n",
      "    print norm_linf(sig, sig_new), \" > \", eps, \" ? \"\n",
      "    print \"changes :\", changes\n",
      "\n",
      "    Yh = Yh_new\n",
      "    sig = sig_new\n",
      "    mu = mu_new\n",
      "    \n",
      "    if  not np.all(changes):\n",
      "        break"
     ],
     "language": "python",
     "metadata": {},
     "outputs": [
      {
       "output_type": "stream",
       "stream": "stdout",
       "text": [
        "mu sig for Y:  (array([-0.31959448]), array([[ 39.75129716]])) \n",
        "\n",
        "initial mu sig [-0.39890354] [[ 56.6982093]]\n",
        "mu, mu_new [-0.39890354] [-0.11642443] sig, sig_new [[ 56.6982093]] [[ 0.9738012]] 55.7244080942  >  1e-06  ? \n",
        "changes : [ 1.  1.]\n",
        "mu, mu_new [-0.11642443] [-0.05753637] sig, sig_new [[ 0.9738012]] [[ 0.96017071]] 0.0136304968351  >  1e-06  ? \n",
        "changes : [ 1.  1.]\n",
        "mu, mu_new [-0.05753637] [-0.05753637] sig, sig_new [[ 0.96017071]] [[ 0.96017071]] -2.22044604925e-16  >  1e-06  ? \n",
        "changes : [ 1.  0.]\n"
       ]
      }
     ],
     "prompt_number": 24
    },
    {
     "cell_type": "markdown",
     "metadata": {},
     "source": [
      "# Detection step"
     ]
    },
    {
     "cell_type": "code",
     "collapsed": false,
     "input": [
      "# choose a false positive rate\n",
      "alpha = 0.1/n\n",
      "\n",
      "z = nla.inv(sig).dot(Y - mu)\n",
      "\n",
      "_out = plt.hist(z[0,:])"
     ],
     "language": "python",
     "metadata": {},
     "outputs": [
      {
       "output_type": "display_data",
       "png": "[encoded data removed]",
       "text": [
        "<matplotlib.figure.Figure at 0x2c02210>"
       ]
      }
     ],
     "prompt_number": 39
    },
    {
     "cell_type": "code",
     "collapsed": false,
     "input": [
      "normdist = sst.norm(mu, sig)\n",
      "some_bad_ones = normdist.sf(z) < alpha\n",
      "print \"volumes to remove :\", some_bad_ones\n",
      "print z[some_bad_ones]\n",
      "print Y[some_bad_ones]\n"
     ],
     "language": "python",
     "metadata": {},
     "outputs": [
      {
       "output_type": "stream",
       "stream": "stdout",
       "text": [
        "volumes to remove : [[False  True False False  True False  True False False False False False\n",
        "   True False False  True  True  True False False False  True  True False\n",
        "  False False False False False  True False False False False False False\n",
        "  False False False False False False False False False False False False\n",
        "  False False False False False False False False False False False False\n",
        "  False False False False False False False False False False False False\n",
        "  False False False False False False False False False False False False\n",
        "  False False False False False False False False False False False False\n",
        "  False False False False]]\n",
        "[  6.12820519  14.80088147   7.08870477   3.06799828  17.6726997\n",
        "   9.84713461  10.95057403  30.40873986  11.80027544   9.26162757]\n",
        "[  5.82658673  14.15383643   6.74883029   2.8882657   16.91127217\n",
        "   9.39739381  10.45688403  29.14004484  11.27274243   8.83520711]\n"
       ]
      }
     ],
     "prompt_number": 42
    },
    {
     "cell_type": "code",
     "collapsed": false,
     "input": [
      "# exercice : \n",
      "# print histogram of the good ones:\n"
     ],
     "language": "python",
     "metadata": {},
     "outputs": [],
     "prompt_number": 52
    },
    {
     "cell_type": "code",
     "collapsed": false,
     "input": [
      "# scrap cell\n",
      "#========================================#\n",
      "\n",
      "# here - just one variable\n",
      "#z0 = z[0,:]\n",
      "#mu0 = mu[0]\n",
      "#sig0 = sig[0,0]\n",
      "#print good_ones\n",
      "#good_ones = np.where(some_bad_ones == False)\n",
      "#print good_ones.shape\n"
     ],
     "language": "python",
     "metadata": {},
     "outputs": [],
     "prompt_number": 48
    },
    {
     "cell_type": "code",
     "collapsed": false,
     "input": [],
     "language": "python",
     "metadata": {},
     "outputs": []
    }
   ],
   "metadata": {}
  }
 ]
}