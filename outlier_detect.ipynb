{
 "metadata": {
  "name": "outlier_detect"
 },
 "nbformat": 3,
 "nbformat_minor": 0,
 "worksheets": [
  {
   "cells": [
    {
     "cell_type": "heading",
     "level": 1,
     "metadata": {},
     "source": [
      "A quick outlier detection"
     ]
    },
    {
     "cell_type": "code",
     "collapsed": false,
     "input": [
      "%pylab inline"
     ],
     "language": "python",
     "metadata": {},
     "outputs": [
      {
       "output_type": "stream",
       "stream": "stdout",
       "text": [
        "\n",
        "Welcome to pylab, a matplotlib-based Python environment [backend: module://IPython.zmq.pylab.backend_inline].\n",
        "For more information, type 'help(pylab)'.\n"
       ]
      }
     ],
     "prompt_number": 1
    },
    {
     "cell_type": "code",
     "collapsed": false,
     "input": [
      "import numpy as np\n",
      "import numpy.linalg as nla\n",
      "import numpy.random as npr\n",
      "import scipy.stats as sst\n",
      "import matplotlib.pylab as plt"
     ],
     "language": "python",
     "metadata": {},
     "outputs": [],
     "prompt_number": 2
    },
    {
     "cell_type": "markdown",
     "metadata": {},
     "source": [
      "# Algorithm\n",
      "\n",
      "1. select h observation\n",
      "------------------------\n",
      "2. compute sig and mu\n",
      "------------------------\n",
      "3. compute Malhanobis distance\n",
      "------------------------\n",
      "4. take the h observ that have smallest Md\n",
      "------------------------\n",
      "5. Stop criteria: compare with previous sigma and mu\n",
      "------------------------\n",
      "\n",
      "loop - or stop\n"
     ]
    },
    {
     "cell_type": "code",
     "collapsed": false,
     "input": [
      "# variance and mu\n",
      "def compute_mu_sig(yh):\n",
      "    \n",
      "    df = yh.shape[1]-1\n",
      "    mu = yh.mean(axis=1)\n",
      "    yhc = yh - mu\n",
      "    return mu, yhc.dot(yhc.T)/df\n",
      "\n",
      "# test this function:\n",
      "#print compute_mu_sig(np.asarray([[1, 1, 1, 1]]))\n",
      "#print compute_mu_sig(np.asarray([[-1, 0, 1]]))\n",
      "\n",
      "assert compute_mu_sig(np.asarray([[1, 1, 1, 1]])) == (1,0)\n",
      "assert compute_mu_sig(np.asarray([[-1, 0, 1]])) == (0,1)\n",
      "\n",
      "def compute_mahl(yh, m, s):\n",
      "    yh = yh - m\n",
      "    yhb = nla.inv(s).dot(yh)\n",
      "    yh = yhb * yh\n",
      "    return yh.mean(axis=0)\n",
      "    \n",
      "\n",
      "# test this function\n",
      "\n",
      "tmparr1 = np.asarray([[-1, 0, 1]])\n",
      "npmu = np.asarray([[1]])\n",
      "npvar = np.asarray([[1]])\n",
      "assert np.allclose(compute_mahl(tmparr1, npmu, npvar ), np.array([ 4.,  1.,  0.]))\n",
      "\n",
      "\n",
      "def norm_linf(mtx1, mtx2):\n",
      "    d = mtx1 - mtx2\n",
      "    return d.max() \n"
     ],
     "language": "python",
     "metadata": {},
     "outputs": [],
     "prompt_number": 3
    },
    {
     "cell_type": "code",
     "collapsed": false,
     "input": [
      "def compute_mahl(yh, m, s):\n",
      "    \n",
      "    yh = yh - m\n",
      "    yhb = nla.inv(s).dot(yh)\n",
      "    yh = yhb * yh\n",
      "    return yh.mean(axis=0)\n",
      "\n",
      "# test this function\n",
      "\n",
      "tmparr1 = np.asarray([[-1, 0, 1]])\n",
      "npmu = np.asarray([[1]])\n",
      "npvar = np.asarray([[1]])\n",
      "assert np.allclose(compute_mahl(tmparr1, npmu, npvar ), np.array([ 4.,  1.,  0.]))\n",
      "\n",
      "\n",
      "def norm_linf(mtx1, mtx2):\n",
      "    d = np.abs(mtx1 - mtx2)\n",
      "    return d.max() "
     ],
     "language": "python",
     "metadata": {},
     "outputs": [],
     "prompt_number": 4
    },
    {
     "cell_type": "code",
     "collapsed": false,
     "input": [
      "# Initialize\n",
      "n = 100\n",
      "sigma = 1.\n",
      "Y = npr.normal(0.,sigma,size=(1,n))\n",
      "\n",
      "pc = .70\n",
      "h = int(pc * n)\n",
      "\n",
      "outliers = npr.normal(0.,sigma*10,size=(1,n-h))\n",
      "Y[:,0:n-h] = outliers"
     ],
     "language": "python",
     "metadata": {},
     "outputs": [],
     "prompt_number": 5
    },
    {
     "cell_type": "code",
     "collapsed": false,
     "input": [
      "Yh = Y[:,:h]\n",
      "idx = np.arange(n)\n",
      "maxiter = 10\n",
      "eps = 10**(-6)\n",
      "changes = np.ones(2)\n",
      "\n",
      "#print Y\n",
      "#print Yh\n",
      "\n",
      "mu, sig = compute_mu_sig(Yh)\n",
      "print 'mu sig for Y: ', compute_mu_sig(Y), \"\\n\"\n",
      "print 'initial mu sig', mu, sig\n",
      "\n",
      "for i in range(maxiter):\n",
      "    \n",
      "    Md = compute_mahl(Y, mu, sig)\n",
      "    idx_new = np.argsort(Md)\n",
      "    Yh_new = Y[:,idx_new][:,:h]\n",
      "    mu_new, sig_new = compute_mu_sig(Yh_new)\n",
      "    \n",
      "    changes[0] = np.sum(np.any(idx_new-idx))\n",
      "    changes[1] = norm_linf(sig, sig_new) > eps\n",
      "    \n",
      "    print \"mu, mu_new\", mu, mu_new, \"sig, sig_new\", sig, sig_new,  \n",
      "    print norm_linf(sig, sig_new), \" > \", eps, \" ? \"\n",
      "    print \"changes :\", changes\n",
      "\n",
      "    Yh = Yh_new\n",
      "    sig = sig_new\n",
      "    mu = mu_new\n",
      "    \n",
      "    if  not np.all(changes):\n",
      "        break"
     ],
     "language": "python",
     "metadata": {},
     "outputs": [
      {
       "output_type": "stream",
       "stream": "stdout",
       "text": [
        "mu sig for Y:  (array([ 0.11095828]), array([[ 32.902611]])) \n",
        "\n",
        "initial mu sig [ 0.17215184] [[ 46.82458812]]\n",
        "mu, mu_new [ 0.17215184] [ 0.07434145] sig, sig_new [[ 46.82458812]] [[ 0.57334687]] 46.2512412496  >  1e-06  ? \n",
        "changes : [ 1.  1.]\n",
        "mu, mu_new [ 0.07434145] [ 0.02828002] sig, sig_new [[ 0.57334687]] [[ 0.56565366]] 0.0076932112959  >  1e-06  ? \n",
        "changes : [ 1.  1.]\n",
        "mu, mu_new [ 0.02828002] [ 0.02828002] sig, sig_new [[ 0.56565366]] [[ 0.56565366]] 0.0  >  1e-06  ? \n",
        "changes : [ 1.  0.]\n"
       ]
      }
     ],
     "prompt_number": 6
    },
    {
     "cell_type": "markdown",
     "metadata": {},
     "source": [
      "# Detection step"
     ]
    },
    {
     "cell_type": "code",
     "collapsed": false,
     "input": [
      "# choose a false positive rate\n",
      "alpha = 0.1/n\n",
      "\n",
      "z = nla.inv(sig).dot(Y - mu)\n",
      "\n",
      "_out = plt.hist(z[0,:])"
     ],
     "language": "python",
     "metadata": {},
     "outputs": [
      {
       "output_type": "display_data",
       "png": "[encoded data removed]",
       "text": [
        "<matplotlib.figure.Figure at 0x105e5e350>"
       ]
      }
     ],
     "prompt_number": 7
    },
    {
     "cell_type": "code",
     "collapsed": false,
     "input": [
      "normdist = sst.norm(mu, sig)\n",
      "some_bad_ones = normdist.sf(z) < alpha\n",
      "print \"volumes to remove :\", some_bad_ones\n",
      "print z[some_bad_ones]\n",
      "print Y[some_bad_ones]\n"
     ],
     "language": "python",
     "metadata": {},
     "outputs": [
      {
       "output_type": "stream",
       "stream": "stdout",
       "text": [
        "volumes to remove : [[False False False False False  True  True  True  True False False False\n",
        "  False  True False  True False False  True  True  True False  True False\n",
        "   True  True False False False False False  True False False False False\n",
        "  False False False False False False False False False False False  True\n",
        "  False False False False False False False False False False False False\n",
        "  False False False False False  True False False False False False  True\n",
        "  False  True False False False False False False False False  True False\n",
        "  False False False False False False False False False False False False\n",
        "  False False False False]]\n",
        "[  7.09308336  33.29524831   3.03630691   4.50315109  43.4968302\n",
        "   5.28095834  20.15358333  13.24317487  13.93439138  24.74953162\n",
        "  10.32485309  38.67433002   3.22458476   1.81885539   2.34765566\n",
        "   2.66904762   2.71608539   2.56272368]\n",
        "[  4.04050857  18.86185901   1.74577813   2.57550391  24.63242112\n",
        "   3.01547342  11.42822815   7.51933033   7.91031947  14.02794311\n",
        "   5.86857094  21.90455626   1.85227818   1.05712223   1.35624003\n",
        "   1.53803657   1.56464366   1.47789404]\n"
       ]
      }
     ],
     "prompt_number": 8
    },
    {
     "cell_type": "code",
     "collapsed": false,
     "input": [
      "# exercice : \n",
      "# print histogram of the good ones:\n"
     ],
     "language": "python",
     "metadata": {},
     "outputs": [],
     "prompt_number": 9
    },
    {
     "cell_type": "code",
     "collapsed": false,
     "input": [
      "# scrap cell\n",
      "#========================================#\n",
      "\n",
      "# here - just one variable\n",
      "#z0 = z[0,:]\n",
      "#mu0 = mu[0]\n",
      "#sig0 = sig[0,0]\n",
      "#print good_ones\n",
      "#good_ones = np.where(some_bad_ones == False)\n",
      "#print good_ones.shape\n"
     ],
     "language": "python",
     "metadata": {},
     "outputs": [],
     "prompt_number": 10
    },
    {
     "cell_type": "code",
     "collapsed": false,
     "input": [],
     "language": "python",
     "metadata": {},
     "outputs": [],
     "prompt_number": 10
    }
   ],
   "metadata": {}
  }
 ]
}