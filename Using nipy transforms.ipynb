{
 "metadata": {
  "name": "Using nipy transforms"
 },
 "nbformat": 3,
 "nbformat_minor": 0,
 "worksheets": [
  {
   "cells": [
    {
     "cell_type": "markdown",
     "metadata": {},
     "source": [
      "On using a custom ``Transform`` object in nipy registration"
     ]
    },
    {
     "cell_type": "code",
     "collapsed": false,
     "input": [
      "%pylab inline"
     ],
     "language": "python",
     "metadata": {},
     "outputs": [
      {
       "output_type": "stream",
       "stream": "stdout",
       "text": [
        "\n",
        "Welcome to pylab, a matplotlib-based Python environment [backend: module://IPython.zmq.pylab.backend_inline].\n",
        "For more information, type 'help(pylab)'.\n"
       ]
      }
     ],
     "prompt_number": 1
    },
    {
     "cell_type": "code",
     "collapsed": false,
     "input": [
      "import nipy\n",
      "import nipy.core.api as nca\n"
     ],
     "language": "python",
     "metadata": {},
     "outputs": [
      {
       "output_type": "stream",
       "stream": "stderr",
       "text": [
        "/Library/Frameworks/Python.framework/Versions/2.7/lib/python2.7/site-packages/nose-1.1.2-py2.7.egg/nose/plugins/manager.py:405: UserWarning: Module nipy was already imported from /Users/mb312/usr/local/lib/python2.7/site-packages/nipy/__init__.pyc, but /Library/Frameworks/Python.framework/Versions/2.7/lib/python2.7/site-packages is being added to sys.path\n",
        "  import pkg_resources\n"
       ]
      }
     ],
     "prompt_number": 2
    },
    {
     "cell_type": "code",
     "collapsed": false,
     "input": [
      "fname = 'ds107_sub001_run01.nii.gz'\n",
      "img4f = nipy.load_image(fname)\n",
      "iterable_img = nca.iter_axis(img4f, 't')\n",
      "vols = nca.ImageList(iterable_img)"
     ],
     "language": "python",
     "metadata": {},
     "outputs": [],
     "prompt_number": 3
    },
    {
     "cell_type": "code",
     "collapsed": false,
     "input": [
      "vol0 = vols[0]\n",
      "vol1 = vols[1]"
     ],
     "language": "python",
     "metadata": {},
     "outputs": [],
     "prompt_number": 4
    },
    {
     "cell_type": "code",
     "collapsed": false,
     "input": [
      "vol0.shape"
     ],
     "language": "python",
     "metadata": {},
     "outputs": [
      {
       "output_type": "pyout",
       "prompt_number": 5,
       "text": [
        "(64, 64, 35)"
       ]
      }
     ],
     "prompt_number": 5
    },
    {
     "cell_type": "markdown",
     "metadata": {},
     "source": [
      "We can use histogram registration to register these"
     ]
    },
    {
     "cell_type": "code",
     "collapsed": false,
     "input": [
      "import nipy.algorithms.registration as reg\n",
      "reggie = reg.HistogramRegistration(vol1, vol0, interp='rand')"
     ],
     "language": "python",
     "metadata": {},
     "outputs": [],
     "prompt_number": 6
    },
    {
     "cell_type": "markdown",
     "metadata": {},
     "source": []
    },
    {
     "cell_type": "markdown",
     "metadata": {},
     "source": [
      "And run the registration thus:"
     ]
    },
    {
     "cell_type": "code",
     "collapsed": false,
     "input": [
      "rigid_estimated = reggie.optimize('rigid')"
     ],
     "language": "python",
     "metadata": {},
     "outputs": [
      {
       "output_type": "stream",
       "stream": "stdout",
       "text": [
        "Initial guess...\n",
        "translation : [ 0.  0.  0.]\n",
        "rotation    : [ 0.  0.  0.]\n",
        "\n",
        "Optimizing using fmin_powell\n",
        "translation : [ -7.14074461e-05  -5.54202767e-05  -1.87952475e-04]\n",
        "rotation    : [ -3.81065247e-06   0.00000000e+00  -3.19204929e-06]\n"
       ]
      },
      {
       "output_type": "stream",
       "stream": "stdout",
       "text": [
        "\n",
        "crl1 = 0.93676395833"
       ]
      },
      {
       "output_type": "stream",
       "stream": "stdout",
       "text": [
        "\n",
        "\n",
        "Optimization terminated successfully.\n",
        "         Current function value: -0.936781\n",
        "         Iterations: 1\n",
        "         Function evaluations: 122\n"
       ]
      }
     ],
     "prompt_number": 7
    },
    {
     "cell_type": "code",
     "collapsed": false,
     "input": [
      "print(rigid_estimated)"
     ],
     "language": "python",
     "metadata": {},
     "outputs": [
      {
       "output_type": "stream",
       "stream": "stdout",
       "text": [
        "translation : [ -7.14074461e-05  -5.54202767e-05  -1.87952475e-04]\n",
        "rotation    : [ -3.81065247e-06   0.00000000e+00  -3.19204929e-06]\n",
        "\n"
       ]
      }
     ],
     "prompt_number": 8
    },
    {
     "cell_type": "markdown",
     "metadata": {},
     "source": [
      "The input string 'rigid' is a shortcut for using a Rigid transform object:"
     ]
    },
    {
     "cell_type": "code",
     "collapsed": false,
     "input": [
      "from nipy.algorithms.registration import affine\n",
      "transform = affine.Rigid()\n",
      "transform.param"
     ],
     "language": "python",
     "metadata": {},
     "outputs": [
      {
       "output_type": "pyout",
       "prompt_number": 9,
       "text": [
        "array([ 0.,  0.,  0.,  0.,  0.,  0.])"
       ]
      }
     ],
     "prompt_number": 9
    },
    {
     "cell_type": "code",
     "collapsed": false,
     "input": [
      "rigid_reestimated = reggie.optimize(transform)"
     ],
     "language": "python",
     "metadata": {},
     "outputs": [
      {
       "output_type": "stream",
       "stream": "stdout",
       "text": [
        "Initial guess...\n",
        "translation : [ 0.  0.  0.]\n",
        "rotation    : [ 0.  0.  0.]\n",
        "\n",
        "Optimizing using fmin_powell\n",
        "translation : [ -8.70267192e-05  -2.66795493e-05  -1.54662842e-05]\n",
        "rotation    : [ -2.98350665e-06   5.66887658e-06   5.21556917e-07]\n"
       ]
      },
      {
       "output_type": "stream",
       "stream": "stdout",
       "text": [
        "\n",
        "crl1 = 0.936738875703"
       ]
      },
      {
       "output_type": "stream",
       "stream": "stdout",
       "text": [
        "\n",
        "\n",
        "Optimization terminated successfully.\n",
        "         Current function value: -0.936767\n",
        "         Iterations: 1\n",
        "         Function evaluations: 97\n"
       ]
      }
     ],
     "prompt_number": 10
    },
    {
     "cell_type": "code",
     "collapsed": false,
     "input": [
      "rigid_reestimated.param"
     ],
     "language": "python",
     "metadata": {},
     "outputs": [
      {
       "output_type": "pyout",
       "prompt_number": 11,
       "text": [
        "array([ -8.70267192e-05,  -2.66795493e-05,  -1.54662842e-05,\n",
        "        -2.98350665e-04,   5.66887658e-04,   5.21556917e-05])"
       ]
      }
     ],
     "prompt_number": 11
    },
    {
     "cell_type": "markdown",
     "metadata": {},
     "source": [
      "The transform is random to some degree, because we used 'rand' as our interpolation method.  We can show the string 'rigid' is the same as using the ``affine.Rigid()`` object by seeding the random number generator."
     ]
    },
    {
     "cell_type": "code",
     "collapsed": false,
     "input": [
      "import numpy as np\n",
      "np.random.seed(42)\n",
      "print(reggie.optimize('rigid').param)"
     ],
     "language": "python",
     "metadata": {},
     "outputs": [
      {
       "output_type": "stream",
       "stream": "stdout",
       "text": [
        "Initial guess...\n",
        "translation : [ 0.  0.  0.]\n",
        "rotation    : [ 0.  0.  0.]\n",
        "\n",
        "Optimizing using fmin_powell\n",
        "translation : [ -6.07463206e-05   1.47348924e-04   1.09784549e-04]\n",
        "rotation    : [  1.38910188e-06   4.45114636e-06  -3.20871715e-06]\n"
       ]
      },
      {
       "output_type": "stream",
       "stream": "stdout",
       "text": [
        "\n",
        "crl1 = 0.936742647635"
       ]
      },
      {
       "output_type": "stream",
       "stream": "stdout",
       "text": [
        "\n",
        "\n",
        "Optimization terminated successfully.\n",
        "         Current function value: -0.936765\n",
        "         Iterations: 1\n",
        "         Function evaluations: 93\n",
        "[ -6.07463206e-05   1.47348924e-04   1.09784549e-04   1.38910188e-04\n",
        "   4.45114636e-04  -3.20871715e-04]\n"
       ]
      }
     ],
     "prompt_number": 12
    },
    {
     "cell_type": "code",
     "collapsed": false,
     "input": [
      "np.random.seed(42)\n",
      "print(reggie.optimize(affine.Rigid()).param)"
     ],
     "language": "python",
     "metadata": {},
     "outputs": [
      {
       "output_type": "stream",
       "stream": "stdout",
       "text": [
        "Initial guess...\n",
        "translation : [ 0.  0.  0.]\n",
        "rotation    : [ 0.  0.  0.]\n",
        "\n",
        "Optimizing using fmin_powell\n",
        "translation : [ -6.07463206e-05   1.47348924e-04   1.09784549e-04]\n",
        "rotation    : [  1.38910188e-06   4.45114636e-06  -3.20871715e-06]\n"
       ]
      },
      {
       "output_type": "stream",
       "stream": "stdout",
       "text": [
        "\n",
        "crl1 = 0.936742647635"
       ]
      },
      {
       "output_type": "stream",
       "stream": "stdout",
       "text": [
        "\n",
        "\n",
        "Optimization terminated successfully.\n",
        "         Current function value: -0.936765\n",
        "         Iterations: 1\n",
        "         Function evaluations: 93\n",
        "[ -6.07463206e-05   1.47348924e-04   1.09784549e-04   1.38910188e-04\n",
        "   4.45114636e-04  -3.20871715e-04]\n"
       ]
      }
     ],
     "prompt_number": 13
    },
    {
     "cell_type": "code",
     "collapsed": false,
     "input": [
      "print(reggie.optimize('rigid'))"
     ],
     "language": "python",
     "metadata": {},
     "outputs": [
      {
       "output_type": "stream",
       "stream": "stdout",
       "text": [
        "Initial guess...\n",
        "translation : [ 0.  0.  0.]\n",
        "rotation    : [ 0.  0.  0.]\n",
        "\n",
        "Optimizing using fmin_powell\n",
        "translation : [ -6.43007339e-05   3.65499606e-05  -3.33867098e-09]\n",
        "rotation    : [  1.87811121e-07  -1.32281274e-08  -6.20038154e-07]\n"
       ]
      },
      {
       "output_type": "stream",
       "stream": "stdout",
       "text": [
        "\n",
        "crl1 = 0.936784539585"
       ]
      },
      {
       "output_type": "stream",
       "stream": "stdout",
       "text": [
        "\n",
        "\n",
        "Optimization terminated successfully.\n",
        "         Current function value: -0.936784\n",
        "         Iterations: 1\n",
        "         Function evaluations: 130\n",
        "translation : [ -6.43007339e-05   3.65499606e-05  -3.33867098e-09]\n",
        "rotation    : [  1.87811121e-07  -1.32281274e-08  -6.20038154e-07]\n",
        "\n"
       ]
      }
     ],
     "prompt_number": 14
    },
    {
     "cell_type": "markdown",
     "metadata": {},
     "source": [
      "What kind of thing must a new \"Transform\" object do?\n",
      "\n",
      "For the optimization, the transform must be able to provide two things:\n",
      "    \n",
      "* `param` property / attribute\n",
      "* `apply` method\n",
      "\n",
      "The `param` property returns and accepts values that parameterize the transform, and that the optimizer can change to find the next step of the optimization.\n",
      "\n",
      "The `apply` method accepts a set of coordinates `xyz` of shape (usually) (M, N, P, 3) where (M, N, P) will be the shape of the image being optimized, and the last dimension indexes the X, Y, Z coordinate values.\n",
      "\n",
      "Lastly, the transform should be able to compose itself with other transforms.  So it needs a `compose` method.\n",
      "\n",
      "The simplest, slowest, always works way of making a compose method, is like this:"
     ]
    },
    {
     "cell_type": "code",
     "collapsed": false,
     "input": [
      "from nipy.algorithms.registration.transform import Transform\n",
      "class PointShifter(object):\n",
      "    def __init__(self, param=None):\n",
      "        if param is None:\n",
      "            param = np.zeros((3,))\n",
      "        self.param = np.array(param, dtype=np.float64)\n",
      "        \n",
      "    def apply(self, xyz):\n",
      "        \"\"\" The params are scalars to add to X, Y, Z \"\"\"\n",
      "        return xyz + self.param # This will broadcast\n",
      "    \n",
      "    def compose(self, other):\n",
      "        \"\"\" Make a new transform that is the composition of this transform on another\n",
      "        \"\"\"\n",
      "        apply_func = lambda pts : self.apply(other.apply(pts))\n",
      "        return Transform(apply_func)"
     ],
     "language": "python",
     "metadata": {},
     "outputs": [],
     "prompt_number": 15
    },
    {
     "cell_type": "code",
     "collapsed": false,
     "input": [
      "adder = PointShifter([0, 0, 0])\n",
      "adder.param"
     ],
     "language": "python",
     "metadata": {},
     "outputs": [
      {
       "output_type": "pyout",
       "prompt_number": 16,
       "text": [
        "array([ 0.,  0.,  0.])"
       ]
      }
     ],
     "prompt_number": 16
    },
    {
     "cell_type": "code",
     "collapsed": false,
     "input": [
      "translations = reggie.optimize(adder)"
     ],
     "language": "python",
     "metadata": {},
     "outputs": [
      {
       "output_type": "stream",
       "stream": "stdout",
       "text": [
        "Initial guess...\n",
        "<__main__.PointShifter object at 0x10f8df250>\n",
        "Optimizing using fmin_powell\n",
        "<__main__.PointShifter object at 0x10f8df250>"
       ]
      },
      {
       "output_type": "stream",
       "stream": "stdout",
       "text": [
        "\n",
        "crl1 = 0.936759589242"
       ]
      },
      {
       "output_type": "stream",
       "stream": "stdout",
       "text": [
        "\n",
        "\n",
        "Optimization terminated successfully.\n",
        "         Current function value: -0.936780\n",
        "         Iterations: 1\n",
        "         Function evaluations: 53\n"
       ]
      }
     ],
     "prompt_number": 17
    },
    {
     "cell_type": "code",
     "collapsed": false,
     "input": [
      "translations.param"
     ],
     "language": "python",
     "metadata": {},
     "outputs": [
      {
       "output_type": "pyout",
       "prompt_number": 18,
       "text": [
        "array([  1.67248378e-04,  -1.66525175e-05,  -2.34585088e-05])"
       ]
      }
     ],
     "prompt_number": 18
    },
    {
     "cell_type": "markdown",
     "metadata": {},
     "source": [
      "We can optimize two sets of transforms at the same time"
     ]
    },
    {
     "cell_type": "code",
     "collapsed": false,
     "input": [
      "class Combiner(object):\n",
      "    def __init__(self):\n",
      "        self.rigid = affine.Rigid()\n",
      "        self.translater = PointShifter()\n",
      "        \n",
      "    @property\n",
      "    def param(self):\n",
      "        return np.hstack((self.translater.param[:], self.rigid.param[:]))\n",
      "\n",
      "    @param.setter\n",
      "    def param(self, param):\n",
      "        self.translater.param = param[:3]\n",
      "        self.rigid.param = param[3:]\n",
      "        \n",
      "    def apply(self, xyz):\n",
      "        return self.translater.apply(self.rigid.apply(xyz))\n",
      "    \n",
      "    def compose(self, other):\n",
      "        \"\"\" Make a new transform that is the composition of this transform on another\n",
      "        \"\"\"\n",
      "        apply_func = lambda pts : self.apply(other.apply(pts))\n",
      "        return Transform(apply_func)"
     ],
     "language": "python",
     "metadata": {},
     "outputs": [],
     "prompt_number": 22
    },
    {
     "cell_type": "code",
     "collapsed": false,
     "input": [
      "both = Combiner()\n",
      "best_both = reggie.optimize(both)"
     ],
     "language": "python",
     "metadata": {},
     "outputs": [
      {
       "output_type": "stream",
       "stream": "stdout",
       "text": [
        "Initial guess...\n",
        "<__main__.Combiner object at 0x108966c10>\n",
        "Optimizing using fmin_powell\n",
        "<__main__.Combiner object at 0x108966c10>"
       ]
      },
      {
       "output_type": "stream",
       "stream": "stdout",
       "text": [
        "\n",
        "crl1 = 0.936749092767"
       ]
      },
      {
       "output_type": "stream",
       "stream": "stdout",
       "text": [
        "\n",
        "\n",
        "Optimization terminated successfully.\n",
        "         Current function value: -0.936759\n",
        "         Iterations: 1\n",
        "         Function evaluations: 159\n"
       ]
      }
     ],
     "prompt_number": 23
    },
    {
     "cell_type": "code",
     "collapsed": false,
     "input": [
      "best_both.param"
     ],
     "language": "python",
     "metadata": {},
     "outputs": [
      {
       "output_type": "pyout",
       "prompt_number": 24,
       "text": [
        "array([ -4.88512261e-06,   5.69476553e-05,  -9.99796946e-05,\n",
        "        -7.82070277e-05,  -2.02279571e-04,   4.91035367e-04,\n",
        "         4.01331182e-05,   2.05496340e-04,  -2.05693221e-06])"
       ]
      }
     ],
     "prompt_number": 24
    }
   ],
   "metadata": {}
  }
 ]
}