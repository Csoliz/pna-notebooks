{
 "metadata": {
  "name": "what_is_an_image"
 },
 "nbformat": 3,
 "nbformat_minor": 0,
 "worksheets": [
  {
   "cells": [
    {
     "cell_type": "markdown",
     "metadata": {},
     "source": [
      "What is an image?"
     ]
    },
    {
     "cell_type": "markdown",
     "metadata": {},
     "source": [
      "We get an image from our example dataset : http://practical-neuroimaging.github.com/example_data.html\n",
      "\n",
      "If we haven't got the zip archive already, we'll get it using Python"
     ]
    },
    {
     "cell_type": "code",
     "collapsed": false,
     "input": [
      "import os # The Operating System module"
     ],
     "language": "python",
     "metadata": {},
     "outputs": [],
     "prompt_number": 1
    },
    {
     "cell_type": "code",
     "collapsed": false,
     "input": [
      "zip_fname = 'two_example_images.zip'"
     ],
     "language": "python",
     "metadata": {},
     "outputs": [],
     "prompt_number": 2
    },
    {
     "cell_type": "code",
     "collapsed": false,
     "input": [
      "if not os.path.isfile(zip_fname):\n",
      "    import urllib2 # library to get URLs\n",
      "    url = 'http://nipy.bic.berkeley.edu/practical_neuroimaging/' + zip_fname\n",
      "    # Get the data from the URL address\n",
      "    fileobj = urllib2.urlopen(url)\n",
      "    data = fileobj.read()\n",
      "    # Write it to disc as the zip file\n",
      "    local_fileobj = open(zip_fname, 'wb')\n",
      "    local_fileobj.write(data)\n",
      "    local_fileobj.close()"
     ],
     "language": "python",
     "metadata": {},
     "outputs": [],
     "prompt_number": 3
    },
    {
     "cell_type": "markdown",
     "metadata": {},
     "source": [
      "We now have the file downloaded locally.  To check for the file, we can use the ``glob`` module.  This allows us to do wildcard matching to filenames.  For example, to look for files in the current directory ending with ``.zip``:"
     ]
    },
    {
     "cell_type": "code",
     "collapsed": false,
     "input": [
      "import glob\n",
      "glob.glob('*.zip')"
     ],
     "language": "python",
     "metadata": {},
     "outputs": [
      {
       "output_type": "pyout",
       "prompt_number": 4,
       "text": [
        "['two_example_images.zip']"
       ]
      }
     ],
     "prompt_number": 4
    },
    {
     "cell_type": "markdown",
     "metadata": {},
     "source": [
      "What does this file have inside?  We can look at it using the Python ``zipfile`` module."
     ]
    },
    {
     "cell_type": "code",
     "collapsed": false,
     "input": [
      "import zipfile\n",
      "z_fobj = zipfile.ZipFile(zip_fname, 'r')\n",
      "z_fobj.namelist()"
     ],
     "language": "python",
     "metadata": {},
     "outputs": [
      {
       "output_type": "pyout",
       "prompt_number": 5,
       "text": [
        "['ds107_sub001_highres.nii.gz', 'ds107_sub001_run01.nii.gz']"
       ]
      }
     ],
     "prompt_number": 5
    },
    {
     "cell_type": "markdown",
     "metadata": {},
     "source": [
      "Don't forget to tab complete on - say - ``z_fobj`` above, to see what you can do with it."
     ]
    },
    {
     "cell_type": "markdown",
     "metadata": {},
     "source": [
      "We extract the files:"
     ]
    },
    {
     "cell_type": "code",
     "collapsed": false,
     "input": [
      "z_fobj.extractall()\n",
      "z_fobj.close()\n",
      "glob.glob('*.nii.gz')"
     ],
     "language": "python",
     "metadata": {},
     "outputs": [
      {
       "output_type": "pyout",
       "prompt_number": 6,
       "text": [
        "['ds107_sub001_highres.nii.gz', 'ds107_sub001_run01.nii.gz']"
       ]
      }
     ],
     "prompt_number": 6
    },
    {
     "cell_type": "markdown",
     "metadata": {},
     "source": [
      "The images have ``gz`` extensions. Looks like they are gzipped. What could be better than opening the file with the ``gzip`` module?"
     ]
    },
    {
     "cell_type": "code",
     "collapsed": false,
     "input": [
      "import gzip\n",
      "gzfobj = gzip.open('ds107_sub001_highres.nii.gz', 'rb')"
     ],
     "language": "python",
     "metadata": {},
     "outputs": [],
     "prompt_number": 7
    },
    {
     "cell_type": "markdown",
     "metadata": {},
     "source": [
      "What type of thing is ``gzfobj``?  Try typing ``Ctrl-m b`` to insert a cell below, then type ``gzfobj.`` (remember the dot) and then tab."
     ]
    },
    {
     "cell_type": "markdown",
     "metadata": {},
     "source": [
      "Let's read in all the data to take a look"
     ]
    },
    {
     "cell_type": "code",
     "collapsed": false,
     "input": [
      "img_data = gzfobj.read()\n",
      "gzfobj.close()"
     ],
     "language": "python",
     "metadata": {},
     "outputs": [],
     "prompt_number": 8
    },
    {
     "cell_type": "markdown",
     "metadata": {},
     "source": [
      "What do we have now?"
     ]
    },
    {
     "cell_type": "code",
     "collapsed": false,
     "input": [
      "type(img_data)"
     ],
     "language": "python",
     "metadata": {},
     "outputs": [
      {
       "output_type": "pyout",
       "prompt_number": 9,
       "text": [
        "str"
       ]
      }
     ],
     "prompt_number": 9
    },
    {
     "cell_type": "code",
     "collapsed": false,
     "input": [
      "len(img_data)"
     ],
     "language": "python",
     "metadata": {},
     "outputs": [
      {
       "output_type": "pyout",
       "prompt_number": 10,
       "text": [
        "25166176"
       ]
      }
     ],
     "prompt_number": 10
    },
    {
     "cell_type": "markdown",
     "metadata": {},
     "source": [
      "What is in here?   I do a Google search for \"Nifti header\". The second hit takes me to this page: http://nifti.nimh.nih.gov/nifti-1/documentation/nifti1fields.\n",
      "\n",
      "It reveals that that first bytes should be an integer value 348 and that it has a length of 4:\n",
      "\n",
      "``int   sizeof_hdr;    /*!< MUST be 348           */  /* int sizeof_hdr;      */   /*   0 */``\n",
      "\n",
      "Let's look at the numerical values of the first 4 bytes:"
     ]
    },
    {
     "cell_type": "code",
     "collapsed": false,
     "input": [
      "for i in range(4):\n",
      "    print ord(img_data[i])"
     ],
     "language": "python",
     "metadata": {},
     "outputs": [
      {
       "output_type": "stream",
       "stream": "stdout",
       "text": [
        "92\n",
        "1\n",
        "0\n",
        "0\n"
       ]
      }
     ],
     "prompt_number": 11
    },
    {
     "cell_type": "markdown",
     "metadata": {},
     "source": [
      "This is 348 as a four byte integer.  Quick quiz: why? Clue follows:"
     ]
    },
    {
     "cell_type": "code",
     "collapsed": false,
     "input": [
      "348 - 92"
     ],
     "language": "python",
     "metadata": {},
     "outputs": [
      {
       "output_type": "pyout",
       "prompt_number": 12,
       "text": [
        "256"
       ]
      }
     ],
     "prompt_number": 12
    },
    {
     "cell_type": "markdown",
     "metadata": {},
     "source": [
      "OK, so we want to put this binary form of the integer in memory, into Python as an integer object.  How to do that?"
     ]
    },
    {
     "cell_type": "code",
     "collapsed": false,
     "input": [
      "import struct"
     ],
     "language": "python",
     "metadata": {},
     "outputs": [],
     "prompt_number": 13
    },
    {
     "cell_type": "markdown",
     "metadata": {},
     "source": [
      "To see what is in ``struct``, try ``Ctrl-m b`` again, and ``struct?`` to see the help.  Then check ``struct.pack?`` and ``struct.unpack?``.  Among other things, we find that ``<i`` is the code for a signed 4-byte 32-bit integer, with little-endian byte ordering."
     ]
    },
    {
     "cell_type": "code",
     "collapsed": false,
     "input": [
      "struct.unpack('<i', img_data[:4])"
     ],
     "language": "python",
     "metadata": {},
     "outputs": [
      {
       "output_type": "pyout",
       "prompt_number": 14,
       "text": [
        "(348,)"
       ]
      }
     ],
     "prompt_number": 14
    },
    {
     "cell_type": "markdown",
     "metadata": {},
     "source": [
      "Nice.  Now, what else do we need to know?  The shape of the data? We get this from this field of the NIfTI header:\n",
      "\n",
      "``short dim[8];        /*!< Data array dimensions.*/  /* short dim[8];        */   /*  40 */``\n",
      "\n",
      "The help for ``struct`` tells us we need the code ``<8h`` for 8 16-bit little-endian integers."
     ]
    },
    {
     "cell_type": "code",
     "collapsed": false,
     "input": [
      "struct.unpack('<8h', img_data[40:56])"
     ],
     "language": "python",
     "metadata": {},
     "outputs": [
      {
       "output_type": "pyout",
       "prompt_number": 15,
       "text": [
        "(3, 256, 256, 192, 1, 1, 1, 1)"
       ]
      }
     ],
     "prompt_number": 15
    },
    {
     "cell_type": "markdown",
     "metadata": {},
     "source": [
      "OK - looks like it's 256 by 256 by 192.  What's the data type?  We want this field:\n",
      "\n",
      "``short datatype;      /*!< Defines data type!    */  /* short datatype;      */   /*  70 */``"
     ]
    },
    {
     "cell_type": "code",
     "collapsed": false,
     "input": [
      "struct.unpack('<h', img_data[70:72])"
     ],
     "language": "python",
     "metadata": {},
     "outputs": [
      {
       "output_type": "pyout",
       "prompt_number": 16,
       "text": [
        "(4,)"
       ]
      }
     ],
     "prompt_number": 16
    },
    {
     "cell_type": "markdown",
     "metadata": {},
     "source": [
      "Looking at : http://nifti.nimh.nih.gov/nifti-1/documentation/nifti1fields/nifti1fields_pages/datatype.html - this seems to mean 16 bit signed integer.  Where does the image data start in this file?\n",
      "\n",
      "``float vox_offset;    /*!< Offset into .nii file */  /* float vox_offset;    */   /* 108 */``\n",
      "\n",
      "The code we need is for a 4-byte floating point value - ``<f``"
     ]
    },
    {
     "cell_type": "code",
     "collapsed": false,
     "input": [
      "struct.unpack('<f', img_data[108:112])"
     ],
     "language": "python",
     "metadata": {},
     "outputs": [
      {
       "output_type": "pyout",
       "prompt_number": 17,
       "text": [
        "(352.0,)"
       ]
      }
     ],
     "prompt_number": 17
    },
    {
     "cell_type": "markdown",
     "metadata": {},
     "source": [
      "That's what we were expecting (well - it was what I was expecting!).\n",
      "\n",
      "So, we are expecting 256 * 256 * 192 2-byte integers, to follow the 348 bytes of the header, and the 4 extra bytes before the data starts.  So how long should the entire image file be?"
     ]
    },
    {
     "cell_type": "markdown",
     "metadata": {},
     "source": [
      "Now we can could read the image data, veerrryyy slowly, like this:"
     ]
    },
    {
     "cell_type": "code",
     "collapsed": false,
     "input": [
      "fmt_str = '<%dh' % (256 * 256 * 192)\n",
      "img_values = struct.unpack(fmt_str, img_data[352:])"
     ],
     "language": "python",
     "metadata": {},
     "outputs": [],
     "prompt_number": 18
    },
    {
     "cell_type": "code",
     "collapsed": false,
     "input": [
      "len(img_values)"
     ],
     "language": "python",
     "metadata": {},
     "outputs": [
      {
       "output_type": "pyout",
       "prompt_number": 19,
       "text": [
        "12582912"
       ]
      }
     ],
     "prompt_number": 19
    },
    {
     "cell_type": "code",
     "collapsed": false,
     "input": [
      "type(img_values)"
     ],
     "language": "python",
     "metadata": {},
     "outputs": [
      {
       "output_type": "pyout",
       "prompt_number": 23,
       "text": [
        "tuple"
       ]
      }
     ],
     "prompt_number": 23
    },
    {
     "cell_type": "markdown",
     "metadata": {},
     "source": [
      "We can get the mean of all the values in the image like this:"
     ]
    },
    {
     "cell_type": "code",
     "collapsed": false,
     "input": [
      "sum(img_values) / float(len(img_values))"
     ],
     "language": "python",
     "metadata": {},
     "outputs": [
      {
       "output_type": "pyout",
       "prompt_number": 24,
       "text": [
        "32.01169069608053"
       ]
      }
     ],
     "prompt_number": 24
    },
    {
     "cell_type": "markdown",
     "metadata": {},
     "source": [
      "It's time to introduce ``numpy``.  Numpy is the array manipulation library for Python"
     ]
    },
    {
     "cell_type": "code",
     "collapsed": false,
     "input": [
      "import numpy as np"
     ],
     "language": "python",
     "metadata": {},
     "outputs": [],
     "prompt_number": 25
    },
    {
     "cell_type": "markdown",
     "metadata": {},
     "source": [
      "Numpy allows you to look at binary data as arrays.  For example, here's a much quicker trick to get the image data into an array:"
     ]
    },
    {
     "cell_type": "code",
     "collapsed": false,
     "input": [
      "img_array = np.ndarray(shape=(256, 256, 192), dtype='<i2', order='F', buffer=img_data[352:])"
     ],
     "language": "python",
     "metadata": {},
     "outputs": [],
     "prompt_number": 30
    },
    {
     "cell_type": "markdown",
     "metadata": {},
     "source": [
      "Please don't worry about the details of this command, but what we get back is - an array:"
     ]
    },
    {
     "cell_type": "code",
     "collapsed": false,
     "input": [
      "img_array.shape"
     ],
     "language": "python",
     "metadata": {},
     "outputs": [
      {
       "output_type": "pyout",
       "prompt_number": 31,
       "text": [
        "(256, 256, 192)"
       ]
      }
     ],
     "prompt_number": 31
    },
    {
     "cell_type": "code",
     "collapsed": false,
     "input": [
      "img_array.mean()"
     ],
     "language": "python",
     "metadata": {},
     "outputs": [
      {
       "output_type": "pyout",
       "prompt_number": 32,
       "text": [
        "32.011690696080528"
       ]
      }
     ],
     "prompt_number": 32
    },
    {
     "cell_type": "markdown",
     "metadata": {},
     "source": [
      "As we'll see soon, we can take slices out of this array to show image slices.  First we enable the plotting.  Don't worry about the details, we'll go over this again:"
     ]
    },
    {
     "cell_type": "code",
     "collapsed": false,
     "input": [
      "%pylab inline"
     ],
     "language": "python",
     "metadata": {},
     "outputs": [
      {
       "output_type": "stream",
       "stream": "stdout",
       "text": [
        "\n",
        "Welcome to pylab, a matplotlib-based Python environment [backend: module://IPython.zmq.pylab.backend_inline].\n",
        "For more information, type 'help(pylab)'.\n"
       ]
      }
     ],
     "prompt_number": 34
    },
    {
     "cell_type": "code",
     "collapsed": false,
     "input": [
      "z_slice = img_array[:, :, 96]\n",
      "plt.imshow(z_slice)"
     ],
     "language": "python",
     "metadata": {},
     "outputs": [
      {
       "output_type": "pyout",
       "prompt_number": 35,
       "text": [
        "<matplotlib.image.AxesImage at 0x105c2a7d0>"
       ]
      },
      {
       "output_type": "display_data",
       "png": "[encoded data removed]"
      }
     ],
     "prompt_number": 35
    }
   ],
   "metadata": {}
  }
 ]
}