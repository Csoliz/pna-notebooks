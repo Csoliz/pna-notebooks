{
 "metadata": {
  "name": "what_is_an_image"
 },
 "nbformat": 3,
 "nbformat_minor": 0,
 "worksheets": [
  {
   "cells": [
    {
     "cell_type": "markdown",
     "metadata": {},
     "source": [
      "What is an image?"
     ]
    },
    {
     "cell_type": "markdown",
     "metadata": {},
     "source": [
      "We get an image from our example dataset : http://practical-neuroimaging.github.com/example_data.html\n",
      "\n",
      "We'll use the single anatomical image example in our web space."
     ]
    },
    {
     "cell_type": "code",
     "collapsed": false,
     "input": [
      "import urllib2 # library to get URLs"
     ],
     "language": "python",
     "metadata": {},
     "outputs": [],
     "prompt_number": 1
    },
    {
     "cell_type": "code",
     "collapsed": false,
     "input": [
      "fileobj = urllib2.urlopen('http://nipy.bic.berkeley.edu/practical_neuroimaging/ds107_sub001_highres.nii.gz')\n",
      "data = fileobj.read()\n",
      "local_fileobj = open('highres.nii.gz', 'wb')\n",
      "local_fileobj.write(data)\n",
      "local_fileobj.close()"
     ],
     "language": "python",
     "metadata": {},
     "outputs": [],
     "prompt_number": 2
    },
    {
     "cell_type": "markdown",
     "metadata": {},
     "source": [
      "We now have the file downloaded locally"
     ]
    },
    {
     "cell_type": "code",
     "collapsed": false,
     "input": [
      "import glob\n",
      "glob.glob('*.nii.gz')"
     ],
     "language": "python",
     "metadata": {},
     "outputs": [
      {
       "output_type": "pyout",
       "prompt_number": 3,
       "text": [
        "['highres.nii.gz']"
       ]
      }
     ],
     "prompt_number": 3
    },
    {
     "cell_type": "markdown",
     "metadata": {},
     "source": [
      "It's got a ``gz`` extension. Looks like it is gzipped. Hmm."
     ]
    },
    {
     "cell_type": "code",
     "collapsed": false,
     "input": [
      "import gzip\n",
      "gzfobj = gzip.open('highres.nii.gz', 'rb')"
     ],
     "language": "python",
     "metadata": {},
     "outputs": [],
     "prompt_number": 4
    },
    {
     "cell_type": "markdown",
     "metadata": {},
     "source": [
      "What type of thing is this?"
     ]
    },
    {
     "cell_type": "code",
     "collapsed": false,
     "input": [
      "gzfobj?"
     ],
     "language": "python",
     "metadata": {},
     "outputs": [],
     "prompt_number": 5
    },
    {
     "cell_type": "markdown",
     "metadata": {},
     "source": [
      "Let's read in all the data"
     ]
    },
    {
     "cell_type": "code",
     "collapsed": false,
     "input": [
      "img_data = gzfobj.read()\n",
      "gzfobj.close()"
     ],
     "language": "python",
     "metadata": {},
     "outputs": [],
     "prompt_number": 6
    },
    {
     "cell_type": "markdown",
     "metadata": {},
     "source": [
      "What do we have now?"
     ]
    },
    {
     "cell_type": "code",
     "collapsed": false,
     "input": [
      "type(img_data)"
     ],
     "language": "python",
     "metadata": {},
     "outputs": [
      {
       "output_type": "pyout",
       "prompt_number": 7,
       "text": [
        "str"
       ]
      }
     ],
     "prompt_number": 7
    },
    {
     "cell_type": "code",
     "collapsed": false,
     "input": [
      "len(img_data)"
     ],
     "language": "python",
     "metadata": {},
     "outputs": [
      {
       "output_type": "pyout",
       "prompt_number": 8,
       "text": [
        "25166176"
       ]
      }
     ],
     "prompt_number": 8
    },
    {
     "cell_type": "markdown",
     "metadata": {},
     "source": [
      "What is in here?   I do a Google search for \"Nifti header\". The second hit takes me to this page: http://nifti.nimh.nih.gov/nifti-1/documentation/nifti1fields.\n",
      "\n",
      "It reveals that that first bytes should be an integer value 348.  How do I get these values into Python?"
     ]
    },
    {
     "cell_type": "code",
     "collapsed": false,
     "input": [
      "import struct\n",
      "struct.unpack('<h', img_data[:2])"
     ],
     "language": "python",
     "metadata": {},
     "outputs": [
      {
       "output_type": "pyout",
       "prompt_number": 9,
       "text": [
        "(348,)"
       ]
      }
     ],
     "prompt_number": 9
    },
    {
     "cell_type": "markdown",
     "metadata": {},
     "source": [
      "Nice.  Now, what else do we need to know?  The shape of the data:"
     ]
    },
    {
     "cell_type": "code",
     "collapsed": false,
     "input": [
      "struct.unpack('hhhhhhhh', img_data[40:56])"
     ],
     "language": "python",
     "metadata": {},
     "outputs": [
      {
       "output_type": "pyout",
       "prompt_number": 10,
       "text": [
        "(3, 256, 256, 192, 1, 1, 1, 1)"
       ]
      }
     ],
     "prompt_number": 10
    },
    {
     "cell_type": "markdown",
     "metadata": {},
     "source": [
      "OK - looks like it's 256 by 256 by 192.  What's the data type?"
     ]
    },
    {
     "cell_type": "code",
     "collapsed": false,
     "input": [
      "struct.unpack('<h', img_data[70:72])"
     ],
     "language": "python",
     "metadata": {},
     "outputs": [
      {
       "output_type": "pyout",
       "prompt_number": 11,
       "text": [
        "(4,)"
       ]
      }
     ],
     "prompt_number": 11
    },
    {
     "cell_type": "markdown",
     "metadata": {},
     "source": [
      "Looking at : http://nifti.nimh.nih.gov/nifti-1/documentation/nifti1fields/nifti1fields_pages/datatype.html - this seems to mean 16 bit signed integer.  Where does the image data start in this file?"
     ]
    },
    {
     "cell_type": "code",
     "collapsed": false,
     "input": [
      "struct.unpack('<h', img_data[108:110])"
     ],
     "language": "python",
     "metadata": {},
     "outputs": [
      {
       "output_type": "pyout",
       "prompt_number": 12,
       "text": [
        "(0,)"
       ]
      }
     ],
     "prompt_number": 12
    },
    {
     "cell_type": "markdown",
     "metadata": {},
     "source": [
      "Oops, that's wrong, it must be at least 352.  Looks like a header error.\n",
      "\n",
      "So the data is here:"
     ]
    },
    {
     "cell_type": "code",
     "collapsed": false,
     "input": [
      "fmt_str = 'h' * (256 * 256 * 192)\n",
      "img_values = struct.unpack(fmt_str, img_data[352:])"
     ],
     "language": "python",
     "metadata": {},
     "outputs": [],
     "prompt_number": 13
    },
    {
     "cell_type": "code",
     "collapsed": false,
     "input": [
      "len(img_values)"
     ],
     "language": "python",
     "metadata": {},
     "outputs": [
      {
       "output_type": "pyout",
       "prompt_number": 14,
       "text": [
        "12582912"
       ]
      }
     ],
     "prompt_number": 14
    },
    {
     "cell_type": "code",
     "collapsed": false,
     "input": [
      "sum(img_values) / float(len(img_values))"
     ],
     "language": "python",
     "metadata": {},
     "outputs": [
      {
       "output_type": "pyout",
       "prompt_number": 15,
       "text": [
        "32.011690696080528"
       ]
      }
     ],
     "prompt_number": 15
    },
    {
     "cell_type": "markdown",
     "metadata": {},
     "source": [
      "Let's check that with the proper library for this:"
     ]
    },
    {
     "cell_type": "code",
     "collapsed": false,
     "input": [
      "import nibabel as nib\n",
      "img = nib.load('highres.nii.gz')\n",
      "img.get_data().mean()"
     ],
     "language": "python",
     "metadata": {},
     "outputs": [
      {
       "output_type": "pyout",
       "prompt_number": 16,
       "text": [
        "32.011690696080528"
       ]
      }
     ],
     "prompt_number": 16
    }
   ],
   "metadata": {}
  }
 ]
}