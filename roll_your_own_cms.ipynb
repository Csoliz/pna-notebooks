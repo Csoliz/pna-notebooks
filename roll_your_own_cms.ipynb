{
 "metadata": {
  "name": "roll_your_own_cms"
 },
 "nbformat": 3,
 "nbformat_minor": 0,
 "worksheets": [
  {
   "cells": [
    {
     "cell_type": "markdown",
     "metadata": {},
     "source": [
      "``git`` is not really a \"Version Control System\".  It is better described as a \"Content Management System\", that turns out to be really good for version control.\n",
      "\n",
      "In this notebook we work through some of the situations where you want something to manage content, and therefore, what a content management system should do.  Then, hey presto, it turns out that ``git`` does this already.\n",
      "\n",
      "The general idea of this notebook comes from the [git parable](http://tom.preston-werner.com/2009/05/19/the-git-parable.html). The [git foundations](http://matthew-brett.github.com/pydagogue/foundation.html) page extends the same idea."
     ]
    },
    {
     "cell_type": "heading",
     "level": 2,
     "metadata": {},
     "source": [
      "The situation you're in"
     ]
    },
    {
     "cell_type": "markdown",
     "metadata": {},
     "source": [
      "Let's say you are writing a breakthrough paper showing that you can explain the brain using random numbers.  You've got the draft paper, and the analysis script and a figure for the paper.  These are all in the modestly-named ``nobel_prize`` directory.\n",
      "\n",
      "We'll mock up this situation with some pretend files.  First the directory:"
     ]
    },
    {
     "cell_type": "code",
     "collapsed": false,
     "input": [
      "import os # This is some housekeeping in case we get out of order\n",
      "if os.getcwd().endswith('nobel_prize'): os.chdir('..')"
     ],
     "language": "python",
     "metadata": {},
     "outputs": [],
     "prompt_number": 1
    },
    {
     "cell_type": "code",
     "collapsed": false,
     "input": [
      "import os # Module to interact with operating system\n",
      "import shutil # A module for some shell-related tasks\n",
      "# Make the directory for the paper\n",
      "if os.path.isdir('nobel_prize'):\n",
      "    shutil.rmtree('nobel_prize')\n",
      "os.mkdir('nobel_prize')\n",
      "# We change into this directory\n",
      "os.chdir('nobel_prize')\n",
      "print(os.getcwd())\n",
      "# The directory should be empty at this point\n",
      "print(os.listdir('.'))\n"
     ],
     "language": "python",
     "metadata": {},
     "outputs": [
      {
       "output_type": "stream",
       "stream": "stdout",
       "text": [
        "/Users/mb312/tmp/go_daffy/nobel_prize\n",
        "[]\n"
       ]
      }
     ],
     "prompt_number": 2
    },
    {
     "cell_type": "markdown",
     "metadata": {},
     "source": [
      "Now we make the paper, the analysis script, and the saved figure (by running the analysis script)"
     ]
    },
    {
     "cell_type": "code",
     "collapsed": false,
     "input": [
      "%%file nobel_prize_paper.txt\n",
      "The brain is just a set of random numbers\n",
      "=========================================\n",
      "\n",
      "We have discovered that the brain is a set of random numbers.\n",
      "\n",
      "We have charts and graphs to back us up."
     ],
     "language": "python",
     "metadata": {},
     "outputs": [
      {
       "output_type": "stream",
       "stream": "stdout",
       "text": [
        "Writing nobel_prize_paper.txt\n"
       ]
      }
     ],
     "prompt_number": 3
    },
    {
     "cell_type": "code",
     "collapsed": false,
     "input": [
      "%%file nobel_prize_script.py\n",
      "# The brain analysis script\n",
      "import numpy as np\n",
      "import scipy.ndimage as spnd\n",
      "\n",
      "# Make brain data\n",
      "brain_size = (128, 128)\n",
      "random_data = np.random.normal(size=brain_size)\n",
      "brain_data = spnd.gaussian_filter(random_data, 8)\n",
      "\n",
      "# Save the brain data to disk in numpy format\n",
      "np.save('brain_data.npy', brain_data)"
     ],
     "language": "python",
     "metadata": {},
     "outputs": [
      {
       "output_type": "stream",
       "stream": "stdout",
       "text": [
        "Writing nobel_prize_script.py\n"
       ]
      }
     ],
     "prompt_number": 4
    },
    {
     "cell_type": "code",
     "collapsed": false,
     "input": [
      "# Now we write the figure\n",
      "# Run the script to get the brain data\n",
      "%run nobel_prize_script.py\n",
      "brain_data = np.load('brain_data.npy')\n",
      "# Plot it and save it\n",
      "%pylab inline\n",
      "plt.imshow(brain_data, cmap='gray')\n",
      "plt.savefig('brain_revealed.png')"
     ],
     "language": "python",
     "metadata": {},
     "outputs": [
      {
       "output_type": "stream",
       "stream": "stdout",
       "text": [
        "\n",
        "Welcome to pylab, a matplotlib-based Python environment [backend: module://IPython.zmq.pylab.backend_inline].\n",
        "For more information, type 'help(pylab)'.\n"
       ]
      },
      {
       "output_type": "display_data",
       "png": "[encoded data removed]",
       "text": [
        "<matplotlib.figure.Figure at 0x1027795d0>"
       ]
      }
     ],
     "prompt_number": 5
    },
    {
     "cell_type": "markdown",
     "metadata": {},
     "source": [
      "What do we have now?"
     ]
    },
    {
     "cell_type": "code",
     "collapsed": false,
     "input": [
      "os.listdir('.')"
     ],
     "language": "python",
     "metadata": {},
     "outputs": [
      {
       "output_type": "pyout",
       "prompt_number": 6,
       "text": [
        "['brain_data.npy',\n",
        " 'brain_revealed.png',\n",
        " 'nobel_prize_paper.txt',\n",
        " 'nobel_prize_script.py']"
       ]
      }
     ],
     "prompt_number": 6
    },
    {
     "cell_type": "heading",
     "level": 2,
     "metadata": {},
     "source": [
      "Situation 0: Why did my results change?"
     ]
    },
    {
     "cell_type": "markdown",
     "metadata": {},
     "source": [
      "Let's say you've been working on this paper for a while.\n",
      "\n",
      "About 2 months ago, you were very excited with the results.  You ran the script, made the figure, and went to your advisor, Josephine.  She was excited too.  The figure looks good!  You get ready to publish in Science.\n",
      "\n",
      "Today you finished cleaning up for the Science paper, and reran the analysis, and it doesn't look that good anymore.  You go to see Josephine.  She says \"It used to look better than that\".  That what you think too.  But did it really?  And if it did, why does it look different now?\n",
      "\n",
      "This is why you need regular backups.  So, to make sure you can always answer this question, at the end of every day, you copy all the files into a backup directory, so you have one backup directory for every day.  Something like this:"
     ]
    },
    {
     "cell_type": "code",
     "collapsed": false,
     "input": [
      "!mkdir .my_cms\n",
      "!mkdir .my_cms/1\n",
      "!cp * .my_cms/1\n",
      "!tree -a"
     ],
     "language": "python",
     "metadata": {},
     "outputs": [
      {
       "output_type": "stream",
       "stream": "stdout",
       "text": [
        "mkdir: .my_cms: File exists\r\n"
       ]
      },
      {
       "output_type": "stream",
       "stream": "stdout",
       "text": [
        "mkdir: .my_cms/1: File exists\r\n"
       ]
      },
      {
       "output_type": "stream",
       "stream": "stdout",
       "text": [
        ".\r\n",
        "\u251c\u2500\u2500 .my_cms\r\n",
        "\u2502\u00a0\u00a0 \u2514\u2500\u2500 1\r\n",
        "\u2502\u00a0\u00a0     \u251c\u2500\u2500 brain_data.npy\r\n",
        "\u2502\u00a0\u00a0     \u251c\u2500\u2500 brain_revealed.png\r\n",
        "\u2502\u00a0\u00a0     \u251c\u2500\u2500 nobel_prize_paper.txt\r\n",
        "\u2502\u00a0\u00a0     \u2514\u2500\u2500 nobel_prize_script.py\r\n",
        "\u251c\u2500\u2500 brain_data.npy\r\n",
        "\u251c\u2500\u2500 brain_revealed.png\r\n",
        "\u251c\u2500\u2500 nobel_prize_paper.txt\r\n",
        "\u2514\u2500\u2500 nobel_prize_script.py\r\n",
        "\r\n",
        "2 directories, 8 files\r\n"
       ]
      }
     ],
     "prompt_number": 12
    },
    {
     "cell_type": "markdown",
     "metadata": {},
     "source": [
      "We are using the ``tree`` command - see (for example) [installing tree](http://shaunchapman.me/post/329270449/how-to-install-the-tree-command-on-mac-os-x)"
     ]
    },
    {
     "cell_type": "markdown",
     "metadata": {},
     "source": [
      "On the next day you messed around with the script a bit.  Then you repeat the procedure:"
     ]
    },
    {
     "cell_type": "code",
     "collapsed": false,
     "input": [
      "!mkdir .my_cms/2\n",
      "!cp * .my_cms/2\n",
      "!tree -a"
     ],
     "language": "python",
     "metadata": {},
     "outputs": [
      {
       "output_type": "stream",
       "stream": "stdout",
       "text": [
        ".\r\n",
        "\u251c\u2500\u2500 .my_cms\r\n",
        "\u2502\u00a0\u00a0 \u251c\u2500\u2500 1\r\n",
        "\u2502\u00a0\u00a0 \u2502\u00a0\u00a0 \u251c\u2500\u2500 brain_data.npy\r\n",
        "\u2502\u00a0\u00a0 \u2502\u00a0\u00a0 \u251c\u2500\u2500 brain_revealed.png\r\n",
        "\u2502\u00a0\u00a0 \u2502\u00a0\u00a0 \u251c\u2500\u2500 nobel_prize_paper.txt\r\n",
        "\u2502\u00a0\u00a0 \u2502\u00a0\u00a0 \u2514\u2500\u2500 nobel_prize_script.py\r\n",
        "\u2502\u00a0\u00a0 \u2514\u2500\u2500 2\r\n",
        "\u2502\u00a0\u00a0     \u251c\u2500\u2500 brain_data.npy\r\n",
        "\u2502\u00a0\u00a0     \u251c\u2500\u2500 brain_revealed.png\r\n",
        "\u2502\u00a0\u00a0     \u251c\u2500\u2500 nobel_prize_paper.txt\r\n",
        "\u2502\u00a0\u00a0     \u2514\u2500\u2500 nobel_prize_script.py\r\n",
        "\u251c\u2500\u2500 brain_data.npy\r\n",
        "\u251c\u2500\u2500 brain_revealed.png\r\n",
        "\u251c\u2500\u2500 nobel_prize_paper.txt\r\n",
        "\u2514\u2500\u2500 nobel_prize_script.py\r\n",
        "\r\n",
        "3 directories, 12 files\r\n"
       ]
      }
     ],
     "prompt_number": 13
    },
    {
     "cell_type": "markdown",
     "metadata": {},
     "source": [
      "If you keep doing this, then when you get to Josephine's office, and she says \"are the figures different from two weeks ago\", you can look in ``.my_cms/1/brain_revealed.png`` and see if they are different or not.  You can compare ``.my_cms/14/nobel_prize_script.py`` to all previous versions back to ``.my_cms/1/nobel_prize_script.py`` to see why the figure might have changed.  Sorted."
     ]
    },
    {
     "cell_type": "heading",
     "level": 2,
     "metadata": {},
     "source": [
      "Situation 1: what has my advisor done to my paper?"
     ]
    },
    {
     "cell_type": "markdown",
     "metadata": {},
     "source": [
      "Now Josephine is just as excited as you are about the new results.  She has had some thoughts.  You send her the files on Monday.  She does some work.  She gives you pack the edits on Thursday.  But meanwhile you've done some edits too.\n",
      "\n",
      "You obviously want to have a look to see what changes she did.  You could directly compare your own files now, with her files.  But that would show you two things\n",
      "\n",
      "* The changes she made between Monday and Thursday\n",
      "* The changes you made between Monday and Thursday\n",
      "\n",
      "If you've both done a lot of edits, that could be confusing.  What to do?"
     ]
    },
    {
     "cell_type": "markdown",
     "metadata": {},
     "source": [
      "Obviously you want to compare her changes to the backup you made from Monday.  Then you will just see the changes Josephine made between Monday and Thursday."
     ]
    },
    {
     "cell_type": "markdown",
     "metadata": {},
     "source": [
      "Imagine now that you have Josephine the files more than a week ago.  In fact you've forgetten exactly when you gave her the files.  Now it becomes annoying to work out which backup to compare to.  But - oh well."
     ]
    },
    {
     "cell_type": "markdown",
     "metadata": {},
     "source": [
      "Now imagine that Josephine has been so impressed with your backup system, that she's decided to do the same herself.  That is, every day, she does this:"
     ]
    },
    {
     "cell_type": "code",
     "collapsed": false,
     "input": [
      "!mkdir .my_cms/15\n",
      "!cp * .my_cms/15"
     ],
     "language": "python",
     "metadata": {},
     "outputs": [],
     "prompt_number": 14
    },
    {
     "cell_type": "markdown",
     "metadata": {},
     "source": [
      "Obviously you've been doing the same thing.  But Josephine can't give you all her backups because the names will clash.  You've probably got a ``15`` and a ``16`` and so on.  "
     ]
    }
   ],
   "metadata": {}
  }
 ]
}