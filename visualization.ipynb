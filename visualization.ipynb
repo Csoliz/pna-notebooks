{
 "metadata": {
  "gist_id": "5223401",
  "name": "visualization"
 },
 "nbformat": 3,
 "nbformat_minor": 0,
 "worksheets": [
  {
   "cells": [
    {
     "cell_type": "code",
     "collapsed": false,
     "input": [
      "#this is just for -pi %load_ext gist"
     ],
     "language": "python",
     "metadata": {},
     "outputs": [
      {
       "javascript": [
        "\n",
        "\n",
        "/*\n",
        "Add the contents of this file to your custom.js\n",
        "for it to always be on.\n",
        "*/\n",
        "\n",
        "\n",
        "IPython.ext_update_gist_link = function(gist_id) {\n",
        "    \n",
        "    IPython.notebook.metadata.gist_id = gist_id;\n",
        "    var toolbar = IPython.toolbar.element;\n",
        "    var link = toolbar.find(\"a#nbviewer\");\n",
        "    if ( ! link.length ) {\n",
        "        link = $('<a id=\"nbviewer\" target=\"_blank\"/>');\n",
        "        toolbar.append(\n",
        "            $('<span id=\"nbviewer_span\"/>').append(link)\n",
        "        );\n",
        "    }\n",
        "    \n",
        "    link.attr(\"href\", \"http://nbviewer.ipython.org/\" + gist_id);\n",
        "    link.text(\"http://nbviewer.ipython.org/\" + gist_id);\n",
        "};\n",
        "\n",
        "IPython.ext_handle_gist_output = function(output_type, content) {\n",
        "    if (output_type != 'stream' || content['name'] != 'stdout') {\n",
        "        return;\n",
        "    }\n",
        "    var gist_id = jQuery.trim(content['data']);\n",
        "    if (! gist_id.match(/[A-Za-z0-9]+/g)) {\n",
        "        alert(\"Gist seems to have failed: \" + gist_id);\n",
        "        return;\n",
        "    }\n",
        "    IPython.ext_update_gist_link(gist_id);\n",
        "};\n",
        "\n",
        "IPython.ext_gist_notebook = function () {\n",
        "    var gist_id = IPython.notebook.metadata.gist_id || null;\n",
        "    var cmd = '_nbname = \"' + IPython.notebook.notebook_name + '.ipynb\"';\n",
        "    cmd = cmd + '\\nlines = !jist -p'\n",
        "    if (gist_id) {\n",
        "        cmd = cmd + ' -u ' + gist_id;\n",
        "    }\n",
        "    cmd = cmd + ' \"$_nbname\"';\n",
        "    cmd = cmd + '\\nprint lines[0].replace(\"https://gist.github.com\", \"\").replace(\"/\",\"\")';\n",
        "    IPython.notebook.kernel.execute(cmd, {'output' : IPython.ext_handle_gist_output});\n",
        "};\n",
        "\n",
        "setTimeout(function() {\n",
        "    if ($(\"#gist_notebook\").length == 0) {\n",
        "        IPython.toolbar.add_buttons_group([\n",
        "            {\n",
        "                'label'   : 'Share Notebook as gist',\n",
        "                'icon'    : 'ui-icon-share',\n",
        "                'callback': IPython.ext_gist_notebook,\n",
        "                'id'      : 'gist_notebook'\n",
        "            },\n",
        "        ])\n",
        "    }\n",
        "\n",
        "    if (IPython.notebook.metadata.gist_id) {\n",
        "        IPython.ext_update_gist_link(IPython.notebook.metadata.gist_id);\n",
        "    }\n",
        "}, 1000);\n",
        "\n"
       ],
       "output_type": "display_data",
       "text": [
        "<IPython.core.display.Javascript at 0x3888f90>"
       ]
      }
     ],
     "prompt_number": 2
    },
    {
     "cell_type": "markdown",
     "metadata": {},
     "source": [
      "Visualization\n",
      "=============="
     ]
    },
    {
     "cell_type": "markdown",
     "metadata": {},
     "source": [
      "Basic Plotting\n",
      "--------------\n"
     ]
    },
    {
     "cell_type": "code",
     "collapsed": false,
     "input": [
      "%pylab inline"
     ],
     "language": "python",
     "metadata": {},
     "outputs": [
      {
       "output_type": "stream",
       "stream": "stdout",
       "text": [
        "\n",
        "Welcome to pylab, a matplotlib-based Python environment [backend: module://IPython.kernel.zmq.pylab.backend_inline].\n",
        "For more information, type 'help(pylab)'.\n"
       ]
      }
     ],
     "prompt_number": 4
    },
    {
     "cell_type": "code",
     "collapsed": false,
     "input": [
      "import matplotlib"
     ],
     "language": "python",
     "metadata": {},
     "outputs": [],
     "prompt_number": 8
    },
    {
     "cell_type": "code",
     "collapsed": false,
     "input": [
      "import matplotlib.pyplot as plt"
     ],
     "language": "python",
     "metadata": {},
     "outputs": [],
     "prompt_number": 9
    },
    {
     "cell_type": "markdown",
     "metadata": {},
     "source": [
      "http://matplotlib.org/gallery.html"
     ]
    },
    {
     "cell_type": "code",
     "collapsed": false,
     "input": [
      "plt"
     ],
     "language": "python",
     "metadata": {},
     "outputs": [
      {
       "output_type": "pyout",
       "prompt_number": 6,
       "text": [
        "<module 'matplotlib.pyplot' from '/home/pi/.local/lib/python2.7/site-packages/matplotlib-1.3.x-py2.7-linux-x86_64.egg/matplotlib/pyplot.pyc'>"
       ]
      }
     ],
     "prompt_number": 6
    },
    {
     "cell_type": "code",
     "collapsed": false,
     "input": [
      "%load http://matplotlib.org/mpl_examples/api/histogram_demo.py"
     ],
     "language": "python",
     "metadata": {},
     "outputs": [],
     "prompt_number": 7
    },
    {
     "cell_type": "code",
     "collapsed": false,
     "input": [
      "x, y = np.arange(10), np.sin(np.arange(10))"
     ],
     "language": "python",
     "metadata": {},
     "outputs": [],
     "prompt_number": 19
    },
    {
     "cell_type": "code",
     "collapsed": false,
     "input": [
      "plt.plot(x, y, 'ro')"
     ],
     "language": "python",
     "metadata": {},
     "outputs": [
      {
       "output_type": "pyout",
       "prompt_number": 20,
       "text": [
        "[<matplotlib.lines.Line2D at 0x5971c90>]"
       ]
      },
      {
       "output_type": "display_data",
       "png": "[encoded data removed]",
       "text": [
        "<matplotlib.figure.Figure at 0x4cd1c90>"
       ]
      }
     ],
     "prompt_number": 20
    },
    {
     "cell_type": "code",
     "collapsed": false,
     "input": [
      "plt.scatter(x, y, s=np.cos(x)*100, c=)"
     ],
     "language": "python",
     "metadata": {},
     "outputs": [
      {
       "output_type": "pyout",
       "prompt_number": 27,
       "text": [
        "<matplotlib.collections.PathCollection at 0x6223490>"
       ]
      },
      {
       "output_type": "display_data",
       "png": "[encoded data removed]",
       "text": [
        "<matplotlib.figure.Figure at 0x5ac8c10>"
       ]
      }
     ],
     "prompt_number": 27
    },
    {
     "cell_type": "code",
     "collapsed": false,
     "input": [
      "p = patches[0]\n",
      "p.get_facecolor()"
     ],
     "language": "python",
     "metadata": {},
     "outputs": [
      {
       "output_type": "pyout",
       "prompt_number": 38,
       "text": [
        "(0.0, 0.0, 1.0, 1.0)"
       ]
      }
     ],
     "prompt_number": 38
    },
    {
     "cell_type": "code",
     "collapsed": false,
     "input": [
      "p.set_facecolor('g')"
     ],
     "language": "python",
     "metadata": {},
     "outputs": [],
     "prompt_number": 39
    },
    {
     "cell_type": "code",
     "collapsed": false,
     "input": [
      "counts, locs, patches = plt.hist(np.random.randn(5000), bins=100)\n",
      "\n",
      "for x in range(25, 75):\n",
      "    p = patches[x]\n",
      "    p.set_facecolor('g')"
     ],
     "language": "python",
     "metadata": {},
     "outputs": [
      {
       "output_type": "display_data",
       "png": "[encoded data removed]",
       "text": [
        "<matplotlib.figure.Figure at 0x72da8d0>"
       ]
      }
     ],
     "prompt_number": 40
    },
    {
     "cell_type": "code",
     "collapsed": false,
     "input": [
      "p"
     ],
     "language": "python",
     "metadata": {},
     "outputs": [
      {
       "output_type": "pyout",
       "prompt_number": 42,
       "text": [
        "<matplotlib.patches.Rectangle at 0x7abcd90>"
       ]
      }
     ],
     "prompt_number": 42
    },
    {
     "cell_type": "markdown",
     "metadata": {},
     "source": [
      "R, G, B, A"
     ]
    },
    {
     "cell_type": "markdown",
     "metadata": {},
     "source": [
      "Paging through data\n",
      "--------"
     ]
    },
    {
     "cell_type": "markdown",
     "metadata": {},
     "source": [
      "This example shows us how to make changes to a plot based on keyboard input. This does not work if our matplotlib backend is set to inline, since that just generates static images. Set the backend to an interactive one (qt, tk, wx, or macosx)"
     ]
    },
    {
     "cell_type": "code",
     "collapsed": false,
     "input": [
      "%pylab qt"
     ],
     "language": "python",
     "metadata": {},
     "outputs": [
      {
       "output_type": "stream",
       "stream": "stdout",
       "text": [
        "\n",
        "Welcome to pylab, a matplotlib-based Python environment [backend: Qt4Agg].\n",
        "For more information, type 'help(pylab)'.\n"
       ]
      }
     ],
     "prompt_number": 1
    },
    {
     "cell_type": "code",
     "collapsed": false,
     "input": [
      "%load http://matplotlib.sourceforge.net/examples/event_handling/keypress_demo.py"
     ],
     "language": "python",
     "metadata": {},
     "outputs": [],
     "prompt_number": 2
    },
    {
     "cell_type": "code",
     "collapsed": false,
     "input": [
      "#!/usr/bin/env python\n",
      "\n",
      "\"\"\"\n",
      "Show how to connect to keypress events\n",
      "\"\"\"\n",
      "from __future__ import print_function\n",
      "import numpy as np\n",
      "import matplotlib.pyplot as plt\n",
      "import sys\n",
      "\n",
      "\n",
      "def press(event):\n",
      "    print('press', event.key)\n",
      "    sys.stdout.flush()\n",
      "    if event.key=='x':\n",
      "        visible = xl.get_visible()\n",
      "        xl.set_visible(not visible)\n",
      "        fig.canvas.draw()\n",
      "\n",
      "fig = plt.figure()\n",
      "ax = fig.add_subplot(111)\n",
      "\n",
      "fig.canvas.mpl_connect('key_press_event', press)\n",
      "\n",
      "ax.plot(np.random.rand(12), np.random.rand(12), 'go')\n",
      "xl = ax.set_xlabel('easy come, easy go')\n",
      "\n",
      "plt.show()\n"
     ],
     "language": "python",
     "metadata": {},
     "outputs": [
      {
       "output_type": "stream",
       "stream": "stdout",
       "text": [
        " x\n"
       ]
      },
      {
       "output_type": "stream",
       "stream": "stdout",
       "text": [
        "press alt\n",
        "press"
       ]
      },
      {
       "output_type": "stream",
       "stream": "stdout",
       "text": [
        " alt\n"
       ]
      },
      {
       "output_type": "stream",
       "stream": "stdout",
       "text": [
        "press a\n"
       ]
      },
      {
       "output_type": "stream",
       "stream": "stdout",
       "text": [
        "press a\n"
       ]
      },
      {
       "output_type": "stream",
       "stream": "stdout",
       "text": [
        "press a\n"
       ]
      },
      {
       "output_type": "stream",
       "stream": "stdout",
       "text": [
        "press a\n"
       ]
      },
      {
       "output_type": "stream",
       "stream": "stdout",
       "text": [
        "press a\n"
       ]
      },
      {
       "output_type": "stream",
       "stream": "stdout",
       "text": [
        "press b\n"
       ]
      },
      {
       "output_type": "stream",
       "stream": "stdout",
       "text": [
        "press b\n"
       ]
      },
      {
       "output_type": "stream",
       "stream": "stdout",
       "text": [
        "press p\n"
       ]
      },
      {
       "output_type": "stream",
       "stream": "stdout",
       "text": [
        "press p\n"
       ]
      },
      {
       "output_type": "stream",
       "stream": "stdout",
       "text": [
        "press x\n"
       ]
      },
      {
       "output_type": "stream",
       "stream": "stdout",
       "text": [
        "press x\n"
       ]
      },
      {
       "output_type": "stream",
       "stream": "stdout",
       "text": [
        "press x\n"
       ]
      },
      {
       "output_type": "stream",
       "stream": "stdout",
       "text": [
        "press x\n"
       ]
      },
      {
       "output_type": "stream",
       "stream": "stdout",
       "text": [
        "press alt\n"
       ]
      }
     ],
     "prompt_number": 4
    },
    {
     "cell_type": "markdown",
     "metadata": {},
     "source": [
      "Now modify the example above to pan left and right the width of the current view using `,` and `.` keys"
     ]
    },
    {
     "cell_type": "code",
     "collapsed": false,
     "input": [
      "plt.plot(np.sin(np.arange(100)))"
     ],
     "language": "python",
     "metadata": {},
     "outputs": [
      {
       "output_type": "pyout",
       "prompt_number": 5,
       "text": [
        "[<matplotlib.lines.Line2D at 0x3dc0d10>]"
       ]
      }
     ],
     "prompt_number": 5
    },
    {
     "cell_type": "code",
     "collapsed": false,
     "input": [
      "%load http://matplotlib.sourceforge.net/examples/event_handling/keypress_demo.py"
     ],
     "language": "python",
     "metadata": {},
     "outputs": [],
     "prompt_number": 6
    },
    {
     "cell_type": "code",
     "collapsed": false,
     "input": [
      "ax = plt.gca()"
     ],
     "language": "python",
     "metadata": {},
     "outputs": [],
     "prompt_number": 7
    },
    {
     "cell_type": "code",
     "collapsed": false,
     "input": [
      "ax.get_xlim()"
     ],
     "language": "python",
     "metadata": {},
     "outputs": [
      {
       "output_type": "pyout",
       "prompt_number": 8,
       "text": [
        "(7.5219586089047414, 12.161979327136788)"
       ]
      }
     ],
     "prompt_number": 8
    },
    {
     "cell_type": "code",
     "collapsed": false,
     "input": [
      "ax.set_xlim(7, 20)\n",
      "plt.draw()"
     ],
     "language": "python",
     "metadata": {},
     "outputs": [],
     "prompt_number": 10
    },
    {
     "cell_type": "code",
     "collapsed": false,
     "input": [
      "#!/usr/bin/env python\n",
      "\n",
      "\"\"\"\n",
      "Show how to connect to keypress events\n",
      "\"\"\"\n",
      "from __future__ import print_function\n",
      "import numpy as np\n",
      "import matplotlib.pyplot as plt\n",
      "\n",
      "\n",
      "def press(event):\n",
      "    x0, x1 = ax.get_xlim()\n",
      "    dx = x1 - x0\n",
      "    if event.key==',':\n",
      "        ax.set_xlim(x0-dx, x1-dx)\n",
      "        plt.draw()\n",
      "    if event.key=='.':\n",
      "        ax.set_xlim(x0+dx, x1+dx)\n",
      "        plt.draw()\n",
      "\n",
      "fig = plt.figure()\n",
      "ax = fig.add_subplot(111)\n",
      "\n",
      "fig.canvas.mpl_connect('key_press_event', press)\n",
      "\n",
      "ax.plot(np.sin(np.arange(100)), 'go--')\n",
      "\n",
      "\n",
      "plt.show()\n"
     ],
     "language": "python",
     "metadata": {},
     "outputs": [],
     "prompt_number": 13
    },
    {
     "cell_type": "markdown",
     "metadata": {},
     "source": [
      "3D Slicer\n",
      "---------\n",
      "\n",
      "Here's some code I (pi) wrote to do basic, interactive orthogonal slicer.\n",
      "\n",
      "We will go through the code to understand the individual parts, running the next cell will create a file called `orthoslicer.py` on your machine. If you get an error, you are using at older version of IPython where the `%%file` magic was not available"
     ]
    },
    {
     "cell_type": "code",
     "collapsed": false,
     "input": [
      "%%file orthoslicer.py\n",
      "import matplotlib\n",
      "import matplotlib.pyplot as plt\n",
      "from matplotlib.image import AxesImage\n",
      "\n",
      "import numpy as np\n",
      "\n",
      "#  assuming the following layout\n",
      "#   <--  y  -->     <--  z  -->\n",
      "# ^ +---------+   ^ +---------+\n",
      "# | |         |   | |         |\n",
      "#   |         |     |         |\n",
      "# x |         |   x |         |\n",
      "#   |         |     |         |\n",
      "# | |         |   | |         |\n",
      "# v +---------+   v +---------+\n",
      "#\n",
      "#                   <--  z  -->\n",
      "#                 ^ +---------+\n",
      "#                 | |         |\n",
      "#                   |         |\n",
      "#                 y |         |\n",
      "#                   |         |\n",
      "#                 | |         |\n",
      "#                 v +---------+\n",
      "#\n",
      "\n",
      "class OrthoSlicer3D(object):\n",
      "    \"\"\"Orthogonal-plane slicer.\n",
      "\n",
      "    OrthoSlicer3d expects 3-dimensional data, and creates a figure with 3\n",
      "    axes for each slice orientation. Moving the mouse in any one axes will\n",
      "    select out the corresponding slices in the other two. Clicking the right\n",
      "    mouse button toggles mouse following and triggers a full redraw (to update\n",
      "    the ticks, for example). Scrolling up and down moves that slice up and\n",
      "    down. \n",
      "\n",
      "    Example\n",
      "    -------\n",
      "    import numpy as np\n",
      "    a = np.sin(np.linspace(0,np.pi,20))\n",
      "    b = np.sin(np.linspace(0,np.pi*5,20))\n",
      "    data = np.outer(a,b)[..., np.newaxis]*a\n",
      "\n",
      "    OrthoSlicer3D(data)\n",
      "\n",
      "    \"\"\"\n",
      "    def __init__(self, data, axes=None, aspect_ratio=np.array((1,1,1))):\n",
      "        \"\"\"\n",
      "        Parameters\n",
      "        ----------\n",
      "        data : ndarray (3d)\n",
      "            The data that will be displaced by the slicer\n",
      "        axes : mpl.Axes (3)\n",
      "            3 axes instances for the Z, Y, and X slices, or None (default)\n",
      "        aspect_ratio : ndarray (length 3)\n",
      "            stretch factors for X,Y,Z directions (default: 1,1,1)\n",
      "        \"\"\"\n",
      "        if axes is None:\n",
      "            fig = plt.figure()\n",
      "            x,y,z = data.shape  * aspect_ratio\n",
      "\n",
      "            maxw = float(z+y)\n",
      "            maxh = float(y+x)\n",
      "            zw = y / maxw\n",
      "            zh = x / maxh\n",
      "            yw = z / maxw\n",
      "\n",
      "            ax1 = fig.add_axes((0,  1.0-zh, zw,     zh))\n",
      "            ax2 = fig.add_axes((zw, 1.0-zh, yw,     zh))\n",
      "            ax3 = fig.add_axes((zw, 0.0   , yw, 1.0-zh))\n",
      "            axes = (ax1, ax2, ax3)\n",
      "        else:\n",
      "            ax1, ax2, ax3 = axes\n",
      "\n",
      "        self.data = data\n",
      "\n",
      "        kw = dict(vmin=data.min(), vmax=data.max(), picker=True,\n",
      "                aspect='auto')\n",
      "        im1 = ax1.imshow(data[...,0], **kw)\n",
      "        im2 = ax2.imshow(data[:,0,:], **kw)\n",
      "        im3 = ax3.imshow(data[0,...], **kw)\n",
      "\n",
      "        # idx will be used to slice in to the data with the appropriate\n",
      "        # slicing scheme\n",
      "        im1.idx = im2.idx = im3.idx = 0\n",
      "\n",
      "        # set the maximum dimensions for i%dim indexing\n",
      "        im1.size = data.shape[-1]\n",
      "        im2.size = data.shape[-2]\n",
      "        im3.size = data.shape[-3]\n",
      "\n",
      "        im1.get_slice = lambda i: (slice(None), slice(None), i)\n",
      "        im2.get_slice = lambda i: (slice(None), i, slice(None))\n",
      "        im3.get_slice = lambda i: (i, slice(None), slice(None))\n",
      "\n",
      "        # setup pairwise connections between the slice dimensions\n",
      "        im1.imx = im2\n",
      "        im1.imy = im3\n",
      "        im2.imx = im1\n",
      "        im2.imy = im3\n",
      "        im3.imx = im1\n",
      "        im3.imy = im2\n",
      "\n",
      "        self.toggle_update = True\n",
      "        self.figs = set([ax.figure for ax in axes])\n",
      "        for fig in self.figs:\n",
      "            #fig.canvas.mpl_connect('pick_event', self.on_pick)\n",
      "            fig.canvas.mpl_connect('motion_notify_event', self.on_pick)\n",
      "        plt.show()\n",
      "\n",
      "\n",
      "    def on_pick(self, event):\n",
      "        # Here we do a bit of a hack to make mousemovement events fit the mold\n",
      "        # of a pick event\n",
      "        if hasattr(event,'inaxes') and event.inaxes:\n",
      "            artist = event.inaxes.images[0]\n",
      "            me = event\n",
      "            me.button = 1 if self.toggle_update else 0\n",
      "        elif hasattr(event, 'artist'):\n",
      "            artist = event.artist\n",
      "            me = event.mouseevent\n",
      "        else:\n",
      "            return\n",
      "        if isinstance(artist, AxesImage):\n",
      "            im = artist\n",
      "            ax = artist.axes\n",
      "            imx,imy = im.imx, im.imy\n",
      "            if me.button == 1: # or self.toggle_update:\n",
      "                #if me.button == 1:\n",
      "                #    self.toggle_update = not self.toggle_update\n",
      "                x,y = np.round((me.xdata, me.ydata)).astype(int)\n",
      "                imx.set_data(self.data[imx.get_slice(x)])\n",
      "                imy.set_data(self.data[imy.get_slice(y)])\n",
      "                imx.idx = x\n",
      "                imy.idx = y\n",
      "                for i in imx, imy:\n",
      "                    ax = i.axes\n",
      "                    ax.draw_artist(i)\n",
      "                    ax.figure.canvas.blit(ax.bbox)\n",
      "                return\n",
      "            if me.button == 3:\n",
      "                self.toggle_update = not self.toggle_update\n",
      "                # the axes might be in different figures, redraw all of them\n",
      "                #for fig in self.figs:\n",
      "                #    fig.canvas.draw() # redraw the ticks which don't get blitted\n",
      "                plt.draw()\n",
      "                return\n",
      "            if me.button not in ('up', 'down'):\n",
      "                return\n",
      "            if me.button == 'up':\n",
      "                im.idx += 1\n",
      "            elif me.button == 'down':\n",
      "                im.idx -= 1\n",
      "            im.idx %= im.size\n",
      "            im.set_data(self.data[im.get_slice(im.idx)])\n",
      "            ax.draw_artist(im)\n",
      "            ax.figure.canvas.blit(ax.bbox)\n",
      "\n",
      "if __name__ == '__main__':\n",
      "    import numpy as np\n",
      "    a = np.sin(np.linspace(0,np.pi,20))\n",
      "    b = np.sin(np.linspace(0,np.pi*5,20))\n",
      "    data = np.outer(a,b)[..., np.newaxis]*a\n",
      "    # all slices\n",
      "    OrthoSlicer3D(data)\n",
      "\n",
      "    # broken out into three separate figures\n",
      "    f, ax1 = plt.subplots()\n",
      "    f, ax2 = plt.subplots()\n",
      "    f, ax3 = plt.subplots()\n",
      "    OrthoSlicer3D(data, axes=(ax1, ax2, ax3))\n",
      "\n"
     ],
     "language": "python",
     "metadata": {},
     "outputs": [
      {
       "output_type": "stream",
       "stream": "stdout",
       "text": [
        "Overwriting orthoslicer.py\n"
       ]
      }
     ],
     "prompt_number": 14
    },
    {
     "cell_type": "code",
     "collapsed": false,
     "input": [
      "run orthoslicer.py"
     ],
     "language": "python",
     "metadata": {},
     "outputs": [],
     "prompt_number": 5
    }
   ],
   "metadata": {}
  }
 ]
}